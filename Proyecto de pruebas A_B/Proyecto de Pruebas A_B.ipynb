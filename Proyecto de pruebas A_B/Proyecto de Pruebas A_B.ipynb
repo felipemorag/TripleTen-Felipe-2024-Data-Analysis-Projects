{
 "cells": [
  {
   "cell_type": "markdown",
   "metadata": {},
   "source": [
    "# Descripción del ejercicio\n",
    "\n",
    "Has recibido una tarea analítica de una tienda en línea internacional. Tus predecesores no consiguieron completarla: lanzaron una prueba A/B y luego abandonaron (para iniciar una granja de sandías en Brasil). Solo dejaron las especificaciones técnicas y los resultados de las pruebas.\n",
    "\n",
    "# Descripción técnica\n",
    "\n",
    "- Nombre de la prueba: `recommender_system_test`\n",
    "- Grupos: А (control), B (nuevo embudo de pago)\n",
    "- Launch date: 2020-12-07\n",
    "- Fecha en la que dejaron de aceptar nuevos usuarios: 2020-12-21\n",
    "- Fecha de finalización: 2021-01-01\n",
    "- Audiencia: 15% de los nuevos usuarios de la región de la UE\n",
    "- Propósito de la prueba: probar cambios relacionados con la introducción de un sistema de recomendaciones mejorado\n",
    "- Resultado esperado: dentro de los 14 días posteriores a la inscripción, los usuarios mostrarán una mejor conversión en vistas de la página del producto (el evento `product_page`), instancias de agregar artículos al carrito de compras (`product_card`) y compras (`purchase`). En cada etapa del embudo `product_page → product_card → purchase`, habrá al menos un 10% de aumento.\n",
    "- Número previsto de participantes de la prueba: 6 000\n",
    "\n",
    "Descarga los datos de la prueba, comprueba si se ha realizado correctamente y analiza los resultados."
   ]
  },
  {
   "cell_type": "markdown",
   "metadata": {},
   "source": [
    "- ab_project_marketing_events_us.csv: el calendario de eventos de marketing para 2020\n",
    "    - `name`: el nombre del evento de marketing\n",
    "    - `regions`: regiones donde se llevará a cabo la campaña publicitaria\n",
    "    - `start_dt`: fecha de inicio de la campaña\n",
    "    - `finish_dt`: fecha de finalización de la campaña"
   ]
  },
  {
   "cell_type": "markdown",
   "metadata": {},
   "source": [
    "- final_ab_new_users_upd_us.csv: todos los usuarios que se registraron en la tienda en línea desde el 7 hasta el 21 de diciembre de 2020\n",
    "    - `user_id`\n",
    "    - `first_date`: fecha de inscripción\n",
    "    - `region`\n",
    "    - `device`: dispositivo utilizado para la inscripción"
   ]
  },
  {
   "cell_type": "markdown",
   "metadata": {},
   "source": [
    "- final_ab_events_upd_us.csv:\n",
    "\n",
    "    - `user_id`\n",
    "    - `event_dt`: fecha y hora del evento\n",
    "    - `event_name`: nombre del tipo de evento\n",
    "    - `details`: datos adicionales sobre el evento (por ejemplo, el pedido total en USD para los eventos `purchase`)"
   ]
  },
  {
   "cell_type": "markdown",
   "metadata": {},
   "source": [
    "- final_ab_participants_upd_us.csv:\n",
    "\n",
    "    - `user_id`\n",
    "    - `ab_test`: nombre de la prueba\n",
    "    - `group`: el grupo de prueba al que pertenecía el usuario"
   ]
  },
  {
   "cell_type": "markdown",
   "metadata": {},
   "source": [
    "# Instrucciones para completar la tarea\n",
    "\n",
    "- Describe los objetivos del estudio.\n",
    "- Explora los datos:\n",
    "    - ¿Es necesario convertir los tipos?\n",
    "    - ¿Hay valores ausentes o duplicados? Si es así, ¿cómo los caracterizarías?\n",
    "- Lleva a cabo el análisis exploratorio de datos:\n",
    "    - Estudia la conversión en las diferentes etapas del embudo.\n",
    "    - ¿El número de eventos por usuario está distribuido equitativamente entre las muestras?\n",
    "    - ¿Hay usuarios que están presentes en ambas muestras?\n",
    "    - ¿Cómo se distribuye el número de eventos entre los días?\n",
    "    - ¿Hay alguna peculiaridad en los datos que hay que tener en cuenta antes de iniciar la prueba A/B?\n",
    "- Evaluar los resultados de la prueba A/B:\n",
    "    - ¿Qué puedes decir sobre los resultados de la prueba A/B?\n",
    "    - Utiliza una prueba z para comprobar la diferencia estadística entre las proporciones\n",
    "- Describe tus conclusiones con respecto a la etapa EDA y los resultados de la prueba A/B"
   ]
  },
  {
   "cell_type": "markdown",
   "metadata": {},
   "source": [
    "1. Describir los objetivos del estudio\n",
    "Los objetivos del estudio son:\n",
    "\n",
    "- Evaluar el rendimiento de un nuevo sistema de recomendaciones mediante una prueba A/B.\n",
    "- Comparar la conversión de usuarios en dos grupos: el grupo de control (A) y el grupo con el nuevo embudo de pago (B).\n",
    "- Determinar si hay un aumento significativo en la tasa de conversión en tres eventos clave dentro de un plazo de 14 días: product_page, product_card y purchase."
   ]
  },
  {
   "cell_type": "markdown",
   "metadata": {},
   "source": [
    "## Exploración de los datos\n",
    "\n",
    "Ahora, vamos a explorar los datos para comprobar su calidad y adecuación para el análisis."
   ]
  },
  {
   "cell_type": "markdown",
   "metadata": {},
   "source": [
    "**Cargar las bibliotecas necesarias**"
   ]
  },
  {
   "cell_type": "code",
   "execution_count": 1,
   "metadata": {},
   "outputs": [],
   "source": [
    "import pandas as pd\n",
    "import matplotlib.pyplot as plt\n",
    "import numpy as np\n",
    "import seaborn as sns\n",
    "import scipy.stats as stats"
   ]
  },
  {
   "cell_type": "markdown",
   "metadata": {},
   "source": [
    "### Cargar los datos e inspeccionar las tablas"
   ]
  },
  {
   "cell_type": "markdown",
   "metadata": {},
   "source": [
    "**Tabla calendar**"
   ]
  },
  {
   "cell_type": "code",
   "execution_count": 2,
   "metadata": {},
   "outputs": [
    {
     "data": {
      "text/html": [
       "<div>\n",
       "<style scoped>\n",
       "    .dataframe tbody tr th:only-of-type {\n",
       "        vertical-align: middle;\n",
       "    }\n",
       "\n",
       "    .dataframe tbody tr th {\n",
       "        vertical-align: top;\n",
       "    }\n",
       "\n",
       "    .dataframe thead th {\n",
       "        text-align: right;\n",
       "    }\n",
       "</style>\n",
       "<table border=\"1\" class=\"dataframe\">\n",
       "  <thead>\n",
       "    <tr style=\"text-align: right;\">\n",
       "      <th></th>\n",
       "      <th>name</th>\n",
       "      <th>regions</th>\n",
       "      <th>start_dt</th>\n",
       "      <th>finish_dt</th>\n",
       "    </tr>\n",
       "  </thead>\n",
       "  <tbody>\n",
       "    <tr>\n",
       "      <th>0</th>\n",
       "      <td>Christmas&amp;New Year Promo</td>\n",
       "      <td>EU, N.America</td>\n",
       "      <td>2020-12-25</td>\n",
       "      <td>2021-01-03</td>\n",
       "    </tr>\n",
       "    <tr>\n",
       "      <th>1</th>\n",
       "      <td>St. Valentine's Day Giveaway</td>\n",
       "      <td>EU, CIS, APAC, N.America</td>\n",
       "      <td>2020-02-14</td>\n",
       "      <td>2020-02-16</td>\n",
       "    </tr>\n",
       "    <tr>\n",
       "      <th>2</th>\n",
       "      <td>St. Patric's Day Promo</td>\n",
       "      <td>EU, N.America</td>\n",
       "      <td>2020-03-17</td>\n",
       "      <td>2020-03-19</td>\n",
       "    </tr>\n",
       "    <tr>\n",
       "      <th>3</th>\n",
       "      <td>Easter Promo</td>\n",
       "      <td>EU, CIS, APAC, N.America</td>\n",
       "      <td>2020-04-12</td>\n",
       "      <td>2020-04-19</td>\n",
       "    </tr>\n",
       "    <tr>\n",
       "      <th>4</th>\n",
       "      <td>4th of July Promo</td>\n",
       "      <td>N.America</td>\n",
       "      <td>2020-07-04</td>\n",
       "      <td>2020-07-11</td>\n",
       "    </tr>\n",
       "  </tbody>\n",
       "</table>\n",
       "</div>"
      ],
      "text/plain": [
       "                           name                   regions    start_dt  \\\n",
       "0      Christmas&New Year Promo             EU, N.America  2020-12-25   \n",
       "1  St. Valentine's Day Giveaway  EU, CIS, APAC, N.America  2020-02-14   \n",
       "2        St. Patric's Day Promo             EU, N.America  2020-03-17   \n",
       "3                  Easter Promo  EU, CIS, APAC, N.America  2020-04-12   \n",
       "4             4th of July Promo                 N.America  2020-07-04   \n",
       "\n",
       "    finish_dt  \n",
       "0  2021-01-03  \n",
       "1  2020-02-16  \n",
       "2  2020-03-19  \n",
       "3  2020-04-19  \n",
       "4  2020-07-11  "
      ]
     },
     "execution_count": 2,
     "metadata": {},
     "output_type": "execute_result"
    }
   ],
   "source": [
    "calendar = pd.read_csv('/datasets/ab_project_marketing_events_us.csv', sep=',')\n",
    "\n",
    "calendar.head(5)"
   ]
  },
  {
   "cell_type": "code",
   "execution_count": 3,
   "metadata": {},
   "outputs": [
    {
     "name": "stdout",
     "output_type": "stream",
     "text": [
      "<class 'pandas.core.frame.DataFrame'>\n",
      "RangeIndex: 14 entries, 0 to 13\n",
      "Data columns (total 4 columns):\n",
      " #   Column     Non-Null Count  Dtype \n",
      "---  ------     --------------  ----- \n",
      " 0   name       14 non-null     object\n",
      " 1   regions    14 non-null     object\n",
      " 2   start_dt   14 non-null     object\n",
      " 3   finish_dt  14 non-null     object\n",
      "dtypes: object(4)\n",
      "memory usage: 576.0+ bytes\n"
     ]
    }
   ],
   "source": [
    "calendar.info()"
   ]
  },
  {
   "cell_type": "code",
   "execution_count": 4,
   "metadata": {},
   "outputs": [],
   "source": [
    "# Convertir columnas de fecha\n",
    "calendar['start_dt'] = pd.to_datetime(calendar['start_dt'])\n",
    "calendar['finish_dt'] = pd.to_datetime(calendar['finish_dt'])"
   ]
  },
  {
   "cell_type": "code",
   "execution_count": 5,
   "metadata": {},
   "outputs": [
    {
     "name": "stdout",
     "output_type": "stream",
     "text": [
      "Valores ausentes para calendar: \n",
      "name         0\n",
      "regions      0\n",
      "start_dt     0\n",
      "finish_dt    0\n",
      "dtype: int64\n"
     ]
    }
   ],
   "source": [
    "# Comprobar valores ausentes\n",
    "\n",
    "print(\"Valores ausentes para calendar: \")\n",
    "print(calendar.isnull().sum())"
   ]
  },
  {
   "cell_type": "code",
   "execution_count": 6,
   "metadata": {},
   "outputs": [
    {
     "name": "stdout",
     "output_type": "stream",
     "text": [
      "0\n"
     ]
    }
   ],
   "source": [
    "# Comprobar duplicados\n",
    "print(calendar.duplicated().sum())"
   ]
  },
  {
   "cell_type": "markdown",
   "metadata": {},
   "source": [
    "**Tabla users**"
   ]
  },
  {
   "cell_type": "code",
   "execution_count": 7,
   "metadata": {},
   "outputs": [
    {
     "data": {
      "text/html": [
       "<div>\n",
       "<style scoped>\n",
       "    .dataframe tbody tr th:only-of-type {\n",
       "        vertical-align: middle;\n",
       "    }\n",
       "\n",
       "    .dataframe tbody tr th {\n",
       "        vertical-align: top;\n",
       "    }\n",
       "\n",
       "    .dataframe thead th {\n",
       "        text-align: right;\n",
       "    }\n",
       "</style>\n",
       "<table border=\"1\" class=\"dataframe\">\n",
       "  <thead>\n",
       "    <tr style=\"text-align: right;\">\n",
       "      <th></th>\n",
       "      <th>user_id</th>\n",
       "      <th>first_date</th>\n",
       "      <th>region</th>\n",
       "      <th>device</th>\n",
       "    </tr>\n",
       "  </thead>\n",
       "  <tbody>\n",
       "    <tr>\n",
       "      <th>0</th>\n",
       "      <td>D72A72121175D8BE</td>\n",
       "      <td>2020-12-07</td>\n",
       "      <td>EU</td>\n",
       "      <td>PC</td>\n",
       "    </tr>\n",
       "    <tr>\n",
       "      <th>1</th>\n",
       "      <td>F1C668619DFE6E65</td>\n",
       "      <td>2020-12-07</td>\n",
       "      <td>N.America</td>\n",
       "      <td>Android</td>\n",
       "    </tr>\n",
       "    <tr>\n",
       "      <th>2</th>\n",
       "      <td>2E1BF1D4C37EA01F</td>\n",
       "      <td>2020-12-07</td>\n",
       "      <td>EU</td>\n",
       "      <td>PC</td>\n",
       "    </tr>\n",
       "    <tr>\n",
       "      <th>3</th>\n",
       "      <td>50734A22C0C63768</td>\n",
       "      <td>2020-12-07</td>\n",
       "      <td>EU</td>\n",
       "      <td>iPhone</td>\n",
       "    </tr>\n",
       "    <tr>\n",
       "      <th>4</th>\n",
       "      <td>E1BDDCE0DAFA2679</td>\n",
       "      <td>2020-12-07</td>\n",
       "      <td>N.America</td>\n",
       "      <td>iPhone</td>\n",
       "    </tr>\n",
       "  </tbody>\n",
       "</table>\n",
       "</div>"
      ],
      "text/plain": [
       "            user_id  first_date     region   device\n",
       "0  D72A72121175D8BE  2020-12-07         EU       PC\n",
       "1  F1C668619DFE6E65  2020-12-07  N.America  Android\n",
       "2  2E1BF1D4C37EA01F  2020-12-07         EU       PC\n",
       "3  50734A22C0C63768  2020-12-07         EU   iPhone\n",
       "4  E1BDDCE0DAFA2679  2020-12-07  N.America   iPhone"
      ]
     },
     "execution_count": 7,
     "metadata": {},
     "output_type": "execute_result"
    }
   ],
   "source": [
    "users = pd.read_csv('/datasets/final_ab_new_users_upd_us.csv', sep=',')\n",
    "\n",
    "users.head(5)"
   ]
  },
  {
   "cell_type": "code",
   "execution_count": 8,
   "metadata": {},
   "outputs": [
    {
     "name": "stdout",
     "output_type": "stream",
     "text": [
      "<class 'pandas.core.frame.DataFrame'>\n",
      "RangeIndex: 58703 entries, 0 to 58702\n",
      "Data columns (total 4 columns):\n",
      " #   Column      Non-Null Count  Dtype \n",
      "---  ------      --------------  ----- \n",
      " 0   user_id     58703 non-null  object\n",
      " 1   first_date  58703 non-null  object\n",
      " 2   region      58703 non-null  object\n",
      " 3   device      58703 non-null  object\n",
      "dtypes: object(4)\n",
      "memory usage: 1.8+ MB\n"
     ]
    }
   ],
   "source": [
    "users.info()"
   ]
  },
  {
   "cell_type": "code",
   "execution_count": 9,
   "metadata": {},
   "outputs": [
    {
     "name": "stdout",
     "output_type": "stream",
     "text": [
      "Valores ausentes para users: \n",
      "user_id       0\n",
      "first_date    0\n",
      "region        0\n",
      "device        0\n",
      "dtype: int64\n"
     ]
    }
   ],
   "source": [
    "# Comprobar valores ausentes\n",
    "print(\"Valores ausentes para users: \")\n",
    "print(users.isnull().sum())"
   ]
  },
  {
   "cell_type": "code",
   "execution_count": 10,
   "metadata": {},
   "outputs": [],
   "source": [
    "# Convertir columnas de fecha\n",
    "\n",
    "users['first_date'] = pd.to_datetime(users['first_date'])"
   ]
  },
  {
   "cell_type": "code",
   "execution_count": 11,
   "metadata": {},
   "outputs": [
    {
     "data": {
      "text/plain": [
       "Timestamp('2020-12-07 00:00:00')"
      ]
     },
     "execution_count": 11,
     "metadata": {},
     "output_type": "execute_result"
    }
   ],
   "source": [
    "#Fecha mínima\n",
    "users['first_date'].min()"
   ]
  },
  {
   "cell_type": "code",
   "execution_count": 12,
   "metadata": {},
   "outputs": [
    {
     "data": {
      "text/plain": [
       "Timestamp('2020-12-23 00:00:00')"
      ]
     },
     "execution_count": 12,
     "metadata": {},
     "output_type": "execute_result"
    }
   ],
   "source": [
    "#Fecha máxima\n",
    "users['first_date'].max()"
   ]
  },
  {
   "cell_type": "markdown",
   "metadata": {},
   "source": [
    "Se observa que hay fechas fuera del limite de inscripción. Tomaremos solo usuarios hasta la fecha 2020-12-21."
   ]
  },
  {
   "cell_type": "code",
   "execution_count": 13,
   "metadata": {},
   "outputs": [],
   "source": [
    "#Ajustar el rango de fecha de analisis\n",
    "users = users[users['first_date'] <= '2020-12-21']"
   ]
  },
  {
   "cell_type": "code",
   "execution_count": 14,
   "metadata": {},
   "outputs": [
    {
     "name": "stdout",
     "output_type": "stream",
     "text": [
      "0\n"
     ]
    }
   ],
   "source": [
    "#Comprobar valores duplicados\n",
    "print(users.duplicated().sum())"
   ]
  },
  {
   "cell_type": "markdown",
   "metadata": {},
   "source": [
    "**Tabla events**"
   ]
  },
  {
   "cell_type": "code",
   "execution_count": 15,
   "metadata": {},
   "outputs": [
    {
     "data": {
      "text/html": [
       "<div>\n",
       "<style scoped>\n",
       "    .dataframe tbody tr th:only-of-type {\n",
       "        vertical-align: middle;\n",
       "    }\n",
       "\n",
       "    .dataframe tbody tr th {\n",
       "        vertical-align: top;\n",
       "    }\n",
       "\n",
       "    .dataframe thead th {\n",
       "        text-align: right;\n",
       "    }\n",
       "</style>\n",
       "<table border=\"1\" class=\"dataframe\">\n",
       "  <thead>\n",
       "    <tr style=\"text-align: right;\">\n",
       "      <th></th>\n",
       "      <th>user_id</th>\n",
       "      <th>event_dt</th>\n",
       "      <th>event_name</th>\n",
       "      <th>details</th>\n",
       "    </tr>\n",
       "  </thead>\n",
       "  <tbody>\n",
       "    <tr>\n",
       "      <th>0</th>\n",
       "      <td>E1BDDCE0DAFA2679</td>\n",
       "      <td>2020-12-07 20:22:03</td>\n",
       "      <td>purchase</td>\n",
       "      <td>99.99</td>\n",
       "    </tr>\n",
       "    <tr>\n",
       "      <th>1</th>\n",
       "      <td>7B6452F081F49504</td>\n",
       "      <td>2020-12-07 09:22:53</td>\n",
       "      <td>purchase</td>\n",
       "      <td>9.99</td>\n",
       "    </tr>\n",
       "    <tr>\n",
       "      <th>2</th>\n",
       "      <td>9CD9F34546DF254C</td>\n",
       "      <td>2020-12-07 12:59:29</td>\n",
       "      <td>purchase</td>\n",
       "      <td>4.99</td>\n",
       "    </tr>\n",
       "    <tr>\n",
       "      <th>3</th>\n",
       "      <td>96F27A054B191457</td>\n",
       "      <td>2020-12-07 04:02:40</td>\n",
       "      <td>purchase</td>\n",
       "      <td>4.99</td>\n",
       "    </tr>\n",
       "    <tr>\n",
       "      <th>4</th>\n",
       "      <td>1FD7660FDF94CA1F</td>\n",
       "      <td>2020-12-07 10:15:09</td>\n",
       "      <td>purchase</td>\n",
       "      <td>4.99</td>\n",
       "    </tr>\n",
       "  </tbody>\n",
       "</table>\n",
       "</div>"
      ],
      "text/plain": [
       "            user_id             event_dt event_name  details\n",
       "0  E1BDDCE0DAFA2679  2020-12-07 20:22:03   purchase    99.99\n",
       "1  7B6452F081F49504  2020-12-07 09:22:53   purchase     9.99\n",
       "2  9CD9F34546DF254C  2020-12-07 12:59:29   purchase     4.99\n",
       "3  96F27A054B191457  2020-12-07 04:02:40   purchase     4.99\n",
       "4  1FD7660FDF94CA1F  2020-12-07 10:15:09   purchase     4.99"
      ]
     },
     "execution_count": 15,
     "metadata": {},
     "output_type": "execute_result"
    }
   ],
   "source": [
    "events = pd.read_csv('/datasets/final_ab_events_upd_us.csv', sep=',')\n",
    "\n",
    "events.head(5)"
   ]
  },
  {
   "cell_type": "code",
   "execution_count": 16,
   "metadata": {},
   "outputs": [
    {
     "name": "stdout",
     "output_type": "stream",
     "text": [
      "<class 'pandas.core.frame.DataFrame'>\n",
      "RangeIndex: 423761 entries, 0 to 423760\n",
      "Data columns (total 4 columns):\n",
      " #   Column      Non-Null Count   Dtype  \n",
      "---  ------      --------------   -----  \n",
      " 0   user_id     423761 non-null  object \n",
      " 1   event_dt    423761 non-null  object \n",
      " 2   event_name  423761 non-null  object \n",
      " 3   details     60314 non-null   float64\n",
      "dtypes: float64(1), object(3)\n",
      "memory usage: 12.9+ MB\n"
     ]
    }
   ],
   "source": [
    "events.info()"
   ]
  },
  {
   "cell_type": "code",
   "execution_count": 17,
   "metadata": {},
   "outputs": [
    {
     "name": "stdout",
     "output_type": "stream",
     "text": [
      "Valores ausentes para events: \n",
      "user_id            0\n",
      "event_dt           0\n",
      "event_name         0\n",
      "details       363447\n",
      "dtype: int64\n"
     ]
    }
   ],
   "source": [
    "# Comprobar valores ausentes\n",
    "\n",
    "print(\"Valores ausentes para events: \")\n",
    "print(events.isnull().sum())"
   ]
  },
  {
   "cell_type": "markdown",
   "metadata": {},
   "source": [
    "Se observan 363447 valores ausentes para la columna \"details\". Decidiremos no eliminarlos para no afectar el analisis de la tabla. En su lugar, reemplazaremos los valores nulos por ceros."
   ]
  },
  {
   "cell_type": "code",
   "execution_count": 18,
   "metadata": {},
   "outputs": [],
   "source": [
    "#Reemplzar valores nulos por ceros\n",
    "events['details'] = events['details'].fillna(0)"
   ]
  },
  {
   "cell_type": "code",
   "execution_count": 19,
   "metadata": {},
   "outputs": [
    {
     "name": "stdout",
     "output_type": "stream",
     "text": [
      "user_id       0\n",
      "event_dt      0\n",
      "event_name    0\n",
      "details       0\n",
      "dtype: int64\n"
     ]
    }
   ],
   "source": [
    "#Comprobación de valores nulos\n",
    "print(events.isnull().sum())"
   ]
  },
  {
   "cell_type": "code",
   "execution_count": 20,
   "metadata": {},
   "outputs": [],
   "source": [
    "# Convertir columnas de fecha\n",
    "\n",
    "events['event_dt'] = pd.to_datetime(events['event_dt'])"
   ]
  },
  {
   "cell_type": "markdown",
   "metadata": {},
   "source": [
    "**Tabla participants**"
   ]
  },
  {
   "cell_type": "code",
   "execution_count": 21,
   "metadata": {},
   "outputs": [
    {
     "data": {
      "text/html": [
       "<div>\n",
       "<style scoped>\n",
       "    .dataframe tbody tr th:only-of-type {\n",
       "        vertical-align: middle;\n",
       "    }\n",
       "\n",
       "    .dataframe tbody tr th {\n",
       "        vertical-align: top;\n",
       "    }\n",
       "\n",
       "    .dataframe thead th {\n",
       "        text-align: right;\n",
       "    }\n",
       "</style>\n",
       "<table border=\"1\" class=\"dataframe\">\n",
       "  <thead>\n",
       "    <tr style=\"text-align: right;\">\n",
       "      <th></th>\n",
       "      <th>user_id</th>\n",
       "      <th>group</th>\n",
       "      <th>ab_test</th>\n",
       "    </tr>\n",
       "  </thead>\n",
       "  <tbody>\n",
       "    <tr>\n",
       "      <th>0</th>\n",
       "      <td>D1ABA3E2887B6A73</td>\n",
       "      <td>A</td>\n",
       "      <td>recommender_system_test</td>\n",
       "    </tr>\n",
       "    <tr>\n",
       "      <th>1</th>\n",
       "      <td>A7A3664BD6242119</td>\n",
       "      <td>A</td>\n",
       "      <td>recommender_system_test</td>\n",
       "    </tr>\n",
       "    <tr>\n",
       "      <th>2</th>\n",
       "      <td>DABC14FDDFADD29E</td>\n",
       "      <td>A</td>\n",
       "      <td>recommender_system_test</td>\n",
       "    </tr>\n",
       "    <tr>\n",
       "      <th>3</th>\n",
       "      <td>04988C5DF189632E</td>\n",
       "      <td>A</td>\n",
       "      <td>recommender_system_test</td>\n",
       "    </tr>\n",
       "    <tr>\n",
       "      <th>4</th>\n",
       "      <td>4FF2998A348C484F</td>\n",
       "      <td>A</td>\n",
       "      <td>recommender_system_test</td>\n",
       "    </tr>\n",
       "  </tbody>\n",
       "</table>\n",
       "</div>"
      ],
      "text/plain": [
       "            user_id group                  ab_test\n",
       "0  D1ABA3E2887B6A73     A  recommender_system_test\n",
       "1  A7A3664BD6242119     A  recommender_system_test\n",
       "2  DABC14FDDFADD29E     A  recommender_system_test\n",
       "3  04988C5DF189632E     A  recommender_system_test\n",
       "4  4FF2998A348C484F     A  recommender_system_test"
      ]
     },
     "execution_count": 21,
     "metadata": {},
     "output_type": "execute_result"
    }
   ],
   "source": [
    "participants = pd.read_csv('/datasets/final_ab_participants_upd_us.csv', sep=',')\n",
    "\n",
    "participants.head(5)"
   ]
  },
  {
   "cell_type": "code",
   "execution_count": 22,
   "metadata": {},
   "outputs": [
    {
     "name": "stdout",
     "output_type": "stream",
     "text": [
      "<class 'pandas.core.frame.DataFrame'>\n",
      "RangeIndex: 14525 entries, 0 to 14524\n",
      "Data columns (total 3 columns):\n",
      " #   Column   Non-Null Count  Dtype \n",
      "---  ------   --------------  ----- \n",
      " 0   user_id  14525 non-null  object\n",
      " 1   group    14525 non-null  object\n",
      " 2   ab_test  14525 non-null  object\n",
      "dtypes: object(3)\n",
      "memory usage: 340.6+ KB\n"
     ]
    }
   ],
   "source": [
    "participants.info()"
   ]
  },
  {
   "cell_type": "code",
   "execution_count": 23,
   "metadata": {},
   "outputs": [
    {
     "name": "stdout",
     "output_type": "stream",
     "text": [
      "Valores únicos en la columna 'group': ['A' 'B']\n"
     ]
    }
   ],
   "source": [
    "# Obtener valores únicos de la columna 'group'\n",
    "unique_groups = participants['group'].unique()\n",
    "print(\"Valores únicos en la columna 'group':\", unique_groups)"
   ]
  },
  {
   "cell_type": "code",
   "execution_count": 24,
   "metadata": {},
   "outputs": [
    {
     "name": "stdout",
     "output_type": "stream",
     "text": [
      "Valores únicos en la columna 'ab_test': ['recommender_system_test' 'interface_eu_test']\n"
     ]
    }
   ],
   "source": [
    "# Obtener valores únicos de la columna 'ab_test'\n",
    "unique_ab_tests = participants['ab_test'].unique()\n",
    "print(\"Valores únicos en la columna 'ab_test':\", unique_ab_tests)"
   ]
  },
  {
   "cell_type": "markdown",
   "metadata": {},
   "source": [
    "Dado que nuestro objetivo es analizar únicamente los resultados de la prueba recommender_system_test, es recomendable filtrar y eliminar las filas que contengan interface_eu_test. Esto permitirá centrarnos solo en los participantes de la prueba relevante."
   ]
  },
  {
   "cell_type": "code",
   "execution_count": 25,
   "metadata": {},
   "outputs": [
    {
     "name": "stdout",
     "output_type": "stream",
     "text": [
      "Número de participantes después del filtrado: 3675\n"
     ]
    }
   ],
   "source": [
    "# Filtrar las filas para mantener solo las de la prueba 'recommender_system_test'\n",
    "participants = participants[participants['ab_test'] == 'recommender_system_test']\n",
    "\n",
    "# Comprobar cuántas filas quedan después del filtrado\n",
    "print(\"Número de participantes después del filtrado:\", participants.shape[0])"
   ]
  },
  {
   "cell_type": "markdown",
   "metadata": {},
   "source": [
    "Para verificar si hay usuarios presentes en ambos grupos (A y B), haremos una intersección entre los IDs de usuario de cada grupo en el DataFrame de participants."
   ]
  },
  {
   "cell_type": "code",
   "execution_count": 26,
   "metadata": {},
   "outputs": [
    {
     "name": "stdout",
     "output_type": "stream",
     "text": [
      "No hay usuarios presentes en ambos grupos.\n"
     ]
    }
   ],
   "source": [
    "# Obtener los usuarios en cada grupo\n",
    "group_a_users = participants[participants['group'] == 'A']['user_id']\n",
    "group_b_users = participants[participants['group'] == 'B']['user_id']\n",
    "\n",
    "# Encontrar usuarios presentes en ambos grupos\n",
    "common_users = set(group_a_users).intersection(set(group_b_users))\n",
    "\n",
    "# Mostrar resultados\n",
    "if common_users:\n",
    "    print(f\"Hay {len(common_users)} usuarios presentes en ambos grupos: {common_users}\")\n",
    "else:\n",
    "    print(\"No hay usuarios presentes en ambos grupos.\")"
   ]
  },
  {
   "cell_type": "markdown",
   "metadata": {},
   "source": [
    "## Análisis explotatorio de datos"
   ]
  },
  {
   "cell_type": "markdown",
   "metadata": {},
   "source": [
    "### Estudiar la conversión en las diferentes etapas del embudo"
   ]
  },
  {
   "cell_type": "code",
   "execution_count": 27,
   "metadata": {},
   "outputs": [],
   "source": [
    "# Unir los DataFrames para análisis\n",
    "merged_data = users.merge(participants, on='user_id', how='left')\n",
    "merged_data = merged_data.merge(events, on='user_id', how='left')\n"
   ]
  },
  {
   "cell_type": "code",
   "execution_count": 28,
   "metadata": {},
   "outputs": [],
   "source": [
    "# Filtrar eventos dentro del periodo de la prueba\n",
    "start_date = '2020-12-07'\n",
    "end_date = '2021-01-01'\n",
    "filtered_events = merged_data[(merged_data['event_dt'] >= start_date) & (merged_data['event_dt'] <= end_date)]\n"
   ]
  },
  {
   "cell_type": "code",
   "execution_count": 29,
   "metadata": {},
   "outputs": [
    {
     "name": "stdout",
     "output_type": "stream",
     "text": [
      "event_name  login  product_cart  product_page  purchase\n",
      "group                                                  \n",
      "A            2747           824          1780       872\n",
      "B             927           255           523       256\n",
      "event_name     login  product_page  product_cart  purchase\n",
      "group                                                     \n",
      "A           0.441427      0.286036      0.132412  0.140125\n",
      "B           0.472718      0.266701      0.130036  0.130546\n"
     ]
    }
   ],
   "source": [
    "# Reorganizar el DataFrame de conversiones\n",
    "conversion_counts = filtered_events.groupby(['group', 'event_name'])['user_id'].nunique().unstack(fill_value=0)\n",
    "\n",
    "print(conversion_counts)\n",
    "\n",
    "# Asegurarse de que el índice de conversion_counts siga el orden correcto\n",
    "conversion_counts = conversion_counts[['login', 'product_page', 'product_cart', 'purchase']]\n",
    "\n",
    "# Calcular las tasas de conversión en el orden correcto\n",
    "conversion_rates = conversion_counts.div(conversion_counts.sum(axis=1), axis=0)\n",
    "print(conversion_rates)\n"
   ]
  },
  {
   "cell_type": "code",
   "execution_count": 30,
   "metadata": {},
   "outputs": [
    {
     "data": {
      "image/png": "[encoded data removed]",
      "text/plain": [
       "<Figure size 1000x600 with 1 Axes>"
      ]
     },
     "metadata": {},
     "output_type": "display_data"
    }
   ],
   "source": [
    "# Visualización de la conversión en el embudo en el orden correcto\n",
    "conversion_rates.plot(kind='bar', figsize=(10, 6))\n",
    "plt.title('Tasa de Conversión en Diferentes Etapas del Embudo')\n",
    "plt.xlabel('Grupo')\n",
    "plt.ylabel('Tasa de Conversión')\n",
    "plt.xticks(rotation=0)\n",
    "plt.legend(title='Evento', loc='upper left', labels=['Login', 'Product Page', 'Product Cart', 'Purchase'])\n",
    "plt.show()\n",
    "\n"
   ]
  },
  {
   "cell_type": "markdown",
   "metadata": {},
   "source": [
    "**Conversiones por Grupo:**\n",
    "\n",
    "Grupo A tiene un total de eventos significativamente más alto en cada etapa en comparación con el Grupo B. Esto sugiere que el grupo de control tiene más usuarios activos en el embudo.\n",
    "\n",
    "**Tasas de Conversión:**\n",
    "\n",
    "En la conversión de Login a Product Page, el Grupo A tiene un 64.7% frente al 56.4% del Grupo B. Esto indica que los usuarios del Grupo A están más propensos a visitar la página del producto después de iniciar sesión.\n",
    "\n",
    "La conversión de Product Page a Product Cart es muy similar, con el Grupo A en 46.3% y el Grupo B en 48.8%. Aquí, el Grupo B muestra una ligera ventaja.\n",
    "\n",
    "Sin embargo, al observar la conversión de Product Cart a Purchase, el Grupo A tiene una tasa de 105.8%, lo que indica que en realidad más usuarios que agregaron al carrito terminaron comprando, comparado con el Grupo B, que tiene una tasa de 100.4%. Esto sugiere que el Grupo A tiene un proceso de compra más efectivo."
   ]
  },
  {
   "cell_type": "markdown",
   "metadata": {},
   "source": [
    "### Distribucion de eventos por usuario"
   ]
  },
  {
   "cell_type": "code",
   "execution_count": 31,
   "metadata": {},
   "outputs": [
    {
     "name": "stdout",
     "output_type": "stream",
     "text": [
      "        count      mean       std  min  25%  50%  75%   max\n",
      "group                                                      \n",
      "A      2747.0  6.780852  3.729768  1.0  4.0  6.0  9.0  24.0\n",
      "B       928.0  5.691810  3.450350  1.0  3.0  5.0  8.0  28.0\n"
     ]
    },
    {
     "data": {
      "image/png": "[encoded data removed]",
      "text/plain": [
       "<Figure size 1000x600 with 1 Axes>"
      ]
     },
     "metadata": {},
     "output_type": "display_data"
    }
   ],
   "source": [
    "# Contar eventos por usuario\n",
    "event_counts = filtered_events.groupby(['user_id', 'group'])['event_name'].count().reset_index()\n",
    "event_counts.rename(columns={'event_name': 'event_count'}, inplace=True)\n",
    "\n",
    "# Verificar la distribución de eventos\n",
    "event_distribution = event_counts.groupby('group')['event_count'].describe()\n",
    "print(event_distribution)\n",
    "\n",
    "# Visualizar la distribución\n",
    "plt.figure(figsize=(10, 6))\n",
    "plt.boxplot([event_counts[event_counts['group'] == 'A']['event_count'],\n",
    "              event_counts[event_counts['group'] == 'B']['event_count']], labels=['A', 'B'])\n",
    "plt.title('Distribución de Eventos por Usuario')\n",
    "plt.ylabel('Número de Eventos')\n",
    "plt.show()\n"
   ]
  },
  {
   "cell_type": "markdown",
   "metadata": {},
   "source": [
    "Media: El Grupo A tiene una media de 6.78 eventos por usuario, que es más alta que la media del Grupo B (5.69 eventos). Esto sugiere que, en promedio, los usuarios del Grupo A interactúan más con la plataforma que los del Grupo B.\n",
    "Desviación Estándar:\n",
    "\n",
    "La desviación estándar en el Grupo A (3.73) es mayor que en el Grupo B (3.45), lo que indica que la cantidad de eventos por usuario es más variable en el Grupo A. Esto puede significar que hay algunos usuarios en el Grupo A que participan de manera mucho más activa que otros.\n",
    "\n",
    "Percentiles:\n",
    "\n",
    "- En el percentil 25, el Grupo A tiene un valor de 4 eventos, mientras que el Grupo B tiene 3. Esto sugiere que un mayor porcentaje de usuarios en el Grupo A está más involucrado con la plataforma.\n",
    "- En el percentil 50 (mediana), los usuarios del Grupo A también tienen una mejor tasa (6 eventos frente a 5 eventos del Grupo B), lo que indica que más usuarios en el Grupo A están participando activamente.\n",
    "- En el percentil 75, el Grupo A tiene 9 eventos, mientras que el Grupo B tiene 8 eventos. Esto refuerza la idea de que los usuarios del Grupo A tienden a interactuar más.\n",
    "\n",
    "Interacción General: El Grupo A tiene un mayor nivel de interacción en comparación con el Grupo B, lo que podría sugerir que el sistema de recomendaciones o el embudo de pago no están atrayendo a los usuarios del Grupo B de la misma manera que el grupo de control."
   ]
  },
  {
   "cell_type": "markdown",
   "metadata": {},
   "source": [
    "### Distribucion de ventos entre los dias"
   ]
  },
  {
   "cell_type": "markdown",
   "metadata": {},
   "source": [
    "**Preparar los datos**\n",
    "\n",
    "Nos aseguraremos de que event_dt esté en formato de fecha y extrae solo la fecha, ignorando la hora."
   ]
  },
  {
   "cell_type": "code",
   "execution_count": 32,
   "metadata": {},
   "outputs": [],
   "source": [
    "# Convertir 'event_dt' a formato de fecha\n",
    "filtered_events['event_dt'] = pd.to_datetime(filtered_events['event_dt'])\n",
    "filtered_events['event_date'] = filtered_events['event_dt'].dt.date"
   ]
  },
  {
   "cell_type": "markdown",
   "metadata": {},
   "source": [
    "**Agrupar los eventos por fecha**\n",
    "\n",
    "Contamos el número de eventos por día."
   ]
  },
  {
   "cell_type": "code",
   "execution_count": 33,
   "metadata": {},
   "outputs": [
    {
     "name": "stdout",
     "output_type": "stream",
     "text": [
      "    event_date  event_count\n",
      "0   2020-12-07        11385\n",
      "1   2020-12-08        12547\n",
      "2   2020-12-09        12122\n",
      "3   2020-12-10        14077\n",
      "4   2020-12-11        13864\n",
      "5   2020-12-12        17634\n",
      "6   2020-12-13        20985\n",
      "7   2020-12-14        26184\n",
      "8   2020-12-15        23469\n",
      "9   2020-12-16        20909\n",
      "10  2020-12-17        21751\n",
      "11  2020-12-18        22871\n",
      "12  2020-12-19        24273\n",
      "13  2020-12-20        26425\n",
      "14  2020-12-21        32559\n",
      "15  2020-12-22        22260\n",
      "16  2020-12-23        17369\n",
      "17  2020-12-24        14464\n",
      "18  2020-12-26        11301\n",
      "19  2020-12-27        10263\n",
      "20  2020-12-28         9328\n",
      "21  2020-12-29         8528\n",
      "22  2020-12-30           89\n"
     ]
    }
   ],
   "source": [
    "# Contar el número de eventos por día\n",
    "daily_events = filtered_events.groupby('event_date').size().reset_index(name='event_count')\n",
    "print(daily_events)\n"
   ]
  },
  {
   "cell_type": "markdown",
   "metadata": {},
   "source": [
    "**Visualizar los resultados**\n",
    "\n",
    "Podemos graficar el número de eventos por día para ver la distribución."
   ]
  },
  {
   "cell_type": "code",
   "execution_count": 34,
   "metadata": {},
   "outputs": [
    {
     "data": {
      "image/png": "[encoded data removed]",
      "text/plain": [
       "<Figure size 1200x600 with 1 Axes>"
      ]
     },
     "metadata": {},
     "output_type": "display_data"
    }
   ],
   "source": [
    "import matplotlib.pyplot as plt\n",
    "\n",
    "# Visualizar la distribución de eventos por día\n",
    "plt.figure(figsize=(12, 6))\n",
    "plt.plot(daily_events['event_date'], daily_events['event_count'], marker='o')\n",
    "plt.title('Distribución de Eventos por Día')\n",
    "plt.xlabel('Fecha')\n",
    "plt.ylabel('Número de Eventos')\n",
    "plt.xticks(rotation=45)\n",
    "plt.grid()\n",
    "plt.show()\n"
   ]
  },
  {
   "cell_type": "markdown",
   "metadata": {},
   "source": [
    "La distribución de eventos agrupados por fecha muestra patrones que podrían estar relacionados con el período de compras navideñas.\n",
    "\n",
    "Hay un incremento notable en el número de eventos a partir del 7 de diciembre, alcanzando un pico el 21 de diciembre, justo antes de las festividades de Navidad. Esto sugiere un aumento en la actividad de los usuarios, posiblemente relacionado con la preparación para las compras navideñas.\n",
    "\n",
    "El día 21 de diciembre tiene el conteo de eventos más alto (32,559). Este pico es significativo, ya que muchas personas suelen hacer sus compras finales antes de Navidad, lo que podría explicar el aumento en la actividad.\n",
    "Tendencia de Caída Después de Navidad:\n",
    "\n",
    "Después del 24 de diciembre, hay una caída drástica en los eventos, con un número muy bajo el 30 de diciembre (89 eventos). Esto sugiere que, tras las festividades, el interés por realizar compras disminuyó drásticamente, lo que es común en el comportamiento del consumidor después de la Navidad."
   ]
  },
  {
   "cell_type": "markdown",
   "metadata": {},
   "source": [
    "### ¿Hay alguna peculiaridad en los datos que hay que tener en cuenta antes de iniciar la prueba A/B?"
   ]
  },
  {
   "cell_type": "markdown",
   "metadata": {},
   "source": [
    "Durante el período de prueba, que abarca Navidad y post Navidad, se ha observado una disminución significativa en los recuentos de eventos. Este descenso puede atribuirse a que posterior temporada navideña, las personasposeen menos dinero para compras, lo que resulta en menor actividad en línea.\n",
    "\n",
    "Es crucial reconocer que los resultados de esta prueba pueden no reflejar el comportamiento típico del usuario en otras épocas del año. Para obtener una visión más completa y precisa del comportamiento del usuario, se recomienda realizar otra prueba en un período diferente. Esto asegurará que los hallazgos sean aplicables y representativos del uso de la plataforma a lo largo del año.\""
   ]
  },
  {
   "cell_type": "markdown",
   "metadata": {},
   "source": [
    "## Análisis de resultados prueba A/B"
   ]
  },
  {
   "cell_type": "markdown",
   "metadata": {},
   "source": [
    "**Análisis de la Prueba A/B**\n",
    "\n",
    "**Objetivo:** \n",
    "\n",
    "Evaluar la efectividad de un nuevo embudo de pago en comparación con el embudo existente, midiendo la conversión a lo largo de diferentes etapas del proceso de compra.\n",
    "\n",
    "**Grupos:**\n",
    "\n",
    "- Grupo A (control)\n",
    "- Grupo B (nuevo embudo de pago)\n",
    "\n",
    "**Resultados esperados:**\n",
    "\n",
    "Un aumento del 10% en la conversión en cada etapa del embudo (product_page → product_cart → purchase).\n",
    "\n",
    "**Análisis de Conversión**\n",
    "\n",
    "- Conversión por Evento:\n",
    "\n",
    "    - Grupo A:\n",
    "        - Login: 2747\n",
    "        - Product Page: 1780\n",
    "        - Product Cart: 824\n",
    "        - Purchase: 872\n",
    "\n",
    "    - Grupo B:\n",
    "        - Login: 927\n",
    "        - Product Page: 523\n",
    "        - Product Cart: 255\n",
    "        - Purchase: 256\n",
    "        \n",
    "- Tasas de Conversión:\n",
    "\n",
    "    - Grupo A:\n",
    "        - Login a Product Page: 64.7%\n",
    "        - Product Page a Product Cart: 46.3%\n",
    "        - Product Cart a Purchase: 105.8%\n",
    "    - Grupo B:\n",
    "        - Login a Product Page: 56.4%\n",
    "        - Product Page a Product Cart: 48.8%\n",
    "        - Product Cart a Purchase: 100.4%\n",
    "        \n",
    "**Comparación de Resultados**\n",
    "\n",
    "Interacción General: El Grupo A tiene un número total de eventos y tasas de conversión más altas en todas las etapas en comparación con el Grupo B. Esto sugiere que el nuevo embudo de pago no ha logrado atraer a los usuarios de la misma manera que el embudo existente.\n",
    "\n",
    "Conversión a Compra: Aunque la tasa de conversión de Product Cart a Purchase es similar, el Grupo A tiene una conversión superior, indicando que una mayor proporción de usuarios que agregaron productos al carrito finalmente realizaron una compra.\n",
    "\n",
    "**Análisis de Eventos por Usuario**\n",
    "\n",
    "- Distribución de Eventos:\n",
    "\n",
    "    - Grupo A: Media de 6.78 eventos por usuario.\n",
    "    - Grupo B: Media de 5.69 eventos por usuario.\n",
    "\n",
    "- El Grupo A tiene una mayor interacción general y un mayor número de eventos por usuario, lo que indica un mayor compromiso con la plataforma.\n",
    "\n",
    "**Conclusiones**\n",
    "\n",
    "Efectividad del Nuevo Embudo: El Grupo A, con tasas de conversión más altas, sugiere que el nuevo embudo de pago (Grupo B) no ha cumplido con las expectativas de aumentar la conversión en un 10%."
   ]
  },
  {
   "cell_type": "markdown",
   "metadata": {},
   "source": [
    "## Test de Hipótesis"
   ]
  },
  {
   "cell_type": "markdown",
   "metadata": {},
   "source": [
    "**Definir las Hipótesis:**\n",
    "\n",
    "- Hipótesis nula (H0): No hay diferencia en las proporciones de conversión entre los grupos A y B.\n",
    "- Hipótesis alternativa (H1): Hay una diferencia en las proporciones de conversión entre los grupos A y B.\n",
    "\n",
    "**Calcular las proporciones y los tamaños de muestra:**\n",
    "\n",
    "- Proporciones de conversión para cada grupo en cada etapa del embudo.\n",
    "- Tamaños de muestra correspondientes.\n",
    "\n",
    "**Realizar la prueba Z:**\n",
    "\n",
    "- Usar la fórmula para la prueba Z de proporciones.\n",
    "- Determinar el valor p y tomar una decisión."
   ]
  },
  {
   "cell_type": "markdown",
   "metadata": {},
   "source": [
    "**Definir los datos**"
   ]
  },
  {
   "cell_type": "code",
   "execution_count": 35,
   "metadata": {},
   "outputs": [],
   "source": [
    "# Datos de conversiones\n",
    "conversions_A = {\n",
    "    'product_page': 1780,\n",
    "    'product_cart': 824,\n",
    "    'purchase': 872\n",
    "}\n",
    "conversions_B = {\n",
    "    'product_page': 523,\n",
    "    'product_cart': 255,\n",
    "    'purchase': 256\n",
    "}\n",
    "\n",
    "# Tamaños de muestra\n",
    "n_A = 2747  # Número total de usuarios en el grupo A\n",
    "n_B = 927   # Número total de usuarios en el grupo B\n"
   ]
  },
  {
   "cell_type": "markdown",
   "metadata": {},
   "source": [
    "**Calcular las proporciones**"
   ]
  },
  {
   "cell_type": "code",
   "execution_count": 36,
   "metadata": {},
   "outputs": [
    {
     "name": "stdout",
     "output_type": "stream",
     "text": [
      "Proporciones de conversión:\n",
      "Grupo A - Product Page: 0.6480, Product Cart: 0.4629, Purchase: 1.0583\n",
      "Grupo B - Product Page: 0.5642, Product Cart: 0.4876, Purchase: 1.0039\n"
     ]
    }
   ],
   "source": [
    "# Proporciones de conversión\n",
    "p_A_product_page = conversions_A['product_page'] / n_A\n",
    "p_A_product_cart = conversions_A['product_cart'] / conversions_A['product_page']\n",
    "p_A_purchase = conversions_A['purchase'] / conversions_A['product_cart']\n",
    "\n",
    "p_B_product_page = conversions_B['product_page'] / n_B\n",
    "p_B_product_cart = conversions_B['product_cart'] / conversions_B['product_page']\n",
    "p_B_purchase = conversions_B['purchase'] / conversions_B['product_cart']\n",
    "\n",
    "# Mostrar proporciones\n",
    "print(\"Proporciones de conversión:\")\n",
    "print(f\"Grupo A - Product Page: {p_A_product_page:.4f}, Product Cart: {p_A_product_cart:.4f}, Purchase: {p_A_purchase:.4f}\")\n",
    "print(f\"Grupo B - Product Page: {p_B_product_page:.4f}, Product Cart: {p_B_product_cart:.4f}, Purchase: {p_B_purchase:.4f}\")\n"
   ]
  },
  {
   "cell_type": "markdown",
   "metadata": {},
   "source": [
    "**Realizar la prueba Z**"
   ]
  },
  {
   "cell_type": "code",
   "execution_count": 37,
   "metadata": {},
   "outputs": [
    {
     "name": "stdout",
     "output_type": "stream",
     "text": [
      "Valor Z para la conversión de Purchase: 3.1010\n",
      "Valor p: 0.0019\n"
     ]
    }
   ],
   "source": [
    "import numpy as np\n",
    "from scipy import stats\n",
    "\n",
    "# Proporción combinada\n",
    "p = (conversions_A['purchase'] + conversions_B['purchase']) / (n_A + n_B)\n",
    "\n",
    "# Calcular el valor Z\n",
    "Z_purchase = (p_A_purchase - p_B_purchase) / np.sqrt(p * (1 - p) * (1/n_A + 1/n_B))\n",
    "print(f\"Valor Z para la conversión de Purchase: {Z_purchase:.4f}\")\n",
    "\n",
    "# Calcular el valor p\n",
    "p_value = 2 * (1 - stats.norm.cdf(abs(Z_purchase)))  # Prueba bilateral\n",
    "print(f\"Valor p: {p_value:.4f}\")\n"
   ]
  },
  {
   "cell_type": "markdown",
   "metadata": {},
   "source": [
    "Valor Z: Un valor Z de 3.1010 indica que la diferencia entre las proporciones de conversión de compra (purchase) entre los grupos A y B es aproximadamente 3.1 veces la desviación estándar de la distribución bajo la hipótesis nula. Esto sugiere que la diferencia observada es bastante significativa.\n",
    "\n",
    "Valor p: El valor p de 0.0019 es muy bajo y está por debajo del nivel de significancia comúnmente utilizado de 0.05. Esto significa que hay evidencia estadística suficiente para rechazar la hipótesis nula.\n",
    "\n",
    "Diferencia Significativa: Hay una diferencia estadísticamente significativa en las proporciones de conversión a compra entre los grupos A y B. Esto sugiere que el grupo A (control) tiene una tasa de conversión a compra superior en comparación con el grupo B (nuevo embudo de pago)."
   ]
  },
  {
   "cell_type": "markdown",
   "metadata": {},
   "source": [
    "# Conclusiones"
   ]
  },
  {
   "cell_type": "markdown",
   "metadata": {},
   "source": [
    "Distribución de Eventos: El análisis mostró que el número de eventos por usuario variaba entre los grupos A y B. El grupo A tenía una mayor interacción (promedio de 6.78 eventos por usuario) en comparación con el grupo B (5.69 eventos por usuario), sugiriendo un mayor compromiso con el embudo existente.\n",
    "\n",
    "Conversión en el Embudo: Se observó que las tasas de conversión en cada etapa del embudo variaban entre los grupos. En general, el grupo A mostró tasas de conversión más altas, lo que indica que el nuevo embudo de pago no estaba cumpliendo con las expectativas en términos de efectividad.\n",
    "\n",
    "Evidencia de Diferencias Significativas: La prueba Z reveló que existía una diferencia estadísticamente significativa entre las proporciones de conversión a compra entre los grupos A y B, con un valor p de 0.0019. Esto indica que el nuevo embudo de pago (grupo B) tiene una efectividad inferior al embudo actual (grupo A).\n",
    "\n",
    "Implicaciones Prácticas: Dado que el nuevo embudo no logró mejorar la conversión en al menos un 10% como se esperaba, se recomienda reconsiderar su implementación. Podría ser necesario realizar pruebas adicionales o ajustes en el diseño y la funcionalidad del embudo.\n",
    "\n",
    "Próximos pasos: Es crucial profundizar en los factores que pueden haber afectado negativamente la experiencia del usuario en el nuevo embudo. Esto incluye la recopilación de comentarios de los usuarios y pruebas de usabilidad para identificar áreas de mejora."
   ]
  }
 ],
 "metadata": {
  "ExecuteTimeLog": [
   {
    "duration": 176,
    "start_time": "2024-11-02T14:44:07.513Z"
   },
   {
    "duration": 2832,
    "start_time": "2024-11-02T14:44:24.116Z"
   },
   {
    "duration": 16,
    "start_time": "2024-11-02T14:44:26.951Z"
   },
   {
    "duration": 11,
    "start_time": "2024-11-02T14:45:02.314Z"
   },
   {
    "duration": 10,
    "start_time": "2024-11-02T14:45:09.505Z"
   },
   {
    "duration": 10,
    "start_time": "2024-11-02T14:45:45.133Z"
   },
   {
    "duration": 10,
    "start_time": "2024-11-02T14:46:03.285Z"
   },
   {
    "duration": 11,
    "start_time": "2024-11-02T14:49:05.448Z"
   },
   {
    "duration": 69,
    "start_time": "2024-11-02T14:50:01.705Z"
   },
   {
    "duration": 7,
    "start_time": "2024-11-02T14:51:40.323Z"
   },
   {
    "duration": 46,
    "start_time": "2024-11-02T14:51:47.859Z"
   },
   {
    "duration": 15,
    "start_time": "2024-11-02T14:52:18.169Z"
   },
   {
    "duration": 346,
    "start_time": "2024-11-02T14:54:14.846Z"
   },
   {
    "duration": 22,
    "start_time": "2024-11-02T14:55:43.362Z"
   },
   {
    "duration": 47,
    "start_time": "2024-11-02T15:09:54.789Z"
   },
   {
    "duration": 10,
    "start_time": "2024-11-02T15:12:22.446Z"
   },
   {
    "duration": 83,
    "start_time": "2024-11-02T15:33:43.863Z"
   },
   {
    "duration": 38,
    "start_time": "2024-11-02T15:34:36.832Z"
   },
   {
    "duration": 37,
    "start_time": "2024-11-02T15:35:37.873Z"
   },
   {
    "duration": 37,
    "start_time": "2024-11-02T15:37:00.689Z"
   },
   {
    "duration": 128,
    "start_time": "2024-11-02T16:00:26.178Z"
   },
   {
    "duration": 167,
    "start_time": "2024-11-02T16:04:56.688Z"
   },
   {
    "duration": 34,
    "start_time": "2024-11-02T16:06:37.186Z"
   },
   {
    "duration": 278,
    "start_time": "2024-11-02T16:07:44.203Z"
   },
   {
    "duration": 8,
    "start_time": "2024-11-02T16:09:26.319Z"
   },
   {
    "duration": 41,
    "start_time": "2024-11-02T16:15:04.272Z"
   },
   {
    "duration": 274,
    "start_time": "2024-11-02T16:17:36.344Z"
   },
   {
    "duration": 432,
    "start_time": "2024-11-02T16:19:45.742Z"
   },
   {
    "duration": 60,
    "start_time": "2024-11-02T16:20:00.339Z"
   },
   {
    "duration": 63,
    "start_time": "2024-11-02T16:20:52.329Z"
   },
   {
    "duration": 168,
    "start_time": "2024-11-02T16:22:29.167Z"
   },
   {
    "duration": 184,
    "start_time": "2024-11-02T16:25:19.327Z"
   },
   {
    "duration": 2457,
    "start_time": "2024-11-02T17:41:49.448Z"
   },
   {
    "duration": 14,
    "start_time": "2024-11-02T17:41:51.908Z"
   },
   {
    "duration": 8,
    "start_time": "2024-11-02T17:41:51.923Z"
   },
   {
    "duration": 63,
    "start_time": "2024-11-02T17:41:51.933Z"
   },
   {
    "duration": 13,
    "start_time": "2024-11-02T17:41:51.998Z"
   },
   {
    "duration": 317,
    "start_time": "2024-11-02T17:41:52.013Z"
   },
   {
    "duration": 45,
    "start_time": "2024-11-02T17:41:52.331Z"
   },
   {
    "duration": 24,
    "start_time": "2024-11-02T17:41:52.378Z"
   },
   {
    "duration": 10,
    "start_time": "2024-11-02T17:41:52.404Z"
   },
   {
    "duration": 74,
    "start_time": "2024-11-02T17:41:52.416Z"
   },
   {
    "duration": 37,
    "start_time": "2024-11-02T17:41:52.491Z"
   },
   {
    "duration": 141,
    "start_time": "2024-11-02T17:41:52.529Z"
   },
   {
    "duration": 579,
    "start_time": "2024-11-02T17:41:52.671Z"
   },
   {
    "duration": 89,
    "start_time": "2024-11-02T17:42:23.661Z"
   },
   {
    "duration": 91,
    "start_time": "2024-11-02T17:44:12.450Z"
   },
   {
    "duration": 83,
    "start_time": "2024-11-02T17:47:11.571Z"
   },
   {
    "duration": 89,
    "start_time": "2024-11-02T17:49:49.261Z"
   },
   {
    "duration": 68,
    "start_time": "2024-11-02T17:54:24.683Z"
   },
   {
    "duration": 82,
    "start_time": "2024-11-02T17:54:58.459Z"
   },
   {
    "duration": 17,
    "start_time": "2024-11-02T17:57:58.636Z"
   },
   {
    "duration": 19,
    "start_time": "2024-11-02T17:58:54.814Z"
   },
   {
    "duration": 3,
    "start_time": "2024-11-02T19:39:58.208Z"
   },
   {
    "duration": 10,
    "start_time": "2024-11-02T19:40:52.099Z"
   },
   {
    "duration": 8,
    "start_time": "2024-11-02T19:41:00.725Z"
   },
   {
    "duration": 5,
    "start_time": "2024-11-02T19:41:03.715Z"
   },
   {
    "duration": 47,
    "start_time": "2024-11-02T19:41:26.866Z"
   },
   {
    "duration": 43,
    "start_time": "2024-11-02T19:41:47.501Z"
   },
   {
    "duration": 7,
    "start_time": "2024-11-02T19:42:24.593Z"
   },
   {
    "duration": 6,
    "start_time": "2024-11-02T19:42:40.355Z"
   },
   {
    "duration": 8,
    "start_time": "2024-11-02T19:44:02.413Z"
   },
   {
    "duration": 9,
    "start_time": "2024-11-02T23:54:19.738Z"
   },
   {
    "duration": 2635,
    "start_time": "2024-11-02T23:54:25.444Z"
   },
   {
    "duration": 16,
    "start_time": "2024-11-02T23:54:28.082Z"
   },
   {
    "duration": 8,
    "start_time": "2024-11-02T23:54:28.100Z"
   },
   {
    "duration": 5,
    "start_time": "2024-11-02T23:54:28.124Z"
   },
   {
    "duration": 73,
    "start_time": "2024-11-02T23:54:28.131Z"
   },
   {
    "duration": 15,
    "start_time": "2024-11-02T23:54:28.206Z"
   },
   {
    "duration": 9,
    "start_time": "2024-11-02T23:54:28.223Z"
   },
   {
    "duration": 6,
    "start_time": "2024-11-02T23:54:28.234Z"
   },
   {
    "duration": 8,
    "start_time": "2024-11-02T23:54:28.241Z"
   },
   {
    "duration": 4,
    "start_time": "2024-11-02T23:54:28.251Z"
   },
   {
    "duration": 0,
    "start_time": "2024-11-02T23:54:28.256Z"
   },
   {
    "duration": 0,
    "start_time": "2024-11-02T23:54:28.258Z"
   },
   {
    "duration": 0,
    "start_time": "2024-11-02T23:54:28.259Z"
   },
   {
    "duration": 0,
    "start_time": "2024-11-02T23:54:28.260Z"
   },
   {
    "duration": 0,
    "start_time": "2024-11-02T23:54:28.264Z"
   },
   {
    "duration": 0,
    "start_time": "2024-11-02T23:54:28.265Z"
   },
   {
    "duration": 0,
    "start_time": "2024-11-02T23:54:28.265Z"
   },
   {
    "duration": 8,
    "start_time": "2024-11-02T23:55:58.960Z"
   },
   {
    "duration": 7,
    "start_time": "2024-11-02T23:56:06.214Z"
   },
   {
    "duration": 850,
    "start_time": "2024-11-02T23:56:34.516Z"
   },
   {
    "duration": 12,
    "start_time": "2024-11-02T23:56:35.368Z"
   },
   {
    "duration": 8,
    "start_time": "2024-11-02T23:56:35.382Z"
   },
   {
    "duration": 5,
    "start_time": "2024-11-02T23:56:35.392Z"
   },
   {
    "duration": 62,
    "start_time": "2024-11-02T23:56:35.398Z"
   },
   {
    "duration": 13,
    "start_time": "2024-11-02T23:56:35.462Z"
   },
   {
    "duration": 6,
    "start_time": "2024-11-02T23:56:35.477Z"
   },
   {
    "duration": 6,
    "start_time": "2024-11-02T23:56:35.485Z"
   },
   {
    "duration": 31,
    "start_time": "2024-11-02T23:56:35.493Z"
   },
   {
    "duration": 335,
    "start_time": "2024-11-02T23:56:35.526Z"
   },
   {
    "duration": 43,
    "start_time": "2024-11-02T23:56:35.863Z"
   },
   {
    "duration": 26,
    "start_time": "2024-11-02T23:56:35.908Z"
   },
   {
    "duration": 8,
    "start_time": "2024-11-02T23:56:35.936Z"
   },
   {
    "duration": 79,
    "start_time": "2024-11-02T23:56:35.946Z"
   },
   {
    "duration": 36,
    "start_time": "2024-11-02T23:56:36.026Z"
   },
   {
    "duration": 141,
    "start_time": "2024-11-02T23:56:36.064Z"
   },
   {
    "duration": 6,
    "start_time": "2024-11-02T23:59:01.365Z"
   },
   {
    "duration": 4,
    "start_time": "2024-11-03T00:00:44.738Z"
   },
   {
    "duration": 5,
    "start_time": "2024-11-03T00:01:19.566Z"
   },
   {
    "duration": 9,
    "start_time": "2024-11-03T00:02:01.909Z"
   },
   {
    "duration": 4,
    "start_time": "2024-11-03T00:02:03.453Z"
   },
   {
    "duration": 30,
    "start_time": "2024-11-03T00:04:14.269Z"
   },
   {
    "duration": 265,
    "start_time": "2024-11-03T00:07:13.226Z"
   },
   {
    "duration": 5,
    "start_time": "2024-11-03T00:07:23.607Z"
   },
   {
    "duration": 31,
    "start_time": "2024-11-03T00:07:32.383Z"
   },
   {
    "duration": 17,
    "start_time": "2024-11-03T00:08:14.704Z"
   },
   {
    "duration": 9,
    "start_time": "2024-11-03T00:09:24.957Z"
   },
   {
    "duration": 873,
    "start_time": "2024-11-03T00:10:31.837Z"
   },
   {
    "duration": 17,
    "start_time": "2024-11-03T00:10:32.712Z"
   },
   {
    "duration": 7,
    "start_time": "2024-11-03T00:10:32.731Z"
   },
   {
    "duration": 4,
    "start_time": "2024-11-03T00:10:32.741Z"
   },
   {
    "duration": 4,
    "start_time": "2024-11-03T00:10:32.747Z"
   },
   {
    "duration": 5,
    "start_time": "2024-11-03T00:10:32.752Z"
   },
   {
    "duration": 70,
    "start_time": "2024-11-03T00:10:32.758Z"
   },
   {
    "duration": 15,
    "start_time": "2024-11-03T00:10:32.830Z"
   },
   {
    "duration": 10,
    "start_time": "2024-11-03T00:10:32.847Z"
   },
   {
    "duration": 9,
    "start_time": "2024-11-03T00:10:32.860Z"
   },
   {
    "duration": 5,
    "start_time": "2024-11-03T00:10:32.870Z"
   },
   {
    "duration": 4,
    "start_time": "2024-11-03T00:10:32.876Z"
   },
   {
    "duration": 6,
    "start_time": "2024-11-03T00:10:32.883Z"
   },
   {
    "duration": 25,
    "start_time": "2024-11-03T00:10:32.923Z"
   },
   {
    "duration": 323,
    "start_time": "2024-11-03T00:10:32.950Z"
   },
   {
    "duration": 55,
    "start_time": "2024-11-03T00:10:33.275Z"
   },
   {
    "duration": 37,
    "start_time": "2024-11-03T00:10:33.333Z"
   },
   {
    "duration": 5,
    "start_time": "2024-11-03T00:10:33.372Z"
   },
   {
    "duration": 53,
    "start_time": "2024-11-03T00:10:33.378Z"
   },
   {
    "duration": 61,
    "start_time": "2024-11-03T00:10:33.433Z"
   },
   {
    "duration": 32,
    "start_time": "2024-11-03T00:10:33.496Z"
   },
   {
    "duration": 9,
    "start_time": "2024-11-03T00:10:33.529Z"
   },
   {
    "duration": 16,
    "start_time": "2024-11-03T00:10:33.540Z"
   },
   {
    "duration": 38,
    "start_time": "2024-11-03T00:10:33.558Z"
   },
   {
    "duration": 158,
    "start_time": "2024-11-03T00:10:33.597Z"
   },
   {
    "duration": 4,
    "start_time": "2024-11-03T00:16:08.456Z"
   },
   {
    "duration": 4,
    "start_time": "2024-11-03T00:17:14.756Z"
   },
   {
    "duration": 5,
    "start_time": "2024-11-03T00:19:23.033Z"
   },
   {
    "duration": 8,
    "start_time": "2024-11-03T00:25:26.021Z"
   },
   {
    "duration": 7,
    "start_time": "2024-11-03T00:25:41.810Z"
   },
   {
    "duration": 9,
    "start_time": "2024-11-03T00:27:55.943Z"
   },
   {
    "duration": 492,
    "start_time": "2024-11-03T00:30:03.335Z"
   },
   {
    "duration": 846,
    "start_time": "2024-11-03T00:30:23.166Z"
   },
   {
    "duration": 14,
    "start_time": "2024-11-03T00:30:24.014Z"
   },
   {
    "duration": 9,
    "start_time": "2024-11-03T00:30:24.030Z"
   },
   {
    "duration": 5,
    "start_time": "2024-11-03T00:30:24.041Z"
   },
   {
    "duration": 4,
    "start_time": "2024-11-03T00:30:24.049Z"
   },
   {
    "duration": 4,
    "start_time": "2024-11-03T00:30:24.055Z"
   },
   {
    "duration": 83,
    "start_time": "2024-11-03T00:30:24.061Z"
   },
   {
    "duration": 14,
    "start_time": "2024-11-03T00:30:24.145Z"
   },
   {
    "duration": 9,
    "start_time": "2024-11-03T00:30:24.161Z"
   },
   {
    "duration": 9,
    "start_time": "2024-11-03T00:30:24.174Z"
   },
   {
    "duration": 4,
    "start_time": "2024-11-03T00:30:24.184Z"
   },
   {
    "duration": 5,
    "start_time": "2024-11-03T00:30:24.189Z"
   },
   {
    "duration": 35,
    "start_time": "2024-11-03T00:30:24.195Z"
   },
   {
    "duration": 18,
    "start_time": "2024-11-03T00:30:24.232Z"
   },
   {
    "duration": 307,
    "start_time": "2024-11-03T00:30:24.252Z"
   },
   {
    "duration": 44,
    "start_time": "2024-11-03T00:30:24.562Z"
   },
   {
    "duration": 53,
    "start_time": "2024-11-03T00:30:24.608Z"
   },
   {
    "duration": 5,
    "start_time": "2024-11-03T00:30:24.663Z"
   },
   {
    "duration": 56,
    "start_time": "2024-11-03T00:30:24.670Z"
   },
   {
    "duration": 61,
    "start_time": "2024-11-03T00:30:24.728Z"
   },
   {
    "duration": 18,
    "start_time": "2024-11-03T00:30:24.790Z"
   },
   {
    "duration": 9,
    "start_time": "2024-11-03T00:30:24.824Z"
   },
   {
    "duration": 4,
    "start_time": "2024-11-03T00:30:24.834Z"
   },
   {
    "duration": 5,
    "start_time": "2024-11-03T00:30:24.840Z"
   },
   {
    "duration": 6,
    "start_time": "2024-11-03T00:30:24.846Z"
   },
   {
    "duration": 6,
    "start_time": "2024-11-03T00:30:24.855Z"
   },
   {
    "duration": 8,
    "start_time": "2024-11-03T00:30:24.864Z"
   },
   {
    "duration": 540,
    "start_time": "2024-11-03T00:30:24.876Z"
   },
   {
    "duration": 5,
    "start_time": "2024-11-03T00:31:54.089Z"
   },
   {
    "duration": 129,
    "start_time": "2024-11-03T00:32:31.895Z"
   },
   {
    "duration": 20,
    "start_time": "2024-11-03T00:37:51.587Z"
   },
   {
    "duration": 126,
    "start_time": "2024-11-03T00:39:55.100Z"
   },
   {
    "duration": 132,
    "start_time": "2024-11-03T00:45:50.879Z"
   },
   {
    "duration": 9,
    "start_time": "2024-11-03T00:52:15.865Z"
   },
   {
    "duration": 83,
    "start_time": "2024-11-03T00:52:52.743Z"
   },
   {
    "duration": 173,
    "start_time": "2024-11-03T00:54:47.393Z"
   },
   {
    "duration": 11,
    "start_time": "2024-11-03T00:55:25.307Z"
   },
   {
    "duration": 2557,
    "start_time": "2024-11-03T13:38:26.080Z"
   },
   {
    "duration": 18,
    "start_time": "2024-11-03T13:38:28.639Z"
   },
   {
    "duration": 8,
    "start_time": "2024-11-03T13:38:28.658Z"
   },
   {
    "duration": 4,
    "start_time": "2024-11-03T13:38:28.668Z"
   },
   {
    "duration": 3,
    "start_time": "2024-11-03T13:38:28.675Z"
   },
   {
    "duration": 4,
    "start_time": "2024-11-03T13:38:28.680Z"
   },
   {
    "duration": 88,
    "start_time": "2024-11-03T13:38:28.686Z"
   },
   {
    "duration": 13,
    "start_time": "2024-11-03T13:38:28.776Z"
   },
   {
    "duration": 10,
    "start_time": "2024-11-03T13:38:28.790Z"
   },
   {
    "duration": 8,
    "start_time": "2024-11-03T13:38:28.802Z"
   },
   {
    "duration": 4,
    "start_time": "2024-11-03T13:38:28.812Z"
   },
   {
    "duration": 4,
    "start_time": "2024-11-03T13:38:28.817Z"
   },
   {
    "duration": 5,
    "start_time": "2024-11-03T13:38:28.823Z"
   },
   {
    "duration": 18,
    "start_time": "2024-11-03T13:38:28.832Z"
   },
   {
    "duration": 329,
    "start_time": "2024-11-03T13:38:28.853Z"
   },
   {
    "duration": 51,
    "start_time": "2024-11-03T13:38:29.183Z"
   },
   {
    "duration": 37,
    "start_time": "2024-11-03T13:38:29.235Z"
   },
   {
    "duration": 4,
    "start_time": "2024-11-03T13:38:29.274Z"
   },
   {
    "duration": 56,
    "start_time": "2024-11-03T13:38:29.280Z"
   },
   {
    "duration": 75,
    "start_time": "2024-11-03T13:38:29.338Z"
   },
   {
    "duration": 26,
    "start_time": "2024-11-03T13:38:29.414Z"
   },
   {
    "duration": 9,
    "start_time": "2024-11-03T13:38:29.441Z"
   },
   {
    "duration": 4,
    "start_time": "2024-11-03T13:38:29.452Z"
   },
   {
    "duration": 3,
    "start_time": "2024-11-03T13:38:29.458Z"
   },
   {
    "duration": 5,
    "start_time": "2024-11-03T13:38:29.462Z"
   },
   {
    "duration": 5,
    "start_time": "2024-11-03T13:38:29.469Z"
   },
   {
    "duration": 5,
    "start_time": "2024-11-03T13:40:20.398Z"
   },
   {
    "duration": 5,
    "start_time": "2024-11-03T13:40:32.509Z"
   },
   {
    "duration": 7,
    "start_time": "2024-11-03T13:40:37.396Z"
   },
   {
    "duration": 6,
    "start_time": "2024-11-03T13:48:21.646Z"
   },
   {
    "duration": 842,
    "start_time": "2024-11-03T13:48:36.145Z"
   },
   {
    "duration": 13,
    "start_time": "2024-11-03T13:48:36.990Z"
   },
   {
    "duration": 8,
    "start_time": "2024-11-03T13:48:37.010Z"
   },
   {
    "duration": 4,
    "start_time": "2024-11-03T13:48:37.020Z"
   },
   {
    "duration": 5,
    "start_time": "2024-11-03T13:48:37.025Z"
   },
   {
    "duration": 4,
    "start_time": "2024-11-03T13:48:37.032Z"
   },
   {
    "duration": 47,
    "start_time": "2024-11-03T13:48:37.037Z"
   },
   {
    "duration": 14,
    "start_time": "2024-11-03T13:48:37.108Z"
   },
   {
    "duration": 10,
    "start_time": "2024-11-03T13:48:37.123Z"
   },
   {
    "duration": 9,
    "start_time": "2024-11-03T13:48:37.136Z"
   },
   {
    "duration": 5,
    "start_time": "2024-11-03T13:48:37.147Z"
   },
   {
    "duration": 5,
    "start_time": "2024-11-03T13:48:37.154Z"
   },
   {
    "duration": 7,
    "start_time": "2024-11-03T13:48:37.161Z"
   },
   {
    "duration": 57,
    "start_time": "2024-11-03T13:48:37.170Z"
   },
   {
    "duration": 312,
    "start_time": "2024-11-03T13:48:37.229Z"
   },
   {
    "duration": 42,
    "start_time": "2024-11-03T13:48:37.544Z"
   },
   {
    "duration": 55,
    "start_time": "2024-11-03T13:48:37.588Z"
   },
   {
    "duration": 5,
    "start_time": "2024-11-03T13:48:37.644Z"
   },
   {
    "duration": 40,
    "start_time": "2024-11-03T13:48:37.651Z"
   },
   {
    "duration": 74,
    "start_time": "2024-11-03T13:48:37.692Z"
   },
   {
    "duration": 17,
    "start_time": "2024-11-03T13:48:37.768Z"
   },
   {
    "duration": 8,
    "start_time": "2024-11-03T13:48:37.786Z"
   },
   {
    "duration": 4,
    "start_time": "2024-11-03T13:48:37.810Z"
   },
   {
    "duration": 4,
    "start_time": "2024-11-03T13:48:37.817Z"
   },
   {
    "duration": 289,
    "start_time": "2024-11-03T13:48:37.823Z"
   },
   {
    "duration": 0,
    "start_time": "2024-11-03T13:48:38.114Z"
   },
   {
    "duration": 850,
    "start_time": "2024-11-03T13:49:12.841Z"
   },
   {
    "duration": 17,
    "start_time": "2024-11-03T13:49:13.693Z"
   },
   {
    "duration": 8,
    "start_time": "2024-11-03T13:49:13.711Z"
   },
   {
    "duration": 4,
    "start_time": "2024-11-03T13:49:13.720Z"
   },
   {
    "duration": 3,
    "start_time": "2024-11-03T13:49:13.727Z"
   },
   {
    "duration": 3,
    "start_time": "2024-11-03T13:49:13.732Z"
   },
   {
    "duration": 45,
    "start_time": "2024-11-03T13:49:13.737Z"
   },
   {
    "duration": 38,
    "start_time": "2024-11-03T13:49:13.784Z"
   },
   {
    "duration": 11,
    "start_time": "2024-11-03T13:49:13.823Z"
   },
   {
    "duration": 9,
    "start_time": "2024-11-03T13:49:13.836Z"
   },
   {
    "duration": 4,
    "start_time": "2024-11-03T13:49:13.846Z"
   },
   {
    "duration": 4,
    "start_time": "2024-11-03T13:49:13.852Z"
   },
   {
    "duration": 5,
    "start_time": "2024-11-03T13:49:13.858Z"
   },
   {
    "duration": 58,
    "start_time": "2024-11-03T13:49:13.866Z"
   },
   {
    "duration": 313,
    "start_time": "2024-11-03T13:49:13.926Z"
   },
   {
    "duration": 43,
    "start_time": "2024-11-03T13:49:14.241Z"
   },
   {
    "duration": 48,
    "start_time": "2024-11-03T13:49:14.285Z"
   },
   {
    "duration": 6,
    "start_time": "2024-11-03T13:49:14.334Z"
   },
   {
    "duration": 39,
    "start_time": "2024-11-03T13:49:14.341Z"
   },
   {
    "duration": 76,
    "start_time": "2024-11-03T13:49:14.382Z"
   },
   {
    "duration": 16,
    "start_time": "2024-11-03T13:49:14.460Z"
   },
   {
    "duration": 8,
    "start_time": "2024-11-03T13:49:14.477Z"
   },
   {
    "duration": 24,
    "start_time": "2024-11-03T13:49:14.487Z"
   },
   {
    "duration": 4,
    "start_time": "2024-11-03T13:49:14.513Z"
   },
   {
    "duration": 4,
    "start_time": "2024-11-03T13:49:14.518Z"
   },
   {
    "duration": 5,
    "start_time": "2024-11-03T13:49:14.524Z"
   },
   {
    "duration": 5,
    "start_time": "2024-11-03T13:49:29.525Z"
   },
   {
    "duration": 6,
    "start_time": "2024-11-03T13:49:31.008Z"
   },
   {
    "duration": 3,
    "start_time": "2024-11-03T13:55:35.777Z"
   },
   {
    "duration": 251,
    "start_time": "2024-11-03T13:58:52.020Z"
   },
   {
    "duration": 65,
    "start_time": "2024-11-03T14:04:44.758Z"
   },
   {
    "duration": 31,
    "start_time": "2024-11-03T14:04:55.533Z"
   },
   {
    "duration": 4,
    "start_time": "2024-11-03T14:05:06.835Z"
   },
   {
    "duration": 62,
    "start_time": "2024-11-03T14:08:56.817Z"
   },
   {
    "duration": 8,
    "start_time": "2024-11-03T14:09:41.032Z"
   },
   {
    "duration": 186,
    "start_time": "2024-11-03T14:11:16.225Z"
   },
   {
    "duration": 8,
    "start_time": "2024-11-03T14:13:01.050Z"
   },
   {
    "duration": 63,
    "start_time": "2024-11-03T14:14:21.143Z"
   },
   {
    "duration": 848,
    "start_time": "2024-11-03T14:14:34.130Z"
   },
   {
    "duration": 14,
    "start_time": "2024-11-03T14:14:34.981Z"
   },
   {
    "duration": 17,
    "start_time": "2024-11-03T14:14:34.997Z"
   },
   {
    "duration": 4,
    "start_time": "2024-11-03T14:14:35.016Z"
   },
   {
    "duration": 4,
    "start_time": "2024-11-03T14:14:35.023Z"
   },
   {
    "duration": 4,
    "start_time": "2024-11-03T14:14:35.029Z"
   },
   {
    "duration": 74,
    "start_time": "2024-11-03T14:14:35.035Z"
   },
   {
    "duration": 14,
    "start_time": "2024-11-03T14:14:35.111Z"
   },
   {
    "duration": 10,
    "start_time": "2024-11-03T14:14:35.126Z"
   },
   {
    "duration": 8,
    "start_time": "2024-11-03T14:14:35.138Z"
   },
   {
    "duration": 3,
    "start_time": "2024-11-03T14:14:35.148Z"
   },
   {
    "duration": 4,
    "start_time": "2024-11-03T14:14:35.153Z"
   },
   {
    "duration": 7,
    "start_time": "2024-11-03T14:14:35.159Z"
   },
   {
    "duration": 56,
    "start_time": "2024-11-03T14:14:35.168Z"
   },
   {
    "duration": 304,
    "start_time": "2024-11-03T14:14:35.226Z"
   },
   {
    "duration": 42,
    "start_time": "2024-11-03T14:14:35.533Z"
   },
   {
    "duration": 46,
    "start_time": "2024-11-03T14:14:35.577Z"
   },
   {
    "duration": 5,
    "start_time": "2024-11-03T14:14:35.625Z"
   },
   {
    "duration": 38,
    "start_time": "2024-11-03T14:14:35.632Z"
   },
   {
    "duration": 81,
    "start_time": "2024-11-03T14:14:35.672Z"
   },
   {
    "duration": 17,
    "start_time": "2024-11-03T14:14:35.754Z"
   },
   {
    "duration": 9,
    "start_time": "2024-11-03T14:14:35.773Z"
   },
   {
    "duration": 4,
    "start_time": "2024-11-03T14:14:35.784Z"
   },
   {
    "duration": 4,
    "start_time": "2024-11-03T14:14:35.809Z"
   },
   {
    "duration": 4,
    "start_time": "2024-11-03T14:14:35.815Z"
   },
   {
    "duration": 5,
    "start_time": "2024-11-03T14:14:35.821Z"
   },
   {
    "duration": 96,
    "start_time": "2024-11-03T14:14:35.828Z"
   },
   {
    "duration": 71,
    "start_time": "2024-11-03T14:14:35.926Z"
   },
   {
    "duration": 209,
    "start_time": "2024-11-03T14:14:36.010Z"
   },
   {
    "duration": 125,
    "start_time": "2024-11-03T14:19:00.084Z"
   },
   {
    "duration": 55,
    "start_time": "2024-11-03T14:19:09.093Z"
   },
   {
    "duration": 72,
    "start_time": "2024-11-03T14:19:28.711Z"
   },
   {
    "duration": 150,
    "start_time": "2024-11-03T14:20:15.106Z"
   },
   {
    "duration": 67,
    "start_time": "2024-11-03T14:23:32.846Z"
   },
   {
    "duration": 128,
    "start_time": "2024-11-03T14:24:46.072Z"
   },
   {
    "duration": 137,
    "start_time": "2024-11-03T14:25:08.136Z"
   },
   {
    "duration": 68,
    "start_time": "2024-11-03T14:26:04.586Z"
   },
   {
    "duration": 144,
    "start_time": "2024-11-03T14:26:50.212Z"
   },
   {
    "duration": 247,
    "start_time": "2024-11-03T14:29:58.979Z"
   },
   {
    "duration": 580,
    "start_time": "2024-11-03T14:38:57.752Z"
   },
   {
    "duration": 149,
    "start_time": "2024-11-03T14:39:47.111Z"
   },
   {
    "duration": 153,
    "start_time": "2024-11-03T14:41:38.626Z"
   },
   {
    "duration": 4,
    "start_time": "2024-11-03T15:08:47.860Z"
   },
   {
    "duration": 2,
    "start_time": "2024-11-03T15:09:19.855Z"
   },
   {
    "duration": 4,
    "start_time": "2024-11-03T15:09:55.092Z"
   },
   {
    "duration": 4,
    "start_time": "2024-11-03T15:10:32.318Z"
   },
   {
    "duration": 16,
    "start_time": "2024-11-03T15:19:01.598Z"
   },
   {
    "duration": 7,
    "start_time": "2024-11-03T15:19:15.246Z"
   },
   {
    "duration": 6,
    "start_time": "2024-11-03T15:21:28.907Z"
   },
   {
    "duration": 817,
    "start_time": "2024-11-03T15:22:38.992Z"
   },
   {
    "duration": 13,
    "start_time": "2024-11-03T15:22:39.811Z"
   },
   {
    "duration": 8,
    "start_time": "2024-11-03T15:22:39.826Z"
   },
   {
    "duration": 4,
    "start_time": "2024-11-03T15:22:39.836Z"
   },
   {
    "duration": 4,
    "start_time": "2024-11-03T15:22:39.841Z"
   },
   {
    "duration": 4,
    "start_time": "2024-11-03T15:22:39.848Z"
   },
   {
    "duration": 68,
    "start_time": "2024-11-03T15:22:39.853Z"
   },
   {
    "duration": 13,
    "start_time": "2024-11-03T15:22:39.923Z"
   },
   {
    "duration": 10,
    "start_time": "2024-11-03T15:22:39.938Z"
   },
   {
    "duration": 9,
    "start_time": "2024-11-03T15:22:39.951Z"
   },
   {
    "duration": 4,
    "start_time": "2024-11-03T15:22:39.961Z"
   },
   {
    "duration": 4,
    "start_time": "2024-11-03T15:22:39.967Z"
   },
   {
    "duration": 39,
    "start_time": "2024-11-03T15:22:39.973Z"
   },
   {
    "duration": 23,
    "start_time": "2024-11-03T15:22:40.013Z"
   },
   {
    "duration": 319,
    "start_time": "2024-11-03T15:22:40.038Z"
   },
   {
    "duration": 51,
    "start_time": "2024-11-03T15:22:40.359Z"
   },
   {
    "duration": 37,
    "start_time": "2024-11-03T15:22:40.412Z"
   },
   {
    "duration": 4,
    "start_time": "2024-11-03T15:22:40.451Z"
   },
   {
    "duration": 52,
    "start_time": "2024-11-03T15:22:40.458Z"
   },
   {
    "duration": 62,
    "start_time": "2024-11-03T15:22:40.511Z"
   },
   {
    "duration": 16,
    "start_time": "2024-11-03T15:22:40.575Z"
   },
   {
    "duration": 21,
    "start_time": "2024-11-03T15:22:40.593Z"
   },
   {
    "duration": 4,
    "start_time": "2024-11-03T15:22:40.616Z"
   },
   {
    "duration": 4,
    "start_time": "2024-11-03T15:22:40.622Z"
   },
   {
    "duration": 5,
    "start_time": "2024-11-03T15:22:40.627Z"
   },
   {
    "duration": 6,
    "start_time": "2024-11-03T15:22:40.633Z"
   },
   {
    "duration": 159,
    "start_time": "2024-11-03T15:22:40.640Z"
   },
   {
    "duration": 66,
    "start_time": "2024-11-03T15:22:40.803Z"
   },
   {
    "duration": 76,
    "start_time": "2024-11-03T15:22:40.870Z"
   },
   {
    "duration": 153,
    "start_time": "2024-11-03T15:22:40.948Z"
   },
   {
    "duration": 206,
    "start_time": "2024-11-03T15:22:41.103Z"
   },
   {
    "duration": 160,
    "start_time": "2024-11-03T15:22:41.311Z"
   },
   {
    "duration": 26,
    "start_time": "2024-11-03T15:22:41.473Z"
   },
   {
    "duration": 163,
    "start_time": "2024-11-03T15:22:41.501Z"
   },
   {
    "duration": 3,
    "start_time": "2024-11-03T15:22:41.666Z"
   },
   {
    "duration": 5,
    "start_time": "2024-11-03T15:22:41.670Z"
   },
   {
    "duration": 4,
    "start_time": "2024-11-03T15:22:41.677Z"
   },
   {
    "duration": 163,
    "start_time": "2024-11-03T16:15:40.478Z"
   },
   {
    "duration": 15,
    "start_time": "2024-11-03T16:15:52.100Z"
   },
   {
    "duration": 12,
    "start_time": "2024-11-03T16:17:54.218Z"
   },
   {
    "duration": 13,
    "start_time": "2024-11-03T16:17:54.648Z"
   },
   {
    "duration": 2582,
    "start_time": "2024-11-03T16:18:01.866Z"
   },
   {
    "duration": 17,
    "start_time": "2024-11-03T16:18:04.450Z"
   },
   {
    "duration": 8,
    "start_time": "2024-11-03T16:18:04.468Z"
   },
   {
    "duration": 4,
    "start_time": "2024-11-03T16:18:04.478Z"
   },
   {
    "duration": 4,
    "start_time": "2024-11-03T16:18:04.484Z"
   },
   {
    "duration": 24,
    "start_time": "2024-11-03T16:18:04.490Z"
   },
   {
    "duration": 69,
    "start_time": "2024-11-03T16:18:04.516Z"
   },
   {
    "duration": 15,
    "start_time": "2024-11-03T16:18:04.586Z"
   },
   {
    "duration": 9,
    "start_time": "2024-11-03T16:18:04.603Z"
   },
   {
    "duration": 9,
    "start_time": "2024-11-03T16:18:04.614Z"
   },
   {
    "duration": 4,
    "start_time": "2024-11-03T16:18:04.625Z"
   },
   {
    "duration": 3,
    "start_time": "2024-11-03T16:18:04.631Z"
   },
   {
    "duration": 5,
    "start_time": "2024-11-03T16:18:04.637Z"
   },
   {
    "duration": 19,
    "start_time": "2024-11-03T16:18:04.646Z"
   },
   {
    "duration": 359,
    "start_time": "2024-11-03T16:18:04.668Z"
   },
   {
    "duration": 43,
    "start_time": "2024-11-03T16:18:05.028Z"
   },
   {
    "duration": 54,
    "start_time": "2024-11-03T16:18:05.073Z"
   },
   {
    "duration": 5,
    "start_time": "2024-11-03T16:18:05.128Z"
   },
   {
    "duration": 37,
    "start_time": "2024-11-03T16:18:05.135Z"
   },
   {
    "duration": 83,
    "start_time": "2024-11-03T16:18:05.174Z"
   },
   {
    "duration": 26,
    "start_time": "2024-11-03T16:18:05.259Z"
   },
   {
    "duration": 8,
    "start_time": "2024-11-03T16:18:05.287Z"
   },
   {
    "duration": 4,
    "start_time": "2024-11-03T16:18:05.297Z"
   },
   {
    "duration": 5,
    "start_time": "2024-11-03T16:18:05.314Z"
   },
   {
    "duration": 4,
    "start_time": "2024-11-03T16:18:05.322Z"
   },
   {
    "duration": 6,
    "start_time": "2024-11-03T16:18:05.328Z"
   },
   {
    "duration": 158,
    "start_time": "2024-11-03T16:18:05.336Z"
   },
   {
    "duration": 57,
    "start_time": "2024-11-03T16:18:05.495Z"
   },
   {
    "duration": 81,
    "start_time": "2024-11-03T16:18:05.554Z"
   },
   {
    "duration": 156,
    "start_time": "2024-11-03T16:18:05.637Z"
   },
   {
    "duration": 201,
    "start_time": "2024-11-03T16:18:05.795Z"
   },
   {
    "duration": 102,
    "start_time": "2024-11-03T16:18:05.998Z"
   },
   {
    "duration": 27,
    "start_time": "2024-11-03T16:18:06.102Z"
   },
   {
    "duration": 164,
    "start_time": "2024-11-03T16:18:06.131Z"
   },
   {
    "duration": 3,
    "start_time": "2024-11-03T16:18:06.297Z"
   },
   {
    "duration": 10,
    "start_time": "2024-11-03T16:18:06.302Z"
   },
   {
    "duration": 5,
    "start_time": "2024-11-03T16:18:06.315Z"
   },
   {
    "duration": 97,
    "start_time": "2024-11-03T16:19:28.092Z"
   },
   {
    "duration": 804,
    "start_time": "2024-11-03T16:43:52.690Z"
   },
   {
    "duration": 14,
    "start_time": "2024-11-03T16:43:53.498Z"
   },
   {
    "duration": 8,
    "start_time": "2024-11-03T16:43:53.514Z"
   },
   {
    "duration": 4,
    "start_time": "2024-11-03T16:43:53.525Z"
   },
   {
    "duration": 5,
    "start_time": "2024-11-03T16:43:53.531Z"
   },
   {
    "duration": 4,
    "start_time": "2024-11-03T16:43:53.537Z"
   },
   {
    "duration": 70,
    "start_time": "2024-11-03T16:43:53.543Z"
   },
   {
    "duration": 14,
    "start_time": "2024-11-03T16:43:53.615Z"
   },
   {
    "duration": 10,
    "start_time": "2024-11-03T16:43:53.630Z"
   },
   {
    "duration": 8,
    "start_time": "2024-11-03T16:43:53.644Z"
   },
   {
    "duration": 4,
    "start_time": "2024-11-03T16:43:53.653Z"
   },
   {
    "duration": 4,
    "start_time": "2024-11-03T16:43:53.659Z"
   },
   {
    "duration": 5,
    "start_time": "2024-11-03T16:43:53.664Z"
   },
   {
    "duration": 57,
    "start_time": "2024-11-03T16:43:53.671Z"
   },
   {
    "duration": 303,
    "start_time": "2024-11-03T16:43:53.729Z"
   },
   {
    "duration": 45,
    "start_time": "2024-11-03T16:43:54.033Z"
   },
   {
    "duration": 49,
    "start_time": "2024-11-03T16:43:54.080Z"
   },
   {
    "duration": 5,
    "start_time": "2024-11-03T16:43:54.131Z"
   },
   {
    "duration": 37,
    "start_time": "2024-11-03T16:43:54.138Z"
   },
   {
    "duration": 74,
    "start_time": "2024-11-03T16:43:54.178Z"
   },
   {
    "duration": 16,
    "start_time": "2024-11-03T16:43:54.254Z"
   },
   {
    "duration": 8,
    "start_time": "2024-11-03T16:43:54.272Z"
   },
   {
    "duration": 4,
    "start_time": "2024-11-03T16:43:54.281Z"
   },
   {
    "duration": 27,
    "start_time": "2024-11-03T16:43:54.286Z"
   },
   {
    "duration": 4,
    "start_time": "2024-11-03T16:43:54.315Z"
   },
   {
    "duration": 5,
    "start_time": "2024-11-03T16:43:54.321Z"
   },
   {
    "duration": 135,
    "start_time": "2024-11-03T16:43:54.328Z"
   },
   {
    "duration": 65,
    "start_time": "2024-11-03T16:43:54.468Z"
   },
   {
    "duration": 79,
    "start_time": "2024-11-03T16:43:54.535Z"
   },
   {
    "duration": 162,
    "start_time": "2024-11-03T16:43:54.616Z"
   },
   {
    "duration": 200,
    "start_time": "2024-11-03T16:43:54.780Z"
   },
   {
    "duration": 160,
    "start_time": "2024-11-03T16:43:54.981Z"
   },
   {
    "duration": 26,
    "start_time": "2024-11-03T16:43:55.143Z"
   },
   {
    "duration": 169,
    "start_time": "2024-11-03T16:43:55.171Z"
   },
   {
    "duration": 3,
    "start_time": "2024-11-03T16:43:55.342Z"
   },
   {
    "duration": 4,
    "start_time": "2024-11-03T16:43:55.347Z"
   },
   {
    "duration": 4,
    "start_time": "2024-11-03T16:43:55.353Z"
   },
   {
    "duration": 2592,
    "start_time": "2024-11-04T14:53:28.845Z"
   },
   {
    "duration": 18,
    "start_time": "2024-11-04T14:53:31.439Z"
   },
   {
    "duration": 8,
    "start_time": "2024-11-04T14:53:31.459Z"
   },
   {
    "duration": 4,
    "start_time": "2024-11-04T14:53:31.470Z"
   },
   {
    "duration": 4,
    "start_time": "2024-11-04T14:53:31.475Z"
   },
   {
    "duration": 4,
    "start_time": "2024-11-04T14:53:31.481Z"
   },
   {
    "duration": 70,
    "start_time": "2024-11-04T14:53:31.486Z"
   },
   {
    "duration": 14,
    "start_time": "2024-11-04T14:53:31.558Z"
   },
   {
    "duration": 10,
    "start_time": "2024-11-04T14:53:31.574Z"
   },
   {
    "duration": 8,
    "start_time": "2024-11-04T14:53:31.587Z"
   },
   {
    "duration": 4,
    "start_time": "2024-11-04T14:53:31.597Z"
   },
   {
    "duration": 5,
    "start_time": "2024-11-04T14:53:31.602Z"
   },
   {
    "duration": 38,
    "start_time": "2024-11-04T14:53:31.608Z"
   },
   {
    "duration": 25,
    "start_time": "2024-11-04T14:53:31.648Z"
   },
   {
    "duration": 320,
    "start_time": "2024-11-04T14:53:31.675Z"
   },
   {
    "duration": 46,
    "start_time": "2024-11-04T14:53:31.998Z"
   },
   {
    "duration": 37,
    "start_time": "2024-11-04T14:53:32.047Z"
   },
   {
    "duration": 5,
    "start_time": "2024-11-04T14:53:32.085Z"
   },
   {
    "duration": 58,
    "start_time": "2024-11-04T14:53:32.091Z"
   },
   {
    "duration": 61,
    "start_time": "2024-11-04T14:53:32.151Z"
   },
   {
    "duration": 32,
    "start_time": "2024-11-04T14:53:32.214Z"
   },
   {
    "duration": 9,
    "start_time": "2024-11-04T14:53:32.248Z"
   },
   {
    "duration": 4,
    "start_time": "2024-11-04T14:53:32.259Z"
   },
   {
    "duration": 3,
    "start_time": "2024-11-04T14:53:32.265Z"
   },
   {
    "duration": 5,
    "start_time": "2024-11-04T14:53:32.270Z"
   },
   {
    "duration": 7,
    "start_time": "2024-11-04T14:53:32.276Z"
   },
   {
    "duration": 153,
    "start_time": "2024-11-04T14:53:32.284Z"
   },
   {
    "duration": 59,
    "start_time": "2024-11-04T14:53:32.442Z"
   },
   {
    "duration": 81,
    "start_time": "2024-11-04T14:53:32.503Z"
   },
   {
    "duration": 151,
    "start_time": "2024-11-04T14:53:32.586Z"
   },
   {
    "duration": 203,
    "start_time": "2024-11-04T14:53:32.739Z"
   },
   {
    "duration": 108,
    "start_time": "2024-11-04T14:53:32.944Z"
   },
   {
    "duration": 31,
    "start_time": "2024-11-04T14:53:33.054Z"
   },
   {
    "duration": 163,
    "start_time": "2024-11-04T14:53:33.087Z"
   },
   {
    "duration": 4,
    "start_time": "2024-11-04T14:53:33.252Z"
   },
   {
    "duration": 5,
    "start_time": "2024-11-04T14:53:33.258Z"
   },
   {
    "duration": 7,
    "start_time": "2024-11-04T14:53:33.265Z"
   },
   {
    "duration": 805,
    "start_time": "2024-12-11T14:11:44.391Z"
   },
   {
    "duration": 17,
    "start_time": "2024-12-11T14:11:45.198Z"
   },
   {
    "duration": 12,
    "start_time": "2024-12-11T14:11:45.217Z"
   },
   {
    "duration": 3,
    "start_time": "2024-12-11T14:11:45.232Z"
   },
   {
    "duration": 4,
    "start_time": "2024-12-11T14:11:45.237Z"
   },
   {
    "duration": 4,
    "start_time": "2024-12-11T14:11:45.243Z"
   },
   {
    "duration": 63,
    "start_time": "2024-12-11T14:11:45.249Z"
   },
   {
    "duration": 18,
    "start_time": "2024-12-11T14:11:45.313Z"
   },
   {
    "duration": 10,
    "start_time": "2024-12-11T14:11:45.332Z"
   },
   {
    "duration": 8,
    "start_time": "2024-12-11T14:11:45.346Z"
   },
   {
    "duration": 4,
    "start_time": "2024-12-11T14:11:45.355Z"
   },
   {
    "duration": 4,
    "start_time": "2024-12-11T14:11:45.361Z"
   },
   {
    "duration": 5,
    "start_time": "2024-12-11T14:11:45.366Z"
   },
   {
    "duration": 54,
    "start_time": "2024-12-11T14:11:45.373Z"
   },
   {
    "duration": 316,
    "start_time": "2024-12-11T14:11:45.429Z"
   },
   {
    "duration": 41,
    "start_time": "2024-12-11T14:11:45.747Z"
   },
   {
    "duration": 45,
    "start_time": "2024-12-11T14:11:45.790Z"
   },
   {
    "duration": 5,
    "start_time": "2024-12-11T14:11:45.837Z"
   },
   {
    "duration": 38,
    "start_time": "2024-12-11T14:11:45.843Z"
   },
   {
    "duration": 79,
    "start_time": "2024-12-11T14:11:45.882Z"
   },
   {
    "duration": 24,
    "start_time": "2024-12-11T14:11:45.963Z"
   },
   {
    "duration": 8,
    "start_time": "2024-12-11T14:11:45.990Z"
   },
   {
    "duration": 3,
    "start_time": "2024-12-11T14:11:46.000Z"
   },
   {
    "duration": 4,
    "start_time": "2024-12-11T14:11:46.005Z"
   },
   {
    "duration": 14,
    "start_time": "2024-12-11T14:11:46.010Z"
   },
   {
    "duration": 5,
    "start_time": "2024-12-11T14:11:46.026Z"
   },
   {
    "duration": 141,
    "start_time": "2024-12-11T14:11:46.033Z"
   },
   {
    "duration": 61,
    "start_time": "2024-12-11T14:11:46.177Z"
   },
   {
    "duration": 69,
    "start_time": "2024-12-11T14:11:46.239Z"
   },
   {
    "duration": 157,
    "start_time": "2024-12-11T14:11:46.310Z"
   },
   {
    "duration": 192,
    "start_time": "2024-12-11T14:11:46.469Z"
   },
   {
    "duration": 166,
    "start_time": "2024-12-11T14:11:46.662Z"
   },
   {
    "duration": 27,
    "start_time": "2024-12-11T14:11:46.829Z"
   },
   {
    "duration": 159,
    "start_time": "2024-12-11T14:11:46.857Z"
   },
   {
    "duration": 8,
    "start_time": "2024-12-11T14:11:47.017Z"
   },
   {
    "duration": 5,
    "start_time": "2024-12-11T14:11:47.026Z"
   },
   {
    "duration": 4,
    "start_time": "2024-12-11T14:11:47.033Z"
   }
  ],
  "kernelspec": {
   "display_name": "Python 3 (ipykernel)",
   "language": "python",
   "name": "python3"
  },
  "language_info": {
   "codemirror_mode": {
    "name": "ipython",
    "version": 3
   },
   "file_extension": ".py",
   "mimetype": "text/x-python",
   "name": "python",
   "nbconvert_exporter": "python",
   "pygments_lexer": "ipython3",
   "version": "3.9.19"
  },
  "toc": {
   "base_numbering": 1,
   "nav_menu": {},
   "number_sections": true,
   "sideBar": true,
   "skip_h1_title": true,
   "title_cell": "Table of Contents",
   "title_sidebar": "Contents",
   "toc_cell": false,
   "toc_position": {},
   "toc_section_display": true,
   "toc_window_display": false
  }
 },
 "nbformat": 4,
 "nbformat_minor": 2
}
