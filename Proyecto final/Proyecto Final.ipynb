{
 "cells": [
  {
   "cell_type": "markdown",
   "metadata": {},
   "source": [
    "# Proyecto Final: Telecomunicaciones: identificar operadores ineficaces"
   ]
  },
  {
   "cell_type": "markdown",
   "metadata": {},
   "source": [
    "\n",
    "\n",
    "El servicio de telefonía virtual CallMeMaybe está desarrollando una nueva función que brindará a los supervisores y las supervisores información sobre los operadores menos eficaces. Se considera que un operador es ineficaz si tiene una gran cantidad de llamadas entrantes perdidas (internas y externas) y un tiempo de espera prolongado para las llamadas entrantes. Además, si se supone que un operador debe realizar llamadas salientes, un número reducido de ellas también será un signo de ineficacia.\n",
    "\n",
    "- Lleva a cabo el análisis exploratorio de datos\n",
    "- Identificar operadores ineficaces\n",
    "- Prueba las hipótesis estadísticas"
   ]
  },
  {
   "cell_type": "markdown",
   "metadata": {},
   "source": [
    "# Descripción de los datos\n",
    "\n",
    "Los datasets contienen información sobre el uso del servicio de telefonía virtual CallMeMaybe. Sus clientes son organizaciones que necesitan distribuir gran cantidad de llamadas entrantes entre varios operadores, o realizar llamadas salientes a través de sus operadores. Los operadores también pueden realizar llamadas internas para comunicarse entre ellos. Estas llamadas se realizan a través de la red de CallMeMaybe.\n",
    "\n",
    "El dataset comprimido `telecom_dataset_us.csv` contiene las siguientes columnas:\n",
    "\n",
    "- `user_id`: ID de la cuenta de cliente\n",
    "- `date`: fecha en la que se recuperaron las estadísticas\n",
    "- `direction`: \"dirección\" de llamada (`out` para saliente, `in` para entrante)\n",
    "- `internal`: si la llamada fue interna (entre los operadores de un cliente o clienta)\n",
    "- `operator_id`: identificador del operador\n",
    "- `is_missed_call`: si fue una llamada perdida\n",
    "- `calls_count`: número de llamadas\n",
    "- `call_duration`: duración de la llamada (sin incluir el tiempo de espera)\n",
    "- `total_call_duration`: duración de la llamada (incluido el tiempo de espera)\n",
    "\n",
    "El conjunto de datos `telecom_clients_us.csv` tiene las siguientes columnas:\n",
    "\n",
    "- `user_id`: ID de usuario/a\n",
    "- `tariff_plan`: tarifa actual de la clientela\n",
    "- `date_start`: fecha de registro de la clientela"
   ]
  },
  {
   "cell_type": "markdown",
   "metadata": {},
   "source": [
    "# Estructura del proyecto\n",
    "\n",
    "**Paso 1: Objetivo del Proyecto**\n",
    "1. ¿Que se quiere conseguir y por qué?\n",
    "2. ¿ A quién le interesa lo que produces?\n",
    "3. ¿Que decisiones tomar de acuerdo al análisis?\n",
    "\n",
    "\n",
    "**Paso 2: Preprocesamiento de los datos**\n",
    "\n",
    "1. Cargar librerías y datasets\n",
    "2. Explorar valores duplicados\n",
    "3. Explorar valores ausentes\n",
    "   1. Reemplazar valores ausentes\n",
    "4. Convertir tipos de datos\n",
    "\n",
    "**Paso 3: Análisis exploratorio de datos**\n",
    "\n",
    "1. Resumen estadístico: Obtener estadísticas descriptivas de las columnas numéricas.\n",
    "2. Distribución de llamadas: Analizar la distribución de llamadas entrantes y salientes.\n",
    "3. Análisis de llamadas perdidas: Ver cuántas llamadas se perdieron y su proporción.\n",
    "4. Duración de llamadas: Analizar la duración de las llamadas y los tiempos de espera.\n",
    "5. Análisis del número de llamadas salientes por operador: Comparar las métricas de rendimiento entre los diferentes operadores.\n",
    "\n",
    "**Paso 4: Identificar operadores ineficaces**\n",
    "\n",
    "1. Comparar las métricas de rendimiento entre los diferentes operadores.\n",
    "    1. Porcentaje de llamadas perdidas por operador.\n",
    "    2. Tiempo promedio de espera por operador.\n",
    "    3. Número de llamadas salientes por operador.\n",
    "2. Definir un criterio para crear un ranking de los operadores ineficaces\n",
    "\n",
    "**Paso 5: Pruebas de Hipótesis**\n",
    "\n",
    "1. Hipotesis 1: Diferencias rendimiento de los operadores en función de las métricas de eficacia porcentaje de llamadas perdidas.\n",
    "2. Hipotesis 2: Diferencias en el rendimiento de los operadores en función de las métricas de eficacia tiempo de espera.\n",
    "\n",
    "**Paso 6: Conclusiones y recomendaciones**\n",
    "\n",
    "**Paso 7: Elaborar una presentación**\n",
    "\n",
    "1. Preparar una presentación en formato PDF con visualizaciones mas importantes del análisis.\n",
    " "
   ]
  },
  {
   "cell_type": "markdown",
   "metadata": {},
   "source": [
    "## Objetivo del Proyecto\n",
    "\n",
    "1. ¿Qué quieres conseguir y por qué?\n",
    "\n",
    "    El objetivo principal es identificar a los operadores ineficaces en el servicio de telefonía virtual CallMeMaybe. Esto incluye analizar las llamadas entrantes perdidas, el tiempo de espera prolongado para las llamadas entrantes y la baja cantidad de llamadas salientes realizadas por los operadores. La razón detrás de este análisis es mejorar la eficiencia del servicio al permitir que los supervisores tomen decisiones informadas para la capacitación, reubicación o posible reemplazo de operadores que no cumplen con los estándares de desempeño. Esto, a su vez, podría mejorar la satisfacción del cliente y la calidad del servicio.\n",
    "\n",
    "2. ¿Quienes son los interesados?\n",
    "\n",
    "    Los resultados de este análisis son relevantes para varios grupos:\n",
    "\n",
    "    - Supervisores y gerentes de operaciones: Necesitan entender el desempeño de los operadores para optimizar la asignación de recursos y mejorar la eficiencia del equipo.\n",
    "    - Recursos humanos: Podrían utilizar esta información para la planificación de capacitaciones o evaluaciones de desempeño.\n",
    "    - Clientes de CallMeMaybe: La mejora en el servicio podría resultar en una experiencia más satisfactoria para ellos.\n",
    "    - Accionistas y directivos de la empresa: Están interesados en los resultados financieros y la eficiencia operativa.\n",
    "      \n",
    "3. ¿Qué decisiones se tomarán de acuerdo a tu análisis?\n",
    "\n",
    "    Las decisiones podrían incluir:\n",
    "\n",
    "    - Capacitación: Implementar programas de capacitación para los operadores identificados como ineficaces para mejorar sus habilidades y eficiencia.\n",
    "\n",
    "    - Reasignación de recursos: Cambiar la distribución de llamadas entre operadores para asegurar que los operadores más eficaces manejen más llamadas.\n",
    "\n",
    "    - Contrataciones: Considerar la contratación de nuevos operadores si se identifica que la carga de trabajo es demasiado alta para los operadores actuales.\n",
    "\n",
    "    - Políticas de incentivos:** Introducir incentivos para operadores que demuestren un buen desempeño y mejoren en métricas clave."
   ]
  },
  {
   "cell_type": "markdown",
   "metadata": {},
   "source": [
    "## Preprocesamiento de datos"
   ]
  },
  {
   "cell_type": "markdown",
   "metadata": {},
   "source": [
    "**Importar librerías necesarias**"
   ]
  },
  {
   "cell_type": "code",
   "execution_count": 1,
   "metadata": {},
   "outputs": [],
   "source": [
    "import pandas as pd\n",
    "import matplotlib.pyplot as plt\n",
    "import numpy as np\n",
    "import seaborn as sns\n",
    "import scipy.stats as stats\n"
   ]
  },
  {
   "cell_type": "markdown",
   "metadata": {},
   "source": [
    "**Cargar datasets y visualizar una parte de este**"
   ]
  },
  {
   "cell_type": "code",
   "execution_count": 2,
   "metadata": {},
   "outputs": [
    {
     "name": "stdout",
     "output_type": "stream",
     "text": [
      "<class 'pandas.core.frame.DataFrame'>\n",
      "RangeIndex: 53902 entries, 0 to 53901\n",
      "Data columns (total 9 columns):\n",
      " #   Column               Non-Null Count  Dtype  \n",
      "---  ------               --------------  -----  \n",
      " 0   user_id              53902 non-null  int64  \n",
      " 1   date                 53902 non-null  object \n",
      " 2   direction            53902 non-null  object \n",
      " 3   internal             53785 non-null  object \n",
      " 4   operator_id          45730 non-null  float64\n",
      " 5   is_missed_call       53902 non-null  bool   \n",
      " 6   calls_count          53902 non-null  int64  \n",
      " 7   call_duration        53902 non-null  int64  \n",
      " 8   total_call_duration  53902 non-null  int64  \n",
      "dtypes: bool(1), float64(1), int64(4), object(3)\n",
      "memory usage: 3.3+ MB\n"
     ]
    }
   ],
   "source": [
    "#Cargar los datos\n",
    "\n",
    "operators = pd.read_csv('/datasets/telecom_dataset_us.csv', sep=',')\n",
    "\n",
    "operators.info()"
   ]
  },
  {
   "cell_type": "code",
   "execution_count": 3,
   "metadata": {},
   "outputs": [
    {
     "data": {
      "text/html": [
       "<div>\n",
       "<style scoped>\n",
       "    .dataframe tbody tr th:only-of-type {\n",
       "        vertical-align: middle;\n",
       "    }\n",
       "\n",
       "    .dataframe tbody tr th {\n",
       "        vertical-align: top;\n",
       "    }\n",
       "\n",
       "    .dataframe thead th {\n",
       "        text-align: right;\n",
       "    }\n",
       "</style>\n",
       "<table border=\"1\" class=\"dataframe\">\n",
       "  <thead>\n",
       "    <tr style=\"text-align: right;\">\n",
       "      <th></th>\n",
       "      <th>user_id</th>\n",
       "      <th>date</th>\n",
       "      <th>direction</th>\n",
       "      <th>internal</th>\n",
       "      <th>operator_id</th>\n",
       "      <th>is_missed_call</th>\n",
       "      <th>calls_count</th>\n",
       "      <th>call_duration</th>\n",
       "      <th>total_call_duration</th>\n",
       "    </tr>\n",
       "  </thead>\n",
       "  <tbody>\n",
       "    <tr>\n",
       "      <th>0</th>\n",
       "      <td>166377</td>\n",
       "      <td>2019-08-04 00:00:00+03:00</td>\n",
       "      <td>in</td>\n",
       "      <td>False</td>\n",
       "      <td>NaN</td>\n",
       "      <td>True</td>\n",
       "      <td>2</td>\n",
       "      <td>0</td>\n",
       "      <td>4</td>\n",
       "    </tr>\n",
       "    <tr>\n",
       "      <th>1</th>\n",
       "      <td>166377</td>\n",
       "      <td>2019-08-05 00:00:00+03:00</td>\n",
       "      <td>out</td>\n",
       "      <td>True</td>\n",
       "      <td>880022.0</td>\n",
       "      <td>True</td>\n",
       "      <td>3</td>\n",
       "      <td>0</td>\n",
       "      <td>5</td>\n",
       "    </tr>\n",
       "    <tr>\n",
       "      <th>2</th>\n",
       "      <td>166377</td>\n",
       "      <td>2019-08-05 00:00:00+03:00</td>\n",
       "      <td>out</td>\n",
       "      <td>True</td>\n",
       "      <td>880020.0</td>\n",
       "      <td>True</td>\n",
       "      <td>1</td>\n",
       "      <td>0</td>\n",
       "      <td>1</td>\n",
       "    </tr>\n",
       "    <tr>\n",
       "      <th>3</th>\n",
       "      <td>166377</td>\n",
       "      <td>2019-08-05 00:00:00+03:00</td>\n",
       "      <td>out</td>\n",
       "      <td>True</td>\n",
       "      <td>880020.0</td>\n",
       "      <td>False</td>\n",
       "      <td>1</td>\n",
       "      <td>10</td>\n",
       "      <td>18</td>\n",
       "    </tr>\n",
       "    <tr>\n",
       "      <th>4</th>\n",
       "      <td>166377</td>\n",
       "      <td>2019-08-05 00:00:00+03:00</td>\n",
       "      <td>out</td>\n",
       "      <td>False</td>\n",
       "      <td>880022.0</td>\n",
       "      <td>True</td>\n",
       "      <td>3</td>\n",
       "      <td>0</td>\n",
       "      <td>25</td>\n",
       "    </tr>\n",
       "  </tbody>\n",
       "</table>\n",
       "</div>"
      ],
      "text/plain": [
       "   user_id                       date direction internal  operator_id  \\\n",
       "0   166377  2019-08-04 00:00:00+03:00        in    False          NaN   \n",
       "1   166377  2019-08-05 00:00:00+03:00       out     True     880022.0   \n",
       "2   166377  2019-08-05 00:00:00+03:00       out     True     880020.0   \n",
       "3   166377  2019-08-05 00:00:00+03:00       out     True     880020.0   \n",
       "4   166377  2019-08-05 00:00:00+03:00       out    False     880022.0   \n",
       "\n",
       "   is_missed_call  calls_count  call_duration  total_call_duration  \n",
       "0            True            2              0                    4  \n",
       "1            True            3              0                    5  \n",
       "2            True            1              0                    1  \n",
       "3           False            1             10                   18  \n",
       "4            True            3              0                   25  "
      ]
     },
     "execution_count": 3,
     "metadata": {},
     "output_type": "execute_result"
    }
   ],
   "source": [
    "operators.head()"
   ]
  },
  {
   "cell_type": "code",
   "execution_count": 4,
   "metadata": {},
   "outputs": [
    {
     "name": "stdout",
     "output_type": "stream",
     "text": [
      "<class 'pandas.core.frame.DataFrame'>\n",
      "RangeIndex: 732 entries, 0 to 731\n",
      "Data columns (total 3 columns):\n",
      " #   Column       Non-Null Count  Dtype \n",
      "---  ------       --------------  ----- \n",
      " 0   user_id      732 non-null    int64 \n",
      " 1   tariff_plan  732 non-null    object\n",
      " 2   date_start   732 non-null    object\n",
      "dtypes: int64(1), object(2)\n",
      "memory usage: 17.3+ KB\n"
     ]
    }
   ],
   "source": [
    "#Cargar los datos\n",
    "\n",
    "clients = pd.read_csv('/datasets/telecom_clients_us.csv', sep=',')\n",
    "\n",
    "clients.info()"
   ]
  },
  {
   "cell_type": "code",
   "execution_count": 5,
   "metadata": {},
   "outputs": [
    {
     "data": {
      "text/html": [
       "<div>\n",
       "<style scoped>\n",
       "    .dataframe tbody tr th:only-of-type {\n",
       "        vertical-align: middle;\n",
       "    }\n",
       "\n",
       "    .dataframe tbody tr th {\n",
       "        vertical-align: top;\n",
       "    }\n",
       "\n",
       "    .dataframe thead th {\n",
       "        text-align: right;\n",
       "    }\n",
       "</style>\n",
       "<table border=\"1\" class=\"dataframe\">\n",
       "  <thead>\n",
       "    <tr style=\"text-align: right;\">\n",
       "      <th></th>\n",
       "      <th>user_id</th>\n",
       "      <th>tariff_plan</th>\n",
       "      <th>date_start</th>\n",
       "    </tr>\n",
       "  </thead>\n",
       "  <tbody>\n",
       "    <tr>\n",
       "      <th>0</th>\n",
       "      <td>166713</td>\n",
       "      <td>A</td>\n",
       "      <td>2019-08-15</td>\n",
       "    </tr>\n",
       "    <tr>\n",
       "      <th>1</th>\n",
       "      <td>166901</td>\n",
       "      <td>A</td>\n",
       "      <td>2019-08-23</td>\n",
       "    </tr>\n",
       "    <tr>\n",
       "      <th>2</th>\n",
       "      <td>168527</td>\n",
       "      <td>A</td>\n",
       "      <td>2019-10-29</td>\n",
       "    </tr>\n",
       "    <tr>\n",
       "      <th>3</th>\n",
       "      <td>167097</td>\n",
       "      <td>A</td>\n",
       "      <td>2019-09-01</td>\n",
       "    </tr>\n",
       "    <tr>\n",
       "      <th>4</th>\n",
       "      <td>168193</td>\n",
       "      <td>A</td>\n",
       "      <td>2019-10-16</td>\n",
       "    </tr>\n",
       "  </tbody>\n",
       "</table>\n",
       "</div>"
      ],
      "text/plain": [
       "   user_id tariff_plan  date_start\n",
       "0   166713           A  2019-08-15\n",
       "1   166901           A  2019-08-23\n",
       "2   168527           A  2019-10-29\n",
       "3   167097           A  2019-09-01\n",
       "4   168193           A  2019-10-16"
      ]
     },
     "execution_count": 5,
     "metadata": {},
     "output_type": "execute_result"
    }
   ],
   "source": [
    "clients.head()"
   ]
  },
  {
   "cell_type": "markdown",
   "metadata": {},
   "source": [
    "**Estudiar valores duplicados**"
   ]
  },
  {
   "cell_type": "code",
   "execution_count": 6,
   "metadata": {},
   "outputs": [
    {
     "name": "stdout",
     "output_type": "stream",
     "text": [
      "\n",
      "Duplicados en el dataset de operadores:\n",
      "4900\n",
      "\n",
      "Duplicados en el dataset de clientes:\n",
      "0\n"
     ]
    }
   ],
   "source": [
    "# 2. Estudiar valores duplicados\n",
    "print(\"\\nDuplicados en el dataset de operadores:\")\n",
    "print(operators.duplicated().sum())\n",
    "\n",
    "print(\"\\nDuplicados en el dataset de clientes:\")\n",
    "print(clients.duplicated().sum())"
   ]
  },
  {
   "cell_type": "code",
   "execution_count": 7,
   "metadata": {},
   "outputs": [
    {
     "name": "stdout",
     "output_type": "stream",
     "text": [
      "Número de filas antes de eliminar duplicados: 53902\n",
      "Número de filas después de eliminar duplicados: 49002\n"
     ]
    }
   ],
   "source": [
    "# Eliminar valores duplicados en el dataset de operadores\n",
    "operators_before = operators.shape[0]  # Número de filas antes de eliminar duplicados\n",
    "operators = operators.drop_duplicates()\n",
    "operators_after = operators.shape[0]  # Número de filas después de eliminar duplicados\n",
    "\n",
    "# Imprimir el número de filas eliminadas\n",
    "print(f\"Número de filas antes de eliminar duplicados: {operators_before}\")\n",
    "print(f\"Número de filas después de eliminar duplicados: {operators_after}\")"
   ]
  },
  {
   "cell_type": "markdown",
   "metadata": {},
   "source": [
    "**Estudiar valores ausentes**"
   ]
  },
  {
   "cell_type": "code",
   "execution_count": 8,
   "metadata": {},
   "outputs": [
    {
     "name": "stdout",
     "output_type": "stream",
     "text": [
      "Valores ausentes en el dataset de operadores:\n",
      "user_id                   0\n",
      "date                      0\n",
      "direction                 0\n",
      "internal                110\n",
      "operator_id            7456\n",
      "is_missed_call            0\n",
      "calls_count               0\n",
      "call_duration             0\n",
      "total_call_duration       0\n",
      "dtype: int64\n",
      "\n",
      "Valores ausentes en el dataset de clientes:\n",
      "user_id        0\n",
      "tariff_plan    0\n",
      "date_start     0\n",
      "dtype: int64\n"
     ]
    }
   ],
   "source": [
    "# 1. Estudiar valores ausentes\n",
    "print(\"Valores ausentes en el dataset de operadores:\")\n",
    "print(operators.isnull().sum())\n",
    "\n",
    "print(\"\\nValores ausentes en el dataset de clientes:\")\n",
    "print(clients.isnull().sum())"
   ]
  },
  {
   "cell_type": "markdown",
   "metadata": {},
   "source": [
    "Dado que hay 7456 valores ausentes, lo más recomendable es eliminar esas filas, especialmente si operator_id es un campo clave para el análisis sobre la eficacia de los operadores. Esto asegurará que los análisis posteriores se basen en datos completos y coherentes."
   ]
  },
  {
   "cell_type": "code",
   "execution_count": 9,
   "metadata": {},
   "outputs": [
    {
     "name": "stdout",
     "output_type": "stream",
     "text": [
      "\n",
      "Valores ausentes después del preprocesamiento en el dataset de operadores:\n",
      "user_id                0\n",
      "date                   0\n",
      "direction              0\n",
      "internal               0\n",
      "operator_id            0\n",
      "is_missed_call         0\n",
      "calls_count            0\n",
      "call_duration          0\n",
      "total_call_duration    0\n",
      "dtype: int64\n"
     ]
    }
   ],
   "source": [
    "# Tratar valores ausentes\n",
    "# Para el dataset de operadores, podemos decidir cómo manejar los valores ausentes\n",
    "# Para 'operator_id', eliminaremos filas donde sea NaN\n",
    "operators.dropna(subset=['operator_id'], inplace=True)\n",
    "\n",
    "# Para 'internal', rellenaremos con un valor 'unknown'\n",
    "operators['internal'].fillna('unknown', inplace=True)\n",
    "\n",
    "# Comprobar de nuevo los valores ausentes\n",
    "print(\"\\nValores ausentes después del preprocesamiento en el dataset de operadores:\")\n",
    "print(operators.isnull().sum())"
   ]
  },
  {
   "cell_type": "markdown",
   "metadata": {},
   "source": [
    "**Corregir Tipos de datos necesarios**"
   ]
  },
  {
   "cell_type": "code",
   "execution_count": 10,
   "metadata": {},
   "outputs": [
    {
     "name": "stdout",
     "output_type": "stream",
     "text": [
      "\n",
      "Tipos de datos después de la conversión:\n",
      "user_id                                                int64\n",
      "date                   datetime64[ns, pytz.FixedOffset(180)]\n",
      "direction                                             object\n",
      "internal                                              object\n",
      "operator_id                                          float64\n",
      "is_missed_call                                          bool\n",
      "calls_count                                            int64\n",
      "call_duration                                          int64\n",
      "total_call_duration                                    int64\n",
      "dtype: object\n",
      "user_id                 int64\n",
      "tariff_plan            object\n",
      "date_start     datetime64[ns]\n",
      "dtype: object\n"
     ]
    }
   ],
   "source": [
    "# 3. Corregir el formato de la fecha\n",
    "operators['date'] = pd.to_datetime(operators['date'], errors='coerce')\n",
    "clients['date_start'] = pd.to_datetime(clients['date_start'], errors='coerce')\n",
    "\n",
    "# Verificar que las fechas se hayan convertido correctamente\n",
    "print(\"\\nTipos de datos después de la conversión:\")\n",
    "print(operators.dtypes)\n",
    "print(clients.dtypes)"
   ]
  },
  {
   "cell_type": "markdown",
   "metadata": {},
   "source": [
    "## Análisis Exploratorio de Datos"
   ]
  },
  {
   "cell_type": "markdown",
   "metadata": {},
   "source": [
    "**Resumen estadístico:** Obtener estadísticas descriptivas de las columnas numéricas."
   ]
  },
  {
   "cell_type": "code",
   "execution_count": 11,
   "metadata": {},
   "outputs": [
    {
     "name": "stdout",
     "output_type": "stream",
     "text": [
      "             user_id    operator_id   calls_count  call_duration  \\\n",
      "count   41546.000000   41546.000000  41546.000000   41546.000000   \n",
      "mean   167301.311992  916523.315409     16.900424    1009.769172   \n",
      "std       600.418838   21230.041008     59.749373    4064.106117   \n",
      "min    166377.000000  879896.000000      1.000000       0.000000   \n",
      "25%    166782.000000  900790.500000      1.000000       0.000000   \n",
      "50%    167175.000000  913938.000000      4.000000     106.000000   \n",
      "75%    167827.000000  937708.000000     13.000000     770.000000   \n",
      "max    168606.000000  973286.000000   4817.000000  144395.000000   \n",
      "\n",
      "       total_call_duration  \n",
      "count         41546.000000  \n",
      "mean           1321.592813  \n",
      "std            4785.978633  \n",
      "min               0.000000  \n",
      "25%              67.000000  \n",
      "50%             288.000000  \n",
      "75%            1104.000000  \n",
      "max          166155.000000  \n"
     ]
    }
   ],
   "source": [
    "# 1. Descriptivo de los Datos\n",
    "print(operators.describe())\n"
   ]
  },
  {
   "cell_type": "code",
   "execution_count": 12,
   "metadata": {},
   "outputs": [
    {
     "data": {
      "image/png": "[encoded data removed]",
      "text/plain": [
       "<Figure size 1800x600 with 3 Axes>"
      ]
     },
     "metadata": {},
     "output_type": "display_data"
    }
   ],
   "source": [
    "import matplotlib.pyplot as plt\n",
    "import seaborn as sns\n",
    "\n",
    "# Configurar el estilo de los gráficos\n",
    "sns.set(style=\"whitegrid\")\n",
    "\n",
    "# Crear una figura con subgráficos\n",
    "plt.figure(figsize=(18, 6))\n",
    "\n",
    "# Boxplot para calls_count\n",
    "plt.subplot(1, 3, 1)\n",
    "sns.boxplot(y=operators['calls_count'])\n",
    "plt.title('Boxplot de Calls Count')\n",
    "plt.ylabel('Cantidad de Llamadas')\n",
    "\n",
    "# Boxplot para call_duration\n",
    "plt.subplot(1, 3, 2)\n",
    "sns.boxplot(y=operators['call_duration'])\n",
    "plt.title('Boxplot de Call Duration')\n",
    "plt.ylabel('Duración de la Llamada (segundos)')\n",
    "\n",
    "# Boxplot para total_call_duration\n",
    "plt.subplot(1, 3, 3)\n",
    "sns.boxplot(y=operators['total_call_duration'])\n",
    "plt.title('Boxplot de Total Call Duration')\n",
    "plt.ylabel('Duración Total de la Llamada (segundos)')\n",
    "\n",
    "# Ajustar el layout\n",
    "plt.tight_layout()\n",
    "plt.show()"
   ]
  },
  {
   "cell_type": "markdown",
   "metadata": {},
   "source": [
    "calls_count: El promedio de llamadas por operador es aproximadamente 16.9, con un mínimo de 1 y un máximo de 4817. Esto sugiere que algunos operadores manejan muchas más llamadas que otros. La desviación estándar de 59.75 indica una gran variabilidad en la carga de trabajo entre los operadores.\n",
    "La mayoría de los operadores parece manejar un número relativamente bajo de llamadas, dado que el 25% de los operadores tienen un conteo de llamadas de 1.\n",
    "\n",
    "call_duration: La duración media de las llamadas es de aproximadamente 1009.77 segundos (alrededor de 16 minutos), con un máximo muy alto de 144395 segundos (aproximadamente 40 horas). Esto sugiere que algunas llamadas son excepcionalmente largas, lo cual podría ser un punto a investigar más a fondo.\n",
    "La desviación estándar es alta (4064.11), indicando que hay una gran variabilidad en la duración de las llamadas. Es posible que haya un pequeño número de llamadas muy largas que estén afectando el promedio.\n",
    "\n",
    "total_call_duration: La duración total de las llamadas (incluyendo el tiempo de espera) tiene un promedio de 1321.59 segundos, lo que también refleja la variabilidad en el uso del tiempo de los operadores.\n",
    "El máximo de 166155 segundos indica que hay operadores que están acumulando mucho tiempo de llamada, lo que podría estar relacionado con su efectividad o, en algunos casos, ineficacia si hay muchas llamadas perdidas asociadas.\n",
    "\n",
    "Ineficiencia Potencial: La alta variabilidad en calls_count y call_duration sugiere que algunos operadores podrían estar sobrecargados o subutilizados. Esto podría contribuir a un aumento en las llamadas perdidas o a un tiempo de espera prolongado.\n",
    "\n",
    "Investigación Adicional: Podría ser útil investigar a fondo los operadores que tienen un alto número de llamadas y una duración media de llamadas más larga para determinar si están manejando eficientemente sus tareas o si son ineficaces debido a un alto número de llamadas perdidas."
   ]
  },
  {
   "cell_type": "markdown",
   "metadata": {},
   "source": [
    "**Analisis de llamadas perdidas**"
   ]
  },
  {
   "cell_type": "code",
   "execution_count": 13,
   "metadata": {},
   "outputs": [
    {
     "name": "stdout",
     "output_type": "stream",
     "text": [
      "\n",
      "Total de llamadas: 702145\n",
      "Llamadas perdidas: 14110\n",
      "Proporción de llamadas perdidas: 33.96%\n"
     ]
    }
   ],
   "source": [
    "# Análisis de Llamadas Perdidas\n",
    "total_calls = operators['calls_count'].sum()\n",
    "missed_calls = operators[operators['is_missed_call']].shape[0]\n",
    "missed_calls_proportion = missed_calls / operators.shape[0]\n",
    "\n",
    "print(f\"\\nTotal de llamadas: {total_calls}\")\n",
    "print(f\"Llamadas perdidas: {missed_calls}\")\n",
    "print(f\"Proporción de llamadas perdidas: {missed_calls_proportion:.2%}\")"
   ]
  },
  {
   "cell_type": "markdown",
   "metadata": {},
   "source": [
    "La proporción de llamadas perdidas es del 33.96%. Esto significa que aproximadamente un tercio de las llamadas entrantes no se atendieron. Esta es una tasa bastante alta y podría ser motivo de preocupación para el servicio.\n",
    "\n",
    "Una alta proporción de llamadas perdidas puede indicar que los clientes no están recibiendo la atención que necesitan. Esto podría llevar a la insatisfacción del cliente, que puede impactar en la retención y en la reputación de la empresa.\n",
    "\n",
    "Es importante investigar por qué hay tantas llamadas perdidas. Esto podría ser un signo de que:\n",
    "\n",
    "- Hay un número insuficiente de operadores disponibles para atender las llamadas.\n",
    "- Los operadores pueden estar abrumados, lo que causa que se pierdan llamadas.\n",
    "- Pueden existir problemas en el sistema de gestión de llamadas que impiden que las llamadas sean dirigidas correctamente."
   ]
  },
  {
   "cell_type": "code",
   "execution_count": 14,
   "metadata": {},
   "outputs": [],
   "source": [
    "# Calcular total de llamadas y llamadas perdidas por operador\n",
    "operator_performance = operators.groupby('operator_id').agg(\n",
    "    Total_Llamadas_Peridas=('is_missed_call', 'sum'),\n",
    "    Total_Llamadas=('calls_count', 'sum')\n",
    ").reset_index()\n",
    "\n",
    "# Calcular el porcentaje de llamadas perdidas\n",
    "operator_performance['Porcentaje_Llamadas_Perdidas'] = (operator_performance['Total_Llamadas_Peridas'] / operator_performance['Total_Llamadas']) * 100\n"
   ]
  },
  {
   "cell_type": "code",
   "execution_count": 15,
   "metadata": {},
   "outputs": [
    {
     "data": {
      "image/png": "[encoded data removed]",
      "text/plain": [
       "<Figure size 1200x600 with 1 Axes>"
      ]
     },
     "metadata": {},
     "output_type": "display_data"
    }
   ],
   "source": [
    "# Visualizar la distribución del porcentaje de llamadas perdidas por todos los operadores\n",
    "plt.figure(figsize=(12, 6))\n",
    "sns.histplot(operator_performance['Porcentaje_Llamadas_Perdidas'], bins=30, kde=True)\n",
    "plt.title('Distribución del Porcentaje de Llamadas Perdidas por Operador')\n",
    "plt.xlabel('Porcentaje de Llamadas Perdidas (%)')\n",
    "plt.ylabel('Frecuencia')\n",
    "plt.axvline(x=operator_performance['Porcentaje_Llamadas_Perdidas'].mean(), color='r', linestyle='--', label='Media')\n",
    "plt.legend()\n",
    "plt.show()"
   ]
  },
  {
   "cell_type": "code",
   "execution_count": 16,
   "metadata": {},
   "outputs": [
    {
     "name": "stdout",
     "output_type": "stream",
     "text": [
      "\n",
      "Resumen estadístico del porcentaje de llamadas perdidas por operador:\n",
      "count    1092.000000\n",
      "mean       10.110073\n",
      "std        16.885686\n",
      "min         0.000000\n",
      "25%         0.830640\n",
      "50%         4.365317\n",
      "75%        12.102884\n",
      "max       100.000000\n",
      "Name: Porcentaje_Llamadas_Perdidas, dtype: float64\n"
     ]
    }
   ],
   "source": [
    "porcentaje_descripcion = operator_performance['Porcentaje_Llamadas_Perdidas'].describe()\n",
    "\n",
    "# Mostrar el resumen estadístico\n",
    "print(\"\\nResumen estadístico del porcentaje de llamadas perdidas por operador:\")\n",
    "print(porcentaje_descripcion)"
   ]
  },
  {
   "cell_type": "markdown",
   "metadata": {},
   "source": [
    "Cantidad de operadores: 1092: Hay 1092 operadores en el conjunto de datos que tienen información sobre el porcentaje de llamadas perdidas.\n",
    "\n",
    "Media: 10.11%: En promedio, los operadores pierden aproximadamente el 10.11% de sus llamadas. Esto indica un nivel considerable de ineficiencia que puede necesitar atención.\n",
    "\n",
    "Desviación estándar: 16.89%: Hay una alta variabilidad en el porcentaje de llamadas perdidas. Esto sugiere que algunos operadores pueden estar perdiendo un porcentaje significativamente mayor de llamadas que otros.\n",
    "\n",
    "Min (Mínimo): 0.00%: Al menos un operador no ha perdido ninguna llamada, lo cual es un dato positivo.\n",
    "\n",
    "Percentil 25: 0.83%: El 25% de los operadores tiene un porcentaje de llamadas perdidas menor o igual al 0.83%. Esto indica que una parte de los operadores es bastante eficiente.\n",
    "\n",
    "50% (Mediana): 4.37%: La mediana indica que el 50% de los operadores tiene un porcentaje de llamadas perdidas de 4.37% o menos. Esto refuerza que muchos operadores están por debajo del promedio.\n",
    "\n",
    "Max (Máximo): 100.00%: Existe al menos un operador que ha perdido el 100% de sus llamadas, lo que indica una situación extrema de ineficacia que definitivamente necesita ser abordada.\n",
    "\n",
    "Conclusiones\n",
    "\n",
    "Ineficiencia general: Un promedio del 10.11% y una desviación estándar alta sugieren que hay una diversidad significativa en la eficacia de los operadores.\n",
    "\n",
    "Necesidad de intervención: Los operadores que pierden un alto porcentaje de llamadas (especialmente aquellos cercanos al 100%) deberían ser el foco de las acciones correctivas, como capacitación o cambios en la asignación de tareas."
   ]
  },
  {
   "cell_type": "markdown",
   "metadata": {},
   "source": [
    "**Análisis de tiempo de espera promedio por operador**\n",
    "\n",
    "Para calcular el tiempo de espera promedio por operador, primero debemos definir el tiempo de espera. El tiempo de espera se puede obtener restando call_duration de total_call_duration para las llamadas entrantes. Luego, agruparemos los datos por operador y calcularemos el tiempo de espera promedio."
   ]
  },
  {
   "cell_type": "code",
   "execution_count": 17,
   "metadata": {},
   "outputs": [
    {
     "data": {
      "image/png": "[encoded data removed]",
      "text/plain": [
       "<Figure size 1200x600 with 1 Axes>"
      ]
     },
     "metadata": {},
     "output_type": "display_data"
    },
    {
     "name": "stdout",
     "output_type": "stream",
     "text": [
      "\n",
      "Tiempo de espera promedio por operador:\n",
      "   operator_id  Tiempo de Espera Promedio (segundos)\n",
      "0     879896.0                             27.333333\n",
      "1     879898.0                             29.473684\n",
      "2     880020.0                              7.714286\n",
      "3     880022.0                             14.000000\n",
      "4     880026.0                              7.944444\n"
     ]
    }
   ],
   "source": [
    "# Calcular el tiempo de espera\n",
    "operators['waiting_time'] = operators['total_call_duration'] - operators['call_duration']\n",
    "\n",
    "# Filtrar solo las llamadas entrantes\n",
    "incoming_calls = operators[operators['direction'] == 'in']\n",
    "\n",
    "# Calcular el tiempo de espera promedio por operador\n",
    "waiting_time_per_operator = incoming_calls.groupby('operator_id')['waiting_time'].mean().reset_index()\n",
    "\n",
    "# Renombrar la columna para mayor claridad\n",
    "waiting_time_per_operator.rename(columns={'waiting_time': 'Tiempo de Espera Promedio (segundos)'}, inplace=True)\n",
    "\n",
    "# Visualizar la distribución del tiempo de espera promedio por operador\n",
    "plt.figure(figsize=(12, 6))\n",
    "sns.histplot(waiting_time_per_operator['Tiempo de Espera Promedio (segundos)'], bins=30, kde=True)\n",
    "plt.title('Distribución del Tiempo de Espera Promedio por Operador')\n",
    "plt.xlabel('Tiempo de Espera Promedio (segundos)')\n",
    "plt.ylabel('Frecuencia')\n",
    "plt.axvline(x=waiting_time_per_operator['Tiempo de Espera Promedio (segundos)'].mean(), color='r', linestyle='--', label='Media')\n",
    "plt.legend()\n",
    "plt.show()\n",
    "\n",
    "# Mostrar el tiempo de espera promedio por operador\n",
    "print(\"\\nTiempo de espera promedio por operador:\")\n",
    "print(waiting_time_per_operator.head())"
   ]
  },
  {
   "cell_type": "code",
   "execution_count": 18,
   "metadata": {},
   "outputs": [
    {
     "name": "stdout",
     "output_type": "stream",
     "text": [
      "\n",
      "Resumen estadístico del tiempo de espera promedio por operador:\n",
      "count     754.000000\n",
      "mean       57.612807\n",
      "std        94.456737\n",
      "min         1.000000\n",
      "25%        17.500000\n",
      "50%        31.000000\n",
      "75%        58.000000\n",
      "max      1007.375000\n",
      "Name: Tiempo de Espera Promedio (segundos), dtype: float64\n"
     ]
    },
    {
     "data": {
      "image/png": "[encoded data removed]",
      "text/plain": [
       "<Figure size 1200x600 with 1 Axes>"
      ]
     },
     "metadata": {},
     "output_type": "display_data"
    }
   ],
   "source": [
    "# Describir el tiempo de espera promedio por operador\n",
    "waiting_time_description = waiting_time_per_operator['Tiempo de Espera Promedio (segundos)'].describe()\n",
    "\n",
    "# Mostrar el resumen estadístico\n",
    "print(\"\\nResumen estadístico del tiempo de espera promedio por operador:\")\n",
    "print(waiting_time_description)\n",
    "\n",
    "# Boxplot del tiempo de espera promedio por operador\n",
    "plt.figure(figsize=(12, 6))\n",
    "sns.boxplot(data=waiting_time_per_operator, y='Tiempo de Espera Promedio (segundos)')\n",
    "plt.title('Boxplot del Tiempo de Espera Promedio por Operador')\n",
    "plt.ylabel('Tiempo de Espera Promedio (segundos)')\n",
    "plt.axhline(y=waiting_time_per_operator['Tiempo de Espera Promedio (segundos)'].mean(), color='r', linestyle='--', label='Media')\n",
    "plt.legend()\n",
    "plt.show()"
   ]
  },
  {
   "cell_type": "markdown",
   "metadata": {},
   "source": [
    "Count: 754: Hay 754 operadores que tienen datos sobre el tiempo de espera promedio, lo que indica una muestra significativa.\n",
    "\n",
    "Mean (Media):57.61 segundos: En promedio, los operadores tienen un tiempo de espera de aproximadamente 57.61 segundos. Este tiempo podría considerarse elevado, dependiendo del contexto del servicio al cliente.\n",
    "\n",
    "Desviación estándar: 94.46 segundos: La alta desviación estándar sugiere que hay una gran variabilidad en los tiempos de espera. Algunos operadores tienen tiempos de espera mucho más largos que otros.\n",
    "\n",
    "Min (Mínimo): 1 segundo: Al menos un operador tiene un tiempo de espera muy corto, lo que podría indicar eficiencia en el manejo de llamadas.\n",
    "\n",
    "25% (Percentil 25): 17.50 segundos: El 25% de los operadores tiene un tiempo de espera de 17.5 segundos o menos, indicando que hay un grupo de operadores que son bastante eficientes.\n",
    "\n",
    "50% (Mediana): 31 segundos: La mediana indica que el 50% de los operadores tiene un tiempo de espera de 31 segundos o menos. Esto muestra que la mitad de los operadores manejan las llamadas de manera relativamente rápida.\n",
    "\n",
    "75% (Percentil 75): 58 segundos: El 75% de los operadores tiene un tiempo de espera de 58 segundos o menos. Esto significa que muchos operadores están en el límite del tiempo de espera promedio, lo que podría ser preocupante.\n",
    "\n",
    "Max (Máximo): 1007.38 segundos: Existe al menos un operador que tiene un tiempo de espera muy alto, superando los 1000 segundos (aproximadamente 16.8 minutos), lo que es un indicativo de ineficacia que necesita ser abordado.\n",
    "\n",
    "Conclusiones\n",
    "\n",
    "Ineficiencia en algunos operadores: La media de 57.61 segundos, junto con un máximo de más de 1000 segundos, sugiere que algunos operadores están experimentando tiempos de espera excesivamente largos, lo que puede afectar la satisfacción del cliente.\n",
    "\n",
    "Variabilidad en el rendimiento: La alta desviación estándar indica que hay una gran variación en el rendimiento entre los operadores, lo que sugiere que algunos están manejando las llamadas de manera mucho más eficiente que otros.\n",
    "\n",
    "Identificación de operadores problemáticos: Los operadores con tiempos de espera por encima del promedio y aquellos cercanos al máximo deberían ser el foco de un análisis más detallado y potencialmente de medidas correctivas."
   ]
  },
  {
   "cell_type": "markdown",
   "metadata": {},
   "source": [
    "**Análisis de llamadas salientes por operador**"
   ]
  },
  {
   "cell_type": "code",
   "execution_count": 19,
   "metadata": {},
   "outputs": [
    {
     "data": {
      "image/png": "[encoded data removed]",
      "text/plain": [
       "<Figure size 1200x600 with 1 Axes>"
      ]
     },
     "metadata": {},
     "output_type": "display_data"
    },
    {
     "name": "stdout",
     "output_type": "stream",
     "text": [
      "\n",
      "Número de llamadas salientes por operador (primeras filas):\n",
      "   operator_id  Número de Llamadas Salientes\n",
      "0     879896.0                           872\n",
      "1     879898.0                          7209\n",
      "2     880020.0                            38\n",
      "3     880022.0                           189\n",
      "4     880026.0                          2208\n"
     ]
    }
   ],
   "source": [
    "# Filtrar solo las llamadas salientes\n",
    "outgoing_calls = operators[operators['direction'] == 'out']\n",
    "\n",
    "# Calcular el número de llamadas salientes por operador\n",
    "outgoing_calls_per_operator = outgoing_calls.groupby('operator_id')['calls_count'].sum().reset_index()\n",
    "\n",
    "# Renombrar la columna para mayor claridad\n",
    "outgoing_calls_per_operator.rename(columns={'calls_count': 'Número de Llamadas Salientes'}, inplace=True)\n",
    "\n",
    "# Visualizar la distribución del número de llamadas salientes por operador\n",
    "plt.figure(figsize=(12, 6))\n",
    "sns.histplot(outgoing_calls_per_operator['Número de Llamadas Salientes'], bins=30, kde=True)\n",
    "plt.title('Distribución del Número de Llamadas Salientes por Operador')\n",
    "plt.xlabel('Número de Llamadas Salientes')\n",
    "plt.ylabel('Frecuencia')\n",
    "plt.axvline(x=outgoing_calls_per_operator['Número de Llamadas Salientes'].mean(), color='r', linestyle='--', label='Media')\n",
    "plt.legend()\n",
    "plt.show()\n",
    "\n",
    "# Mostrar el número de llamadas salientes por operador\n",
    "print(\"\\nNúmero de llamadas salientes por operador (primeras filas):\")\n",
    "print(outgoing_calls_per_operator.head())"
   ]
  },
  {
   "cell_type": "code",
   "execution_count": 20,
   "metadata": {},
   "outputs": [
    {
     "name": "stdout",
     "output_type": "stream",
     "text": [
      "\n",
      "Resumen estadístico del número de llamadas salientes por operador:\n",
      "count      882.000000\n",
      "mean       689.731293\n",
      "std       3122.953946\n",
      "min          1.000000\n",
      "25%         11.000000\n",
      "50%         90.000000\n",
      "75%        597.250000\n",
      "max      58977.000000\n",
      "Name: Número de Llamadas Salientes, dtype: float64\n"
     ]
    },
    {
     "data": {
      "image/png": "[encoded data removed]",
      "text/plain": [
       "<Figure size 1200x600 with 1 Axes>"
      ]
     },
     "metadata": {},
     "output_type": "display_data"
    }
   ],
   "source": [
    "# Describir el número de llamadas salientes por operador\n",
    "outgoing_calls_description = outgoing_calls_per_operator['Número de Llamadas Salientes'].describe()\n",
    "\n",
    "# Mostrar el resumen estadístico\n",
    "print(\"\\nResumen estadístico del número de llamadas salientes por operador:\")\n",
    "print(outgoing_calls_description)\n",
    "\n",
    "# Boxplot del número de llamadas salientes por operador\n",
    "plt.figure(figsize=(12, 6))\n",
    "sns.boxplot(data=outgoing_calls_per_operator, y='Número de Llamadas Salientes')\n",
    "plt.title('Boxplot del Número de Llamadas Salientes por Operador')\n",
    "plt.ylabel('Número de Llamadas Salientes')\n",
    "plt.axhline(y=outgoing_calls_per_operator['Número de Llamadas Salientes'].mean(), color='r', linestyle='--', label='Media')\n",
    "plt.legend()\n",
    "plt.show()"
   ]
  },
  {
   "cell_type": "markdown",
   "metadata": {},
   "source": [
    "Análisis número de llamadas salientes\n",
    "\n",
    "Cantidad de operadores (882): Hay 882 operadores en el conjunto de datos que realizaron llamadas salientes.\n",
    "\n",
    "Media (689.73): En promedio, cada operador realizó aproximadamente 690 llamadas salientes. Esto da una idea general de la actividad de los operadores.\n",
    "\n",
    "Desviación estándar (3122.95): La desviación estándar es bastante alta en comparación con la media, lo que sugiere que hay una gran variabilidad en el número de llamadas salientes entre los operadores. Algunos operadores realizan muchas más llamadas que otros.\n",
    "\n",
    "Mínimo (1): El operador que menos llamadas salientes realizó hizo solo 1 llamada. Esto puede indicar un operador inactivo o uno con bajo rendimiento.\n",
    "\n",
    "25% (11): El primer cuartil (Q1) indica que el 25% de los operadores realizaron 11 o menos llamadas salientes. Esto puede sugerir que una parte significativa de los operadores tiene un volumen bajo de actividad.\n",
    "\n",
    "50% (Median = 90):La mediana (Q2) es 90, lo que indica que la mitad de los operadores realizó 90 llamadas o menos. Esto es útil para entender que muchas veces la media puede ser influenciada por algunos valores extremos (outliers).\n",
    "\n",
    "75% (597.25): El tercer cuartil (Q3) indica que el 75% de los operadores realizaron 597 llamadas o menos. Esto muestra que hay una buena cantidad de operadores que están por debajo de este umbral.\n",
    "\n",
    "Max (58977):El operador que más llamadas salientes realizó hizo 58,977 llamadas. Este es un valor extremadamente alto en comparación con la media, lo que indica que hay un operador que puede ser un outlier y que tiene un rendimiento muy superior al de los demás.\n",
    "\n",
    "Conclusiones\n",
    "\n",
    "Gran Variabilidad: La gran diferencia entre el mínimo y el máximo, así como la alta desviación estándar, sugiere que hay operadores que están muy por encima y otros muy por debajo del promedio en cuanto a la actividad de llamadas salientes.\n",
    "\n",
    "Segmentación de Operadores: Podríamos  segmentar a los operadores en diferentes grupos (por ejemplo, bajo, medio y alto rendimiento) basándote en el número de llamadas salientes para un análisis más detallado."
   ]
  },
  {
   "cell_type": "code",
   "execution_count": 21,
   "metadata": {},
   "outputs": [
    {
     "name": "stdout",
     "output_type": "stream",
     "text": [
      "   operator_id  Número_Llamadas_Salientes Rendimiento\n",
      "0     879896.0                        872    Muy Alto\n",
      "1     879898.0                       7209    Muy Alto\n",
      "2     880020.0                         38       Medio\n",
      "3     880022.0                        189        Alto\n",
      "4     880026.0                       2208    Muy Alto\n",
      "Bajo        222\n",
      "Muy Alto    221\n",
      "Medio       220\n",
      "Alto        219\n",
      "Name: Rendimiento, dtype: int64\n"
     ]
    },
    {
     "data": {
      "image/png": "[encoded data removed]",
      "text/plain": [
       "<Figure size 640x480 with 1 Axes>"
      ]
     },
     "metadata": {},
     "output_type": "display_data"
    }
   ],
   "source": [
    "# Segmentación de operadores\n",
    "# Primero, calculamos el número de llamadas salientes por operador\n",
    "numero_llamadas_salientes = operators[operators['direction'] == 'out'].groupby('operator_id').agg(\n",
    "    {'calls_count': 'sum'}).reset_index()\n",
    "numero_llamadas_salientes.rename(columns={'calls_count': 'Número_Llamadas_Salientes'}, inplace=True)\n",
    "\n",
    "# Calcular los percentiles\n",
    "percentiles = numero_llamadas_salientes['Número_Llamadas_Salientes'].quantile([0.25, 0.5, 0.75])\n",
    "\n",
    "# Crear una nueva columna para la clasificación\n",
    "numero_llamadas_salientes['Rendimiento'] = 'Bajo'  # Asignar un valor por defecto\n",
    "\n",
    "# Clasificar según los percentiles\n",
    "numero_llamadas_salientes.loc[\n",
    "    numero_llamadas_salientes['Número_Llamadas_Salientes'] > percentiles[0.75], 'Rendimiento'] = 'Muy Alto'\n",
    "numero_llamadas_salientes.loc[\n",
    "    (numero_llamadas_salientes['Número_Llamadas_Salientes'] > percentiles[0.5]) & \n",
    "    (numero_llamadas_salientes['Número_Llamadas_Salientes'] <= percentiles[0.75]), 'Rendimiento'] = 'Alto'\n",
    "numero_llamadas_salientes.loc[\n",
    "    (numero_llamadas_salientes['Número_Llamadas_Salientes'] > percentiles[0.25]) & \n",
    "    (numero_llamadas_salientes['Número_Llamadas_Salientes'] <= percentiles[0.5]), 'Rendimiento'] = 'Medio'\n",
    "\n",
    "# Ver los resultados\n",
    "print(numero_llamadas_salientes.head())\n",
    "\n",
    "# Contar operadores por segmento\n",
    "conteo_segmentos = numero_llamadas_salientes['Rendimiento'].value_counts()\n",
    "print(conteo_segmentos)\n",
    "\n",
    "# Visualizar la distribución\n",
    "import matplotlib.pyplot as plt\n",
    "\n",
    "conteo_segmentos.plot(kind='bar', color=['lightblue', 'orange', 'lightgreen', 'lightcoral'])\n",
    "plt.title('Número de Operadores por Segmento de Rendimiento')\n",
    "plt.xlabel('Segmento de Rendimiento')\n",
    "plt.ylabel('Número de Operadores')\n",
    "plt.xticks(rotation=0)\n",
    "plt.show()\n"
   ]
  },
  {
   "cell_type": "markdown",
   "metadata": {},
   "source": [
    "## Identificar operadores ineficaces"
   ]
  },
  {
   "cell_type": "code",
   "execution_count": 22,
   "metadata": {},
   "outputs": [
    {
     "name": "stdout",
     "output_type": "stream",
     "text": [
      "\n",
      "Operadores ineficaces:\n",
      "     operator_id  Porcentaje de Llamadas Perdidas  Tiempo de Espera Promedio  \\\n",
      "0       880020.0                        13.333333                   7.714286   \n",
      "1       880240.0                        14.893617                        NaN   \n",
      "2       881278.0                        35.000000                        NaN   \n",
      "3       882476.0                         0.000000                  31.666667   \n",
      "4       882478.0                        25.000000                  38.000000   \n",
      "..           ...                              ...                        ...   \n",
      "595     970258.0                       100.000000                        NaN   \n",
      "596     970484.0                        28.571429                        NaN   \n",
      "597     970486.0                        33.333333                        NaN   \n",
      "598     972408.0                        16.666667                        NaN   \n",
      "599     973120.0                        33.333333                        NaN   \n",
      "\n",
      "     Número de Llamadas Salientes  \n",
      "0                            38.0  \n",
      "1                            47.0  \n",
      "2                            20.0  \n",
      "3                             NaN  \n",
      "4                             1.0  \n",
      "..                            ...  \n",
      "595                           1.0  \n",
      "596                           7.0  \n",
      "597                           6.0  \n",
      "598                           6.0  \n",
      "599                           3.0  \n",
      "\n",
      "[600 rows x 4 columns]\n"
     ]
    }
   ],
   "source": [
    "# Definir umbrales\n",
    "umbral_perdidas = 15  # Porcentaje de llamadas perdidas mayor al 15%\n",
    "umbral_espera = 60    # Tiempo de espera promedio mayor a 60 segundos\n",
    "umbral_salientes = 50  # Número de llamadas salientes menor a 50\n",
    "\n",
    "# Filtrar operadores ineficaces\n",
    "ineficaces = operator_performance[\n",
    "    (operator_performance['Porcentaje_Llamadas_Perdidas'] > umbral_perdidas) |\n",
    "    (waiting_time_per_operator['Tiempo de Espera Promedio (segundos)'] > umbral_espera) |\n",
    "    (outgoing_calls_per_operator['Número de Llamadas Salientes'] < umbral_salientes)\n",
    "]\n",
    "\n",
    "# Unir información relevante\n",
    "ineficaces = ineficaces.merge(waiting_time_per_operator, on='operator_id', how='left')\n",
    "ineficaces = ineficaces.merge(outgoing_calls_per_operator, on='operator_id', how='left')\n",
    "\n",
    "# Renombrar columnas para mayor claridad\n",
    "ineficaces.rename(columns={\n",
    "    'Porcentaje_Llamadas_Perdidas': 'Porcentaje de Llamadas Perdidas',\n",
    "    'Tiempo de Espera Promedio (segundos)': 'Tiempo de Espera Promedio',\n",
    "    'Número de Llamadas Salientes': 'Número de Llamadas Salientes'\n",
    "}, inplace=True)\n",
    "\n",
    "# Mostrar los operadores ineficaces\n",
    "print(\"\\nOperadores ineficaces:\")\n",
    "print(ineficaces[['operator_id', 'Porcentaje de Llamadas Perdidas', 'Tiempo de Espera Promedio', 'Número de Llamadas Salientes']])\n"
   ]
  },
  {
   "cell_type": "markdown",
   "metadata": {},
   "source": [
    "**Criterios para definir umbrales:**\n",
    "\n",
    "- Porcentaje de Llamadas Perdidas (15%): Un porcentaje del 15% de llamadas perdidas es considerado un punto de referencia común en la industria. Un operador con un porcentaje superior a este umbral puede ser visto como ineficaz, ya que indica que un número significativo de llamadas no se están atendiendo, lo que puede afectar la satisfacción del cliente.\n",
    "\n",
    "- Tiempo de Espera Promedio (60 segundos): Un tiempo de espera promedio de más de 60 segundos es una señal de que los clientes están esperando demasiado tiempo para ser atendidos. Esto puede ser inaceptable en muchas industrias, especialmente en atención al cliente, donde se espera una respuesta rápida. Un tiempo de espera prolongado puede llevar a la frustración del cliente y a una percepción negativa del servicio.\n",
    "\n",
    "- Número de Llamadas Salientes (menos de 50): Definir un umbral de 50 llamadas salientes como mínimo refleja una expectativa de actividad para los operadores. Un número bajo de llamadas salientes puede indicar que el operador no está cumpliendo con su rol de realizar llamadas proactivas, lo que puede ser esencial para ciertos tipos de servicios. Este umbral puede variar según el contexto del negocio, pero 50 es un número que puede considerarse bajo en muchas operaciones"
   ]
  },
  {
   "cell_type": "markdown",
   "metadata": {},
   "source": [
    "**Definir un criterio para crear un ranking de los operadores ineficaces**"
   ]
  },
  {
   "cell_type": "markdown",
   "metadata": {},
   "source": [
    "Para crear un ranking de operadores ineficaces en base a los criterios que hemos definido, podemos asignar puntuaciones a cada operador según su desempeño en cada uno de los tres criterios: porcentaje de llamadas perdidas, tiempo de espera promedio y número de llamadas salientes. Luego, sumaremos estas puntuaciones para obtener un ranking final.\n",
    "\n",
    "**Pasos para crear el ranking:**\n",
    "\n",
    "- Normalizar las métricas: Asignar puntuaciones en función de cómo se comparan los operadores con respecto a los umbrales definidos.\n",
    "\n",
    "- Sumar las puntuaciones: Calcular un puntaje total para cada operador ineficaz.\n",
    "\n",
    "- Clasificar a los operadores: Ordenar a los operadores según su puntaje total."
   ]
  },
  {
   "cell_type": "code",
   "execution_count": 23,
   "metadata": {},
   "outputs": [
    {
     "name": "stdout",
     "output_type": "stream",
     "text": [
      "\n",
      "Ranking de Operadores Ineficaces:\n",
      "     operator_id  Porcentaje de Llamadas Perdidas  Tiempo de Espera Promedio  \\\n",
      "163     906070.0                         3.037975                 889.800000   \n",
      "385     931458.0                         1.215942                 681.961538   \n",
      "305     921318.0                         1.208274                 615.418182   \n",
      "270     919166.0                         0.592300                 401.714286   \n",
      "284     919792.0                         0.977995                 397.228070   \n",
      "..           ...                              ...                        ...   \n",
      "595     970258.0                       100.000000                        NaN   \n",
      "596     970484.0                        28.571429                        NaN   \n",
      "597     970486.0                        33.333333                        NaN   \n",
      "598     972408.0                        16.666667                        NaN   \n",
      "599     973120.0                        33.333333                        NaN   \n",
      "\n",
      "     Número de Llamadas Salientes  Puntuación Total  \n",
      "163                          71.0        829.800000  \n",
      "385                        2363.0        621.961538  \n",
      "305                        2560.0        555.418182  \n",
      "270                          20.0        371.714286  \n",
      "284                          68.0        337.228070  \n",
      "..                            ...               ...  \n",
      "595                           1.0               NaN  \n",
      "596                           7.0               NaN  \n",
      "597                           6.0               NaN  \n",
      "598                           6.0               NaN  \n",
      "599                           3.0               NaN  \n",
      "\n",
      "[600 rows x 5 columns]\n"
     ]
    }
   ],
   "source": [
    "# Normalizar las métricas y asignar puntuaciones\n",
    "ineficaces['Puntuación Perdidas'] = (ineficaces['Porcentaje de Llamadas Perdidas'] - umbral_perdidas).clip(lower=0)\n",
    "ineficaces['Puntuación Espera'] = (ineficaces['Tiempo de Espera Promedio'] - umbral_espera).clip(lower=0)\n",
    "ineficaces['Puntuación Salientes'] = (umbral_salientes - ineficaces['Número de Llamadas Salientes']).clip(lower=0)\n",
    "\n",
    "# Sumar las puntuaciones para obtener un puntaje total\n",
    "ineficaces['Puntuación Total'] = (ineficaces['Puntuación Perdidas'] + \n",
    "                                   ineficaces['Puntuación Espera'] + \n",
    "                                   ineficaces['Puntuación Salientes'])\n",
    "\n",
    "# Clasificar a los operadores según su puntuación total\n",
    "ineficaces_sorted = ineficaces.sort_values(by='Puntuación Total', ascending=False)\n",
    "\n",
    "# Mostrar el ranking de operadores ineficaces\n",
    "print(\"\\nRanking de Operadores Ineficaces:\")\n",
    "print(ineficaces_sorted[['operator_id', 'Porcentaje de Llamadas Perdidas', \n",
    "                          'Tiempo de Espera Promedio', 'Número de Llamadas Salientes', \n",
    "                          'Puntuación Total']])"
   ]
  },
  {
   "cell_type": "markdown",
   "metadata": {},
   "source": [
    "**Explicación del Código Normalización de métricas:**\n",
    "\n",
    "- Puntuación Perdidas: Se calcula la diferencia entre el porcentaje de llamadas perdidas y el umbral definido. Si el porcentaje es menor al umbral, la puntuación es 0.\n",
    "\n",
    "- Puntuación Espera: Se calcula de manera similar, asignando puntajes a los operadores que superan el umbral de tiempo de espera.\n",
    "\n",
    "- Puntuación Salientes: Se calcula la diferencia entre el umbral y el número de llamadas salientes. Una puntuación de 0 se asigna a aquellos que no caen por debajo del umbral.\n",
    "\n",
    "- Suma de puntuaciones: Se suman las puntuaciones de los tres criterios para obtener un puntaje total.\n",
    "\n",
    "Clasificación: Los operadores se ordenan de mayor a menor puntaje total.\n",
    "\n",
    "Conclusiones\n",
    "El resultado será un ranking que permitirá identificar rápidamente a los operadores más ineficaces según los criterios establecidos. Podrás utilizar esta información para dirigir nuestros esfuerzos de mejora."
   ]
  },
  {
   "cell_type": "markdown",
   "metadata": {},
   "source": [
    "**Visualización de operadores ineficaces**\n",
    "\n",
    "Graficaremos los 20 operadores más ineficaces en orden descendente según su puntaje total."
   ]
  },
  {
   "cell_type": "code",
   "execution_count": 24,
   "metadata": {},
   "outputs": [
    {
     "data": {
      "image/png": "[encoded data removed]",
      "text/plain": [
       "<Figure size 1200x800 with 1 Axes>"
      ]
     },
     "metadata": {},
     "output_type": "display_data"
    }
   ],
   "source": [
    "# Seleccionar los 20 operadores más ineficaces\n",
    "top_ineficaces = ineficaces_sorted.head(20)\n",
    "\n",
    "\n",
    "# Asegurarse de que los datos están ordenados en orden descendente\n",
    "top_ineficaces = top_ineficaces.sort_values(by='Puntuación Total', ascending=False)\n",
    "\n",
    "# Graficar los 20 operadores más ineficaces en orden descendente\n",
    "plt.figure(figsize=(12, 8))\n",
    "sns.barplot(data=top_ineficaces, x='operator_id', y='Puntuación Total', palette='viridis', order=top_ineficaces['operator_id'])\n",
    "plt.title('Top 20 Operadores Más Ineficaces')\n",
    "plt.xlabel('ID del Operador')\n",
    "plt.ylabel('Puntuación Total')\n",
    "plt.axhline(y=top_ineficaces['Puntuación Total'].mean(), color='red', linestyle='--', label='Media de Puntuación')\n",
    "plt.legend()\n",
    "plt.xticks(rotation=45)  # Rotar etiquetas del eje x para mejor legibilidad\n",
    "plt.show()\n"
   ]
  },
  {
   "cell_type": "markdown",
   "metadata": {},
   "source": [
    "# Prueba de hipotesis\n",
    "\n",
    "Formulación de Hipótesis\n",
    "\n",
    "- Hipótesis Nula (H0): No hay diferencias significativas en el rendimiento de los operadores en función de las métricas de eficacia (porcentaje de llamadas perdidas, tiempo de espera, número de llamadas salientes).\n",
    "\n",
    "- Hipótesis Alternativa (H1): Hay diferencias significativas en el rendimiento de los operadores en función de las métricas de eficacia.\n",
    "\n",
    "Selección de Pruebas de Hipótesis\n",
    "    Podemos usar pruebas estadísticas apropiadas para cada métrica:\n",
    "\n",
    "- Porcentaje de Llamadas Perdidas: Prueba t de Student si se cumplen los supuestos de normalidad, o una prueba no paramétrica (como la prueba de Mann-Whitney) si no.\n",
    "- Tiempo de Espera Promedio: Similar al anterior, utilizando la prueba t o Mann-Whitney.\n",
    "- Número de Llamadas Salientes: Prueba t o Mann-Whitney.\n"
   ]
  },
  {
   "cell_type": "markdown",
   "metadata": {},
   "source": [
    "**Pruebas Estadísticas de Normalidad:**\n",
    "\n",
    "Prueba de Shapiro-Wilk: Una de las pruebas más comunes para evaluar la normalidad."
   ]
  },
  {
   "cell_type": "code",
   "execution_count": 25,
   "metadata": {},
   "outputs": [
    {
     "name": "stdout",
     "output_type": "stream",
     "text": [
      "Estadístico de Shapiro: 0.6826909780502319, P-Valor: 5.204408961959138e-32\n"
     ]
    }
   ],
   "source": [
    "# Separar operadores eficaces e ineficaces\n",
    "eficaces = operator_performance[operator_performance['operator_id'].isin(ineficaces_sorted['operator_id'])]\n",
    "ineficaces = operator_performance[operator_performance['operator_id'].isin(top_ineficaces['operator_id'])]\n",
    "\n",
    "shapiro_stat, shapiro_p = stats.shapiro(eficaces['Porcentaje_Llamadas_Perdidas'])\n",
    "print(f\"Estadístico de Shapiro: {shapiro_stat}, P-Valor: {shapiro_p}\")"
   ]
  },
  {
   "cell_type": "markdown",
   "metadata": {},
   "source": [
    "**Interpretación de los Resultados:**\n",
    "\n",
    "P-Valor: El p-valor es extremadamente bajo (mucho menor que 0.05), lo que indica que puedes rechazar la hipótesis nula de que los datos son normalmente distribuidos. Esto sugiere que la distribución de los porcentajes de llamadas perdidas para los operadores eficaces no sigue una distribución normal.\n",
    "\n",
    "Estadístico de Shapiro: Un valor del estadístico de Shapiro significativamente menor a 1 refuerza la conclusión de que los datos no son normales."
   ]
  },
  {
   "cell_type": "markdown",
   "metadata": {},
   "source": [
    "**Comporbación de Hipotesis 1:** Comparar el porcentaje de llamadas perdidas entre los operadores eficaces e ineficaces con la prueba de Mann-Whitney U."
   ]
  },
  {
   "cell_type": "code",
   "execution_count": 26,
   "metadata": {},
   "outputs": [
    {
     "name": "stdout",
     "output_type": "stream",
     "text": [
      "Estadístico de Mann-Whitney: 8000.5, P-Valor: 0.010958392342298551\n"
     ]
    }
   ],
   "source": [
    "# Prueba de Mann-Whitney U\n",
    "mann_whitney_stat, mann_whitney_p = stats.mannwhitneyu(\n",
    "    eficaces['Porcentaje_Llamadas_Perdidas'], \n",
    "    ineficaces['Porcentaje_Llamadas_Perdidas']\n",
    ")\n",
    "\n",
    "print(f\"Estadístico de Mann-Whitney: {mann_whitney_stat}, P-Valor: {mann_whitney_p}\")\n",
    "\n"
   ]
  },
  {
   "cell_type": "markdown",
   "metadata": {},
   "source": [
    "Los resultados de la prueba de Mann-Whitney U son:\n",
    "\n",
    "Estadístico de Mann-Whitney: 8000.5\n",
    "P-Valor: 0.01096\n",
    "\n",
    "**Interpretación de los Resultados:**\n",
    "\n",
    "P-Valor: Dado que el p-valor es aproximadamente 0.011, que es menor que 0.05, puedes rechazar la hipótesis nula. Esto sugiere que hay diferencias significativas en el porcentaje de llamadas perdidas entre los operadores eficaces e ineficaces.\n",
    "\n",
    "Conclusión: Esto implica que los operadores ineficaces tienen, en promedio, un porcentaje de llamadas perdidas significativamente mayor en comparación con los operadores eficaces.\n"
   ]
  },
  {
   "cell_type": "markdown",
   "metadata": {},
   "source": [
    "**Comprobación Hipótesis 2:**\n",
    "\n",
    "Comparar el tiempo de espera promedio entre los operadores eficaces e ineficaces. En este caso podemos utilizar nuevamente la prueba de Mann-Whitney U, ya que previamente determinamos que los datos no son normales."
   ]
  },
  {
   "cell_type": "code",
   "execution_count": 27,
   "metadata": {},
   "outputs": [],
   "source": [
    "# Calcular el tiempo de espera\n",
    "operators['Tiempo_Espera'] = operators['total_call_duration'] - operators['call_duration']\n",
    "\n",
    "# Agrupar y calcular el tiempo de espera promedio por operador\n",
    "tiempo_espera_promedio = operators.groupby('operator_id')['Tiempo_Espera'].mean().reset_index()\n",
    "tiempo_espera_promedio.columns = ['operator_id', 'Tiempo_Espera_Promedio']\n",
    "\n",
    "# Unir el promedio con los DataFrames eficaces e ineficaces\n",
    "eficaces = eficaces.merge(tiempo_espera_promedio, on='operator_id', how='left')\n",
    "ineficaces = ineficaces.merge(tiempo_espera_promedio, on='operator_id', how='left')"
   ]
  },
  {
   "cell_type": "markdown",
   "metadata": {},
   "source": [
    "Paso 2: Realizar la Prueba de Mann-Whitney U\n",
    "Ahora que tienes el tiempo de espera promedio, puedes realizar la prueba:"
   ]
  },
  {
   "cell_type": "code",
   "execution_count": 28,
   "metadata": {},
   "outputs": [
    {
     "name": "stdout",
     "output_type": "stream",
     "text": [
      "Estadístico de Mann-Whitney para Tiempo de Espera: 1819.0, P-Valor: 1.1268155740771989e-07\n"
     ]
    }
   ],
   "source": [
    "# Prueba de Mann-Whitney U para el tiempo de espera promedio\n",
    "mann_whitney_stat_tiempo, mann_whitney_p_tiempo = stats.mannwhitneyu(\n",
    "    eficaces['Tiempo_Espera_Promedio'], \n",
    "    ineficaces['Tiempo_Espera_Promedio']\n",
    ")\n",
    "\n",
    "print(f\"Estadístico de Mann-Whitney para Tiempo de Espera: {mann_whitney_stat_tiempo}, P-Valor: {mann_whitney_p_tiempo}\")\n"
   ]
  },
  {
   "cell_type": "markdown",
   "metadata": {},
   "source": [
    "**Interpretación de los Resultados:**\n",
    "\n",
    "P-Valor: Dado que el p-valor es mucho menor que 0.05, puedes rechazar la hipótesis nula. Esto sugiere que hay diferencias significativas en el tiempo de espera promedio entre los operadores eficaces e ineficaces.\n",
    "\n",
    "Conclusión: Esto implica que los operadores ineficaces, en promedio, experimentan un tiempo de espera significativamente mayor en comparación con los operadores eficaces.\n"
   ]
  },
  {
   "cell_type": "markdown",
   "metadata": {},
   "source": [
    "**Comprobación Hipótesis 3:** Comparación sobre el número de llamadas salientes entre los operadores eficaces e ineficaces."
   ]
  },
  {
   "cell_type": "code",
   "execution_count": 29,
   "metadata": {},
   "outputs": [],
   "source": [
    "# Calcular el número de llamadas salientes\n",
    "calls_salientes = operators[operators['direction'] == 'out']\n",
    "\n",
    "# Agrupar y contar el número de llamadas salientes por operador\n",
    "numero_llamadas_salientes = calls_salientes.groupby('operator_id')['calls_count'].sum().reset_index()\n",
    "numero_llamadas_salientes.columns = ['operator_id', 'Número_Llamadas_Salientes']\n",
    "\n",
    "# Unir el conteo con los DataFrames eficaces e ineficaces\n",
    "eficaces = eficaces.merge(numero_llamadas_salientes, on='operator_id', how='left')\n",
    "ineficaces = ineficaces.merge(numero_llamadas_salientes, on='operator_id', how='left')"
   ]
  },
  {
   "cell_type": "code",
   "execution_count": 30,
   "metadata": {},
   "outputs": [
    {
     "name": "stdout",
     "output_type": "stream",
     "text": [
      "Valores nulos en eficaces:\n",
      " 102\n",
      "Valores nulos en ineficaces:\n",
      " 0\n"
     ]
    }
   ],
   "source": [
    "# Verificar si hay valores nulos\n",
    "print(\"Valores nulos en eficaces:\\n\", eficaces['Número_Llamadas_Salientes'].isnull().sum())\n",
    "print(\"Valores nulos en ineficaces:\\n\", ineficaces['Número_Llamadas_Salientes'].isnull().sum())\n"
   ]
  },
  {
   "cell_type": "code",
   "execution_count": 31,
   "metadata": {},
   "outputs": [],
   "source": [
    "eficaces = eficaces.dropna(subset=['Número_Llamadas_Salientes'])\n",
    "ineficaces = ineficaces.dropna(subset=['Número_Llamadas_Salientes'])"
   ]
  },
  {
   "cell_type": "code",
   "execution_count": 32,
   "metadata": {},
   "outputs": [
    {
     "name": "stdout",
     "output_type": "stream",
     "text": [
      "Estadístico de Mann-Whitney para Llamadas Salientes: 3139.0, P-Valor: 0.005025036579496616\n"
     ]
    }
   ],
   "source": [
    "# Prueba de Mann-Whitney U para el número de llamadas salientes\n",
    "mann_whitney_stat_salientes, mann_whitney_p_salientes = stats.mannwhitneyu(\n",
    "    eficaces['Número_Llamadas_Salientes'], \n",
    "    ineficaces['Número_Llamadas_Salientes']\n",
    ")\n",
    "\n",
    "print(f\"Estadístico de Mann-Whitney para Llamadas Salientes: {mann_whitney_stat_salientes}, P-Valor: {mann_whitney_p_salientes}\")"
   ]
  },
  {
   "cell_type": "markdown",
   "metadata": {},
   "source": [
    "**Interpretación de los resultados**\n",
    "\n",
    "El P-valor de 0.005 indica que hay una diferencia estadísticamente significativa entre los dos grupos. Un P-valor menor a 0.05 se considera suficiente para rechazar la hipótesis nula.\n",
    "Esto sugiere que es muy probable que los operadores eficaces realicen un número significativamente mayor de llamadas salientes en comparación con los operadores ineficaces.\n",
    "\n",
    "Esto podría implicar que los operadores eficaces son más proactivos en su trabajo, lo que puede estar relacionado con una mejor atención al cliente o una gestión más efectiva de las comunicaciones."
   ]
  },
  {
   "cell_type": "markdown",
   "metadata": {},
   "source": [
    "## Conclusión General\n",
    "\n",
    "El análisis del rendimiento de los operadores en el servicio de telefonía virtual CallMeMaybe ha permitido identificar patrones significativos en la eficacia de los operadores. A través de varias pruebas de hipótesis y análisis exploratorios, hemos encontrado:\n",
    "\n",
    "Llamadas Perdidas: Los operadores ineficaces tienen un porcentaje significativamente mayor de llamadas perdidas en comparación con los eficaces. Esto sugiere que los operadores ineficaces no están gestionando adecuadamente las llamadas entrantes.\n",
    "\n",
    "Tiempo de Espera: Los operadores ineficaces también presentan tiempos de espera promedio significativamente más altos que sus contrapartes eficaces, lo que puede contribuir a la insatisfacción del cliente.\n",
    "\n",
    "Número de Llamadas Salientes: La prueba de Mann-Whitney U reveló diferencias significativas en el número de llamadas salientes entre operadores eficaces e ineficaces. Los operadores ineficaces tienden a realizar menos llamadas salientes, lo que podría afectar su rendimiento general.\n",
    "\n",
    "Recomendaciones:\n",
    "\n",
    "Capacitación y Desarrollo: Implementar programas de capacitación específicos para los operadores identificados como ineficaces, enfocándose en la gestión de llamadas y la optimización del tiempo de espera.\n",
    "\n",
    "Análisis de Procesos: Realizar un análisis más profundo de los procesos internos para identificar cuellos de botella que puedan estar afectando el tiempo de espera y el manejo de llamadas.\n",
    "\n",
    "Reasignación de Recursos: Considerar la reasignación de operadores en función de su rendimiento, asegurando que aquellos que gestionan llamadas de alta demanda estén adecuadamente soportados.\n",
    "\n",
    "Uso de Tecnología: Implementar herramientas tecnológicas, como sistemas de gestión de llamadas y análisis de datos en tiempo real, para ayudar a los operadores a mejorar su rendimiento y la calidad del servicio.\n",
    "\n",
    "Monitoreo Continuo: Establecer métricas de rendimiento claras y realizar un seguimiento continuo del desempeño de los operadores para facilitar la identificación de áreas de mejora.\n"
   ]
  },
  {
   "cell_type": "markdown",
   "metadata": {},
   "source": [
    "## Presentación en PDF\n",
    "\n",
    "https://drive.google.com/file/d/1_W9VXq8r-FhAt2h57q45r2kP0hF8pMY1/view?usp=sharing"
   ]
  }
 ],
 "metadata": {
  "ExecuteTimeLog": [
   {
    "duration": 2588,
    "start_time": "2024-10-26T17:46:39.487Z"
   },
   {
    "duration": 2,
    "start_time": "2024-10-26T17:48:38.361Z"
   },
   {
    "duration": 66,
    "start_time": "2024-10-26T17:48:38.955Z"
   },
   {
    "duration": 45,
    "start_time": "2024-10-26T17:49:02.841Z"
   },
   {
    "duration": 9,
    "start_time": "2024-10-26T17:49:37.523Z"
   },
   {
    "duration": 16,
    "start_time": "2024-10-26T17:55:43.360Z"
   },
   {
    "duration": 6,
    "start_time": "2024-10-26T17:56:05.092Z"
   },
   {
    "duration": 8,
    "start_time": "2024-10-26T17:56:28.513Z"
   },
   {
    "duration": 8,
    "start_time": "2024-10-26T17:56:44.936Z"
   },
   {
    "duration": 158,
    "start_time": "2024-10-26T18:50:16.857Z"
   },
   {
    "duration": 2574,
    "start_time": "2024-10-26T18:50:40.162Z"
   },
   {
    "duration": 78,
    "start_time": "2024-10-26T18:50:42.738Z"
   },
   {
    "duration": 14,
    "start_time": "2024-10-26T18:50:42.818Z"
   },
   {
    "duration": 15,
    "start_time": "2024-10-26T18:50:42.834Z"
   },
   {
    "duration": 6,
    "start_time": "2024-10-26T18:50:42.850Z"
   },
   {
    "duration": 9,
    "start_time": "2024-10-26T18:51:02.956Z"
   },
   {
    "duration": 5,
    "start_time": "2024-10-26T18:52:14.495Z"
   },
   {
    "duration": 16,
    "start_time": "2024-10-26T18:57:12.978Z"
   },
   {
    "duration": 8,
    "start_time": "2024-10-26T18:57:44.582Z"
   },
   {
    "duration": 15,
    "start_time": "2024-10-26T18:58:14.517Z"
   },
   {
    "duration": 14,
    "start_time": "2024-10-26T19:00:14.969Z"
   },
   {
    "duration": 16,
    "start_time": "2024-10-26T19:02:19.313Z"
   },
   {
    "duration": 835,
    "start_time": "2024-10-26T19:02:41.190Z"
   },
   {
    "duration": 73,
    "start_time": "2024-10-26T19:02:42.028Z"
   },
   {
    "duration": 13,
    "start_time": "2024-10-26T19:02:42.102Z"
   },
   {
    "duration": 11,
    "start_time": "2024-10-26T19:02:42.118Z"
   },
   {
    "duration": 6,
    "start_time": "2024-10-26T19:02:42.131Z"
   },
   {
    "duration": 16,
    "start_time": "2024-10-26T19:02:42.139Z"
   },
   {
    "duration": 18,
    "start_time": "2024-10-26T19:02:42.157Z"
   },
   {
    "duration": 11,
    "start_time": "2024-10-26T19:03:42.081Z"
   },
   {
    "duration": 23,
    "start_time": "2024-10-26T19:08:11.679Z"
   },
   {
    "duration": 15,
    "start_time": "2024-10-26T19:08:56.809Z"
   },
   {
    "duration": 27,
    "start_time": "2024-10-26T19:18:14.946Z"
   },
   {
    "duration": 20,
    "start_time": "2024-10-26T19:19:02.519Z"
   },
   {
    "duration": 438,
    "start_time": "2024-10-26T19:24:24.116Z"
   },
   {
    "duration": 7,
    "start_time": "2024-10-26T19:32:07.213Z"
   },
   {
    "duration": 508,
    "start_time": "2024-10-26T19:37:51.832Z"
   },
   {
    "duration": 15,
    "start_time": "2024-10-26T19:48:28.108Z"
   },
   {
    "duration": 18,
    "start_time": "2024-10-26T19:49:29.655Z"
   },
   {
    "duration": 256,
    "start_time": "2024-10-26T19:52:19.380Z"
   },
   {
    "duration": 251,
    "start_time": "2024-10-26T19:54:46.860Z"
   },
   {
    "duration": 2462,
    "start_time": "2024-10-27T12:09:56.561Z"
   },
   {
    "duration": 74,
    "start_time": "2024-10-27T12:09:59.025Z"
   },
   {
    "duration": 14,
    "start_time": "2024-10-27T12:09:59.101Z"
   },
   {
    "duration": 15,
    "start_time": "2024-10-27T12:09:59.118Z"
   },
   {
    "duration": 5,
    "start_time": "2024-10-27T12:09:59.134Z"
   },
   {
    "duration": 16,
    "start_time": "2024-10-27T12:09:59.141Z"
   },
   {
    "duration": 16,
    "start_time": "2024-10-27T12:09:59.159Z"
   },
   {
    "duration": 9,
    "start_time": "2024-10-27T12:09:59.176Z"
   },
   {
    "duration": 30,
    "start_time": "2024-10-27T12:09:59.187Z"
   },
   {
    "duration": 10,
    "start_time": "2024-10-27T12:09:59.220Z"
   },
   {
    "duration": 16,
    "start_time": "2024-10-27T12:09:59.232Z"
   },
   {
    "duration": 521,
    "start_time": "2024-10-27T12:09:59.249Z"
   },
   {
    "duration": 6,
    "start_time": "2024-10-27T12:09:59.772Z"
   },
   {
    "duration": 468,
    "start_time": "2024-10-27T12:09:59.779Z"
   },
   {
    "duration": 245,
    "start_time": "2024-10-27T12:10:00.248Z"
   },
   {
    "duration": 387,
    "start_time": "2024-10-27T12:40:52.975Z"
   },
   {
    "duration": 21,
    "start_time": "2024-10-27T12:41:38.632Z"
   },
   {
    "duration": 22,
    "start_time": "2024-10-27T12:57:41.783Z"
   },
   {
    "duration": 38,
    "start_time": "2024-10-27T12:58:37.360Z"
   },
   {
    "duration": 2667,
    "start_time": "2024-10-27T13:30:41.003Z"
   },
   {
    "duration": 77,
    "start_time": "2024-10-27T13:30:43.673Z"
   },
   {
    "duration": 15,
    "start_time": "2024-10-27T13:30:43.752Z"
   },
   {
    "duration": 28,
    "start_time": "2024-10-27T13:30:43.771Z"
   },
   {
    "duration": 6,
    "start_time": "2024-10-27T13:30:43.802Z"
   },
   {
    "duration": 18,
    "start_time": "2024-10-27T13:30:43.810Z"
   },
   {
    "duration": 19,
    "start_time": "2024-10-27T13:30:43.830Z"
   },
   {
    "duration": 21,
    "start_time": "2024-10-27T13:30:43.851Z"
   },
   {
    "duration": 23,
    "start_time": "2024-10-27T13:30:43.875Z"
   },
   {
    "duration": 29,
    "start_time": "2024-10-27T13:30:43.901Z"
   },
   {
    "duration": 19,
    "start_time": "2024-10-27T13:30:43.931Z"
   },
   {
    "duration": 517,
    "start_time": "2024-10-27T13:30:43.952Z"
   },
   {
    "duration": 6,
    "start_time": "2024-10-27T13:30:44.470Z"
   },
   {
    "duration": 456,
    "start_time": "2024-10-27T13:30:44.478Z"
   },
   {
    "duration": 21,
    "start_time": "2024-10-27T13:30:44.936Z"
   },
   {
    "duration": 303,
    "start_time": "2024-10-27T13:31:27.860Z"
   },
   {
    "duration": 912,
    "start_time": "2024-10-27T13:40:08.395Z"
   },
   {
    "duration": 54,
    "start_time": "2024-10-27T13:40:09.309Z"
   },
   {
    "duration": 16,
    "start_time": "2024-10-27T13:40:09.365Z"
   },
   {
    "duration": 11,
    "start_time": "2024-10-27T13:40:09.383Z"
   },
   {
    "duration": 6,
    "start_time": "2024-10-27T13:40:09.396Z"
   },
   {
    "duration": 19,
    "start_time": "2024-10-27T13:40:09.424Z"
   },
   {
    "duration": 18,
    "start_time": "2024-10-27T13:40:09.445Z"
   },
   {
    "duration": 11,
    "start_time": "2024-10-27T13:40:09.465Z"
   },
   {
    "duration": 49,
    "start_time": "2024-10-27T13:40:09.478Z"
   },
   {
    "duration": 11,
    "start_time": "2024-10-27T13:40:09.530Z"
   },
   {
    "duration": 21,
    "start_time": "2024-10-27T13:40:09.545Z"
   },
   {
    "duration": 514,
    "start_time": "2024-10-27T13:40:09.567Z"
   },
   {
    "duration": 7,
    "start_time": "2024-10-27T13:40:10.082Z"
   },
   {
    "duration": 503,
    "start_time": "2024-10-27T13:40:10.091Z"
   },
   {
    "duration": 116,
    "start_time": "2024-10-27T13:40:10.596Z"
   },
   {
    "duration": 899,
    "start_time": "2024-10-27T13:41:27.029Z"
   },
   {
    "duration": 53,
    "start_time": "2024-10-27T13:41:27.931Z"
   },
   {
    "duration": 17,
    "start_time": "2024-10-27T13:41:27.987Z"
   },
   {
    "duration": 25,
    "start_time": "2024-10-27T13:41:28.006Z"
   },
   {
    "duration": 8,
    "start_time": "2024-10-27T13:41:28.033Z"
   },
   {
    "duration": 18,
    "start_time": "2024-10-27T13:41:28.043Z"
   },
   {
    "duration": 18,
    "start_time": "2024-10-27T13:41:28.063Z"
   },
   {
    "duration": 10,
    "start_time": "2024-10-27T13:41:28.083Z"
   },
   {
    "duration": 40,
    "start_time": "2024-10-27T13:41:28.095Z"
   },
   {
    "duration": 13,
    "start_time": "2024-10-27T13:41:28.137Z"
   },
   {
    "duration": 19,
    "start_time": "2024-10-27T13:41:28.152Z"
   },
   {
    "duration": 532,
    "start_time": "2024-10-27T13:41:28.173Z"
   },
   {
    "duration": 7,
    "start_time": "2024-10-27T13:41:28.707Z"
   },
   {
    "duration": 528,
    "start_time": "2024-10-27T13:41:28.718Z"
   },
   {
    "duration": 114,
    "start_time": "2024-10-27T13:41:29.248Z"
   },
   {
    "duration": 88820,
    "start_time": "2024-10-27T13:41:29.363Z"
   },
   {
    "duration": 29810,
    "start_time": "2024-10-27T13:50:08.918Z"
   },
   {
    "duration": 10,
    "start_time": "2024-10-27T13:58:38.601Z"
   },
   {
    "duration": 522,
    "start_time": "2024-10-27T13:58:57.319Z"
   },
   {
    "duration": 237,
    "start_time": "2024-10-27T14:06:12.918Z"
   },
   {
    "duration": 421,
    "start_time": "2024-10-27T14:06:49.069Z"
   },
   {
    "duration": 967,
    "start_time": "2024-10-27T14:08:04.112Z"
   },
   {
    "duration": 7,
    "start_time": "2024-10-27T14:18:19.154Z"
   },
   {
    "duration": 5,
    "start_time": "2024-10-27T14:21:46.709Z"
   },
   {
    "duration": 6,
    "start_time": "2024-10-27T14:29:06.432Z"
   },
   {
    "duration": 458,
    "start_time": "2024-10-27T14:52:09.759Z"
   },
   {
    "duration": 201,
    "start_time": "2024-10-27T14:54:09.377Z"
   },
   {
    "duration": 392,
    "start_time": "2024-10-27T15:12:19.356Z"
   },
   {
    "duration": 211,
    "start_time": "2024-10-27T15:14:41.888Z"
   },
   {
    "duration": 14,
    "start_time": "2024-10-27T15:18:14.969Z"
   },
   {
    "duration": 131,
    "start_time": "2024-10-27T15:23:44.605Z"
   },
   {
    "duration": 2490,
    "start_time": "2024-10-28T03:35:42.838Z"
   },
   {
    "duration": 71,
    "start_time": "2024-10-28T03:35:45.330Z"
   },
   {
    "duration": 13,
    "start_time": "2024-10-28T03:35:45.403Z"
   },
   {
    "duration": 11,
    "start_time": "2024-10-28T03:35:45.419Z"
   },
   {
    "duration": 6,
    "start_time": "2024-10-28T03:35:45.432Z"
   },
   {
    "duration": 15,
    "start_time": "2024-10-28T03:35:45.439Z"
   },
   {
    "duration": 17,
    "start_time": "2024-10-28T03:35:45.456Z"
   },
   {
    "duration": 33,
    "start_time": "2024-10-28T03:35:45.475Z"
   },
   {
    "duration": 14,
    "start_time": "2024-10-28T03:35:45.509Z"
   },
   {
    "duration": 11,
    "start_time": "2024-10-28T03:35:45.526Z"
   },
   {
    "duration": 16,
    "start_time": "2024-10-28T03:35:45.538Z"
   },
   {
    "duration": 474,
    "start_time": "2024-10-28T03:35:45.555Z"
   },
   {
    "duration": 5,
    "start_time": "2024-10-28T03:35:46.032Z"
   },
   {
    "duration": 454,
    "start_time": "2024-10-28T03:35:46.038Z"
   },
   {
    "duration": 927,
    "start_time": "2024-10-28T03:35:46.494Z"
   },
   {
    "duration": 425,
    "start_time": "2024-10-28T03:35:47.423Z"
   },
   {
    "duration": 6,
    "start_time": "2024-10-28T03:35:47.850Z"
   },
   {
    "duration": 388,
    "start_time": "2024-10-28T03:35:47.858Z"
   },
   {
    "duration": 287,
    "start_time": "2024-10-28T03:35:48.248Z"
   },
   {
    "duration": 411,
    "start_time": "2024-10-28T03:35:48.536Z"
   },
   {
    "duration": 214,
    "start_time": "2024-10-28T03:35:48.949Z"
   },
   {
    "duration": 226,
    "start_time": "2024-10-28T03:35:49.164Z"
   },
   {
    "duration": 0,
    "start_time": "2024-10-28T03:35:49.391Z"
   },
   {
    "duration": 124,
    "start_time": "2024-10-28T03:37:07.745Z"
   },
   {
    "duration": 16,
    "start_time": "2024-10-28T03:39:43.767Z"
   },
   {
    "duration": 17,
    "start_time": "2024-10-28T03:45:21.478Z"
   },
   {
    "duration": 18,
    "start_time": "2024-10-28T03:45:38.817Z"
   },
   {
    "duration": 17,
    "start_time": "2024-10-28T03:49:33.707Z"
   },
   {
    "duration": 15,
    "start_time": "2024-10-28T03:49:47.375Z"
   },
   {
    "duration": 15,
    "start_time": "2024-10-28T03:52:44.314Z"
   },
   {
    "duration": 388,
    "start_time": "2024-10-28T03:55:50.121Z"
   },
   {
    "duration": 409,
    "start_time": "2024-10-28T03:57:09.194Z"
   },
   {
    "duration": 368,
    "start_time": "2024-10-28T03:58:04.261Z"
   },
   {
    "duration": 447,
    "start_time": "2024-10-28T04:00:24.842Z"
   },
   {
    "duration": 15,
    "start_time": "2024-10-28T04:14:42.012Z"
   },
   {
    "duration": 6,
    "start_time": "2024-10-28T04:16:13.866Z"
   },
   {
    "duration": 6,
    "start_time": "2024-10-28T04:18:14.182Z"
   },
   {
    "duration": 5,
    "start_time": "2024-10-28T04:19:16.075Z"
   },
   {
    "duration": 416,
    "start_time": "2024-10-28T04:31:31.338Z"
   },
   {
    "duration": 11,
    "start_time": "2024-10-28T04:37:55.126Z"
   },
   {
    "duration": 6,
    "start_time": "2024-10-28T04:38:11.562Z"
   },
   {
    "duration": 41,
    "start_time": "2024-10-28T04:42:47.892Z"
   },
   {
    "duration": 14,
    "start_time": "2024-10-28T04:44:11.783Z"
   },
   {
    "duration": 4,
    "start_time": "2024-10-28T04:44:28.857Z"
   },
   {
    "duration": 2708,
    "start_time": "2024-10-29T01:30:26.764Z"
   },
   {
    "duration": 220,
    "start_time": "2024-10-29T01:31:33.944Z"
   },
   {
    "duration": 2,
    "start_time": "2024-10-29T01:31:39.432Z"
   },
   {
    "duration": 67,
    "start_time": "2024-10-29T01:31:39.983Z"
   },
   {
    "duration": 10,
    "start_time": "2024-10-29T01:31:46.207Z"
   },
   {
    "duration": 20,
    "start_time": "2024-10-29T01:49:19.595Z"
   },
   {
    "duration": 12,
    "start_time": "2024-10-29T01:49:23.726Z"
   },
   {
    "duration": 387,
    "start_time": "2024-10-29T01:49:24.803Z"
   },
   {
    "duration": 17,
    "start_time": "2024-10-29T01:58:47.537Z"
   },
   {
    "duration": 2488,
    "start_time": "2024-10-29T04:14:39.649Z"
   },
   {
    "duration": 72,
    "start_time": "2024-10-29T04:14:42.140Z"
   },
   {
    "duration": 12,
    "start_time": "2024-10-29T04:14:42.215Z"
   },
   {
    "duration": 13,
    "start_time": "2024-10-29T04:14:42.228Z"
   },
   {
    "duration": 6,
    "start_time": "2024-10-29T04:14:42.242Z"
   },
   {
    "duration": 16,
    "start_time": "2024-10-29T04:14:42.249Z"
   },
   {
    "duration": 15,
    "start_time": "2024-10-29T04:14:42.266Z"
   },
   {
    "duration": 26,
    "start_time": "2024-10-29T04:14:42.283Z"
   },
   {
    "duration": 14,
    "start_time": "2024-10-29T04:14:42.311Z"
   },
   {
    "duration": 10,
    "start_time": "2024-10-29T04:14:42.328Z"
   },
   {
    "duration": 16,
    "start_time": "2024-10-29T04:14:42.340Z"
   },
   {
    "duration": 516,
    "start_time": "2024-10-29T04:14:42.358Z"
   },
   {
    "duration": 5,
    "start_time": "2024-10-29T04:14:42.876Z"
   },
   {
    "duration": 11,
    "start_time": "2024-10-29T04:14:42.883Z"
   },
   {
    "duration": 395,
    "start_time": "2024-10-29T04:14:42.895Z"
   },
   {
    "duration": 5,
    "start_time": "2024-10-29T04:14:43.292Z"
   },
   {
    "duration": 399,
    "start_time": "2024-10-29T04:14:43.306Z"
   },
   {
    "duration": 224,
    "start_time": "2024-10-29T04:14:43.709Z"
   },
   {
    "duration": 394,
    "start_time": "2024-10-29T04:14:43.935Z"
   },
   {
    "duration": 235,
    "start_time": "2024-10-29T04:14:44.330Z"
   },
   {
    "duration": 291,
    "start_time": "2024-10-29T04:14:44.567Z"
   },
   {
    "duration": 0,
    "start_time": "2024-10-29T04:14:44.860Z"
   },
   {
    "duration": 0,
    "start_time": "2024-10-29T04:14:44.861Z"
   },
   {
    "duration": 0,
    "start_time": "2024-10-29T04:14:44.862Z"
   },
   {
    "duration": 0,
    "start_time": "2024-10-29T04:14:44.863Z"
   },
   {
    "duration": 0,
    "start_time": "2024-10-29T04:14:44.864Z"
   },
   {
    "duration": 0,
    "start_time": "2024-10-29T04:14:44.865Z"
   },
   {
    "duration": 0,
    "start_time": "2024-10-29T04:14:44.866Z"
   },
   {
    "duration": 0,
    "start_time": "2024-10-29T04:14:44.867Z"
   },
   {
    "duration": 0,
    "start_time": "2024-10-29T04:14:44.868Z"
   },
   {
    "duration": 0,
    "start_time": "2024-10-29T04:14:44.870Z"
   },
   {
    "duration": 2591,
    "start_time": "2024-10-29T21:32:11.854Z"
   },
   {
    "duration": 74,
    "start_time": "2024-10-29T21:32:14.447Z"
   },
   {
    "duration": 10,
    "start_time": "2024-10-29T21:32:14.523Z"
   },
   {
    "duration": 13,
    "start_time": "2024-10-29T21:32:14.535Z"
   },
   {
    "duration": 6,
    "start_time": "2024-10-29T21:32:14.550Z"
   },
   {
    "duration": 15,
    "start_time": "2024-10-29T21:32:14.557Z"
   },
   {
    "duration": 15,
    "start_time": "2024-10-29T21:32:14.575Z"
   },
   {
    "duration": 36,
    "start_time": "2024-10-29T21:32:14.592Z"
   },
   {
    "duration": 14,
    "start_time": "2024-10-29T21:32:14.630Z"
   },
   {
    "duration": 11,
    "start_time": "2024-10-29T21:32:14.647Z"
   },
   {
    "duration": 16,
    "start_time": "2024-10-29T21:32:14.659Z"
   },
   {
    "duration": 486,
    "start_time": "2024-10-29T21:32:14.678Z"
   },
   {
    "duration": 5,
    "start_time": "2024-10-29T21:32:15.166Z"
   },
   {
    "duration": 11,
    "start_time": "2024-10-29T21:32:15.173Z"
   },
   {
    "duration": 385,
    "start_time": "2024-10-29T21:32:15.185Z"
   },
   {
    "duration": 6,
    "start_time": "2024-10-29T21:32:15.571Z"
   },
   {
    "duration": 392,
    "start_time": "2024-10-29T21:32:15.579Z"
   },
   {
    "duration": 203,
    "start_time": "2024-10-29T21:32:15.972Z"
   },
   {
    "duration": 481,
    "start_time": "2024-10-29T21:32:16.177Z"
   },
   {
    "duration": 223,
    "start_time": "2024-10-29T21:32:16.660Z"
   },
   {
    "duration": 229,
    "start_time": "2024-10-29T21:32:16.886Z"
   },
   {
    "duration": 0,
    "start_time": "2024-10-29T21:32:17.124Z"
   },
   {
    "duration": 0,
    "start_time": "2024-10-29T21:32:17.125Z"
   },
   {
    "duration": 0,
    "start_time": "2024-10-29T21:32:17.126Z"
   },
   {
    "duration": 0,
    "start_time": "2024-10-29T21:32:17.127Z"
   },
   {
    "duration": 0,
    "start_time": "2024-10-29T21:32:17.128Z"
   },
   {
    "duration": 0,
    "start_time": "2024-10-29T21:32:17.129Z"
   },
   {
    "duration": 0,
    "start_time": "2024-10-29T21:32:17.130Z"
   },
   {
    "duration": 0,
    "start_time": "2024-10-29T21:32:17.131Z"
   },
   {
    "duration": 1,
    "start_time": "2024-10-29T21:32:17.132Z"
   },
   {
    "duration": 0,
    "start_time": "2024-10-29T21:32:17.134Z"
   },
   {
    "duration": 3,
    "start_time": "2024-10-29T21:32:39.503Z"
   },
   {
    "duration": 46,
    "start_time": "2024-10-29T21:32:39.818Z"
   },
   {
    "duration": 10,
    "start_time": "2024-10-29T21:32:40.011Z"
   },
   {
    "duration": 11,
    "start_time": "2024-10-29T21:32:40.141Z"
   },
   {
    "duration": 7,
    "start_time": "2024-10-29T21:32:40.325Z"
   },
   {
    "duration": 17,
    "start_time": "2024-10-29T21:32:40.663Z"
   },
   {
    "duration": 16,
    "start_time": "2024-10-29T21:32:40.851Z"
   },
   {
    "duration": 11,
    "start_time": "2024-10-29T21:32:41.168Z"
   },
   {
    "duration": 14,
    "start_time": "2024-10-29T21:32:41.531Z"
   },
   {
    "duration": 11,
    "start_time": "2024-10-29T21:32:41.885Z"
   },
   {
    "duration": 16,
    "start_time": "2024-10-29T21:32:46.974Z"
   },
   {
    "duration": 405,
    "start_time": "2024-10-29T21:32:47.139Z"
   },
   {
    "duration": 6,
    "start_time": "2024-10-29T21:32:47.728Z"
   },
   {
    "duration": 12,
    "start_time": "2024-10-29T21:32:48.078Z"
   },
   {
    "duration": 418,
    "start_time": "2024-10-29T21:32:48.244Z"
   },
   {
    "duration": 7,
    "start_time": "2024-10-29T21:32:48.664Z"
   },
   {
    "duration": 361,
    "start_time": "2024-10-29T21:32:48.963Z"
   },
   {
    "duration": 224,
    "start_time": "2024-10-29T21:32:49.326Z"
   },
   {
    "duration": 418,
    "start_time": "2024-10-29T21:33:03.410Z"
   },
   {
    "duration": 302,
    "start_time": "2024-10-29T21:33:04.370Z"
   },
   {
    "duration": 16,
    "start_time": "2024-10-29T21:33:06.688Z"
   },
   {
    "duration": 145,
    "start_time": "2024-10-29T21:33:40.470Z"
   },
   {
    "duration": 13,
    "start_time": "2024-10-29T21:44:06.978Z"
   },
   {
    "duration": 122,
    "start_time": "2024-10-29T21:46:00.165Z"
   },
   {
    "duration": 16,
    "start_time": "2024-10-29T21:51:08.542Z"
   },
   {
    "duration": 18,
    "start_time": "2024-10-29T22:09:09.730Z"
   },
   {
    "duration": 16,
    "start_time": "2024-10-29T22:09:18.812Z"
   },
   {
    "duration": 17,
    "start_time": "2024-10-29T22:09:20.215Z"
   },
   {
    "duration": 15,
    "start_time": "2024-10-29T22:09:22.020Z"
   },
   {
    "duration": 16,
    "start_time": "2024-10-29T22:10:02.482Z"
   },
   {
    "duration": 360,
    "start_time": "2024-10-29T22:11:43.250Z"
   },
   {
    "duration": 6,
    "start_time": "2024-10-29T22:19:19.028Z"
   },
   {
    "duration": 13,
    "start_time": "2024-10-29T22:27:10.159Z"
   },
   {
    "duration": 5,
    "start_time": "2024-10-29T22:27:10.900Z"
   },
   {
    "duration": 3,
    "start_time": "2024-10-29T22:46:27.661Z"
   },
   {
    "duration": 6,
    "start_time": "2024-10-29T22:47:15.646Z"
   },
   {
    "duration": 15,
    "start_time": "2024-10-29T22:47:16.873Z"
   },
   {
    "duration": 430,
    "start_time": "2024-10-29T22:47:18.415Z"
   },
   {
    "duration": 16,
    "start_time": "2024-10-29T22:47:32.834Z"
   },
   {
    "duration": 6,
    "start_time": "2024-10-29T22:47:34.355Z"
   },
   {
    "duration": 808,
    "start_time": "2024-10-30T00:12:35.201Z"
   },
   {
    "duration": 52,
    "start_time": "2024-10-30T00:12:36.011Z"
   },
   {
    "duration": 11,
    "start_time": "2024-10-30T00:12:36.065Z"
   },
   {
    "duration": 10,
    "start_time": "2024-10-30T00:12:36.078Z"
   },
   {
    "duration": 6,
    "start_time": "2024-10-30T00:12:36.089Z"
   },
   {
    "duration": 37,
    "start_time": "2024-10-30T00:12:36.097Z"
   },
   {
    "duration": 15,
    "start_time": "2024-10-30T00:12:36.136Z"
   },
   {
    "duration": 8,
    "start_time": "2024-10-30T00:12:36.154Z"
   },
   {
    "duration": 14,
    "start_time": "2024-10-30T00:12:36.164Z"
   },
   {
    "duration": 11,
    "start_time": "2024-10-30T00:12:36.182Z"
   },
   {
    "duration": 17,
    "start_time": "2024-10-30T00:12:36.223Z"
   },
   {
    "duration": 438,
    "start_time": "2024-10-30T00:12:36.242Z"
   },
   {
    "duration": 6,
    "start_time": "2024-10-30T00:12:36.682Z"
   },
   {
    "duration": 12,
    "start_time": "2024-10-30T00:12:36.690Z"
   },
   {
    "duration": 396,
    "start_time": "2024-10-30T00:12:36.703Z"
   },
   {
    "duration": 7,
    "start_time": "2024-10-30T00:12:37.101Z"
   },
   {
    "duration": 464,
    "start_time": "2024-10-30T00:12:37.110Z"
   },
   {
    "duration": 216,
    "start_time": "2024-10-30T00:12:37.577Z"
   },
   {
    "duration": 429,
    "start_time": "2024-10-30T00:12:37.795Z"
   },
   {
    "duration": 248,
    "start_time": "2024-10-30T00:12:38.226Z"
   },
   {
    "duration": 130,
    "start_time": "2024-10-30T00:12:38.476Z"
   },
   {
    "duration": 20,
    "start_time": "2024-10-30T00:12:38.608Z"
   },
   {
    "duration": 14,
    "start_time": "2024-10-30T00:12:38.630Z"
   },
   {
    "duration": 415,
    "start_time": "2024-10-30T00:12:38.645Z"
   },
   {
    "duration": 6,
    "start_time": "2024-10-30T00:12:39.062Z"
   },
   {
    "duration": 5,
    "start_time": "2024-10-30T00:12:39.069Z"
   },
   {
    "duration": 10,
    "start_time": "2024-10-30T00:12:39.076Z"
   },
   {
    "duration": 5,
    "start_time": "2024-10-30T00:12:39.089Z"
   },
   {
    "duration": 622,
    "start_time": "2024-10-30T00:12:39.123Z"
   },
   {
    "duration": 0,
    "start_time": "2024-10-30T00:12:39.747Z"
   },
   {
    "duration": 0,
    "start_time": "2024-10-30T00:12:39.748Z"
   },
   {
    "duration": 0,
    "start_time": "2024-10-30T00:12:39.750Z"
   },
   {
    "duration": 2,
    "start_time": "2024-10-30T00:13:07.083Z"
   },
   {
    "duration": 43,
    "start_time": "2024-10-30T00:13:07.447Z"
   },
   {
    "duration": 8,
    "start_time": "2024-10-30T00:13:07.625Z"
   },
   {
    "duration": 13,
    "start_time": "2024-10-30T00:13:07.825Z"
   },
   {
    "duration": 8,
    "start_time": "2024-10-30T00:13:08.015Z"
   },
   {
    "duration": 14,
    "start_time": "2024-10-30T00:13:08.384Z"
   },
   {
    "duration": 17,
    "start_time": "2024-10-30T00:13:08.578Z"
   },
   {
    "duration": 10,
    "start_time": "2024-10-30T00:13:08.938Z"
   },
   {
    "duration": 14,
    "start_time": "2024-10-30T00:13:09.305Z"
   },
   {
    "duration": 10,
    "start_time": "2024-10-30T00:13:09.681Z"
   },
   {
    "duration": 17,
    "start_time": "2024-10-30T00:13:10.247Z"
   },
   {
    "duration": 481,
    "start_time": "2024-10-30T00:13:10.462Z"
   },
   {
    "duration": 6,
    "start_time": "2024-10-30T00:13:11.157Z"
   },
   {
    "duration": 12,
    "start_time": "2024-10-30T00:13:11.597Z"
   },
   {
    "duration": 331,
    "start_time": "2024-10-30T00:13:11.780Z"
   },
   {
    "duration": 11,
    "start_time": "2024-10-30T00:13:12.113Z"
   },
   {
    "duration": 340,
    "start_time": "2024-10-30T00:13:12.865Z"
   },
   {
    "duration": 220,
    "start_time": "2024-10-30T00:13:13.207Z"
   },
   {
    "duration": 429,
    "start_time": "2024-10-30T00:13:14.243Z"
   },
   {
    "duration": 221,
    "start_time": "2024-10-30T00:13:14.674Z"
   },
   {
    "duration": 143,
    "start_time": "2024-10-30T00:13:14.897Z"
   },
   {
    "duration": 16,
    "start_time": "2024-10-30T00:13:15.184Z"
   },
   {
    "duration": 15,
    "start_time": "2024-10-30T00:13:15.941Z"
   },
   {
    "duration": 384,
    "start_time": "2024-10-30T00:13:16.510Z"
   },
   {
    "duration": 6,
    "start_time": "2024-10-30T00:13:17.095Z"
   },
   {
    "duration": 6,
    "start_time": "2024-10-30T00:13:17.861Z"
   },
   {
    "duration": 11,
    "start_time": "2024-10-30T00:13:18.489Z"
   },
   {
    "duration": 6,
    "start_time": "2024-10-30T00:13:18.916Z"
   },
   {
    "duration": 42,
    "start_time": "2024-10-30T00:13:19.478Z"
   },
   {
    "duration": 40,
    "start_time": "2024-10-30T00:13:33.954Z"
   },
   {
    "duration": 21,
    "start_time": "2024-10-30T00:13:36.311Z"
   },
   {
    "duration": 14,
    "start_time": "2024-10-30T00:13:37.398Z"
   },
   {
    "duration": 4,
    "start_time": "2024-10-30T00:13:38.541Z"
   },
   {
    "duration": 5,
    "start_time": "2024-10-30T00:14:46.251Z"
   },
   {
    "duration": 4,
    "start_time": "2024-10-30T00:14:46.868Z"
   },
   {
    "duration": 5,
    "start_time": "2024-10-30T00:14:48.326Z"
   },
   {
    "duration": 16,
    "start_time": "2024-10-30T00:14:48.993Z"
   },
   {
    "duration": 40,
    "start_time": "2024-10-30T00:14:49.912Z"
   },
   {
    "duration": 21,
    "start_time": "2024-10-30T00:16:25.246Z"
   },
   {
    "duration": 21,
    "start_time": "2024-10-30T00:17:07.669Z"
   },
   {
    "duration": 42,
    "start_time": "2024-10-30T00:18:46.547Z"
   },
   {
    "duration": 13,
    "start_time": "2024-10-30T00:19:52.326Z"
   },
   {
    "duration": 13,
    "start_time": "2024-10-30T00:21:00.548Z"
   },
   {
    "duration": 43,
    "start_time": "2024-10-30T00:21:01.021Z"
   },
   {
    "duration": 42,
    "start_time": "2024-10-30T00:21:04.234Z"
   },
   {
    "duration": 15,
    "start_time": "2024-10-30T00:21:17.324Z"
   },
   {
    "duration": 15,
    "start_time": "2024-10-30T00:21:48.885Z"
   },
   {
    "duration": 42,
    "start_time": "2024-10-30T00:22:22.478Z"
   },
   {
    "duration": 44,
    "start_time": "2024-10-30T00:22:45.884Z"
   },
   {
    "duration": 14,
    "start_time": "2024-10-30T00:22:53.127Z"
   },
   {
    "duration": 7,
    "start_time": "2024-10-30T00:22:53.665Z"
   },
   {
    "duration": 3,
    "start_time": "2024-10-30T00:23:45.209Z"
   },
   {
    "duration": 46,
    "start_time": "2024-10-30T00:23:45.539Z"
   },
   {
    "duration": 8,
    "start_time": "2024-10-30T00:23:45.725Z"
   },
   {
    "duration": 11,
    "start_time": "2024-10-30T00:23:45.893Z"
   },
   {
    "duration": 6,
    "start_time": "2024-10-30T00:23:46.056Z"
   },
   {
    "duration": 16,
    "start_time": "2024-10-30T00:23:46.364Z"
   },
   {
    "duration": 17,
    "start_time": "2024-10-30T00:23:46.499Z"
   },
   {
    "duration": 10,
    "start_time": "2024-10-30T00:23:46.813Z"
   },
   {
    "duration": 13,
    "start_time": "2024-10-30T00:23:47.108Z"
   },
   {
    "duration": 11,
    "start_time": "2024-10-30T00:23:47.421Z"
   },
   {
    "duration": 20,
    "start_time": "2024-10-30T00:23:47.926Z"
   },
   {
    "duration": 435,
    "start_time": "2024-10-30T00:23:48.089Z"
   },
   {
    "duration": 5,
    "start_time": "2024-10-30T00:23:48.643Z"
   },
   {
    "duration": 12,
    "start_time": "2024-10-30T00:23:49.021Z"
   },
   {
    "duration": 355,
    "start_time": "2024-10-30T00:23:49.201Z"
   },
   {
    "duration": 6,
    "start_time": "2024-10-30T00:23:49.559Z"
   },
   {
    "duration": 404,
    "start_time": "2024-10-30T00:23:49.920Z"
   },
   {
    "duration": 239,
    "start_time": "2024-10-30T00:23:50.326Z"
   },
   {
    "duration": 440,
    "start_time": "2024-10-30T00:23:50.631Z"
   },
   {
    "duration": 365,
    "start_time": "2024-10-30T00:23:51.073Z"
   },
   {
    "duration": 129,
    "start_time": "2024-10-30T00:23:51.440Z"
   },
   {
    "duration": 15,
    "start_time": "2024-10-30T00:23:51.589Z"
   },
   {
    "duration": 15,
    "start_time": "2024-10-30T00:23:52.433Z"
   },
   {
    "duration": 357,
    "start_time": "2024-10-30T00:23:53.969Z"
   },
   {
    "duration": 6,
    "start_time": "2024-10-30T00:23:55.914Z"
   },
   {
    "duration": 5,
    "start_time": "2024-10-30T00:23:57.447Z"
   },
   {
    "duration": 10,
    "start_time": "2024-10-30T00:23:59.626Z"
   },
   {
    "duration": 6,
    "start_time": "2024-10-30T00:24:01.271Z"
   },
   {
    "duration": 13,
    "start_time": "2024-10-30T00:24:03.963Z"
   },
   {
    "duration": 5,
    "start_time": "2024-10-30T00:24:04.719Z"
   },
   {
    "duration": 3,
    "start_time": "2024-10-30T00:25:01.279Z"
   },
   {
    "duration": 798,
    "start_time": "2024-10-30T00:25:09.109Z"
   },
   {
    "duration": 49,
    "start_time": "2024-10-30T00:25:09.909Z"
   },
   {
    "duration": 11,
    "start_time": "2024-10-30T00:25:09.960Z"
   },
   {
    "duration": 10,
    "start_time": "2024-10-30T00:25:09.973Z"
   },
   {
    "duration": 5,
    "start_time": "2024-10-30T00:25:09.985Z"
   },
   {
    "duration": 44,
    "start_time": "2024-10-30T00:25:09.992Z"
   },
   {
    "duration": 16,
    "start_time": "2024-10-30T00:25:10.038Z"
   },
   {
    "duration": 9,
    "start_time": "2024-10-30T00:25:10.056Z"
   },
   {
    "duration": 14,
    "start_time": "2024-10-30T00:25:10.066Z"
   },
   {
    "duration": 11,
    "start_time": "2024-10-30T00:25:10.084Z"
   },
   {
    "duration": 15,
    "start_time": "2024-10-30T00:25:10.124Z"
   },
   {
    "duration": 437,
    "start_time": "2024-10-30T00:25:10.141Z"
   },
   {
    "duration": 6,
    "start_time": "2024-10-30T00:25:10.580Z"
   },
   {
    "duration": 11,
    "start_time": "2024-10-30T00:25:10.588Z"
   },
   {
    "duration": 373,
    "start_time": "2024-10-30T00:25:10.601Z"
   },
   {
    "duration": 7,
    "start_time": "2024-10-30T00:25:10.976Z"
   },
   {
    "duration": 482,
    "start_time": "2024-10-30T00:25:10.986Z"
   },
   {
    "duration": 214,
    "start_time": "2024-10-30T00:25:11.470Z"
   },
   {
    "duration": 412,
    "start_time": "2024-10-30T00:25:11.685Z"
   },
   {
    "duration": 187,
    "start_time": "2024-10-30T00:25:12.099Z"
   },
   {
    "duration": 145,
    "start_time": "2024-10-30T00:25:12.288Z"
   },
   {
    "duration": 18,
    "start_time": "2024-10-30T00:25:12.435Z"
   },
   {
    "duration": 14,
    "start_time": "2024-10-30T00:25:12.455Z"
   },
   {
    "duration": 407,
    "start_time": "2024-10-30T00:25:12.471Z"
   },
   {
    "duration": 5,
    "start_time": "2024-10-30T00:25:12.880Z"
   },
   {
    "duration": 5,
    "start_time": "2024-10-30T00:25:12.887Z"
   },
   {
    "duration": 30,
    "start_time": "2024-10-30T00:25:12.894Z"
   },
   {
    "duration": 6,
    "start_time": "2024-10-30T00:25:12.928Z"
   },
   {
    "duration": 14,
    "start_time": "2024-10-30T00:25:12.935Z"
   },
   {
    "duration": 4,
    "start_time": "2024-10-30T00:25:12.950Z"
   },
   {
    "duration": 7,
    "start_time": "2024-10-30T00:25:57.815Z"
   },
   {
    "duration": 5,
    "start_time": "2024-10-30T00:25:58.223Z"
   },
   {
    "duration": 797,
    "start_time": "2024-10-30T00:26:05.633Z"
   },
   {
    "duration": 47,
    "start_time": "2024-10-30T00:26:06.432Z"
   },
   {
    "duration": 10,
    "start_time": "2024-10-30T00:26:06.482Z"
   },
   {
    "duration": 9,
    "start_time": "2024-10-30T00:26:06.494Z"
   },
   {
    "duration": 24,
    "start_time": "2024-10-30T00:26:06.504Z"
   },
   {
    "duration": 14,
    "start_time": "2024-10-30T00:26:06.530Z"
   },
   {
    "duration": 16,
    "start_time": "2024-10-30T00:26:06.546Z"
   },
   {
    "duration": 10,
    "start_time": "2024-10-30T00:26:06.563Z"
   },
   {
    "duration": 14,
    "start_time": "2024-10-30T00:26:06.574Z"
   },
   {
    "duration": 11,
    "start_time": "2024-10-30T00:26:06.624Z"
   },
   {
    "duration": 15,
    "start_time": "2024-10-30T00:26:06.637Z"
   },
   {
    "duration": 472,
    "start_time": "2024-10-30T00:26:06.654Z"
   },
   {
    "duration": 5,
    "start_time": "2024-10-30T00:26:07.128Z"
   },
   {
    "duration": 11,
    "start_time": "2024-10-30T00:26:07.135Z"
   },
   {
    "duration": 417,
    "start_time": "2024-10-30T00:26:07.147Z"
   },
   {
    "duration": 6,
    "start_time": "2024-10-30T00:26:07.566Z"
   },
   {
    "duration": 518,
    "start_time": "2024-10-30T00:26:07.574Z"
   },
   {
    "duration": 201,
    "start_time": "2024-10-30T00:26:08.094Z"
   },
   {
    "duration": 424,
    "start_time": "2024-10-30T00:26:08.297Z"
   },
   {
    "duration": 232,
    "start_time": "2024-10-30T00:26:08.723Z"
   },
   {
    "duration": 147,
    "start_time": "2024-10-30T00:26:08.956Z"
   },
   {
    "duration": 23,
    "start_time": "2024-10-30T00:26:09.105Z"
   },
   {
    "duration": 14,
    "start_time": "2024-10-30T00:26:09.130Z"
   },
   {
    "duration": 380,
    "start_time": "2024-10-30T00:26:09.145Z"
   },
   {
    "duration": 6,
    "start_time": "2024-10-30T00:26:09.527Z"
   },
   {
    "duration": 5,
    "start_time": "2024-10-30T00:26:09.535Z"
   },
   {
    "duration": 11,
    "start_time": "2024-10-30T00:26:09.542Z"
   },
   {
    "duration": 5,
    "start_time": "2024-10-30T00:26:09.557Z"
   },
   {
    "duration": 14,
    "start_time": "2024-10-30T00:26:09.564Z"
   },
   {
    "duration": 44,
    "start_time": "2024-10-30T00:26:09.580Z"
   },
   {
    "duration": 5,
    "start_time": "2024-10-30T00:26:09.626Z"
   },
   {
    "duration": 5,
    "start_time": "2024-10-30T00:26:09.633Z"
   },
   {
    "duration": 807,
    "start_time": "2024-10-30T00:26:42.902Z"
   },
   {
    "duration": 52,
    "start_time": "2024-10-30T00:26:43.711Z"
   },
   {
    "duration": 12,
    "start_time": "2024-10-30T00:26:43.765Z"
   },
   {
    "duration": 12,
    "start_time": "2024-10-30T00:26:43.780Z"
   },
   {
    "duration": 6,
    "start_time": "2024-10-30T00:26:43.794Z"
   },
   {
    "duration": 32,
    "start_time": "2024-10-30T00:26:43.802Z"
   },
   {
    "duration": 18,
    "start_time": "2024-10-30T00:26:43.836Z"
   },
   {
    "duration": 13,
    "start_time": "2024-10-30T00:26:43.856Z"
   },
   {
    "duration": 18,
    "start_time": "2024-10-30T00:26:43.873Z"
   },
   {
    "duration": 36,
    "start_time": "2024-10-30T00:26:43.896Z"
   },
   {
    "duration": 21,
    "start_time": "2024-10-30T00:26:43.934Z"
   },
   {
    "duration": 513,
    "start_time": "2024-10-30T00:26:43.959Z"
   },
   {
    "duration": 6,
    "start_time": "2024-10-30T00:26:44.474Z"
   },
   {
    "duration": 11,
    "start_time": "2024-10-30T00:26:44.482Z"
   },
   {
    "duration": 375,
    "start_time": "2024-10-30T00:26:44.494Z"
   },
   {
    "duration": 8,
    "start_time": "2024-10-30T00:26:44.870Z"
   },
   {
    "duration": 484,
    "start_time": "2024-10-30T00:26:44.879Z"
   },
   {
    "duration": 222,
    "start_time": "2024-10-30T00:26:45.365Z"
   },
   {
    "duration": 405,
    "start_time": "2024-10-30T00:26:45.589Z"
   },
   {
    "duration": 202,
    "start_time": "2024-10-30T00:26:45.996Z"
   },
   {
    "duration": 137,
    "start_time": "2024-10-30T00:26:46.201Z"
   },
   {
    "duration": 16,
    "start_time": "2024-10-30T00:26:46.340Z"
   },
   {
    "duration": 13,
    "start_time": "2024-10-30T00:26:46.357Z"
   },
   {
    "duration": 454,
    "start_time": "2024-10-30T00:26:46.372Z"
   },
   {
    "duration": 7,
    "start_time": "2024-10-30T00:26:46.829Z"
   },
   {
    "duration": 5,
    "start_time": "2024-10-30T00:26:46.838Z"
   },
   {
    "duration": 13,
    "start_time": "2024-10-30T00:26:46.846Z"
   },
   {
    "duration": 6,
    "start_time": "2024-10-30T00:26:46.864Z"
   },
   {
    "duration": 19,
    "start_time": "2024-10-30T00:26:46.872Z"
   },
   {
    "duration": 34,
    "start_time": "2024-10-30T00:26:46.894Z"
   },
   {
    "duration": 6,
    "start_time": "2024-10-30T00:26:46.931Z"
   },
   {
    "duration": 6,
    "start_time": "2024-10-30T00:26:46.939Z"
   },
   {
    "duration": 3,
    "start_time": "2024-10-30T17:49:24.559Z"
   },
   {
    "duration": 805,
    "start_time": "2024-12-11T14:18:01.129Z"
   },
   {
    "duration": 68,
    "start_time": "2024-12-11T14:18:01.937Z"
   },
   {
    "duration": 11,
    "start_time": "2024-12-11T14:18:02.007Z"
   },
   {
    "duration": 14,
    "start_time": "2024-12-11T14:18:02.019Z"
   },
   {
    "duration": 5,
    "start_time": "2024-12-11T14:18:02.036Z"
   },
   {
    "duration": 15,
    "start_time": "2024-12-11T14:18:02.043Z"
   },
   {
    "duration": 16,
    "start_time": "2024-12-11T14:18:02.060Z"
   },
   {
    "duration": 8,
    "start_time": "2024-12-11T14:18:02.079Z"
   },
   {
    "duration": 40,
    "start_time": "2024-12-11T14:18:02.089Z"
   },
   {
    "duration": 11,
    "start_time": "2024-12-11T14:18:02.131Z"
   },
   {
    "duration": 15,
    "start_time": "2024-12-11T14:18:02.144Z"
   },
   {
    "duration": 455,
    "start_time": "2024-12-11T14:18:02.161Z"
   },
   {
    "duration": 10,
    "start_time": "2024-12-11T14:18:02.617Z"
   },
   {
    "duration": 11,
    "start_time": "2024-12-11T14:18:02.630Z"
   },
   {
    "duration": 421,
    "start_time": "2024-12-11T14:18:02.642Z"
   },
   {
    "duration": 7,
    "start_time": "2024-12-11T14:18:03.065Z"
   },
   {
    "duration": 459,
    "start_time": "2024-12-11T14:18:03.073Z"
   },
   {
    "duration": 233,
    "start_time": "2024-12-11T14:18:03.534Z"
   },
   {
    "duration": 419,
    "start_time": "2024-12-11T14:18:03.769Z"
   },
   {
    "duration": 201,
    "start_time": "2024-12-11T14:18:04.190Z"
   },
   {
    "duration": 134,
    "start_time": "2024-12-11T14:18:04.393Z"
   },
   {
    "duration": 15,
    "start_time": "2024-12-11T14:18:04.529Z"
   },
   {
    "duration": 14,
    "start_time": "2024-12-11T14:18:04.545Z"
   },
   {
    "duration": 397,
    "start_time": "2024-12-11T14:18:04.560Z"
   },
   {
    "duration": 6,
    "start_time": "2024-12-11T14:18:04.959Z"
   },
   {
    "duration": 5,
    "start_time": "2024-12-11T14:18:04.966Z"
   },
   {
    "duration": 11,
    "start_time": "2024-12-11T14:18:04.972Z"
   },
   {
    "duration": 5,
    "start_time": "2024-12-11T14:18:04.984Z"
   },
   {
    "duration": 38,
    "start_time": "2024-12-11T14:18:04.990Z"
   },
   {
    "duration": 4,
    "start_time": "2024-12-11T14:18:05.030Z"
   },
   {
    "duration": 6,
    "start_time": "2024-12-11T14:18:05.036Z"
   },
   {
    "duration": 5,
    "start_time": "2024-12-11T14:18:05.043Z"
   }
  ],
  "kernelspec": {
   "display_name": "Python 3 (ipykernel)",
   "language": "python",
   "name": "python3"
  },
  "language_info": {
   "codemirror_mode": {
    "name": "ipython",
    "version": 3
   },
   "file_extension": ".py",
   "mimetype": "text/x-python",
   "name": "python",
   "nbconvert_exporter": "python",
   "pygments_lexer": "ipython3",
   "version": "3.9.19"
  },
  "toc": {
   "base_numbering": 1,
   "nav_menu": {},
   "number_sections": true,
   "sideBar": true,
   "skip_h1_title": true,
   "title_cell": "Table of Contents",
   "title_sidebar": "Contents",
   "toc_cell": false,
   "toc_position": {},
   "toc_section_display": true,
   "toc_window_display": false
  }
 },
 "nbformat": 4,
 "nbformat_minor": 2
}
