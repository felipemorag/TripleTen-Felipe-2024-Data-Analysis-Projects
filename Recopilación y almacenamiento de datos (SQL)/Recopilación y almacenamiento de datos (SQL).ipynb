{
 "cells": [
  {
   "cell_type": "markdown",
   "metadata": {},
   "source": [
    "# Descripción del proyecto \n",
    "\n",
    "Estamos trabajando como analista para Zuber, una nueva empresa de viajes compartidos que se está lanzando en Chicago. Nuestra tarea es encontrar patrones en la información disponible. Queremos comprender las preferencias de los pasajeros y el impacto de los factores externos en los viajes.\n",
    "\n",
    "Al trabajar con una base de datos, analizaremos los datos de los competidores y probaremos una hipótesis sobre el impacto del clima en la frecuencia de los viajes.\n",
    "\n",
    "Este proyecto consta de 3 partes: la primera consiste en realizar un código para analizar los datos meteorológicos, extrayendo datos de una tabla de un sitio web. La segunda parte consiste en formular consultas en lenguaje SQL a fin de crear nuevas tablas con información relevante de las principales empresas de taxis en términos de recorrido. Por último, procesaremos estas tablas en lenguaje python para analizar la información de empresas de taxis, tiempo de recorrido y datos referente al clima, lo que nos permitirá formular Hipótesis respecto a la duración media de los viajes en un clima determinado."
   ]
  },
  {
   "cell_type": "markdown",
   "metadata": {},
   "source": [
    "## Análisis exploratorio de datos (Python)\n",
    "\n",
    "Además de los datos que recuperamos en las consultas de las tareas anteriores tenemos 3 archivos CSV:\n",
    "\n",
    "project_sql_result_01.csv. Contiene los siguientes datos:\n",
    "\n",
    "* company_name: nombre de la empresa de taxis\n",
    "* trips_amount: el número de viajes de cada compañía de taxis el 15 y 16 de noviembre de 2017.\n",
    "\n",
    "project_sql_result_04.csv. Contiene los siguientes datos:\n",
    "\n",
    "* dropoff_location_name: barrios de Chicago donde finalizaron los viajes\n",
    "* average_trips: el promedio de viajes que terminaron en cada barrio en noviembre de 2017.\n",
    "\n",
    "project_sql_result_07.csv — el resultado de la última consulta. Contiene datos sobre viajes desde el Loop hasta el Aeropuerto Internacional O'Hare. Recuerda, estos son los valores de campo de la tabla:\n",
    "\n",
    "* start_ts: fecha y hora de la recogida\n",
    "* weather_conditions: condiciones climáticas en el momento en el que comenzó el viaje\n",
    "* duration_seconds: duración del viaje en segundos"
   ]
  },
  {
   "cell_type": "markdown",
   "metadata": {},
   "source": [
    "### Inicialización"
   ]
  },
  {
   "cell_type": "code",
   "execution_count": 1,
   "metadata": {},
   "outputs": [],
   "source": [
    "#Cargar todas las librerías\n",
    "import pandas as pd\n",
    "from matplotlib import pyplot as plt\n",
    "from scipy import stats as st\n",
    "import numpy as np\n",
    "import seaborn as sns "
   ]
  },
  {
   "cell_type": "markdown",
   "metadata": {},
   "source": [
    "### Importar archivos"
   ]
  },
  {
   "cell_type": "code",
   "execution_count": 2,
   "metadata": {},
   "outputs": [
    {
     "data": {
      "text/html": [
       "<div>\n",
       "<style scoped>\n",
       "    .dataframe tbody tr th:only-of-type {\n",
       "        vertical-align: middle;\n",
       "    }\n",
       "\n",
       "    .dataframe tbody tr th {\n",
       "        vertical-align: top;\n",
       "    }\n",
       "\n",
       "    .dataframe thead th {\n",
       "        text-align: right;\n",
       "    }\n",
       "</style>\n",
       "<table border=\"1\" class=\"dataframe\">\n",
       "  <thead>\n",
       "    <tr style=\"text-align: right;\">\n",
       "      <th></th>\n",
       "      <th>company_name</th>\n",
       "      <th>trips_amount</th>\n",
       "    </tr>\n",
       "  </thead>\n",
       "  <tbody>\n",
       "    <tr>\n",
       "      <th>0</th>\n",
       "      <td>Flash Cab</td>\n",
       "      <td>19558</td>\n",
       "    </tr>\n",
       "    <tr>\n",
       "      <th>1</th>\n",
       "      <td>Taxi Affiliation Services</td>\n",
       "      <td>11422</td>\n",
       "    </tr>\n",
       "    <tr>\n",
       "      <th>2</th>\n",
       "      <td>Medallion Leasing</td>\n",
       "      <td>10367</td>\n",
       "    </tr>\n",
       "    <tr>\n",
       "      <th>3</th>\n",
       "      <td>Yellow Cab</td>\n",
       "      <td>9888</td>\n",
       "    </tr>\n",
       "    <tr>\n",
       "      <th>4</th>\n",
       "      <td>Taxi Affiliation Service Yellow</td>\n",
       "      <td>9299</td>\n",
       "    </tr>\n",
       "    <tr>\n",
       "      <th>...</th>\n",
       "      <td>...</td>\n",
       "      <td>...</td>\n",
       "    </tr>\n",
       "    <tr>\n",
       "      <th>59</th>\n",
       "      <td>4053 - 40193 Adwar H. Nikola</td>\n",
       "      <td>7</td>\n",
       "    </tr>\n",
       "    <tr>\n",
       "      <th>60</th>\n",
       "      <td>2733 - 74600 Benny Jona</td>\n",
       "      <td>7</td>\n",
       "    </tr>\n",
       "    <tr>\n",
       "      <th>61</th>\n",
       "      <td>5874 - 73628 Sergey Cab Corp.</td>\n",
       "      <td>5</td>\n",
       "    </tr>\n",
       "    <tr>\n",
       "      <th>62</th>\n",
       "      <td>2241 - 44667 - Felman Corp</td>\n",
       "      <td>3</td>\n",
       "    </tr>\n",
       "    <tr>\n",
       "      <th>63</th>\n",
       "      <td>3556 - 36214 RC Andrews Cab</td>\n",
       "      <td>2</td>\n",
       "    </tr>\n",
       "  </tbody>\n",
       "</table>\n",
       "<p>64 rows × 2 columns</p>\n",
       "</div>"
      ],
      "text/plain": [
       "                       company_name  trips_amount\n",
       "0                         Flash Cab         19558\n",
       "1         Taxi Affiliation Services         11422\n",
       "2                 Medallion Leasing         10367\n",
       "3                        Yellow Cab          9888\n",
       "4   Taxi Affiliation Service Yellow          9299\n",
       "..                              ...           ...\n",
       "59     4053 - 40193 Adwar H. Nikola             7\n",
       "60          2733 - 74600 Benny Jona             7\n",
       "61    5874 - 73628 Sergey Cab Corp.             5\n",
       "62       2241 - 44667 - Felman Corp             3\n",
       "63      3556 - 36214 RC Andrews Cab             2\n",
       "\n",
       "[64 rows x 2 columns]"
      ]
     },
     "execution_count": 2,
     "metadata": {},
     "output_type": "execute_result"
    }
   ],
   "source": [
    "df_01 = pd.read_csv('/datasets/project_sql_result_01.csv')\n",
    "df_01"
   ]
  },
  {
   "cell_type": "code",
   "execution_count": 3,
   "metadata": {},
   "outputs": [
    {
     "data": {
      "text/html": [
       "<div>\n",
       "<style scoped>\n",
       "    .dataframe tbody tr th:only-of-type {\n",
       "        vertical-align: middle;\n",
       "    }\n",
       "\n",
       "    .dataframe tbody tr th {\n",
       "        vertical-align: top;\n",
       "    }\n",
       "\n",
       "    .dataframe thead th {\n",
       "        text-align: right;\n",
       "    }\n",
       "</style>\n",
       "<table border=\"1\" class=\"dataframe\">\n",
       "  <thead>\n",
       "    <tr style=\"text-align: right;\">\n",
       "      <th></th>\n",
       "      <th>dropoff_location_name</th>\n",
       "      <th>average_trips</th>\n",
       "    </tr>\n",
       "  </thead>\n",
       "  <tbody>\n",
       "    <tr>\n",
       "      <th>0</th>\n",
       "      <td>Loop</td>\n",
       "      <td>10727.466667</td>\n",
       "    </tr>\n",
       "    <tr>\n",
       "      <th>1</th>\n",
       "      <td>River North</td>\n",
       "      <td>9523.666667</td>\n",
       "    </tr>\n",
       "    <tr>\n",
       "      <th>2</th>\n",
       "      <td>Streeterville</td>\n",
       "      <td>6664.666667</td>\n",
       "    </tr>\n",
       "    <tr>\n",
       "      <th>3</th>\n",
       "      <td>West Loop</td>\n",
       "      <td>5163.666667</td>\n",
       "    </tr>\n",
       "    <tr>\n",
       "      <th>4</th>\n",
       "      <td>O'Hare</td>\n",
       "      <td>2546.900000</td>\n",
       "    </tr>\n",
       "    <tr>\n",
       "      <th>...</th>\n",
       "      <td>...</td>\n",
       "      <td>...</td>\n",
       "    </tr>\n",
       "    <tr>\n",
       "      <th>89</th>\n",
       "      <td>Mount Greenwood</td>\n",
       "      <td>3.137931</td>\n",
       "    </tr>\n",
       "    <tr>\n",
       "      <th>90</th>\n",
       "      <td>Hegewisch</td>\n",
       "      <td>3.117647</td>\n",
       "    </tr>\n",
       "    <tr>\n",
       "      <th>91</th>\n",
       "      <td>Burnside</td>\n",
       "      <td>2.333333</td>\n",
       "    </tr>\n",
       "    <tr>\n",
       "      <th>92</th>\n",
       "      <td>East Side</td>\n",
       "      <td>1.961538</td>\n",
       "    </tr>\n",
       "    <tr>\n",
       "      <th>93</th>\n",
       "      <td>Riverdale</td>\n",
       "      <td>1.800000</td>\n",
       "    </tr>\n",
       "  </tbody>\n",
       "</table>\n",
       "<p>94 rows × 2 columns</p>\n",
       "</div>"
      ],
      "text/plain": [
       "   dropoff_location_name  average_trips\n",
       "0                   Loop   10727.466667\n",
       "1            River North    9523.666667\n",
       "2          Streeterville    6664.666667\n",
       "3              West Loop    5163.666667\n",
       "4                 O'Hare    2546.900000\n",
       "..                   ...            ...\n",
       "89       Mount Greenwood       3.137931\n",
       "90             Hegewisch       3.117647\n",
       "91              Burnside       2.333333\n",
       "92             East Side       1.961538\n",
       "93             Riverdale       1.800000\n",
       "\n",
       "[94 rows x 2 columns]"
      ]
     },
     "execution_count": 3,
     "metadata": {},
     "output_type": "execute_result"
    }
   ],
   "source": [
    "df_04 = pd.read_csv('/datasets/project_sql_result_04.csv')\n",
    "df_04"
   ]
  },
  {
   "cell_type": "code",
   "execution_count": 4,
   "metadata": {},
   "outputs": [
    {
     "data": {
      "text/html": [
       "<div>\n",
       "<style scoped>\n",
       "    .dataframe tbody tr th:only-of-type {\n",
       "        vertical-align: middle;\n",
       "    }\n",
       "\n",
       "    .dataframe tbody tr th {\n",
       "        vertical-align: top;\n",
       "    }\n",
       "\n",
       "    .dataframe thead th {\n",
       "        text-align: right;\n",
       "    }\n",
       "</style>\n",
       "<table border=\"1\" class=\"dataframe\">\n",
       "  <thead>\n",
       "    <tr style=\"text-align: right;\">\n",
       "      <th></th>\n",
       "      <th>start_ts</th>\n",
       "      <th>weather_conditions</th>\n",
       "      <th>duration_seconds</th>\n",
       "    </tr>\n",
       "  </thead>\n",
       "  <tbody>\n",
       "    <tr>\n",
       "      <th>0</th>\n",
       "      <td>2017-11-25 16:00:00</td>\n",
       "      <td>Good</td>\n",
       "      <td>2410.0</td>\n",
       "    </tr>\n",
       "    <tr>\n",
       "      <th>1</th>\n",
       "      <td>2017-11-25 14:00:00</td>\n",
       "      <td>Good</td>\n",
       "      <td>1920.0</td>\n",
       "    </tr>\n",
       "    <tr>\n",
       "      <th>2</th>\n",
       "      <td>2017-11-25 12:00:00</td>\n",
       "      <td>Good</td>\n",
       "      <td>1543.0</td>\n",
       "    </tr>\n",
       "    <tr>\n",
       "      <th>3</th>\n",
       "      <td>2017-11-04 10:00:00</td>\n",
       "      <td>Good</td>\n",
       "      <td>2512.0</td>\n",
       "    </tr>\n",
       "    <tr>\n",
       "      <th>4</th>\n",
       "      <td>2017-11-11 07:00:00</td>\n",
       "      <td>Good</td>\n",
       "      <td>1440.0</td>\n",
       "    </tr>\n",
       "    <tr>\n",
       "      <th>...</th>\n",
       "      <td>...</td>\n",
       "      <td>...</td>\n",
       "      <td>...</td>\n",
       "    </tr>\n",
       "    <tr>\n",
       "      <th>1063</th>\n",
       "      <td>2017-11-25 11:00:00</td>\n",
       "      <td>Good</td>\n",
       "      <td>0.0</td>\n",
       "    </tr>\n",
       "    <tr>\n",
       "      <th>1064</th>\n",
       "      <td>2017-11-11 10:00:00</td>\n",
       "      <td>Good</td>\n",
       "      <td>1318.0</td>\n",
       "    </tr>\n",
       "    <tr>\n",
       "      <th>1065</th>\n",
       "      <td>2017-11-11 13:00:00</td>\n",
       "      <td>Good</td>\n",
       "      <td>2100.0</td>\n",
       "    </tr>\n",
       "    <tr>\n",
       "      <th>1066</th>\n",
       "      <td>2017-11-11 08:00:00</td>\n",
       "      <td>Good</td>\n",
       "      <td>1380.0</td>\n",
       "    </tr>\n",
       "    <tr>\n",
       "      <th>1067</th>\n",
       "      <td>2017-11-04 16:00:00</td>\n",
       "      <td>Bad</td>\n",
       "      <td>2834.0</td>\n",
       "    </tr>\n",
       "  </tbody>\n",
       "</table>\n",
       "<p>1068 rows × 3 columns</p>\n",
       "</div>"
      ],
      "text/plain": [
       "                 start_ts weather_conditions  duration_seconds\n",
       "0     2017-11-25 16:00:00               Good            2410.0\n",
       "1     2017-11-25 14:00:00               Good            1920.0\n",
       "2     2017-11-25 12:00:00               Good            1543.0\n",
       "3     2017-11-04 10:00:00               Good            2512.0\n",
       "4     2017-11-11 07:00:00               Good            1440.0\n",
       "...                   ...                ...               ...\n",
       "1063  2017-11-25 11:00:00               Good               0.0\n",
       "1064  2017-11-11 10:00:00               Good            1318.0\n",
       "1065  2017-11-11 13:00:00               Good            2100.0\n",
       "1066  2017-11-11 08:00:00               Good            1380.0\n",
       "1067  2017-11-04 16:00:00                Bad            2834.0\n",
       "\n",
       "[1068 rows x 3 columns]"
      ]
     },
     "execution_count": 4,
     "metadata": {},
     "output_type": "execute_result"
    }
   ],
   "source": [
    "df_07 = pd.read_csv('/datasets/project_sql_result_07.csv')\n",
    "df_07"
   ]
  },
  {
   "cell_type": "code",
   "execution_count": 5,
   "metadata": {},
   "outputs": [
    {
     "name": "stdout",
     "output_type": "stream",
     "text": [
      "<class 'pandas.core.frame.DataFrame'>\n",
      "RangeIndex: 64 entries, 0 to 63\n",
      "Data columns (total 2 columns):\n",
      " #   Column        Non-Null Count  Dtype \n",
      "---  ------        --------------  ----- \n",
      " 0   company_name  64 non-null     object\n",
      " 1   trips_amount  64 non-null     int64 \n",
      "dtypes: int64(1), object(1)\n",
      "memory usage: 1.1+ KB\n"
     ]
    }
   ],
   "source": [
    "df_01.info()"
   ]
  },
  {
   "cell_type": "markdown",
   "metadata": {},
   "source": [
    "Observamos que la tabla \"df_01\" presenta tipos de datos correctos."
   ]
  },
  {
   "cell_type": "code",
   "execution_count": 6,
   "metadata": {},
   "outputs": [
    {
     "name": "stdout",
     "output_type": "stream",
     "text": [
      "<class 'pandas.core.frame.DataFrame'>\n",
      "RangeIndex: 94 entries, 0 to 93\n",
      "Data columns (total 2 columns):\n",
      " #   Column                 Non-Null Count  Dtype  \n",
      "---  ------                 --------------  -----  \n",
      " 0   dropoff_location_name  94 non-null     object \n",
      " 1   average_trips          94 non-null     float64\n",
      "dtypes: float64(1), object(1)\n",
      "memory usage: 1.6+ KB\n"
     ]
    }
   ],
   "source": [
    "df_04.info()"
   ]
  },
  {
   "cell_type": "markdown",
   "metadata": {},
   "source": [
    "Observamos que la tabla \"df_04\" presenta tipos de datos correctos."
   ]
  },
  {
   "cell_type": "code",
   "execution_count": 7,
   "metadata": {},
   "outputs": [
    {
     "name": "stdout",
     "output_type": "stream",
     "text": [
      "<class 'pandas.core.frame.DataFrame'>\n",
      "RangeIndex: 1068 entries, 0 to 1067\n",
      "Data columns (total 3 columns):\n",
      " #   Column              Non-Null Count  Dtype  \n",
      "---  ------              --------------  -----  \n",
      " 0   start_ts            1068 non-null   object \n",
      " 1   weather_conditions  1068 non-null   object \n",
      " 2   duration_seconds    1068 non-null   float64\n",
      "dtypes: float64(1), object(2)\n",
      "memory usage: 25.2+ KB\n"
     ]
    }
   ],
   "source": [
    "df_07.info()"
   ]
  },
  {
   "cell_type": "markdown",
   "metadata": {},
   "source": [
    "Observamos que la tabla \"df_07\" presenta un tipo de dato \"object\" en la columna \"duration_seconds\". Cambiaremos el tipo de dato de esta columna a \"datetime\"."
   ]
  },
  {
   "cell_type": "code",
   "execution_count": 8,
   "metadata": {},
   "outputs": [
    {
     "data": {
      "text/html": [
       "<div>\n",
       "<style scoped>\n",
       "    .dataframe tbody tr th:only-of-type {\n",
       "        vertical-align: middle;\n",
       "    }\n",
       "\n",
       "    .dataframe tbody tr th {\n",
       "        vertical-align: top;\n",
       "    }\n",
       "\n",
       "    .dataframe thead th {\n",
       "        text-align: right;\n",
       "    }\n",
       "</style>\n",
       "<table border=\"1\" class=\"dataframe\">\n",
       "  <thead>\n",
       "    <tr style=\"text-align: right;\">\n",
       "      <th></th>\n",
       "      <th>start_ts</th>\n",
       "      <th>weather_conditions</th>\n",
       "      <th>duration_seconds</th>\n",
       "    </tr>\n",
       "  </thead>\n",
       "  <tbody>\n",
       "    <tr>\n",
       "      <th>0</th>\n",
       "      <td>2017-11-25 16:00:00</td>\n",
       "      <td>Good</td>\n",
       "      <td>2410.0</td>\n",
       "    </tr>\n",
       "    <tr>\n",
       "      <th>1</th>\n",
       "      <td>2017-11-25 14:00:00</td>\n",
       "      <td>Good</td>\n",
       "      <td>1920.0</td>\n",
       "    </tr>\n",
       "    <tr>\n",
       "      <th>2</th>\n",
       "      <td>2017-11-25 12:00:00</td>\n",
       "      <td>Good</td>\n",
       "      <td>1543.0</td>\n",
       "    </tr>\n",
       "    <tr>\n",
       "      <th>3</th>\n",
       "      <td>2017-11-04 10:00:00</td>\n",
       "      <td>Good</td>\n",
       "      <td>2512.0</td>\n",
       "    </tr>\n",
       "    <tr>\n",
       "      <th>4</th>\n",
       "      <td>2017-11-11 07:00:00</td>\n",
       "      <td>Good</td>\n",
       "      <td>1440.0</td>\n",
       "    </tr>\n",
       "  </tbody>\n",
       "</table>\n",
       "</div>"
      ],
      "text/plain": [
       "             start_ts weather_conditions  duration_seconds\n",
       "0 2017-11-25 16:00:00               Good            2410.0\n",
       "1 2017-11-25 14:00:00               Good            1920.0\n",
       "2 2017-11-25 12:00:00               Good            1543.0\n",
       "3 2017-11-04 10:00:00               Good            2512.0\n",
       "4 2017-11-11 07:00:00               Good            1440.0"
      ]
     },
     "execution_count": 8,
     "metadata": {},
     "output_type": "execute_result"
    }
   ],
   "source": [
    "#Cambiaremos el tipo de dato de la columna \"churn_date\" a tipo datetime\n",
    "\n",
    "df_07['start_ts'] = pd.to_datetime(df_07['start_ts'], format='%Y-%m-%d %H:%M:%S')\n",
    "df_07.head()"
   ]
  },
  {
   "cell_type": "code",
   "execution_count": 9,
   "metadata": {},
   "outputs": [
    {
     "name": "stdout",
     "output_type": "stream",
     "text": [
      "<class 'pandas.core.frame.DataFrame'>\n",
      "RangeIndex: 1068 entries, 0 to 1067\n",
      "Data columns (total 3 columns):\n",
      " #   Column              Non-Null Count  Dtype         \n",
      "---  ------              --------------  -----         \n",
      " 0   start_ts            1068 non-null   datetime64[ns]\n",
      " 1   weather_conditions  1068 non-null   object        \n",
      " 2   duration_seconds    1068 non-null   float64       \n",
      "dtypes: datetime64[ns](1), float64(1), object(1)\n",
      "memory usage: 25.2+ KB\n"
     ]
    }
   ],
   "source": [
    "df_07.info()"
   ]
  },
  {
   "cell_type": "markdown",
   "metadata": {},
   "source": [
    "### 10 principales barrios en terminos de finalización de recorrido"
   ]
  },
  {
   "cell_type": "code",
   "execution_count": 10,
   "metadata": {},
   "outputs": [
    {
     "data": {
      "text/html": [
       "<div>\n",
       "<style scoped>\n",
       "    .dataframe tbody tr th:only-of-type {\n",
       "        vertical-align: middle;\n",
       "    }\n",
       "\n",
       "    .dataframe tbody tr th {\n",
       "        vertical-align: top;\n",
       "    }\n",
       "\n",
       "    .dataframe thead th {\n",
       "        text-align: right;\n",
       "    }\n",
       "</style>\n",
       "<table border=\"1\" class=\"dataframe\">\n",
       "  <thead>\n",
       "    <tr style=\"text-align: right;\">\n",
       "      <th></th>\n",
       "      <th>dropoff_location_name</th>\n",
       "      <th>average_trips</th>\n",
       "    </tr>\n",
       "  </thead>\n",
       "  <tbody>\n",
       "    <tr>\n",
       "      <th>0</th>\n",
       "      <td>Loop</td>\n",
       "      <td>10727.466667</td>\n",
       "    </tr>\n",
       "    <tr>\n",
       "      <th>1</th>\n",
       "      <td>River North</td>\n",
       "      <td>9523.666667</td>\n",
       "    </tr>\n",
       "    <tr>\n",
       "      <th>2</th>\n",
       "      <td>Streeterville</td>\n",
       "      <td>6664.666667</td>\n",
       "    </tr>\n",
       "    <tr>\n",
       "      <th>3</th>\n",
       "      <td>West Loop</td>\n",
       "      <td>5163.666667</td>\n",
       "    </tr>\n",
       "    <tr>\n",
       "      <th>4</th>\n",
       "      <td>O'Hare</td>\n",
       "      <td>2546.900000</td>\n",
       "    </tr>\n",
       "    <tr>\n",
       "      <th>5</th>\n",
       "      <td>Lake View</td>\n",
       "      <td>2420.966667</td>\n",
       "    </tr>\n",
       "    <tr>\n",
       "      <th>6</th>\n",
       "      <td>Grant Park</td>\n",
       "      <td>2068.533333</td>\n",
       "    </tr>\n",
       "    <tr>\n",
       "      <th>7</th>\n",
       "      <td>Museum Campus</td>\n",
       "      <td>1510.000000</td>\n",
       "    </tr>\n",
       "    <tr>\n",
       "      <th>8</th>\n",
       "      <td>Gold Coast</td>\n",
       "      <td>1364.233333</td>\n",
       "    </tr>\n",
       "    <tr>\n",
       "      <th>9</th>\n",
       "      <td>Sheffield &amp; DePaul</td>\n",
       "      <td>1259.766667</td>\n",
       "    </tr>\n",
       "  </tbody>\n",
       "</table>\n",
       "</div>"
      ],
      "text/plain": [
       "  dropoff_location_name  average_trips\n",
       "0                  Loop   10727.466667\n",
       "1           River North    9523.666667\n",
       "2         Streeterville    6664.666667\n",
       "3             West Loop    5163.666667\n",
       "4                O'Hare    2546.900000\n",
       "5             Lake View    2420.966667\n",
       "6            Grant Park    2068.533333\n",
       "7         Museum Campus    1510.000000\n",
       "8            Gold Coast    1364.233333\n",
       "9    Sheffield & DePaul    1259.766667"
      ]
     },
     "execution_count": 10,
     "metadata": {},
     "output_type": "execute_result"
    }
   ],
   "source": [
    "df_04.sort_values(by = \"average_trips\" , ascending = False).head(10)"
   ]
  },
  {
   "cell_type": "code",
   "execution_count": 11,
   "metadata": {},
   "outputs": [
    {
     "data": {
      "text/plain": [
       "<AxesSubplot:xlabel='dropoff_location_name'>"
      ]
     },
     "execution_count": 11,
     "metadata": {},
     "output_type": "execute_result"
    },
    {
     "data": {
      "image/png": "[encoded data removed]",
      "text/plain": [
       "<Figure size 640x480 with 1 Axes>"
      ]
     },
     "metadata": {},
     "output_type": "display_data"
    }
   ],
   "source": [
    "df_04.sort_values(by = \"average_trips\" , ascending = False).head(10).plot(x='dropoff_location_name',kind=\"bar\")"
   ]
  },
  {
   "cell_type": "markdown",
   "metadata": {},
   "source": [
    "Observamos que el principal barrio en términos de finalización de recorrido corresponda a \"Loop\"."
   ]
  },
  {
   "cell_type": "markdown",
   "metadata": {},
   "source": [
    "### Empresas de taxis y sus número de viajes"
   ]
  },
  {
   "cell_type": "code",
   "execution_count": 12,
   "metadata": {},
   "outputs": [
    {
     "data": {
      "image/png": "[encoded data removed]",
      "text/plain": [
       "<Figure size 640x480 with 1 Axes>"
      ]
     },
     "metadata": {},
     "output_type": "display_data"
    }
   ],
   "source": [
    "df_01.head(10).plot(x='company_name',kind=\"bar\",title='Empresas de taxis vs número de viajes',xlabel='nombre_empresa',ylabel='número_de_viajes')\n",
    "plt.show() "
   ]
  },
  {
   "cell_type": "markdown",
   "metadata": {},
   "source": [
    "Del 1 al 7 de noviembre de 2017, las empresas de taxis más populares fueron Flash Cab y Taxi Affiliation Services."
   ]
  },
  {
   "cell_type": "markdown",
   "metadata": {},
   "source": [
    "### Prueba de Hipótesis"
   ]
  },
  {
   "cell_type": "markdown",
   "metadata": {},
   "source": [
    "\"La duración promedio de los viajes desde el Loop hasta el Aeropuerto Internacional O'Hare cambia los sábados lluviosos\"."
   ]
  },
  {
   "cell_type": "markdown",
   "metadata": {},
   "source": [
    "Hipotesis 1:\n",
    "\n",
    "1. Formular la hipotesis nula y alternativa:\n",
    "* HO: La duración promedio de los viajes desde el Loop hasta el Aeropuerto internacional O'Hare no cambia los días lluviosos.\n",
    "* H1: La duración promedio de los viajes .... son distintas.\n",
    "2. Obtener la informacion que deseamos\n",
    "* Necesitamos tener los datos en dos series separadas y SIN valores ausentes"
   ]
  },
  {
   "cell_type": "code",
   "execution_count": 13,
   "metadata": {},
   "outputs": [],
   "source": [
    "days_good = df_07[df_07['weather_conditions'] == 'Good']['duration_seconds'].dropna()\n",
    "days_bad = df_07[df_07['weather_conditions'] == 'Bad']['duration_seconds'].dropna()"
   ]
  },
  {
   "cell_type": "markdown",
   "metadata": {},
   "source": [
    "* Necesitamos realizar una prueba de Levene para verificar si varianzas son iguales o no."
   ]
  },
  {
   "cell_type": "code",
   "execution_count": 14,
   "metadata": {},
   "outputs": [
    {
     "name": "stdout",
     "output_type": "stream",
     "text": [
      "Estadístico de Levene: 0.38853489683656073\n",
      "P-valor: 0.5332038671974493\n",
      "No se rechaza la hipótesis nula. Las varianzas son iguales.\n"
     ]
    }
   ],
   "source": [
    "from scipy.stats import levene\n",
    "\n",
    "\n",
    "# Realizar la prueba de Levene\n",
    "estadistico, p_valor = levene(days_good, days_bad)\n",
    "\n",
    "# Mostrar los resultados\n",
    "print(\"Estadístico de Levene:\", estadistico)\n",
    "print(\"P-valor:\", p_valor)\n",
    "\n",
    "if p_valor > 0.05:\n",
    "    print(\"No se rechaza la hipótesis nula. Las varianzas son iguales.\")\n",
    "else:\n",
    "    print(\"Se rechaza la hipótesis nula. Las varianzas son diferentes.\")"
   ]
  },
  {
   "cell_type": "markdown",
   "metadata": {},
   "source": [
    "3. definir el test y el nivel de significancia.\n",
    "- Usamos el nivel de significancia estandar de $\\alpha$ de 0.05\n",
    "- Comparar dos categorias (Good y Bad) con respecto a una variable numerica (duration_seconds), en donde desconoces las\n",
    "  desviaciones standar por lo que podemos usar el t-test."
   ]
  },
  {
   "cell_type": "code",
   "execution_count": 15,
   "metadata": {},
   "outputs": [],
   "source": [
    "from scipy.stats import ttest_ind"
   ]
  },
  {
   "cell_type": "code",
   "execution_count": 16,
   "metadata": {},
   "outputs": [
    {
     "name": "stdout",
     "output_type": "stream",
     "text": [
      "\n",
      "    La duración promedio de de viajes para los días no lluviosos es: 1999.6756756756756\n",
      "    La duración promedio de viajes para los días lluviodos es: 2427.2055555555557\n",
      "    \n",
      "    t-statistic: -6.946177714041499\n",
      "    p-value: 6.517970327099473e-12\n",
      "\n",
      "Rechazamos nuestra hipótesis nula, la duración promedio de los viajes cambia en días lluviosos.\n"
     ]
    }
   ],
   "source": [
    "alpha = 0.05\n",
    "stat, p_value = ttest_ind(\n",
    "days_good,\n",
    "days_bad\n",
    ")\n",
    "print(f\"\"\"\n",
    "    La duración promedio de de viajes para los días no lluviosos es: {days_good.mean()}\n",
    "    La duración promedio de viajes para los días lluviodos es: {days_bad.mean()}\n",
    "    \n",
    "    t-statistic: {stat}\n",
    "    p-value: {p_value}\n",
    "\"\"\")\n",
    "    \n",
    "if p_value < alpha:\n",
    "    print('Rechazamos nuestra hipótesis nula, la duración promedio de los viajes cambia en días lluviosos.')\n",
    "else:\n",
    "    print('No rechazamos nuestra hipótesis nula, la duración promedio de los viajes no cambia en días lluviosos.')"
   ]
  },
  {
   "cell_type": "markdown",
   "metadata": {},
   "source": [
    "## Conslusiones"
   ]
  },
  {
   "cell_type": "markdown",
   "metadata": {},
   "source": [
    "De los resultados del test de Hipotesis podemos concluir que el promedio de viajes para los días lluviosos es mayor a los días no lluviosos en un 18% aproximadamente. Se realizó un test de hipótesis para confirmar que hay diferencia significativa en la duración de los viajes para los días lluviosos a un 5% de significancia. Por otro lado pudimos verificar que la principal empresa de taxis en terminos de cantidad de recorridos corresponde a \"Flash cab\", y que el principal barrio en términos de finalizacoión de recorrido corresponde a \"Loop\"."
   ]
  }
 ],
 "metadata": {
  "ExecuteTimeLog": [
   {
    "duration": 314,
    "start_time": "2024-07-08T01:02:05.567Z"
   },
   {
    "duration": 5163,
    "start_time": "2024-07-08T01:02:26.428Z"
   },
   {
    "duration": 12,
    "start_time": "2024-07-08T01:02:31.595Z"
   },
   {
    "duration": 8,
    "start_time": "2024-07-08T01:09:59.012Z"
   },
   {
    "duration": 10,
    "start_time": "2024-07-08T01:09:59.845Z"
   },
   {
    "duration": 11,
    "start_time": "2024-07-08T01:10:13.375Z"
   },
   {
    "duration": 18,
    "start_time": "2024-07-08T01:10:31.522Z"
   },
   {
    "duration": 16,
    "start_time": "2024-07-08T01:10:52.104Z"
   },
   {
    "duration": 13,
    "start_time": "2024-07-08T01:11:54.121Z"
   },
   {
    "duration": 12,
    "start_time": "2024-07-08T01:11:54.939Z"
   },
   {
    "duration": 18,
    "start_time": "2024-07-08T01:11:55.817Z"
   },
   {
    "duration": 877,
    "start_time": "2024-07-08T01:12:07.864Z"
   },
   {
    "duration": 0,
    "start_time": "2024-07-08T01:12:08.744Z"
   },
   {
    "duration": 13,
    "start_time": "2024-07-08T01:12:09.210Z"
   },
   {
    "duration": 128,
    "start_time": "2024-07-08T01:12:19.281Z"
   },
   {
    "duration": 130,
    "start_time": "2024-07-08T01:12:24.950Z"
   },
   {
    "duration": 124,
    "start_time": "2024-07-08T01:12:30.737Z"
   },
   {
    "duration": 132,
    "start_time": "2024-07-08T01:13:00.827Z"
   },
   {
    "duration": 12,
    "start_time": "2024-07-08T01:13:05.766Z"
   },
   {
    "duration": 8,
    "start_time": "2024-07-08T01:13:11.870Z"
   },
   {
    "duration": 11,
    "start_time": "2024-07-08T01:13:16.090Z"
   },
   {
    "duration": 8,
    "start_time": "2024-07-08T01:13:26.959Z"
   },
   {
    "duration": 13,
    "start_time": "2024-07-08T01:13:28.650Z"
   },
   {
    "duration": 15,
    "start_time": "2024-07-08T01:13:30.171Z"
   },
   {
    "duration": 4950,
    "start_time": "2024-07-08T02:29:21.190Z"
   },
   {
    "duration": 13,
    "start_time": "2024-07-08T02:29:26.143Z"
   },
   {
    "duration": 12,
    "start_time": "2024-07-08T02:29:26.159Z"
   },
   {
    "duration": 36,
    "start_time": "2024-07-08T02:29:26.175Z"
   },
   {
    "duration": 17,
    "start_time": "2024-07-08T02:29:26.214Z"
   },
   {
    "duration": 15,
    "start_time": "2024-07-08T02:29:26.234Z"
   },
   {
    "duration": 11,
    "start_time": "2024-07-08T02:29:43.299Z"
   },
   {
    "duration": 406,
    "start_time": "2024-07-08T02:41:36.720Z"
   },
   {
    "duration": 944,
    "start_time": "2024-07-08T02:41:46.684Z"
   },
   {
    "duration": 1711,
    "start_time": "2024-07-08T02:43:25.839Z"
   },
   {
    "duration": 240,
    "start_time": "2024-07-08T02:44:37.316Z"
   },
   {
    "duration": 101,
    "start_time": "2024-07-08T02:49:50.363Z"
   },
   {
    "duration": 8,
    "start_time": "2024-07-08T02:58:08.483Z"
   },
   {
    "duration": 100,
    "start_time": "2024-07-08T02:58:18.320Z"
   },
   {
    "duration": 22,
    "start_time": "2024-07-08T02:58:47.696Z"
   },
   {
    "duration": 301,
    "start_time": "2024-07-08T02:59:03.178Z"
   },
   {
    "duration": 295,
    "start_time": "2024-07-08T02:59:29.786Z"
   },
   {
    "duration": 316,
    "start_time": "2024-07-08T03:00:41.718Z"
   },
   {
    "duration": 329,
    "start_time": "2024-07-08T03:00:56.285Z"
   },
   {
    "duration": 218,
    "start_time": "2024-07-08T03:02:21.996Z"
   },
   {
    "duration": 270,
    "start_time": "2024-07-08T03:03:49.002Z"
   },
   {
    "duration": 4834,
    "start_time": "2024-07-09T02:31:16.722Z"
   },
   {
    "duration": 13,
    "start_time": "2024-07-09T02:31:21.560Z"
   },
   {
    "duration": 22,
    "start_time": "2024-07-09T02:31:21.576Z"
   },
   {
    "duration": 29,
    "start_time": "2024-07-09T02:31:21.601Z"
   },
   {
    "duration": 16,
    "start_time": "2024-07-09T02:31:21.634Z"
   },
   {
    "duration": 14,
    "start_time": "2024-07-09T02:31:21.653Z"
   },
   {
    "duration": 12,
    "start_time": "2024-07-09T02:31:21.670Z"
   },
   {
    "duration": 410,
    "start_time": "2024-07-09T02:31:21.685Z"
   },
   {
    "duration": 264,
    "start_time": "2024-07-09T02:31:22.099Z"
   },
   {
    "duration": 14,
    "start_time": "2024-07-09T02:32:12.419Z"
   },
   {
    "duration": 4899,
    "start_time": "2024-07-09T16:14:46.709Z"
   },
   {
    "duration": 12,
    "start_time": "2024-07-09T16:14:51.612Z"
   },
   {
    "duration": 24,
    "start_time": "2024-07-09T16:14:51.627Z"
   },
   {
    "duration": 15,
    "start_time": "2024-07-09T16:14:51.656Z"
   },
   {
    "duration": 35,
    "start_time": "2024-07-09T16:14:51.674Z"
   },
   {
    "duration": 15,
    "start_time": "2024-07-09T16:14:51.712Z"
   },
   {
    "duration": 14,
    "start_time": "2024-07-09T16:14:51.730Z"
   },
   {
    "duration": 12,
    "start_time": "2024-07-09T16:14:51.747Z"
   },
   {
    "duration": 411,
    "start_time": "2024-07-09T16:14:51.762Z"
   },
   {
    "duration": 244,
    "start_time": "2024-07-09T16:14:52.178Z"
   },
   {
    "duration": 6,
    "start_time": "2024-07-09T16:27:15.642Z"
   },
   {
    "duration": 6,
    "start_time": "2024-07-09T16:27:52.016Z"
   },
   {
    "duration": 7,
    "start_time": "2024-07-09T16:30:19.992Z"
   },
   {
    "duration": 490,
    "start_time": "2024-07-09T16:33:10.061Z"
   },
   {
    "duration": 4,
    "start_time": "2024-07-09T16:33:14.342Z"
   },
   {
    "duration": 8,
    "start_time": "2024-07-09T16:33:14.993Z"
   },
   {
    "duration": 4925,
    "start_time": "2024-07-10T00:21:06.505Z"
   },
   {
    "duration": 23,
    "start_time": "2024-07-10T00:21:11.433Z"
   },
   {
    "duration": 21,
    "start_time": "2024-07-10T00:21:11.459Z"
   },
   {
    "duration": 40,
    "start_time": "2024-07-10T00:21:11.485Z"
   },
   {
    "duration": 16,
    "start_time": "2024-07-10T00:21:11.529Z"
   },
   {
    "duration": 17,
    "start_time": "2024-07-10T00:21:11.549Z"
   },
   {
    "duration": 52,
    "start_time": "2024-07-10T00:21:11.570Z"
   },
   {
    "duration": 12,
    "start_time": "2024-07-10T00:21:11.626Z"
   },
   {
    "duration": 380,
    "start_time": "2024-07-10T00:21:11.641Z"
   },
   {
    "duration": 256,
    "start_time": "2024-07-10T00:21:12.026Z"
   },
   {
    "duration": 8,
    "start_time": "2024-07-10T00:21:12.285Z"
   },
   {
    "duration": 7,
    "start_time": "2024-07-10T00:21:12.310Z"
   },
   {
    "duration": 5,
    "start_time": "2024-07-10T00:21:12.320Z"
   },
   {
    "duration": 8,
    "start_time": "2024-07-10T00:21:12.328Z"
   },
   {
    "duration": 5020,
    "start_time": "2024-07-10T02:00:16.324Z"
   },
   {
    "duration": 23,
    "start_time": "2024-07-10T02:00:21.347Z"
   },
   {
    "duration": 18,
    "start_time": "2024-07-10T02:00:21.373Z"
   },
   {
    "duration": 38,
    "start_time": "2024-07-10T02:00:21.395Z"
   },
   {
    "duration": 15,
    "start_time": "2024-07-10T02:00:21.436Z"
   },
   {
    "duration": 15,
    "start_time": "2024-07-10T02:00:21.454Z"
   },
   {
    "duration": 54,
    "start_time": "2024-07-10T02:00:21.472Z"
   },
   {
    "duration": 13,
    "start_time": "2024-07-10T02:00:21.529Z"
   },
   {
    "duration": 382,
    "start_time": "2024-07-10T02:00:21.546Z"
   },
   {
    "duration": 266,
    "start_time": "2024-07-10T02:00:21.933Z"
   },
   {
    "duration": 20,
    "start_time": "2024-07-10T02:00:22.203Z"
   },
   {
    "duration": 8,
    "start_time": "2024-07-10T02:00:22.226Z"
   },
   {
    "duration": 4,
    "start_time": "2024-07-10T02:00:22.237Z"
   },
   {
    "duration": 7,
    "start_time": "2024-07-10T02:00:22.245Z"
   },
   {
    "duration": 1259,
    "start_time": "2024-07-10T02:01:15.126Z"
   },
   {
    "duration": 20,
    "start_time": "2024-07-10T02:01:16.388Z"
   },
   {
    "duration": 27,
    "start_time": "2024-07-10T02:01:16.410Z"
   },
   {
    "duration": 19,
    "start_time": "2024-07-10T02:01:16.440Z"
   },
   {
    "duration": 17,
    "start_time": "2024-07-10T02:01:16.462Z"
   },
   {
    "duration": 46,
    "start_time": "2024-07-10T02:01:16.482Z"
   },
   {
    "duration": 15,
    "start_time": "2024-07-10T02:01:16.531Z"
   },
   {
    "duration": 12,
    "start_time": "2024-07-10T02:01:16.549Z"
   },
   {
    "duration": 415,
    "start_time": "2024-07-10T02:01:16.564Z"
   },
   {
    "duration": 250,
    "start_time": "2024-07-10T02:01:16.984Z"
   },
   {
    "duration": 8,
    "start_time": "2024-07-10T02:01:17.237Z"
   },
   {
    "duration": 9,
    "start_time": "2024-07-10T02:01:17.247Z"
   },
   {
    "duration": 4,
    "start_time": "2024-07-10T02:01:17.260Z"
   },
   {
    "duration": 8,
    "start_time": "2024-07-10T02:01:17.267Z"
   },
   {
    "duration": 1282,
    "start_time": "2024-07-10T02:20:00.058Z"
   },
   {
    "duration": 25,
    "start_time": "2024-07-10T02:20:01.344Z"
   },
   {
    "duration": 20,
    "start_time": "2024-07-10T02:20:01.373Z"
   },
   {
    "duration": 40,
    "start_time": "2024-07-10T02:20:01.400Z"
   },
   {
    "duration": 15,
    "start_time": "2024-07-10T02:20:01.443Z"
   },
   {
    "duration": 15,
    "start_time": "2024-07-10T02:20:01.462Z"
   },
   {
    "duration": 56,
    "start_time": "2024-07-10T02:20:01.480Z"
   },
   {
    "duration": 13,
    "start_time": "2024-07-10T02:20:01.539Z"
   },
   {
    "duration": 319,
    "start_time": "2024-07-10T02:20:01.555Z"
   },
   {
    "duration": 340,
    "start_time": "2024-07-10T02:20:01.879Z"
   },
   {
    "duration": 8,
    "start_time": "2024-07-10T02:20:02.222Z"
   },
   {
    "duration": 8,
    "start_time": "2024-07-10T02:20:02.233Z"
   },
   {
    "duration": 4,
    "start_time": "2024-07-10T02:20:02.244Z"
   },
   {
    "duration": 8,
    "start_time": "2024-07-10T02:20:02.251Z"
   },
   {
    "duration": 20,
    "start_time": "2024-07-10T02:44:09.756Z"
   },
   {
    "duration": 21,
    "start_time": "2024-07-10T02:44:49.686Z"
   },
   {
    "duration": 5444,
    "start_time": "2024-07-10T03:55:13.488Z"
   },
   {
    "duration": 31,
    "start_time": "2024-07-10T03:55:18.936Z"
   },
   {
    "duration": 21,
    "start_time": "2024-07-10T03:55:18.970Z"
   },
   {
    "duration": 42,
    "start_time": "2024-07-10T03:55:18.994Z"
   },
   {
    "duration": 22,
    "start_time": "2024-07-10T03:55:19.048Z"
   },
   {
    "duration": 16,
    "start_time": "2024-07-10T03:55:19.073Z"
   },
   {
    "duration": 36,
    "start_time": "2024-07-10T03:55:19.093Z"
   },
   {
    "duration": 17,
    "start_time": "2024-07-10T03:55:19.132Z"
   },
   {
    "duration": 15,
    "start_time": "2024-07-10T03:55:19.152Z"
   },
   {
    "duration": 63,
    "start_time": "2024-07-10T03:55:19.171Z"
   },
   {
    "duration": 300,
    "start_time": "2024-07-10T03:55:19.238Z"
   },
   {
    "duration": 376,
    "start_time": "2024-07-10T03:55:19.541Z"
   },
   {
    "duration": 8,
    "start_time": "2024-07-10T03:55:19.921Z"
   },
   {
    "duration": 14,
    "start_time": "2024-07-10T03:55:19.934Z"
   },
   {
    "duration": 4,
    "start_time": "2024-07-10T03:55:19.952Z"
   },
   {
    "duration": 9,
    "start_time": "2024-07-10T03:55:19.959Z"
   }
  ],
  "kernelspec": {
   "display_name": "Python 3 (ipykernel)",
   "language": "python",
   "name": "python3"
  },
  "language_info": {
   "codemirror_mode": {
    "name": "ipython",
    "version": 3
   },
   "file_extension": ".py",
   "mimetype": "text/x-python",
   "name": "python",
   "nbconvert_exporter": "python",
   "pygments_lexer": "ipython3",
   "version": "3.9.19"
  },
  "toc": {
   "base_numbering": 1,
   "nav_menu": {},
   "number_sections": true,
   "sideBar": true,
   "skip_h1_title": true,
   "title_cell": "Table of Contents",
   "title_sidebar": "Contents",
   "toc_cell": false,
   "toc_position": {},
   "toc_section_display": true,
   "toc_window_display": false
  }
 },
 "nbformat": 4,
 "nbformat_minor": 2
}
