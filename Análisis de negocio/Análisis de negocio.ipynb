{
 "cells": [
  {
   "cell_type": "markdown",
   "metadata": {},
   "source": [
    "# Descripción del proyecto\n",
    "\n",
    "El objetivo de este proyecto es ayudar a optimizar los gastos de marketing del departamento analítico de Y.Afisha\n",
    "\n",
    "Lo que tenemos:\n",
    "\n",
    "- registros del servidor con datos sobre las visitas a Y.Afisha desde enero de 2017 hasta diciembre de 2018;\n",
    "- un archivo con los pedidos en este periodo;\n",
    "- estadísticas de gastos de marketing.\n",
    "\n",
    "Lo que vas a investigaremos:\n",
    "\n",
    "- cómo los clientes usan el servicio;\n",
    "- cuándo empiezan a comprar;\n",
    "- cuánto dinero aporta cada cliente a la compañía;\n",
    "- cuándo los ingresos cubren el costo de adquisición de los clientes\n",
    "\n",
    "\n",
    "\n",
    "# Descarga los datos y prepáralos para el análisis\n",
    "\n",
    "Almacena los datos de visitas, pedidos y gastos en variables.  Optimiza los datos para el análisis. Asegúrate de que cada columna contenga el tipo de datos correcto.\n",
    "\n"
   ]
  },
  {
   "cell_type": "code",
   "execution_count": 1,
   "metadata": {},
   "outputs": [],
   "source": [
    "import pandas as pd\n",
    "import matplotlib.pyplot as plt\n",
    "import numpy as np\n",
    "import seaborn as sns"
   ]
  },
  {
   "cell_type": "code",
   "execution_count": 2,
   "metadata": {},
   "outputs": [],
   "source": [
    "# Creamos variables para las 3 tablas que utilizaremos en este proyecto. Adicionalmente, cambiaremos las columnas\n",
    "# que sean de fecha a Datetime.\n",
    "\n",
    "visits = pd.read_csv(\"/datasets/visits_log_us.csv\",parse_dates=['Start Ts','End Ts'])\n",
    "costs = pd.read_csv(\"/datasets/costs_us.csv\",parse_dates=['dt'])\n",
    "orders = pd.read_csv(\"/datasets/orders_log_us.csv\",parse_dates=['Buy Ts'])\n"
   ]
  },
  {
   "cell_type": "code",
   "execution_count": 3,
   "metadata": {},
   "outputs": [
    {
     "name": "stdout",
     "output_type": "stream",
     "text": [
      "<class 'pandas.core.frame.DataFrame'>\n",
      "RangeIndex: 359400 entries, 0 to 359399\n",
      "Data columns (total 5 columns):\n",
      " #   Column     Non-Null Count   Dtype         \n",
      "---  ------     --------------   -----         \n",
      " 0   Device     359400 non-null  object        \n",
      " 1   End Ts     359400 non-null  datetime64[ns]\n",
      " 2   Source Id  359400 non-null  int64         \n",
      " 3   Start Ts   359400 non-null  datetime64[ns]\n",
      " 4   Uid        359400 non-null  uint64        \n",
      "dtypes: datetime64[ns](2), int64(1), object(1), uint64(1)\n",
      "memory usage: 13.7+ MB\n"
     ]
    }
   ],
   "source": [
    "# Análisis exploratorio de la tabla \"visits\"\n",
    "visits.info()"
   ]
  },
  {
   "cell_type": "code",
   "execution_count": 4,
   "metadata": {},
   "outputs": [
    {
     "data": {
      "text/html": [
       "<div>\n",
       "<style scoped>\n",
       "    .dataframe tbody tr th:only-of-type {\n",
       "        vertical-align: middle;\n",
       "    }\n",
       "\n",
       "    .dataframe tbody tr th {\n",
       "        vertical-align: top;\n",
       "    }\n",
       "\n",
       "    .dataframe thead th {\n",
       "        text-align: right;\n",
       "    }\n",
       "</style>\n",
       "<table border=\"1\" class=\"dataframe\">\n",
       "  <thead>\n",
       "    <tr style=\"text-align: right;\">\n",
       "      <th></th>\n",
       "      <th>Device</th>\n",
       "      <th>End Ts</th>\n",
       "      <th>Source Id</th>\n",
       "      <th>Start Ts</th>\n",
       "      <th>Uid</th>\n",
       "    </tr>\n",
       "  </thead>\n",
       "  <tbody>\n",
       "    <tr>\n",
       "      <th>0</th>\n",
       "      <td>touch</td>\n",
       "      <td>2017-12-20 17:38:00</td>\n",
       "      <td>4</td>\n",
       "      <td>2017-12-20 17:20:00</td>\n",
       "      <td>16879256277535980062</td>\n",
       "    </tr>\n",
       "    <tr>\n",
       "      <th>1</th>\n",
       "      <td>desktop</td>\n",
       "      <td>2018-02-19 17:21:00</td>\n",
       "      <td>2</td>\n",
       "      <td>2018-02-19 16:53:00</td>\n",
       "      <td>104060357244891740</td>\n",
       "    </tr>\n",
       "    <tr>\n",
       "      <th>2</th>\n",
       "      <td>touch</td>\n",
       "      <td>2017-07-01 01:54:00</td>\n",
       "      <td>5</td>\n",
       "      <td>2017-07-01 01:54:00</td>\n",
       "      <td>7459035603376831527</td>\n",
       "    </tr>\n",
       "    <tr>\n",
       "      <th>3</th>\n",
       "      <td>desktop</td>\n",
       "      <td>2018-05-20 11:23:00</td>\n",
       "      <td>9</td>\n",
       "      <td>2018-05-20 10:59:00</td>\n",
       "      <td>16174680259334210214</td>\n",
       "    </tr>\n",
       "    <tr>\n",
       "      <th>4</th>\n",
       "      <td>desktop</td>\n",
       "      <td>2017-12-27 14:06:00</td>\n",
       "      <td>3</td>\n",
       "      <td>2017-12-27 14:06:00</td>\n",
       "      <td>9969694820036681168</td>\n",
       "    </tr>\n",
       "  </tbody>\n",
       "</table>\n",
       "</div>"
      ],
      "text/plain": [
       "    Device              End Ts  Source Id            Start Ts  \\\n",
       "0    touch 2017-12-20 17:38:00          4 2017-12-20 17:20:00   \n",
       "1  desktop 2018-02-19 17:21:00          2 2018-02-19 16:53:00   \n",
       "2    touch 2017-07-01 01:54:00          5 2017-07-01 01:54:00   \n",
       "3  desktop 2018-05-20 11:23:00          9 2018-05-20 10:59:00   \n",
       "4  desktop 2017-12-27 14:06:00          3 2017-12-27 14:06:00   \n",
       "\n",
       "                    Uid  \n",
       "0  16879256277535980062  \n",
       "1    104060357244891740  \n",
       "2   7459035603376831527  \n",
       "3  16174680259334210214  \n",
       "4   9969694820036681168  "
      ]
     },
     "execution_count": 4,
     "metadata": {},
     "output_type": "execute_result"
    }
   ],
   "source": [
    "# Imprimir una muestra de la tabla \"visits\"\n",
    "\n",
    "visits.head(5)"
   ]
  },
  {
   "cell_type": "code",
   "execution_count": 5,
   "metadata": {},
   "outputs": [
    {
     "name": "stdout",
     "output_type": "stream",
     "text": [
      "<class 'pandas.core.frame.DataFrame'>\n",
      "RangeIndex: 2542 entries, 0 to 2541\n",
      "Data columns (total 3 columns):\n",
      " #   Column     Non-Null Count  Dtype         \n",
      "---  ------     --------------  -----         \n",
      " 0   source_id  2542 non-null   int64         \n",
      " 1   dt         2542 non-null   datetime64[ns]\n",
      " 2   costs      2542 non-null   float64       \n",
      "dtypes: datetime64[ns](1), float64(1), int64(1)\n",
      "memory usage: 59.7 KB\n"
     ]
    }
   ],
   "source": [
    "# Análisis exploratorio de la tabla \"costs\"\n",
    "\n",
    "costs.info()"
   ]
  },
  {
   "cell_type": "code",
   "execution_count": 6,
   "metadata": {},
   "outputs": [
    {
     "data": {
      "text/html": [
       "<div>\n",
       "<style scoped>\n",
       "    .dataframe tbody tr th:only-of-type {\n",
       "        vertical-align: middle;\n",
       "    }\n",
       "\n",
       "    .dataframe tbody tr th {\n",
       "        vertical-align: top;\n",
       "    }\n",
       "\n",
       "    .dataframe thead th {\n",
       "        text-align: right;\n",
       "    }\n",
       "</style>\n",
       "<table border=\"1\" class=\"dataframe\">\n",
       "  <thead>\n",
       "    <tr style=\"text-align: right;\">\n",
       "      <th></th>\n",
       "      <th>source_id</th>\n",
       "      <th>dt</th>\n",
       "      <th>costs</th>\n",
       "    </tr>\n",
       "  </thead>\n",
       "  <tbody>\n",
       "    <tr>\n",
       "      <th>0</th>\n",
       "      <td>1</td>\n",
       "      <td>2017-06-01</td>\n",
       "      <td>75.20</td>\n",
       "    </tr>\n",
       "    <tr>\n",
       "      <th>1</th>\n",
       "      <td>1</td>\n",
       "      <td>2017-06-02</td>\n",
       "      <td>62.25</td>\n",
       "    </tr>\n",
       "    <tr>\n",
       "      <th>2</th>\n",
       "      <td>1</td>\n",
       "      <td>2017-06-03</td>\n",
       "      <td>36.53</td>\n",
       "    </tr>\n",
       "    <tr>\n",
       "      <th>3</th>\n",
       "      <td>1</td>\n",
       "      <td>2017-06-04</td>\n",
       "      <td>55.00</td>\n",
       "    </tr>\n",
       "    <tr>\n",
       "      <th>4</th>\n",
       "      <td>1</td>\n",
       "      <td>2017-06-05</td>\n",
       "      <td>57.08</td>\n",
       "    </tr>\n",
       "  </tbody>\n",
       "</table>\n",
       "</div>"
      ],
      "text/plain": [
       "   source_id         dt  costs\n",
       "0          1 2017-06-01  75.20\n",
       "1          1 2017-06-02  62.25\n",
       "2          1 2017-06-03  36.53\n",
       "3          1 2017-06-04  55.00\n",
       "4          1 2017-06-05  57.08"
      ]
     },
     "execution_count": 6,
     "metadata": {},
     "output_type": "execute_result"
    }
   ],
   "source": [
    "# Imprimir una muestra de la tabla \"costs\"\n",
    "\n",
    "costs.head(5)"
   ]
  },
  {
   "cell_type": "code",
   "execution_count": 7,
   "metadata": {},
   "outputs": [
    {
     "name": "stdout",
     "output_type": "stream",
     "text": [
      "<class 'pandas.core.frame.DataFrame'>\n",
      "RangeIndex: 50415 entries, 0 to 50414\n",
      "Data columns (total 3 columns):\n",
      " #   Column   Non-Null Count  Dtype         \n",
      "---  ------   --------------  -----         \n",
      " 0   Buy Ts   50415 non-null  datetime64[ns]\n",
      " 1   Revenue  50415 non-null  float64       \n",
      " 2   Uid      50415 non-null  uint64        \n",
      "dtypes: datetime64[ns](1), float64(1), uint64(1)\n",
      "memory usage: 1.2 MB\n"
     ]
    }
   ],
   "source": [
    "# Análisis exploratorio de la tabla \"orders\"\n",
    "\n",
    "orders.info()"
   ]
  },
  {
   "cell_type": "code",
   "execution_count": 8,
   "metadata": {},
   "outputs": [
    {
     "data": {
      "text/html": [
       "<div>\n",
       "<style scoped>\n",
       "    .dataframe tbody tr th:only-of-type {\n",
       "        vertical-align: middle;\n",
       "    }\n",
       "\n",
       "    .dataframe tbody tr th {\n",
       "        vertical-align: top;\n",
       "    }\n",
       "\n",
       "    .dataframe thead th {\n",
       "        text-align: right;\n",
       "    }\n",
       "</style>\n",
       "<table border=\"1\" class=\"dataframe\">\n",
       "  <thead>\n",
       "    <tr style=\"text-align: right;\">\n",
       "      <th></th>\n",
       "      <th>Buy Ts</th>\n",
       "      <th>Revenue</th>\n",
       "      <th>Uid</th>\n",
       "    </tr>\n",
       "  </thead>\n",
       "  <tbody>\n",
       "    <tr>\n",
       "      <th>0</th>\n",
       "      <td>2017-06-01 00:10:00</td>\n",
       "      <td>17.00</td>\n",
       "      <td>10329302124590727494</td>\n",
       "    </tr>\n",
       "    <tr>\n",
       "      <th>1</th>\n",
       "      <td>2017-06-01 00:25:00</td>\n",
       "      <td>0.55</td>\n",
       "      <td>11627257723692907447</td>\n",
       "    </tr>\n",
       "    <tr>\n",
       "      <th>2</th>\n",
       "      <td>2017-06-01 00:27:00</td>\n",
       "      <td>0.37</td>\n",
       "      <td>17903680561304213844</td>\n",
       "    </tr>\n",
       "    <tr>\n",
       "      <th>3</th>\n",
       "      <td>2017-06-01 00:29:00</td>\n",
       "      <td>0.55</td>\n",
       "      <td>16109239769442553005</td>\n",
       "    </tr>\n",
       "    <tr>\n",
       "      <th>4</th>\n",
       "      <td>2017-06-01 07:58:00</td>\n",
       "      <td>0.37</td>\n",
       "      <td>14200605875248379450</td>\n",
       "    </tr>\n",
       "  </tbody>\n",
       "</table>\n",
       "</div>"
      ],
      "text/plain": [
       "               Buy Ts  Revenue                   Uid\n",
       "0 2017-06-01 00:10:00    17.00  10329302124590727494\n",
       "1 2017-06-01 00:25:00     0.55  11627257723692907447\n",
       "2 2017-06-01 00:27:00     0.37  17903680561304213844\n",
       "3 2017-06-01 00:29:00     0.55  16109239769442553005\n",
       "4 2017-06-01 07:58:00     0.37  14200605875248379450"
      ]
     },
     "execution_count": 8,
     "metadata": {},
     "output_type": "execute_result"
    }
   ],
   "source": [
    "# Imprimir una muestra de la tabla \"orders\"\n",
    "\n",
    "orders.head(5)"
   ]
  },
  {
   "cell_type": "markdown",
   "metadata": {},
   "source": [
    "# Haz informes y calcula métricas \n",
    "\n",
    "## Visitas:\n",
    "\n",
    "- **¿Cuántas personas lo usan cada día, semana y mes?**\n",
    "\n",
    "\n",
    "\n"
   ]
  },
  {
   "cell_type": "markdown",
   "metadata": {},
   "source": [
    "El siguiente paso será separar los meses, semanas y días de las columnas de fecha. Vamos a llamar al método .dt.to_period()."
   ]
  },
  {
   "cell_type": "code",
   "execution_count": 9,
   "metadata": {},
   "outputs": [],
   "source": [
    "visits[\"day\"] = visits[\"Start Ts\"].dt.to_period(\"D\").dt.start_time\n",
    "visits[\"week\"] = visits[\"Start Ts\"].dt.to_period(\"W\").dt.start_time\n",
    "visits[\"month\"] = visits[\"Start Ts\"].dt.to_period(\"M\").dt.start_time\n"
   ]
  },
  {
   "cell_type": "code",
   "execution_count": 10,
   "metadata": {},
   "outputs": [
    {
     "data": {
      "text/html": [
       "<div>\n",
       "<style scoped>\n",
       "    .dataframe tbody tr th:only-of-type {\n",
       "        vertical-align: middle;\n",
       "    }\n",
       "\n",
       "    .dataframe tbody tr th {\n",
       "        vertical-align: top;\n",
       "    }\n",
       "\n",
       "    .dataframe thead th {\n",
       "        text-align: right;\n",
       "    }\n",
       "</style>\n",
       "<table border=\"1\" class=\"dataframe\">\n",
       "  <thead>\n",
       "    <tr style=\"text-align: right;\">\n",
       "      <th></th>\n",
       "      <th>Device</th>\n",
       "      <th>End Ts</th>\n",
       "      <th>Source Id</th>\n",
       "      <th>Start Ts</th>\n",
       "      <th>Uid</th>\n",
       "      <th>day</th>\n",
       "      <th>week</th>\n",
       "      <th>month</th>\n",
       "    </tr>\n",
       "  </thead>\n",
       "  <tbody>\n",
       "    <tr>\n",
       "      <th>0</th>\n",
       "      <td>touch</td>\n",
       "      <td>2017-12-20 17:38:00</td>\n",
       "      <td>4</td>\n",
       "      <td>2017-12-20 17:20:00</td>\n",
       "      <td>16879256277535980062</td>\n",
       "      <td>2017-12-20</td>\n",
       "      <td>2017-12-18</td>\n",
       "      <td>2017-12-01</td>\n",
       "    </tr>\n",
       "    <tr>\n",
       "      <th>1</th>\n",
       "      <td>desktop</td>\n",
       "      <td>2018-02-19 17:21:00</td>\n",
       "      <td>2</td>\n",
       "      <td>2018-02-19 16:53:00</td>\n",
       "      <td>104060357244891740</td>\n",
       "      <td>2018-02-19</td>\n",
       "      <td>2018-02-19</td>\n",
       "      <td>2018-02-01</td>\n",
       "    </tr>\n",
       "    <tr>\n",
       "      <th>2</th>\n",
       "      <td>touch</td>\n",
       "      <td>2017-07-01 01:54:00</td>\n",
       "      <td>5</td>\n",
       "      <td>2017-07-01 01:54:00</td>\n",
       "      <td>7459035603376831527</td>\n",
       "      <td>2017-07-01</td>\n",
       "      <td>2017-06-26</td>\n",
       "      <td>2017-07-01</td>\n",
       "    </tr>\n",
       "    <tr>\n",
       "      <th>3</th>\n",
       "      <td>desktop</td>\n",
       "      <td>2018-05-20 11:23:00</td>\n",
       "      <td>9</td>\n",
       "      <td>2018-05-20 10:59:00</td>\n",
       "      <td>16174680259334210214</td>\n",
       "      <td>2018-05-20</td>\n",
       "      <td>2018-05-14</td>\n",
       "      <td>2018-05-01</td>\n",
       "    </tr>\n",
       "    <tr>\n",
       "      <th>4</th>\n",
       "      <td>desktop</td>\n",
       "      <td>2017-12-27 14:06:00</td>\n",
       "      <td>3</td>\n",
       "      <td>2017-12-27 14:06:00</td>\n",
       "      <td>9969694820036681168</td>\n",
       "      <td>2017-12-27</td>\n",
       "      <td>2017-12-25</td>\n",
       "      <td>2017-12-01</td>\n",
       "    </tr>\n",
       "  </tbody>\n",
       "</table>\n",
       "</div>"
      ],
      "text/plain": [
       "    Device              End Ts  Source Id            Start Ts  \\\n",
       "0    touch 2017-12-20 17:38:00          4 2017-12-20 17:20:00   \n",
       "1  desktop 2018-02-19 17:21:00          2 2018-02-19 16:53:00   \n",
       "2    touch 2017-07-01 01:54:00          5 2017-07-01 01:54:00   \n",
       "3  desktop 2018-05-20 11:23:00          9 2018-05-20 10:59:00   \n",
       "4  desktop 2017-12-27 14:06:00          3 2017-12-27 14:06:00   \n",
       "\n",
       "                    Uid        day       week      month  \n",
       "0  16879256277535980062 2017-12-20 2017-12-18 2017-12-01  \n",
       "1    104060357244891740 2018-02-19 2018-02-19 2018-02-01  \n",
       "2   7459035603376831527 2017-07-01 2017-06-26 2017-07-01  \n",
       "3  16174680259334210214 2018-05-20 2018-05-14 2018-05-01  \n",
       "4   9969694820036681168 2017-12-27 2017-12-25 2017-12-01  "
      ]
     },
     "execution_count": 10,
     "metadata": {},
     "output_type": "execute_result"
    }
   ],
   "source": [
    "visits.head(5)"
   ]
  },
  {
   "cell_type": "code",
   "execution_count": 11,
   "metadata": {},
   "outputs": [
    {
     "name": "stdout",
     "output_type": "stream",
     "text": [
      "Promedio de usuarios únicos por día: \n"
     ]
    },
    {
     "data": {
      "text/plain": [
       "907.9917582417582"
      ]
     },
     "execution_count": 11,
     "metadata": {},
     "output_type": "execute_result"
    }
   ],
   "source": [
    "# Calculamos el número de usuarios únicos por día\n",
    "\n",
    "usuarios_by_day = visits.groupby('day').agg({'Uid': 'nunique'}).reset_index()\n",
    "\n",
    "print(\"Promedio de usuarios únicos por día: \")\n",
    "usuarios_by_day[\"Uid\"].mean()"
   ]
  },
  {
   "cell_type": "code",
   "execution_count": 12,
   "metadata": {},
   "outputs": [
    {
     "data": {
      "image/png": "[encoded data removed]",
      "text/plain": [
       "<Figure size 1000x600 with 1 Axes>"
      ]
     },
     "metadata": {},
     "output_type": "display_data"
    }
   ],
   "source": [
    "# Crear el gráfico de líneas\n",
    "plt.figure(figsize=(10, 6))\n",
    "plt.plot(usuarios_by_day['day'], usuarios_by_day['Uid'], linestyle='-', color='b')\n",
    "\n",
    "# Añadir títulos y etiquetas\n",
    "plt.title('Cantidad de Usuarios Únicos por Día')\n",
    "plt.xlabel('Fecha')\n",
    "plt.ylabel('Cantidad de Usuarios Únicos')\n",
    "plt.grid(True)\n",
    "\n",
    "# Mostrar el gráfico\n",
    "plt.xticks(rotation=45)  # Rotar las etiquetas del eje x para que sean legibles\n",
    "plt.tight_layout()       # Ajustar el diseño para que no se corten las etiquetas\n",
    "plt.show()"
   ]
  },
  {
   "cell_type": "code",
   "execution_count": 13,
   "metadata": {},
   "outputs": [
    {
     "name": "stdout",
     "output_type": "stream",
     "text": [
      "Promedio de usuarios únicos por semana: \n"
     ]
    },
    {
     "data": {
      "text/plain": [
       "5716.245283018868"
      ]
     },
     "execution_count": 13,
     "metadata": {},
     "output_type": "execute_result"
    }
   ],
   "source": [
    "# Calculamos el número de usuarios únicos por semana\n",
    "\n",
    "usuarios_by_week = visits.groupby('week').agg({'Uid': 'nunique'}).reset_index()\n",
    "print(\"Promedio de usuarios únicos por semana: \")\n",
    "usuarios_by_week[\"Uid\"].mean()"
   ]
  },
  {
   "cell_type": "code",
   "execution_count": 14,
   "metadata": {},
   "outputs": [
    {
     "data": {
      "image/png": "[encoded data removed]",
      "text/plain": [
       "<Figure size 1200x600 with 1 Axes>"
      ]
     },
     "metadata": {},
     "output_type": "display_data"
    }
   ],
   "source": [
    "# Crear el gráfico de líneas\n",
    "plt.figure(figsize=(12, 6))\n",
    "plt.plot(usuarios_by_week['week'], usuarios_by_week['Uid'], marker='o', linestyle='-', color='g')\n",
    "\n",
    "# Añadir títulos y etiquetas\n",
    "plt.title('Cantidad de Usuarios Únicos por Semana')\n",
    "plt.xlabel('Fecha de Inicio de Semana')\n",
    "plt.ylabel('Cantidad de Usuarios Únicos')\n",
    "plt.grid(True)\n",
    "\n",
    "# Mostrar el gráfico\n",
    "plt.xticks(rotation=45)  # Rotar las etiquetas del eje x para que sean legibles\n",
    "plt.tight_layout()       # Ajustar el diseño para que no se corten las etiquetas\n",
    "plt.show()"
   ]
  },
  {
   "cell_type": "code",
   "execution_count": 15,
   "metadata": {},
   "outputs": [
    {
     "name": "stdout",
     "output_type": "stream",
     "text": [
      "Promedio de usuarios únicos por mes: \n"
     ]
    },
    {
     "data": {
      "text/plain": [
       "23228.416666666668"
      ]
     },
     "execution_count": 15,
     "metadata": {},
     "output_type": "execute_result"
    }
   ],
   "source": [
    "usuarios_by_month = visits.groupby('month').agg({'Uid': 'nunique'}).reset_index()\n",
    "print(\"Promedio de usuarios únicos por mes: \")\n",
    "usuarios_by_month[\"Uid\"].mean()"
   ]
  },
  {
   "cell_type": "code",
   "execution_count": 16,
   "metadata": {},
   "outputs": [
    {
     "data": {
      "image/png": "[encoded data removed]",
      "text/plain": [
       "<Figure size 1200x600 with 1 Axes>"
      ]
     },
     "metadata": {},
     "output_type": "display_data"
    }
   ],
   "source": [
    "# Crear el gráfico de líneas\n",
    "plt.figure(figsize=(12, 6))\n",
    "plt.plot(usuarios_by_month['month'], usuarios_by_month['Uid'], marker='o', linestyle='-', color='r')\n",
    "\n",
    "# Añadir títulos y etiquetas\n",
    "plt.title('Cantidad de Usuarios Únicos por Mes')\n",
    "plt.xlabel('Mes')\n",
    "plt.ylabel('Cantidad de Usuarios Únicos')\n",
    "plt.grid(True)\n",
    "\n",
    "# Mostrar el gráfico\n",
    "plt.xticks(rotation=45)  # Rotar las etiquetas del eje x para que sean legibles\n",
    "plt.tight_layout()       # Ajustar el diseño para que no se corten las etiquetas\n",
    "plt.show()"
   ]
  },
  {
   "cell_type": "markdown",
   "metadata": {},
   "source": [
    "- **¿Cuántas sesiones hay por día? (Un/a usuario/a puede tener más de una sesión)**\n"
   ]
  },
  {
   "cell_type": "code",
   "execution_count": 17,
   "metadata": {},
   "outputs": [],
   "source": [
    "sessions_by_day = visits.groupby('day').agg({'Uid': 'count'}).reset_index()"
   ]
  },
  {
   "cell_type": "code",
   "execution_count": 18,
   "metadata": {},
   "outputs": [
    {
     "data": {
      "image/png": "[encoded data removed]",
      "text/plain": [
       "<Figure size 1200x600 with 1 Axes>"
      ]
     },
     "metadata": {},
     "output_type": "display_data"
    }
   ],
   "source": [
    "# Crear el gráfico de líneas\n",
    "plt.figure(figsize=(12, 6))\n",
    "plt.plot(sessions_by_day['day'], sessions_by_day['Uid'], marker='.', linestyle='-', color='b')\n",
    "\n",
    "# Añadir títulos y etiquetas\n",
    "plt.title('Número de Sesiones por Día')\n",
    "plt.xlabel('Fecha')\n",
    "plt.ylabel('Número de Sesiones')\n",
    "plt.grid(True)\n",
    "\n",
    "# Mostrar el gráfico\n",
    "plt.xticks(rotation=45)  # Rotar las etiquetas del eje x para que sean legibles\n",
    "plt.tight_layout()       # Ajustar el diseño para que no se corten las etiquetas\n",
    "plt.show()"
   ]
  },
  {
   "cell_type": "markdown",
   "metadata": {},
   "source": [
    "- **¿Cuál es la duración de cada sesión?**\n"
   ]
  },
  {
   "cell_type": "markdown",
   "metadata": {},
   "source": [
    "Para calcular la duración de cada sesión, utilizaremos las columnas \"End Ts\" y \"Start Ts\" de la tabla \"visits\" para obtener su diferencia en segundos."
   ]
  },
  {
   "cell_type": "code",
   "execution_count": 19,
   "metadata": {},
   "outputs": [
    {
     "data": {
      "text/plain": [
       "count    359400.000000\n",
       "mean        643.506489\n",
       "std        1016.334786\n",
       "min           0.000000\n",
       "25%         120.000000\n",
       "50%         300.000000\n",
       "75%         840.000000\n",
       "99%        4500.000000\n",
       "max       84480.000000\n",
       "Name: duration_session, dtype: float64"
      ]
     },
     "execution_count": 19,
     "metadata": {},
     "output_type": "execute_result"
    }
   ],
   "source": [
    "# Crear una nueva columna #duration_session\n",
    "\n",
    "visits[\"duration_session\"] = (visits[\"End Ts\"]-visits[\"Start Ts\"]).dt.seconds\n",
    "\n",
    "# Obtener estadisticos para análisis de su distribución\n",
    "\n",
    "visits[\"duration_session\"].describe(percentiles =[0.25,0.5,0.75,0.99])\n"
   ]
  },
  {
   "cell_type": "markdown",
   "metadata": {},
   "source": [
    "Dado que el 99% de las visitas es menor a 4500 segundos, solo tomaremos la duración de las visitas inferiores a este valor. Esto a fin de quitar del análisis los valores atípicos"
   ]
  },
  {
   "cell_type": "code",
   "execution_count": 20,
   "metadata": {},
   "outputs": [
    {
     "data": {
      "text/plain": [
       "Text(0, 0.5, 'Frecuencia de visitas')"
      ]
     },
     "execution_count": 20,
     "metadata": {},
     "output_type": "execute_result"
    },
    {
     "data": {
      "image/png": "[encoded data removed]",
      "text/plain": [
       "<Figure size 640x480 with 1 Axes>"
      ]
     },
     "metadata": {},
     "output_type": "display_data"
    }
   ],
   "source": [
    "visits.query(\"duration_session < 4500\")[\"duration_session\"].hist()\n",
    "plt.title('Histograma de duración de sesiones')\n",
    "plt.xlabel('Duración de la sesión en segundos')\n",
    "plt.ylabel('Frecuencia de visitas')"
   ]
  },
  {
   "cell_type": "markdown",
   "metadata": {},
   "source": [
    "Del histograma, se observa que alrededor del 75% de las visitas no superan los 840 segundos en la duración de cada sesión."
   ]
  },
  {
   "cell_type": "markdown",
   "metadata": {},
   "source": [
    "- **¿Con qué frecuencia los usuarios y las usuarias regresan?**"
   ]
  },
  {
   "cell_type": "code",
   "execution_count": 21,
   "metadata": {},
   "outputs": [
    {
     "data": {
      "text/html": [
       "<div>\n",
       "<style scoped>\n",
       "    .dataframe tbody tr th:only-of-type {\n",
       "        vertical-align: middle;\n",
       "    }\n",
       "\n",
       "    .dataframe tbody tr th {\n",
       "        vertical-align: top;\n",
       "    }\n",
       "\n",
       "    .dataframe thead th {\n",
       "        text-align: right;\n",
       "    }\n",
       "</style>\n",
       "<table border=\"1\" class=\"dataframe\">\n",
       "  <thead>\n",
       "    <tr style=\"text-align: right;\">\n",
       "      <th></th>\n",
       "      <th>Device</th>\n",
       "      <th>End Ts</th>\n",
       "      <th>Source Id</th>\n",
       "      <th>first_visit_at</th>\n",
       "      <th>Uid</th>\n",
       "      <th>day</th>\n",
       "      <th>week</th>\n",
       "      <th>first_month</th>\n",
       "      <th>duration_session</th>\n",
       "    </tr>\n",
       "  </thead>\n",
       "  <tbody>\n",
       "    <tr>\n",
       "      <th>308527</th>\n",
       "      <td>desktop</td>\n",
       "      <td>2017-06-01 00:02:00</td>\n",
       "      <td>5</td>\n",
       "      <td>2017-06-01 00:01:00</td>\n",
       "      <td>13890188992670018146</td>\n",
       "      <td>2017-06-01</td>\n",
       "      <td>2017-05-29</td>\n",
       "      <td>2017-06-01</td>\n",
       "      <td>60</td>\n",
       "    </tr>\n",
       "    <tr>\n",
       "      <th>260646</th>\n",
       "      <td>desktop</td>\n",
       "      <td>2017-06-01 00:02:00</td>\n",
       "      <td>3</td>\n",
       "      <td>2017-06-01 00:02:00</td>\n",
       "      <td>16152015161748786004</td>\n",
       "      <td>2017-06-01</td>\n",
       "      <td>2017-05-29</td>\n",
       "      <td>2017-06-01</td>\n",
       "      <td>0</td>\n",
       "    </tr>\n",
       "    <tr>\n",
       "      <th>245715</th>\n",
       "      <td>desktop</td>\n",
       "      <td>2017-06-01 00:16:00</td>\n",
       "      <td>3</td>\n",
       "      <td>2017-06-01 00:02:00</td>\n",
       "      <td>16706502037388497502</td>\n",
       "      <td>2017-06-01</td>\n",
       "      <td>2017-05-29</td>\n",
       "      <td>2017-06-01</td>\n",
       "      <td>840</td>\n",
       "    </tr>\n",
       "    <tr>\n",
       "      <th>235930</th>\n",
       "      <td>desktop</td>\n",
       "      <td>2017-06-01 00:04:00</td>\n",
       "      <td>3</td>\n",
       "      <td>2017-06-01 00:04:00</td>\n",
       "      <td>8842918131297115663</td>\n",
       "      <td>2017-06-01</td>\n",
       "      <td>2017-05-29</td>\n",
       "      <td>2017-06-01</td>\n",
       "      <td>0</td>\n",
       "    </tr>\n",
       "    <tr>\n",
       "      <th>11727</th>\n",
       "      <td>desktop</td>\n",
       "      <td>2017-06-01 00:11:00</td>\n",
       "      <td>1</td>\n",
       "      <td>2017-06-01 00:09:00</td>\n",
       "      <td>10329302124590727494</td>\n",
       "      <td>2017-06-01</td>\n",
       "      <td>2017-05-29</td>\n",
       "      <td>2017-06-01</td>\n",
       "      <td>120</td>\n",
       "    </tr>\n",
       "  </tbody>\n",
       "</table>\n",
       "</div>"
      ],
      "text/plain": [
       "         Device              End Ts  Source Id      first_visit_at  \\\n",
       "308527  desktop 2017-06-01 00:02:00          5 2017-06-01 00:01:00   \n",
       "260646  desktop 2017-06-01 00:02:00          3 2017-06-01 00:02:00   \n",
       "245715  desktop 2017-06-01 00:16:00          3 2017-06-01 00:02:00   \n",
       "235930  desktop 2017-06-01 00:04:00          3 2017-06-01 00:04:00   \n",
       "11727   desktop 2017-06-01 00:11:00          1 2017-06-01 00:09:00   \n",
       "\n",
       "                         Uid        day       week first_month  \\\n",
       "308527  13890188992670018146 2017-06-01 2017-05-29  2017-06-01   \n",
       "260646  16152015161748786004 2017-06-01 2017-05-29  2017-06-01   \n",
       "245715  16706502037388497502 2017-06-01 2017-05-29  2017-06-01   \n",
       "235930   8842918131297115663 2017-06-01 2017-05-29  2017-06-01   \n",
       "11727   10329302124590727494 2017-06-01 2017-05-29  2017-06-01   \n",
       "\n",
       "        duration_session  \n",
       "308527                60  \n",
       "260646                 0  \n",
       "245715               840  \n",
       "235930                 0  \n",
       "11727                120  "
      ]
     },
     "execution_count": 21,
     "metadata": {},
     "output_type": "execute_result"
    }
   ],
   "source": [
    "# Obtener el mes de la primera visita para cada usuario\n",
    "\n",
    "first_visits = (\n",
    "    visits.sort_values(by=\"Start Ts\")\n",
    "    .groupby(\"Uid\")\n",
    "    .head(1)\n",
    "    .rename(columns={\"month\": \"first_month\",\n",
    "                    \"Start Ts\":\"first_visit_at\"})\n",
    ")\n",
    "first_visits.head()"
   ]
  },
  {
   "cell_type": "code",
   "execution_count": 22,
   "metadata": {},
   "outputs": [
    {
     "data": {
      "text/html": [
       "<div>\n",
       "<style scoped>\n",
       "    .dataframe tbody tr th:only-of-type {\n",
       "        vertical-align: middle;\n",
       "    }\n",
       "\n",
       "    .dataframe tbody tr th {\n",
       "        vertical-align: top;\n",
       "    }\n",
       "\n",
       "    .dataframe thead th {\n",
       "        text-align: right;\n",
       "    }\n",
       "</style>\n",
       "<table border=\"1\" class=\"dataframe\">\n",
       "  <thead>\n",
       "    <tr style=\"text-align: right;\">\n",
       "      <th>month_age</th>\n",
       "      <th>0</th>\n",
       "      <th>1</th>\n",
       "      <th>2</th>\n",
       "      <th>3</th>\n",
       "      <th>4</th>\n",
       "      <th>5</th>\n",
       "      <th>6</th>\n",
       "      <th>7</th>\n",
       "      <th>8</th>\n",
       "      <th>9</th>\n",
       "      <th>10</th>\n",
       "      <th>11</th>\n",
       "    </tr>\n",
       "    <tr>\n",
       "      <th>first_month</th>\n",
       "      <th></th>\n",
       "      <th></th>\n",
       "      <th></th>\n",
       "      <th></th>\n",
       "      <th></th>\n",
       "      <th></th>\n",
       "      <th></th>\n",
       "      <th></th>\n",
       "      <th></th>\n",
       "      <th></th>\n",
       "      <th></th>\n",
       "      <th></th>\n",
       "    </tr>\n",
       "  </thead>\n",
       "  <tbody>\n",
       "    <tr>\n",
       "      <th>2017-06-01</th>\n",
       "      <td>13259.0</td>\n",
       "      <td>1043.0</td>\n",
       "      <td>713.0</td>\n",
       "      <td>814.0</td>\n",
       "      <td>909.0</td>\n",
       "      <td>947.0</td>\n",
       "      <td>809.0</td>\n",
       "      <td>766.0</td>\n",
       "      <td>694.0</td>\n",
       "      <td>674.0</td>\n",
       "      <td>539.0</td>\n",
       "      <td>596.0</td>\n",
       "    </tr>\n",
       "    <tr>\n",
       "      <th>2017-07-01</th>\n",
       "      <td>13140.0</td>\n",
       "      <td>737.0</td>\n",
       "      <td>674.0</td>\n",
       "      <td>738.0</td>\n",
       "      <td>765.0</td>\n",
       "      <td>633.0</td>\n",
       "      <td>596.0</td>\n",
       "      <td>601.0</td>\n",
       "      <td>510.0</td>\n",
       "      <td>376.0</td>\n",
       "      <td>361.0</td>\n",
       "      <td></td>\n",
       "    </tr>\n",
       "    <tr>\n",
       "      <th>2017-08-01</th>\n",
       "      <td>10181.0</td>\n",
       "      <td>783.0</td>\n",
       "      <td>640.0</td>\n",
       "      <td>639.0</td>\n",
       "      <td>510.0</td>\n",
       "      <td>448.0</td>\n",
       "      <td>370.0</td>\n",
       "      <td>402.0</td>\n",
       "      <td>284.0</td>\n",
       "      <td>265.0</td>\n",
       "      <td></td>\n",
       "      <td></td>\n",
       "    </tr>\n",
       "    <tr>\n",
       "      <th>2017-09-01</th>\n",
       "      <td>16704.0</td>\n",
       "      <td>1428.0</td>\n",
       "      <td>1156.0</td>\n",
       "      <td>847.0</td>\n",
       "      <td>658.0</td>\n",
       "      <td>632.0</td>\n",
       "      <td>599.0</td>\n",
       "      <td>404.0</td>\n",
       "      <td>381.0</td>\n",
       "      <td></td>\n",
       "      <td></td>\n",
       "      <td></td>\n",
       "    </tr>\n",
       "    <tr>\n",
       "      <th>2017-10-01</th>\n",
       "      <td>25977.0</td>\n",
       "      <td>2042.0</td>\n",
       "      <td>1357.0</td>\n",
       "      <td>1012.0</td>\n",
       "      <td>890.0</td>\n",
       "      <td>837.0</td>\n",
       "      <td>555.0</td>\n",
       "      <td>529.0</td>\n",
       "      <td></td>\n",
       "      <td></td>\n",
       "      <td></td>\n",
       "      <td></td>\n",
       "    </tr>\n",
       "    <tr>\n",
       "      <th>2017-11-01</th>\n",
       "      <td>27248.0</td>\n",
       "      <td>2133.0</td>\n",
       "      <td>1202.0</td>\n",
       "      <td>1054.0</td>\n",
       "      <td>919.0</td>\n",
       "      <td>638.0</td>\n",
       "      <td>594.0</td>\n",
       "      <td></td>\n",
       "      <td></td>\n",
       "      <td></td>\n",
       "      <td></td>\n",
       "      <td></td>\n",
       "    </tr>\n",
       "    <tr>\n",
       "      <th>2017-12-01</th>\n",
       "      <td>25268.0</td>\n",
       "      <td>1410.0</td>\n",
       "      <td>960.0</td>\n",
       "      <td>786.0</td>\n",
       "      <td>512.0</td>\n",
       "      <td>481.0</td>\n",
       "      <td></td>\n",
       "      <td></td>\n",
       "      <td></td>\n",
       "      <td></td>\n",
       "      <td></td>\n",
       "      <td></td>\n",
       "    </tr>\n",
       "    <tr>\n",
       "      <th>2018-01-01</th>\n",
       "      <td>22624.0</td>\n",
       "      <td>1351.0</td>\n",
       "      <td>890.0</td>\n",
       "      <td>565.0</td>\n",
       "      <td>458.0</td>\n",
       "      <td></td>\n",
       "      <td></td>\n",
       "      <td></td>\n",
       "      <td></td>\n",
       "      <td></td>\n",
       "      <td></td>\n",
       "      <td></td>\n",
       "    </tr>\n",
       "    <tr>\n",
       "      <th>2018-02-01</th>\n",
       "      <td>22197.0</td>\n",
       "      <td>1267.0</td>\n",
       "      <td>565.0</td>\n",
       "      <td>446.0</td>\n",
       "      <td></td>\n",
       "      <td></td>\n",
       "      <td></td>\n",
       "      <td></td>\n",
       "      <td></td>\n",
       "      <td></td>\n",
       "      <td></td>\n",
       "      <td></td>\n",
       "    </tr>\n",
       "    <tr>\n",
       "      <th>2018-03-01</th>\n",
       "      <td>20589.0</td>\n",
       "      <td>861.0</td>\n",
       "      <td>557.0</td>\n",
       "      <td></td>\n",
       "      <td></td>\n",
       "      <td></td>\n",
       "      <td></td>\n",
       "      <td></td>\n",
       "      <td></td>\n",
       "      <td></td>\n",
       "      <td></td>\n",
       "      <td></td>\n",
       "    </tr>\n",
       "    <tr>\n",
       "      <th>2018-04-01</th>\n",
       "      <td>15709.0</td>\n",
       "      <td>760.0</td>\n",
       "      <td></td>\n",
       "      <td></td>\n",
       "      <td></td>\n",
       "      <td></td>\n",
       "      <td></td>\n",
       "      <td></td>\n",
       "      <td></td>\n",
       "      <td></td>\n",
       "      <td></td>\n",
       "      <td></td>\n",
       "    </tr>\n",
       "    <tr>\n",
       "      <th>2018-05-01</th>\n",
       "      <td>15273.0</td>\n",
       "      <td></td>\n",
       "      <td></td>\n",
       "      <td></td>\n",
       "      <td></td>\n",
       "      <td></td>\n",
       "      <td></td>\n",
       "      <td></td>\n",
       "      <td></td>\n",
       "      <td></td>\n",
       "      <td></td>\n",
       "      <td></td>\n",
       "    </tr>\n",
       "  </tbody>\n",
       "</table>\n",
       "</div>"
      ],
      "text/plain": [
       "month_age         0       1       2       3      4      5      6      7   \\\n",
       "first_month                                                                \n",
       "2017-06-01   13259.0  1043.0   713.0   814.0  909.0  947.0  809.0  766.0   \n",
       "2017-07-01   13140.0   737.0   674.0   738.0  765.0  633.0  596.0  601.0   \n",
       "2017-08-01   10181.0   783.0   640.0   639.0  510.0  448.0  370.0  402.0   \n",
       "2017-09-01   16704.0  1428.0  1156.0   847.0  658.0  632.0  599.0  404.0   \n",
       "2017-10-01   25977.0  2042.0  1357.0  1012.0  890.0  837.0  555.0  529.0   \n",
       "2017-11-01   27248.0  2133.0  1202.0  1054.0  919.0  638.0  594.0          \n",
       "2017-12-01   25268.0  1410.0   960.0   786.0  512.0  481.0                 \n",
       "2018-01-01   22624.0  1351.0   890.0   565.0  458.0                        \n",
       "2018-02-01   22197.0  1267.0   565.0   446.0                               \n",
       "2018-03-01   20589.0   861.0   557.0                                       \n",
       "2018-04-01   15709.0   760.0                                               \n",
       "2018-05-01   15273.0                                                       \n",
       "\n",
       "month_age       8      9      10     11  \n",
       "first_month                              \n",
       "2017-06-01   694.0  674.0  539.0  596.0  \n",
       "2017-07-01   510.0  376.0  361.0         \n",
       "2017-08-01   284.0  265.0                \n",
       "2017-09-01   381.0                       \n",
       "2017-10-01                               \n",
       "2017-11-01                               \n",
       "2017-12-01                               \n",
       "2018-01-01                               \n",
       "2018-02-01                               \n",
       "2018-03-01                               \n",
       "2018-04-01                               \n",
       "2018-05-01                               "
      ]
     },
     "execution_count": 22,
     "metadata": {},
     "output_type": "execute_result"
    }
   ],
   "source": [
    "visits_with_cohort = pd.merge(\n",
    "    visits,\n",
    "    first_visits[[\"Uid\",\"first_month\"]],\n",
    "    on=\"Uid\"\n",
    ")\n",
    "\n",
    "#agregamos la columna \"month_age\" para considerar el mes de la visita en observación respecto al mes de su primer visita\n",
    "\n",
    "visits_with_cohort[\"month_age\"] = visits_with_cohort[\"month\"].dt.month - visits_with_cohort[\"first_month\"].dt.month\n",
    "\n",
    "# Para evitar tener usuarios con atiguedad de meses negativo\n",
    "\n",
    "visits_with_cohort[\"month_age\"] += 12*(visits_with_cohort[\"month\"].dt.year - visits_with_cohort[\"first_month\"].dt.year)\n",
    "\n",
    "#Crearemos una pivot table de los usuarios por cada cohort\n",
    "\n",
    "visits_retention = visits_with_cohort.pivot_table(\n",
    "    index=\"first_month\",\n",
    "    columns=\"month_age\",\n",
    "    values=\"Uid\",\n",
    "    aggfunc=\"nunique\"\n",
    ")\n",
    "\n",
    "visits_retention.fillna(\"\")"
   ]
  },
  {
   "cell_type": "code",
   "execution_count": 23,
   "metadata": {},
   "outputs": [],
   "source": [
    "visits_retention_rate = visits_retention.copy()\n",
    "\n",
    "for col in visits_retention_rate.columns:\n",
    "    visits_retention_rate[col] = visits_retention_rate[col] / visits_retention[0]"
   ]
  },
  {
   "cell_type": "code",
   "execution_count": 24,
   "metadata": {},
   "outputs": [
    {
     "data": {
      "text/html": [
       "<div>\n",
       "<style scoped>\n",
       "    .dataframe tbody tr th:only-of-type {\n",
       "        vertical-align: middle;\n",
       "    }\n",
       "\n",
       "    .dataframe tbody tr th {\n",
       "        vertical-align: top;\n",
       "    }\n",
       "\n",
       "    .dataframe thead th {\n",
       "        text-align: right;\n",
       "    }\n",
       "</style>\n",
       "<table border=\"1\" class=\"dataframe\">\n",
       "  <thead>\n",
       "    <tr style=\"text-align: right;\">\n",
       "      <th>month_age</th>\n",
       "      <th>0</th>\n",
       "      <th>1</th>\n",
       "      <th>2</th>\n",
       "      <th>3</th>\n",
       "      <th>4</th>\n",
       "      <th>5</th>\n",
       "      <th>6</th>\n",
       "      <th>7</th>\n",
       "      <th>8</th>\n",
       "      <th>9</th>\n",
       "      <th>10</th>\n",
       "      <th>11</th>\n",
       "    </tr>\n",
       "    <tr>\n",
       "      <th>first_month</th>\n",
       "      <th></th>\n",
       "      <th></th>\n",
       "      <th></th>\n",
       "      <th></th>\n",
       "      <th></th>\n",
       "      <th></th>\n",
       "      <th></th>\n",
       "      <th></th>\n",
       "      <th></th>\n",
       "      <th></th>\n",
       "      <th></th>\n",
       "      <th></th>\n",
       "    </tr>\n",
       "  </thead>\n",
       "  <tbody>\n",
       "    <tr>\n",
       "      <th>2017-06-01</th>\n",
       "      <td>1.0</td>\n",
       "      <td>0.078664</td>\n",
       "      <td>0.053775</td>\n",
       "      <td>0.061392</td>\n",
       "      <td>0.068557</td>\n",
       "      <td>0.071423</td>\n",
       "      <td>0.061015</td>\n",
       "      <td>0.057772</td>\n",
       "      <td>0.052342</td>\n",
       "      <td>0.050833</td>\n",
       "      <td>0.040652</td>\n",
       "      <td>0.044951</td>\n",
       "    </tr>\n",
       "    <tr>\n",
       "      <th>2017-07-01</th>\n",
       "      <td>1.0</td>\n",
       "      <td>0.056088</td>\n",
       "      <td>0.051294</td>\n",
       "      <td>0.056164</td>\n",
       "      <td>0.058219</td>\n",
       "      <td>0.048174</td>\n",
       "      <td>0.045358</td>\n",
       "      <td>0.045738</td>\n",
       "      <td>0.038813</td>\n",
       "      <td>0.028615</td>\n",
       "      <td>0.027473</td>\n",
       "      <td></td>\n",
       "    </tr>\n",
       "    <tr>\n",
       "      <th>2017-08-01</th>\n",
       "      <td>1.0</td>\n",
       "      <td>0.076908</td>\n",
       "      <td>0.062862</td>\n",
       "      <td>0.062764</td>\n",
       "      <td>0.050093</td>\n",
       "      <td>0.044004</td>\n",
       "      <td>0.036342</td>\n",
       "      <td>0.039485</td>\n",
       "      <td>0.027895</td>\n",
       "      <td>0.026029</td>\n",
       "      <td></td>\n",
       "      <td></td>\n",
       "    </tr>\n",
       "    <tr>\n",
       "      <th>2017-09-01</th>\n",
       "      <td>1.0</td>\n",
       "      <td>0.085489</td>\n",
       "      <td>0.069205</td>\n",
       "      <td>0.050706</td>\n",
       "      <td>0.039392</td>\n",
       "      <td>0.037835</td>\n",
       "      <td>0.03586</td>\n",
       "      <td>0.024186</td>\n",
       "      <td>0.022809</td>\n",
       "      <td></td>\n",
       "      <td></td>\n",
       "      <td></td>\n",
       "    </tr>\n",
       "    <tr>\n",
       "      <th>2017-10-01</th>\n",
       "      <td>1.0</td>\n",
       "      <td>0.078608</td>\n",
       "      <td>0.052239</td>\n",
       "      <td>0.038958</td>\n",
       "      <td>0.034261</td>\n",
       "      <td>0.032221</td>\n",
       "      <td>0.021365</td>\n",
       "      <td>0.020364</td>\n",
       "      <td></td>\n",
       "      <td></td>\n",
       "      <td></td>\n",
       "      <td></td>\n",
       "    </tr>\n",
       "    <tr>\n",
       "      <th>2017-11-01</th>\n",
       "      <td>1.0</td>\n",
       "      <td>0.078281</td>\n",
       "      <td>0.044113</td>\n",
       "      <td>0.038682</td>\n",
       "      <td>0.033727</td>\n",
       "      <td>0.023415</td>\n",
       "      <td>0.0218</td>\n",
       "      <td></td>\n",
       "      <td></td>\n",
       "      <td></td>\n",
       "      <td></td>\n",
       "      <td></td>\n",
       "    </tr>\n",
       "    <tr>\n",
       "      <th>2017-12-01</th>\n",
       "      <td>1.0</td>\n",
       "      <td>0.055802</td>\n",
       "      <td>0.037993</td>\n",
       "      <td>0.031107</td>\n",
       "      <td>0.020263</td>\n",
       "      <td>0.019036</td>\n",
       "      <td></td>\n",
       "      <td></td>\n",
       "      <td></td>\n",
       "      <td></td>\n",
       "      <td></td>\n",
       "      <td></td>\n",
       "    </tr>\n",
       "    <tr>\n",
       "      <th>2018-01-01</th>\n",
       "      <td>1.0</td>\n",
       "      <td>0.059715</td>\n",
       "      <td>0.039339</td>\n",
       "      <td>0.024973</td>\n",
       "      <td>0.020244</td>\n",
       "      <td></td>\n",
       "      <td></td>\n",
       "      <td></td>\n",
       "      <td></td>\n",
       "      <td></td>\n",
       "      <td></td>\n",
       "      <td></td>\n",
       "    </tr>\n",
       "    <tr>\n",
       "      <th>2018-02-01</th>\n",
       "      <td>1.0</td>\n",
       "      <td>0.05708</td>\n",
       "      <td>0.025454</td>\n",
       "      <td>0.020093</td>\n",
       "      <td></td>\n",
       "      <td></td>\n",
       "      <td></td>\n",
       "      <td></td>\n",
       "      <td></td>\n",
       "      <td></td>\n",
       "      <td></td>\n",
       "      <td></td>\n",
       "    </tr>\n",
       "    <tr>\n",
       "      <th>2018-03-01</th>\n",
       "      <td>1.0</td>\n",
       "      <td>0.041818</td>\n",
       "      <td>0.027053</td>\n",
       "      <td></td>\n",
       "      <td></td>\n",
       "      <td></td>\n",
       "      <td></td>\n",
       "      <td></td>\n",
       "      <td></td>\n",
       "      <td></td>\n",
       "      <td></td>\n",
       "      <td></td>\n",
       "    </tr>\n",
       "    <tr>\n",
       "      <th>2018-04-01</th>\n",
       "      <td>1.0</td>\n",
       "      <td>0.04838</td>\n",
       "      <td></td>\n",
       "      <td></td>\n",
       "      <td></td>\n",
       "      <td></td>\n",
       "      <td></td>\n",
       "      <td></td>\n",
       "      <td></td>\n",
       "      <td></td>\n",
       "      <td></td>\n",
       "      <td></td>\n",
       "    </tr>\n",
       "    <tr>\n",
       "      <th>2018-05-01</th>\n",
       "      <td>1.0</td>\n",
       "      <td></td>\n",
       "      <td></td>\n",
       "      <td></td>\n",
       "      <td></td>\n",
       "      <td></td>\n",
       "      <td></td>\n",
       "      <td></td>\n",
       "      <td></td>\n",
       "      <td></td>\n",
       "      <td></td>\n",
       "      <td></td>\n",
       "    </tr>\n",
       "  </tbody>\n",
       "</table>\n",
       "</div>"
      ],
      "text/plain": [
       "month_age     0         1         2         3         4         5         6   \\\n",
       "first_month                                                                    \n",
       "2017-06-01   1.0  0.078664  0.053775  0.061392  0.068557  0.071423  0.061015   \n",
       "2017-07-01   1.0  0.056088  0.051294  0.056164  0.058219  0.048174  0.045358   \n",
       "2017-08-01   1.0  0.076908  0.062862  0.062764  0.050093  0.044004  0.036342   \n",
       "2017-09-01   1.0  0.085489  0.069205  0.050706  0.039392  0.037835   0.03586   \n",
       "2017-10-01   1.0  0.078608  0.052239  0.038958  0.034261  0.032221  0.021365   \n",
       "2017-11-01   1.0  0.078281  0.044113  0.038682  0.033727  0.023415    0.0218   \n",
       "2017-12-01   1.0  0.055802  0.037993  0.031107  0.020263  0.019036             \n",
       "2018-01-01   1.0  0.059715  0.039339  0.024973  0.020244                       \n",
       "2018-02-01   1.0   0.05708  0.025454  0.020093                                 \n",
       "2018-03-01   1.0  0.041818  0.027053                                           \n",
       "2018-04-01   1.0   0.04838                                                     \n",
       "2018-05-01   1.0                                                               \n",
       "\n",
       "month_age          7         8         9         10        11  \n",
       "first_month                                                    \n",
       "2017-06-01   0.057772  0.052342  0.050833  0.040652  0.044951  \n",
       "2017-07-01   0.045738  0.038813  0.028615  0.027473            \n",
       "2017-08-01   0.039485  0.027895  0.026029                      \n",
       "2017-09-01   0.024186  0.022809                                \n",
       "2017-10-01   0.020364                                          \n",
       "2017-11-01                                                     \n",
       "2017-12-01                                                     \n",
       "2018-01-01                                                     \n",
       "2018-02-01                                                     \n",
       "2018-03-01                                                     \n",
       "2018-04-01                                                     \n",
       "2018-05-01                                                     "
      ]
     },
     "execution_count": 24,
     "metadata": {},
     "output_type": "execute_result"
    }
   ],
   "source": [
    "visits_retention_rate.fillna(\"\")"
   ]
  },
  {
   "cell_type": "markdown",
   "metadata": {},
   "source": [
    "A continuación calcularemos el promedio de retención de cada cohorte"
   ]
  },
  {
   "cell_type": "code",
   "execution_count": 25,
   "metadata": {},
   "outputs": [
    {
     "data": {
      "text/plain": [
       "month_age\n",
       "1     0.065167\n",
       "2     0.046333\n",
       "3     0.042760\n",
       "4     0.040595\n",
       "5     0.039444\n",
       "6     0.036957\n",
       "7     0.037509\n",
       "8     0.035465\n",
       "9     0.035159\n",
       "10    0.034062\n",
       "11    0.044951\n",
       "dtype: float64"
      ]
     },
     "execution_count": 25,
     "metadata": {},
     "output_type": "execute_result"
    }
   ],
   "source": [
    "visits_retention_rate.iloc[:,1:].mean()"
   ]
  },
  {
   "cell_type": "code",
   "execution_count": 26,
   "metadata": {},
   "outputs": [
    {
     "data": {
      "text/plain": [
       "<AxesSubplot:xlabel='month_age'>"
      ]
     },
     "execution_count": 26,
     "metadata": {},
     "output_type": "execute_result"
    },
    {
     "data": {
      "image/png": "[encoded data removed]",
      "text/plain": [
       "<Figure size 640x480 with 1 Axes>"
      ]
     },
     "metadata": {},
     "output_type": "display_data"
    }
   ],
   "source": [
    "# Gráfico de líneas con el promedio de retención de los usuarios\n",
    "\n",
    "visits_retention_rate.iloc[:,1:].mean().plot(kind=\"line\")"
   ]
  },
  {
   "cell_type": "markdown",
   "metadata": {},
   "source": [
    "Del gráfico se observa que a partir del mes 11, hay un salto en el promedio de retención, dado que no tenemos suficientes datos y solo se esta considerando la retención 0.044 del cohorte 11."
   ]
  },
  {
   "cell_type": "markdown",
   "metadata": {},
   "source": [
    "## Ventas"
   ]
  },
  {
   "cell_type": "markdown",
   "metadata": {},
   "source": [
    "- **¿Cuándo la gente empieza a comprar? (En el análisis de KPI, generalmente nos interesa saber el tiempo que transcurre entre el registro y la conversión, es decir, cuando el/la usuario/a se convierte en cliente. Por ejemplo, si el registro y la primera compra ocurren el mismo día, el/la usuario/a podría caer en la categoría Conversion 0d. Si la primera compra ocurre al día siguiente, será Conversion 1d.  Puedes usar cualquier enfoque que te permita comparar las conversiones de diferentes cohortes para que puedas determinar qué cohorte o canal de marketing es más efectivo).**"
   ]
  },
  {
   "cell_type": "markdown",
   "metadata": {},
   "source": [
    "El siguiente paso será separar los meses, semanas y días de las columnas de fecha. Vamos a llamar al método .dt.to_period()."
   ]
  },
  {
   "cell_type": "code",
   "execution_count": 27,
   "metadata": {},
   "outputs": [],
   "source": [
    "orders[\"day\"] = orders[\"Buy Ts\"].dt.to_period(\"D\").dt.start_time\n",
    "orders[\"week\"] = orders[\"Buy Ts\"].dt.to_period(\"W\").dt.start_time\n",
    "orders[\"month\"] = orders[\"Buy Ts\"].dt.to_period(\"M\").dt.start_time"
   ]
  },
  {
   "cell_type": "code",
   "execution_count": 28,
   "metadata": {},
   "outputs": [
    {
     "data": {
      "text/html": [
       "<div>\n",
       "<style scoped>\n",
       "    .dataframe tbody tr th:only-of-type {\n",
       "        vertical-align: middle;\n",
       "    }\n",
       "\n",
       "    .dataframe tbody tr th {\n",
       "        vertical-align: top;\n",
       "    }\n",
       "\n",
       "    .dataframe thead th {\n",
       "        text-align: right;\n",
       "    }\n",
       "</style>\n",
       "<table border=\"1\" class=\"dataframe\">\n",
       "  <thead>\n",
       "    <tr style=\"text-align: right;\">\n",
       "      <th></th>\n",
       "      <th>Buy Ts</th>\n",
       "      <th>Revenue</th>\n",
       "      <th>Uid</th>\n",
       "      <th>day</th>\n",
       "      <th>week</th>\n",
       "      <th>month</th>\n",
       "    </tr>\n",
       "  </thead>\n",
       "  <tbody>\n",
       "    <tr>\n",
       "      <th>0</th>\n",
       "      <td>2017-06-01 00:10:00</td>\n",
       "      <td>17.00</td>\n",
       "      <td>10329302124590727494</td>\n",
       "      <td>2017-06-01</td>\n",
       "      <td>2017-05-29</td>\n",
       "      <td>2017-06-01</td>\n",
       "    </tr>\n",
       "    <tr>\n",
       "      <th>1</th>\n",
       "      <td>2017-06-01 00:25:00</td>\n",
       "      <td>0.55</td>\n",
       "      <td>11627257723692907447</td>\n",
       "      <td>2017-06-01</td>\n",
       "      <td>2017-05-29</td>\n",
       "      <td>2017-06-01</td>\n",
       "    </tr>\n",
       "    <tr>\n",
       "      <th>2</th>\n",
       "      <td>2017-06-01 00:27:00</td>\n",
       "      <td>0.37</td>\n",
       "      <td>17903680561304213844</td>\n",
       "      <td>2017-06-01</td>\n",
       "      <td>2017-05-29</td>\n",
       "      <td>2017-06-01</td>\n",
       "    </tr>\n",
       "    <tr>\n",
       "      <th>3</th>\n",
       "      <td>2017-06-01 00:29:00</td>\n",
       "      <td>0.55</td>\n",
       "      <td>16109239769442553005</td>\n",
       "      <td>2017-06-01</td>\n",
       "      <td>2017-05-29</td>\n",
       "      <td>2017-06-01</td>\n",
       "    </tr>\n",
       "    <tr>\n",
       "      <th>4</th>\n",
       "      <td>2017-06-01 07:58:00</td>\n",
       "      <td>0.37</td>\n",
       "      <td>14200605875248379450</td>\n",
       "      <td>2017-06-01</td>\n",
       "      <td>2017-05-29</td>\n",
       "      <td>2017-06-01</td>\n",
       "    </tr>\n",
       "  </tbody>\n",
       "</table>\n",
       "</div>"
      ],
      "text/plain": [
       "               Buy Ts  Revenue                   Uid        day       week  \\\n",
       "0 2017-06-01 00:10:00    17.00  10329302124590727494 2017-06-01 2017-05-29   \n",
       "1 2017-06-01 00:25:00     0.55  11627257723692907447 2017-06-01 2017-05-29   \n",
       "2 2017-06-01 00:27:00     0.37  17903680561304213844 2017-06-01 2017-05-29   \n",
       "3 2017-06-01 00:29:00     0.55  16109239769442553005 2017-06-01 2017-05-29   \n",
       "4 2017-06-01 07:58:00     0.37  14200605875248379450 2017-06-01 2017-05-29   \n",
       "\n",
       "       month  \n",
       "0 2017-06-01  \n",
       "1 2017-06-01  \n",
       "2 2017-06-01  \n",
       "3 2017-06-01  \n",
       "4 2017-06-01  "
      ]
     },
     "execution_count": 28,
     "metadata": {},
     "output_type": "execute_result"
    }
   ],
   "source": [
    "orders.head()"
   ]
  },
  {
   "cell_type": "code",
   "execution_count": 29,
   "metadata": {},
   "outputs": [
    {
     "data": {
      "text/html": [
       "<div>\n",
       "<style scoped>\n",
       "    .dataframe tbody tr th:only-of-type {\n",
       "        vertical-align: middle;\n",
       "    }\n",
       "\n",
       "    .dataframe tbody tr th {\n",
       "        vertical-align: top;\n",
       "    }\n",
       "\n",
       "    .dataframe thead th {\n",
       "        text-align: right;\n",
       "    }\n",
       "</style>\n",
       "<table border=\"1\" class=\"dataframe\">\n",
       "  <thead>\n",
       "    <tr style=\"text-align: right;\">\n",
       "      <th></th>\n",
       "      <th>first_order_at</th>\n",
       "      <th>Revenue</th>\n",
       "      <th>Uid</th>\n",
       "      <th>day</th>\n",
       "      <th>week</th>\n",
       "      <th>first_order_month</th>\n",
       "    </tr>\n",
       "  </thead>\n",
       "  <tbody>\n",
       "    <tr>\n",
       "      <th>0</th>\n",
       "      <td>2017-06-01 00:10:00</td>\n",
       "      <td>17.00</td>\n",
       "      <td>10329302124590727494</td>\n",
       "      <td>2017-06-01</td>\n",
       "      <td>2017-05-29</td>\n",
       "      <td>2017-06-01</td>\n",
       "    </tr>\n",
       "    <tr>\n",
       "      <th>1</th>\n",
       "      <td>2017-06-01 00:25:00</td>\n",
       "      <td>0.55</td>\n",
       "      <td>11627257723692907447</td>\n",
       "      <td>2017-06-01</td>\n",
       "      <td>2017-05-29</td>\n",
       "      <td>2017-06-01</td>\n",
       "    </tr>\n",
       "    <tr>\n",
       "      <th>2</th>\n",
       "      <td>2017-06-01 00:27:00</td>\n",
       "      <td>0.37</td>\n",
       "      <td>17903680561304213844</td>\n",
       "      <td>2017-06-01</td>\n",
       "      <td>2017-05-29</td>\n",
       "      <td>2017-06-01</td>\n",
       "    </tr>\n",
       "    <tr>\n",
       "      <th>3</th>\n",
       "      <td>2017-06-01 00:29:00</td>\n",
       "      <td>0.55</td>\n",
       "      <td>16109239769442553005</td>\n",
       "      <td>2017-06-01</td>\n",
       "      <td>2017-05-29</td>\n",
       "      <td>2017-06-01</td>\n",
       "    </tr>\n",
       "    <tr>\n",
       "      <th>4</th>\n",
       "      <td>2017-06-01 07:58:00</td>\n",
       "      <td>0.37</td>\n",
       "      <td>14200605875248379450</td>\n",
       "      <td>2017-06-01</td>\n",
       "      <td>2017-05-29</td>\n",
       "      <td>2017-06-01</td>\n",
       "    </tr>\n",
       "  </tbody>\n",
       "</table>\n",
       "</div>"
      ],
      "text/plain": [
       "       first_order_at  Revenue                   Uid        day       week  \\\n",
       "0 2017-06-01 00:10:00    17.00  10329302124590727494 2017-06-01 2017-05-29   \n",
       "1 2017-06-01 00:25:00     0.55  11627257723692907447 2017-06-01 2017-05-29   \n",
       "2 2017-06-01 00:27:00     0.37  17903680561304213844 2017-06-01 2017-05-29   \n",
       "3 2017-06-01 00:29:00     0.55  16109239769442553005 2017-06-01 2017-05-29   \n",
       "4 2017-06-01 07:58:00     0.37  14200605875248379450 2017-06-01 2017-05-29   \n",
       "\n",
       "  first_order_month  \n",
       "0        2017-06-01  \n",
       "1        2017-06-01  \n",
       "2        2017-06-01  \n",
       "3        2017-06-01  \n",
       "4        2017-06-01  "
      ]
     },
     "execution_count": 29,
     "metadata": {},
     "output_type": "execute_result"
    }
   ],
   "source": [
    "# Obtener el mes de la primera compra para cada usuario\n",
    "\n",
    "first_orders = (\n",
    "     orders.sort_values(by=\"Buy Ts\")\n",
    "    .groupby(\"Uid\")\n",
    "    .head(1)\n",
    "    .rename(columns={\"month\": \"first_order_month\",\n",
    "                    \"Buy Ts\":\"first_order_at\"})\n",
    ")\n",
    "first_orders.head()"
   ]
  },
  {
   "cell_type": "code",
   "execution_count": 30,
   "metadata": {},
   "outputs": [
    {
     "data": {
      "text/html": [
       "<div>\n",
       "<style scoped>\n",
       "    .dataframe tbody tr th:only-of-type {\n",
       "        vertical-align: middle;\n",
       "    }\n",
       "\n",
       "    .dataframe tbody tr th {\n",
       "        vertical-align: top;\n",
       "    }\n",
       "\n",
       "    .dataframe thead th {\n",
       "        text-align: right;\n",
       "    }\n",
       "</style>\n",
       "<table border=\"1\" class=\"dataframe\">\n",
       "  <thead>\n",
       "    <tr style=\"text-align: right;\">\n",
       "      <th></th>\n",
       "      <th>Uid</th>\n",
       "      <th>first_order_at</th>\n",
       "      <th>first_order_month</th>\n",
       "      <th>first_visit_at</th>\n",
       "      <th>first_month</th>\n",
       "      <th>Source Id</th>\n",
       "      <th>time_to_order</th>\n",
       "    </tr>\n",
       "  </thead>\n",
       "  <tbody>\n",
       "    <tr>\n",
       "      <th>0</th>\n",
       "      <td>10329302124590727494</td>\n",
       "      <td>2017-06-01 00:10:00</td>\n",
       "      <td>2017-06-01</td>\n",
       "      <td>2017-06-01 00:09:00</td>\n",
       "      <td>2017-06-01</td>\n",
       "      <td>1</td>\n",
       "      <td>0.016667</td>\n",
       "    </tr>\n",
       "    <tr>\n",
       "      <th>1</th>\n",
       "      <td>11627257723692907447</td>\n",
       "      <td>2017-06-01 00:25:00</td>\n",
       "      <td>2017-06-01</td>\n",
       "      <td>2017-06-01 00:14:00</td>\n",
       "      <td>2017-06-01</td>\n",
       "      <td>2</td>\n",
       "      <td>0.183333</td>\n",
       "    </tr>\n",
       "    <tr>\n",
       "      <th>2</th>\n",
       "      <td>17903680561304213844</td>\n",
       "      <td>2017-06-01 00:27:00</td>\n",
       "      <td>2017-06-01</td>\n",
       "      <td>2017-06-01 00:25:00</td>\n",
       "      <td>2017-06-01</td>\n",
       "      <td>2</td>\n",
       "      <td>0.033333</td>\n",
       "    </tr>\n",
       "    <tr>\n",
       "      <th>3</th>\n",
       "      <td>16109239769442553005</td>\n",
       "      <td>2017-06-01 00:29:00</td>\n",
       "      <td>2017-06-01</td>\n",
       "      <td>2017-06-01 00:14:00</td>\n",
       "      <td>2017-06-01</td>\n",
       "      <td>2</td>\n",
       "      <td>0.250000</td>\n",
       "    </tr>\n",
       "    <tr>\n",
       "      <th>4</th>\n",
       "      <td>14200605875248379450</td>\n",
       "      <td>2017-06-01 07:58:00</td>\n",
       "      <td>2017-06-01</td>\n",
       "      <td>2017-06-01 07:31:00</td>\n",
       "      <td>2017-06-01</td>\n",
       "      <td>3</td>\n",
       "      <td>0.450000</td>\n",
       "    </tr>\n",
       "  </tbody>\n",
       "</table>\n",
       "</div>"
      ],
      "text/plain": [
       "                    Uid      first_order_at first_order_month  \\\n",
       "0  10329302124590727494 2017-06-01 00:10:00        2017-06-01   \n",
       "1  11627257723692907447 2017-06-01 00:25:00        2017-06-01   \n",
       "2  17903680561304213844 2017-06-01 00:27:00        2017-06-01   \n",
       "3  16109239769442553005 2017-06-01 00:29:00        2017-06-01   \n",
       "4  14200605875248379450 2017-06-01 07:58:00        2017-06-01   \n",
       "\n",
       "       first_visit_at first_month  Source Id  time_to_order  \n",
       "0 2017-06-01 00:09:00  2017-06-01          1       0.016667  \n",
       "1 2017-06-01 00:14:00  2017-06-01          2       0.183333  \n",
       "2 2017-06-01 00:25:00  2017-06-01          2       0.033333  \n",
       "3 2017-06-01 00:14:00  2017-06-01          2       0.250000  \n",
       "4 2017-06-01 07:31:00  2017-06-01          3       0.450000  "
      ]
     },
     "execution_count": 30,
     "metadata": {},
     "output_type": "execute_result"
    }
   ],
   "source": [
    "# Fusionamos las tablas que contienen las columnas con las primeras visitas y las primeras compras de cada usuario\n",
    "\n",
    "conversion_times = pd.merge(\n",
    "    first_orders[[\"Uid\",\"first_order_at\", \"first_order_month\"]],\n",
    "    first_visits[[\"Uid\", \"first_visit_at\",\"first_month\", \"Source Id\"]]\n",
    ")\n",
    "\n",
    "# Creamos una nueva columna \"time_to_order\" para calcular la diferencia en horas entre las columnas \"first_order_at\" y \"first_visit_at\"\n",
    "\n",
    "conversion_times[\"time_to_order\"] = conversion_times[\"first_order_at\"] - conversion_times[\"first_visit_at\"]\n",
    "\n",
    "# Calculamos el porcentaje de conversión acumulada\n",
    "\n",
    "conversion_times[\"time_to_order\"] /= np.timedelta64(1, \"h\")\n",
    "\n",
    "conversion_times.head()"
   ]
  },
  {
   "cell_type": "code",
   "execution_count": 31,
   "metadata": {},
   "outputs": [],
   "source": [
    "total_users = len(conversion_times)"
   ]
  },
  {
   "cell_type": "code",
   "execution_count": 32,
   "metadata": {},
   "outputs": [
    {
     "name": "stdout",
     "output_type": "stream",
     "text": [
      "\n",
      "usuarios 0d: 0.7218191276729732\n",
      "usuarios 1d: 0.7495003148700818\n",
      "usuarios 2d: 0.7649152588779673\n",
      "usuarios 3d: 0.7767981819675273\n",
      "usuarios 7d: 0.8061495495988829\n",
      "usuarios 30d: 0.8657832051036334\n",
      "usuarios 365d: 1.0\n",
      "\n",
      "\n"
     ]
    }
   ],
   "source": [
    "print(f\"\"\"\n",
    "usuarios 0d: {sum(conversion_times[\"time_to_order\"] < 24) / total_users}\n",
    "usuarios 1d: {sum(conversion_times[\"time_to_order\"] < 48) / total_users}\n",
    "usuarios 2d: {sum(conversion_times[\"time_to_order\"] < 72) / total_users}\n",
    "usuarios 3d: {sum(conversion_times[\"time_to_order\"] < 96) / total_users}\n",
    "usuarios 7d: {sum(conversion_times[\"time_to_order\"] < 192) / total_users}\n",
    "usuarios 30d: {sum(conversion_times[\"time_to_order\"] < 744) / total_users}\n",
    "usuarios 365d: {sum(conversion_times[\"time_to_order\"] < 8784) / total_users}\n",
    "\n",
    "\"\"\")\n",
    "\n",
    "#el 75% de los usuarios compro entre 0 y 24 horas"
   ]
  },
  {
   "cell_type": "markdown",
   "metadata": {},
   "source": [
    "- **¿Cuántos pedidos hacen durante un período de tiempo dado?**"
   ]
  },
  {
   "cell_type": "code",
   "execution_count": 33,
   "metadata": {},
   "outputs": [
    {
     "name": "stdout",
     "output_type": "stream",
     "text": [
      "pedidos promedio por día: \n"
     ]
    },
    {
     "data": {
      "text/plain": [
       "138.50274725274724"
      ]
     },
     "execution_count": 33,
     "metadata": {},
     "output_type": "execute_result"
    }
   ],
   "source": [
    "# Agrupamos por día realizando un conteo, y calculamos el promedio\n",
    "\n",
    "orders_by_day = orders.groupby('day').size().mean()\n",
    "print(\"pedidos promedio por día: \")\n",
    "orders_by_day\n"
   ]
  },
  {
   "cell_type": "code",
   "execution_count": 34,
   "metadata": {},
   "outputs": [
    {
     "name": "stdout",
     "output_type": "stream",
     "text": [
      "pedidos promedio por semana: \n"
     ]
    },
    {
     "data": {
      "text/plain": [
       "951.2264150943396"
      ]
     },
     "execution_count": 34,
     "metadata": {},
     "output_type": "execute_result"
    }
   ],
   "source": [
    "# Agrupamos por semana realizando un conteo, y calculamos el promedio\n",
    "\n",
    "orders_by_week = orders.groupby('week').size().mean()\n",
    "print(\"pedidos promedio por semana: \")\n",
    "orders_by_week"
   ]
  },
  {
   "cell_type": "code",
   "execution_count": 35,
   "metadata": {},
   "outputs": [
    {
     "name": "stdout",
     "output_type": "stream",
     "text": [
      "pedidos promedio por mes: \n"
     ]
    },
    {
     "data": {
      "text/plain": [
       "3878.076923076923"
      ]
     },
     "execution_count": 35,
     "metadata": {},
     "output_type": "execute_result"
    }
   ],
   "source": [
    "# Agrupamos por mes realizando un conteo, y calculamos el promedio\n",
    "\n",
    "orders_by_month = orders.groupby('month').size().mean()\n",
    "print(\"pedidos promedio por mes: \")\n",
    "orders_by_month"
   ]
  },
  {
   "cell_type": "markdown",
   "metadata": {},
   "source": [
    "- **¿Cuál es el tamaño promedio de compra?**"
   ]
  },
  {
   "cell_type": "code",
   "execution_count": 36,
   "metadata": {},
   "outputs": [
    {
     "name": "stdout",
     "output_type": "stream",
     "text": [
      "Tamaño promedio de compra: \n"
     ]
    },
    {
     "data": {
      "text/plain": [
       "4.999646930477041"
      ]
     },
     "execution_count": 36,
     "metadata": {},
     "output_type": "execute_result"
    }
   ],
   "source": [
    "# Calculamos el promedio general de la columna \"Revenue\" de la tabla \"orders\"\n",
    "average_order = orders['Revenue'].mean()\n",
    "print(\"Tamaño promedio de compra: \")\n",
    "average_order\n",
    "\n"
   ]
  },
  {
   "cell_type": "code",
   "execution_count": 37,
   "metadata": {},
   "outputs": [
    {
     "name": "stdout",
     "output_type": "stream",
     "text": [
      "LTV por usuario: \n"
     ]
    },
    {
     "data": {
      "text/plain": [
       "6.901327930345262"
      ]
     },
     "execution_count": 37,
     "metadata": {},
     "output_type": "execute_result"
    }
   ],
   "source": [
    "# Calculate the lifetime value (LTV) per user\n",
    "average_by_user = orders.groupby('Uid')['Revenue'].sum().mean()\n",
    "\n",
    "print(\"LTV por usuario: \")\n",
    "average_by_user"
   ]
  },
  {
   "cell_type": "markdown",
   "metadata": {},
   "source": [
    "- **¿Cuánto dinero traen? (LTV)**"
   ]
  },
  {
   "cell_type": "code",
   "execution_count": 38,
   "metadata": {},
   "outputs": [
    {
     "data": {
      "text/html": [
       "<div>\n",
       "<style scoped>\n",
       "    .dataframe tbody tr th:only-of-type {\n",
       "        vertical-align: middle;\n",
       "    }\n",
       "\n",
       "    .dataframe tbody tr th {\n",
       "        vertical-align: top;\n",
       "    }\n",
       "\n",
       "    .dataframe thead th {\n",
       "        text-align: right;\n",
       "    }\n",
       "</style>\n",
       "<table border=\"1\" class=\"dataframe\">\n",
       "  <thead>\n",
       "    <tr style=\"text-align: right;\">\n",
       "      <th></th>\n",
       "      <th>month_age</th>\n",
       "      <th>source_id</th>\n",
       "      <th>total_revenue</th>\n",
       "    </tr>\n",
       "  </thead>\n",
       "  <tbody>\n",
       "    <tr>\n",
       "      <th>0</th>\n",
       "      <td>0</td>\n",
       "      <td>1</td>\n",
       "      <td>214223.36</td>\n",
       "    </tr>\n",
       "    <tr>\n",
       "      <th>1</th>\n",
       "      <td>0</td>\n",
       "      <td>2</td>\n",
       "      <td>197792.96</td>\n",
       "    </tr>\n",
       "    <tr>\n",
       "      <th>2</th>\n",
       "      <td>0</td>\n",
       "      <td>3</td>\n",
       "      <td>72908.28</td>\n",
       "    </tr>\n",
       "    <tr>\n",
       "      <th>3</th>\n",
       "      <td>0</td>\n",
       "      <td>4</td>\n",
       "      <td>98822.74</td>\n",
       "    </tr>\n",
       "    <tr>\n",
       "      <th>4</th>\n",
       "      <td>0</td>\n",
       "      <td>5</td>\n",
       "      <td>326965.98</td>\n",
       "    </tr>\n",
       "    <tr>\n",
       "      <th>...</th>\n",
       "      <td>...</td>\n",
       "      <td>...</td>\n",
       "      <td>...</td>\n",
       "    </tr>\n",
       "    <tr>\n",
       "      <th>80</th>\n",
       "      <td>11</td>\n",
       "      <td>3</td>\n",
       "      <td>13722.55</td>\n",
       "    </tr>\n",
       "    <tr>\n",
       "      <th>81</th>\n",
       "      <td>11</td>\n",
       "      <td>4</td>\n",
       "      <td>15608.35</td>\n",
       "    </tr>\n",
       "    <tr>\n",
       "      <th>82</th>\n",
       "      <td>11</td>\n",
       "      <td>5</td>\n",
       "      <td>15289.91</td>\n",
       "    </tr>\n",
       "    <tr>\n",
       "      <th>83</th>\n",
       "      <td>11</td>\n",
       "      <td>9</td>\n",
       "      <td>882.06</td>\n",
       "    </tr>\n",
       "    <tr>\n",
       "      <th>84</th>\n",
       "      <td>11</td>\n",
       "      <td>10</td>\n",
       "      <td>27.61</td>\n",
       "    </tr>\n",
       "  </tbody>\n",
       "</table>\n",
       "<p>85 rows × 3 columns</p>\n",
       "</div>"
      ],
      "text/plain": [
       "    month_age  source_id  total_revenue\n",
       "0           0          1      214223.36\n",
       "1           0          2      197792.96\n",
       "2           0          3       72908.28\n",
       "3           0          4       98822.74\n",
       "4           0          5      326965.98\n",
       "..        ...        ...            ...\n",
       "80         11          3       13722.55\n",
       "81         11          4       15608.35\n",
       "82         11          5       15289.91\n",
       "83         11          9         882.06\n",
       "84         11         10          27.61\n",
       "\n",
       "[85 rows x 3 columns]"
      ]
     },
     "execution_count": 38,
     "metadata": {},
     "output_type": "execute_result"
    }
   ],
   "source": [
    "#Unir las tablas \"orders\" y \"visits_with_cohort\", a fin de conectar la columna \"Source Id\" con \"orders\"\n",
    "orders = orders.merge(visits_with_cohort[['Uid', 'Source Id', 'month_age']], on='Uid', how='left')\n",
    "\n",
    "#Calcular ingreso total por cohort y source_id\n",
    "income_cohorte_source = orders.groupby(['month_age', 'Source Id'])['Revenue'].sum().reset_index()\n",
    "income_cohorte_source.columns = ['month_age', 'source_id', 'total_revenue']\n",
    "income_cohorte_source"
   ]
  },
  {
   "cell_type": "code",
   "execution_count": 39,
   "metadata": {},
   "outputs": [],
   "source": [
    "# Creamos un pivot table con cohorts como filas y source_id como columnas\n",
    "\n",
    "table = income_cohorte_source.pivot_table(\n",
    "    index='month_age',\n",
    "    columns='source_id',\n",
    "    values='total_revenue',\n",
    "    aggfunc='sum'\n",
    ")"
   ]
  },
  {
   "cell_type": "code",
   "execution_count": 40,
   "metadata": {},
   "outputs": [],
   "source": [
    "# Calculamos el numero de usuarios\n",
    "users = orders.groupby(['month_age', 'Source Id'])['Uid'].nunique().reset_index()\n",
    "users.columns = ['month_age', 'source_id', 'unique_users']"
   ]
  },
  {
   "cell_type": "code",
   "execution_count": 41,
   "metadata": {},
   "outputs": [],
   "source": [
    "# Visualizamos el numero de usuarios con un pivot table: cohortes como filas y fuentes como columnas\n",
    "\n",
    "users_pivot = users.pivot_table(\n",
    "    index='month_age',\n",
    "    columns='source_id',\n",
    "    values='unique_users',\n",
    "    aggfunc='sum')"
   ]
  },
  {
   "cell_type": "code",
   "execution_count": 42,
   "metadata": {},
   "outputs": [],
   "source": [
    "# LTV = Ingresos / numero de usuarios\n",
    "\n",
    "LVT = table / users_pivot  "
   ]
  },
  {
   "cell_type": "code",
   "execution_count": 43,
   "metadata": {},
   "outputs": [
    {
     "data": {
      "image/png": "[encoded data removed]",
      "text/plain": [
       "<Figure size 800x600 with 1 Axes>"
      ]
     },
     "metadata": {},
     "output_type": "display_data"
    }
   ],
   "source": [
    "# Graficar LTV por Cohorte\n",
    "plt.figure(figsize=(8, 6))\n",
    "table.sum(axis=1).plot(kind='bar')\n",
    "plt.title('LTV por Cohorte')\n",
    "plt.xlabel('Cohorte')\n",
    "plt.ylabel('Ingresos')\n",
    "plt.show()"
   ]
  },
  {
   "cell_type": "code",
   "execution_count": 44,
   "metadata": {},
   "outputs": [
    {
     "data": {
      "image/png": "[encoded data removed]",
      "text/plain": [
       "<Figure size 800x600 with 1 Axes>"
      ]
     },
     "metadata": {},
     "output_type": "display_data"
    }
   ],
   "source": [
    "# Graficar LTV por Fuente\n",
    "plt.figure(figsize=(8, 6))\n",
    "table.sum(axis=0).plot(kind='bar')\n",
    "plt.title('LTV por Fuente')\n",
    "plt.xlabel('Fuente')\n",
    "plt.ylabel('Ingresos Totales')\n",
    "plt.show()"
   ]
  },
  {
   "cell_type": "markdown",
   "metadata": {},
   "source": [
    "## Marketing\n",
    " \n",
    "- **¿Cuánto dinero se gastó? (Total/por fuente de adquisición/a lo largo del tiempo)**"
   ]
  },
  {
   "cell_type": "markdown",
   "metadata": {},
   "source": [
    "El siguiente paso será separar los meses, semanas y días de las columnas de fecha. Vamos a llamar al método .dt.to_period()."
   ]
  },
  {
   "cell_type": "code",
   "execution_count": 45,
   "metadata": {},
   "outputs": [],
   "source": [
    "costs[\"day\"] = costs[\"dt\"].dt.to_period(\"D\").dt.start_time\n",
    "costs[\"week\"] = costs[\"dt\"].dt.to_period(\"W\").dt.start_time\n",
    "costs[\"month\"] = costs[\"dt\"].dt.to_period(\"M\").dt.start_time"
   ]
  },
  {
   "cell_type": "code",
   "execution_count": 46,
   "metadata": {},
   "outputs": [
    {
     "data": {
      "text/html": [
       "<div>\n",
       "<style scoped>\n",
       "    .dataframe tbody tr th:only-of-type {\n",
       "        vertical-align: middle;\n",
       "    }\n",
       "\n",
       "    .dataframe tbody tr th {\n",
       "        vertical-align: top;\n",
       "    }\n",
       "\n",
       "    .dataframe thead th {\n",
       "        text-align: right;\n",
       "    }\n",
       "</style>\n",
       "<table border=\"1\" class=\"dataframe\">\n",
       "  <thead>\n",
       "    <tr style=\"text-align: right;\">\n",
       "      <th>source_id</th>\n",
       "      <th>1</th>\n",
       "      <th>2</th>\n",
       "      <th>3</th>\n",
       "      <th>4</th>\n",
       "      <th>5</th>\n",
       "      <th>9</th>\n",
       "      <th>10</th>\n",
       "    </tr>\n",
       "    <tr>\n",
       "      <th>cohorte</th>\n",
       "      <th></th>\n",
       "      <th></th>\n",
       "      <th></th>\n",
       "      <th></th>\n",
       "      <th></th>\n",
       "      <th></th>\n",
       "      <th></th>\n",
       "    </tr>\n",
       "  </thead>\n",
       "  <tbody>\n",
       "    <tr>\n",
       "      <th>2017-06-01</th>\n",
       "      <td>1125.61</td>\n",
       "      <td>2427.38</td>\n",
       "      <td>7731.65</td>\n",
       "      <td>3514.80</td>\n",
       "      <td>2616.12</td>\n",
       "      <td>285.22</td>\n",
       "      <td>314.22</td>\n",
       "    </tr>\n",
       "    <tr>\n",
       "      <th>2017-07-01</th>\n",
       "      <td>1072.88</td>\n",
       "      <td>2333.11</td>\n",
       "      <td>7674.37</td>\n",
       "      <td>3529.73</td>\n",
       "      <td>2998.14</td>\n",
       "      <td>302.54</td>\n",
       "      <td>329.82</td>\n",
       "    </tr>\n",
       "    <tr>\n",
       "      <th>2017-08-01</th>\n",
       "      <td>951.81</td>\n",
       "      <td>1811.05</td>\n",
       "      <td>6143.54</td>\n",
       "      <td>3217.36</td>\n",
       "      <td>2185.28</td>\n",
       "      <td>248.93</td>\n",
       "      <td>232.57</td>\n",
       "    </tr>\n",
       "    <tr>\n",
       "      <th>2017-09-01</th>\n",
       "      <td>1502.01</td>\n",
       "      <td>2985.66</td>\n",
       "      <td>9963.55</td>\n",
       "      <td>5192.26</td>\n",
       "      <td>3849.14</td>\n",
       "      <td>415.62</td>\n",
       "      <td>460.67</td>\n",
       "    </tr>\n",
       "    <tr>\n",
       "      <th>2017-10-01</th>\n",
       "      <td>2315.75</td>\n",
       "      <td>4845.00</td>\n",
       "      <td>15737.24</td>\n",
       "      <td>6420.84</td>\n",
       "      <td>5767.40</td>\n",
       "      <td>609.41</td>\n",
       "      <td>627.24</td>\n",
       "    </tr>\n",
       "    <tr>\n",
       "      <th>2017-11-01</th>\n",
       "      <td>2445.16</td>\n",
       "      <td>5247.68</td>\n",
       "      <td>17025.34</td>\n",
       "      <td>5388.82</td>\n",
       "      <td>6325.34</td>\n",
       "      <td>683.18</td>\n",
       "      <td>792.36</td>\n",
       "    </tr>\n",
       "    <tr>\n",
       "      <th>2017-12-01</th>\n",
       "      <td>2341.20</td>\n",
       "      <td>4897.80</td>\n",
       "      <td>16219.52</td>\n",
       "      <td>7680.47</td>\n",
       "      <td>5872.52</td>\n",
       "      <td>657.98</td>\n",
       "      <td>645.86</td>\n",
       "    </tr>\n",
       "    <tr>\n",
       "      <th>2018-01-01</th>\n",
       "      <td>2186.18</td>\n",
       "      <td>4157.74</td>\n",
       "      <td>14808.78</td>\n",
       "      <td>5832.79</td>\n",
       "      <td>5371.52</td>\n",
       "      <td>547.16</td>\n",
       "      <td>614.35</td>\n",
       "    </tr>\n",
       "    <tr>\n",
       "      <th>2018-02-01</th>\n",
       "      <td>2204.48</td>\n",
       "      <td>4474.34</td>\n",
       "      <td>14228.56</td>\n",
       "      <td>5711.96</td>\n",
       "      <td>5071.31</td>\n",
       "      <td>551.50</td>\n",
       "      <td>480.88</td>\n",
       "    </tr>\n",
       "    <tr>\n",
       "      <th>2018-03-01</th>\n",
       "      <td>1893.09</td>\n",
       "      <td>3943.14</td>\n",
       "      <td>13080.85</td>\n",
       "      <td>5961.87</td>\n",
       "      <td>4529.62</td>\n",
       "      <td>480.29</td>\n",
       "      <td>526.41</td>\n",
       "    </tr>\n",
       "    <tr>\n",
       "      <th>2018-04-01</th>\n",
       "      <td>1327.49</td>\n",
       "      <td>2993.70</td>\n",
       "      <td>9296.81</td>\n",
       "      <td>4408.49</td>\n",
       "      <td>3501.15</td>\n",
       "      <td>373.49</td>\n",
       "      <td>388.25</td>\n",
       "    </tr>\n",
       "    <tr>\n",
       "      <th>2018-05-01</th>\n",
       "      <td>1467.61</td>\n",
       "      <td>2689.44</td>\n",
       "      <td>9411.42</td>\n",
       "      <td>4214.21</td>\n",
       "      <td>3669.56</td>\n",
       "      <td>362.17</td>\n",
       "      <td>409.86</td>\n",
       "    </tr>\n",
       "  </tbody>\n",
       "</table>\n",
       "</div>"
      ],
      "text/plain": [
       "source_id        1        2         3        4        5       9       10\n",
       "cohorte                                                                 \n",
       "2017-06-01  1125.61  2427.38   7731.65  3514.80  2616.12  285.22  314.22\n",
       "2017-07-01  1072.88  2333.11   7674.37  3529.73  2998.14  302.54  329.82\n",
       "2017-08-01   951.81  1811.05   6143.54  3217.36  2185.28  248.93  232.57\n",
       "2017-09-01  1502.01  2985.66   9963.55  5192.26  3849.14  415.62  460.67\n",
       "2017-10-01  2315.75  4845.00  15737.24  6420.84  5767.40  609.41  627.24\n",
       "2017-11-01  2445.16  5247.68  17025.34  5388.82  6325.34  683.18  792.36\n",
       "2017-12-01  2341.20  4897.80  16219.52  7680.47  5872.52  657.98  645.86\n",
       "2018-01-01  2186.18  4157.74  14808.78  5832.79  5371.52  547.16  614.35\n",
       "2018-02-01  2204.48  4474.34  14228.56  5711.96  5071.31  551.50  480.88\n",
       "2018-03-01  1893.09  3943.14  13080.85  5961.87  4529.62  480.29  526.41\n",
       "2018-04-01  1327.49  2993.70   9296.81  4408.49  3501.15  373.49  388.25\n",
       "2018-05-01  1467.61  2689.44   9411.42  4214.21  3669.56  362.17  409.86"
      ]
     },
     "execution_count": 46,
     "metadata": {},
     "output_type": "execute_result"
    }
   ],
   "source": [
    "# Calcular los gastos totales por cohorte y fuente de anuncio\n",
    "costs = costs.rename(columns={\"month\":\"cohorte\"})\n",
    "costs_cohorte_source = pd.DataFrame(costs.groupby(['cohorte', 'source_id'],\n",
    "                                      observed=True)['costs']\n",
    "                        .sum()\n",
    "                        .rename(\"total_cost\")\n",
    "                        )\n",
    "costs_cohorte_source_pivot = costs_cohorte_source.pivot_table(\n",
    "    index='cohorte',\n",
    "    columns='source_id',\n",
    "    values='total_cost',\n",
    "    aggfunc='sum')\n",
    "\n",
    "costs_cohorte_source_pivot"
   ]
  },
  {
   "cell_type": "code",
   "execution_count": 47,
   "metadata": {},
   "outputs": [
    {
     "name": "stdout",
     "output_type": "stream",
     "text": [
      "El costo diario fue de: 129.48\n"
     ]
    }
   ],
   "source": [
    "# Calculamos el costo diario por fuente\n",
    "\n",
    "daily_cost = (costs.groupby(['source_id', 'day'], observed=True)['costs'].sum())\n",
    "print(f\"El costo diario fue de: {daily_cost.mean():.2f}\")"
   ]
  },
  {
   "cell_type": "markdown",
   "metadata": {},
   "source": [
    "- **¿Cuál fue el costo de adquisición de clientes de cada una de las fuentes?**"
   ]
  },
  {
   "cell_type": "code",
   "execution_count": 48,
   "metadata": {},
   "outputs": [
    {
     "data": {
      "text/html": [
       "<div>\n",
       "<style scoped>\n",
       "    .dataframe tbody tr th:only-of-type {\n",
       "        vertical-align: middle;\n",
       "    }\n",
       "\n",
       "    .dataframe tbody tr th {\n",
       "        vertical-align: top;\n",
       "    }\n",
       "\n",
       "    .dataframe thead th {\n",
       "        text-align: right;\n",
       "    }\n",
       "</style>\n",
       "<table border=\"1\" class=\"dataframe\">\n",
       "  <thead>\n",
       "    <tr style=\"text-align: right;\">\n",
       "      <th></th>\n",
       "      <th>Device</th>\n",
       "      <th>End Ts</th>\n",
       "      <th>Source Id</th>\n",
       "      <th>Start Ts</th>\n",
       "      <th>Uid</th>\n",
       "      <th>day</th>\n",
       "      <th>week</th>\n",
       "      <th>month</th>\n",
       "      <th>duration_session</th>\n",
       "      <th>first_month</th>\n",
       "      <th>month_age</th>\n",
       "      <th>first_day</th>\n",
       "    </tr>\n",
       "  </thead>\n",
       "  <tbody>\n",
       "    <tr>\n",
       "      <th>0</th>\n",
       "      <td>touch</td>\n",
       "      <td>2017-12-20 17:38:00</td>\n",
       "      <td>4</td>\n",
       "      <td>2017-12-20 17:20:00</td>\n",
       "      <td>16879256277535980062</td>\n",
       "      <td>2017-12-20</td>\n",
       "      <td>2017-12-18</td>\n",
       "      <td>2017-12-01</td>\n",
       "      <td>1080</td>\n",
       "      <td>2017-12-01</td>\n",
       "      <td>0</td>\n",
       "      <td>2017-12-20</td>\n",
       "    </tr>\n",
       "    <tr>\n",
       "      <th>1</th>\n",
       "      <td>desktop</td>\n",
       "      <td>2018-02-19 17:21:00</td>\n",
       "      <td>2</td>\n",
       "      <td>2018-02-19 16:53:00</td>\n",
       "      <td>104060357244891740</td>\n",
       "      <td>2018-02-19</td>\n",
       "      <td>2018-02-19</td>\n",
       "      <td>2018-02-01</td>\n",
       "      <td>1680</td>\n",
       "      <td>2018-02-01</td>\n",
       "      <td>0</td>\n",
       "      <td>2018-02-19</td>\n",
       "    </tr>\n",
       "    <tr>\n",
       "      <th>2</th>\n",
       "      <td>touch</td>\n",
       "      <td>2017-07-01 01:54:00</td>\n",
       "      <td>5</td>\n",
       "      <td>2017-07-01 01:54:00</td>\n",
       "      <td>7459035603376831527</td>\n",
       "      <td>2017-07-01</td>\n",
       "      <td>2017-06-26</td>\n",
       "      <td>2017-07-01</td>\n",
       "      <td>0</td>\n",
       "      <td>2017-07-01</td>\n",
       "      <td>0</td>\n",
       "      <td>2017-07-01</td>\n",
       "    </tr>\n",
       "    <tr>\n",
       "      <th>3</th>\n",
       "      <td>desktop</td>\n",
       "      <td>2018-05-20 11:23:00</td>\n",
       "      <td>9</td>\n",
       "      <td>2018-05-20 10:59:00</td>\n",
       "      <td>16174680259334210214</td>\n",
       "      <td>2018-05-20</td>\n",
       "      <td>2018-05-14</td>\n",
       "      <td>2018-05-01</td>\n",
       "      <td>1440</td>\n",
       "      <td>2018-03-01</td>\n",
       "      <td>2</td>\n",
       "      <td>2018-03-09</td>\n",
       "    </tr>\n",
       "    <tr>\n",
       "      <th>4</th>\n",
       "      <td>desktop</td>\n",
       "      <td>2018-03-09 20:33:00</td>\n",
       "      <td>4</td>\n",
       "      <td>2018-03-09 20:05:00</td>\n",
       "      <td>16174680259334210214</td>\n",
       "      <td>2018-03-09</td>\n",
       "      <td>2018-03-05</td>\n",
       "      <td>2018-03-01</td>\n",
       "      <td>1680</td>\n",
       "      <td>2018-03-01</td>\n",
       "      <td>0</td>\n",
       "      <td>2018-03-09</td>\n",
       "    </tr>\n",
       "    <tr>\n",
       "      <th>...</th>\n",
       "      <td>...</td>\n",
       "      <td>...</td>\n",
       "      <td>...</td>\n",
       "      <td>...</td>\n",
       "      <td>...</td>\n",
       "      <td>...</td>\n",
       "      <td>...</td>\n",
       "      <td>...</td>\n",
       "      <td>...</td>\n",
       "      <td>...</td>\n",
       "      <td>...</td>\n",
       "      <td>...</td>\n",
       "    </tr>\n",
       "    <tr>\n",
       "      <th>359395</th>\n",
       "      <td>desktop</td>\n",
       "      <td>2018-04-23 21:19:00</td>\n",
       "      <td>10</td>\n",
       "      <td>2018-04-23 21:11:00</td>\n",
       "      <td>12734910664455613822</td>\n",
       "      <td>2018-04-23</td>\n",
       "      <td>2018-04-23</td>\n",
       "      <td>2018-04-01</td>\n",
       "      <td>480</td>\n",
       "      <td>2018-04-01</td>\n",
       "      <td>0</td>\n",
       "      <td>2018-04-23</td>\n",
       "    </tr>\n",
       "    <tr>\n",
       "      <th>359396</th>\n",
       "      <td>desktop</td>\n",
       "      <td>2017-11-08 13:39:00</td>\n",
       "      <td>4</td>\n",
       "      <td>2017-11-08 13:39:00</td>\n",
       "      <td>6761309174945977743</td>\n",
       "      <td>2017-11-08</td>\n",
       "      <td>2017-11-06</td>\n",
       "      <td>2017-11-01</td>\n",
       "      <td>0</td>\n",
       "      <td>2017-11-01</td>\n",
       "      <td>0</td>\n",
       "      <td>2017-11-08</td>\n",
       "    </tr>\n",
       "    <tr>\n",
       "      <th>359397</th>\n",
       "      <td>desktop</td>\n",
       "      <td>2017-07-31 12:31:00</td>\n",
       "      <td>3</td>\n",
       "      <td>2017-07-31 12:13:00</td>\n",
       "      <td>11102751930812818282</td>\n",
       "      <td>2017-07-31</td>\n",
       "      <td>2017-07-31</td>\n",
       "      <td>2017-07-01</td>\n",
       "      <td>1080</td>\n",
       "      <td>2017-07-01</td>\n",
       "      <td>0</td>\n",
       "      <td>2017-07-31</td>\n",
       "    </tr>\n",
       "    <tr>\n",
       "      <th>359398</th>\n",
       "      <td>desktop</td>\n",
       "      <td>2018-03-20 15:25:00</td>\n",
       "      <td>4</td>\n",
       "      <td>2018-03-20 15:11:00</td>\n",
       "      <td>272012551460639309</td>\n",
       "      <td>2018-03-20</td>\n",
       "      <td>2018-03-19</td>\n",
       "      <td>2018-03-01</td>\n",
       "      <td>840</td>\n",
       "      <td>2018-03-01</td>\n",
       "      <td>0</td>\n",
       "      <td>2018-03-20</td>\n",
       "    </tr>\n",
       "    <tr>\n",
       "      <th>359399</th>\n",
       "      <td>touch</td>\n",
       "      <td>2018-04-03 11:23:00</td>\n",
       "      <td>5</td>\n",
       "      <td>2018-04-03 11:19:00</td>\n",
       "      <td>3266363999948772866</td>\n",
       "      <td>2018-04-03</td>\n",
       "      <td>2018-04-02</td>\n",
       "      <td>2018-04-01</td>\n",
       "      <td>240</td>\n",
       "      <td>2018-04-01</td>\n",
       "      <td>0</td>\n",
       "      <td>2018-04-03</td>\n",
       "    </tr>\n",
       "  </tbody>\n",
       "</table>\n",
       "<p>359400 rows × 12 columns</p>\n",
       "</div>"
      ],
      "text/plain": [
       "         Device              End Ts  Source Id            Start Ts  \\\n",
       "0         touch 2017-12-20 17:38:00          4 2017-12-20 17:20:00   \n",
       "1       desktop 2018-02-19 17:21:00          2 2018-02-19 16:53:00   \n",
       "2         touch 2017-07-01 01:54:00          5 2017-07-01 01:54:00   \n",
       "3       desktop 2018-05-20 11:23:00          9 2018-05-20 10:59:00   \n",
       "4       desktop 2018-03-09 20:33:00          4 2018-03-09 20:05:00   \n",
       "...         ...                 ...        ...                 ...   \n",
       "359395  desktop 2018-04-23 21:19:00         10 2018-04-23 21:11:00   \n",
       "359396  desktop 2017-11-08 13:39:00          4 2017-11-08 13:39:00   \n",
       "359397  desktop 2017-07-31 12:31:00          3 2017-07-31 12:13:00   \n",
       "359398  desktop 2018-03-20 15:25:00          4 2018-03-20 15:11:00   \n",
       "359399    touch 2018-04-03 11:23:00          5 2018-04-03 11:19:00   \n",
       "\n",
       "                         Uid        day       week      month  \\\n",
       "0       16879256277535980062 2017-12-20 2017-12-18 2017-12-01   \n",
       "1         104060357244891740 2018-02-19 2018-02-19 2018-02-01   \n",
       "2        7459035603376831527 2017-07-01 2017-06-26 2017-07-01   \n",
       "3       16174680259334210214 2018-05-20 2018-05-14 2018-05-01   \n",
       "4       16174680259334210214 2018-03-09 2018-03-05 2018-03-01   \n",
       "...                      ...        ...        ...        ...   \n",
       "359395  12734910664455613822 2018-04-23 2018-04-23 2018-04-01   \n",
       "359396   6761309174945977743 2017-11-08 2017-11-06 2017-11-01   \n",
       "359397  11102751930812818282 2017-07-31 2017-07-31 2017-07-01   \n",
       "359398    272012551460639309 2018-03-20 2018-03-19 2018-03-01   \n",
       "359399   3266363999948772866 2018-04-03 2018-04-02 2018-04-01   \n",
       "\n",
       "        duration_session first_month  month_age  first_day  \n",
       "0                   1080  2017-12-01          0 2017-12-20  \n",
       "1                   1680  2018-02-01          0 2018-02-19  \n",
       "2                      0  2017-07-01          0 2017-07-01  \n",
       "3                   1440  2018-03-01          2 2018-03-09  \n",
       "4                   1680  2018-03-01          0 2018-03-09  \n",
       "...                  ...         ...        ...        ...  \n",
       "359395               480  2018-04-01          0 2018-04-23  \n",
       "359396                 0  2017-11-01          0 2017-11-08  \n",
       "359397              1080  2017-07-01          0 2017-07-31  \n",
       "359398               840  2018-03-01          0 2018-03-20  \n",
       "359399               240  2018-04-01          0 2018-04-03  \n",
       "\n",
       "[359400 rows x 12 columns]"
      ]
     },
     "execution_count": 48,
     "metadata": {},
     "output_type": "execute_result"
    }
   ],
   "source": [
    "visits_with_cohort = visits_with_cohort.assign(\n",
    "    first_day=visits_with_cohort.groupby('Uid')['day'].transform('min')\n",
    "    )\n",
    "visits_with_cohort"
   ]
  },
  {
   "cell_type": "code",
   "execution_count": 49,
   "metadata": {},
   "outputs": [
    {
     "data": {
      "text/html": [
       "<div>\n",
       "<style scoped>\n",
       "    .dataframe tbody tr th:only-of-type {\n",
       "        vertical-align: middle;\n",
       "    }\n",
       "\n",
       "    .dataframe tbody tr th {\n",
       "        vertical-align: top;\n",
       "    }\n",
       "\n",
       "    .dataframe thead th {\n",
       "        text-align: right;\n",
       "    }\n",
       "</style>\n",
       "<table border=\"1\" class=\"dataframe\">\n",
       "  <thead>\n",
       "    <tr style=\"text-align: right;\">\n",
       "      <th></th>\n",
       "      <th></th>\n",
       "      <th>costs</th>\n",
       "      <th>new_users</th>\n",
       "    </tr>\n",
       "    <tr>\n",
       "      <th>source_id</th>\n",
       "      <th>day</th>\n",
       "      <th></th>\n",
       "      <th></th>\n",
       "    </tr>\n",
       "  </thead>\n",
       "  <tbody>\n",
       "    <tr>\n",
       "      <th rowspan=\"5\" valign=\"top\">1</th>\n",
       "      <th>2017-06-01</th>\n",
       "      <td>75.20</td>\n",
       "      <td>112</td>\n",
       "    </tr>\n",
       "    <tr>\n",
       "      <th>2017-06-02</th>\n",
       "      <td>62.25</td>\n",
       "      <td>71</td>\n",
       "    </tr>\n",
       "    <tr>\n",
       "      <th>2017-06-03</th>\n",
       "      <td>36.53</td>\n",
       "      <td>50</td>\n",
       "    </tr>\n",
       "    <tr>\n",
       "      <th>2017-06-04</th>\n",
       "      <td>55.00</td>\n",
       "      <td>57</td>\n",
       "    </tr>\n",
       "    <tr>\n",
       "      <th>2017-06-05</th>\n",
       "      <td>57.08</td>\n",
       "      <td>103</td>\n",
       "    </tr>\n",
       "    <tr>\n",
       "      <th>...</th>\n",
       "      <th>...</th>\n",
       "      <td>...</td>\n",
       "      <td>...</td>\n",
       "    </tr>\n",
       "    <tr>\n",
       "      <th rowspan=\"5\" valign=\"top\">10</th>\n",
       "      <th>2018-05-27</th>\n",
       "      <td>9.92</td>\n",
       "      <td>5</td>\n",
       "    </tr>\n",
       "    <tr>\n",
       "      <th>2018-05-28</th>\n",
       "      <td>21.26</td>\n",
       "      <td>34</td>\n",
       "    </tr>\n",
       "    <tr>\n",
       "      <th>2018-05-29</th>\n",
       "      <td>11.32</td>\n",
       "      <td>24</td>\n",
       "    </tr>\n",
       "    <tr>\n",
       "      <th>2018-05-30</th>\n",
       "      <td>33.15</td>\n",
       "      <td>60</td>\n",
       "    </tr>\n",
       "    <tr>\n",
       "      <th>2018-05-31</th>\n",
       "      <td>17.60</td>\n",
       "      <td>107</td>\n",
       "    </tr>\n",
       "  </tbody>\n",
       "</table>\n",
       "<p>2539 rows × 2 columns</p>\n",
       "</div>"
      ],
      "text/plain": [
       "                      costs  new_users\n",
       "source_id day                         \n",
       "1         2017-06-01  75.20        112\n",
       "          2017-06-02  62.25         71\n",
       "          2017-06-03  36.53         50\n",
       "          2017-06-04  55.00         57\n",
       "          2017-06-05  57.08        103\n",
       "...                     ...        ...\n",
       "10        2018-05-27   9.92          5\n",
       "          2018-05-28  21.26         34\n",
       "          2018-05-29  11.32         24\n",
       "          2018-05-30  33.15         60\n",
       "          2018-05-31  17.60        107\n",
       "\n",
       "[2539 rows x 2 columns]"
      ]
     },
     "execution_count": 49,
     "metadata": {},
     "output_type": "execute_result"
    }
   ],
   "source": [
    "first_orders_source = (visits_with_cohort[[\"Uid\",\"Source Id\", \"first_day\"]]\n",
    "                       .rename(columns={\"Source Id\":\"source_id\",\n",
    "                                        \"first_day\":'day'}))\n",
    "\n",
    "# Encontramos la adquisición diaria uniendo las tablas anteriores\n",
    "daily_adq = (\n",
    "    first_orders_source\n",
    "    .groupby(['source_id', 'day'])['Uid']\n",
    "    .nunique()\n",
    ").rename('new_users')\n",
    "\n",
    "# Calculamos el CAC por dia\n",
    "\n",
    "daily_cac = pd.merge(daily_cost, daily_adq, left_index=True, right_index=True)\n",
    "\n",
    "daily_cac"
   ]
  },
  {
   "cell_type": "code",
   "execution_count": 50,
   "metadata": {},
   "outputs": [
    {
     "data": {
      "text/html": [
       "<div>\n",
       "<style scoped>\n",
       "    .dataframe tbody tr th:only-of-type {\n",
       "        vertical-align: middle;\n",
       "    }\n",
       "\n",
       "    .dataframe tbody tr th {\n",
       "        vertical-align: top;\n",
       "    }\n",
       "\n",
       "    .dataframe thead th {\n",
       "        text-align: right;\n",
       "    }\n",
       "</style>\n",
       "<table border=\"1\" class=\"dataframe\">\n",
       "  <thead>\n",
       "    <tr style=\"text-align: right;\">\n",
       "      <th></th>\n",
       "      <th>costs</th>\n",
       "      <th>new_users</th>\n",
       "      <th>CAC</th>\n",
       "    </tr>\n",
       "    <tr>\n",
       "      <th>source_id</th>\n",
       "      <th></th>\n",
       "      <th></th>\n",
       "      <th></th>\n",
       "    </tr>\n",
       "  </thead>\n",
       "  <tbody>\n",
       "    <tr>\n",
       "      <th>1</th>\n",
       "      <td>20833.27</td>\n",
       "      <td>18998</td>\n",
       "      <td>1.096603</td>\n",
       "    </tr>\n",
       "    <tr>\n",
       "      <th>2</th>\n",
       "      <td>42806.04</td>\n",
       "      <td>26245</td>\n",
       "      <td>1.631017</td>\n",
       "    </tr>\n",
       "    <tr>\n",
       "      <th>3</th>\n",
       "      <td>141321.63</td>\n",
       "      <td>74756</td>\n",
       "      <td>1.890439</td>\n",
       "    </tr>\n",
       "    <tr>\n",
       "      <th>4</th>\n",
       "      <td>61073.60</td>\n",
       "      <td>83525</td>\n",
       "      <td>0.731201</td>\n",
       "    </tr>\n",
       "    <tr>\n",
       "      <th>5</th>\n",
       "      <td>51756.40</td>\n",
       "      <td>56974</td>\n",
       "      <td>0.908421</td>\n",
       "    </tr>\n",
       "    <tr>\n",
       "      <th>9</th>\n",
       "      <td>5497.39</td>\n",
       "      <td>9264</td>\n",
       "      <td>0.593414</td>\n",
       "    </tr>\n",
       "    <tr>\n",
       "      <th>10</th>\n",
       "      <td>5822.49</td>\n",
       "      <td>8067</td>\n",
       "      <td>0.721766</td>\n",
       "    </tr>\n",
       "  </tbody>\n",
       "</table>\n",
       "</div>"
      ],
      "text/plain": [
       "               costs  new_users       CAC\n",
       "source_id                                \n",
       "1           20833.27      18998  1.096603\n",
       "2           42806.04      26245  1.631017\n",
       "3          141321.63      74756  1.890439\n",
       "4           61073.60      83525  0.731201\n",
       "5           51756.40      56974  0.908421\n",
       "9            5497.39       9264  0.593414\n",
       "10           5822.49       8067  0.721766"
      ]
     },
     "execution_count": 50,
     "metadata": {},
     "output_type": "execute_result"
    }
   ],
   "source": [
    "# Calculamos el CAC poe fuente\n",
    "\n",
    "CAC_source = (daily_cac.groupby('source_id').sum()\n",
    "                .assign(CAC=lambda x: x['costs'] / x['new_users'])\n",
    ")\n",
    "\n",
    "CAC_source"
   ]
  },
  {
   "cell_type": "code",
   "execution_count": 51,
   "metadata": {},
   "outputs": [
    {
     "data": {
      "image/png": "[encoded data removed]",
      "text/plain": [
       "<Figure size 800x600 with 1 Axes>"
      ]
     },
     "metadata": {},
     "output_type": "display_data"
    }
   ],
   "source": [
    "# Gráfico CAC\n",
    "\n",
    "plt.figure(figsize=(8, 6))\n",
    "CAC_source['CAC'].plot(kind='bar')\n",
    "plt.title('CAC por Fuente')\n",
    "plt.xlabel('Fuente')\n",
    "plt.ylabel('CAC')\n",
    "plt.show()"
   ]
  },
  {
   "cell_type": "markdown",
   "metadata": {},
   "source": [
    "- **¿Cuán rentables eran las inversiones? (ROMI)**"
   ]
  },
  {
   "cell_type": "code",
   "execution_count": 52,
   "metadata": {},
   "outputs": [],
   "source": [
    "# Calculamos el LTV por fuente:\n",
    "LTV_source = table.sum(axis=0).rename(\"LTV\")\n",
    "\n",
    "data_source = CAC_source.join(LTV_source)\n",
    "data_source = data_source.assign(ROMI=data_source['LTV'] / data_source['CAC'])"
   ]
  },
  {
   "cell_type": "code",
   "execution_count": 53,
   "metadata": {},
   "outputs": [
    {
     "data": {
      "text/html": [
       "<div>\n",
       "<style scoped>\n",
       "    .dataframe tbody tr th:only-of-type {\n",
       "        vertical-align: middle;\n",
       "    }\n",
       "\n",
       "    .dataframe tbody tr th {\n",
       "        vertical-align: top;\n",
       "    }\n",
       "\n",
       "    .dataframe thead th {\n",
       "        text-align: right;\n",
       "    }\n",
       "</style>\n",
       "<table border=\"1\" class=\"dataframe\">\n",
       "  <thead>\n",
       "    <tr style=\"text-align: right;\">\n",
       "      <th></th>\n",
       "      <th>CAC</th>\n",
       "      <th>LTV</th>\n",
       "      <th>ROMI</th>\n",
       "    </tr>\n",
       "    <tr>\n",
       "      <th>source_id</th>\n",
       "      <th></th>\n",
       "      <th></th>\n",
       "      <th></th>\n",
       "    </tr>\n",
       "  </thead>\n",
       "  <tbody>\n",
       "    <tr>\n",
       "      <th>1</th>\n",
       "      <td>1.096603</td>\n",
       "      <td>2298200.17</td>\n",
       "      <td>2.095744e+06</td>\n",
       "    </tr>\n",
       "    <tr>\n",
       "      <th>2</th>\n",
       "      <td>1.631017</td>\n",
       "      <td>2638189.21</td>\n",
       "      <td>1.617512e+06</td>\n",
       "    </tr>\n",
       "    <tr>\n",
       "      <th>3</th>\n",
       "      <td>1.890439</td>\n",
       "      <td>296687.96</td>\n",
       "      <td>1.569413e+05</td>\n",
       "    </tr>\n",
       "    <tr>\n",
       "      <th>4</th>\n",
       "      <td>0.731201</td>\n",
       "      <td>496690.17</td>\n",
       "      <td>6.792795e+05</td>\n",
       "    </tr>\n",
       "    <tr>\n",
       "      <th>5</th>\n",
       "      <td>0.908421</td>\n",
       "      <td>1181477.14</td>\n",
       "      <td>1.300583e+06</td>\n",
       "    </tr>\n",
       "    <tr>\n",
       "      <th>9</th>\n",
       "      <td>0.593414</td>\n",
       "      <td>36342.25</td>\n",
       "      <td>6.124263e+04</td>\n",
       "    </tr>\n",
       "    <tr>\n",
       "      <th>10</th>\n",
       "      <td>0.721766</td>\n",
       "      <td>14619.23</td>\n",
       "      <td>2.025479e+04</td>\n",
       "    </tr>\n",
       "  </tbody>\n",
       "</table>\n",
       "</div>"
      ],
      "text/plain": [
       "                CAC         LTV          ROMI\n",
       "source_id                                    \n",
       "1          1.096603  2298200.17  2.095744e+06\n",
       "2          1.631017  2638189.21  1.617512e+06\n",
       "3          1.890439   296687.96  1.569413e+05\n",
       "4          0.731201   496690.17  6.792795e+05\n",
       "5          0.908421  1181477.14  1.300583e+06\n",
       "9          0.593414    36342.25  6.124263e+04\n",
       "10         0.721766    14619.23  2.025479e+04"
      ]
     },
     "execution_count": 53,
     "metadata": {},
     "output_type": "execute_result"
    }
   ],
   "source": [
    "data_source[[\"CAC\",\"LTV\",\"ROMI\"]]"
   ]
  },
  {
   "cell_type": "code",
   "execution_count": 54,
   "metadata": {},
   "outputs": [
    {
     "data": {
      "image/png": "[encoded data removed]",
      "text/plain": [
       "<Figure size 800x600 with 1 Axes>"
      ]
     },
     "metadata": {},
     "output_type": "display_data"
    }
   ],
   "source": [
    "# Graficamos el ROMI\n",
    "\n",
    "plt.figure(figsize=(8, 6))\n",
    "data_source['ROMI'].plot(kind='bar')\n",
    "plt.title('ROMI por Fuente')\n",
    "plt.xlabel('Fuente')\n",
    "plt.ylabel('ROMI')\n",
    "plt.xticks(rotation=0)\n",
    "plt.show()"
   ]
  },
  {
   "cell_type": "markdown",
   "metadata": {},
   "source": [
    "# Conclusiones\n",
    "\n",
    "Luego de analizar los gastos de marketing de Y.Afishade, se concluye que la evaluación del retorno sobre la inversión en marketing (ROMI) ofrece una visión clara sobre la eficiencia de cada fuente de inversión, revelando cómo cada unidad monetaria invertida se traduce en ingresos. Las fuentes con un ROMI elevado demuestran una rentabilidad excepcional y, por lo tanto, deberían ser el foco principal de las inversiones futuras.\n",
    "\n",
    "En particular, la Fuente 1 destaca por ser el ROMI mas alto de 2.095.740, indicando que por cada unidad monetaria invertida, se generan 2.095.740 unidades monetarias en ingresos. Esta fuente no solo es la más eficiente, sino que también representa la mejor oportunidad para maximizar el retorno de inversión, por lo que debería recibir una porción significativa del presupuesto de marketing. La Fuente 2, con un ROMI igualmente impresionante de 1.65, también sugiere una rentabilidad superior y merece una inversión adicional. Del mismo modo, la Fuente 5, con un ROMI de 1,300 sigue siendo una opción altamente rentable que justifica una atención continua.\n",
    "\n",
    "En contraste, las Fuentes 10 y 9, aunque rentables con ROMIs de 20.254 y 61.019 respectivamente, muestran un retorno significativamente menor en comparación con las principales fuentes mencionadas. Esto sugiere que estas fuentes, aunque no carecen de valor, podrían no justificar el mismo nivel de inversión en relación con el costo de oportunidad que presentan.\n",
    "\n",
    "En resumen, para optimizar el retorno de las inversiones de marketing, es esencial concentrar los recursos en las fuentes con los ROMI más altos, como las fuentes 1, 5 y 2. Las fuentes con un ROMI más bajo deben ser cuidadosamente reevaluadas para determinar si su rendimiento justifica la continuación de la inversión o si es más beneficioso redistribuir los recursos hacia opciones más rentables."
   ]
  }
 ],
 "metadata": {
  "ExecuteTimeLog": [
   {
    "duration": 4239,
    "start_time": "2024-08-15T14:51:33.078Z"
   },
   {
    "duration": 424,
    "start_time": "2024-08-15T14:54:55.903Z"
   },
   {
    "duration": 623,
    "start_time": "2024-08-15T14:55:20.945Z"
   },
   {
    "duration": 718,
    "start_time": "2024-08-15T14:55:29.783Z"
   },
   {
    "duration": 564,
    "start_time": "2024-08-15T14:55:35.729Z"
   },
   {
    "duration": 684,
    "start_time": "2024-08-15T14:58:09.253Z"
   },
   {
    "duration": 25,
    "start_time": "2024-08-15T14:59:18.011Z"
   },
   {
    "duration": 59,
    "start_time": "2024-08-15T14:59:25.195Z"
   },
   {
    "duration": 15,
    "start_time": "2024-08-15T15:02:48.049Z"
   },
   {
    "duration": 14,
    "start_time": "2024-08-15T15:05:06.409Z"
   },
   {
    "duration": 11,
    "start_time": "2024-08-15T15:05:28.718Z"
   },
   {
    "duration": 15,
    "start_time": "2024-08-15T15:05:59.654Z"
   },
   {
    "duration": 11,
    "start_time": "2024-08-15T15:06:13.779Z"
   },
   {
    "duration": 102,
    "start_time": "2024-08-15T15:34:45.369Z"
   },
   {
    "duration": 35,
    "start_time": "2024-08-15T15:35:08.083Z"
   },
   {
    "duration": 21,
    "start_time": "2024-08-15T15:36:03.272Z"
   },
   {
    "duration": 111,
    "start_time": "2024-08-15T15:36:36.783Z"
   },
   {
    "duration": 12,
    "start_time": "2024-08-15T15:38:51.333Z"
   },
   {
    "duration": 705,
    "start_time": "2024-08-15T15:41:54.646Z"
   },
   {
    "duration": 731,
    "start_time": "2024-08-15T15:41:55.355Z"
   },
   {
    "duration": 64,
    "start_time": "2024-08-15T15:41:56.089Z"
   },
   {
    "duration": 20,
    "start_time": "2024-08-15T15:41:56.157Z"
   },
   {
    "duration": 219,
    "start_time": "2024-08-15T15:41:56.181Z"
   },
   {
    "duration": 27,
    "start_time": "2024-08-15T15:41:56.402Z"
   },
   {
    "duration": 16,
    "start_time": "2024-08-15T15:41:56.432Z"
   },
   {
    "duration": 10,
    "start_time": "2024-08-15T15:41:56.451Z"
   },
   {
    "duration": 21,
    "start_time": "2024-08-15T15:41:56.464Z"
   },
   {
    "duration": 14,
    "start_time": "2024-08-15T15:41:56.525Z"
   },
   {
    "duration": 22,
    "start_time": "2024-08-15T15:41:56.542Z"
   },
   {
    "duration": 74,
    "start_time": "2024-08-15T16:14:44.794Z"
   },
   {
    "duration": 206,
    "start_time": "2024-08-15T16:15:59.282Z"
   },
   {
    "duration": 17,
    "start_time": "2024-08-15T16:16:03.490Z"
   },
   {
    "duration": 7,
    "start_time": "2024-08-15T16:24:16.504Z"
   },
   {
    "duration": 117,
    "start_time": "2024-08-15T16:24:38.345Z"
   },
   {
    "duration": 114,
    "start_time": "2024-08-15T16:24:50.324Z"
   },
   {
    "duration": 116,
    "start_time": "2024-08-15T16:26:13.001Z"
   },
   {
    "duration": 484,
    "start_time": "2024-08-15T16:26:54.652Z"
   },
   {
    "duration": 117,
    "start_time": "2024-08-15T16:27:11.619Z"
   },
   {
    "duration": 109,
    "start_time": "2024-08-15T16:29:07.849Z"
   },
   {
    "duration": 1069,
    "start_time": "2024-08-15T16:31:44.981Z"
   },
   {
    "duration": 228,
    "start_time": "2024-08-15T16:32:14.355Z"
   },
   {
    "duration": 17,
    "start_time": "2024-08-15T16:32:17.284Z"
   },
   {
    "duration": 123,
    "start_time": "2024-08-15T16:32:17.704Z"
   },
   {
    "duration": 119,
    "start_time": "2024-08-15T16:32:18.076Z"
   },
   {
    "duration": 120,
    "start_time": "2024-08-15T16:32:22.527Z"
   },
   {
    "duration": 24,
    "start_time": "2024-08-15T16:37:18.831Z"
   },
   {
    "duration": 479,
    "start_time": "2024-08-15T16:49:29.391Z"
   },
   {
    "duration": 19,
    "start_time": "2024-08-15T16:49:39.087Z"
   },
   {
    "duration": 23,
    "start_time": "2024-08-15T16:50:06.341Z"
   },
   {
    "duration": 21,
    "start_time": "2024-08-15T16:50:41.970Z"
   },
   {
    "duration": 33,
    "start_time": "2024-08-15T16:51:16.875Z"
   },
   {
    "duration": 35,
    "start_time": "2024-08-15T16:52:42.083Z"
   },
   {
    "duration": 259,
    "start_time": "2024-08-15T16:54:49.021Z"
   },
   {
    "duration": 4597,
    "start_time": "2024-08-16T02:24:28.630Z"
   },
   {
    "duration": 823,
    "start_time": "2024-08-16T02:24:33.233Z"
   },
   {
    "duration": 69,
    "start_time": "2024-08-16T02:24:34.060Z"
   },
   {
    "duration": 20,
    "start_time": "2024-08-16T02:24:34.133Z"
   },
   {
    "duration": 255,
    "start_time": "2024-08-16T02:24:34.159Z"
   },
   {
    "duration": 16,
    "start_time": "2024-08-16T02:24:34.417Z"
   },
   {
    "duration": 14,
    "start_time": "2024-08-16T02:24:34.436Z"
   },
   {
    "duration": 46,
    "start_time": "2024-08-16T02:24:34.455Z"
   },
   {
    "duration": 22,
    "start_time": "2024-08-16T02:24:34.505Z"
   },
   {
    "duration": 18,
    "start_time": "2024-08-16T02:24:34.535Z"
   },
   {
    "duration": 48,
    "start_time": "2024-08-16T02:24:34.557Z"
   },
   {
    "duration": 286,
    "start_time": "2024-08-16T02:24:34.608Z"
   },
   {
    "duration": 28,
    "start_time": "2024-08-16T02:24:34.903Z"
   },
   {
    "duration": 189,
    "start_time": "2024-08-16T02:24:34.943Z"
   },
   {
    "duration": 189,
    "start_time": "2024-08-16T02:24:35.137Z"
   },
   {
    "duration": 175,
    "start_time": "2024-08-16T02:24:35.330Z"
   },
   {
    "duration": 51,
    "start_time": "2024-08-16T02:24:35.509Z"
   },
   {
    "duration": 509,
    "start_time": "2024-08-16T02:24:35.565Z"
   },
   {
    "duration": 286,
    "start_time": "2024-08-16T02:24:36.077Z"
   },
   {
    "duration": 2203,
    "start_time": "2024-08-16T02:27:08.661Z"
   },
   {
    "duration": 350,
    "start_time": "2024-08-16T02:27:39.994Z"
   },
   {
    "duration": 218,
    "start_time": "2024-08-16T02:35:28.135Z"
   },
   {
    "duration": 243,
    "start_time": "2024-08-16T02:36:07.906Z"
   },
   {
    "duration": 247,
    "start_time": "2024-08-16T02:39:30.564Z"
   },
   {
    "duration": 369,
    "start_time": "2024-08-16T02:40:58.055Z"
   },
   {
    "duration": 464,
    "start_time": "2024-08-16T02:45:32.599Z"
   },
   {
    "duration": 12,
    "start_time": "2024-08-16T02:51:13.094Z"
   },
   {
    "duration": 25,
    "start_time": "2024-08-16T02:51:26.257Z"
   },
   {
    "duration": 213,
    "start_time": "2024-08-16T02:54:02.691Z"
   },
   {
    "duration": 4369,
    "start_time": "2024-08-16T23:47:39.284Z"
   },
   {
    "duration": 690,
    "start_time": "2024-08-16T23:47:43.656Z"
   },
   {
    "duration": 61,
    "start_time": "2024-08-16T23:47:44.349Z"
   },
   {
    "duration": 16,
    "start_time": "2024-08-16T23:47:44.425Z"
   },
   {
    "duration": 221,
    "start_time": "2024-08-16T23:47:44.444Z"
   },
   {
    "duration": 15,
    "start_time": "2024-08-16T23:47:44.668Z"
   },
   {
    "duration": 37,
    "start_time": "2024-08-16T23:47:44.685Z"
   },
   {
    "duration": 9,
    "start_time": "2024-08-16T23:47:44.725Z"
   },
   {
    "duration": 16,
    "start_time": "2024-08-16T23:47:44.737Z"
   },
   {
    "duration": 10,
    "start_time": "2024-08-16T23:47:44.759Z"
   },
   {
    "duration": 60,
    "start_time": "2024-08-16T23:47:44.772Z"
   },
   {
    "duration": 219,
    "start_time": "2024-08-16T23:47:44.835Z"
   },
   {
    "duration": 17,
    "start_time": "2024-08-16T23:47:45.057Z"
   },
   {
    "duration": 147,
    "start_time": "2024-08-16T23:47:45.077Z"
   },
   {
    "duration": 119,
    "start_time": "2024-08-16T23:47:45.226Z"
   },
   {
    "duration": 108,
    "start_time": "2024-08-16T23:47:45.348Z"
   },
   {
    "duration": 23,
    "start_time": "2024-08-16T23:47:45.459Z"
   },
   {
    "duration": 290,
    "start_time": "2024-08-16T23:47:45.485Z"
   },
   {
    "duration": 246,
    "start_time": "2024-08-16T23:47:45.778Z"
   },
   {
    "duration": 399,
    "start_time": "2024-08-16T23:47:46.027Z"
   },
   {
    "duration": 11,
    "start_time": "2024-08-16T23:47:46.429Z"
   },
   {
    "duration": 27,
    "start_time": "2024-08-16T23:47:46.442Z"
   },
   {
    "duration": 232,
    "start_time": "2024-08-16T23:47:46.473Z"
   },
   {
    "duration": 1221,
    "start_time": "2024-08-16T23:55:28.833Z"
   },
   {
    "duration": 34,
    "start_time": "2024-08-16T23:56:37.893Z"
   },
   {
    "duration": 15,
    "start_time": "2024-08-16T23:57:46.435Z"
   },
   {
    "duration": 219,
    "start_time": "2024-08-17T00:02:56.481Z"
   },
   {
    "duration": 34,
    "start_time": "2024-08-17T00:21:01.660Z"
   },
   {
    "duration": 25,
    "start_time": "2024-08-17T00:36:38.201Z"
   },
   {
    "duration": 62,
    "start_time": "2024-08-17T00:36:53.036Z"
   },
   {
    "duration": 69,
    "start_time": "2024-08-17T00:37:59.489Z"
   },
   {
    "duration": 7,
    "start_time": "2024-08-17T01:06:27.166Z"
   },
   {
    "duration": 33,
    "start_time": "2024-08-17T01:06:56.056Z"
   },
   {
    "duration": 4,
    "start_time": "2024-08-17T01:07:07.417Z"
   },
   {
    "duration": 17,
    "start_time": "2024-08-17T01:07:09.892Z"
   },
   {
    "duration": 22,
    "start_time": "2024-08-17T01:07:39.229Z"
   },
   {
    "duration": 1022,
    "start_time": "2024-08-17T01:11:25.640Z"
   },
   {
    "duration": 187,
    "start_time": "2024-08-17T01:12:42.560Z"
   },
   {
    "duration": 22,
    "start_time": "2024-08-17T01:13:59.947Z"
   },
   {
    "duration": 193,
    "start_time": "2024-08-17T01:14:14.740Z"
   },
   {
    "duration": 23,
    "start_time": "2024-08-17T01:27:10.334Z"
   },
   {
    "duration": 17,
    "start_time": "2024-08-17T01:28:11.615Z"
   },
   {
    "duration": 734,
    "start_time": "2024-08-17T01:29:09.107Z"
   },
   {
    "duration": 680,
    "start_time": "2024-08-17T01:29:09.844Z"
   },
   {
    "duration": 63,
    "start_time": "2024-08-17T01:29:10.527Z"
   },
   {
    "duration": 32,
    "start_time": "2024-08-17T01:29:10.593Z"
   },
   {
    "duration": 212,
    "start_time": "2024-08-17T01:29:10.631Z"
   },
   {
    "duration": 15,
    "start_time": "2024-08-17T01:29:10.846Z"
   },
   {
    "duration": 12,
    "start_time": "2024-08-17T01:29:10.866Z"
   },
   {
    "duration": 41,
    "start_time": "2024-08-17T01:29:10.882Z"
   },
   {
    "duration": 17,
    "start_time": "2024-08-17T01:29:10.927Z"
   },
   {
    "duration": 12,
    "start_time": "2024-08-17T01:29:10.947Z"
   },
   {
    "duration": 61,
    "start_time": "2024-08-17T01:29:10.962Z"
   },
   {
    "duration": 220,
    "start_time": "2024-08-17T01:29:11.025Z"
   },
   {
    "duration": 15,
    "start_time": "2024-08-17T01:29:11.248Z"
   },
   {
    "duration": 145,
    "start_time": "2024-08-17T01:29:11.270Z"
   },
   {
    "duration": 115,
    "start_time": "2024-08-17T01:29:11.422Z"
   },
   {
    "duration": 107,
    "start_time": "2024-08-17T01:29:11.540Z"
   },
   {
    "duration": 23,
    "start_time": "2024-08-17T01:29:11.650Z"
   },
   {
    "duration": 300,
    "start_time": "2024-08-17T01:29:11.675Z"
   },
   {
    "duration": 241,
    "start_time": "2024-08-17T01:29:11.978Z"
   },
   {
    "duration": 391,
    "start_time": "2024-08-17T01:29:12.224Z"
   },
   {
    "duration": 11,
    "start_time": "2024-08-17T01:29:12.623Z"
   },
   {
    "duration": 27,
    "start_time": "2024-08-17T01:29:12.637Z"
   },
   {
    "duration": 231,
    "start_time": "2024-08-17T01:29:12.667Z"
   },
   {
    "duration": 41,
    "start_time": "2024-08-17T01:29:12.900Z"
   },
   {
    "duration": 15,
    "start_time": "2024-08-17T01:29:12.944Z"
   },
   {
    "duration": 59,
    "start_time": "2024-08-17T01:29:12.965Z"
   },
   {
    "duration": 71,
    "start_time": "2024-08-17T01:29:13.027Z"
   },
   {
    "duration": 23,
    "start_time": "2024-08-17T01:29:13.101Z"
   },
   {
    "duration": 22,
    "start_time": "2024-08-17T01:29:13.126Z"
   },
   {
    "duration": 226,
    "start_time": "2024-08-17T01:29:13.151Z"
   },
   {
    "duration": 18,
    "start_time": "2024-08-17T01:29:13.380Z"
   },
   {
    "duration": 16,
    "start_time": "2024-08-17T01:30:54.070Z"
   },
   {
    "duration": 24,
    "start_time": "2024-08-17T01:31:03.478Z"
   },
   {
    "duration": 1030,
    "start_time": "2024-08-17T01:41:07.030Z"
   },
   {
    "duration": 14,
    "start_time": "2024-08-17T01:41:18.307Z"
   },
   {
    "duration": 13,
    "start_time": "2024-08-17T01:41:23.223Z"
   },
   {
    "duration": 695,
    "start_time": "2024-08-17T01:41:30.516Z"
   },
   {
    "duration": 662,
    "start_time": "2024-08-17T01:41:31.215Z"
   },
   {
    "duration": 60,
    "start_time": "2024-08-17T01:41:31.880Z"
   },
   {
    "duration": 15,
    "start_time": "2024-08-17T01:41:31.943Z"
   },
   {
    "duration": 224,
    "start_time": "2024-08-17T01:41:31.962Z"
   },
   {
    "duration": 15,
    "start_time": "2024-08-17T01:41:32.189Z"
   },
   {
    "duration": 26,
    "start_time": "2024-08-17T01:41:32.206Z"
   },
   {
    "duration": 13,
    "start_time": "2024-08-17T01:41:32.234Z"
   },
   {
    "duration": 19,
    "start_time": "2024-08-17T01:41:32.251Z"
   },
   {
    "duration": 51,
    "start_time": "2024-08-17T01:41:32.273Z"
   },
   {
    "duration": 22,
    "start_time": "2024-08-17T01:41:32.327Z"
   },
   {
    "duration": 232,
    "start_time": "2024-08-17T01:41:32.352Z"
   },
   {
    "duration": 16,
    "start_time": "2024-08-17T01:41:32.586Z"
   },
   {
    "duration": 122,
    "start_time": "2024-08-17T01:41:32.622Z"
   },
   {
    "duration": 120,
    "start_time": "2024-08-17T01:41:32.747Z"
   },
   {
    "duration": 110,
    "start_time": "2024-08-17T01:41:32.870Z"
   },
   {
    "duration": 24,
    "start_time": "2024-08-17T01:41:32.983Z"
   },
   {
    "duration": 272,
    "start_time": "2024-08-17T01:41:33.022Z"
   },
   {
    "duration": 250,
    "start_time": "2024-08-17T01:41:33.298Z"
   },
   {
    "duration": 409,
    "start_time": "2024-08-17T01:41:33.551Z"
   },
   {
    "duration": 10,
    "start_time": "2024-08-17T01:41:33.963Z"
   },
   {
    "duration": 49,
    "start_time": "2024-08-17T01:41:33.976Z"
   },
   {
    "duration": 197,
    "start_time": "2024-08-17T01:41:34.028Z"
   },
   {
    "duration": 34,
    "start_time": "2024-08-17T01:41:34.228Z"
   },
   {
    "duration": 15,
    "start_time": "2024-08-17T01:41:34.265Z"
   },
   {
    "duration": 69,
    "start_time": "2024-08-17T01:41:34.283Z"
   },
   {
    "duration": 88,
    "start_time": "2024-08-17T01:41:34.356Z"
   },
   {
    "duration": 4,
    "start_time": "2024-08-17T01:41:34.448Z"
   },
   {
    "duration": 57,
    "start_time": "2024-08-17T01:41:34.455Z"
   },
   {
    "duration": 200,
    "start_time": "2024-08-17T01:41:34.515Z"
   },
   {
    "duration": 14,
    "start_time": "2024-08-17T01:41:34.723Z"
   },
   {
    "duration": 17,
    "start_time": "2024-08-17T01:42:15.310Z"
   },
   {
    "duration": 22,
    "start_time": "2024-08-17T01:42:34.893Z"
   },
   {
    "duration": 17,
    "start_time": "2024-08-17T01:42:50.245Z"
   },
   {
    "duration": 18,
    "start_time": "2024-08-17T01:45:26.557Z"
   },
   {
    "duration": 13,
    "start_time": "2024-08-17T01:46:05.530Z"
   },
   {
    "duration": 17,
    "start_time": "2024-08-17T01:50:55.876Z"
   },
   {
    "duration": 21,
    "start_time": "2024-08-17T01:52:06.560Z"
   },
   {
    "duration": 15,
    "start_time": "2024-08-17T01:52:34.003Z"
   },
   {
    "duration": 4499,
    "start_time": "2024-08-17T17:31:24.590Z"
   },
   {
    "duration": 802,
    "start_time": "2024-08-17T17:31:29.093Z"
   },
   {
    "duration": 65,
    "start_time": "2024-08-17T17:31:29.898Z"
   },
   {
    "duration": 20,
    "start_time": "2024-08-17T17:31:29.966Z"
   },
   {
    "duration": 216,
    "start_time": "2024-08-17T17:31:30.009Z"
   },
   {
    "duration": 16,
    "start_time": "2024-08-17T17:31:30.228Z"
   },
   {
    "duration": 13,
    "start_time": "2024-08-17T17:31:30.252Z"
   },
   {
    "duration": 38,
    "start_time": "2024-08-17T17:31:30.268Z"
   },
   {
    "duration": 19,
    "start_time": "2024-08-17T17:31:30.309Z"
   },
   {
    "duration": 11,
    "start_time": "2024-08-17T17:31:30.331Z"
   },
   {
    "duration": 61,
    "start_time": "2024-08-17T17:31:30.346Z"
   },
   {
    "duration": 225,
    "start_time": "2024-08-17T17:31:30.411Z"
   },
   {
    "duration": 17,
    "start_time": "2024-08-17T17:31:30.639Z"
   },
   {
    "duration": 152,
    "start_time": "2024-08-17T17:31:30.663Z"
   },
   {
    "duration": 126,
    "start_time": "2024-08-17T17:31:30.818Z"
   },
   {
    "duration": 120,
    "start_time": "2024-08-17T17:31:30.947Z"
   },
   {
    "duration": 43,
    "start_time": "2024-08-17T17:31:31.071Z"
   },
   {
    "duration": 283,
    "start_time": "2024-08-17T17:31:31.117Z"
   },
   {
    "duration": 259,
    "start_time": "2024-08-17T17:31:31.406Z"
   },
   {
    "duration": 438,
    "start_time": "2024-08-17T17:31:31.668Z"
   },
   {
    "duration": 15,
    "start_time": "2024-08-17T17:31:32.110Z"
   },
   {
    "duration": 31,
    "start_time": "2024-08-17T17:31:32.128Z"
   },
   {
    "duration": 225,
    "start_time": "2024-08-17T17:31:32.162Z"
   },
   {
    "duration": 42,
    "start_time": "2024-08-17T17:31:32.390Z"
   },
   {
    "duration": 16,
    "start_time": "2024-08-17T17:31:32.435Z"
   },
   {
    "duration": 64,
    "start_time": "2024-08-17T17:31:32.455Z"
   },
   {
    "duration": 91,
    "start_time": "2024-08-17T17:31:32.522Z"
   },
   {
    "duration": 4,
    "start_time": "2024-08-17T17:31:32.616Z"
   },
   {
    "duration": 22,
    "start_time": "2024-08-17T17:31:32.622Z"
   },
   {
    "duration": 236,
    "start_time": "2024-08-17T17:31:32.649Z"
   },
   {
    "duration": 29,
    "start_time": "2024-08-17T17:31:32.888Z"
   },
   {
    "duration": 19,
    "start_time": "2024-08-17T17:31:32.920Z"
   },
   {
    "duration": 15,
    "start_time": "2024-08-17T17:31:32.942Z"
   },
   {
    "duration": 52,
    "start_time": "2024-08-17T17:31:32.960Z"
   },
   {
    "duration": 22,
    "start_time": "2024-08-17T17:31:33.015Z"
   },
   {
    "duration": 15,
    "start_time": "2024-08-17T17:31:33.040Z"
   },
   {
    "duration": 404,
    "start_time": "2024-08-17T17:31:59.698Z"
   },
   {
    "duration": 17,
    "start_time": "2024-08-17T17:32:27.259Z"
   },
   {
    "duration": 4337,
    "start_time": "2024-08-18T23:11:03.333Z"
   },
   {
    "duration": 734,
    "start_time": "2024-08-18T23:11:07.674Z"
   },
   {
    "duration": 62,
    "start_time": "2024-08-18T23:11:08.411Z"
   },
   {
    "duration": 15,
    "start_time": "2024-08-18T23:11:08.476Z"
   },
   {
    "duration": 232,
    "start_time": "2024-08-18T23:11:08.496Z"
   },
   {
    "duration": 16,
    "start_time": "2024-08-18T23:11:08.734Z"
   },
   {
    "duration": 12,
    "start_time": "2024-08-18T23:11:08.752Z"
   },
   {
    "duration": 9,
    "start_time": "2024-08-18T23:11:08.768Z"
   },
   {
    "duration": 52,
    "start_time": "2024-08-18T23:11:08.780Z"
   },
   {
    "duration": 14,
    "start_time": "2024-08-18T23:11:08.835Z"
   },
   {
    "duration": 23,
    "start_time": "2024-08-18T23:11:08.852Z"
   },
   {
    "duration": 235,
    "start_time": "2024-08-18T23:11:08.878Z"
   },
   {
    "duration": 19,
    "start_time": "2024-08-18T23:11:09.116Z"
   },
   {
    "duration": 123,
    "start_time": "2024-08-18T23:11:09.141Z"
   },
   {
    "duration": 127,
    "start_time": "2024-08-18T23:11:09.267Z"
   },
   {
    "duration": 111,
    "start_time": "2024-08-18T23:11:09.397Z"
   },
   {
    "duration": 26,
    "start_time": "2024-08-18T23:11:09.511Z"
   },
   {
    "duration": 282,
    "start_time": "2024-08-18T23:11:09.540Z"
   },
   {
    "duration": 243,
    "start_time": "2024-08-18T23:11:09.824Z"
   },
   {
    "duration": 416,
    "start_time": "2024-08-18T23:11:10.070Z"
   },
   {
    "duration": 11,
    "start_time": "2024-08-18T23:11:10.489Z"
   },
   {
    "duration": 48,
    "start_time": "2024-08-18T23:11:10.503Z"
   },
   {
    "duration": 199,
    "start_time": "2024-08-18T23:11:10.554Z"
   },
   {
    "duration": 33,
    "start_time": "2024-08-18T23:11:10.756Z"
   },
   {
    "duration": 38,
    "start_time": "2024-08-18T23:11:10.792Z"
   },
   {
    "duration": 34,
    "start_time": "2024-08-18T23:11:10.833Z"
   },
   {
    "duration": 96,
    "start_time": "2024-08-18T23:11:10.870Z"
   },
   {
    "duration": 3,
    "start_time": "2024-08-18T23:11:10.969Z"
   },
   {
    "duration": 21,
    "start_time": "2024-08-18T23:11:10.975Z"
   },
   {
    "duration": 275,
    "start_time": "2024-08-18T23:11:11.000Z"
   },
   {
    "duration": 17,
    "start_time": "2024-08-18T23:11:11.278Z"
   },
   {
    "duration": 38,
    "start_time": "2024-08-18T23:11:11.298Z"
   },
   {
    "duration": 15,
    "start_time": "2024-08-18T23:11:11.339Z"
   },
   {
    "duration": 18,
    "start_time": "2024-08-18T23:11:11.357Z"
   },
   {
    "duration": 63,
    "start_time": "2024-08-18T23:11:11.378Z"
   },
   {
    "duration": 17,
    "start_time": "2024-08-18T23:11:11.445Z"
   },
   {
    "duration": 19,
    "start_time": "2024-08-18T23:11:11.464Z"
   },
   {
    "duration": 18,
    "start_time": "2024-08-18T23:17:59.927Z"
   },
   {
    "duration": 16,
    "start_time": "2024-08-18T23:18:51.949Z"
   },
   {
    "duration": 30,
    "start_time": "2024-08-18T23:19:06.077Z"
   },
   {
    "duration": 44,
    "start_time": "2024-08-18T23:27:02.033Z"
   },
   {
    "duration": 44,
    "start_time": "2024-08-18T23:27:22.121Z"
   },
   {
    "duration": 1111,
    "start_time": "2024-08-18T23:28:41.644Z"
   },
   {
    "duration": 755,
    "start_time": "2024-08-18T23:29:10.525Z"
   },
   {
    "duration": 771,
    "start_time": "2024-08-18T23:29:11.283Z"
   },
   {
    "duration": 102,
    "start_time": "2024-08-18T23:29:12.057Z"
   },
   {
    "duration": 15,
    "start_time": "2024-08-18T23:29:12.163Z"
   },
   {
    "duration": 262,
    "start_time": "2024-08-18T23:29:12.183Z"
   },
   {
    "duration": 14,
    "start_time": "2024-08-18T23:29:12.449Z"
   },
   {
    "duration": 15,
    "start_time": "2024-08-18T23:29:12.466Z"
   },
   {
    "duration": 12,
    "start_time": "2024-08-18T23:29:12.485Z"
   },
   {
    "duration": 53,
    "start_time": "2024-08-18T23:29:12.500Z"
   },
   {
    "duration": 11,
    "start_time": "2024-08-18T23:29:12.559Z"
   },
   {
    "duration": 22,
    "start_time": "2024-08-18T23:29:12.574Z"
   },
   {
    "duration": 239,
    "start_time": "2024-08-18T23:29:12.632Z"
   },
   {
    "duration": 22,
    "start_time": "2024-08-18T23:29:12.874Z"
   },
   {
    "duration": 160,
    "start_time": "2024-08-18T23:29:12.905Z"
   },
   {
    "duration": 125,
    "start_time": "2024-08-18T23:29:13.071Z"
   },
   {
    "duration": 123,
    "start_time": "2024-08-18T23:29:13.199Z"
   },
   {
    "duration": 29,
    "start_time": "2024-08-18T23:29:13.329Z"
   },
   {
    "duration": 298,
    "start_time": "2024-08-18T23:29:13.361Z"
   },
   {
    "duration": 268,
    "start_time": "2024-08-18T23:29:13.662Z"
   },
   {
    "duration": 432,
    "start_time": "2024-08-18T23:29:13.933Z"
   },
   {
    "duration": 11,
    "start_time": "2024-08-18T23:29:14.368Z"
   },
   {
    "duration": 54,
    "start_time": "2024-08-18T23:29:14.382Z"
   },
   {
    "duration": 209,
    "start_time": "2024-08-18T23:29:14.439Z"
   },
   {
    "duration": 34,
    "start_time": "2024-08-18T23:29:14.651Z"
   },
   {
    "duration": 38,
    "start_time": "2024-08-18T23:29:14.691Z"
   },
   {
    "duration": 38,
    "start_time": "2024-08-18T23:29:14.733Z"
   },
   {
    "duration": 107,
    "start_time": "2024-08-18T23:29:14.774Z"
   },
   {
    "duration": 6,
    "start_time": "2024-08-18T23:29:14.884Z"
   },
   {
    "duration": 42,
    "start_time": "2024-08-18T23:29:14.893Z"
   },
   {
    "duration": 239,
    "start_time": "2024-08-18T23:29:14.938Z"
   },
   {
    "duration": 19,
    "start_time": "2024-08-18T23:29:15.180Z"
   },
   {
    "duration": 43,
    "start_time": "2024-08-18T23:29:15.202Z"
   },
   {
    "duration": 16,
    "start_time": "2024-08-18T23:29:15.248Z"
   },
   {
    "duration": 18,
    "start_time": "2024-08-18T23:29:15.271Z"
   },
   {
    "duration": 58,
    "start_time": "2024-08-18T23:29:15.293Z"
   },
   {
    "duration": 18,
    "start_time": "2024-08-18T23:29:15.354Z"
   },
   {
    "duration": 57,
    "start_time": "2024-08-18T23:29:15.375Z"
   },
   {
    "duration": 1021,
    "start_time": "2024-08-18T23:29:15.435Z"
   },
   {
    "duration": 142,
    "start_time": "2024-08-18T23:30:00.375Z"
   },
   {
    "duration": 322,
    "start_time": "2024-08-18T23:37:59.895Z"
   },
   {
    "duration": 720,
    "start_time": "2024-08-18T23:38:17.920Z"
   },
   {
    "duration": 753,
    "start_time": "2024-08-18T23:38:18.644Z"
   },
   {
    "duration": 62,
    "start_time": "2024-08-18T23:38:19.400Z"
   },
   {
    "duration": 14,
    "start_time": "2024-08-18T23:38:19.466Z"
   },
   {
    "duration": 228,
    "start_time": "2024-08-18T23:38:19.483Z"
   },
   {
    "duration": 23,
    "start_time": "2024-08-18T23:38:19.713Z"
   },
   {
    "duration": 14,
    "start_time": "2024-08-18T23:38:19.739Z"
   },
   {
    "duration": 10,
    "start_time": "2024-08-18T23:38:19.756Z"
   },
   {
    "duration": 16,
    "start_time": "2024-08-18T23:38:19.768Z"
   },
   {
    "duration": 48,
    "start_time": "2024-08-18T23:38:19.790Z"
   },
   {
    "duration": 22,
    "start_time": "2024-08-18T23:38:19.840Z"
   },
   {
    "duration": 235,
    "start_time": "2024-08-18T23:38:19.864Z"
   },
   {
    "duration": 29,
    "start_time": "2024-08-18T23:38:20.102Z"
   },
   {
    "duration": 126,
    "start_time": "2024-08-18T23:38:20.135Z"
   },
   {
    "duration": 114,
    "start_time": "2024-08-18T23:38:20.267Z"
   },
   {
    "duration": 113,
    "start_time": "2024-08-18T23:38:20.384Z"
   },
   {
    "duration": 35,
    "start_time": "2024-08-18T23:38:20.500Z"
   },
   {
    "duration": 271,
    "start_time": "2024-08-18T23:38:20.538Z"
   },
   {
    "duration": 237,
    "start_time": "2024-08-18T23:38:20.812Z"
   },
   {
    "duration": 405,
    "start_time": "2024-08-18T23:38:21.053Z"
   },
   {
    "duration": 11,
    "start_time": "2024-08-18T23:38:21.461Z"
   },
   {
    "duration": 25,
    "start_time": "2024-08-18T23:38:21.474Z"
   },
   {
    "duration": 200,
    "start_time": "2024-08-18T23:38:21.530Z"
   },
   {
    "duration": 38,
    "start_time": "2024-08-18T23:38:21.733Z"
   },
   {
    "duration": 18,
    "start_time": "2024-08-18T23:38:21.774Z"
   },
   {
    "duration": 60,
    "start_time": "2024-08-18T23:38:21.796Z"
   },
   {
    "duration": 86,
    "start_time": "2024-08-18T23:38:21.859Z"
   },
   {
    "duration": 3,
    "start_time": "2024-08-18T23:38:21.952Z"
   },
   {
    "duration": 22,
    "start_time": "2024-08-18T23:38:21.958Z"
   },
   {
    "duration": 240,
    "start_time": "2024-08-18T23:38:21.983Z"
   },
   {
    "duration": 33,
    "start_time": "2024-08-18T23:38:22.230Z"
   },
   {
    "duration": 22,
    "start_time": "2024-08-18T23:38:22.268Z"
   },
   {
    "duration": 41,
    "start_time": "2024-08-18T23:38:22.294Z"
   },
   {
    "duration": 18,
    "start_time": "2024-08-18T23:38:22.338Z"
   },
   {
    "duration": 19,
    "start_time": "2024-08-18T23:38:22.359Z"
   },
   {
    "duration": 51,
    "start_time": "2024-08-18T23:38:22.381Z"
   },
   {
    "duration": 189,
    "start_time": "2024-08-18T23:38:22.435Z"
   },
   {
    "duration": 17,
    "start_time": "2024-08-18T23:40:14.315Z"
   },
   {
    "duration": 20,
    "start_time": "2024-08-18T23:40:28.596Z"
   },
   {
    "duration": 362,
    "start_time": "2024-08-18T23:41:33.324Z"
   },
   {
    "duration": 1278,
    "start_time": "2024-08-18T23:42:11.629Z"
   },
   {
    "duration": 623,
    "start_time": "2024-08-18T23:42:12.911Z"
   },
   {
    "duration": 61,
    "start_time": "2024-08-18T23:42:13.537Z"
   },
   {
    "duration": 34,
    "start_time": "2024-08-18T23:42:13.603Z"
   },
   {
    "duration": 216,
    "start_time": "2024-08-18T23:42:13.640Z"
   },
   {
    "duration": 15,
    "start_time": "2024-08-18T23:42:13.859Z"
   },
   {
    "duration": 10,
    "start_time": "2024-08-18T23:42:13.877Z"
   },
   {
    "duration": 41,
    "start_time": "2024-08-18T23:42:13.891Z"
   },
   {
    "duration": 17,
    "start_time": "2024-08-18T23:42:13.935Z"
   },
   {
    "duration": 10,
    "start_time": "2024-08-18T23:42:13.959Z"
   },
   {
    "duration": 60,
    "start_time": "2024-08-18T23:42:13.973Z"
   },
   {
    "duration": 214,
    "start_time": "2024-08-18T23:42:14.039Z"
   },
   {
    "duration": 15,
    "start_time": "2024-08-18T23:42:14.255Z"
   },
   {
    "duration": 131,
    "start_time": "2024-08-18T23:42:14.273Z"
   },
   {
    "duration": 123,
    "start_time": "2024-08-18T23:42:14.407Z"
   },
   {
    "duration": 105,
    "start_time": "2024-08-18T23:42:14.533Z"
   },
   {
    "duration": 27,
    "start_time": "2024-08-18T23:42:14.640Z"
   },
   {
    "duration": 292,
    "start_time": "2024-08-18T23:42:14.670Z"
   },
   {
    "duration": 240,
    "start_time": "2024-08-18T23:42:14.966Z"
   },
   {
    "duration": 389,
    "start_time": "2024-08-18T23:42:15.209Z"
   },
   {
    "duration": 10,
    "start_time": "2024-08-18T23:42:15.602Z"
   },
   {
    "duration": 26,
    "start_time": "2024-08-18T23:42:15.631Z"
   },
   {
    "duration": 214,
    "start_time": "2024-08-18T23:42:15.660Z"
   },
   {
    "duration": 36,
    "start_time": "2024-08-18T23:42:15.877Z"
   },
   {
    "duration": 14,
    "start_time": "2024-08-18T23:42:15.931Z"
   },
   {
    "duration": 34,
    "start_time": "2024-08-18T23:42:15.948Z"
   },
   {
    "duration": 102,
    "start_time": "2024-08-18T23:42:15.985Z"
   },
   {
    "duration": 3,
    "start_time": "2024-08-18T23:42:16.095Z"
   },
   {
    "duration": 39,
    "start_time": "2024-08-18T23:42:16.101Z"
   },
   {
    "duration": 269,
    "start_time": "2024-08-18T23:42:16.143Z"
   },
   {
    "duration": 25,
    "start_time": "2024-08-18T23:42:16.417Z"
   },
   {
    "duration": 19,
    "start_time": "2024-08-18T23:42:16.446Z"
   },
   {
    "duration": 14,
    "start_time": "2024-08-18T23:42:16.468Z"
   },
   {
    "duration": 53,
    "start_time": "2024-08-18T23:42:16.486Z"
   },
   {
    "duration": 19,
    "start_time": "2024-08-18T23:42:16.542Z"
   },
   {
    "duration": 16,
    "start_time": "2024-08-18T23:42:16.564Z"
   },
   {
    "duration": 222,
    "start_time": "2024-08-18T23:42:16.583Z"
   },
   {
    "duration": 33,
    "start_time": "2024-08-18T23:42:16.808Z"
   },
   {
    "duration": 21,
    "start_time": "2024-08-18T23:42:16.844Z"
   },
   {
    "duration": 430,
    "start_time": "2024-08-18T23:42:16.869Z"
   },
   {
    "duration": 1286,
    "start_time": "2024-08-18T23:42:41.401Z"
   },
   {
    "duration": 628,
    "start_time": "2024-08-18T23:42:42.690Z"
   },
   {
    "duration": 63,
    "start_time": "2024-08-18T23:42:43.320Z"
   },
   {
    "duration": 15,
    "start_time": "2024-08-18T23:42:43.387Z"
   },
   {
    "duration": 229,
    "start_time": "2024-08-18T23:42:43.405Z"
   },
   {
    "duration": 16,
    "start_time": "2024-08-18T23:42:43.638Z"
   },
   {
    "duration": 10,
    "start_time": "2024-08-18T23:42:43.657Z"
   },
   {
    "duration": 8,
    "start_time": "2024-08-18T23:42:43.671Z"
   },
   {
    "duration": 54,
    "start_time": "2024-08-18T23:42:43.682Z"
   },
   {
    "duration": 10,
    "start_time": "2024-08-18T23:42:43.742Z"
   },
   {
    "duration": 20,
    "start_time": "2024-08-18T23:42:43.755Z"
   },
   {
    "duration": 244,
    "start_time": "2024-08-18T23:42:43.778Z"
   },
   {
    "duration": 17,
    "start_time": "2024-08-18T23:42:44.025Z"
   },
   {
    "duration": 129,
    "start_time": "2024-08-18T23:42:44.047Z"
   },
   {
    "duration": 125,
    "start_time": "2024-08-18T23:42:44.180Z"
   },
   {
    "duration": 112,
    "start_time": "2024-08-18T23:42:44.308Z"
   },
   {
    "duration": 28,
    "start_time": "2024-08-18T23:42:44.423Z"
   },
   {
    "duration": 282,
    "start_time": "2024-08-18T23:42:44.454Z"
   },
   {
    "duration": 238,
    "start_time": "2024-08-18T23:42:44.739Z"
   },
   {
    "duration": 405,
    "start_time": "2024-08-18T23:42:44.980Z"
   },
   {
    "duration": 11,
    "start_time": "2024-08-18T23:42:45.388Z"
   },
   {
    "duration": 43,
    "start_time": "2024-08-18T23:42:45.401Z"
   },
   {
    "duration": 206,
    "start_time": "2024-08-18T23:42:45.448Z"
   },
   {
    "duration": 33,
    "start_time": "2024-08-18T23:42:45.657Z"
   },
   {
    "duration": 38,
    "start_time": "2024-08-18T23:42:45.692Z"
   },
   {
    "duration": 34,
    "start_time": "2024-08-18T23:42:45.734Z"
   },
   {
    "duration": 91,
    "start_time": "2024-08-18T23:42:45.771Z"
   },
   {
    "duration": 3,
    "start_time": "2024-08-18T23:42:45.869Z"
   },
   {
    "duration": 21,
    "start_time": "2024-08-18T23:42:45.875Z"
   },
   {
    "duration": 284,
    "start_time": "2024-08-18T23:42:45.899Z"
   },
   {
    "duration": 17,
    "start_time": "2024-08-18T23:42:46.186Z"
   },
   {
    "duration": 39,
    "start_time": "2024-08-18T23:42:46.206Z"
   },
   {
    "duration": 15,
    "start_time": "2024-08-18T23:42:46.248Z"
   },
   {
    "duration": 17,
    "start_time": "2024-08-18T23:42:46.266Z"
   },
   {
    "duration": 57,
    "start_time": "2024-08-18T23:42:46.286Z"
   },
   {
    "duration": 18,
    "start_time": "2024-08-18T23:42:46.346Z"
   },
   {
    "duration": 211,
    "start_time": "2024-08-18T23:42:46.366Z"
   },
   {
    "duration": 17,
    "start_time": "2024-08-18T23:42:46.580Z"
   },
   {
    "duration": 41,
    "start_time": "2024-08-18T23:42:46.600Z"
   },
   {
    "duration": 419,
    "start_time": "2024-08-18T23:42:46.644Z"
   },
   {
    "duration": 1191,
    "start_time": "2024-08-18T23:43:49.783Z"
   },
   {
    "duration": 609,
    "start_time": "2024-08-18T23:43:50.977Z"
   },
   {
    "duration": 66,
    "start_time": "2024-08-18T23:43:51.590Z"
   },
   {
    "duration": 15,
    "start_time": "2024-08-18T23:43:51.660Z"
   },
   {
    "duration": 242,
    "start_time": "2024-08-18T23:43:51.678Z"
   },
   {
    "duration": 14,
    "start_time": "2024-08-18T23:43:51.930Z"
   },
   {
    "duration": 11,
    "start_time": "2024-08-18T23:43:51.946Z"
   },
   {
    "duration": 10,
    "start_time": "2024-08-18T23:43:51.960Z"
   },
   {
    "duration": 17,
    "start_time": "2024-08-18T23:43:51.972Z"
   },
   {
    "duration": 10,
    "start_time": "2024-08-18T23:43:52.047Z"
   },
   {
    "duration": 22,
    "start_time": "2024-08-18T23:43:52.059Z"
   },
   {
    "duration": 226,
    "start_time": "2024-08-18T23:43:52.084Z"
   },
   {
    "duration": 23,
    "start_time": "2024-08-18T23:43:52.313Z"
   },
   {
    "duration": 134,
    "start_time": "2024-08-18T23:43:52.342Z"
   },
   {
    "duration": 118,
    "start_time": "2024-08-18T23:43:52.480Z"
   },
   {
    "duration": 120,
    "start_time": "2024-08-18T23:43:52.602Z"
   },
   {
    "duration": 27,
    "start_time": "2024-08-18T23:43:52.730Z"
   },
   {
    "duration": 285,
    "start_time": "2024-08-18T23:43:52.759Z"
   },
   {
    "duration": 246,
    "start_time": "2024-08-18T23:43:53.046Z"
   },
   {
    "duration": 399,
    "start_time": "2024-08-18T23:43:53.295Z"
   },
   {
    "duration": 15,
    "start_time": "2024-08-18T23:43:53.697Z"
   },
   {
    "duration": 26,
    "start_time": "2024-08-18T23:43:53.730Z"
   },
   {
    "duration": 204,
    "start_time": "2024-08-18T23:43:53.758Z"
   },
   {
    "duration": 33,
    "start_time": "2024-08-18T23:43:53.965Z"
   },
   {
    "duration": 34,
    "start_time": "2024-08-18T23:43:54.001Z"
   },
   {
    "duration": 35,
    "start_time": "2024-08-18T23:43:54.038Z"
   },
   {
    "duration": 96,
    "start_time": "2024-08-18T23:43:54.076Z"
   },
   {
    "duration": 3,
    "start_time": "2024-08-18T23:43:54.179Z"
   },
   {
    "duration": 21,
    "start_time": "2024-08-18T23:43:54.185Z"
   },
   {
    "duration": 273,
    "start_time": "2024-08-18T23:43:54.231Z"
   },
   {
    "duration": 28,
    "start_time": "2024-08-18T23:43:54.507Z"
   },
   {
    "duration": 18,
    "start_time": "2024-08-18T23:43:54.538Z"
   },
   {
    "duration": 15,
    "start_time": "2024-08-18T23:43:54.559Z"
   },
   {
    "duration": 54,
    "start_time": "2024-08-18T23:43:54.576Z"
   },
   {
    "duration": 20,
    "start_time": "2024-08-18T23:43:54.633Z"
   },
   {
    "duration": 15,
    "start_time": "2024-08-18T23:43:54.656Z"
   },
   {
    "duration": 229,
    "start_time": "2024-08-18T23:43:54.673Z"
   },
   {
    "duration": 31,
    "start_time": "2024-08-18T23:43:54.904Z"
   },
   {
    "duration": 22,
    "start_time": "2024-08-18T23:43:54.937Z"
   },
   {
    "duration": 1153,
    "start_time": "2024-08-18T23:43:54.962Z"
   },
   {
    "duration": 1238,
    "start_time": "2024-08-18T23:46:46.638Z"
   },
   {
    "duration": 611,
    "start_time": "2024-08-18T23:46:47.879Z"
   },
   {
    "duration": 66,
    "start_time": "2024-08-18T23:46:48.493Z"
   },
   {
    "duration": 16,
    "start_time": "2024-08-18T23:46:48.563Z"
   },
   {
    "duration": 228,
    "start_time": "2024-08-18T23:46:48.582Z"
   },
   {
    "duration": 25,
    "start_time": "2024-08-18T23:46:48.812Z"
   },
   {
    "duration": 20,
    "start_time": "2024-08-18T23:46:48.840Z"
   },
   {
    "duration": 10,
    "start_time": "2024-08-18T23:46:48.863Z"
   },
   {
    "duration": 16,
    "start_time": "2024-08-18T23:46:48.877Z"
   },
   {
    "duration": 10,
    "start_time": "2024-08-18T23:46:48.931Z"
   },
   {
    "duration": 21,
    "start_time": "2024-08-18T23:46:48.944Z"
   },
   {
    "duration": 235,
    "start_time": "2024-08-18T23:46:48.967Z"
   },
   {
    "duration": 25,
    "start_time": "2024-08-18T23:46:49.205Z"
   },
   {
    "duration": 133,
    "start_time": "2024-08-18T23:46:49.234Z"
   },
   {
    "duration": 119,
    "start_time": "2024-08-18T23:46:49.370Z"
   },
   {
    "duration": 109,
    "start_time": "2024-08-18T23:46:49.492Z"
   },
   {
    "duration": 32,
    "start_time": "2024-08-18T23:46:49.604Z"
   },
   {
    "duration": 274,
    "start_time": "2024-08-18T23:46:49.639Z"
   },
   {
    "duration": 235,
    "start_time": "2024-08-18T23:46:49.916Z"
   },
   {
    "duration": 407,
    "start_time": "2024-08-18T23:46:50.154Z"
   },
   {
    "duration": 10,
    "start_time": "2024-08-18T23:46:50.565Z"
   },
   {
    "duration": 26,
    "start_time": "2024-08-18T23:46:50.578Z"
   },
   {
    "duration": 195,
    "start_time": "2024-08-18T23:46:50.632Z"
   },
   {
    "duration": 35,
    "start_time": "2024-08-18T23:46:50.831Z"
   },
   {
    "duration": 13,
    "start_time": "2024-08-18T23:46:50.869Z"
   },
   {
    "duration": 66,
    "start_time": "2024-08-18T23:46:50.886Z"
   },
   {
    "duration": 80,
    "start_time": "2024-08-18T23:46:50.955Z"
   },
   {
    "duration": 3,
    "start_time": "2024-08-18T23:46:51.044Z"
   },
   {
    "duration": 23,
    "start_time": "2024-08-18T23:46:51.051Z"
   },
   {
    "duration": 291,
    "start_time": "2024-08-18T23:46:51.077Z"
   },
   {
    "duration": 20,
    "start_time": "2024-08-18T23:46:51.371Z"
   },
   {
    "duration": 50,
    "start_time": "2024-08-18T23:46:51.394Z"
   },
   {
    "duration": 14,
    "start_time": "2024-08-18T23:46:51.450Z"
   },
   {
    "duration": 17,
    "start_time": "2024-08-18T23:46:51.467Z"
   },
   {
    "duration": 56,
    "start_time": "2024-08-18T23:46:51.487Z"
   },
   {
    "duration": 16,
    "start_time": "2024-08-18T23:46:51.546Z"
   },
   {
    "duration": 210,
    "start_time": "2024-08-18T23:46:51.565Z"
   },
   {
    "duration": 22,
    "start_time": "2024-08-18T23:46:51.782Z"
   },
   {
    "duration": 33,
    "start_time": "2024-08-18T23:46:51.807Z"
   },
   {
    "duration": 4925,
    "start_time": "2024-08-19T00:26:24.197Z"
   },
   {
    "duration": 664,
    "start_time": "2024-08-19T00:26:29.125Z"
   },
   {
    "duration": 63,
    "start_time": "2024-08-19T00:26:29.792Z"
   },
   {
    "duration": 16,
    "start_time": "2024-08-19T00:26:29.858Z"
   },
   {
    "duration": 232,
    "start_time": "2024-08-19T00:26:29.880Z"
   },
   {
    "duration": 25,
    "start_time": "2024-08-19T00:26:30.115Z"
   },
   {
    "duration": 11,
    "start_time": "2024-08-19T00:26:30.144Z"
   },
   {
    "duration": 9,
    "start_time": "2024-08-19T00:26:30.158Z"
   },
   {
    "duration": 16,
    "start_time": "2024-08-19T00:26:30.170Z"
   },
   {
    "duration": 11,
    "start_time": "2024-08-19T00:26:30.229Z"
   },
   {
    "duration": 20,
    "start_time": "2024-08-19T00:26:30.243Z"
   },
   {
    "duration": 237,
    "start_time": "2024-08-19T00:26:30.266Z"
   },
   {
    "duration": 25,
    "start_time": "2024-08-19T00:26:30.505Z"
   },
   {
    "duration": 123,
    "start_time": "2024-08-19T00:26:30.537Z"
   },
   {
    "duration": 120,
    "start_time": "2024-08-19T00:26:30.663Z"
   },
   {
    "duration": 105,
    "start_time": "2024-08-19T00:26:30.786Z"
   },
   {
    "duration": 22,
    "start_time": "2024-08-19T00:26:30.894Z"
   },
   {
    "duration": 273,
    "start_time": "2024-08-19T00:26:30.931Z"
   },
   {
    "duration": 250,
    "start_time": "2024-08-19T00:26:31.206Z"
   },
   {
    "duration": 410,
    "start_time": "2024-08-19T00:26:31.459Z"
   },
   {
    "duration": 10,
    "start_time": "2024-08-19T00:26:31.872Z"
   },
   {
    "duration": 50,
    "start_time": "2024-08-19T00:26:31.885Z"
   },
   {
    "duration": 208,
    "start_time": "2024-08-19T00:26:31.938Z"
   },
   {
    "duration": 34,
    "start_time": "2024-08-19T00:26:32.149Z"
   },
   {
    "duration": 15,
    "start_time": "2024-08-19T00:26:32.185Z"
   },
   {
    "duration": 62,
    "start_time": "2024-08-19T00:26:32.204Z"
   },
   {
    "duration": 101,
    "start_time": "2024-08-19T00:26:32.269Z"
   },
   {
    "duration": 4,
    "start_time": "2024-08-19T00:26:32.374Z"
   },
   {
    "duration": 29,
    "start_time": "2024-08-19T00:26:32.381Z"
   },
   {
    "duration": 223,
    "start_time": "2024-08-19T00:26:32.413Z"
   },
   {
    "duration": 21,
    "start_time": "2024-08-19T00:26:32.639Z"
   },
   {
    "duration": 18,
    "start_time": "2024-08-19T00:26:32.663Z"
   },
   {
    "duration": 48,
    "start_time": "2024-08-19T00:26:32.684Z"
   },
   {
    "duration": 18,
    "start_time": "2024-08-19T00:26:32.739Z"
   },
   {
    "duration": 20,
    "start_time": "2024-08-19T00:26:32.759Z"
   },
   {
    "duration": 53,
    "start_time": "2024-08-19T00:26:32.781Z"
   },
   {
    "duration": 189,
    "start_time": "2024-08-19T00:26:32.838Z"
   },
   {
    "duration": 20,
    "start_time": "2024-08-19T00:26:33.030Z"
   },
   {
    "duration": 20,
    "start_time": "2024-08-19T00:26:33.054Z"
   },
   {
    "duration": 402,
    "start_time": "2024-08-19T00:28:05.228Z"
   },
   {
    "duration": 1317,
    "start_time": "2024-08-19T00:28:11.623Z"
   },
   {
    "duration": 629,
    "start_time": "2024-08-19T00:28:12.945Z"
   },
   {
    "duration": 65,
    "start_time": "2024-08-19T00:28:13.577Z"
   },
   {
    "duration": 17,
    "start_time": "2024-08-19T00:28:13.647Z"
   },
   {
    "duration": 232,
    "start_time": "2024-08-19T00:28:13.667Z"
   },
   {
    "duration": 29,
    "start_time": "2024-08-19T00:28:13.902Z"
   },
   {
    "duration": 11,
    "start_time": "2024-08-19T00:28:13.935Z"
   },
   {
    "duration": 8,
    "start_time": "2024-08-19T00:28:13.950Z"
   },
   {
    "duration": 17,
    "start_time": "2024-08-19T00:28:13.961Z"
   },
   {
    "duration": 51,
    "start_time": "2024-08-19T00:28:13.983Z"
   },
   {
    "duration": 22,
    "start_time": "2024-08-19T00:28:14.037Z"
   },
   {
    "duration": 230,
    "start_time": "2024-08-19T00:28:14.062Z"
   },
   {
    "duration": 17,
    "start_time": "2024-08-19T00:28:14.295Z"
   },
   {
    "duration": 127,
    "start_time": "2024-08-19T00:28:14.330Z"
   },
   {
    "duration": 121,
    "start_time": "2024-08-19T00:28:14.459Z"
   },
   {
    "duration": 110,
    "start_time": "2024-08-19T00:28:14.583Z"
   },
   {
    "duration": 37,
    "start_time": "2024-08-19T00:28:14.696Z"
   },
   {
    "duration": 274,
    "start_time": "2024-08-19T00:28:14.736Z"
   },
   {
    "duration": 236,
    "start_time": "2024-08-19T00:28:15.013Z"
   },
   {
    "duration": 400,
    "start_time": "2024-08-19T00:28:15.253Z"
   },
   {
    "duration": 11,
    "start_time": "2024-08-19T00:28:15.656Z"
   },
   {
    "duration": 26,
    "start_time": "2024-08-19T00:28:15.670Z"
   },
   {
    "duration": 216,
    "start_time": "2024-08-19T00:28:15.705Z"
   },
   {
    "duration": 33,
    "start_time": "2024-08-19T00:28:15.932Z"
   },
   {
    "duration": 14,
    "start_time": "2024-08-19T00:28:15.969Z"
   },
   {
    "duration": 62,
    "start_time": "2024-08-19T00:28:15.985Z"
   },
   {
    "duration": 81,
    "start_time": "2024-08-19T00:28:16.051Z"
   },
   {
    "duration": 6,
    "start_time": "2024-08-19T00:28:16.141Z"
   },
   {
    "duration": 21,
    "start_time": "2024-08-19T00:28:16.150Z"
   },
   {
    "duration": 293,
    "start_time": "2024-08-19T00:28:16.174Z"
   },
   {
    "duration": 19,
    "start_time": "2024-08-19T00:28:16.470Z"
   },
   {
    "duration": 45,
    "start_time": "2024-08-19T00:28:16.493Z"
   },
   {
    "duration": 14,
    "start_time": "2024-08-19T00:28:16.541Z"
   },
   {
    "duration": 17,
    "start_time": "2024-08-19T00:28:16.558Z"
   },
   {
    "duration": 53,
    "start_time": "2024-08-19T00:28:16.578Z"
   },
   {
    "duration": 15,
    "start_time": "2024-08-19T00:28:16.634Z"
   },
   {
    "duration": 204,
    "start_time": "2024-08-19T00:28:16.652Z"
   },
   {
    "duration": 15,
    "start_time": "2024-08-19T00:28:16.859Z"
   },
   {
    "duration": 20,
    "start_time": "2024-08-19T00:28:16.877Z"
   },
   {
    "duration": 128,
    "start_time": "2024-08-19T00:47:50.858Z"
   },
   {
    "duration": 1283,
    "start_time": "2024-08-19T00:48:05.794Z"
   },
   {
    "duration": 1263,
    "start_time": "2024-08-19T00:48:28.104Z"
   },
   {
    "duration": 621,
    "start_time": "2024-08-19T00:48:29.371Z"
   },
   {
    "duration": 66,
    "start_time": "2024-08-19T00:48:29.995Z"
   },
   {
    "duration": 15,
    "start_time": "2024-08-19T00:48:30.065Z"
   },
   {
    "duration": 231,
    "start_time": "2024-08-19T00:48:30.083Z"
   },
   {
    "duration": 18,
    "start_time": "2024-08-19T00:48:30.317Z"
   },
   {
    "duration": 12,
    "start_time": "2024-08-19T00:48:30.338Z"
   },
   {
    "duration": 10,
    "start_time": "2024-08-19T00:48:30.352Z"
   },
   {
    "duration": 17,
    "start_time": "2024-08-19T00:48:30.365Z"
   },
   {
    "duration": 11,
    "start_time": "2024-08-19T00:48:30.432Z"
   },
   {
    "duration": 20,
    "start_time": "2024-08-19T00:48:30.446Z"
   },
   {
    "duration": 235,
    "start_time": "2024-08-19T00:48:30.470Z"
   },
   {
    "duration": 24,
    "start_time": "2024-08-19T00:48:30.708Z"
   },
   {
    "duration": 127,
    "start_time": "2024-08-19T00:48:30.735Z"
   },
   {
    "duration": 118,
    "start_time": "2024-08-19T00:48:30.864Z"
   },
   {
    "duration": 109,
    "start_time": "2024-08-19T00:48:30.985Z"
   },
   {
    "duration": 38,
    "start_time": "2024-08-19T00:48:31.097Z"
   },
   {
    "duration": 279,
    "start_time": "2024-08-19T00:48:31.138Z"
   },
   {
    "duration": 243,
    "start_time": "2024-08-19T00:48:31.420Z"
   },
   {
    "duration": 417,
    "start_time": "2024-08-19T00:48:31.666Z"
   },
   {
    "duration": 11,
    "start_time": "2024-08-19T00:48:32.085Z"
   },
   {
    "duration": 49,
    "start_time": "2024-08-19T00:48:32.099Z"
   },
   {
    "duration": 225,
    "start_time": "2024-08-19T00:48:32.151Z"
   },
   {
    "duration": 34,
    "start_time": "2024-08-19T00:48:32.379Z"
   },
   {
    "duration": 17,
    "start_time": "2024-08-19T00:48:32.432Z"
   },
   {
    "duration": 33,
    "start_time": "2024-08-19T00:48:32.452Z"
   },
   {
    "duration": 106,
    "start_time": "2024-08-19T00:48:32.487Z"
   },
   {
    "duration": 3,
    "start_time": "2024-08-19T00:48:32.600Z"
   },
   {
    "duration": 36,
    "start_time": "2024-08-19T00:48:32.606Z"
   },
   {
    "duration": 279,
    "start_time": "2024-08-19T00:48:32.645Z"
   },
   {
    "duration": 22,
    "start_time": "2024-08-19T00:48:32.927Z"
   },
   {
    "duration": 18,
    "start_time": "2024-08-19T00:48:32.951Z"
   },
   {
    "duration": 15,
    "start_time": "2024-08-19T00:48:32.972Z"
   },
   {
    "duration": 51,
    "start_time": "2024-08-19T00:48:32.990Z"
   },
   {
    "duration": 21,
    "start_time": "2024-08-19T00:48:33.044Z"
   },
   {
    "duration": 15,
    "start_time": "2024-08-19T00:48:33.067Z"
   },
   {
    "duration": 234,
    "start_time": "2024-08-19T00:48:33.085Z"
   },
   {
    "duration": 22,
    "start_time": "2024-08-19T00:48:33.322Z"
   },
   {
    "duration": 21,
    "start_time": "2024-08-19T00:48:33.347Z"
   },
   {
    "duration": 167,
    "start_time": "2024-08-19T00:48:33.371Z"
   },
   {
    "duration": 1272,
    "start_time": "2024-08-19T00:48:33.541Z"
   },
   {
    "duration": 337,
    "start_time": "2024-08-19T01:59:19.369Z"
   },
   {
    "duration": 5327,
    "start_time": "2024-08-19T01:59:37.663Z"
   },
   {
    "duration": 880,
    "start_time": "2024-08-19T01:59:42.995Z"
   },
   {
    "duration": 77,
    "start_time": "2024-08-19T01:59:43.879Z"
   },
   {
    "duration": 23,
    "start_time": "2024-08-19T01:59:43.963Z"
   },
   {
    "duration": 223,
    "start_time": "2024-08-19T01:59:44.007Z"
   },
   {
    "duration": 19,
    "start_time": "2024-08-19T01:59:44.234Z"
   },
   {
    "duration": 16,
    "start_time": "2024-08-19T01:59:44.259Z"
   },
   {
    "duration": 12,
    "start_time": "2024-08-19T01:59:44.309Z"
   },
   {
    "duration": 22,
    "start_time": "2024-08-19T01:59:44.325Z"
   },
   {
    "duration": 13,
    "start_time": "2024-08-19T01:59:44.355Z"
   },
   {
    "duration": 61,
    "start_time": "2024-08-19T01:59:44.371Z"
   },
   {
    "duration": 252,
    "start_time": "2024-08-19T01:59:44.436Z"
   },
   {
    "duration": 32,
    "start_time": "2024-08-19T01:59:44.691Z"
   },
   {
    "duration": 167,
    "start_time": "2024-08-19T01:59:44.730Z"
   },
   {
    "duration": 164,
    "start_time": "2024-08-19T01:59:44.900Z"
   },
   {
    "duration": 150,
    "start_time": "2024-08-19T01:59:45.068Z"
   },
   {
    "duration": 38,
    "start_time": "2024-08-19T01:59:45.221Z"
   },
   {
    "duration": 408,
    "start_time": "2024-08-19T01:59:45.263Z"
   },
   {
    "duration": 381,
    "start_time": "2024-08-19T01:59:45.675Z"
   },
   {
    "duration": 554,
    "start_time": "2024-08-19T01:59:46.060Z"
   },
   {
    "duration": 12,
    "start_time": "2024-08-19T01:59:46.618Z"
   },
   {
    "duration": 39,
    "start_time": "2024-08-19T01:59:46.633Z"
   },
   {
    "duration": 267,
    "start_time": "2024-08-19T01:59:46.675Z"
   },
   {
    "duration": 52,
    "start_time": "2024-08-19T01:59:46.945Z"
   },
   {
    "duration": 17,
    "start_time": "2024-08-19T01:59:47.006Z"
   },
   {
    "duration": 46,
    "start_time": "2024-08-19T01:59:47.026Z"
   },
   {
    "duration": 134,
    "start_time": "2024-08-19T01:59:47.077Z"
   },
   {
    "duration": 6,
    "start_time": "2024-08-19T01:59:47.220Z"
   },
   {
    "duration": 30,
    "start_time": "2024-08-19T01:59:47.229Z"
   },
   {
    "duration": 303,
    "start_time": "2024-08-19T01:59:47.262Z"
   },
   {
    "duration": 40,
    "start_time": "2024-08-19T01:59:47.568Z"
   },
   {
    "duration": 26,
    "start_time": "2024-08-19T01:59:47.612Z"
   },
   {
    "duration": 20,
    "start_time": "2024-08-19T01:59:47.642Z"
   },
   {
    "duration": 57,
    "start_time": "2024-08-19T01:59:47.665Z"
   },
   {
    "duration": 25,
    "start_time": "2024-08-19T01:59:47.726Z"
   },
   {
    "duration": 23,
    "start_time": "2024-08-19T01:59:47.755Z"
   },
   {
    "duration": 269,
    "start_time": "2024-08-19T01:59:47.811Z"
   },
   {
    "duration": 35,
    "start_time": "2024-08-19T01:59:48.087Z"
   },
   {
    "duration": 34,
    "start_time": "2024-08-19T01:59:48.137Z"
   },
   {
    "duration": 198,
    "start_time": "2024-08-19T01:59:48.183Z"
   },
   {
    "duration": 38,
    "start_time": "2024-08-19T01:59:48.396Z"
   },
   {
    "duration": 33,
    "start_time": "2024-08-19T02:00:28.254Z"
   },
   {
    "duration": 5,
    "start_time": "2024-08-19T02:01:42.589Z"
   },
   {
    "duration": 524,
    "start_time": "2024-08-19T02:02:16.365Z"
   },
   {
    "duration": 256,
    "start_time": "2024-08-19T02:02:35.068Z"
   },
   {
    "duration": 59,
    "start_time": "2024-08-19T02:03:29.963Z"
   },
   {
    "duration": 232,
    "start_time": "2024-08-19T02:03:34.980Z"
   },
   {
    "duration": 34,
    "start_time": "2024-08-19T02:04:10.688Z"
   },
   {
    "duration": 259,
    "start_time": "2024-08-19T02:04:28.150Z"
   },
   {
    "duration": 325,
    "start_time": "2024-08-19T05:32:52.382Z"
   },
   {
    "duration": 4770,
    "start_time": "2024-08-19T05:33:02.644Z"
   },
   {
    "duration": 724,
    "start_time": "2024-08-19T05:33:07.418Z"
   },
   {
    "duration": 66,
    "start_time": "2024-08-19T05:33:08.145Z"
   },
   {
    "duration": 15,
    "start_time": "2024-08-19T05:33:08.218Z"
   },
   {
    "duration": 233,
    "start_time": "2024-08-19T05:33:08.236Z"
   },
   {
    "duration": 14,
    "start_time": "2024-08-19T05:33:08.473Z"
   },
   {
    "duration": 14,
    "start_time": "2024-08-19T05:33:08.506Z"
   },
   {
    "duration": 9,
    "start_time": "2024-08-19T05:33:08.524Z"
   },
   {
    "duration": 16,
    "start_time": "2024-08-19T05:33:08.537Z"
   },
   {
    "duration": 51,
    "start_time": "2024-08-19T05:33:08.560Z"
   },
   {
    "duration": 22,
    "start_time": "2024-08-19T05:33:08.614Z"
   },
   {
    "duration": 235,
    "start_time": "2024-08-19T05:33:08.639Z"
   },
   {
    "duration": 29,
    "start_time": "2024-08-19T05:33:08.877Z"
   },
   {
    "duration": 126,
    "start_time": "2024-08-19T05:33:08.910Z"
   },
   {
    "duration": 125,
    "start_time": "2024-08-19T05:33:09.039Z"
   },
   {
    "duration": 113,
    "start_time": "2024-08-19T05:33:09.167Z"
   },
   {
    "duration": 37,
    "start_time": "2024-08-19T05:33:09.282Z"
   },
   {
    "duration": 280,
    "start_time": "2024-08-19T05:33:09.322Z"
   },
   {
    "duration": 246,
    "start_time": "2024-08-19T05:33:09.607Z"
   },
   {
    "duration": 394,
    "start_time": "2024-08-19T05:33:09.856Z"
   },
   {
    "duration": 13,
    "start_time": "2024-08-19T05:33:10.252Z"
   },
   {
    "duration": 43,
    "start_time": "2024-08-19T05:33:10.268Z"
   },
   {
    "duration": 208,
    "start_time": "2024-08-19T05:33:10.314Z"
   },
   {
    "duration": 47,
    "start_time": "2024-08-19T05:33:10.525Z"
   },
   {
    "duration": 31,
    "start_time": "2024-08-19T05:33:10.574Z"
   },
   {
    "duration": 34,
    "start_time": "2024-08-19T05:33:10.609Z"
   },
   {
    "duration": 92,
    "start_time": "2024-08-19T05:33:10.647Z"
   },
   {
    "duration": 4,
    "start_time": "2024-08-19T05:33:10.746Z"
   },
   {
    "duration": 22,
    "start_time": "2024-08-19T05:33:10.753Z"
   },
   {
    "duration": 236,
    "start_time": "2024-08-19T05:33:10.778Z"
   },
   {
    "duration": 19,
    "start_time": "2024-08-19T05:33:11.017Z"
   },
   {
    "duration": 18,
    "start_time": "2024-08-19T05:33:11.039Z"
   },
   {
    "duration": 51,
    "start_time": "2024-08-19T05:33:11.060Z"
   },
   {
    "duration": 19,
    "start_time": "2024-08-19T05:33:11.114Z"
   },
   {
    "duration": 20,
    "start_time": "2024-08-19T05:33:11.136Z"
   },
   {
    "duration": 52,
    "start_time": "2024-08-19T05:33:11.159Z"
   },
   {
    "duration": 204,
    "start_time": "2024-08-19T05:33:11.214Z"
   },
   {
    "duration": 17,
    "start_time": "2024-08-19T05:33:11.421Z"
   },
   {
    "duration": 20,
    "start_time": "2024-08-19T05:33:11.441Z"
   },
   {
    "duration": 174,
    "start_time": "2024-08-19T05:33:11.464Z"
   },
   {
    "duration": 17,
    "start_time": "2024-08-19T05:33:11.641Z"
   },
   {
    "duration": 45,
    "start_time": "2024-08-19T05:33:11.661Z"
   },
   {
    "duration": 5,
    "start_time": "2024-08-19T05:33:11.709Z"
   },
   {
    "duration": 250,
    "start_time": "2024-08-19T05:33:11.717Z"
   },
   {
    "duration": 205,
    "start_time": "2024-08-19T05:33:11.970Z"
   },
   {
    "duration": 496,
    "start_time": "2024-08-19T05:33:12.178Z"
   },
   {
    "duration": 26,
    "start_time": "2024-08-19T05:33:36.770Z"
   },
   {
    "duration": 886,
    "start_time": "2024-08-19T05:33:46.664Z"
   },
   {
    "duration": 12,
    "start_time": "2024-08-19T05:35:20.928Z"
   },
   {
    "duration": 10,
    "start_time": "2024-08-19T05:43:12.930Z"
   },
   {
    "duration": 23,
    "start_time": "2024-08-19T05:44:02.436Z"
   },
   {
    "duration": 39,
    "start_time": "2024-08-19T05:44:34.462Z"
   },
   {
    "duration": 8,
    "start_time": "2024-08-19T05:46:23.434Z"
   },
   {
    "duration": 10,
    "start_time": "2024-08-19T05:46:28.616Z"
   },
   {
    "duration": 253,
    "start_time": "2024-08-19T05:55:06.782Z"
   },
   {
    "duration": 92,
    "start_time": "2024-08-19T06:02:20.724Z"
   },
   {
    "duration": 117,
    "start_time": "2024-08-19T06:02:51.201Z"
   },
   {
    "duration": 22,
    "start_time": "2024-08-19T06:05:22.097Z"
   },
   {
    "duration": 85,
    "start_time": "2024-08-19T06:06:01.409Z"
   },
   {
    "duration": 141,
    "start_time": "2024-08-19T06:06:54.465Z"
   },
   {
    "duration": 10,
    "start_time": "2024-08-19T06:08:58.115Z"
   },
   {
    "duration": 16,
    "start_time": "2024-08-19T06:09:04.572Z"
   },
   {
    "duration": 193,
    "start_time": "2024-08-19T06:09:42.697Z"
   },
   {
    "duration": 86,
    "start_time": "2024-08-19T06:11:29.521Z"
   },
   {
    "duration": 4999,
    "start_time": "2024-08-19T23:48:24.815Z"
   },
   {
    "duration": 725,
    "start_time": "2024-08-19T23:48:29.817Z"
   },
   {
    "duration": 61,
    "start_time": "2024-08-19T23:48:30.545Z"
   },
   {
    "duration": 18,
    "start_time": "2024-08-19T23:48:30.610Z"
   },
   {
    "duration": 233,
    "start_time": "2024-08-19T23:48:30.631Z"
   },
   {
    "duration": 14,
    "start_time": "2024-08-19T23:48:30.867Z"
   },
   {
    "duration": 11,
    "start_time": "2024-08-19T23:48:30.902Z"
   },
   {
    "duration": 8,
    "start_time": "2024-08-19T23:48:30.916Z"
   },
   {
    "duration": 17,
    "start_time": "2024-08-19T23:48:30.928Z"
   },
   {
    "duration": 55,
    "start_time": "2024-08-19T23:48:30.951Z"
   },
   {
    "duration": 21,
    "start_time": "2024-08-19T23:48:31.009Z"
   },
   {
    "duration": 227,
    "start_time": "2024-08-19T23:48:31.032Z"
   },
   {
    "duration": 15,
    "start_time": "2024-08-19T23:48:31.261Z"
   },
   {
    "duration": 161,
    "start_time": "2024-08-19T23:48:31.279Z"
   },
   {
    "duration": 120,
    "start_time": "2024-08-19T23:48:31.443Z"
   },
   {
    "duration": 109,
    "start_time": "2024-08-19T23:48:31.566Z"
   },
   {
    "duration": 43,
    "start_time": "2024-08-19T23:48:31.678Z"
   },
   {
    "duration": 283,
    "start_time": "2024-08-19T23:48:31.724Z"
   },
   {
    "duration": 244,
    "start_time": "2024-08-19T23:48:32.010Z"
   },
   {
    "duration": 399,
    "start_time": "2024-08-19T23:48:32.256Z"
   },
   {
    "duration": 11,
    "start_time": "2024-08-19T23:48:32.659Z"
   },
   {
    "duration": 49,
    "start_time": "2024-08-19T23:48:32.672Z"
   },
   {
    "duration": 227,
    "start_time": "2024-08-19T23:48:32.724Z"
   },
   {
    "duration": 48,
    "start_time": "2024-08-19T23:48:32.954Z"
   },
   {
    "duration": 15,
    "start_time": "2024-08-19T23:48:33.005Z"
   },
   {
    "duration": 34,
    "start_time": "2024-08-19T23:48:33.023Z"
   },
   {
    "duration": 104,
    "start_time": "2024-08-19T23:48:33.059Z"
   },
   {
    "duration": 3,
    "start_time": "2024-08-19T23:48:33.171Z"
   },
   {
    "duration": 37,
    "start_time": "2024-08-19T23:48:33.177Z"
   },
   {
    "duration": 212,
    "start_time": "2024-08-19T23:48:33.217Z"
   },
   {
    "duration": 18,
    "start_time": "2024-08-19T23:48:33.431Z"
   },
   {
    "duration": 18,
    "start_time": "2024-08-19T23:48:33.452Z"
   },
   {
    "duration": 14,
    "start_time": "2024-08-19T23:48:33.501Z"
   },
   {
    "duration": 17,
    "start_time": "2024-08-19T23:48:33.519Z"
   },
   {
    "duration": 19,
    "start_time": "2024-08-19T23:48:33.539Z"
   },
   {
    "duration": 15,
    "start_time": "2024-08-19T23:48:33.601Z"
   },
   {
    "duration": 200,
    "start_time": "2024-08-19T23:48:33.618Z"
   },
   {
    "duration": 15,
    "start_time": "2024-08-19T23:48:33.821Z"
   },
   {
    "duration": 20,
    "start_time": "2024-08-19T23:48:33.839Z"
   },
   {
    "duration": 164,
    "start_time": "2024-08-19T23:48:33.862Z"
   },
   {
    "duration": 16,
    "start_time": "2024-08-19T23:48:34.028Z"
   },
   {
    "duration": 22,
    "start_time": "2024-08-19T23:48:34.047Z"
   },
   {
    "duration": 29,
    "start_time": "2024-08-19T23:48:34.072Z"
   },
   {
    "duration": 249,
    "start_time": "2024-08-19T23:48:34.104Z"
   },
   {
    "duration": 208,
    "start_time": "2024-08-19T23:48:34.356Z"
   },
   {
    "duration": 13,
    "start_time": "2024-08-19T23:48:34.567Z"
   },
   {
    "duration": 53,
    "start_time": "2024-08-19T23:48:34.582Z"
   },
   {
    "duration": 9,
    "start_time": "2024-08-19T23:48:34.639Z"
   },
   {
    "duration": 155,
    "start_time": "2024-08-19T23:48:34.650Z"
   },
   {
    "duration": 145,
    "start_time": "2024-08-19T23:48:34.809Z"
   },
   {
    "duration": 15,
    "start_time": "2024-08-19T23:48:34.957Z"
   },
   {
    "duration": 232,
    "start_time": "2024-08-19T23:48:34.976Z"
   },
   {
    "duration": 16,
    "start_time": "2024-08-19T23:50:22.249Z"
   },
   {
    "duration": 201,
    "start_time": "2024-08-19T23:50:24.618Z"
   },
   {
    "duration": 193,
    "start_time": "2024-08-19T23:53:58.302Z"
   },
   {
    "duration": 1291,
    "start_time": "2024-08-19T23:54:14.548Z"
   },
   {
    "duration": 667,
    "start_time": "2024-08-19T23:54:15.843Z"
   },
   {
    "duration": 61,
    "start_time": "2024-08-19T23:54:16.513Z"
   },
   {
    "duration": 37,
    "start_time": "2024-08-19T23:54:16.579Z"
   },
   {
    "duration": 216,
    "start_time": "2024-08-19T23:54:16.619Z"
   },
   {
    "duration": 15,
    "start_time": "2024-08-19T23:54:16.838Z"
   },
   {
    "duration": 11,
    "start_time": "2024-08-19T23:54:16.857Z"
   },
   {
    "duration": 40,
    "start_time": "2024-08-19T23:54:16.871Z"
   },
   {
    "duration": 17,
    "start_time": "2024-08-19T23:54:16.913Z"
   },
   {
    "duration": 13,
    "start_time": "2024-08-19T23:54:16.936Z"
   },
   {
    "duration": 59,
    "start_time": "2024-08-19T23:54:16.952Z"
   },
   {
    "duration": 233,
    "start_time": "2024-08-19T23:54:17.014Z"
   },
   {
    "duration": 15,
    "start_time": "2024-08-19T23:54:17.250Z"
   },
   {
    "duration": 135,
    "start_time": "2024-08-19T23:54:17.268Z"
   },
   {
    "duration": 118,
    "start_time": "2024-08-19T23:54:17.406Z"
   },
   {
    "duration": 109,
    "start_time": "2024-08-19T23:54:17.527Z"
   },
   {
    "duration": 26,
    "start_time": "2024-08-19T23:54:17.639Z"
   },
   {
    "duration": 294,
    "start_time": "2024-08-19T23:54:17.667Z"
   },
   {
    "duration": 249,
    "start_time": "2024-08-19T23:54:17.964Z"
   },
   {
    "duration": 411,
    "start_time": "2024-08-19T23:54:18.216Z"
   },
   {
    "duration": 11,
    "start_time": "2024-08-19T23:54:18.631Z"
   },
   {
    "duration": 28,
    "start_time": "2024-08-19T23:54:18.645Z"
   },
   {
    "duration": 201,
    "start_time": "2024-08-19T23:54:18.702Z"
   },
   {
    "duration": 33,
    "start_time": "2024-08-19T23:54:18.907Z"
   },
   {
    "duration": 15,
    "start_time": "2024-08-19T23:54:18.943Z"
   },
   {
    "duration": 66,
    "start_time": "2024-08-19T23:54:18.961Z"
   },
   {
    "duration": 83,
    "start_time": "2024-08-19T23:54:19.030Z"
   },
   {
    "duration": 3,
    "start_time": "2024-08-19T23:54:19.121Z"
   },
   {
    "duration": 21,
    "start_time": "2024-08-19T23:54:19.127Z"
   },
   {
    "duration": 298,
    "start_time": "2024-08-19T23:54:19.151Z"
   },
   {
    "duration": 20,
    "start_time": "2024-08-19T23:54:19.452Z"
   },
   {
    "duration": 40,
    "start_time": "2024-08-19T23:54:19.475Z"
   },
   {
    "duration": 16,
    "start_time": "2024-08-19T23:54:19.518Z"
   },
   {
    "duration": 18,
    "start_time": "2024-08-19T23:54:19.536Z"
   },
   {
    "duration": 57,
    "start_time": "2024-08-19T23:54:19.556Z"
   },
   {
    "duration": 15,
    "start_time": "2024-08-19T23:54:19.616Z"
   },
   {
    "duration": 224,
    "start_time": "2024-08-19T23:54:19.634Z"
   },
   {
    "duration": 19,
    "start_time": "2024-08-19T23:54:19.861Z"
   },
   {
    "duration": 35,
    "start_time": "2024-08-19T23:54:19.882Z"
   },
   {
    "duration": 151,
    "start_time": "2024-08-19T23:54:19.920Z"
   },
   {
    "duration": 30,
    "start_time": "2024-08-19T23:54:20.074Z"
   },
   {
    "duration": 21,
    "start_time": "2024-08-19T23:54:20.107Z"
   },
   {
    "duration": 5,
    "start_time": "2024-08-19T23:54:20.131Z"
   },
   {
    "duration": 256,
    "start_time": "2024-08-19T23:54:20.139Z"
   },
   {
    "duration": 214,
    "start_time": "2024-08-19T23:54:20.404Z"
   },
   {
    "duration": 12,
    "start_time": "2024-08-19T23:54:20.621Z"
   },
   {
    "duration": 36,
    "start_time": "2024-08-19T23:54:20.636Z"
   },
   {
    "duration": 9,
    "start_time": "2024-08-19T23:54:20.702Z"
   },
   {
    "duration": 139,
    "start_time": "2024-08-19T23:54:20.714Z"
   },
   {
    "duration": 154,
    "start_time": "2024-08-19T23:54:20.855Z"
   },
   {
    "duration": 410,
    "start_time": "2024-08-19T23:54:21.012Z"
   },
   {
    "duration": 0,
    "start_time": "2024-08-19T23:54:21.425Z"
   },
   {
    "duration": 15,
    "start_time": "2024-08-19T23:54:29.859Z"
   },
   {
    "duration": 29,
    "start_time": "2024-08-19T23:54:32.724Z"
   },
   {
    "duration": 206,
    "start_time": "2024-08-19T23:54:40.466Z"
   },
   {
    "duration": 26,
    "start_time": "2024-08-19T23:59:54.815Z"
   },
   {
    "duration": 29,
    "start_time": "2024-08-20T00:00:03.446Z"
   },
   {
    "duration": 29,
    "start_time": "2024-08-20T00:00:17.263Z"
   },
   {
    "duration": 48,
    "start_time": "2024-08-20T00:00:27.003Z"
   },
   {
    "duration": 9,
    "start_time": "2024-08-20T00:00:35.579Z"
   },
   {
    "duration": 9,
    "start_time": "2024-08-20T00:00:49.235Z"
   },
   {
    "duration": 18,
    "start_time": "2024-08-20T00:00:54.794Z"
   },
   {
    "duration": 897,
    "start_time": "2024-08-20T00:10:12.359Z"
   },
   {
    "duration": 13,
    "start_time": "2024-08-20T00:10:33.791Z"
   },
   {
    "duration": 199,
    "start_time": "2024-08-20T00:12:37.194Z"
   },
   {
    "duration": 290,
    "start_time": "2024-08-20T00:12:44.719Z"
   },
   {
    "duration": 187,
    "start_time": "2024-08-20T00:13:07.783Z"
   },
   {
    "duration": 220,
    "start_time": "2024-08-20T00:13:21.161Z"
   },
   {
    "duration": 212,
    "start_time": "2024-08-20T00:13:32.532Z"
   },
   {
    "duration": 236,
    "start_time": "2024-08-20T00:13:46.605Z"
   },
   {
    "duration": 244,
    "start_time": "2024-08-20T00:13:55.652Z"
   },
   {
    "duration": 224,
    "start_time": "2024-08-20T01:01:43.726Z"
   },
   {
    "duration": 243,
    "start_time": "2024-08-20T01:23:20.664Z"
   },
   {
    "duration": 240,
    "start_time": "2024-08-20T01:23:44.277Z"
   },
   {
    "duration": 34,
    "start_time": "2024-08-20T01:23:48.154Z"
   },
   {
    "duration": 224,
    "start_time": "2024-08-20T01:28:28.750Z"
   },
   {
    "duration": 228,
    "start_time": "2024-08-20T01:28:47.807Z"
   },
   {
    "duration": 310,
    "start_time": "2024-08-20T04:31:59.210Z"
   },
   {
    "duration": 4923,
    "start_time": "2024-08-20T04:32:08.985Z"
   },
   {
    "duration": 717,
    "start_time": "2024-08-20T04:32:13.911Z"
   },
   {
    "duration": 61,
    "start_time": "2024-08-20T04:32:14.630Z"
   },
   {
    "duration": 15,
    "start_time": "2024-08-20T04:32:14.705Z"
   },
   {
    "duration": 227,
    "start_time": "2024-08-20T04:32:14.723Z"
   },
   {
    "duration": 14,
    "start_time": "2024-08-20T04:32:14.953Z"
   },
   {
    "duration": 33,
    "start_time": "2024-08-20T04:32:14.971Z"
   },
   {
    "duration": 9,
    "start_time": "2024-08-20T04:32:15.007Z"
   },
   {
    "duration": 17,
    "start_time": "2024-08-20T04:32:15.019Z"
   },
   {
    "duration": 11,
    "start_time": "2024-08-20T04:32:15.042Z"
   },
   {
    "duration": 65,
    "start_time": "2024-08-20T04:32:15.055Z"
   },
   {
    "duration": 223,
    "start_time": "2024-08-20T04:32:15.123Z"
   },
   {
    "duration": 15,
    "start_time": "2024-08-20T04:32:15.349Z"
   },
   {
    "duration": 136,
    "start_time": "2024-08-20T04:32:15.367Z"
   },
   {
    "duration": 121,
    "start_time": "2024-08-20T04:32:15.506Z"
   },
   {
    "duration": 112,
    "start_time": "2024-08-20T04:32:15.630Z"
   },
   {
    "duration": 25,
    "start_time": "2024-08-20T04:32:15.745Z"
   },
   {
    "duration": 56,
    "start_time": "2024-08-20T04:32:15.773Z"
   },
   {
    "duration": 308,
    "start_time": "2024-08-20T04:32:15.831Z"
   },
   {
    "duration": 248,
    "start_time": "2024-08-20T04:32:16.142Z"
   },
   {
    "duration": 402,
    "start_time": "2024-08-20T04:32:16.401Z"
   },
   {
    "duration": 11,
    "start_time": "2024-08-20T04:32:16.806Z"
   },
   {
    "duration": 29,
    "start_time": "2024-08-20T04:32:16.820Z"
   },
   {
    "duration": 9,
    "start_time": "2024-08-20T04:32:16.852Z"
   },
   {
    "duration": 204,
    "start_time": "2024-08-20T04:32:16.902Z"
   },
   {
    "duration": 33,
    "start_time": "2024-08-20T04:32:17.109Z"
   },
   {
    "duration": 15,
    "start_time": "2024-08-20T04:32:17.145Z"
   },
   {
    "duration": 63,
    "start_time": "2024-08-20T04:32:17.168Z"
   },
   {
    "duration": 87,
    "start_time": "2024-08-20T04:32:17.234Z"
   },
   {
    "duration": 4,
    "start_time": "2024-08-20T04:32:17.324Z"
   },
   {
    "duration": 21,
    "start_time": "2024-08-20T04:32:17.331Z"
   },
   {
    "duration": 227,
    "start_time": "2024-08-20T04:32:17.356Z"
   },
   {
    "duration": 30,
    "start_time": "2024-08-20T04:32:17.587Z"
   },
   {
    "duration": 18,
    "start_time": "2024-08-20T04:32:17.620Z"
   },
   {
    "duration": 14,
    "start_time": "2024-08-20T04:32:17.642Z"
   },
   {
    "duration": 54,
    "start_time": "2024-08-20T04:32:17.659Z"
   },
   {
    "duration": 19,
    "start_time": "2024-08-20T04:32:17.717Z"
   },
   {
    "duration": 16,
    "start_time": "2024-08-20T04:32:17.738Z"
   },
   {
    "duration": 218,
    "start_time": "2024-08-20T04:32:17.758Z"
   },
   {
    "duration": 23,
    "start_time": "2024-08-20T04:32:17.978Z"
   },
   {
    "duration": 24,
    "start_time": "2024-08-20T04:32:18.005Z"
   },
   {
    "duration": 167,
    "start_time": "2024-08-20T04:32:18.034Z"
   },
   {
    "duration": 18,
    "start_time": "2024-08-20T04:32:18.205Z"
   },
   {
    "duration": 23,
    "start_time": "2024-08-20T04:32:18.227Z"
   },
   {
    "duration": 4,
    "start_time": "2024-08-20T04:32:18.253Z"
   },
   {
    "duration": 280,
    "start_time": "2024-08-20T04:32:18.260Z"
   },
   {
    "duration": 229,
    "start_time": "2024-08-20T04:32:18.544Z"
   },
   {
    "duration": 28,
    "start_time": "2024-08-20T04:32:18.777Z"
   },
   {
    "duration": 36,
    "start_time": "2024-08-20T04:32:18.808Z"
   },
   {
    "duration": 9,
    "start_time": "2024-08-20T04:32:18.847Z"
   },
   {
    "duration": 218,
    "start_time": "2024-08-20T04:32:18.861Z"
   },
   {
    "duration": 155,
    "start_time": "2024-08-20T04:32:19.084Z"
   },
   {
    "duration": 15,
    "start_time": "2024-08-20T04:32:19.245Z"
   },
   {
    "duration": 239,
    "start_time": "2024-08-20T04:32:19.262Z"
   },
   {
    "duration": 9,
    "start_time": "2024-08-20T04:32:19.504Z"
   },
   {
    "duration": 13,
    "start_time": "2024-08-20T04:32:19.516Z"
   },
   {
    "duration": 256,
    "start_time": "2024-08-20T04:32:19.532Z"
   },
   {
    "duration": 4,
    "start_time": "2024-08-20T04:56:49.741Z"
   },
   {
    "duration": 21,
    "start_time": "2024-08-20T04:58:20.447Z"
   },
   {
    "duration": 34,
    "start_time": "2024-08-20T05:00:15.765Z"
   },
   {
    "duration": 25,
    "start_time": "2024-08-20T05:08:33.925Z"
   },
   {
    "duration": 27,
    "start_time": "2024-08-20T05:09:23.467Z"
   },
   {
    "duration": 67,
    "start_time": "2024-08-20T05:10:18.836Z"
   },
   {
    "duration": 52,
    "start_time": "2024-08-20T05:10:51.852Z"
   },
   {
    "duration": 19,
    "start_time": "2024-08-20T05:11:11.758Z"
   },
   {
    "duration": 49,
    "start_time": "2024-08-20T05:15:33.786Z"
   },
   {
    "duration": 20,
    "start_time": "2024-08-20T05:17:29.051Z"
   },
   {
    "duration": 7,
    "start_time": "2024-08-20T05:18:17.334Z"
   },
   {
    "duration": 7,
    "start_time": "2024-08-20T05:18:25.244Z"
   },
   {
    "duration": 20,
    "start_time": "2024-08-20T05:19:21.182Z"
   },
   {
    "duration": 20,
    "start_time": "2024-08-20T05:23:41.435Z"
   },
   {
    "duration": 20,
    "start_time": "2024-08-20T05:24:18.739Z"
   },
   {
    "duration": 5,
    "start_time": "2024-08-20T05:35:22.090Z"
   },
   {
    "duration": 9,
    "start_time": "2024-08-20T05:35:27.874Z"
   },
   {
    "duration": 32,
    "start_time": "2024-08-20T05:35:37.830Z"
   },
   {
    "duration": 1302,
    "start_time": "2024-08-20T05:36:13.305Z"
   },
   {
    "duration": 632,
    "start_time": "2024-08-20T05:36:14.611Z"
   },
   {
    "duration": 65,
    "start_time": "2024-08-20T05:36:15.246Z"
   },
   {
    "duration": 15,
    "start_time": "2024-08-20T05:36:15.315Z"
   },
   {
    "duration": 227,
    "start_time": "2024-08-20T05:36:15.332Z"
   },
   {
    "duration": 15,
    "start_time": "2024-08-20T05:36:15.562Z"
   },
   {
    "duration": 28,
    "start_time": "2024-08-20T05:36:15.579Z"
   },
   {
    "duration": 10,
    "start_time": "2024-08-20T05:36:15.610Z"
   },
   {
    "duration": 16,
    "start_time": "2024-08-20T05:36:15.623Z"
   },
   {
    "duration": 10,
    "start_time": "2024-08-20T05:36:15.645Z"
   },
   {
    "duration": 20,
    "start_time": "2024-08-20T05:36:15.702Z"
   },
   {
    "duration": 233,
    "start_time": "2024-08-20T05:36:15.725Z"
   },
   {
    "duration": 15,
    "start_time": "2024-08-20T05:36:15.961Z"
   },
   {
    "duration": 149,
    "start_time": "2024-08-20T05:36:15.980Z"
   },
   {
    "duration": 139,
    "start_time": "2024-08-20T05:36:16.132Z"
   },
   {
    "duration": 120,
    "start_time": "2024-08-20T05:36:16.273Z"
   },
   {
    "duration": 26,
    "start_time": "2024-08-20T05:36:16.401Z"
   },
   {
    "duration": 36,
    "start_time": "2024-08-20T05:36:16.429Z"
   },
   {
    "duration": 305,
    "start_time": "2024-08-20T05:36:16.468Z"
   },
   {
    "duration": 250,
    "start_time": "2024-08-20T05:36:16.776Z"
   },
   {
    "duration": 413,
    "start_time": "2024-08-20T05:36:17.029Z"
   },
   {
    "duration": 11,
    "start_time": "2024-08-20T05:36:17.445Z"
   },
   {
    "duration": 46,
    "start_time": "2024-08-20T05:36:17.458Z"
   },
   {
    "duration": 9,
    "start_time": "2024-08-20T05:36:17.507Z"
   },
   {
    "duration": 212,
    "start_time": "2024-08-20T05:36:17.519Z"
   },
   {
    "duration": 34,
    "start_time": "2024-08-20T05:36:17.733Z"
   },
   {
    "duration": 14,
    "start_time": "2024-08-20T05:36:17.769Z"
   },
   {
    "duration": 34,
    "start_time": "2024-08-20T05:36:17.809Z"
   },
   {
    "duration": 95,
    "start_time": "2024-08-20T05:36:17.846Z"
   },
   {
    "duration": 4,
    "start_time": "2024-08-20T05:36:17.944Z"
   },
   {
    "duration": 52,
    "start_time": "2024-08-20T05:36:17.951Z"
   },
   {
    "duration": 9,
    "start_time": "2024-08-20T05:36:18.008Z"
   },
   {
    "duration": 9,
    "start_time": "2024-08-20T05:36:18.020Z"
   },
   {
    "duration": 10,
    "start_time": "2024-08-20T05:36:18.032Z"
   },
   {
    "duration": 58,
    "start_time": "2024-08-20T05:36:18.046Z"
   },
   {
    "duration": 80,
    "start_time": "2024-08-20T05:36:18.107Z"
   },
   {
    "duration": 205,
    "start_time": "2024-08-20T05:36:18.204Z"
   },
   {
    "duration": 16,
    "start_time": "2024-08-20T05:36:18.412Z"
   },
   {
    "duration": 21,
    "start_time": "2024-08-20T05:36:18.430Z"
   },
   {
    "duration": 165,
    "start_time": "2024-08-20T05:36:18.454Z"
   },
   {
    "duration": 16,
    "start_time": "2024-08-20T05:36:18.622Z"
   },
   {
    "duration": 21,
    "start_time": "2024-08-20T05:36:18.641Z"
   },
   {
    "duration": 4,
    "start_time": "2024-08-20T05:36:18.666Z"
   },
   {
    "duration": 263,
    "start_time": "2024-08-20T05:36:18.703Z"
   },
   {
    "duration": 242,
    "start_time": "2024-08-20T05:36:18.969Z"
   },
   {
    "duration": 11,
    "start_time": "2024-08-20T05:36:19.215Z"
   },
   {
    "duration": 35,
    "start_time": "2024-08-20T05:36:19.229Z"
   },
   {
    "duration": 41,
    "start_time": "2024-08-20T05:36:19.266Z"
   },
   {
    "duration": 131,
    "start_time": "2024-08-20T05:36:19.313Z"
   },
   {
    "duration": 156,
    "start_time": "2024-08-20T05:36:19.447Z"
   },
   {
    "duration": 16,
    "start_time": "2024-08-20T05:36:19.606Z"
   },
   {
    "duration": 239,
    "start_time": "2024-08-20T05:36:19.625Z"
   },
   {
    "duration": 9,
    "start_time": "2024-08-20T05:36:19.867Z"
   },
   {
    "duration": 30,
    "start_time": "2024-08-20T05:36:19.878Z"
   },
   {
    "duration": 233,
    "start_time": "2024-08-20T05:36:19.911Z"
   },
   {
    "duration": 2341,
    "start_time": "2024-08-22T14:01:54.793Z"
   },
   {
    "duration": 1406,
    "start_time": "2024-08-22T14:01:57.138Z"
   },
   {
    "duration": 113,
    "start_time": "2024-08-22T14:01:58.547Z"
   },
   {
    "duration": 19,
    "start_time": "2024-08-22T14:01:58.715Z"
   },
   {
    "duration": 477,
    "start_time": "2024-08-22T14:01:58.739Z"
   },
   {
    "duration": 20,
    "start_time": "2024-08-22T14:01:59.220Z"
   },
   {
    "duration": 72,
    "start_time": "2024-08-22T14:01:59.243Z"
   },
   {
    "duration": 10,
    "start_time": "2024-08-22T14:01:59.319Z"
   },
   {
    "duration": 79,
    "start_time": "2024-08-22T14:01:59.334Z"
   },
   {
    "duration": 12,
    "start_time": "2024-08-22T14:01:59.416Z"
   },
   {
    "duration": 84,
    "start_time": "2024-08-22T14:01:59.430Z"
   },
   {
    "duration": 406,
    "start_time": "2024-08-22T14:01:59.519Z"
   },
   {
    "duration": 16,
    "start_time": "2024-08-22T14:01:59.928Z"
   },
   {
    "duration": 289,
    "start_time": "2024-08-22T14:01:59.952Z"
   },
   {
    "duration": 214,
    "start_time": "2024-08-22T14:02:00.244Z"
   },
   {
    "duration": 208,
    "start_time": "2024-08-22T14:02:00.514Z"
   },
   {
    "duration": 25,
    "start_time": "2024-08-22T14:02:00.725Z"
   },
   {
    "duration": 34,
    "start_time": "2024-08-22T14:02:00.812Z"
   },
   {
    "duration": 571,
    "start_time": "2024-08-22T14:02:00.849Z"
   },
   {
    "duration": 492,
    "start_time": "2024-08-22T14:02:01.422Z"
   },
   {
    "duration": 808,
    "start_time": "2024-08-22T14:02:01.917Z"
   },
   {
    "duration": 10,
    "start_time": "2024-08-22T14:02:02.728Z"
   },
   {
    "duration": 87,
    "start_time": "2024-08-22T14:02:02.741Z"
   },
   {
    "duration": 9,
    "start_time": "2024-08-22T14:02:02.832Z"
   },
   {
    "duration": 490,
    "start_time": "2024-08-22T14:02:02.845Z"
   },
   {
    "duration": 94,
    "start_time": "2024-08-22T14:02:03.340Z"
   },
   {
    "duration": 17,
    "start_time": "2024-08-22T14:02:03.437Z"
   },
   {
    "duration": 92,
    "start_time": "2024-08-22T14:02:03.456Z"
   },
   {
    "duration": 194,
    "start_time": "2024-08-22T14:02:03.551Z"
   },
   {
    "duration": 4,
    "start_time": "2024-08-22T14:02:03.749Z"
   },
   {
    "duration": 44,
    "start_time": "2024-08-22T14:02:03.812Z"
   },
   {
    "duration": 11,
    "start_time": "2024-08-22T14:02:03.916Z"
   },
   {
    "duration": 188,
    "start_time": "2024-08-22T14:02:03.932Z"
   },
   {
    "duration": 14,
    "start_time": "2024-08-22T14:02:04.124Z"
   },
   {
    "duration": 73,
    "start_time": "2024-08-22T14:02:04.141Z"
   },
   {
    "duration": 21,
    "start_time": "2024-08-22T14:02:04.218Z"
   },
   {
    "duration": 411,
    "start_time": "2024-08-22T14:02:04.242Z"
   },
   {
    "duration": 17,
    "start_time": "2024-08-22T14:02:04.712Z"
   },
   {
    "duration": 82,
    "start_time": "2024-08-22T14:02:04.732Z"
   },
   {
    "duration": 321,
    "start_time": "2024-08-22T14:02:04.817Z"
   },
   {
    "duration": 75,
    "start_time": "2024-08-22T14:02:05.147Z"
   },
   {
    "duration": 24,
    "start_time": "2024-08-22T14:02:05.224Z"
   },
   {
    "duration": 63,
    "start_time": "2024-08-22T14:02:05.252Z"
   },
   {
    "duration": 511,
    "start_time": "2024-08-22T14:02:05.319Z"
   },
   {
    "duration": 479,
    "start_time": "2024-08-22T14:02:05.836Z"
   },
   {
    "duration": 12,
    "start_time": "2024-08-22T14:02:06.318Z"
   },
   {
    "duration": 101,
    "start_time": "2024-08-22T14:02:06.334Z"
   },
   {
    "duration": 9,
    "start_time": "2024-08-22T14:02:06.438Z"
   },
   {
    "duration": 303,
    "start_time": "2024-08-22T14:02:06.450Z"
   },
   {
    "duration": 364,
    "start_time": "2024-08-22T14:02:06.756Z"
   },
   {
    "duration": 17,
    "start_time": "2024-08-22T14:02:07.123Z"
   },
   {
    "duration": 479,
    "start_time": "2024-08-22T14:02:07.144Z"
   },
   {
    "duration": 11,
    "start_time": "2024-08-22T14:02:07.626Z"
   },
   {
    "duration": 76,
    "start_time": "2024-08-22T14:02:07.640Z"
   },
   {
    "duration": 508,
    "start_time": "2024-08-22T14:02:07.720Z"
   },
   {
    "duration": 4892,
    "start_time": "2024-08-22T15:42:08.848Z"
   },
   {
    "duration": 717,
    "start_time": "2024-08-22T15:42:13.743Z"
   },
   {
    "duration": 64,
    "start_time": "2024-08-22T15:42:14.464Z"
   },
   {
    "duration": 16,
    "start_time": "2024-08-22T15:42:14.532Z"
   },
   {
    "duration": 221,
    "start_time": "2024-08-22T15:42:14.551Z"
   },
   {
    "duration": 26,
    "start_time": "2024-08-22T15:42:14.775Z"
   },
   {
    "duration": 13,
    "start_time": "2024-08-22T15:42:14.804Z"
   },
   {
    "duration": 9,
    "start_time": "2024-08-22T15:42:14.820Z"
   },
   {
    "duration": 57,
    "start_time": "2024-08-22T15:42:14.832Z"
   },
   {
    "duration": 10,
    "start_time": "2024-08-22T15:42:14.896Z"
   },
   {
    "duration": 21,
    "start_time": "2024-08-22T15:42:14.909Z"
   },
   {
    "duration": 242,
    "start_time": "2024-08-22T15:42:14.932Z"
   },
   {
    "duration": 20,
    "start_time": "2024-08-22T15:42:15.177Z"
   },
   {
    "duration": 136,
    "start_time": "2024-08-22T15:42:15.199Z"
   },
   {
    "duration": 124,
    "start_time": "2024-08-22T15:42:15.338Z"
   },
   {
    "duration": 111,
    "start_time": "2024-08-22T15:42:15.465Z"
   },
   {
    "duration": 27,
    "start_time": "2024-08-22T15:42:15.579Z"
   },
   {
    "duration": 34,
    "start_time": "2024-08-22T15:42:15.609Z"
   },
   {
    "duration": 298,
    "start_time": "2024-08-22T15:42:15.646Z"
   },
   {
    "duration": 246,
    "start_time": "2024-08-22T15:42:15.946Z"
   },
   {
    "duration": 398,
    "start_time": "2024-08-22T15:42:16.194Z"
   },
   {
    "duration": 11,
    "start_time": "2024-08-22T15:42:16.595Z"
   },
   {
    "duration": 27,
    "start_time": "2024-08-22T15:42:16.609Z"
   },
   {
    "duration": 8,
    "start_time": "2024-08-22T15:42:16.639Z"
   },
   {
    "duration": 232,
    "start_time": "2024-08-22T15:42:16.650Z"
   },
   {
    "duration": 34,
    "start_time": "2024-08-22T15:42:16.891Z"
   },
   {
    "duration": 14,
    "start_time": "2024-08-22T15:42:16.927Z"
   },
   {
    "duration": 62,
    "start_time": "2024-08-22T15:42:16.950Z"
   },
   {
    "duration": 83,
    "start_time": "2024-08-22T15:42:17.016Z"
   },
   {
    "duration": 4,
    "start_time": "2024-08-22T15:42:17.102Z"
   },
   {
    "duration": 43,
    "start_time": "2024-08-22T15:42:17.109Z"
   },
   {
    "duration": 32,
    "start_time": "2024-08-22T15:42:17.162Z"
   },
   {
    "duration": 11,
    "start_time": "2024-08-22T15:42:17.200Z"
   },
   {
    "duration": 11,
    "start_time": "2024-08-22T15:42:17.214Z"
   },
   {
    "duration": 10,
    "start_time": "2024-08-22T15:42:17.227Z"
   },
   {
    "duration": 67,
    "start_time": "2024-08-22T15:42:17.240Z"
   },
   {
    "duration": 197,
    "start_time": "2024-08-22T15:42:17.310Z"
   },
   {
    "duration": 18,
    "start_time": "2024-08-22T15:42:17.509Z"
   },
   {
    "duration": 20,
    "start_time": "2024-08-22T15:42:17.530Z"
   },
   {
    "duration": 162,
    "start_time": "2024-08-22T15:42:17.554Z"
   },
   {
    "duration": 17,
    "start_time": "2024-08-22T15:42:17.719Z"
   },
   {
    "duration": 21,
    "start_time": "2024-08-22T15:42:17.740Z"
   },
   {
    "duration": 6,
    "start_time": "2024-08-22T15:42:17.792Z"
   },
   {
    "duration": 264,
    "start_time": "2024-08-22T15:42:17.801Z"
   },
   {
    "duration": 225,
    "start_time": "2024-08-22T15:42:18.068Z"
   },
   {
    "duration": 13,
    "start_time": "2024-08-22T15:42:18.295Z"
   },
   {
    "duration": 36,
    "start_time": "2024-08-22T15:42:18.310Z"
   },
   {
    "duration": 43,
    "start_time": "2024-08-22T15:42:18.348Z"
   },
   {
    "duration": 135,
    "start_time": "2024-08-22T15:42:18.394Z"
   },
   {
    "duration": 159,
    "start_time": "2024-08-22T15:42:18.532Z"
   },
   {
    "duration": 15,
    "start_time": "2024-08-22T15:42:18.694Z"
   },
   {
    "duration": 235,
    "start_time": "2024-08-22T15:42:18.712Z"
   },
   {
    "duration": 9,
    "start_time": "2024-08-22T15:42:18.950Z"
   },
   {
    "duration": 34,
    "start_time": "2024-08-22T15:42:18.962Z"
   },
   {
    "duration": 236,
    "start_time": "2024-08-22T15:42:18.999Z"
   },
   {
    "duration": 299,
    "start_time": "2024-08-22T15:43:58.051Z"
   },
   {
    "duration": 433,
    "start_time": "2024-08-22T15:50:53.966Z"
   },
   {
    "duration": 429,
    "start_time": "2024-08-22T15:52:33.342Z"
   },
   {
    "duration": 97,
    "start_time": "2024-08-22T15:53:30.318Z"
   },
   {
    "duration": 1339,
    "start_time": "2024-08-22T15:56:52.880Z"
   },
   {
    "duration": 169,
    "start_time": "2024-08-22T15:57:13.738Z"
   },
   {
    "duration": 486,
    "start_time": "2024-08-22T15:57:36.666Z"
   },
   {
    "duration": 492,
    "start_time": "2024-08-22T15:59:28.383Z"
   },
   {
    "duration": 342,
    "start_time": "2024-08-22T16:03:17.802Z"
   },
   {
    "duration": 463,
    "start_time": "2024-08-22T16:08:23.027Z"
   },
   {
    "duration": 461,
    "start_time": "2024-08-22T16:08:41.708Z"
   },
   {
    "duration": 445,
    "start_time": "2024-08-22T16:08:48.245Z"
   },
   {
    "duration": 1278,
    "start_time": "2024-08-22T16:26:04.062Z"
   },
   {
    "duration": 616,
    "start_time": "2024-08-22T16:26:05.344Z"
   },
   {
    "duration": 64,
    "start_time": "2024-08-22T16:26:05.962Z"
   },
   {
    "duration": 17,
    "start_time": "2024-08-22T16:26:06.029Z"
   },
   {
    "duration": 240,
    "start_time": "2024-08-22T16:26:06.051Z"
   },
   {
    "duration": 18,
    "start_time": "2024-08-22T16:26:06.294Z"
   },
   {
    "duration": 13,
    "start_time": "2024-08-22T16:26:06.316Z"
   },
   {
    "duration": 10,
    "start_time": "2024-08-22T16:26:06.332Z"
   },
   {
    "duration": 57,
    "start_time": "2024-08-22T16:26:06.345Z"
   },
   {
    "duration": 11,
    "start_time": "2024-08-22T16:26:06.406Z"
   },
   {
    "duration": 21,
    "start_time": "2024-08-22T16:26:06.420Z"
   },
   {
    "duration": 248,
    "start_time": "2024-08-22T16:26:06.446Z"
   },
   {
    "duration": 16,
    "start_time": "2024-08-22T16:26:06.697Z"
   },
   {
    "duration": 127,
    "start_time": "2024-08-22T16:26:06.719Z"
   },
   {
    "duration": 447,
    "start_time": "2024-08-22T16:26:06.848Z"
   },
   {
    "duration": 526,
    "start_time": "2024-08-22T16:26:07.298Z"
   },
   {
    "duration": 416,
    "start_time": "2024-08-22T16:26:07.828Z"
   },
   {
    "duration": 15,
    "start_time": "2024-08-22T16:26:08.247Z"
   },
   {
    "duration": 444,
    "start_time": "2024-08-22T16:26:08.266Z"
   },
   {
    "duration": 34,
    "start_time": "2024-08-22T16:26:08.713Z"
   },
   {
    "duration": 269,
    "start_time": "2024-08-22T16:26:08.751Z"
   },
   {
    "duration": 246,
    "start_time": "2024-08-22T16:26:09.024Z"
   },
   {
    "duration": 397,
    "start_time": "2024-08-22T16:26:09.273Z"
   },
   {
    "duration": 18,
    "start_time": "2024-08-22T16:26:09.673Z"
   },
   {
    "duration": 26,
    "start_time": "2024-08-22T16:26:09.694Z"
   },
   {
    "duration": 9,
    "start_time": "2024-08-22T16:26:09.723Z"
   },
   {
    "duration": 220,
    "start_time": "2024-08-22T16:26:09.735Z"
   },
   {
    "duration": 48,
    "start_time": "2024-08-22T16:26:09.958Z"
   },
   {
    "duration": 14,
    "start_time": "2024-08-22T16:26:10.009Z"
   },
   {
    "duration": 35,
    "start_time": "2024-08-22T16:26:10.027Z"
   },
   {
    "duration": 73,
    "start_time": "2024-08-22T16:26:10.090Z"
   },
   {
    "duration": 4,
    "start_time": "2024-08-22T16:26:10.165Z"
   },
   {
    "duration": 34,
    "start_time": "2024-08-22T16:26:10.190Z"
   },
   {
    "duration": 10,
    "start_time": "2024-08-22T16:26:10.226Z"
   },
   {
    "duration": 10,
    "start_time": "2024-08-22T16:26:10.239Z"
   },
   {
    "duration": 11,
    "start_time": "2024-08-22T16:26:10.291Z"
   },
   {
    "duration": 7,
    "start_time": "2024-08-22T16:26:10.305Z"
   },
   {
    "duration": 20,
    "start_time": "2024-08-22T16:26:10.315Z"
   },
   {
    "duration": 236,
    "start_time": "2024-08-22T16:26:10.338Z"
   },
   {
    "duration": 22,
    "start_time": "2024-08-22T16:26:10.579Z"
   },
   {
    "duration": 20,
    "start_time": "2024-08-22T16:26:10.611Z"
   },
   {
    "duration": 160,
    "start_time": "2024-08-22T16:26:10.635Z"
   },
   {
    "duration": 16,
    "start_time": "2024-08-22T16:26:10.798Z"
   },
   {
    "duration": 22,
    "start_time": "2024-08-22T16:26:10.816Z"
   },
   {
    "duration": 5,
    "start_time": "2024-08-22T16:26:10.843Z"
   },
   {
    "duration": 279,
    "start_time": "2024-08-22T16:26:10.851Z"
   },
   {
    "duration": 259,
    "start_time": "2024-08-22T16:26:11.134Z"
   },
   {
    "duration": 13,
    "start_time": "2024-08-22T16:26:11.398Z"
   },
   {
    "duration": 38,
    "start_time": "2024-08-22T16:26:11.414Z"
   },
   {
    "duration": 39,
    "start_time": "2024-08-22T16:26:11.454Z"
   },
   {
    "duration": 148,
    "start_time": "2024-08-22T16:26:11.496Z"
   },
   {
    "duration": 152,
    "start_time": "2024-08-22T16:26:11.647Z"
   },
   {
    "duration": 15,
    "start_time": "2024-08-22T16:26:11.802Z"
   },
   {
    "duration": 236,
    "start_time": "2024-08-22T16:26:11.820Z"
   },
   {
    "duration": 9,
    "start_time": "2024-08-22T16:26:12.059Z"
   },
   {
    "duration": 31,
    "start_time": "2024-08-22T16:26:12.071Z"
   },
   {
    "duration": 241,
    "start_time": "2024-08-22T16:26:12.104Z"
   },
   {
    "duration": 101,
    "start_time": "2024-08-22T16:27:05.133Z"
   },
   {
    "duration": 10,
    "start_time": "2024-08-22T16:41:04.746Z"
   },
   {
    "duration": 29,
    "start_time": "2024-08-22T16:42:01.550Z"
   },
   {
    "duration": 33,
    "start_time": "2024-08-22T16:42:25.230Z"
   },
   {
    "duration": 7,
    "start_time": "2024-08-22T16:42:28.158Z"
   },
   {
    "duration": 10,
    "start_time": "2024-08-22T16:43:08.323Z"
   },
   {
    "duration": 31,
    "start_time": "2024-08-22T16:43:12.294Z"
   },
   {
    "duration": 94,
    "start_time": "2024-08-22T16:46:20.506Z"
   },
   {
    "duration": 113,
    "start_time": "2024-08-22T16:46:54.696Z"
   },
   {
    "duration": 110,
    "start_time": "2024-08-22T16:47:02.420Z"
   },
   {
    "duration": 497,
    "start_time": "2024-08-22T16:47:41.896Z"
   },
   {
    "duration": 92,
    "start_time": "2024-08-22T16:48:05.010Z"
   },
   {
    "duration": 94,
    "start_time": "2024-08-22T16:49:28.290Z"
   },
   {
    "duration": 5880,
    "start_time": "2024-08-22T19:11:08.322Z"
   },
   {
    "duration": 745,
    "start_time": "2024-08-22T19:11:14.207Z"
   },
   {
    "duration": 61,
    "start_time": "2024-08-22T19:11:14.955Z"
   },
   {
    "duration": 16,
    "start_time": "2024-08-22T19:11:15.030Z"
   },
   {
    "duration": 229,
    "start_time": "2024-08-22T19:11:15.049Z"
   },
   {
    "duration": 17,
    "start_time": "2024-08-22T19:11:15.281Z"
   },
   {
    "duration": 36,
    "start_time": "2024-08-22T19:11:15.301Z"
   },
   {
    "duration": 9,
    "start_time": "2024-08-22T19:11:15.340Z"
   },
   {
    "duration": 22,
    "start_time": "2024-08-22T19:11:15.351Z"
   },
   {
    "duration": 51,
    "start_time": "2024-08-22T19:11:15.379Z"
   },
   {
    "duration": 22,
    "start_time": "2024-08-22T19:11:15.434Z"
   },
   {
    "duration": 229,
    "start_time": "2024-08-22T19:11:15.462Z"
   },
   {
    "duration": 16,
    "start_time": "2024-08-22T19:11:15.694Z"
   },
   {
    "duration": 151,
    "start_time": "2024-08-22T19:11:15.714Z"
   },
   {
    "duration": 483,
    "start_time": "2024-08-22T19:11:15.869Z"
   },
   {
    "duration": 126,
    "start_time": "2024-08-22T19:11:16.355Z"
   },
   {
    "duration": 462,
    "start_time": "2024-08-22T19:11:16.484Z"
   },
   {
    "duration": 116,
    "start_time": "2024-08-22T19:11:16.949Z"
   },
   {
    "duration": 1320,
    "start_time": "2024-08-22T19:11:17.068Z"
   },
   {
    "duration": 0,
    "start_time": "2024-08-22T19:11:18.394Z"
   },
   {
    "duration": 0,
    "start_time": "2024-08-22T19:11:18.396Z"
   },
   {
    "duration": 0,
    "start_time": "2024-08-22T19:11:18.398Z"
   },
   {
    "duration": 0,
    "start_time": "2024-08-22T19:11:18.401Z"
   },
   {
    "duration": 0,
    "start_time": "2024-08-22T19:11:18.403Z"
   },
   {
    "duration": 0,
    "start_time": "2024-08-22T19:11:18.429Z"
   },
   {
    "duration": 0,
    "start_time": "2024-08-22T19:11:18.432Z"
   },
   {
    "duration": 0,
    "start_time": "2024-08-22T19:11:18.435Z"
   },
   {
    "duration": 0,
    "start_time": "2024-08-22T19:11:18.437Z"
   },
   {
    "duration": 0,
    "start_time": "2024-08-22T19:11:18.439Z"
   },
   {
    "duration": 0,
    "start_time": "2024-08-22T19:11:18.442Z"
   },
   {
    "duration": 0,
    "start_time": "2024-08-22T19:11:18.444Z"
   },
   {
    "duration": 0,
    "start_time": "2024-08-22T19:11:18.447Z"
   },
   {
    "duration": 0,
    "start_time": "2024-08-22T19:11:18.449Z"
   },
   {
    "duration": 0,
    "start_time": "2024-08-22T19:11:18.452Z"
   },
   {
    "duration": 0,
    "start_time": "2024-08-22T19:11:18.454Z"
   },
   {
    "duration": 0,
    "start_time": "2024-08-22T19:11:18.456Z"
   },
   {
    "duration": 0,
    "start_time": "2024-08-22T19:11:18.458Z"
   },
   {
    "duration": 0,
    "start_time": "2024-08-22T19:11:18.460Z"
   },
   {
    "duration": 0,
    "start_time": "2024-08-22T19:11:18.462Z"
   },
   {
    "duration": 0,
    "start_time": "2024-08-22T19:11:18.464Z"
   },
   {
    "duration": 0,
    "start_time": "2024-08-22T19:11:18.466Z"
   },
   {
    "duration": 0,
    "start_time": "2024-08-22T19:11:18.470Z"
   },
   {
    "duration": 0,
    "start_time": "2024-08-22T19:11:18.472Z"
   },
   {
    "duration": 0,
    "start_time": "2024-08-22T19:11:18.475Z"
   },
   {
    "duration": 0,
    "start_time": "2024-08-22T19:11:18.476Z"
   },
   {
    "duration": 0,
    "start_time": "2024-08-22T19:11:18.479Z"
   },
   {
    "duration": 0,
    "start_time": "2024-08-22T19:11:18.480Z"
   },
   {
    "duration": 1,
    "start_time": "2024-08-22T19:11:18.482Z"
   },
   {
    "duration": 0,
    "start_time": "2024-08-22T19:11:18.530Z"
   },
   {
    "duration": 0,
    "start_time": "2024-08-22T19:11:18.532Z"
   },
   {
    "duration": 0,
    "start_time": "2024-08-22T19:11:18.534Z"
   },
   {
    "duration": 0,
    "start_time": "2024-08-22T19:11:18.535Z"
   },
   {
    "duration": 0,
    "start_time": "2024-08-22T19:11:18.536Z"
   },
   {
    "duration": 0,
    "start_time": "2024-08-22T19:11:18.538Z"
   },
   {
    "duration": 0,
    "start_time": "2024-08-22T19:11:18.539Z"
   },
   {
    "duration": 0,
    "start_time": "2024-08-22T19:11:18.541Z"
   },
   {
    "duration": 0,
    "start_time": "2024-08-22T19:11:18.542Z"
   },
   {
    "duration": 0,
    "start_time": "2024-08-22T19:11:18.543Z"
   },
   {
    "duration": 0,
    "start_time": "2024-08-22T19:11:18.545Z"
   },
   {
    "duration": 34,
    "start_time": "2024-08-22T19:11:42.177Z"
   },
   {
    "duration": 1322,
    "start_time": "2024-08-22T19:11:50.601Z"
   },
   {
    "duration": 783,
    "start_time": "2024-08-22T19:11:51.933Z"
   },
   {
    "duration": 78,
    "start_time": "2024-08-22T19:11:52.719Z"
   },
   {
    "duration": 41,
    "start_time": "2024-08-22T19:11:52.800Z"
   },
   {
    "duration": 239,
    "start_time": "2024-08-22T19:11:52.857Z"
   },
   {
    "duration": 14,
    "start_time": "2024-08-22T19:11:53.101Z"
   },
   {
    "duration": 26,
    "start_time": "2024-08-22T19:11:53.118Z"
   },
   {
    "duration": 18,
    "start_time": "2024-08-22T19:11:53.147Z"
   },
   {
    "duration": 20,
    "start_time": "2024-08-22T19:11:53.172Z"
   },
   {
    "duration": 44,
    "start_time": "2024-08-22T19:11:53.196Z"
   },
   {
    "duration": 35,
    "start_time": "2024-08-22T19:11:53.242Z"
   },
   {
    "duration": 232,
    "start_time": "2024-08-22T19:11:53.280Z"
   },
   {
    "duration": 24,
    "start_time": "2024-08-22T19:11:53.515Z"
   },
   {
    "duration": 151,
    "start_time": "2024-08-22T19:11:53.547Z"
   },
   {
    "duration": 469,
    "start_time": "2024-08-22T19:11:53.701Z"
   },
   {
    "duration": 137,
    "start_time": "2024-08-22T19:11:54.172Z"
   },
   {
    "duration": 428,
    "start_time": "2024-08-22T19:11:54.315Z"
   },
   {
    "duration": 140,
    "start_time": "2024-08-22T19:11:54.746Z"
   },
   {
    "duration": 1397,
    "start_time": "2024-08-22T19:11:54.888Z"
   },
   {
    "duration": 0,
    "start_time": "2024-08-22T19:11:56.290Z"
   },
   {
    "duration": 0,
    "start_time": "2024-08-22T19:11:56.292Z"
   },
   {
    "duration": 0,
    "start_time": "2024-08-22T19:11:56.295Z"
   },
   {
    "duration": 0,
    "start_time": "2024-08-22T19:11:56.297Z"
   },
   {
    "duration": 0,
    "start_time": "2024-08-22T19:11:56.299Z"
   },
   {
    "duration": 0,
    "start_time": "2024-08-22T19:11:56.302Z"
   },
   {
    "duration": 0,
    "start_time": "2024-08-22T19:11:56.304Z"
   },
   {
    "duration": 0,
    "start_time": "2024-08-22T19:11:56.331Z"
   },
   {
    "duration": 0,
    "start_time": "2024-08-22T19:11:56.334Z"
   },
   {
    "duration": 0,
    "start_time": "2024-08-22T19:11:56.336Z"
   },
   {
    "duration": 0,
    "start_time": "2024-08-22T19:11:56.338Z"
   },
   {
    "duration": 0,
    "start_time": "2024-08-22T19:11:56.339Z"
   },
   {
    "duration": 0,
    "start_time": "2024-08-22T19:11:56.340Z"
   },
   {
    "duration": 0,
    "start_time": "2024-08-22T19:11:56.341Z"
   },
   {
    "duration": 0,
    "start_time": "2024-08-22T19:11:56.344Z"
   },
   {
    "duration": 0,
    "start_time": "2024-08-22T19:11:56.345Z"
   },
   {
    "duration": 0,
    "start_time": "2024-08-22T19:11:56.347Z"
   },
   {
    "duration": 0,
    "start_time": "2024-08-22T19:11:56.348Z"
   },
   {
    "duration": 0,
    "start_time": "2024-08-22T19:11:56.349Z"
   },
   {
    "duration": 0,
    "start_time": "2024-08-22T19:11:56.356Z"
   },
   {
    "duration": 0,
    "start_time": "2024-08-22T19:11:56.357Z"
   },
   {
    "duration": 0,
    "start_time": "2024-08-22T19:11:56.359Z"
   },
   {
    "duration": 0,
    "start_time": "2024-08-22T19:11:56.360Z"
   },
   {
    "duration": 0,
    "start_time": "2024-08-22T19:11:56.362Z"
   },
   {
    "duration": 0,
    "start_time": "2024-08-22T19:11:56.363Z"
   },
   {
    "duration": 0,
    "start_time": "2024-08-22T19:11:56.368Z"
   },
   {
    "duration": 0,
    "start_time": "2024-08-22T19:11:56.371Z"
   },
   {
    "duration": 0,
    "start_time": "2024-08-22T19:11:56.378Z"
   },
   {
    "duration": 0,
    "start_time": "2024-08-22T19:11:56.380Z"
   },
   {
    "duration": 0,
    "start_time": "2024-08-22T19:11:56.431Z"
   },
   {
    "duration": 0,
    "start_time": "2024-08-22T19:11:56.434Z"
   },
   {
    "duration": 0,
    "start_time": "2024-08-22T19:11:56.436Z"
   },
   {
    "duration": 0,
    "start_time": "2024-08-22T19:11:56.438Z"
   },
   {
    "duration": 0,
    "start_time": "2024-08-22T19:11:56.441Z"
   },
   {
    "duration": 0,
    "start_time": "2024-08-22T19:11:56.443Z"
   },
   {
    "duration": 0,
    "start_time": "2024-08-22T19:11:56.446Z"
   },
   {
    "duration": 0,
    "start_time": "2024-08-22T19:11:56.448Z"
   },
   {
    "duration": 0,
    "start_time": "2024-08-22T19:11:56.451Z"
   },
   {
    "duration": 0,
    "start_time": "2024-08-22T19:11:56.453Z"
   },
   {
    "duration": 1,
    "start_time": "2024-08-22T19:11:56.455Z"
   },
   {
    "duration": 4,
    "start_time": "2024-08-22T19:12:08.189Z"
   },
   {
    "duration": 773,
    "start_time": "2024-08-22T19:12:08.954Z"
   },
   {
    "duration": 81,
    "start_time": "2024-08-22T19:12:09.735Z"
   },
   {
    "duration": 13,
    "start_time": "2024-08-22T19:12:10.694Z"
   },
   {
    "duration": 209,
    "start_time": "2024-08-22T19:12:14.374Z"
   },
   {
    "duration": 14,
    "start_time": "2024-08-22T19:12:14.798Z"
   },
   {
    "duration": 10,
    "start_time": "2024-08-22T19:12:15.921Z"
   },
   {
    "duration": 15,
    "start_time": "2024-08-22T19:12:17.054Z"
   },
   {
    "duration": 15,
    "start_time": "2024-08-22T19:12:17.894Z"
   },
   {
    "duration": 14,
    "start_time": "2024-08-22T19:12:18.535Z"
   },
   {
    "duration": 24,
    "start_time": "2024-08-22T19:12:20.146Z"
   },
   {
    "duration": 232,
    "start_time": "2024-08-22T19:12:21.654Z"
   },
   {
    "duration": 15,
    "start_time": "2024-08-22T19:12:21.889Z"
   },
   {
    "duration": 137,
    "start_time": "2024-08-22T19:12:21.981Z"
   },
   {
    "duration": 463,
    "start_time": "2024-08-22T19:12:22.144Z"
   },
   {
    "duration": 130,
    "start_time": "2024-08-22T19:12:22.610Z"
   },
   {
    "duration": 497,
    "start_time": "2024-08-22T19:12:22.744Z"
   },
   {
    "duration": 138,
    "start_time": "2024-08-22T19:12:23.245Z"
   },
   {
    "duration": 117,
    "start_time": "2024-08-22T19:12:23.387Z"
   },
   {
    "duration": 4,
    "start_time": "2024-08-22T19:13:06.453Z"
   },
   {
    "duration": 677,
    "start_time": "2024-08-22T19:13:06.837Z"
   },
   {
    "duration": 67,
    "start_time": "2024-08-22T19:13:07.517Z"
   },
   {
    "duration": 15,
    "start_time": "2024-08-22T19:13:07.634Z"
   },
   {
    "duration": 223,
    "start_time": "2024-08-22T19:13:08.567Z"
   },
   {
    "duration": 17,
    "start_time": "2024-08-22T19:13:08.927Z"
   },
   {
    "duration": 10,
    "start_time": "2024-08-22T19:13:09.304Z"
   },
   {
    "duration": 10,
    "start_time": "2024-08-22T19:13:10.173Z"
   },
   {
    "duration": 19,
    "start_time": "2024-08-22T19:13:10.575Z"
   },
   {
    "duration": 19,
    "start_time": "2024-08-22T19:13:11.163Z"
   },
   {
    "duration": 21,
    "start_time": "2024-08-22T19:13:12.469Z"
   },
   {
    "duration": 221,
    "start_time": "2024-08-22T19:13:13.703Z"
   },
   {
    "duration": 18,
    "start_time": "2024-08-22T19:13:14.389Z"
   },
   {
    "duration": 127,
    "start_time": "2024-08-22T19:13:14.757Z"
   },
   {
    "duration": 475,
    "start_time": "2024-08-22T19:13:15.851Z"
   },
   {
    "duration": 116,
    "start_time": "2024-08-22T19:13:17.595Z"
   },
   {
    "duration": 478,
    "start_time": "2024-08-22T19:13:18.493Z"
   },
   {
    "duration": 115,
    "start_time": "2024-08-22T19:13:20.124Z"
   },
   {
    "duration": 95,
    "start_time": "2024-08-22T19:13:21.425Z"
   },
   {
    "duration": 101,
    "start_time": "2024-08-22T19:14:25.177Z"
   },
   {
    "duration": 123,
    "start_time": "2024-08-22T19:14:37.437Z"
   },
   {
    "duration": 8,
    "start_time": "2024-08-22T19:15:14.553Z"
   },
   {
    "duration": 693,
    "start_time": "2024-08-22T19:15:14.918Z"
   },
   {
    "duration": 83,
    "start_time": "2024-08-22T19:15:15.616Z"
   },
   {
    "duration": 12,
    "start_time": "2024-08-22T19:15:15.762Z"
   },
   {
    "duration": 104,
    "start_time": "2024-08-22T19:15:21.589Z"
   },
   {
    "duration": 444,
    "start_time": "2024-08-22T19:16:39.038Z"
   },
   {
    "duration": 109,
    "start_time": "2024-08-22T19:16:39.868Z"
   },
   {
    "duration": 111,
    "start_time": "2024-08-22T19:17:05.627Z"
   },
   {
    "duration": 1415,
    "start_time": "2024-08-22T19:17:12.597Z"
   },
   {
    "duration": 675,
    "start_time": "2024-08-22T19:17:14.016Z"
   },
   {
    "duration": 81,
    "start_time": "2024-08-22T19:17:14.694Z"
   },
   {
    "duration": 16,
    "start_time": "2024-08-22T19:17:14.780Z"
   },
   {
    "duration": 273,
    "start_time": "2024-08-22T19:17:14.800Z"
   },
   {
    "duration": 18,
    "start_time": "2024-08-22T19:17:15.076Z"
   },
   {
    "duration": 33,
    "start_time": "2024-08-22T19:17:15.097Z"
   },
   {
    "duration": 14,
    "start_time": "2024-08-22T19:17:15.133Z"
   },
   {
    "duration": 23,
    "start_time": "2024-08-22T19:17:15.151Z"
   },
   {
    "duration": 11,
    "start_time": "2024-08-22T19:17:15.178Z"
   },
   {
    "duration": 52,
    "start_time": "2024-08-22T19:17:15.192Z"
   },
   {
    "duration": 246,
    "start_time": "2024-08-22T19:17:15.252Z"
   },
   {
    "duration": 15,
    "start_time": "2024-08-22T19:17:15.501Z"
   },
   {
    "duration": 124,
    "start_time": "2024-08-22T19:17:15.539Z"
   },
   {
    "duration": 498,
    "start_time": "2024-08-22T19:17:15.666Z"
   },
   {
    "duration": 115,
    "start_time": "2024-08-22T19:17:16.166Z"
   },
   {
    "duration": 475,
    "start_time": "2024-08-22T19:17:16.284Z"
   },
   {
    "duration": 126,
    "start_time": "2024-08-22T19:17:16.762Z"
   },
   {
    "duration": 1462,
    "start_time": "2024-08-22T19:17:16.891Z"
   },
   {
    "duration": 0,
    "start_time": "2024-08-22T19:17:18.359Z"
   },
   {
    "duration": 0,
    "start_time": "2024-08-22T19:17:18.363Z"
   },
   {
    "duration": 0,
    "start_time": "2024-08-22T19:17:18.364Z"
   },
   {
    "duration": 0,
    "start_time": "2024-08-22T19:17:18.366Z"
   },
   {
    "duration": 0,
    "start_time": "2024-08-22T19:17:18.368Z"
   },
   {
    "duration": 0,
    "start_time": "2024-08-22T19:17:18.370Z"
   },
   {
    "duration": 0,
    "start_time": "2024-08-22T19:17:18.372Z"
   },
   {
    "duration": 0,
    "start_time": "2024-08-22T19:17:18.374Z"
   },
   {
    "duration": 0,
    "start_time": "2024-08-22T19:17:18.376Z"
   },
   {
    "duration": 0,
    "start_time": "2024-08-22T19:17:18.380Z"
   },
   {
    "duration": 0,
    "start_time": "2024-08-22T19:17:18.392Z"
   },
   {
    "duration": 0,
    "start_time": "2024-08-22T19:17:18.395Z"
   },
   {
    "duration": 0,
    "start_time": "2024-08-22T19:17:18.397Z"
   },
   {
    "duration": 0,
    "start_time": "2024-08-22T19:17:18.399Z"
   },
   {
    "duration": 0,
    "start_time": "2024-08-22T19:17:18.401Z"
   },
   {
    "duration": 0,
    "start_time": "2024-08-22T19:17:18.403Z"
   },
   {
    "duration": 0,
    "start_time": "2024-08-22T19:17:18.406Z"
   },
   {
    "duration": 0,
    "start_time": "2024-08-22T19:17:18.407Z"
   },
   {
    "duration": 0,
    "start_time": "2024-08-22T19:17:18.436Z"
   },
   {
    "duration": 0,
    "start_time": "2024-08-22T19:17:18.438Z"
   },
   {
    "duration": 0,
    "start_time": "2024-08-22T19:17:18.440Z"
   },
   {
    "duration": 0,
    "start_time": "2024-08-22T19:17:18.441Z"
   },
   {
    "duration": 1,
    "start_time": "2024-08-22T19:17:18.442Z"
   },
   {
    "duration": 0,
    "start_time": "2024-08-22T19:17:18.449Z"
   },
   {
    "duration": 0,
    "start_time": "2024-08-22T19:17:18.450Z"
   },
   {
    "duration": 0,
    "start_time": "2024-08-22T19:17:18.452Z"
   },
   {
    "duration": 0,
    "start_time": "2024-08-22T19:17:18.453Z"
   },
   {
    "duration": 0,
    "start_time": "2024-08-22T19:17:18.455Z"
   },
   {
    "duration": 0,
    "start_time": "2024-08-22T19:17:18.456Z"
   },
   {
    "duration": 0,
    "start_time": "2024-08-22T19:17:18.479Z"
   },
   {
    "duration": 0,
    "start_time": "2024-08-22T19:17:18.483Z"
   },
   {
    "duration": 0,
    "start_time": "2024-08-22T19:17:18.487Z"
   },
   {
    "duration": 0,
    "start_time": "2024-08-22T19:17:18.488Z"
   },
   {
    "duration": 0,
    "start_time": "2024-08-22T19:17:18.490Z"
   },
   {
    "duration": 0,
    "start_time": "2024-08-22T19:17:18.491Z"
   },
   {
    "duration": 0,
    "start_time": "2024-08-22T19:17:18.494Z"
   },
   {
    "duration": 0,
    "start_time": "2024-08-22T19:17:18.501Z"
   },
   {
    "duration": 0,
    "start_time": "2024-08-22T19:17:18.504Z"
   },
   {
    "duration": 0,
    "start_time": "2024-08-22T19:17:18.507Z"
   },
   {
    "duration": 0,
    "start_time": "2024-08-22T19:17:18.509Z"
   },
   {
    "duration": 112,
    "start_time": "2024-08-22T19:17:47.387Z"
   },
   {
    "duration": 102,
    "start_time": "2024-08-22T19:17:49.904Z"
   },
   {
    "duration": 106,
    "start_time": "2024-08-22T19:17:58.488Z"
   },
   {
    "duration": 106,
    "start_time": "2024-08-22T19:18:14.283Z"
   },
   {
    "duration": 530,
    "start_time": "2024-08-22T19:18:22.547Z"
   },
   {
    "duration": 1283,
    "start_time": "2024-08-22T19:18:33.688Z"
   },
   {
    "duration": 760,
    "start_time": "2024-08-22T19:18:34.979Z"
   },
   {
    "duration": 92,
    "start_time": "2024-08-22T19:18:35.743Z"
   },
   {
    "duration": 20,
    "start_time": "2024-08-22T19:18:35.837Z"
   },
   {
    "duration": 232,
    "start_time": "2024-08-22T19:18:35.864Z"
   },
   {
    "duration": 14,
    "start_time": "2024-08-22T19:18:36.099Z"
   },
   {
    "duration": 27,
    "start_time": "2024-08-22T19:18:36.115Z"
   },
   {
    "duration": 12,
    "start_time": "2024-08-22T19:18:36.146Z"
   },
   {
    "duration": 24,
    "start_time": "2024-08-22T19:18:36.161Z"
   },
   {
    "duration": 44,
    "start_time": "2024-08-22T19:18:36.187Z"
   },
   {
    "duration": 24,
    "start_time": "2024-08-22T19:18:36.234Z"
   },
   {
    "duration": 262,
    "start_time": "2024-08-22T19:18:36.263Z"
   },
   {
    "duration": 17,
    "start_time": "2024-08-22T19:18:36.528Z"
   },
   {
    "duration": 141,
    "start_time": "2024-08-22T19:18:36.554Z"
   },
   {
    "duration": 449,
    "start_time": "2024-08-22T19:18:36.698Z"
   },
   {
    "duration": 123,
    "start_time": "2024-08-22T19:18:37.150Z"
   },
   {
    "duration": 438,
    "start_time": "2024-08-22T19:18:37.279Z"
   },
   {
    "duration": 124,
    "start_time": "2024-08-22T19:18:37.720Z"
   },
   {
    "duration": 519,
    "start_time": "2024-08-22T19:18:37.848Z"
   },
   {
    "duration": 18,
    "start_time": "2024-08-22T19:18:38.371Z"
   },
   {
    "duration": 493,
    "start_time": "2024-08-22T19:18:38.392Z"
   },
   {
    "duration": 47,
    "start_time": "2024-08-22T19:18:38.891Z"
   },
   {
    "duration": 276,
    "start_time": "2024-08-22T19:18:38.941Z"
   },
   {
    "duration": 273,
    "start_time": "2024-08-22T19:18:39.220Z"
   },
   {
    "duration": 476,
    "start_time": "2024-08-22T19:18:39.496Z"
   },
   {
    "duration": 12,
    "start_time": "2024-08-22T19:18:39.976Z"
   },
   {
    "duration": 49,
    "start_time": "2024-08-22T19:18:39.991Z"
   },
   {
    "duration": 16,
    "start_time": "2024-08-22T19:18:40.043Z"
   },
   {
    "duration": 237,
    "start_time": "2024-08-22T19:18:40.062Z"
   },
   {
    "duration": 49,
    "start_time": "2024-08-22T19:18:40.302Z"
   },
   {
    "duration": 20,
    "start_time": "2024-08-22T19:18:40.354Z"
   },
   {
    "duration": 61,
    "start_time": "2024-08-22T19:18:40.378Z"
   },
   {
    "duration": 94,
    "start_time": "2024-08-22T19:18:40.445Z"
   },
   {
    "duration": 6,
    "start_time": "2024-08-22T19:18:40.542Z"
   },
   {
    "duration": 42,
    "start_time": "2024-08-22T19:18:40.557Z"
   },
   {
    "duration": 30,
    "start_time": "2024-08-22T19:18:40.602Z"
   },
   {
    "duration": 13,
    "start_time": "2024-08-22T19:18:40.636Z"
   },
   {
    "duration": 14,
    "start_time": "2024-08-22T19:18:40.654Z"
   },
   {
    "duration": 10,
    "start_time": "2024-08-22T19:18:40.671Z"
   },
   {
    "duration": 22,
    "start_time": "2024-08-22T19:18:40.730Z"
   },
   {
    "duration": 247,
    "start_time": "2024-08-22T19:18:40.763Z"
   },
   {
    "duration": 29,
    "start_time": "2024-08-22T19:18:41.013Z"
   },
   {
    "duration": 30,
    "start_time": "2024-08-22T19:18:41.044Z"
   },
   {
    "duration": 166,
    "start_time": "2024-08-22T19:18:41.078Z"
   },
   {
    "duration": 25,
    "start_time": "2024-08-22T19:18:41.252Z"
   },
   {
    "duration": 23,
    "start_time": "2024-08-22T19:18:41.283Z"
   },
   {
    "duration": 22,
    "start_time": "2024-08-22T19:18:41.310Z"
   },
   {
    "duration": 301,
    "start_time": "2024-08-22T19:18:41.335Z"
   },
   {
    "duration": 276,
    "start_time": "2024-08-22T19:18:41.639Z"
   },
   {
    "duration": 27,
    "start_time": "2024-08-22T19:18:41.918Z"
   },
   {
    "duration": 40,
    "start_time": "2024-08-22T19:18:41.952Z"
   },
   {
    "duration": 44,
    "start_time": "2024-08-22T19:18:41.994Z"
   },
   {
    "duration": 162,
    "start_time": "2024-08-22T19:18:42.040Z"
   },
   {
    "duration": 168,
    "start_time": "2024-08-22T19:18:42.206Z"
   },
   {
    "duration": 21,
    "start_time": "2024-08-22T19:18:42.377Z"
   },
   {
    "duration": 276,
    "start_time": "2024-08-22T19:18:42.401Z"
   },
   {
    "duration": 13,
    "start_time": "2024-08-22T19:18:42.681Z"
   },
   {
    "duration": 13,
    "start_time": "2024-08-22T19:18:42.698Z"
   },
   {
    "duration": 261,
    "start_time": "2024-08-22T19:18:42.730Z"
   },
   {
    "duration": 627,
    "start_time": "2024-08-22T19:21:28.241Z"
   },
   {
    "duration": 1337,
    "start_time": "2024-08-22T19:22:49.424Z"
   },
   {
    "duration": 8,
    "start_time": "2024-08-22T19:26:50.510Z"
   },
   {
    "duration": 5,
    "start_time": "2024-08-22T19:27:03.912Z"
   },
   {
    "duration": 8,
    "start_time": "2024-08-22T19:27:13.547Z"
   },
   {
    "duration": 6,
    "start_time": "2024-08-22T19:27:14.060Z"
   },
   {
    "duration": 78,
    "start_time": "2024-08-22T19:29:36.829Z"
   },
   {
    "duration": 69,
    "start_time": "2024-08-22T19:29:39.648Z"
   },
   {
    "duration": 7,
    "start_time": "2024-08-22T19:29:45.276Z"
   },
   {
    "duration": 6,
    "start_time": "2024-08-22T19:30:20.062Z"
   },
   {
    "duration": 872,
    "start_time": "2024-08-22T19:30:25.090Z"
   },
   {
    "duration": 1360,
    "start_time": "2024-08-22T19:33:32.246Z"
   },
   {
    "duration": 930,
    "start_time": "2024-08-22T19:33:33.609Z"
   },
   {
    "duration": 43,
    "start_time": "2024-08-22T19:33:34.542Z"
   },
   {
    "duration": 42,
    "start_time": "2024-08-22T19:33:34.589Z"
   },
   {
    "duration": 24,
    "start_time": "2024-08-22T19:33:34.636Z"
   },
   {
    "duration": 14,
    "start_time": "2024-08-22T19:33:34.665Z"
   },
   {
    "duration": 15,
    "start_time": "2024-08-22T19:33:34.687Z"
   },
   {
    "duration": 20,
    "start_time": "2024-08-22T19:33:34.732Z"
   },
   {
    "duration": 225,
    "start_time": "2024-08-22T19:33:34.754Z"
   },
   {
    "duration": 16,
    "start_time": "2024-08-22T19:33:34.982Z"
   },
   {
    "duration": 164,
    "start_time": "2024-08-22T19:33:35.002Z"
   },
   {
    "duration": 475,
    "start_time": "2024-08-22T19:33:35.170Z"
   },
   {
    "duration": 165,
    "start_time": "2024-08-22T19:33:35.650Z"
   },
   {
    "duration": 458,
    "start_time": "2024-08-22T19:33:35.823Z"
   },
   {
    "duration": 111,
    "start_time": "2024-08-22T19:33:36.285Z"
   },
   {
    "duration": 533,
    "start_time": "2024-08-22T19:33:36.399Z"
   },
   {
    "duration": 21,
    "start_time": "2024-08-22T19:33:36.936Z"
   },
   {
    "duration": 492,
    "start_time": "2024-08-22T19:33:36.960Z"
   },
   {
    "duration": 42,
    "start_time": "2024-08-22T19:33:37.455Z"
   },
   {
    "duration": 320,
    "start_time": "2024-08-22T19:33:37.499Z"
   },
   {
    "duration": 292,
    "start_time": "2024-08-22T19:33:37.822Z"
   },
   {
    "duration": 470,
    "start_time": "2024-08-22T19:33:38.117Z"
   },
   {
    "duration": 10,
    "start_time": "2024-08-22T19:33:38.591Z"
   },
   {
    "duration": 51,
    "start_time": "2024-08-22T19:33:38.604Z"
   },
   {
    "duration": 13,
    "start_time": "2024-08-22T19:33:38.659Z"
   },
   {
    "duration": 234,
    "start_time": "2024-08-22T19:33:38.676Z"
   },
   {
    "duration": 40,
    "start_time": "2024-08-22T19:33:38.913Z"
   },
   {
    "duration": 20,
    "start_time": "2024-08-22T19:33:38.956Z"
   },
   {
    "duration": 57,
    "start_time": "2024-08-22T19:33:38.979Z"
   },
   {
    "duration": 105,
    "start_time": "2024-08-22T19:33:39.041Z"
   },
   {
    "duration": 4,
    "start_time": "2024-08-22T19:33:39.150Z"
   },
   {
    "duration": 40,
    "start_time": "2024-08-22T19:33:39.157Z"
   },
   {
    "duration": 42,
    "start_time": "2024-08-22T19:33:39.200Z"
   },
   {
    "duration": 14,
    "start_time": "2024-08-22T19:33:39.246Z"
   },
   {
    "duration": 11,
    "start_time": "2024-08-22T19:33:39.264Z"
   },
   {
    "duration": 52,
    "start_time": "2024-08-22T19:33:39.279Z"
   },
   {
    "duration": 22,
    "start_time": "2024-08-22T19:33:39.335Z"
   },
   {
    "duration": 235,
    "start_time": "2024-08-22T19:33:39.361Z"
   },
   {
    "duration": 34,
    "start_time": "2024-08-22T19:33:39.599Z"
   },
   {
    "duration": 28,
    "start_time": "2024-08-22T19:33:39.638Z"
   },
   {
    "duration": 159,
    "start_time": "2024-08-22T19:33:39.677Z"
   },
   {
    "duration": 25,
    "start_time": "2024-08-22T19:33:39.840Z"
   },
   {
    "duration": 24,
    "start_time": "2024-08-22T19:33:39.869Z"
   },
   {
    "duration": 34,
    "start_time": "2024-08-22T19:33:39.897Z"
   },
   {
    "duration": 299,
    "start_time": "2024-08-22T19:33:39.935Z"
   },
   {
    "duration": 268,
    "start_time": "2024-08-22T19:33:40.243Z"
   },
   {
    "duration": 22,
    "start_time": "2024-08-22T19:33:40.515Z"
   },
   {
    "duration": 42,
    "start_time": "2024-08-22T19:33:40.540Z"
   },
   {
    "duration": 9,
    "start_time": "2024-08-22T19:33:40.585Z"
   },
   {
    "duration": 172,
    "start_time": "2024-08-22T19:33:40.597Z"
   },
   {
    "duration": 162,
    "start_time": "2024-08-22T19:33:40.774Z"
   },
   {
    "duration": 23,
    "start_time": "2024-08-22T19:33:40.939Z"
   },
   {
    "duration": 252,
    "start_time": "2024-08-22T19:33:40.967Z"
   },
   {
    "duration": 17,
    "start_time": "2024-08-22T19:33:41.222Z"
   },
   {
    "duration": 17,
    "start_time": "2024-08-22T19:33:41.243Z"
   },
   {
    "duration": 283,
    "start_time": "2024-08-22T19:33:41.264Z"
   },
   {
    "duration": 122,
    "start_time": "2024-08-22T20:02:07.273Z"
   },
   {
    "duration": 1398,
    "start_time": "2024-08-22T20:02:56.314Z"
   },
   {
    "duration": 882,
    "start_time": "2024-08-22T20:02:57.716Z"
   },
   {
    "duration": 53,
    "start_time": "2024-08-22T20:02:58.600Z"
   },
   {
    "duration": 18,
    "start_time": "2024-08-22T20:02:58.656Z"
   },
   {
    "duration": 14,
    "start_time": "2024-08-22T20:02:58.679Z"
   },
   {
    "duration": 41,
    "start_time": "2024-08-22T20:02:58.695Z"
   },
   {
    "duration": 19,
    "start_time": "2024-08-22T20:02:58.741Z"
   },
   {
    "duration": 13,
    "start_time": "2024-08-22T20:02:58.764Z"
   },
   {
    "duration": 243,
    "start_time": "2024-08-22T20:02:58.781Z"
   },
   {
    "duration": 22,
    "start_time": "2024-08-22T20:02:59.031Z"
   },
   {
    "duration": 143,
    "start_time": "2024-08-22T20:02:59.056Z"
   },
   {
    "duration": 493,
    "start_time": "2024-08-22T20:02:59.202Z"
   },
   {
    "duration": 121,
    "start_time": "2024-08-22T20:02:59.699Z"
   },
   {
    "duration": 453,
    "start_time": "2024-08-22T20:02:59.830Z"
   },
   {
    "duration": 126,
    "start_time": "2024-08-22T20:03:00.286Z"
   },
   {
    "duration": 534,
    "start_time": "2024-08-22T20:03:00.415Z"
   },
   {
    "duration": 20,
    "start_time": "2024-08-22T20:03:00.952Z"
   },
   {
    "duration": 507,
    "start_time": "2024-08-22T20:03:00.975Z"
   },
   {
    "duration": 47,
    "start_time": "2024-08-22T20:03:01.485Z"
   },
   {
    "duration": 305,
    "start_time": "2024-08-22T20:03:01.536Z"
   },
   {
    "duration": 292,
    "start_time": "2024-08-22T20:03:01.844Z"
   },
   {
    "duration": 447,
    "start_time": "2024-08-22T20:03:02.140Z"
   },
   {
    "duration": 10,
    "start_time": "2024-08-22T20:03:02.591Z"
   },
   {
    "duration": 53,
    "start_time": "2024-08-22T20:03:02.604Z"
   },
   {
    "duration": 10,
    "start_time": "2024-08-22T20:03:02.660Z"
   },
   {
    "duration": 225,
    "start_time": "2024-08-22T20:03:02.675Z"
   },
   {
    "duration": 49,
    "start_time": "2024-08-22T20:03:02.903Z"
   },
   {
    "duration": 18,
    "start_time": "2024-08-22T20:03:02.955Z"
   },
   {
    "duration": 63,
    "start_time": "2024-08-22T20:03:02.977Z"
   },
   {
    "duration": 97,
    "start_time": "2024-08-22T20:03:03.044Z"
   },
   {
    "duration": 11,
    "start_time": "2024-08-22T20:03:03.145Z"
   },
   {
    "duration": 49,
    "start_time": "2024-08-22T20:03:03.159Z"
   },
   {
    "duration": 24,
    "start_time": "2024-08-22T20:03:03.211Z"
   },
   {
    "duration": 15,
    "start_time": "2024-08-22T20:03:03.239Z"
   },
   {
    "duration": 15,
    "start_time": "2024-08-22T20:03:03.257Z"
   },
   {
    "duration": 9,
    "start_time": "2024-08-22T20:03:03.276Z"
   },
   {
    "duration": 24,
    "start_time": "2024-08-22T20:03:03.331Z"
   },
   {
    "duration": 219,
    "start_time": "2024-08-22T20:03:03.359Z"
   },
   {
    "duration": 18,
    "start_time": "2024-08-22T20:03:03.581Z"
   },
   {
    "duration": 158,
    "start_time": "2024-08-22T20:03:03.602Z"
   },
   {
    "duration": 19,
    "start_time": "2024-08-22T20:03:03.769Z"
   },
   {
    "duration": 4,
    "start_time": "2024-08-22T20:03:03.791Z"
   },
   {
    "duration": 280,
    "start_time": "2024-08-22T20:03:03.799Z"
   },
   {
    "duration": 272,
    "start_time": "2024-08-22T20:03:04.082Z"
   },
   {
    "duration": 17,
    "start_time": "2024-08-22T20:03:04.360Z"
   },
   {
    "duration": 64,
    "start_time": "2024-08-22T20:03:04.380Z"
   },
   {
    "duration": 11,
    "start_time": "2024-08-22T20:03:04.449Z"
   },
   {
    "duration": 159,
    "start_time": "2024-08-22T20:03:04.463Z"
   },
   {
    "duration": 179,
    "start_time": "2024-08-22T20:03:04.625Z"
   },
   {
    "duration": 29,
    "start_time": "2024-08-22T20:03:04.807Z"
   },
   {
    "duration": 234,
    "start_time": "2024-08-22T20:03:04.848Z"
   },
   {
    "duration": 9,
    "start_time": "2024-08-22T20:03:05.085Z"
   },
   {
    "duration": 35,
    "start_time": "2024-08-22T20:03:05.097Z"
   },
   {
    "duration": 286,
    "start_time": "2024-08-22T20:03:05.135Z"
   }
  ],
  "kernelspec": {
   "display_name": "Python 3 (ipykernel)",
   "language": "python",
   "name": "python3"
  },
  "language_info": {
   "codemirror_mode": {
    "name": "ipython",
    "version": 3
   },
   "file_extension": ".py",
   "mimetype": "text/x-python",
   "name": "python",
   "nbconvert_exporter": "python",
   "pygments_lexer": "ipython3",
   "version": "3.9.19"
  },
  "toc": {
   "base_numbering": 1,
   "nav_menu": {},
   "number_sections": true,
   "sideBar": true,
   "skip_h1_title": true,
   "title_cell": "Table of Contents",
   "title_sidebar": "Contents",
   "toc_cell": false,
   "toc_position": {},
   "toc_section_display": true,
   "toc_window_display": false
  }
 },
 "nbformat": 4,
 "nbformat_minor": 2
}
