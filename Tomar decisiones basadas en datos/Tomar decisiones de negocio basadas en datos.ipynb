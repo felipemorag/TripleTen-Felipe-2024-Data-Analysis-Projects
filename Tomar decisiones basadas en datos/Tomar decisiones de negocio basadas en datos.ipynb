{
 "cells": [
  {
   "cell_type": "markdown",
   "metadata": {},
   "source": [
    "# Descripción del proyecto\n",
    "\n",
    "Contexto:\n",
    "\n",
    "Eres analista en una gran tienda en línea. Junto con el departamento de marketing has recopilado una lista de hipótesis que pueden ayudar a aumentar los ingresos. \n",
    "\n",
    "Tienes que priorizar estas hipótesis, lanzar un test A/B y analizar los resultados."
   ]
  },
  {
   "cell_type": "markdown",
   "metadata": {},
   "source": [
    "# Parte 1. Priorizar hipótesis\n",
    "\n",
    "El archivo hypotheses_us.csv contiene nueve hipótesis sobre cómo aumentar los ingresos de una tienda en línea con Reach, Impact, Confidence y Effort especificados para cada una.\n",
    "\n",
    "El ejercicio consiste en:\n",
    "\n",
    "* Aplicar el framework ICE para priorizar hipótesis. Ordenarlas en orden descendente de prioridad.\n",
    "* Aplicar el framework RICE para priorizar hipótesis. Ordenarlas en orden descendente de prioridad.\n",
    "* Mostrar cómo cambia la priorización de hipótesis cuando utilizas RICE en lugar de ICE. Proporcionar una explicación de los cambios."
   ]
  },
  {
   "cell_type": "markdown",
   "metadata": {},
   "source": [
    "**Importar librerías**"
   ]
  },
  {
   "cell_type": "code",
   "execution_count": 1,
   "metadata": {},
   "outputs": [],
   "source": [
    "import pandas as pd\n",
    "import matplotlib.pyplot as plt\n",
    "import numpy as np\n",
    "import seaborn as sns\n",
    "import scipy.stats as stats\n"
   ]
  },
  {
   "cell_type": "code",
   "execution_count": 2,
   "metadata": {},
   "outputs": [
    {
     "data": {
      "text/html": [
       "<div>\n",
       "<style scoped>\n",
       "    .dataframe tbody tr th:only-of-type {\n",
       "        vertical-align: middle;\n",
       "    }\n",
       "\n",
       "    .dataframe tbody tr th {\n",
       "        vertical-align: top;\n",
       "    }\n",
       "\n",
       "    .dataframe thead th {\n",
       "        text-align: right;\n",
       "    }\n",
       "</style>\n",
       "<table border=\"1\" class=\"dataframe\">\n",
       "  <thead>\n",
       "    <tr style=\"text-align: right;\">\n",
       "      <th></th>\n",
       "      <th>Hypothesis</th>\n",
       "      <th>Reach</th>\n",
       "      <th>Impact</th>\n",
       "      <th>Confidence</th>\n",
       "      <th>Effort</th>\n",
       "    </tr>\n",
       "  </thead>\n",
       "  <tbody>\n",
       "    <tr>\n",
       "      <th>0</th>\n",
       "      <td>Add two new channels for attracting traffic. T...</td>\n",
       "      <td>3</td>\n",
       "      <td>10</td>\n",
       "      <td>8</td>\n",
       "      <td>6</td>\n",
       "    </tr>\n",
       "    <tr>\n",
       "      <th>1</th>\n",
       "      <td>Launch your own delivery service. This will sh...</td>\n",
       "      <td>2</td>\n",
       "      <td>5</td>\n",
       "      <td>4</td>\n",
       "      <td>10</td>\n",
       "    </tr>\n",
       "    <tr>\n",
       "      <th>2</th>\n",
       "      <td>Add product recommendation blocks to the store...</td>\n",
       "      <td>8</td>\n",
       "      <td>3</td>\n",
       "      <td>7</td>\n",
       "      <td>3</td>\n",
       "    </tr>\n",
       "    <tr>\n",
       "      <th>3</th>\n",
       "      <td>Change the category structure. This will incre...</td>\n",
       "      <td>8</td>\n",
       "      <td>3</td>\n",
       "      <td>3</td>\n",
       "      <td>8</td>\n",
       "    </tr>\n",
       "    <tr>\n",
       "      <th>4</th>\n",
       "      <td>Change the background color on the main page. ...</td>\n",
       "      <td>3</td>\n",
       "      <td>1</td>\n",
       "      <td>1</td>\n",
       "      <td>1</td>\n",
       "    </tr>\n",
       "  </tbody>\n",
       "</table>\n",
       "</div>"
      ],
      "text/plain": [
       "                                          Hypothesis  Reach  Impact  \\\n",
       "0  Add two new channels for attracting traffic. T...      3      10   \n",
       "1  Launch your own delivery service. This will sh...      2       5   \n",
       "2  Add product recommendation blocks to the store...      8       3   \n",
       "3  Change the category structure. This will incre...      8       3   \n",
       "4  Change the background color on the main page. ...      3       1   \n",
       "\n",
       "   Confidence  Effort  \n",
       "0           8       6  \n",
       "1           4      10  \n",
       "2           7       3  \n",
       "3           3       8  \n",
       "4           1       1  "
      ]
     },
     "execution_count": 2,
     "metadata": {},
     "output_type": "execute_result"
    }
   ],
   "source": [
    "hipotesis = pd.read_csv('/datasets/hypotheses_us.csv', sep=';')\n",
    "\n",
    "hipotesis.head(5)"
   ]
  },
  {
   "cell_type": "markdown",
   "metadata": {},
   "source": [
    "**Aplicar el framework ICE para priorizar hipótesis**"
   ]
  },
  {
   "cell_type": "code",
   "execution_count": 3,
   "metadata": {},
   "outputs": [
    {
     "data": {
      "text/html": [
       "<div>\n",
       "<style scoped>\n",
       "    .dataframe tbody tr th:only-of-type {\n",
       "        vertical-align: middle;\n",
       "    }\n",
       "\n",
       "    .dataframe tbody tr th {\n",
       "        vertical-align: top;\n",
       "    }\n",
       "\n",
       "    .dataframe thead th {\n",
       "        text-align: right;\n",
       "    }\n",
       "</style>\n",
       "<table border=\"1\" class=\"dataframe\">\n",
       "  <thead>\n",
       "    <tr style=\"text-align: right;\">\n",
       "      <th></th>\n",
       "      <th>Hypothesis</th>\n",
       "      <th>ICE</th>\n",
       "    </tr>\n",
       "  </thead>\n",
       "  <tbody>\n",
       "    <tr>\n",
       "      <th>8</th>\n",
       "      <td>Launch a promotion that gives users discounts ...</td>\n",
       "      <td>16.200000</td>\n",
       "    </tr>\n",
       "    <tr>\n",
       "      <th>0</th>\n",
       "      <td>Add two new channels for attracting traffic. T...</td>\n",
       "      <td>13.333333</td>\n",
       "    </tr>\n",
       "    <tr>\n",
       "      <th>7</th>\n",
       "      <td>Add a subscription form to all the main pages....</td>\n",
       "      <td>11.200000</td>\n",
       "    </tr>\n",
       "    <tr>\n",
       "      <th>6</th>\n",
       "      <td>Show banners with current offers and sales on ...</td>\n",
       "      <td>8.000000</td>\n",
       "    </tr>\n",
       "    <tr>\n",
       "      <th>2</th>\n",
       "      <td>Add product recommendation blocks to the store...</td>\n",
       "      <td>7.000000</td>\n",
       "    </tr>\n",
       "    <tr>\n",
       "      <th>1</th>\n",
       "      <td>Launch your own delivery service. This will sh...</td>\n",
       "      <td>2.000000</td>\n",
       "    </tr>\n",
       "    <tr>\n",
       "      <th>5</th>\n",
       "      <td>Add a customer review page. This will increase...</td>\n",
       "      <td>1.333333</td>\n",
       "    </tr>\n",
       "    <tr>\n",
       "      <th>3</th>\n",
       "      <td>Change the category structure. This will incre...</td>\n",
       "      <td>1.125000</td>\n",
       "    </tr>\n",
       "    <tr>\n",
       "      <th>4</th>\n",
       "      <td>Change the background color on the main page. ...</td>\n",
       "      <td>1.000000</td>\n",
       "    </tr>\n",
       "  </tbody>\n",
       "</table>\n",
       "</div>"
      ],
      "text/plain": [
       "                                          Hypothesis        ICE\n",
       "8  Launch a promotion that gives users discounts ...  16.200000\n",
       "0  Add two new channels for attracting traffic. T...  13.333333\n",
       "7  Add a subscription form to all the main pages....  11.200000\n",
       "6  Show banners with current offers and sales on ...   8.000000\n",
       "2  Add product recommendation blocks to the store...   7.000000\n",
       "1  Launch your own delivery service. This will sh...   2.000000\n",
       "5  Add a customer review page. This will increase...   1.333333\n",
       "3  Change the category structure. This will incre...   1.125000\n",
       "4  Change the background color on the main page. ...   1.000000"
      ]
     },
     "execution_count": 3,
     "metadata": {},
     "output_type": "execute_result"
    }
   ],
   "source": [
    "hipotesis['ICE'] = (hipotesis['Impact']*hipotesis['Confidence'])/hipotesis['Effort']\n",
    "\n",
    "hipotesis[['Hypothesis','ICE']].sort_values(by='ICE', ascending=False)"
   ]
  },
  {
   "cell_type": "markdown",
   "metadata": {},
   "source": [
    "El ICE presenta:\n",
    "\n",
    "* Lanza una promoción que ofrezca a los usuarios descuentos en sus cumpleaños\n",
    "* Añadir dos nuevos canales para atraer tráfico.\n",
    "\n",
    "como las hipótesis más prometedoras."
   ]
  },
  {
   "cell_type": "markdown",
   "metadata": {},
   "source": [
    "**Aplicar el framework RICE para priorizar hipótesis**"
   ]
  },
  {
   "cell_type": "code",
   "execution_count": 4,
   "metadata": {},
   "outputs": [
    {
     "data": {
      "text/html": [
       "<div>\n",
       "<style scoped>\n",
       "    .dataframe tbody tr th:only-of-type {\n",
       "        vertical-align: middle;\n",
       "    }\n",
       "\n",
       "    .dataframe tbody tr th {\n",
       "        vertical-align: top;\n",
       "    }\n",
       "\n",
       "    .dataframe thead th {\n",
       "        text-align: right;\n",
       "    }\n",
       "</style>\n",
       "<table border=\"1\" class=\"dataframe\">\n",
       "  <thead>\n",
       "    <tr style=\"text-align: right;\">\n",
       "      <th></th>\n",
       "      <th>Hypothesis</th>\n",
       "      <th>RICE</th>\n",
       "    </tr>\n",
       "  </thead>\n",
       "  <tbody>\n",
       "    <tr>\n",
       "      <th>7</th>\n",
       "      <td>Add a subscription form to all the main pages....</td>\n",
       "      <td>112.0</td>\n",
       "    </tr>\n",
       "    <tr>\n",
       "      <th>2</th>\n",
       "      <td>Add product recommendation blocks to the store...</td>\n",
       "      <td>56.0</td>\n",
       "    </tr>\n",
       "    <tr>\n",
       "      <th>0</th>\n",
       "      <td>Add two new channels for attracting traffic. T...</td>\n",
       "      <td>40.0</td>\n",
       "    </tr>\n",
       "    <tr>\n",
       "      <th>6</th>\n",
       "      <td>Show banners with current offers and sales on ...</td>\n",
       "      <td>40.0</td>\n",
       "    </tr>\n",
       "    <tr>\n",
       "      <th>8</th>\n",
       "      <td>Launch a promotion that gives users discounts ...</td>\n",
       "      <td>16.2</td>\n",
       "    </tr>\n",
       "    <tr>\n",
       "      <th>3</th>\n",
       "      <td>Change the category structure. This will incre...</td>\n",
       "      <td>9.0</td>\n",
       "    </tr>\n",
       "    <tr>\n",
       "      <th>1</th>\n",
       "      <td>Launch your own delivery service. This will sh...</td>\n",
       "      <td>4.0</td>\n",
       "    </tr>\n",
       "    <tr>\n",
       "      <th>5</th>\n",
       "      <td>Add a customer review page. This will increase...</td>\n",
       "      <td>4.0</td>\n",
       "    </tr>\n",
       "    <tr>\n",
       "      <th>4</th>\n",
       "      <td>Change the background color on the main page. ...</td>\n",
       "      <td>3.0</td>\n",
       "    </tr>\n",
       "  </tbody>\n",
       "</table>\n",
       "</div>"
      ],
      "text/plain": [
       "                                          Hypothesis   RICE\n",
       "7  Add a subscription form to all the main pages....  112.0\n",
       "2  Add product recommendation blocks to the store...   56.0\n",
       "0  Add two new channels for attracting traffic. T...   40.0\n",
       "6  Show banners with current offers and sales on ...   40.0\n",
       "8  Launch a promotion that gives users discounts ...   16.2\n",
       "3  Change the category structure. This will incre...    9.0\n",
       "1  Launch your own delivery service. This will sh...    4.0\n",
       "5  Add a customer review page. This will increase...    4.0\n",
       "4  Change the background color on the main page. ...    3.0"
      ]
     },
     "execution_count": 4,
     "metadata": {},
     "output_type": "execute_result"
    }
   ],
   "source": [
    "hipotesis['RICE'] = (hipotesis['Reach']*hipotesis['Impact']*hipotesis['Confidence'])/hipotesis['Effort']\n",
    "\n",
    "hipotesis[['Hypothesis','RICE']].sort_values(by='RICE', ascending=False)"
   ]
  },
  {
   "cell_type": "markdown",
   "metadata": {},
   "source": [
    "El RICE presenta:\n",
    "\n",
    "* Añade un formulario de suscripción a todas las páginas principales\n",
    "* Agregue bloques de recomendación de productos al sitio de la tienda\n",
    "\n",
    "como las hipótesis más prometedoras.\n"
   ]
  },
  {
   "cell_type": "markdown",
   "metadata": {},
   "source": [
    "De nuevo, las 2 hipótesis más prometedoras bajo el framework RICE, se deben a que sus parámetros Reach son 10 y 8 , los cuales ocupan los valores más altos entre las hipotesis mientras que las otras hipótesis tienen valores más bajos."
   ]
  },
  {
   "cell_type": "markdown",
   "metadata": {},
   "source": [
    "Ahora comparemos la puntuación de cada Hipotesis para ambos framework:"
   ]
  },
  {
   "cell_type": "code",
   "execution_count": 36,
   "metadata": {},
   "outputs": [
    {
     "name": "stdout",
     "output_type": "stream",
     "text": [
      "Comparación por RICE e ICE:\n"
     ]
    },
    {
     "name": "stderr",
     "output_type": "stream",
     "text": [
      "/tmp/ipykernel_51/3050907553.py:4: SettingWithCopyWarning: \n",
      "A value is trying to be set on a copy of a slice from a DataFrame.\n",
      "Try using .loc[row_indexer,col_indexer] = value instead\n",
      "\n",
      "See the caveats in the documentation: https://pandas.pydata.org/pandas-docs/stable/user_guide/indexing.html#returning-a-view-versus-a-copy\n",
      "  hipotesis_comparacion['RICE_Rank'] = hipotesis_comparacion['RICE'].rank(ascending=False)\n",
      "/tmp/ipykernel_51/3050907553.py:7: SettingWithCopyWarning: \n",
      "A value is trying to be set on a copy of a slice from a DataFrame.\n",
      "Try using .loc[row_indexer,col_indexer] = value instead\n",
      "\n",
      "See the caveats in the documentation: https://pandas.pydata.org/pandas-docs/stable/user_guide/indexing.html#returning-a-view-versus-a-copy\n",
      "  hipotesis_comparacion['ICE_Rank'] = hipotesis_comparacion['ICE'].rank(ascending=False)\n"
     ]
    },
    {
     "data": {
      "text/html": [
       "<div>\n",
       "<style scoped>\n",
       "    .dataframe tbody tr th:only-of-type {\n",
       "        vertical-align: middle;\n",
       "    }\n",
       "\n",
       "    .dataframe tbody tr th {\n",
       "        vertical-align: top;\n",
       "    }\n",
       "\n",
       "    .dataframe thead th {\n",
       "        text-align: right;\n",
       "    }\n",
       "</style>\n",
       "<table border=\"1\" class=\"dataframe\">\n",
       "  <thead>\n",
       "    <tr style=\"text-align: right;\">\n",
       "      <th></th>\n",
       "      <th>Hypothesis</th>\n",
       "      <th>RICE</th>\n",
       "      <th>ICE</th>\n",
       "      <th>RICE_Rank</th>\n",
       "      <th>ICE_Rank</th>\n",
       "    </tr>\n",
       "  </thead>\n",
       "  <tbody>\n",
       "    <tr>\n",
       "      <th>7</th>\n",
       "      <td>Add a subscription form to all the main pages....</td>\n",
       "      <td>112.0</td>\n",
       "      <td>11.200000</td>\n",
       "      <td>1.0</td>\n",
       "      <td>3.0</td>\n",
       "    </tr>\n",
       "    <tr>\n",
       "      <th>2</th>\n",
       "      <td>Add product recommendation blocks to the store...</td>\n",
       "      <td>56.0</td>\n",
       "      <td>7.000000</td>\n",
       "      <td>2.0</td>\n",
       "      <td>5.0</td>\n",
       "    </tr>\n",
       "    <tr>\n",
       "      <th>0</th>\n",
       "      <td>Add two new channels for attracting traffic. T...</td>\n",
       "      <td>40.0</td>\n",
       "      <td>13.333333</td>\n",
       "      <td>3.5</td>\n",
       "      <td>2.0</td>\n",
       "    </tr>\n",
       "    <tr>\n",
       "      <th>6</th>\n",
       "      <td>Show banners with current offers and sales on ...</td>\n",
       "      <td>40.0</td>\n",
       "      <td>8.000000</td>\n",
       "      <td>3.5</td>\n",
       "      <td>4.0</td>\n",
       "    </tr>\n",
       "    <tr>\n",
       "      <th>8</th>\n",
       "      <td>Launch a promotion that gives users discounts ...</td>\n",
       "      <td>16.2</td>\n",
       "      <td>16.200000</td>\n",
       "      <td>5.0</td>\n",
       "      <td>1.0</td>\n",
       "    </tr>\n",
       "    <tr>\n",
       "      <th>3</th>\n",
       "      <td>Change the category structure. This will incre...</td>\n",
       "      <td>9.0</td>\n",
       "      <td>1.125000</td>\n",
       "      <td>6.0</td>\n",
       "      <td>8.0</td>\n",
       "    </tr>\n",
       "    <tr>\n",
       "      <th>1</th>\n",
       "      <td>Launch your own delivery service. This will sh...</td>\n",
       "      <td>4.0</td>\n",
       "      <td>2.000000</td>\n",
       "      <td>7.5</td>\n",
       "      <td>6.0</td>\n",
       "    </tr>\n",
       "    <tr>\n",
       "      <th>5</th>\n",
       "      <td>Add a customer review page. This will increase...</td>\n",
       "      <td>4.0</td>\n",
       "      <td>1.333333</td>\n",
       "      <td>7.5</td>\n",
       "      <td>7.0</td>\n",
       "    </tr>\n",
       "    <tr>\n",
       "      <th>4</th>\n",
       "      <td>Change the background color on the main page. ...</td>\n",
       "      <td>3.0</td>\n",
       "      <td>1.000000</td>\n",
       "      <td>9.0</td>\n",
       "      <td>9.0</td>\n",
       "    </tr>\n",
       "  </tbody>\n",
       "</table>\n",
       "</div>"
      ],
      "text/plain": [
       "                                          Hypothesis   RICE        ICE  \\\n",
       "7  Add a subscription form to all the main pages....  112.0  11.200000   \n",
       "2  Add product recommendation blocks to the store...   56.0   7.000000   \n",
       "0  Add two new channels for attracting traffic. T...   40.0  13.333333   \n",
       "6  Show banners with current offers and sales on ...   40.0   8.000000   \n",
       "8  Launch a promotion that gives users discounts ...   16.2  16.200000   \n",
       "3  Change the category structure. This will incre...    9.0   1.125000   \n",
       "1  Launch your own delivery service. This will sh...    4.0   2.000000   \n",
       "5  Add a customer review page. This will increase...    4.0   1.333333   \n",
       "4  Change the background color on the main page. ...    3.0   1.000000   \n",
       "\n",
       "   RICE_Rank  ICE_Rank  \n",
       "7        1.0       3.0  \n",
       "2        2.0       5.0  \n",
       "0        3.5       2.0  \n",
       "6        3.5       4.0  \n",
       "8        5.0       1.0  \n",
       "3        6.0       8.0  \n",
       "1        7.5       6.0  \n",
       "5        7.5       7.0  \n",
       "4        9.0       9.0  "
      ]
     },
     "execution_count": 36,
     "metadata": {},
     "output_type": "execute_result"
    }
   ],
   "source": [
    "hipotesis_comparacion = hipotesis[['Hypothesis', 'RICE', 'ICE']]\n",
    "\n",
    "# Ordenar por RICE y agregar una columna de ranking por RICE\n",
    "hipotesis_comparacion['RICE_Rank'] = hipotesis_comparacion['RICE'].rank(ascending=False)\n",
    "\n",
    "# Ordenar por ICE y agregar una columna de ranking por ICE\n",
    "hipotesis_comparacion['ICE_Rank'] = hipotesis_comparacion['ICE'].rank(ascending=False)\n",
    "\n",
    "# Mostrar el DataFrame con las clasificaciones\n",
    "hipotesis_comparacion = hipotesis_comparacion.sort_values(by='RICE_Rank')\n",
    "print(\"Comparación por RICE e ICE:\")\n",
    "\n",
    "hipotesis_comparacion"
   ]
  },
  {
   "cell_type": "markdown",
   "metadata": {},
   "source": [
    "Al comparar ambos frameworks, podemos concluir que las Hipotesis que destacan resultan ser:\n",
    "\n",
    "* Añadir un formulario de inscripción en todas las páginas principales\" \n",
    "* Añadir 2 nuevos canales para atraer tráfico\". \n",
    "\n",
    "Esto dado que ambas hipotesis se encuentran dentro de los 3 primeros lugares en ambos frameworks."
   ]
  },
  {
   "cell_type": "markdown",
   "metadata": {},
   "source": [
    "# Parte 2. Análisis de test A/B\n",
    "\n",
    "Realizaste un test A/B y obtuviste los resultados descritos en los archivos orders_us.csv y visitors_us.csv.\n",
    "\n",
    "Ejercicio\n",
    "\n",
    "Analiza el test A/B:\n",
    "\n",
    "* Representa gráficamente el ingreso acumulado por grupo. Haz conclusiones y conjeturas.\n",
    "* Representa gráficamente el tamaño de pedido promedio acumulado por grupo. Haz conclusiones y conjeturas.\n",
    "* Representa gráficamente la diferencia relativa en el tamaño de pedido promedio acumulado para el grupo B en comparación con el grupo A. Haz conclusiones y conjeturas.\n",
    "* Calcula la tasa de conversión de cada grupo como la relación entre los pedidos y el número de visitas de cada día. Representa gráficamente las tasas de conversión diarias de los dos grupos y describe la diferencia. Saca conclusiones y haz conjeturas.\n",
    "* Traza un gráfico de dispersión del número de pedidos por usuario. Haz conclusiones y conjeturas.\n",
    "* Calcula los percentiles 95 y 99 para el número de pedidos por usuario. Define el punto en el cual un punto de datos se convierte en una anomalía.\n",
    "* Traza un gráfico de dispersión de los precios de los pedidos. Haz conclusiones y conjeturas.\n",
    "* Calcula los percentiles 95 y 99 de los precios de los pedidos. Define el punto en el cual un punto de datos se convierte en una anomalía.\n",
    "* Encuentra la significancia estadística de la diferencia en la conversión entre los grupos utilizando los datos en bruto. Haz conclusiones y conjeturas.\n",
    "* Encuentra la significancia estadística de la diferencia en el tamaño promedio de pedido entre los grupos utilizando los datos en bruto. Haz conclusiones y conjeturas.\n",
    "* Encuentra la significancia estadística de la diferencia en la conversión entre los grupos utilizando los datos filtrados. Haz conclusiones y conjeturas.\n",
    "* Encuentra la significancia estadística de la diferencia en el tamaño promedio de pedido entre los grupos utilizando los datos filtrados. Haz conclusiones y conjeturas.\n",
    "* Toma una decisión basada en los resultados de la prueba. Las decisiones posibles son: 1. Para la prueba, considera a uno de los grupos como líder. 2. Para la prueba, concluye que no hay diferencia entre los grupos. 3. Continúa la prueba."
   ]
  },
  {
   "cell_type": "markdown",
   "metadata": {},
   "source": [
    "**Procesar los datos**"
   ]
  },
  {
   "cell_type": "code",
   "execution_count": 5,
   "metadata": {},
   "outputs": [
    {
     "name": "stdout",
     "output_type": "stream",
     "text": [
      "<class 'pandas.core.frame.DataFrame'>\n",
      "RangeIndex: 1197 entries, 0 to 1196\n",
      "Data columns (total 5 columns):\n",
      " #   Column         Non-Null Count  Dtype         \n",
      "---  ------         --------------  -----         \n",
      " 0   transactionId  1197 non-null   int64         \n",
      " 1   visitorId      1197 non-null   int64         \n",
      " 2   date           1197 non-null   datetime64[ns]\n",
      " 3   revenue        1197 non-null   float64       \n",
      " 4   group          1197 non-null   object        \n",
      "dtypes: datetime64[ns](1), float64(1), int64(2), object(1)\n",
      "memory usage: 46.9+ KB\n"
     ]
    }
   ],
   "source": [
    "orders = pd.read_csv('/datasets/orders_us.csv', parse_dates=['date'] , sep=',')\n",
    "\n",
    "orders.info()"
   ]
  },
  {
   "cell_type": "markdown",
   "metadata": {},
   "source": [
    "**Es posible que haya errores en los datasets originales; por ejemplo, algunos de los visitantes podrían haber entrado tanto en el grupo A como en el grupo B.**"
   ]
  },
  {
   "cell_type": "code",
   "execution_count": 6,
   "metadata": {},
   "outputs": [
    {
     "name": "stdout",
     "output_type": "stream",
     "text": [
      "<class 'pandas.core.frame.DataFrame'>\n",
      "Int64Index: 1016 entries, 0 to 1196\n",
      "Data columns (total 5 columns):\n",
      " #   Column         Non-Null Count  Dtype         \n",
      "---  ------         --------------  -----         \n",
      " 0   transactionId  1016 non-null   int64         \n",
      " 1   visitorId      1016 non-null   int64         \n",
      " 2   date           1016 non-null   datetime64[ns]\n",
      " 3   revenue        1016 non-null   float64       \n",
      " 4   group          1016 non-null   object        \n",
      "dtypes: datetime64[ns](1), float64(1), int64(2), object(1)\n",
      "memory usage: 47.6+ KB\n"
     ]
    }
   ],
   "source": [
    "# Primero, encontramos los usuarios que están en más de un grupo\n",
    "usuarios_con_multiple_grupo = orders.groupby('visitorId')['group'].nunique()\n",
    "usuarios_con_multiple_grupo = usuarios_con_multiple_grupo[usuarios_con_multiple_grupo > 1].index\n",
    "\n",
    "# Luego, filtramos el DataFrame para que solo contenga usuarios que están en un solo grupo\n",
    "orders_filtrado = orders[~orders['visitorId'].isin(usuarios_con_multiple_grupo)]\n",
    "\n",
    "# Imprimimos el DataFrame filtrado\n",
    "orders_filtrado.info()"
   ]
  },
  {
   "cell_type": "code",
   "execution_count": 7,
   "metadata": {},
   "outputs": [
    {
     "data": {
      "text/html": [
       "<div>\n",
       "<style scoped>\n",
       "    .dataframe tbody tr th:only-of-type {\n",
       "        vertical-align: middle;\n",
       "    }\n",
       "\n",
       "    .dataframe tbody tr th {\n",
       "        vertical-align: top;\n",
       "    }\n",
       "\n",
       "    .dataframe thead th {\n",
       "        text-align: right;\n",
       "    }\n",
       "</style>\n",
       "<table border=\"1\" class=\"dataframe\">\n",
       "  <thead>\n",
       "    <tr style=\"text-align: right;\">\n",
       "      <th></th>\n",
       "      <th>transactionId</th>\n",
       "      <th>visitorId</th>\n",
       "      <th>date</th>\n",
       "      <th>revenue</th>\n",
       "      <th>group</th>\n",
       "    </tr>\n",
       "  </thead>\n",
       "  <tbody>\n",
       "    <tr>\n",
       "      <th>0</th>\n",
       "      <td>3667963787</td>\n",
       "      <td>3312258926</td>\n",
       "      <td>2019-08-15</td>\n",
       "      <td>30.4</td>\n",
       "      <td>B</td>\n",
       "    </tr>\n",
       "    <tr>\n",
       "      <th>1</th>\n",
       "      <td>2804400009</td>\n",
       "      <td>3642806036</td>\n",
       "      <td>2019-08-15</td>\n",
       "      <td>15.2</td>\n",
       "      <td>B</td>\n",
       "    </tr>\n",
       "    <tr>\n",
       "      <th>3</th>\n",
       "      <td>3797467345</td>\n",
       "      <td>1196621759</td>\n",
       "      <td>2019-08-15</td>\n",
       "      <td>155.1</td>\n",
       "      <td>B</td>\n",
       "    </tr>\n",
       "    <tr>\n",
       "      <th>4</th>\n",
       "      <td>2282983706</td>\n",
       "      <td>2322279887</td>\n",
       "      <td>2019-08-15</td>\n",
       "      <td>40.5</td>\n",
       "      <td>B</td>\n",
       "    </tr>\n",
       "    <tr>\n",
       "      <th>5</th>\n",
       "      <td>182168103</td>\n",
       "      <td>935554773</td>\n",
       "      <td>2019-08-15</td>\n",
       "      <td>35.0</td>\n",
       "      <td>B</td>\n",
       "    </tr>\n",
       "  </tbody>\n",
       "</table>\n",
       "</div>"
      ],
      "text/plain": [
       "   transactionId   visitorId       date  revenue group\n",
       "0     3667963787  3312258926 2019-08-15     30.4     B\n",
       "1     2804400009  3642806036 2019-08-15     15.2     B\n",
       "3     3797467345  1196621759 2019-08-15    155.1     B\n",
       "4     2282983706  2322279887 2019-08-15     40.5     B\n",
       "5      182168103   935554773 2019-08-15     35.0     B"
      ]
     },
     "execution_count": 7,
     "metadata": {},
     "output_type": "execute_result"
    }
   ],
   "source": [
    "orders_filtrado.head(5)"
   ]
  },
  {
   "cell_type": "code",
   "execution_count": 8,
   "metadata": {},
   "outputs": [
    {
     "name": "stdout",
     "output_type": "stream",
     "text": [
      "<class 'pandas.core.frame.DataFrame'>\n",
      "RangeIndex: 62 entries, 0 to 61\n",
      "Data columns (total 3 columns):\n",
      " #   Column  Non-Null Count  Dtype         \n",
      "---  ------  --------------  -----         \n",
      " 0   date    62 non-null     datetime64[ns]\n",
      " 1   group   62 non-null     object        \n",
      " 2   visits  62 non-null     int64         \n",
      "dtypes: datetime64[ns](1), int64(1), object(1)\n",
      "memory usage: 1.6+ KB\n"
     ]
    }
   ],
   "source": [
    "visits = pd.read_csv('/datasets/visits_us.csv', parse_dates=['date'] , sep=',')\n",
    "\n",
    "visits.info()"
   ]
  },
  {
   "cell_type": "code",
   "execution_count": 9,
   "metadata": {},
   "outputs": [
    {
     "data": {
      "text/html": [
       "<div>\n",
       "<style scoped>\n",
       "    .dataframe tbody tr th:only-of-type {\n",
       "        vertical-align: middle;\n",
       "    }\n",
       "\n",
       "    .dataframe tbody tr th {\n",
       "        vertical-align: top;\n",
       "    }\n",
       "\n",
       "    .dataframe thead th {\n",
       "        text-align: right;\n",
       "    }\n",
       "</style>\n",
       "<table border=\"1\" class=\"dataframe\">\n",
       "  <thead>\n",
       "    <tr style=\"text-align: right;\">\n",
       "      <th></th>\n",
       "      <th>date</th>\n",
       "      <th>group</th>\n",
       "      <th>visits</th>\n",
       "    </tr>\n",
       "  </thead>\n",
       "  <tbody>\n",
       "    <tr>\n",
       "      <th>0</th>\n",
       "      <td>2019-08-01</td>\n",
       "      <td>A</td>\n",
       "      <td>719</td>\n",
       "    </tr>\n",
       "    <tr>\n",
       "      <th>1</th>\n",
       "      <td>2019-08-02</td>\n",
       "      <td>A</td>\n",
       "      <td>619</td>\n",
       "    </tr>\n",
       "    <tr>\n",
       "      <th>2</th>\n",
       "      <td>2019-08-03</td>\n",
       "      <td>A</td>\n",
       "      <td>507</td>\n",
       "    </tr>\n",
       "    <tr>\n",
       "      <th>3</th>\n",
       "      <td>2019-08-04</td>\n",
       "      <td>A</td>\n",
       "      <td>717</td>\n",
       "    </tr>\n",
       "    <tr>\n",
       "      <th>4</th>\n",
       "      <td>2019-08-05</td>\n",
       "      <td>A</td>\n",
       "      <td>756</td>\n",
       "    </tr>\n",
       "  </tbody>\n",
       "</table>\n",
       "</div>"
      ],
      "text/plain": [
       "        date group  visits\n",
       "0 2019-08-01     A     719\n",
       "1 2019-08-02     A     619\n",
       "2 2019-08-03     A     507\n",
       "3 2019-08-04     A     717\n",
       "4 2019-08-05     A     756"
      ]
     },
     "execution_count": 9,
     "metadata": {},
     "output_type": "execute_result"
    }
   ],
   "source": [
    "visits.head(5)"
   ]
  },
  {
   "cell_type": "markdown",
   "metadata": {},
   "source": [
    "**Representa gráficamente el ingreso acumulado por grupo**"
   ]
  },
  {
   "cell_type": "code",
   "execution_count": 10,
   "metadata": {},
   "outputs": [
    {
     "data": {
      "text/html": [
       "<div>\n",
       "<style scoped>\n",
       "    .dataframe tbody tr th:only-of-type {\n",
       "        vertical-align: middle;\n",
       "    }\n",
       "\n",
       "    .dataframe tbody tr th {\n",
       "        vertical-align: top;\n",
       "    }\n",
       "\n",
       "    .dataframe thead th {\n",
       "        text-align: right;\n",
       "    }\n",
       "</style>\n",
       "<table border=\"1\" class=\"dataframe\">\n",
       "  <thead>\n",
       "    <tr style=\"text-align: right;\">\n",
       "      <th></th>\n",
       "      <th>date</th>\n",
       "      <th>group</th>\n",
       "      <th>revenue</th>\n",
       "    </tr>\n",
       "  </thead>\n",
       "  <tbody>\n",
       "    <tr>\n",
       "      <th>0</th>\n",
       "      <td>2019-08-01</td>\n",
       "      <td>A</td>\n",
       "      <td>2266.6</td>\n",
       "    </tr>\n",
       "    <tr>\n",
       "      <th>1</th>\n",
       "      <td>2019-08-01</td>\n",
       "      <td>B</td>\n",
       "      <td>967.2</td>\n",
       "    </tr>\n",
       "    <tr>\n",
       "      <th>2</th>\n",
       "      <td>2019-08-02</td>\n",
       "      <td>A</td>\n",
       "      <td>1468.3</td>\n",
       "    </tr>\n",
       "    <tr>\n",
       "      <th>3</th>\n",
       "      <td>2019-08-02</td>\n",
       "      <td>B</td>\n",
       "      <td>2568.1</td>\n",
       "    </tr>\n",
       "    <tr>\n",
       "      <th>4</th>\n",
       "      <td>2019-08-03</td>\n",
       "      <td>A</td>\n",
       "      <td>1815.2</td>\n",
       "    </tr>\n",
       "  </tbody>\n",
       "</table>\n",
       "</div>"
      ],
      "text/plain": [
       "        date group  revenue\n",
       "0 2019-08-01     A   2266.6\n",
       "1 2019-08-01     B    967.2\n",
       "2 2019-08-02     A   1468.3\n",
       "3 2019-08-02     B   2568.1\n",
       "4 2019-08-03     A   1815.2"
      ]
     },
     "execution_count": 10,
     "metadata": {},
     "output_type": "execute_result"
    }
   ],
   "source": [
    "daily_orders = orders_filtrado.groupby([\"date\", \"group\"])[\"revenue\"].sum().reset_index()\n",
    "daily_orders.head()"
   ]
  },
  {
   "cell_type": "code",
   "execution_count": 11,
   "metadata": {},
   "outputs": [
    {
     "data": {
      "text/html": [
       "<div>\n",
       "<style scoped>\n",
       "    .dataframe tbody tr th:only-of-type {\n",
       "        vertical-align: middle;\n",
       "    }\n",
       "\n",
       "    .dataframe tbody tr th {\n",
       "        vertical-align: top;\n",
       "    }\n",
       "\n",
       "    .dataframe thead th {\n",
       "        text-align: right;\n",
       "    }\n",
       "</style>\n",
       "<table border=\"1\" class=\"dataframe\">\n",
       "  <thead>\n",
       "    <tr style=\"text-align: right;\">\n",
       "      <th></th>\n",
       "      <th>date</th>\n",
       "      <th>group</th>\n",
       "      <th>revenue</th>\n",
       "      <th>ingreso_acumulado</th>\n",
       "    </tr>\n",
       "  </thead>\n",
       "  <tbody>\n",
       "    <tr>\n",
       "      <th>0</th>\n",
       "      <td>2019-08-01</td>\n",
       "      <td>A</td>\n",
       "      <td>2266.6</td>\n",
       "      <td>2266.6</td>\n",
       "    </tr>\n",
       "    <tr>\n",
       "      <th>1</th>\n",
       "      <td>2019-08-01</td>\n",
       "      <td>B</td>\n",
       "      <td>967.2</td>\n",
       "      <td>967.2</td>\n",
       "    </tr>\n",
       "    <tr>\n",
       "      <th>2</th>\n",
       "      <td>2019-08-02</td>\n",
       "      <td>A</td>\n",
       "      <td>1468.3</td>\n",
       "      <td>3734.9</td>\n",
       "    </tr>\n",
       "    <tr>\n",
       "      <th>3</th>\n",
       "      <td>2019-08-02</td>\n",
       "      <td>B</td>\n",
       "      <td>2568.1</td>\n",
       "      <td>3535.3</td>\n",
       "    </tr>\n",
       "    <tr>\n",
       "      <th>4</th>\n",
       "      <td>2019-08-03</td>\n",
       "      <td>A</td>\n",
       "      <td>1815.2</td>\n",
       "      <td>5550.1</td>\n",
       "    </tr>\n",
       "  </tbody>\n",
       "</table>\n",
       "</div>"
      ],
      "text/plain": [
       "        date group  revenue  ingreso_acumulado\n",
       "0 2019-08-01     A   2266.6             2266.6\n",
       "1 2019-08-01     B    967.2              967.2\n",
       "2 2019-08-02     A   1468.3             3734.9\n",
       "3 2019-08-02     B   2568.1             3535.3\n",
       "4 2019-08-03     A   1815.2             5550.1"
      ]
     },
     "execution_count": 11,
     "metadata": {},
     "output_type": "execute_result"
    }
   ],
   "source": [
    "daily_orders[\"ingreso_acumulado\"] = daily_orders.sort_values(by = \"date\").groupby(\"group\")[\"revenue\"].cumsum()\n",
    "daily_orders.head()"
   ]
  },
  {
   "cell_type": "code",
   "execution_count": 12,
   "metadata": {},
   "outputs": [
    {
     "data": {
      "image/png": "[encoded data removed]",
      "text/plain": [
       "<Figure size 640x480 with 1 Axes>"
      ]
     },
     "metadata": {},
     "output_type": "display_data"
    }
   ],
   "source": [
    "#Graficar el ingreso acumulado por grupo\n",
    "\n",
    "daily_orders.pivot_table(\n",
    "    index='date',\n",
    "    columns='group',\n",
    "    values='ingreso_acumulado',\n",
    "    aggfunc='mean'\n",
    ").plot(kind='line')\n",
    "plt.title('Ingreso acumulado por grupo')\n",
    "plt.xlabel('Fecha')\n",
    "plt.ylabel('Ingreso acumulado')\n",
    "plt.gca().tick_params(axis='x', rotation=45)\n",
    "plt.show()"
   ]
  },
  {
   "cell_type": "markdown",
   "metadata": {},
   "source": [
    "Se observa que a partir del 19-08-2019 aproximadamente se comenzó con el experimento. Esto dado a que la suma acumulada del grupo B experimenta un salto en el ingreso acumulado."
   ]
  },
  {
   "cell_type": "markdown",
   "metadata": {},
   "source": [
    "**Representa gráficamente el tamaño de pedido promedio acumulado por grupo**"
   ]
  },
  {
   "cell_type": "code",
   "execution_count": 13,
   "metadata": {},
   "outputs": [
    {
     "data": {
      "text/plain": [
       "Text(0, 0.5, 'n_pedidos')"
      ]
     },
     "execution_count": 13,
     "metadata": {},
     "output_type": "execute_result"
    },
    {
     "data": {
      "image/png": "[encoded data removed]",
      "text/plain": [
       "<Figure size 640x480 with 1 Axes>"
      ]
     },
     "metadata": {},
     "output_type": "display_data"
    }
   ],
   "source": [
    "daily_avgs = (\n",
    "    orders_filtrado\n",
    "    .groupby(['date', 'group'])\n",
    "    .agg({\n",
    "        'visitorId': 'nunique',\n",
    "        'revenue': 'sum'\n",
    "    })\n",
    "    .reset_index()\n",
    "    .rename(columns={\n",
    "        'visitorId': 'n_compradores'\n",
    "    })\n",
    ")\n",
    "\n",
    "daily_avgs['cumulative_compradores'] = daily_avgs.sort_values(by='date').groupby('group')['n_compradores'].cumsum()\n",
    "daily_avgs['cumulative_revenue'] = daily_avgs.sort_values(by='date').groupby('group')['revenue'].cumsum()\n",
    "\n",
    "#Calcula el promedio acumulado por grupo\n",
    "\n",
    "daily_avgs['avg_revenue'] = daily_avgs['cumulative_revenue'] / daily_avgs['cumulative_compradores']\n",
    "\n",
    "daily_avgs_by_group = (\n",
    "    daily_avgs\n",
    "    .pivot_table(\n",
    "        index='date',\n",
    "        columns='group',\n",
    "        values='avg_revenue'\n",
    "    )\n",
    ")\n",
    "\n",
    "#Graficar el promedio acumulado por grupo\n",
    "\n",
    "daily_avgs_by_group.plot(kind='line')\n",
    "plt.title('Tamaño del pedido promedio acumulado por grupo')\n",
    "plt.xlabel('Fecha')\n",
    "plt.ylabel('n_pedidos')"
   ]
  },
  {
   "cell_type": "markdown",
   "metadata": {},
   "source": [
    "Se observa que inicialmente el tamaño promedio de pedidos es mayor para el grupo A, sin embargo, partir del 19-08-2019 aproximadamente se concluye que comenzó con el experimento. Esto dado a que el pedido promedio acumulado del grupo B experimenta un salto en los pedidos."
   ]
  },
  {
   "cell_type": "markdown",
   "metadata": {},
   "source": [
    "**Representa gráficamente la diferencia relativa en el tamaño de pedido promedio acumulado para el grupo B en comparación con el grupo A. Haz conclusiones y conjeturas.**"
   ]
  },
  {
   "cell_type": "code",
   "execution_count": 14,
   "metadata": {},
   "outputs": [
    {
     "data": {
      "text/html": [
       "<div>\n",
       "<style scoped>\n",
       "    .dataframe tbody tr th:only-of-type {\n",
       "        vertical-align: middle;\n",
       "    }\n",
       "\n",
       "    .dataframe tbody tr th {\n",
       "        vertical-align: top;\n",
       "    }\n",
       "\n",
       "    .dataframe thead th {\n",
       "        text-align: right;\n",
       "    }\n",
       "</style>\n",
       "<table border=\"1\" class=\"dataframe\">\n",
       "  <thead>\n",
       "    <tr style=\"text-align: right;\">\n",
       "      <th>group</th>\n",
       "      <th>A</th>\n",
       "      <th>B</th>\n",
       "      <th>difference</th>\n",
       "    </tr>\n",
       "    <tr>\n",
       "      <th>date</th>\n",
       "      <th></th>\n",
       "      <th></th>\n",
       "      <th></th>\n",
       "    </tr>\n",
       "  </thead>\n",
       "  <tbody>\n",
       "    <tr>\n",
       "      <th>2019-08-01</th>\n",
       "      <td>119.294737</td>\n",
       "      <td>56.894118</td>\n",
       "      <td>-0.523079</td>\n",
       "    </tr>\n",
       "    <tr>\n",
       "      <th>2019-08-02</th>\n",
       "      <td>100.943243</td>\n",
       "      <td>90.648718</td>\n",
       "      <td>-0.101983</td>\n",
       "    </tr>\n",
       "    <tr>\n",
       "      <th>2019-08-03</th>\n",
       "      <td>90.985246</td>\n",
       "      <td>86.922642</td>\n",
       "      <td>-0.044651</td>\n",
       "    </tr>\n",
       "    <tr>\n",
       "      <th>2019-08-04</th>\n",
       "      <td>86.466667</td>\n",
       "      <td>93.007576</td>\n",
       "      <td>0.075647</td>\n",
       "    </tr>\n",
       "    <tr>\n",
       "      <th>2019-08-05</th>\n",
       "      <td>81.102128</td>\n",
       "      <td>87.216092</td>\n",
       "      <td>0.075386</td>\n",
       "    </tr>\n",
       "    <tr>\n",
       "      <th>2019-08-06</th>\n",
       "      <td>78.226415</td>\n",
       "      <td>100.523853</td>\n",
       "      <td>0.285037</td>\n",
       "    </tr>\n",
       "    <tr>\n",
       "      <th>2019-08-07</th>\n",
       "      <td>83.885246</td>\n",
       "      <td>109.035606</td>\n",
       "      <td>0.299819</td>\n",
       "    </tr>\n",
       "    <tr>\n",
       "      <th>2019-08-08</th>\n",
       "      <td>85.579412</td>\n",
       "      <td>108.912987</td>\n",
       "      <td>0.272654</td>\n",
       "    </tr>\n",
       "    <tr>\n",
       "      <th>2019-08-09</th>\n",
       "      <td>93.428571</td>\n",
       "      <td>106.524855</td>\n",
       "      <td>0.140174</td>\n",
       "    </tr>\n",
       "    <tr>\n",
       "      <th>2019-08-10</th>\n",
       "      <td>99.515432</td>\n",
       "      <td>103.095385</td>\n",
       "      <td>0.035974</td>\n",
       "    </tr>\n",
       "    <tr>\n",
       "      <th>2019-08-11</th>\n",
       "      <td>98.756647</td>\n",
       "      <td>101.251208</td>\n",
       "      <td>0.025260</td>\n",
       "    </tr>\n",
       "    <tr>\n",
       "      <th>2019-08-12</th>\n",
       "      <td>106.946354</td>\n",
       "      <td>100.074336</td>\n",
       "      <td>-0.064257</td>\n",
       "    </tr>\n",
       "    <tr>\n",
       "      <th>2019-08-13</th>\n",
       "      <td>119.566019</td>\n",
       "      <td>99.558130</td>\n",
       "      <td>-0.167338</td>\n",
       "    </tr>\n",
       "    <tr>\n",
       "      <th>2019-08-14</th>\n",
       "      <td>113.664574</td>\n",
       "      <td>100.706538</td>\n",
       "      <td>-0.114002</td>\n",
       "    </tr>\n",
       "    <tr>\n",
       "      <th>2019-08-15</th>\n",
       "      <td>114.259657</td>\n",
       "      <td>108.507692</td>\n",
       "      <td>-0.050341</td>\n",
       "    </tr>\n",
       "    <tr>\n",
       "      <th>2019-08-16</th>\n",
       "      <td>112.436653</td>\n",
       "      <td>108.026974</td>\n",
       "      <td>-0.039219</td>\n",
       "    </tr>\n",
       "    <tr>\n",
       "      <th>2019-08-17</th>\n",
       "      <td>112.383203</td>\n",
       "      <td>107.622082</td>\n",
       "      <td>-0.042365</td>\n",
       "    </tr>\n",
       "    <tr>\n",
       "      <th>2019-08-18</th>\n",
       "      <td>110.541636</td>\n",
       "      <td>107.051543</td>\n",
       "      <td>-0.031573</td>\n",
       "    </tr>\n",
       "    <tr>\n",
       "      <th>2019-08-19</th>\n",
       "      <td>111.687241</td>\n",
       "      <td>164.969767</td>\n",
       "      <td>0.477069</td>\n",
       "    </tr>\n",
       "    <tr>\n",
       "      <th>2019-08-20</th>\n",
       "      <td>111.084333</td>\n",
       "      <td>162.291758</td>\n",
       "      <td>0.460978</td>\n",
       "    </tr>\n",
       "    <tr>\n",
       "      <th>2019-08-21</th>\n",
       "      <td>112.865831</td>\n",
       "      <td>162.963830</td>\n",
       "      <td>0.443872</td>\n",
       "    </tr>\n",
       "    <tr>\n",
       "      <th>2019-08-22</th>\n",
       "      <td>113.845289</td>\n",
       "      <td>159.959446</td>\n",
       "      <td>0.405060</td>\n",
       "    </tr>\n",
       "    <tr>\n",
       "      <th>2019-08-23</th>\n",
       "      <td>110.055014</td>\n",
       "      <td>157.884878</td>\n",
       "      <td>0.434600</td>\n",
       "    </tr>\n",
       "    <tr>\n",
       "      <th>2019-08-24</th>\n",
       "      <td>111.384807</td>\n",
       "      <td>155.987028</td>\n",
       "      <td>0.400434</td>\n",
       "    </tr>\n",
       "    <tr>\n",
       "      <th>2019-08-25</th>\n",
       "      <td>111.187838</td>\n",
       "      <td>154.572936</td>\n",
       "      <td>0.390196</td>\n",
       "    </tr>\n",
       "    <tr>\n",
       "      <th>2019-08-26</th>\n",
       "      <td>112.964508</td>\n",
       "      <td>153.139956</td>\n",
       "      <td>0.355647</td>\n",
       "    </tr>\n",
       "    <tr>\n",
       "      <th>2019-08-27</th>\n",
       "      <td>113.787286</td>\n",
       "      <td>153.272921</td>\n",
       "      <td>0.347013</td>\n",
       "    </tr>\n",
       "    <tr>\n",
       "      <th>2019-08-28</th>\n",
       "      <td>113.362972</td>\n",
       "      <td>148.463340</td>\n",
       "      <td>0.309628</td>\n",
       "    </tr>\n",
       "    <tr>\n",
       "      <th>2019-08-29</th>\n",
       "      <td>115.951927</td>\n",
       "      <td>147.384783</td>\n",
       "      <td>0.271085</td>\n",
       "    </tr>\n",
       "    <tr>\n",
       "      <th>2019-08-30</th>\n",
       "      <td>116.622940</td>\n",
       "      <td>147.748577</td>\n",
       "      <td>0.266891</td>\n",
       "    </tr>\n",
       "    <tr>\n",
       "      <th>2019-08-31</th>\n",
       "      <td>116.437637</td>\n",
       "      <td>146.417647</td>\n",
       "      <td>0.257477</td>\n",
       "    </tr>\n",
       "  </tbody>\n",
       "</table>\n",
       "</div>"
      ],
      "text/plain": [
       "group                A           B  difference\n",
       "date                                          \n",
       "2019-08-01  119.294737   56.894118   -0.523079\n",
       "2019-08-02  100.943243   90.648718   -0.101983\n",
       "2019-08-03   90.985246   86.922642   -0.044651\n",
       "2019-08-04   86.466667   93.007576    0.075647\n",
       "2019-08-05   81.102128   87.216092    0.075386\n",
       "2019-08-06   78.226415  100.523853    0.285037\n",
       "2019-08-07   83.885246  109.035606    0.299819\n",
       "2019-08-08   85.579412  108.912987    0.272654\n",
       "2019-08-09   93.428571  106.524855    0.140174\n",
       "2019-08-10   99.515432  103.095385    0.035974\n",
       "2019-08-11   98.756647  101.251208    0.025260\n",
       "2019-08-12  106.946354  100.074336   -0.064257\n",
       "2019-08-13  119.566019   99.558130   -0.167338\n",
       "2019-08-14  113.664574  100.706538   -0.114002\n",
       "2019-08-15  114.259657  108.507692   -0.050341\n",
       "2019-08-16  112.436653  108.026974   -0.039219\n",
       "2019-08-17  112.383203  107.622082   -0.042365\n",
       "2019-08-18  110.541636  107.051543   -0.031573\n",
       "2019-08-19  111.687241  164.969767    0.477069\n",
       "2019-08-20  111.084333  162.291758    0.460978\n",
       "2019-08-21  112.865831  162.963830    0.443872\n",
       "2019-08-22  113.845289  159.959446    0.405060\n",
       "2019-08-23  110.055014  157.884878    0.434600\n",
       "2019-08-24  111.384807  155.987028    0.400434\n",
       "2019-08-25  111.187838  154.572936    0.390196\n",
       "2019-08-26  112.964508  153.139956    0.355647\n",
       "2019-08-27  113.787286  153.272921    0.347013\n",
       "2019-08-28  113.362972  148.463340    0.309628\n",
       "2019-08-29  115.951927  147.384783    0.271085\n",
       "2019-08-30  116.622940  147.748577    0.266891\n",
       "2019-08-31  116.437637  146.417647    0.257477"
      ]
     },
     "execution_count": 14,
     "metadata": {},
     "output_type": "execute_result"
    }
   ],
   "source": [
    "# Calcula la diferencia entre los grupos A y B\n",
    "daily_avgs_by_group['difference'] = (\n",
    "    (daily_avgs_by_group['B'] - daily_avgs_by_group['A'])/daily_avgs_by_group['A']\n",
    ")\n",
    "\n",
    "# Imprime el DataFrame resultante para verificar el resultado\n",
    "daily_avgs_by_group"
   ]
  },
  {
   "cell_type": "code",
   "execution_count": 15,
   "metadata": {},
   "outputs": [
    {
     "data": {
      "image/png": "[encoded data removed]",
      "text/plain": [
       "<Figure size 1200x600 with 1 Axes>"
      ]
     },
     "metadata": {},
     "output_type": "display_data"
    }
   ],
   "source": [
    "# Crea el gráfico\n",
    "plt.figure(figsize=(12, 6))  # Tamaño del gráfico\n",
    "plt.plot(daily_avgs_by_group.index, daily_avgs_by_group['difference'], marker='o', linestyle='-', color='b')\n",
    "\n",
    "# Añade títulos y etiquetas\n",
    "plt.title('Diferencia relativa entre Grupos A y B por Fecha')\n",
    "plt.xlabel('Fecha')\n",
    "plt.ylabel('Diferencia en Avg Revenue')\n",
    "plt.grid(True)\n",
    "\n",
    "# Ajusta el formato de las fechas en el eje x si es necesario\n",
    "plt.gcf().autofmt_xdate()\n",
    "\n",
    "# Muestra el gráfico\n",
    "plt.show()"
   ]
  },
  {
   "cell_type": "markdown",
   "metadata": {},
   "source": [
    "Al comienzo de la prueba los resultados cambiaron significativamente de un día a otro, estabilizándose solo después del 19-08-2019 aproximadamente con una diferencia relativa que fluctúa entre 0.3% y 0.4%."
   ]
  },
  {
   "cell_type": "markdown",
   "metadata": {},
   "source": [
    "**Calcula la tasa de conversión de cada grupo como la relación entre los pedidos y el número de visitas de cada día. Representa gráficamente las tasas de conversión diarias de los dos grupos y describe la diferencia**"
   ]
  },
  {
   "cell_type": "code",
   "execution_count": 16,
   "metadata": {},
   "outputs": [],
   "source": [
    "datesGroups = orders_filtrado[['date', 'group']].drop_duplicates()\n",
    "\n",
    "ordersAggregated = datesGroups.apply(\n",
    "    lambda x: orders_filtrado[\n",
    "        np.logical_and(\n",
    "            orders_filtrado['date'] <= x['date'], orders_filtrado['group'] == x['group']\n",
    "        )\n",
    "    ].agg(\n",
    "        {\n",
    "            'date': 'max',\n",
    "            'group': 'max',\n",
    "            'transactionId': pd.Series.nunique,\n",
    "            'visitorId': pd.Series.nunique,\n",
    "            'revenue': 'sum',\n",
    "        }\n",
    "    ),\n",
    "    axis=1,\n",
    ").sort_values(by=['date', 'group'])"
   ]
  },
  {
   "cell_type": "code",
   "execution_count": 17,
   "metadata": {},
   "outputs": [],
   "source": [
    "visitorsAggregated = datesGroups.apply(\n",
    "    lambda x: visits[\n",
    "        np.logical_and(\n",
    "            visits['date'] <= x['date'], visits['group'] == x['group']\n",
    "        )\n",
    "    ].agg({'date': 'max', 'group': 'max', 'visits': 'sum'}),\n",
    "    axis=1,\n",
    ").sort_values(by=['date', 'group'])"
   ]
  },
  {
   "cell_type": "code",
   "execution_count": 18,
   "metadata": {},
   "outputs": [],
   "source": [
    "cumulativeData = ordersAggregated.merge(\n",
    "    visitorsAggregated, left_on=['date', 'group'], right_on=['date', 'group']\n",
    ")\n",
    "cumulativeData.columns = [\n",
    "    'date',\n",
    "    'group',\n",
    "    'n_orders',\n",
    "    'n_compradores',\n",
    "    'revenue',\n",
    "    'visits',\n",
    "]\n"
   ]
  },
  {
   "cell_type": "code",
   "execution_count": 19,
   "metadata": {},
   "outputs": [
    {
     "data": {
      "text/plain": [
       "<matplotlib.legend.Legend at 0x7f7826d83100>"
      ]
     },
     "execution_count": 19,
     "metadata": {},
     "output_type": "execute_result"
    },
    {
     "data": {
      "image/png": "[encoded data removed]",
      "text/plain": [
       "<Figure size 1200x600 with 1 Axes>"
      ]
     },
     "metadata": {},
     "output_type": "display_data"
    }
   ],
   "source": [
    "cumulativeData['conversion'] = (\n",
    "    cumulativeData['n_orders'] / cumulativeData['visits']\n",
    ")\n",
    "\n",
    "cumulativeDataA = cumulativeData[cumulativeData['group'] == 'A']\n",
    "cumulativeDataB = cumulativeData[cumulativeData['group'] == 'B']\n",
    "\n",
    "plt.figure(figsize=(12, 6))\n",
    "\n",
    "plt.title('Tasa de Conversión por Fecha para los Grupos A y B')\n",
    "plt.xlabel('Fecha')\n",
    "plt.ylabel('Tasa de Conversión')\n",
    "\n",
    "plt.plot(cumulativeDataA['date'], cumulativeDataA['conversion'], label='A')\n",
    "plt.plot(cumulativeDataB['date'], cumulativeDataB['conversion'], label='B')\n",
    "plt.legend()\n"
   ]
  },
  {
   "cell_type": "markdown",
   "metadata": {},
   "source": [
    "Se observa que al inicio de la prueba, el segmento A tenía una tasa de conversión más alta pero el segmento B ganó gradualmente y se estabilizó en un valor casi constante."
   ]
  },
  {
   "cell_type": "markdown",
   "metadata": {},
   "source": [
    "**Traza un gráfico de dispersión del número de pedidos por usuario. Haz conclusiones y conjeturas.**"
   ]
  },
  {
   "cell_type": "code",
   "execution_count": 20,
   "metadata": {},
   "outputs": [
    {
     "name": "stdout",
     "output_type": "stream",
     "text": [
      "      visitorId  n_orders\n",
      "908  3967698036         3\n",
      "55    249864742         3\n",
      "478  2108163459         3\n",
      "687  2988190573         3\n",
      "890  3908431265         3\n",
      "138   611059232         3\n",
      "632  2742574263         3\n",
      "157   678354126         2\n",
      "323  1404560065         2\n",
      "452  1985475298         2\n"
     ]
    },
    {
     "data": {
      "image/png": "[encoded data removed]",
      "text/plain": [
       "<Figure size 640x480 with 1 Axes>"
      ]
     },
     "metadata": {},
     "output_type": "display_data"
    }
   ],
   "source": [
    "ordersByUsers = (\n",
    "    orders_filtrado.drop(['group', 'revenue', 'date'], axis=1)\n",
    "    .groupby('visitorId', as_index=False)\n",
    "    .agg({'transactionId': pd.Series.nunique})\n",
    ")\n",
    "ordersByUsers.columns = ['visitorId', 'n_orders']\n",
    "\n",
    "print(ordersByUsers.sort_values(by='n_orders', ascending=False).head(10))\n",
    "\n",
    "plt.hist(ordersByUsers['n_orders'], bins=20, color='blue', edgecolor='black')\n",
    "\n",
    "# Añade títulos y etiquetas\n",
    "plt.title('Número de pedidos por usuario')\n",
    "plt.xlabel('Pedidos')\n",
    "plt.ylabel('Usuarios')\n",
    "\n",
    "# Muestra el gráfico\n",
    "plt.show()"
   ]
  },
  {
   "cell_type": "markdown",
   "metadata": {},
   "source": [
    "La mayoría de los usuarios hizo un solo pedido. Sin embargo, no está claro cuántos usuarios hicieron dos, tres o más pedidos. Necesitaremos otro tipo de gráfico."
   ]
  },
  {
   "cell_type": "code",
   "execution_count": 21,
   "metadata": {},
   "outputs": [
    {
     "data": {
      "image/png": "[encoded data removed]",
      "text/plain": [
       "<Figure size 640x480 with 1 Axes>"
      ]
     },
     "metadata": {},
     "output_type": "display_data"
    }
   ],
   "source": [
    "# el rango de números desde 0 hasta el número de observaciones en ordersByUsers\n",
    "x_values = pd.Series(range(0, len(ordersByUsers)))\n",
    "\n",
    "plt.scatter(x_values, ordersByUsers['n_orders'], color='blue', edgecolor='black')\n",
    "\n",
    "# Añade títulos y etiquetas\n",
    "plt.title('Número de pedidos por usuario')\n",
    "plt.xlabel('Usuarios')\n",
    "plt.ylabel('Pedidos')\n",
    "\n",
    "# Muestra el gráfico\n",
    "plt.show()"
   ]
  },
  {
   "cell_type": "markdown",
   "metadata": {},
   "source": [
    "Hay muy pocos usuarios con más de dos pedidos. Estos casos también pueden resultar ser anomalías."
   ]
  },
  {
   "cell_type": "markdown",
   "metadata": {},
   "source": [
    "**Calcula los percentiles 95 y 99 para el número de pedidos por usuario. Define el punto en el cual un punto de datos se convierte en una anomalía.**"
   ]
  },
  {
   "cell_type": "code",
   "execution_count": 22,
   "metadata": {},
   "outputs": [
    {
     "name": "stdout",
     "output_type": "stream",
     "text": [
      "[1. 2.]\n"
     ]
    }
   ],
   "source": [
    "print(np.percentile(ordersByUsers['n_orders'], [95, 99]))"
   ]
  },
  {
   "cell_type": "markdown",
   "metadata": {},
   "source": [
    "Se observa que no más del 5% de los usuarios realizaron más de 1 pedido y no más del 1% de los usuarios realizaron más de dos."
   ]
  },
  {
   "cell_type": "markdown",
   "metadata": {},
   "source": [
    "**Traza un gráfico de dispersión de los precios de los pedidos. Haz conclusiones y conjeturas.**"
   ]
  },
  {
   "cell_type": "code",
   "execution_count": 23,
   "metadata": {},
   "outputs": [
    {
     "name": "stdout",
     "output_type": "stream",
     "text": [
      "      transactionId   visitorId       date  revenue group\n",
      "425       590470918  1920142716 2019-08-19  19920.4     B\n",
      "1196     3936777065  2108080724 2019-08-15   3120.1     B\n",
      "1136      666610489  1307669133 2019-08-13   1425.8     A\n",
      "744      3668308183   888512513 2019-08-27   1335.6     B\n",
      "743      3603576309  4133034833 2019-08-09   1050.0     A\n",
      "1103     1348774318  1164614297 2019-08-12   1025.8     A\n",
      "1099      316924019   148427295 2019-08-12   1015.9     A\n",
      "949      1347999392   887908475 2019-08-21    930.0     A\n",
      "940      2420050534  4003628586 2019-08-08    905.8     B\n",
      "613      4071177889  3931967268 2019-08-07    830.3     B\n"
     ]
    },
    {
     "data": {
      "image/png": "[encoded data removed]",
      "text/plain": [
       "<Figure size 640x480 with 1 Axes>"
      ]
     },
     "metadata": {},
     "output_type": "display_data"
    }
   ],
   "source": [
    "print(orders_filtrado.sort_values(by='revenue',ascending=False).head(10))\n",
    "\n",
    "plt.hist(orders_filtrado['revenue'], bins=20, color='blue', edgecolor='black')\n",
    "plt.title('Precios de los pedidos')\n",
    "plt.xlabel('Precios')\n",
    "plt.ylabel('número de pedidos')\n",
    "\n",
    "# Muestra el gráfico\n",
    "plt.show()\n",
    "\n"
   ]
  },
  {
   "cell_type": "markdown",
   "metadata": {},
   "source": [
    "La mayoría de los pedidos son de menos de $2.500. Sin embargo, no se puede decir nada sobre los pedidos más grandes o la distribución de los más pequeños a partir de este histograma."
   ]
  },
  {
   "cell_type": "code",
   "execution_count": 24,
   "metadata": {},
   "outputs": [
    {
     "data": {
      "image/png": "[encoded data removed]",
      "text/plain": [
       "<Figure size 640x480 with 1 Axes>"
      ]
     },
     "metadata": {},
     "output_type": "display_data"
    }
   ],
   "source": [
    "x_values = pd.Series(range(0,len(orders_filtrado['revenue'])))\n",
    "\n",
    "plt.scatter(x_values, orders_filtrado['revenue'], color='blue', edgecolor='black')\n",
    "\n",
    "# Añade títulos y etiquetas\n",
    "plt.title('Precios de los pedidos')\n",
    "plt.xlabel('Número de pedidos')\n",
    "plt.ylabel('Precio')\n",
    "\n",
    "# Muestra el gráfico\n",
    "plt.show()"
   ]
  },
  {
   "cell_type": "markdown",
   "metadata": {},
   "source": [
    "La mayoría de los pedidos son de menos de 2500 unidades monetarias. El pedido que está entre de 2500 y 5000 parece bastante anómalo."
   ]
  },
  {
   "cell_type": "markdown",
   "metadata": {},
   "source": [
    "**Calcula los percentiles 95 y 99 de los precios de los pedidos. Define el punto en el cual un punto de datos se convierte en una anomalía.**"
   ]
  },
  {
   "cell_type": "code",
   "execution_count": 25,
   "metadata": {},
   "outputs": [
    {
     "name": "stdout",
     "output_type": "stream",
     "text": [
      "    transactionId   visitorId       date  revenue group\n",
      "0      3667963787  3312258926 2019-08-15     30.4     B\n",
      "1      2804400009  3642806036 2019-08-15     15.2     B\n",
      "3      3797467345  1196621759 2019-08-15    155.1     B\n",
      "4      2282983706  2322279887 2019-08-15     40.5     B\n",
      "5       182168103   935554773 2019-08-15     35.0     B\n",
      "6       398296753  2900797465 2019-08-15     30.6     B\n",
      "7      2626614568    78758296 2019-08-15     20.1     A\n",
      "8      1576988021   295230930 2019-08-15    215.9     A\n",
      "9      1506739906  1882260405 2019-08-15     30.5     B\n",
      "10     3649131742   879864040 2019-08-15     65.7     A\n",
      "[414.275 830.3  ]\n"
     ]
    }
   ],
   "source": [
    "print(orders_filtrado.head(10))\n",
    "\n",
    "print(np.percentile(orders_filtrado['revenue'], [95,99]))"
   ]
  },
  {
   "cell_type": "markdown",
   "metadata": {},
   "source": [
    "No más del 5% de los usuarios realizaron pedidos que costaron más de 414.2 unidades monetarias. No más del 1 porciento realizaron pedidos más caros que 830.3 unidades monetarias."
   ]
  },
  {
   "cell_type": "markdown",
   "metadata": {},
   "source": [
    "**Encuentra la significancia estadística de la diferencia en la conversión entre los grupos utilizando los datos en bruto**"
   ]
  },
  {
   "cell_type": "markdown",
   "metadata": {},
   "source": [
    "Hipotesis:\n",
    "\n",
    "1. Formular la hipotesis nula y alternativa:\n",
    "* HO: No hay diferencia significativa entre el grupo A y el grupo B.\n",
    "* H1: Hay alguna diferencia entre el grupo A y el grupo B.\n",
    "\n",
    "2. Usamos el nivel de significancia estandar de $\\alpha$ de 0.5"
   ]
  },
  {
   "cell_type": "code",
   "execution_count": 26,
   "metadata": {},
   "outputs": [
    {
     "name": "stdout",
     "output_type": "stream",
     "text": [
      "0.01102\n",
      "0.160\n"
     ]
    }
   ],
   "source": [
    "ordersByUsersA = (\n",
    "    orders_filtrado[orders_filtrado['group'] == 'A']\n",
    "    .groupby('visitorId', as_index=False)\n",
    "    .agg({'transactionId': pd.Series.nunique})\n",
    ")\n",
    "ordersByUsersA.columns = ['visitorId', 'orders']\n",
    "\n",
    "ordersByUsersB = (\n",
    "    orders_filtrado[orders_filtrado['group'] == 'B']\n",
    "    .groupby('visitorId', as_index=False)\n",
    "    .agg({'transactionId': pd.Series.nunique})\n",
    ")\n",
    "ordersByUsersB.columns = ['visitorId', 'orders']\n",
    "\n",
    "sampleA = pd.concat(\n",
    "    [\n",
    "        ordersByUsersA['orders'],\n",
    "        pd.Series(\n",
    "            0,\n",
    "            index=np.arange(\n",
    "                visits[visits['group'] == 'A']['visits'].sum()\n",
    "                - len(ordersByUsersA['orders'])\n",
    "            ),\n",
    "            name='orders',\n",
    "        ),\n",
    "    ],\n",
    "    axis=0,\n",
    ")\n",
    "sampleB = pd.concat(\n",
    "    [\n",
    "        ordersByUsersB['orders'],\n",
    "        pd.Series(\n",
    "            0,\n",
    "            index=np.arange(\n",
    "                visits[visits['group'] == 'B']['visits'].sum()\n",
    "                - len(ordersByUsersB['orders'])\n",
    "            ),\n",
    "            name='orders',\n",
    "        ),\n",
    "    ],\n",
    "    axis=0,\n",
    ")\n",
    "\n",
    "print('{0:.5f}'.format(stats.mannwhitneyu(sampleA, sampleB)[1]))\n",
    "print('{0:.3f}'.format(sampleB.mean() / sampleA.mean() - 1))"
   ]
  },
  {
   "cell_type": "markdown",
   "metadata": {},
   "source": [
    "El valor p es inferior a 0.05 por lo que rechazamos la hipótesis nula. El análisis de datos sin procesar mostró que las tasas de conversión de los grupos tienen diferencias estadísticamente significativas. La ganancia de conversión relativa del grupo B en comparación con el grupo A es del 16%."
   ]
  },
  {
   "cell_type": "markdown",
   "metadata": {},
   "source": [
    "**Encuentra la significancia estadística de la diferencia en el tamaño promedio de pedido entre los grupos utilizando los datos en bruto. Haz conclusiones y conjeturas.**"
   ]
  },
  {
   "cell_type": "code",
   "execution_count": 27,
   "metadata": {},
   "outputs": [
    {
     "name": "stdout",
     "output_type": "stream",
     "text": [
      "0.862\n",
      "0.278\n"
     ]
    }
   ],
   "source": [
    "print(\n",
    "    '{0:.3f}'.format(\n",
    "        stats.mannwhitneyu(\n",
    "            orders_filtrado[orders_filtrado['group'] == 'A']['revenue'],\n",
    "            orders_filtrado[orders_filtrado['group'] == 'B']['revenue'],\n",
    "        )[1]\n",
    "    )\n",
    ")\n",
    "print(\n",
    "    '{0:.3f}'.format(\n",
    "        orders_filtrado[orders_filtrado['group'] == 'B']['revenue'].mean()\n",
    "        / orders_filtrado[orders_filtrado['group'] == 'A']['revenue'].mean()\n",
    "        - 1\n",
    "    )\n",
    ")"
   ]
  },
  {
   "cell_type": "markdown",
   "metadata": {},
   "source": [
    "El valor p es superior a 0.05 por lo que no existen diferencias estadísticamente significativas entre los tamaños de pedido promedio de los grupos. Además, la diferencia relativa es del 27.8%."
   ]
  },
  {
   "cell_type": "markdown",
   "metadata": {},
   "source": [
    "**Encuentra la significancia estadística de la diferencia en la conversión entre los grupos utilizando los datos filtrados. Haz conclusiones y conjeturas.**"
   ]
  },
  {
   "cell_type": "markdown",
   "metadata": {},
   "source": [
    "Anteriormente, calculamos que los percentiles 95 y 99 para el tamaño promedio de pedido fueron 414 y 830 unidades monetarias. Para el número de usuarios, los percentiles 95 y 99 fueron de 1 y 2 pedidos.\n",
    "\n",
    "Consideraremos usuarios anómalos a aquellos que realizaron dos o más pedidos o realizaron ordenes de más de $500. Así, eliminaremos el 1 porciento de los usuarios con más pedidos y entre el 1 porciento y el 5 porciento de los pedidos más caros."
   ]
  },
  {
   "cell_type": "code",
   "execution_count": 28,
   "metadata": {},
   "outputs": [
    {
     "name": "stdout",
     "output_type": "stream",
     "text": [
      "1099    148427295\n",
      "928     204675465\n",
      "33      249864742\n",
      "684     358944393\n",
      "648     382846391\n",
      "Name: visitorId, dtype: int64\n"
     ]
    }
   ],
   "source": [
    "#Crea slices de datos para usuarios con dos o más pedidos (usersWithManyOrders) y usuarios con pedidos de más de $500 (usersWithExpensiveOrders). \n",
    "\n",
    "usersWithManyOrders = pd.concat(\n",
    "    [\n",
    "        ordersByUsersA[ordersByUsersA['orders'] > 2]['visitorId'],\n",
    "        ordersByUsersB[ordersByUsersB['orders'] > 2]['visitorId'],\n",
    "    ],\n",
    "    axis=0,\n",
    ")\n",
    "\n",
    "usersWithExpensiveOrders = orders_filtrado[orders_filtrado['revenue'] > 500]['visitorId']\n",
    "\n",
    "#Lo unimos en la tabla abnormalUsers, eliminamos los duplicados y ordenamos los datos en orden ascendente.\n",
    "\n",
    "abnormalUsers = (\n",
    "    pd.concat([usersWithManyOrders, usersWithExpensiveOrders], axis=0)\n",
    "    .drop_duplicates()\n",
    "    .sort_values()\n",
    ")\n",
    "\n",
    "#Imprimir el conjunto de datos anómalos\n",
    "\n",
    "print(abnormalUsers.head(5))"
   ]
  },
  {
   "cell_type": "code",
   "execution_count": 29,
   "metadata": {},
   "outputs": [
    {
     "name": "stdout",
     "output_type": "stream",
     "text": [
      "0.00746\n",
      "0.193\n"
     ]
    }
   ],
   "source": [
    "#Eliminamos los visitantes anómalos y calculamos la significancia estadística de la diferencia en la conversión.\n",
    "\n",
    "\n",
    "sampleAFiltered = pd.concat(\n",
    "    [\n",
    "        ordersByUsersA[\n",
    "            np.logical_not(ordersByUsersA['visitorId'].isin(abnormalUsers))\n",
    "        ]['orders'],\n",
    "        pd.Series(\n",
    "            0,\n",
    "            index=np.arange(\n",
    "                visits[visits['group'] == 'A']['visits'].sum()\n",
    "                - len(ordersByUsersA['orders'])\n",
    "            ),\n",
    "            name='orders',\n",
    "        ),\n",
    "    ],\n",
    "    axis=0,\n",
    ")\n",
    "\n",
    "sampleBFiltered = pd.concat(\n",
    "    [\n",
    "        ordersByUsersB[\n",
    "            np.logical_not(ordersByUsersB['visitorId'].isin(abnormalUsers))\n",
    "        ]['orders'],\n",
    "        pd.Series(\n",
    "            0,\n",
    "            index=np.arange(\n",
    "                visits[visits['group'] == 'B']['visits'].sum()\n",
    "                - len(ordersByUsersB['orders'])\n",
    "            ),\n",
    "            name='orders',\n",
    "        ),\n",
    "    ],\n",
    "    axis=0,\n",
    ")\n",
    "\n",
    "print(\n",
    "    \"{0:.5f}\".format(stats.mannwhitneyu(sampleAFiltered, sampleBFiltered)[1])\n",
    ")\n",
    "print(\"{0:.3f}\".format(sampleBFiltered.mean() / sampleAFiltered.mean() - 1))"
   ]
  },
  {
   "cell_type": "markdown",
   "metadata": {},
   "source": [
    "Al igual que con los datos sin procesar, el valor p es inferior a 0.05 por lo que rechazamos la hipótesis nula. El segmento B es mucho mejor que el segmento A."
   ]
  },
  {
   "cell_type": "markdown",
   "metadata": {},
   "source": [
    "**Encuentra la significancia estadística de la diferencia en el tamaño promedio de pedido entre los grupos utilizando los datos filtrados. Haz conclusiones y conjeturas.**"
   ]
  },
  {
   "cell_type": "code",
   "execution_count": 30,
   "metadata": {},
   "outputs": [
    {
     "name": "stdout",
     "output_type": "stream",
     "text": [
      "0.889\n",
      "-0.001\n"
     ]
    }
   ],
   "source": [
    "print(\n",
    "    \"{0:.3f}\".format(\n",
    "        stats.mannwhitneyu(\n",
    "            orders_filtrado[\n",
    "                np.logical_and(\n",
    "                    orders_filtrado['group'] == 'A',\n",
    "                    np.logical_not(orders_filtrado['visitorId'].isin(abnormalUsers)),\n",
    "                )\n",
    "            ]['revenue'],\n",
    "            orders_filtrado[\n",
    "                np.logical_and(\n",
    "                    orders_filtrado['group'] == 'B',\n",
    "                    np.logical_not(orders_filtrado['visitorId'].isin(abnormalUsers)),\n",
    "                )\n",
    "            ]['revenue'],\n",
    "        )[1]\n",
    "    )\n",
    ")\n",
    "\n",
    "print(\n",
    "    \"{0:.3f}\".format(\n",
    "        orders_filtrado[\n",
    "            np.logical_and(\n",
    "                orders_filtrado['group'] == 'B',\n",
    "                np.logical_not(orders_filtrado['visitorId'].isin(abnormalUsers)),\n",
    "            )\n",
    "        ]['revenue'].mean()\n",
    "        / orders_filtrado[\n",
    "            np.logical_and(\n",
    "                orders_filtrado['group'] == 'A',\n",
    "                np.logical_not(orders_filtrado['visitorId'].isin(abnormalUsers)),\n",
    "            )\n",
    "        ]['revenue'].mean()\n",
    "        - 1\n",
    "    )\n",
    ")\n"
   ]
  },
  {
   "cell_type": "markdown",
   "metadata": {},
   "source": [
    "Al igual que con los datos en bruto, el valor p es superior a 0.05 por lo que no existen diferencias estadísticamente significativas entre los tamaños de pedido promedio de los grupos. Esto significa que eliminar los valores atípicos no disminuyó la cantidad de ruido en los datos. Además, la diferencia relativa es -0.1%"
   ]
  },
  {
   "cell_type": "markdown",
   "metadata": {},
   "source": [
    "**Toma una decisión basada en los resultados de la prueba. Las decisiones posibles son: 1. Para la prueba, considera a uno de los grupos como líder. 2. Para la prueba, concluye que no hay diferencia entre los grupos. 3. Continúa la prueba.**"
   ]
  },
  {
   "cell_type": "markdown",
   "metadata": {},
   "source": [
    "* Ni los datos sin procesar ni los filtrados revelaron diferencias estadísticamente significativas en la conversión entre los grupos.\n",
    "* Ni los datos sin procesar ni los filtrados revelaron diferencias estadísticamente significativas en el tamaño promedio de los pedidos entre los grupos.\n",
    "* El gráfico que muestra la diferencia de conversión entre los grupos nos dice que los resultados del grupo B son mejores y parecieron mejorar significativamente:"
   ]
  },
  {
   "cell_type": "code",
   "execution_count": 31,
   "metadata": {},
   "outputs": [
    {
     "data": {
      "image/png": "[encoded data removed]",
      "text/plain": [
       "<Figure size 1200x600 with 1 Axes>"
      ]
     },
     "metadata": {},
     "output_type": "display_data"
    }
   ],
   "source": [
    "# Crea el gráfico\n",
    "plt.figure(figsize=(12, 6))  # Tamaño del gráfico\n",
    "plt.plot(daily_avgs_by_group.index, daily_avgs_by_group['difference'], marker='o', linestyle='-', color='b')\n",
    "\n",
    "# Añade una línea horizontal en y=0\n",
    "plt.axhline(y=0, color='r', linestyle='--', linewidth=2, label='Línea en 0')\n",
    "\n",
    "# Añade títulos y etiquetas\n",
    "plt.title('Diferencia relativa entre Grupos A y B por Fecha')\n",
    "plt.xlabel('Fecha')\n",
    "plt.ylabel('Diferencia en Avg Revenue')\n",
    "plt.grid(True)\n",
    "\n",
    "# Ajusta el formato de las fechas en el eje x si es necesario\n",
    "plt.gcf().autofmt_xdate()\n",
    "\n",
    "# Añade una leyenda para la línea horizontal\n",
    "plt.legend()\n",
    "\n",
    "# Muestra el gráfico\n",
    "plt.show()"
   ]
  },
  {
   "cell_type": "markdown",
   "metadata": {},
   "source": [
    "Basándonos en estos hechos, podemos concluir que la prueba fue exitosa, sin embargo esta debe continuar, dado que no se alcanza a percibir una estabiliadad constante del grupo B sobre el grupo A."
   ]
  }
 ],
 "metadata": {
  "ExecuteTimeLog": [
   {
    "duration": 319,
    "start_time": "2024-09-07T00:08:04.483Z"
   },
   {
    "duration": 10,
    "start_time": "2024-09-07T00:08:20.208Z"
   },
   {
    "duration": 12,
    "start_time": "2024-09-07T00:08:36.410Z"
   },
   {
    "duration": 88,
    "start_time": "2024-09-07T00:08:53.087Z"
   },
   {
    "duration": 107,
    "start_time": "2024-09-07T00:09:01.573Z"
   },
   {
    "duration": 6,
    "start_time": "2024-09-07T00:09:50.803Z"
   },
   {
    "duration": 10,
    "start_time": "2024-09-07T00:10:05.635Z"
   },
   {
    "duration": 13,
    "start_time": "2024-09-07T00:10:21.351Z"
   },
   {
    "duration": 2348,
    "start_time": "2024-09-07T00:11:36.052Z"
   },
   {
    "duration": 11,
    "start_time": "2024-09-07T00:11:39.451Z"
   },
   {
    "duration": 12,
    "start_time": "2024-09-07T00:11:51.382Z"
   },
   {
    "duration": 9,
    "start_time": "2024-09-07T00:12:26.192Z"
   },
   {
    "duration": 647,
    "start_time": "2024-09-07T00:14:44.091Z"
   },
   {
    "duration": 48,
    "start_time": "2024-09-07T00:15:12.833Z"
   },
   {
    "duration": 16,
    "start_time": "2024-09-07T00:15:29.678Z"
   },
   {
    "duration": 126,
    "start_time": "2024-09-07T00:15:33.677Z"
   },
   {
    "duration": 5,
    "start_time": "2024-09-07T00:16:05.320Z"
   },
   {
    "duration": 34,
    "start_time": "2024-09-07T00:16:21.338Z"
   },
   {
    "duration": 7,
    "start_time": "2024-09-07T00:16:44.150Z"
   },
   {
    "duration": 9,
    "start_time": "2024-09-07T00:17:17.268Z"
   },
   {
    "duration": 48,
    "start_time": "2024-09-07T00:28:02.007Z"
   },
   {
    "duration": 9,
    "start_time": "2024-09-07T00:28:20.248Z"
   },
   {
    "duration": 2509,
    "start_time": "2024-09-07T13:33:07.215Z"
   },
   {
    "duration": 17,
    "start_time": "2024-09-07T13:33:09.726Z"
   },
   {
    "duration": 10,
    "start_time": "2024-09-07T13:33:09.745Z"
   },
   {
    "duration": 9,
    "start_time": "2024-09-07T13:33:09.757Z"
   },
   {
    "duration": 21,
    "start_time": "2024-09-07T13:33:09.767Z"
   },
   {
    "duration": 10,
    "start_time": "2024-09-07T13:33:32.323Z"
   },
   {
    "duration": 12,
    "start_time": "2024-09-07T13:33:54.757Z"
   },
   {
    "duration": 837,
    "start_time": "2024-09-07T13:36:40.189Z"
   },
   {
    "duration": 17,
    "start_time": "2024-09-07T13:36:41.028Z"
   },
   {
    "duration": 10,
    "start_time": "2024-09-07T13:36:41.048Z"
   },
   {
    "duration": 11,
    "start_time": "2024-09-07T13:36:41.060Z"
   },
   {
    "duration": 12,
    "start_time": "2024-09-07T13:36:41.073Z"
   },
   {
    "duration": 6,
    "start_time": "2024-09-07T13:40:36.935Z"
   },
   {
    "duration": 8,
    "start_time": "2024-09-07T13:42:10.598Z"
   },
   {
    "duration": 12,
    "start_time": "2024-09-07T13:42:49.101Z"
   },
   {
    "duration": 158,
    "start_time": "2024-09-07T14:05:43.804Z"
   },
   {
    "duration": 2519,
    "start_time": "2024-09-07T14:05:52.501Z"
   },
   {
    "duration": 15,
    "start_time": "2024-09-07T14:05:55.022Z"
   },
   {
    "duration": 9,
    "start_time": "2024-09-07T14:05:55.043Z"
   },
   {
    "duration": 8,
    "start_time": "2024-09-07T14:05:55.054Z"
   },
   {
    "duration": 17,
    "start_time": "2024-09-07T14:05:55.064Z"
   },
   {
    "duration": 9,
    "start_time": "2024-09-07T14:05:55.083Z"
   },
   {
    "duration": 15,
    "start_time": "2024-09-07T14:05:55.095Z"
   },
   {
    "duration": 11,
    "start_time": "2024-09-07T14:06:19.912Z"
   },
   {
    "duration": 7,
    "start_time": "2024-09-07T14:06:52.719Z"
   },
   {
    "duration": 7,
    "start_time": "2024-09-07T14:07:05.260Z"
   },
   {
    "duration": 13,
    "start_time": "2024-09-07T14:18:07.506Z"
   },
   {
    "duration": 10,
    "start_time": "2024-09-07T14:18:54.933Z"
   },
   {
    "duration": 10,
    "start_time": "2024-09-07T14:25:01.448Z"
   },
   {
    "duration": 189,
    "start_time": "2024-09-07T14:28:59.424Z"
   },
   {
    "duration": 380,
    "start_time": "2024-09-07T14:57:14.530Z"
   },
   {
    "duration": 173,
    "start_time": "2024-09-07T14:57:58.799Z"
   },
   {
    "duration": 8,
    "start_time": "2024-09-07T15:07:28.127Z"
   },
   {
    "duration": 10,
    "start_time": "2024-09-07T15:19:03.557Z"
   },
   {
    "duration": 8,
    "start_time": "2024-09-07T15:19:26.595Z"
   },
   {
    "duration": 854,
    "start_time": "2024-09-07T15:19:50.182Z"
   },
   {
    "duration": 15,
    "start_time": "2024-09-07T15:19:51.039Z"
   },
   {
    "duration": 10,
    "start_time": "2024-09-07T15:19:51.056Z"
   },
   {
    "duration": 9,
    "start_time": "2024-09-07T15:19:51.068Z"
   },
   {
    "duration": 13,
    "start_time": "2024-09-07T15:19:51.078Z"
   },
   {
    "duration": 10,
    "start_time": "2024-09-07T15:19:51.093Z"
   },
   {
    "duration": 40,
    "start_time": "2024-09-07T15:19:51.104Z"
   },
   {
    "duration": 13,
    "start_time": "2024-09-07T15:19:51.145Z"
   },
   {
    "duration": 7,
    "start_time": "2024-09-07T15:19:51.159Z"
   },
   {
    "duration": 10,
    "start_time": "2024-09-07T15:19:51.169Z"
   },
   {
    "duration": 9,
    "start_time": "2024-09-07T15:19:51.180Z"
   },
   {
    "duration": 219,
    "start_time": "2024-09-07T15:19:51.191Z"
   },
   {
    "duration": 179,
    "start_time": "2024-09-07T15:19:51.413Z"
   },
   {
    "duration": 8,
    "start_time": "2024-09-07T15:19:51.594Z"
   },
   {
    "duration": 10,
    "start_time": "2024-09-07T15:20:49.800Z"
   },
   {
    "duration": 10,
    "start_time": "2024-09-07T15:23:19.996Z"
   },
   {
    "duration": 205,
    "start_time": "2024-09-07T15:28:31.708Z"
   },
   {
    "duration": 151,
    "start_time": "2024-09-07T15:29:27.473Z"
   },
   {
    "duration": 814,
    "start_time": "2024-09-07T15:30:39.718Z"
   },
   {
    "duration": 17,
    "start_time": "2024-09-07T15:30:40.534Z"
   },
   {
    "duration": 12,
    "start_time": "2024-09-07T15:30:40.552Z"
   },
   {
    "duration": 10,
    "start_time": "2024-09-07T15:30:40.567Z"
   },
   {
    "duration": 13,
    "start_time": "2024-09-07T15:30:40.578Z"
   },
   {
    "duration": 9,
    "start_time": "2024-09-07T15:30:40.593Z"
   },
   {
    "duration": 7,
    "start_time": "2024-09-07T15:30:40.604Z"
   },
   {
    "duration": 12,
    "start_time": "2024-09-07T15:30:40.642Z"
   },
   {
    "duration": 9,
    "start_time": "2024-09-07T15:30:40.655Z"
   },
   {
    "duration": 10,
    "start_time": "2024-09-07T15:30:40.666Z"
   },
   {
    "duration": 9,
    "start_time": "2024-09-07T15:30:40.677Z"
   },
   {
    "duration": 227,
    "start_time": "2024-09-07T15:30:40.688Z"
   },
   {
    "duration": 185,
    "start_time": "2024-09-07T15:30:40.917Z"
   },
   {
    "duration": 11,
    "start_time": "2024-09-07T15:30:41.105Z"
   },
   {
    "duration": 222,
    "start_time": "2024-09-07T15:30:41.117Z"
   },
   {
    "duration": 19,
    "start_time": "2024-09-07T15:57:35.276Z"
   },
   {
    "duration": 9,
    "start_time": "2024-09-07T16:40:51.658Z"
   },
   {
    "duration": 15,
    "start_time": "2024-09-07T16:41:10.137Z"
   },
   {
    "duration": 6,
    "start_time": "2024-09-07T17:02:44.173Z"
   },
   {
    "duration": 10,
    "start_time": "2024-09-07T17:03:17.489Z"
   },
   {
    "duration": 11,
    "start_time": "2024-09-07T17:03:43.384Z"
   },
   {
    "duration": 136,
    "start_time": "2024-09-07T17:07:16.001Z"
   },
   {
    "duration": 12,
    "start_time": "2024-09-07T17:07:31.896Z"
   },
   {
    "duration": 2058,
    "start_time": "2024-09-07T17:09:05.090Z"
   },
   {
    "duration": 10,
    "start_time": "2024-09-07T17:09:09.063Z"
   },
   {
    "duration": 11,
    "start_time": "2024-09-07T17:09:45.993Z"
   },
   {
    "duration": 132,
    "start_time": "2024-09-07T17:22:45.599Z"
   },
   {
    "duration": 12,
    "start_time": "2024-09-07T17:22:58.323Z"
   },
   {
    "duration": 7,
    "start_time": "2024-09-07T17:23:08.645Z"
   },
   {
    "duration": 9,
    "start_time": "2024-09-07T17:23:18.501Z"
   },
   {
    "duration": 9,
    "start_time": "2024-09-07T17:36:09.013Z"
   },
   {
    "duration": 10,
    "start_time": "2024-09-07T17:40:23.487Z"
   },
   {
    "duration": 484,
    "start_time": "2024-09-07T17:44:08.053Z"
   },
   {
    "duration": 84,
    "start_time": "2024-09-07T17:45:21.138Z"
   },
   {
    "duration": 6,
    "start_time": "2024-09-07T17:47:26.089Z"
   },
   {
    "duration": 122,
    "start_time": "2024-09-07T17:48:46.160Z"
   },
   {
    "duration": 34,
    "start_time": "2024-09-07T17:49:45.608Z"
   },
   {
    "duration": 802,
    "start_time": "2024-09-07T17:49:57.290Z"
   },
   {
    "duration": 12,
    "start_time": "2024-09-07T17:49:58.095Z"
   },
   {
    "duration": 8,
    "start_time": "2024-09-07T17:49:58.109Z"
   },
   {
    "duration": 23,
    "start_time": "2024-09-07T17:49:58.120Z"
   },
   {
    "duration": 12,
    "start_time": "2024-09-07T17:49:58.145Z"
   },
   {
    "duration": 9,
    "start_time": "2024-09-07T17:49:58.159Z"
   },
   {
    "duration": 7,
    "start_time": "2024-09-07T17:49:58.170Z"
   },
   {
    "duration": 10,
    "start_time": "2024-09-07T17:49:58.179Z"
   },
   {
    "duration": 12,
    "start_time": "2024-09-07T17:49:58.191Z"
   },
   {
    "duration": 39,
    "start_time": "2024-09-07T17:49:58.206Z"
   },
   {
    "duration": 10,
    "start_time": "2024-09-07T17:49:58.247Z"
   },
   {
    "duration": 9,
    "start_time": "2024-09-07T17:49:58.259Z"
   },
   {
    "duration": 212,
    "start_time": "2024-09-07T17:49:58.269Z"
   },
   {
    "duration": 179,
    "start_time": "2024-09-07T17:49:58.483Z"
   },
   {
    "duration": 11,
    "start_time": "2024-09-07T17:49:58.664Z"
   },
   {
    "duration": 220,
    "start_time": "2024-09-07T17:49:58.677Z"
   },
   {
    "duration": 2,
    "start_time": "2024-09-07T17:49:58.899Z"
   },
   {
    "duration": 2,
    "start_time": "2024-09-07T17:49:58.903Z"
   },
   {
    "duration": 159,
    "start_time": "2024-09-07T17:49:58.907Z"
   },
   {
    "duration": 11,
    "start_time": "2024-09-07T17:49:59.068Z"
   },
   {
    "duration": 101,
    "start_time": "2024-09-07T17:49:59.081Z"
   },
   {
    "duration": 6,
    "start_time": "2024-09-07T17:49:59.183Z"
   },
   {
    "duration": 553,
    "start_time": "2024-09-07T17:49:59.191Z"
   },
   {
    "duration": 5,
    "start_time": "2024-09-07T17:50:41.883Z"
   },
   {
    "duration": 139,
    "start_time": "2024-09-07T17:51:04.124Z"
   },
   {
    "duration": 6,
    "start_time": "2024-09-07T17:53:28.696Z"
   },
   {
    "duration": 6,
    "start_time": "2024-09-07T17:56:38.649Z"
   },
   {
    "duration": 4,
    "start_time": "2024-09-07T17:56:39.244Z"
   },
   {
    "duration": 230,
    "start_time": "2024-09-07T17:57:18.988Z"
   },
   {
    "duration": 42,
    "start_time": "2024-09-07T17:57:41.442Z"
   },
   {
    "duration": 146,
    "start_time": "2024-09-07T17:57:55.044Z"
   },
   {
    "duration": 2612,
    "start_time": "2024-09-07T19:58:52.025Z"
   },
   {
    "duration": 14,
    "start_time": "2024-09-07T19:58:54.639Z"
   },
   {
    "duration": 10,
    "start_time": "2024-09-07T19:58:54.654Z"
   },
   {
    "duration": 9,
    "start_time": "2024-09-07T19:58:54.666Z"
   },
   {
    "duration": 18,
    "start_time": "2024-09-07T19:58:54.676Z"
   },
   {
    "duration": 11,
    "start_time": "2024-09-07T19:58:54.695Z"
   },
   {
    "duration": 24,
    "start_time": "2024-09-07T19:58:54.708Z"
   },
   {
    "duration": 11,
    "start_time": "2024-09-07T19:58:54.734Z"
   },
   {
    "duration": 13,
    "start_time": "2024-09-07T19:58:54.746Z"
   },
   {
    "duration": 6,
    "start_time": "2024-09-07T19:58:54.761Z"
   },
   {
    "duration": 10,
    "start_time": "2024-09-07T19:58:54.770Z"
   },
   {
    "duration": 10,
    "start_time": "2024-09-07T19:58:54.782Z"
   },
   {
    "duration": 240,
    "start_time": "2024-09-07T19:58:54.793Z"
   },
   {
    "duration": 204,
    "start_time": "2024-09-07T19:58:55.035Z"
   },
   {
    "duration": 11,
    "start_time": "2024-09-07T19:58:55.241Z"
   },
   {
    "duration": 173,
    "start_time": "2024-09-07T19:58:55.254Z"
   },
   {
    "duration": 3,
    "start_time": "2024-09-07T19:58:55.431Z"
   },
   {
    "duration": 2,
    "start_time": "2024-09-07T19:58:55.436Z"
   },
   {
    "duration": 149,
    "start_time": "2024-09-07T19:58:55.440Z"
   },
   {
    "duration": 11,
    "start_time": "2024-09-07T19:58:55.590Z"
   },
   {
    "duration": 100,
    "start_time": "2024-09-07T19:58:55.602Z"
   },
   {
    "duration": 6,
    "start_time": "2024-09-07T19:58:55.704Z"
   },
   {
    "duration": 164,
    "start_time": "2024-09-07T19:58:55.712Z"
   },
   {
    "duration": 113,
    "start_time": "2024-09-07T19:58:55.878Z"
   },
   {
    "duration": 229,
    "start_time": "2024-09-07T20:00:01.072Z"
   },
   {
    "duration": 247,
    "start_time": "2024-09-07T20:00:31.053Z"
   },
   {
    "duration": 2543,
    "start_time": "2024-09-07T21:14:26.059Z"
   },
   {
    "duration": 14,
    "start_time": "2024-09-07T21:14:28.604Z"
   },
   {
    "duration": 10,
    "start_time": "2024-09-07T21:14:28.619Z"
   },
   {
    "duration": 8,
    "start_time": "2024-09-07T21:14:28.631Z"
   },
   {
    "duration": 30,
    "start_time": "2024-09-07T21:14:28.640Z"
   },
   {
    "duration": 10,
    "start_time": "2024-09-07T21:14:28.672Z"
   },
   {
    "duration": 7,
    "start_time": "2024-09-07T21:14:28.683Z"
   },
   {
    "duration": 9,
    "start_time": "2024-09-07T21:14:28.691Z"
   },
   {
    "duration": 12,
    "start_time": "2024-09-07T21:14:28.701Z"
   },
   {
    "duration": 6,
    "start_time": "2024-09-07T21:14:28.716Z"
   },
   {
    "duration": 11,
    "start_time": "2024-09-07T21:14:28.724Z"
   },
   {
    "duration": 9,
    "start_time": "2024-09-07T21:14:28.770Z"
   },
   {
    "duration": 199,
    "start_time": "2024-09-07T21:14:28.781Z"
   },
   {
    "duration": 181,
    "start_time": "2024-09-07T21:14:28.981Z"
   },
   {
    "duration": 10,
    "start_time": "2024-09-07T21:14:29.170Z"
   },
   {
    "duration": 164,
    "start_time": "2024-09-07T21:14:29.182Z"
   },
   {
    "duration": 3,
    "start_time": "2024-09-07T21:14:29.347Z"
   },
   {
    "duration": 3,
    "start_time": "2024-09-07T21:14:29.351Z"
   },
   {
    "duration": 151,
    "start_time": "2024-09-07T21:14:29.355Z"
   },
   {
    "duration": 10,
    "start_time": "2024-09-07T21:14:29.507Z"
   },
   {
    "duration": 99,
    "start_time": "2024-09-07T21:14:29.518Z"
   },
   {
    "duration": 6,
    "start_time": "2024-09-07T21:14:29.618Z"
   },
   {
    "duration": 222,
    "start_time": "2024-09-07T21:14:29.625Z"
   },
   {
    "duration": 213,
    "start_time": "2024-09-07T21:14:29.849Z"
   },
   {
    "duration": 211,
    "start_time": "2024-09-07T21:14:54.130Z"
   },
   {
    "duration": 203,
    "start_time": "2024-09-07T21:15:12.225Z"
   },
   {
    "duration": 108,
    "start_time": "2024-09-07T21:18:36.637Z"
   },
   {
    "duration": 298,
    "start_time": "2024-09-07T21:23:56.544Z"
   },
   {
    "duration": 220,
    "start_time": "2024-09-07T21:24:11.729Z"
   },
   {
    "duration": 513,
    "start_time": "2024-09-07T21:25:29.211Z"
   },
   {
    "duration": 102,
    "start_time": "2024-09-07T21:25:47.636Z"
   },
   {
    "duration": 42,
    "start_time": "2024-09-07T21:46:38.546Z"
   },
   {
    "duration": 3,
    "start_time": "2024-09-07T21:46:48.357Z"
   },
   {
    "duration": 3,
    "start_time": "2024-09-07T21:51:01.254Z"
   },
   {
    "duration": 13,
    "start_time": "2024-09-07T21:54:53.918Z"
   },
   {
    "duration": 108,
    "start_time": "2024-09-07T21:55:18.619Z"
   },
   {
    "duration": 13,
    "start_time": "2024-09-07T21:57:46.883Z"
   },
   {
    "duration": 103,
    "start_time": "2024-09-07T21:58:08.651Z"
   },
   {
    "duration": 6,
    "start_time": "2024-09-07T22:03:44.838Z"
   },
   {
    "duration": 6,
    "start_time": "2024-09-07T22:04:49.930Z"
   },
   {
    "duration": 768,
    "start_time": "2024-09-07T23:59:52.232Z"
   },
   {
    "duration": 12,
    "start_time": "2024-09-07T23:59:53.002Z"
   },
   {
    "duration": 9,
    "start_time": "2024-09-07T23:59:53.015Z"
   },
   {
    "duration": 8,
    "start_time": "2024-09-07T23:59:53.026Z"
   },
   {
    "duration": 12,
    "start_time": "2024-09-07T23:59:53.036Z"
   },
   {
    "duration": 11,
    "start_time": "2024-09-07T23:59:53.070Z"
   },
   {
    "duration": 7,
    "start_time": "2024-09-07T23:59:53.082Z"
   },
   {
    "duration": 9,
    "start_time": "2024-09-07T23:59:53.090Z"
   },
   {
    "duration": 10,
    "start_time": "2024-09-07T23:59:53.101Z"
   },
   {
    "duration": 6,
    "start_time": "2024-09-07T23:59:53.114Z"
   },
   {
    "duration": 10,
    "start_time": "2024-09-07T23:59:53.122Z"
   },
   {
    "duration": 45,
    "start_time": "2024-09-07T23:59:53.133Z"
   },
   {
    "duration": 204,
    "start_time": "2024-09-07T23:59:53.180Z"
   },
   {
    "duration": 184,
    "start_time": "2024-09-07T23:59:53.386Z"
   },
   {
    "duration": 11,
    "start_time": "2024-09-07T23:59:53.571Z"
   },
   {
    "duration": 241,
    "start_time": "2024-09-07T23:59:53.583Z"
   },
   {
    "duration": 3,
    "start_time": "2024-09-07T23:59:53.825Z"
   },
   {
    "duration": 2,
    "start_time": "2024-09-07T23:59:53.829Z"
   },
   {
    "duration": 154,
    "start_time": "2024-09-07T23:59:53.833Z"
   },
   {
    "duration": 10,
    "start_time": "2024-09-07T23:59:53.989Z"
   },
   {
    "duration": 96,
    "start_time": "2024-09-07T23:59:54.000Z"
   },
   {
    "duration": 6,
    "start_time": "2024-09-07T23:59:54.097Z"
   },
   {
    "duration": 229,
    "start_time": "2024-09-07T23:59:54.105Z"
   },
   {
    "duration": 224,
    "start_time": "2024-09-07T23:59:54.337Z"
   },
   {
    "duration": 111,
    "start_time": "2024-09-07T23:59:54.569Z"
   },
   {
    "duration": 4,
    "start_time": "2024-09-07T23:59:54.681Z"
   },
   {
    "duration": 118,
    "start_time": "2024-09-07T23:59:54.687Z"
   },
   {
    "duration": 114,
    "start_time": "2024-09-07T23:59:54.808Z"
   },
   {
    "duration": 6,
    "start_time": "2024-09-07T23:59:54.924Z"
   },
   {
    "duration": 223,
    "start_time": "2024-09-08T00:09:58.265Z"
   },
   {
    "duration": 797,
    "start_time": "2024-09-08T00:10:09.094Z"
   },
   {
    "duration": 12,
    "start_time": "2024-09-08T00:10:09.893Z"
   },
   {
    "duration": 8,
    "start_time": "2024-09-08T00:10:09.907Z"
   },
   {
    "duration": 9,
    "start_time": "2024-09-08T00:10:09.917Z"
   },
   {
    "duration": 12,
    "start_time": "2024-09-08T00:10:09.927Z"
   },
   {
    "duration": 36,
    "start_time": "2024-09-08T00:10:09.940Z"
   },
   {
    "duration": 7,
    "start_time": "2024-09-08T00:10:09.977Z"
   },
   {
    "duration": 18,
    "start_time": "2024-09-08T00:10:09.986Z"
   },
   {
    "duration": 10,
    "start_time": "2024-09-08T00:10:10.006Z"
   },
   {
    "duration": 6,
    "start_time": "2024-09-08T00:10:10.019Z"
   },
   {
    "duration": 9,
    "start_time": "2024-09-08T00:10:10.027Z"
   },
   {
    "duration": 34,
    "start_time": "2024-09-08T00:10:10.037Z"
   },
   {
    "duration": 194,
    "start_time": "2024-09-08T00:10:10.072Z"
   },
   {
    "duration": 177,
    "start_time": "2024-09-08T00:10:10.270Z"
   },
   {
    "duration": 11,
    "start_time": "2024-09-08T00:10:10.449Z"
   },
   {
    "duration": 202,
    "start_time": "2024-09-08T00:10:10.469Z"
   },
   {
    "duration": 2,
    "start_time": "2024-09-08T00:10:10.674Z"
   },
   {
    "duration": 2,
    "start_time": "2024-09-08T00:10:10.678Z"
   },
   {
    "duration": 152,
    "start_time": "2024-09-08T00:10:10.682Z"
   },
   {
    "duration": 11,
    "start_time": "2024-09-08T00:10:10.835Z"
   },
   {
    "duration": 99,
    "start_time": "2024-09-08T00:10:10.848Z"
   },
   {
    "duration": 5,
    "start_time": "2024-09-08T00:10:10.949Z"
   },
   {
    "duration": 203,
    "start_time": "2024-09-08T00:10:10.956Z"
   },
   {
    "duration": 224,
    "start_time": "2024-09-08T00:10:11.160Z"
   },
   {
    "duration": 122,
    "start_time": "2024-09-08T00:10:11.386Z"
   },
   {
    "duration": 4,
    "start_time": "2024-09-08T00:10:11.510Z"
   },
   {
    "duration": 120,
    "start_time": "2024-09-08T00:10:11.515Z"
   },
   {
    "duration": 112,
    "start_time": "2024-09-08T00:10:11.639Z"
   },
   {
    "duration": 6,
    "start_time": "2024-09-08T00:10:11.753Z"
   },
   {
    "duration": 226,
    "start_time": "2024-09-08T00:10:11.771Z"
   },
   {
    "duration": 124,
    "start_time": "2024-09-08T00:10:36.900Z"
   },
   {
    "duration": 129,
    "start_time": "2024-09-08T00:11:31.126Z"
   },
   {
    "duration": 121,
    "start_time": "2024-09-08T00:12:44.353Z"
   },
   {
    "duration": 803,
    "start_time": "2024-09-08T00:13:35.445Z"
   },
   {
    "duration": 19,
    "start_time": "2024-09-08T00:13:36.250Z"
   },
   {
    "duration": 10,
    "start_time": "2024-09-08T00:13:36.270Z"
   },
   {
    "duration": 9,
    "start_time": "2024-09-08T00:13:36.281Z"
   },
   {
    "duration": 12,
    "start_time": "2024-09-08T00:13:36.292Z"
   },
   {
    "duration": 10,
    "start_time": "2024-09-08T00:13:36.306Z"
   },
   {
    "duration": 8,
    "start_time": "2024-09-08T00:13:36.318Z"
   },
   {
    "duration": 44,
    "start_time": "2024-09-08T00:13:36.328Z"
   },
   {
    "duration": 11,
    "start_time": "2024-09-08T00:13:36.374Z"
   },
   {
    "duration": 7,
    "start_time": "2024-09-08T00:13:36.387Z"
   },
   {
    "duration": 9,
    "start_time": "2024-09-08T00:13:36.396Z"
   },
   {
    "duration": 9,
    "start_time": "2024-09-08T00:13:36.407Z"
   },
   {
    "duration": 230,
    "start_time": "2024-09-08T00:13:36.418Z"
   },
   {
    "duration": 185,
    "start_time": "2024-09-08T00:13:36.652Z"
   },
   {
    "duration": 10,
    "start_time": "2024-09-08T00:13:36.839Z"
   },
   {
    "duration": 217,
    "start_time": "2024-09-08T00:13:36.851Z"
   },
   {
    "duration": 2,
    "start_time": "2024-09-08T00:13:37.071Z"
   },
   {
    "duration": 7,
    "start_time": "2024-09-08T00:13:37.075Z"
   },
   {
    "duration": 152,
    "start_time": "2024-09-08T00:13:37.084Z"
   },
   {
    "duration": 9,
    "start_time": "2024-09-08T00:13:37.238Z"
   },
   {
    "duration": 96,
    "start_time": "2024-09-08T00:13:37.248Z"
   },
   {
    "duration": 6,
    "start_time": "2024-09-08T00:13:37.346Z"
   },
   {
    "duration": 209,
    "start_time": "2024-09-08T00:13:37.353Z"
   },
   {
    "duration": 212,
    "start_time": "2024-09-08T00:13:37.564Z"
   },
   {
    "duration": 110,
    "start_time": "2024-09-08T00:13:37.778Z"
   },
   {
    "duration": 4,
    "start_time": "2024-09-08T00:13:37.889Z"
   },
   {
    "duration": 117,
    "start_time": "2024-09-08T00:13:37.894Z"
   },
   {
    "duration": 115,
    "start_time": "2024-09-08T00:13:38.013Z"
   },
   {
    "duration": 6,
    "start_time": "2024-09-08T00:13:38.130Z"
   },
   {
    "duration": 127,
    "start_time": "2024-09-08T00:13:38.138Z"
   },
   {
    "duration": 8,
    "start_time": "2024-09-08T00:19:04.090Z"
   },
   {
    "duration": 636,
    "start_time": "2024-09-08T00:52:49.412Z"
   },
   {
    "duration": 10,
    "start_time": "2024-09-08T00:53:35.684Z"
   },
   {
    "duration": 19,
    "start_time": "2024-09-08T00:58:46.147Z"
   },
   {
    "duration": 71,
    "start_time": "2024-09-08T01:07:09.294Z"
   },
   {
    "duration": 224,
    "start_time": "2024-09-08T01:08:34.291Z"
   },
   {
    "duration": 11,
    "start_time": "2024-09-08T01:08:51.224Z"
   },
   {
    "duration": 243,
    "start_time": "2024-09-08T01:20:27.458Z"
   },
   {
    "duration": 2686,
    "start_time": "2024-09-08T04:44:08.269Z"
   },
   {
    "duration": 16,
    "start_time": "2024-09-08T04:44:10.958Z"
   },
   {
    "duration": 18,
    "start_time": "2024-09-08T04:46:21.130Z"
   },
   {
    "duration": 213,
    "start_time": "2024-09-08T04:48:39.123Z"
   },
   {
    "duration": 15,
    "start_time": "2024-09-08T04:48:55.082Z"
   },
   {
    "duration": 816,
    "start_time": "2024-09-08T04:49:20.485Z"
   },
   {
    "duration": 12,
    "start_time": "2024-09-08T04:49:21.303Z"
   },
   {
    "duration": 16,
    "start_time": "2024-09-08T04:49:21.316Z"
   },
   {
    "duration": 8,
    "start_time": "2024-09-08T04:49:21.335Z"
   },
   {
    "duration": 17,
    "start_time": "2024-09-08T04:49:21.344Z"
   },
   {
    "duration": 9,
    "start_time": "2024-09-08T04:49:21.363Z"
   },
   {
    "duration": 7,
    "start_time": "2024-09-08T04:49:21.374Z"
   },
   {
    "duration": 8,
    "start_time": "2024-09-08T04:49:21.383Z"
   },
   {
    "duration": 38,
    "start_time": "2024-09-08T04:49:21.393Z"
   },
   {
    "duration": 5,
    "start_time": "2024-09-08T04:49:21.434Z"
   },
   {
    "duration": 9,
    "start_time": "2024-09-08T04:49:21.441Z"
   },
   {
    "duration": 8,
    "start_time": "2024-09-08T04:49:21.453Z"
   },
   {
    "duration": 212,
    "start_time": "2024-09-08T04:49:21.462Z"
   },
   {
    "duration": 186,
    "start_time": "2024-09-08T04:49:21.675Z"
   },
   {
    "duration": 10,
    "start_time": "2024-09-08T04:49:21.863Z"
   },
   {
    "duration": 227,
    "start_time": "2024-09-08T04:49:21.875Z"
   },
   {
    "duration": 141,
    "start_time": "2024-09-08T04:49:22.103Z"
   },
   {
    "duration": 10,
    "start_time": "2024-09-08T04:49:22.246Z"
   },
   {
    "duration": 98,
    "start_time": "2024-09-08T04:49:22.257Z"
   },
   {
    "duration": 5,
    "start_time": "2024-09-08T04:49:22.356Z"
   },
   {
    "duration": 209,
    "start_time": "2024-09-08T04:49:22.363Z"
   },
   {
    "duration": 209,
    "start_time": "2024-09-08T04:49:22.573Z"
   },
   {
    "duration": 108,
    "start_time": "2024-09-08T04:49:22.783Z"
   },
   {
    "duration": 3,
    "start_time": "2024-09-08T04:49:22.893Z"
   },
   {
    "duration": 117,
    "start_time": "2024-09-08T04:49:22.898Z"
   },
   {
    "duration": 117,
    "start_time": "2024-09-08T04:49:23.016Z"
   },
   {
    "duration": 6,
    "start_time": "2024-09-08T04:49:23.135Z"
   },
   {
    "duration": 148,
    "start_time": "2024-09-08T04:49:23.145Z"
   },
   {
    "duration": 7,
    "start_time": "2024-09-08T04:49:23.295Z"
   },
   {
    "duration": 6,
    "start_time": "2024-09-08T04:49:23.304Z"
   },
   {
    "duration": 36,
    "start_time": "2024-09-08T04:49:23.312Z"
   },
   {
    "duration": 10,
    "start_time": "2024-09-08T04:49:23.350Z"
   },
   {
    "duration": 272,
    "start_time": "2024-09-08T04:49:23.361Z"
   },
   {
    "duration": 10,
    "start_time": "2024-09-08T04:51:09.981Z"
   },
   {
    "duration": 513,
    "start_time": "2024-09-08T04:55:01.295Z"
   },
   {
    "duration": 32,
    "start_time": "2024-09-08T04:55:32.477Z"
   },
   {
    "duration": 866,
    "start_time": "2024-09-08T04:55:46.152Z"
   },
   {
    "duration": 13,
    "start_time": "2024-09-08T04:55:47.020Z"
   },
   {
    "duration": 11,
    "start_time": "2024-09-08T04:55:47.035Z"
   },
   {
    "duration": 9,
    "start_time": "2024-09-08T04:55:47.049Z"
   },
   {
    "duration": 13,
    "start_time": "2024-09-08T04:55:47.060Z"
   },
   {
    "duration": 10,
    "start_time": "2024-09-08T04:55:47.076Z"
   },
   {
    "duration": 7,
    "start_time": "2024-09-08T04:55:47.088Z"
   },
   {
    "duration": 39,
    "start_time": "2024-09-08T04:55:47.097Z"
   },
   {
    "duration": 6,
    "start_time": "2024-09-08T04:55:47.137Z"
   },
   {
    "duration": 9,
    "start_time": "2024-09-08T04:55:47.147Z"
   },
   {
    "duration": 8,
    "start_time": "2024-09-08T04:55:47.158Z"
   },
   {
    "duration": 223,
    "start_time": "2024-09-08T04:55:47.168Z"
   },
   {
    "duration": 191,
    "start_time": "2024-09-08T04:55:47.393Z"
   },
   {
    "duration": 10,
    "start_time": "2024-09-08T04:55:47.586Z"
   },
   {
    "duration": 235,
    "start_time": "2024-09-08T04:55:47.598Z"
   },
   {
    "duration": 155,
    "start_time": "2024-09-08T04:55:47.835Z"
   },
   {
    "duration": 10,
    "start_time": "2024-09-08T04:55:47.992Z"
   },
   {
    "duration": 98,
    "start_time": "2024-09-08T04:55:48.004Z"
   },
   {
    "duration": 6,
    "start_time": "2024-09-08T04:55:48.104Z"
   },
   {
    "duration": 217,
    "start_time": "2024-09-08T04:55:48.111Z"
   },
   {
    "duration": 236,
    "start_time": "2024-09-08T04:55:48.330Z"
   },
   {
    "duration": 113,
    "start_time": "2024-09-08T04:55:48.567Z"
   },
   {
    "duration": 4,
    "start_time": "2024-09-08T04:55:48.682Z"
   },
   {
    "duration": 121,
    "start_time": "2024-09-08T04:55:48.688Z"
   },
   {
    "duration": 119,
    "start_time": "2024-09-08T04:55:48.812Z"
   },
   {
    "duration": 7,
    "start_time": "2024-09-08T04:55:48.933Z"
   },
   {
    "duration": 140,
    "start_time": "2024-09-08T04:55:48.941Z"
   },
   {
    "duration": 8,
    "start_time": "2024-09-08T04:55:49.084Z"
   },
   {
    "duration": 7,
    "start_time": "2024-09-08T04:55:49.094Z"
   },
   {
    "duration": 40,
    "start_time": "2024-09-08T04:55:49.103Z"
   },
   {
    "duration": 10,
    "start_time": "2024-09-08T04:55:49.145Z"
   },
   {
    "duration": 295,
    "start_time": "2024-09-08T04:55:49.157Z"
   },
   {
    "duration": 176,
    "start_time": "2024-09-08T04:56:06.264Z"
   },
   {
    "duration": 190,
    "start_time": "2024-09-08T04:56:13.279Z"
   },
   {
    "duration": 181,
    "start_time": "2024-09-08T04:57:06.608Z"
   },
   {
    "duration": 184,
    "start_time": "2024-09-08T04:58:20.203Z"
   },
   {
    "duration": 2451,
    "start_time": "2024-09-08T13:18:38.073Z"
   },
   {
    "duration": 14,
    "start_time": "2024-09-08T13:18:40.526Z"
   },
   {
    "duration": 9,
    "start_time": "2024-09-08T13:18:40.542Z"
   },
   {
    "duration": 9,
    "start_time": "2024-09-08T13:18:40.553Z"
   },
   {
    "duration": 18,
    "start_time": "2024-09-08T13:18:40.563Z"
   },
   {
    "duration": 10,
    "start_time": "2024-09-08T13:18:40.582Z"
   },
   {
    "duration": 7,
    "start_time": "2024-09-08T13:18:40.593Z"
   },
   {
    "duration": 14,
    "start_time": "2024-09-08T13:18:40.624Z"
   },
   {
    "duration": 6,
    "start_time": "2024-09-08T13:18:40.639Z"
   },
   {
    "duration": 8,
    "start_time": "2024-09-08T13:18:40.648Z"
   },
   {
    "duration": 10,
    "start_time": "2024-09-08T13:18:40.658Z"
   },
   {
    "duration": 219,
    "start_time": "2024-09-08T13:18:40.669Z"
   },
   {
    "duration": 188,
    "start_time": "2024-09-08T13:18:40.890Z"
   },
   {
    "duration": 10,
    "start_time": "2024-09-08T13:18:41.080Z"
   },
   {
    "duration": 174,
    "start_time": "2024-09-08T13:18:41.092Z"
   },
   {
    "duration": 142,
    "start_time": "2024-09-08T13:18:41.268Z"
   },
   {
    "duration": 95,
    "start_time": "2024-09-08T13:18:41.412Z"
   },
   {
    "duration": 18,
    "start_time": "2024-09-08T13:18:41.508Z"
   },
   {
    "duration": 197,
    "start_time": "2024-09-08T13:18:41.528Z"
   },
   {
    "duration": 238,
    "start_time": "2024-09-08T13:18:41.727Z"
   },
   {
    "duration": 159,
    "start_time": "2024-09-08T13:18:41.966Z"
   },
   {
    "duration": 4,
    "start_time": "2024-09-08T13:18:42.127Z"
   },
   {
    "duration": 112,
    "start_time": "2024-09-08T13:18:42.133Z"
   },
   {
    "duration": 113,
    "start_time": "2024-09-08T13:18:42.247Z"
   },
   {
    "duration": 5,
    "start_time": "2024-09-08T13:18:42.362Z"
   },
   {
    "duration": 138,
    "start_time": "2024-09-08T13:18:42.369Z"
   },
   {
    "duration": 17,
    "start_time": "2024-09-08T13:18:42.509Z"
   },
   {
    "duration": 7,
    "start_time": "2024-09-08T13:18:42.530Z"
   },
   {
    "duration": 19,
    "start_time": "2024-09-08T13:18:42.539Z"
   },
   {
    "duration": 10,
    "start_time": "2024-09-08T13:18:42.559Z"
   },
   {
    "duration": 278,
    "start_time": "2024-09-08T13:18:42.571Z"
   },
   {
    "duration": 220,
    "start_time": "2024-09-08T13:19:18.546Z"
   },
   {
    "duration": 110,
    "start_time": "2024-09-08T13:20:43.494Z"
   },
   {
    "duration": 123,
    "start_time": "2024-09-08T13:24:54.002Z"
   },
   {
    "duration": 116,
    "start_time": "2024-09-08T13:27:30.820Z"
   },
   {
    "duration": 803,
    "start_time": "2024-09-08T13:32:49.158Z"
   },
   {
    "duration": 12,
    "start_time": "2024-09-08T13:32:49.963Z"
   },
   {
    "duration": 9,
    "start_time": "2024-09-08T13:32:49.976Z"
   },
   {
    "duration": 9,
    "start_time": "2024-09-08T13:32:49.987Z"
   },
   {
    "duration": 33,
    "start_time": "2024-09-08T13:32:49.997Z"
   },
   {
    "duration": 10,
    "start_time": "2024-09-08T13:32:50.031Z"
   },
   {
    "duration": 7,
    "start_time": "2024-09-08T13:32:50.042Z"
   },
   {
    "duration": 9,
    "start_time": "2024-09-08T13:32:50.051Z"
   },
   {
    "duration": 6,
    "start_time": "2024-09-08T13:32:50.062Z"
   },
   {
    "duration": 9,
    "start_time": "2024-09-08T13:32:50.071Z"
   },
   {
    "duration": 48,
    "start_time": "2024-09-08T13:32:50.081Z"
   },
   {
    "duration": 200,
    "start_time": "2024-09-08T13:32:50.131Z"
   },
   {
    "duration": 191,
    "start_time": "2024-09-08T13:32:50.333Z"
   },
   {
    "duration": 10,
    "start_time": "2024-09-08T13:32:50.526Z"
   },
   {
    "duration": 202,
    "start_time": "2024-09-08T13:32:50.538Z"
   },
   {
    "duration": 148,
    "start_time": "2024-09-08T13:32:50.741Z"
   },
   {
    "duration": 90,
    "start_time": "2024-09-08T13:32:50.891Z"
   },
   {
    "duration": 6,
    "start_time": "2024-09-08T13:32:50.982Z"
   },
   {
    "duration": 212,
    "start_time": "2024-09-08T13:32:50.989Z"
   },
   {
    "duration": 240,
    "start_time": "2024-09-08T13:32:51.202Z"
   },
   {
    "duration": 119,
    "start_time": "2024-09-08T13:32:51.444Z"
   },
   {
    "duration": 3,
    "start_time": "2024-09-08T13:32:51.565Z"
   },
   {
    "duration": 135,
    "start_time": "2024-09-08T13:32:51.569Z"
   },
   {
    "duration": 129,
    "start_time": "2024-09-08T13:32:51.706Z"
   },
   {
    "duration": 6,
    "start_time": "2024-09-08T13:32:51.838Z"
   },
   {
    "duration": 145,
    "start_time": "2024-09-08T13:32:51.846Z"
   },
   {
    "duration": 8,
    "start_time": "2024-09-08T13:32:51.992Z"
   },
   {
    "duration": 20,
    "start_time": "2024-09-08T13:32:52.004Z"
   },
   {
    "duration": 25,
    "start_time": "2024-09-08T13:32:52.026Z"
   },
   {
    "duration": 10,
    "start_time": "2024-09-08T13:32:52.052Z"
   },
   {
    "duration": 273,
    "start_time": "2024-09-08T13:32:52.063Z"
   },
   {
    "duration": 7,
    "start_time": "2024-09-09T02:37:30.489Z"
   },
   {
    "duration": 3,
    "start_time": "2024-09-09T02:50:38.652Z"
   },
   {
    "duration": 5,
    "start_time": "2024-09-09T02:54:15.735Z"
   },
   {
    "duration": 4,
    "start_time": "2024-09-09T02:56:17.913Z"
   },
   {
    "duration": 2467,
    "start_time": "2024-09-09T15:41:02.398Z"
   },
   {
    "duration": 15,
    "start_time": "2024-09-09T15:41:04.867Z"
   },
   {
    "duration": 8,
    "start_time": "2024-09-09T15:41:04.883Z"
   },
   {
    "duration": 8,
    "start_time": "2024-09-09T15:41:04.895Z"
   },
   {
    "duration": 29,
    "start_time": "2024-09-09T15:41:04.904Z"
   },
   {
    "duration": 9,
    "start_time": "2024-09-09T15:41:04.934Z"
   },
   {
    "duration": 6,
    "start_time": "2024-09-09T15:41:04.945Z"
   },
   {
    "duration": 13,
    "start_time": "2024-09-09T15:41:04.955Z"
   },
   {
    "duration": 6,
    "start_time": "2024-09-09T15:41:04.969Z"
   },
   {
    "duration": 9,
    "start_time": "2024-09-09T15:41:04.978Z"
   },
   {
    "duration": 36,
    "start_time": "2024-09-09T15:41:04.989Z"
   },
   {
    "duration": 205,
    "start_time": "2024-09-09T15:41:05.027Z"
   },
   {
    "duration": 192,
    "start_time": "2024-09-09T15:41:05.233Z"
   },
   {
    "duration": 13,
    "start_time": "2024-09-09T15:41:05.428Z"
   },
   {
    "duration": 164,
    "start_time": "2024-09-09T15:41:05.443Z"
   },
   {
    "duration": 144,
    "start_time": "2024-09-09T15:41:05.609Z"
   },
   {
    "duration": 91,
    "start_time": "2024-09-09T15:41:05.754Z"
   },
   {
    "duration": 6,
    "start_time": "2024-09-09T15:41:05.847Z"
   },
   {
    "duration": 205,
    "start_time": "2024-09-09T15:41:05.855Z"
   },
   {
    "duration": 234,
    "start_time": "2024-09-09T15:41:06.063Z"
   },
   {
    "duration": 168,
    "start_time": "2024-09-09T15:41:06.299Z"
   },
   {
    "duration": 4,
    "start_time": "2024-09-09T15:41:06.469Z"
   },
   {
    "duration": 138,
    "start_time": "2024-09-09T15:41:06.475Z"
   },
   {
    "duration": 122,
    "start_time": "2024-09-09T15:41:06.615Z"
   },
   {
    "duration": 6,
    "start_time": "2024-09-09T15:41:06.739Z"
   },
   {
    "duration": 144,
    "start_time": "2024-09-09T15:41:06.747Z"
   },
   {
    "duration": 8,
    "start_time": "2024-09-09T15:41:06.892Z"
   },
   {
    "duration": 6,
    "start_time": "2024-09-09T15:41:06.905Z"
   },
   {
    "duration": 30,
    "start_time": "2024-09-09T15:41:06.912Z"
   },
   {
    "duration": 10,
    "start_time": "2024-09-09T15:41:06.944Z"
   },
   {
    "duration": 292,
    "start_time": "2024-09-09T15:41:06.956Z"
   },
   {
    "duration": 9,
    "start_time": "2024-09-09T15:52:53.075Z"
   },
   {
    "duration": 9,
    "start_time": "2024-09-09T15:53:57.358Z"
   },
   {
    "duration": 14,
    "start_time": "2024-09-09T15:55:23.653Z"
   },
   {
    "duration": 12,
    "start_time": "2024-09-09T15:57:11.222Z"
   },
   {
    "duration": 14,
    "start_time": "2024-09-09T16:03:04.167Z"
   }
  ],
  "kernelspec": {
   "display_name": "Python 3 (ipykernel)",
   "language": "python",
   "name": "python3"
  },
  "language_info": {
   "codemirror_mode": {
    "name": "ipython",
    "version": 3
   },
   "file_extension": ".py",
   "mimetype": "text/x-python",
   "name": "python",
   "nbconvert_exporter": "python",
   "pygments_lexer": "ipython3",
   "version": "3.9.19"
  },
  "toc": {
   "base_numbering": 1,
   "nav_menu": {},
   "number_sections": true,
   "sideBar": true,
   "skip_h1_title": true,
   "title_cell": "Table of Contents",
   "title_sidebar": "Contents",
   "toc_cell": false,
   "toc_position": {},
   "toc_section_display": true,
   "toc_window_display": false
  }
 },
 "nbformat": 4,
 "nbformat_minor": 2
}
