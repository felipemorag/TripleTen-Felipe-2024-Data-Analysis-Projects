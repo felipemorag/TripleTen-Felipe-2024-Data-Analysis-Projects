{
 "cells": [
  {
   "cell_type": "markdown",
   "id": "3Xg_RQfnafXz",
   "metadata": {
    "id": "3Xg_RQfnafXz"
   },
   "source": [
    "# Proyecto final: Manipulación de datos (Data Wrangling)"
   ]
  },
  {
   "cell_type": "markdown",
   "id": "mhIvmmkW414q",
   "metadata": {
    "id": "mhIvmmkW414q"
   },
   "source": [
    "# Introducción\n",
    "\n",
    "Instacart es una plataforma de entregas de comestibles donde la clientela puede registrar un pedido y hacer que se lo entreguen, similar a Uber Eats y Door Dash.\n",
    "El conjunto de datos que te hemos proporcionado tiene modificaciones del original. Redujimos el tamaño del conjunto para que tus cálculos se hicieran más rápido e introdujimos valores ausentes y duplicados. Tuvimos cuidado de conservar las distribuciones de los datos originales cuando hicimos los cambios.\n",
    "\n",
    "Debes completar tres pasos. Para cada uno de ellos, escribe una breve introducción que refleje con claridad cómo pretendes resolver cada paso, y escribe párrafos explicatorios que justifiquen tus decisiones al tiempo que avanzas en tu solución.  También escribe una conclusión que resuma tus hallazgos y elecciones.\n"
   ]
  },
  {
   "cell_type": "markdown",
   "id": "3MbyzpOQZ5Or",
   "metadata": {
    "id": "3MbyzpOQZ5Or"
   },
   "source": [
    "# Diccionario de datos\n",
    "\n",
    "Hay cinco tablas en el conjunto de datos, y tendrás que usarlas todas para hacer el preprocesamiento de datos y el análisis exploratorio de datos. A continuación se muestra un diccionario de datos que enumera las columnas de cada tabla y describe los datos que contienen.\n",
    "\n",
    "- `instacart_orders.csv`: cada fila corresponde a un pedido en la aplicación Instacart.\n",
    "    - `'order_id'`: número de ID que identifica de manera única cada pedido.\n",
    "    - `'user_id'`: número de ID que identifica de manera única la cuenta de cada cliente.\n",
    "    - `'order_number'`: el número de veces que este cliente ha hecho un pedido.\n",
    "    - `'order_dow'`: día de la semana en que se hizo el pedido (0 si es domingo).\n",
    "    - `'order_hour_of_day'`: hora del día en que se hizo el pedido.\n",
    "    - `'days_since_prior_order'`: número de días transcurridos desde que este cliente hizo su pedido anterior.\n",
    "- `products.csv`: cada fila corresponde a un producto único que pueden comprar los clientes.\n",
    "    - `'product_id'`: número ID que identifica de manera única cada producto.\n",
    "    - `'product_name'`: nombre del producto.\n",
    "    - `'aisle_id'`: número ID que identifica de manera única cada categoría de pasillo de víveres.\n",
    "    - `'department_id'`: número ID que identifica de manera única cada departamento de víveres.\n",
    "- `order_products.csv`: cada fila corresponde a un artículo pedido en un pedido.\n",
    "    - `'order_id'`: número de ID que identifica de manera única cada pedido.\n",
    "    - `'product_id'`: número ID que identifica de manera única cada producto.\n",
    "    - `'add_to_cart_order'`: el orden secuencial en el que se añadió cada artículo en el carrito.\n",
    "    - `'reordered'`: 0 si el cliente nunca ha pedido este producto antes, 1 si lo ha pedido.\n",
    "- `aisles.csv`\n",
    "    - `'aisle_id'`: número ID que identifica de manera única cada categoría de pasillo de víveres.\n",
    "    - `'aisle'`: nombre del pasillo.\n",
    "- `departments.csv`\n",
    "    - `'department_id'`: número ID que identifica de manera única cada departamento de víveres.\n",
    "    - `'department'`: nombre del departamento."
   ]
  },
  {
   "cell_type": "markdown",
   "id": "OmlQPLlyaAfR",
   "metadata": {
    "id": "OmlQPLlyaAfR"
   },
   "source": [
    "# Paso 1: Plan de solución\n",
    "\n",
    "\n",
    "Se iniciará dando un analisis exploratorio de los datos. Se utiliará las librerias pandas para el procsamiento y pyplot para la visualización de gráficos. Se leerán los 5 archivos y veremos si cumple con las condiciones de un archivo típico csv. Luego analizaremos el tipo de datos de las columnas que conforman cada tabla para definir si es necesario cambiar el tipo de datos. Finalmente procesaremos los valores ausentes y duplicados de tal forma que estas filas no nos lleven a conclusiones equivocadas en nuestro análisis."
   ]
  },
  {
   "cell_type": "code",
   "execution_count": 1,
   "id": "fbf1adab",
   "metadata": {
    "id": "fbf1adab"
   },
   "outputs": [],
   "source": [
    "# importar librerías\n",
    "import pandas as pd\n",
    "from matplotlib import pyplot as plt"
   ]
  },
  {
   "cell_type": "code",
   "execution_count": 2,
   "id": "ad36396d",
   "metadata": {
    "id": "ad36396d"
   },
   "outputs": [],
   "source": [
    "# leer conjuntos de datos en los DataFrames\n",
    "instacart = pd.read_csv(\"/datasets/instacart_orders.csv\",sep=\";\")\n",
    "products = pd.read_csv(\"/datasets/products.csv\",sep=\";\")\n",
    "aisles = pd.read_csv(\"/datasets/aisles.csv\",sep=\";\")\n",
    "departments = pd.read_csv(\"/datasets/departments.csv\",sep=\";\")\n",
    "order = pd.read_csv(\"/datasets/order_products.csv\",sep=\";\")"
   ]
  },
  {
   "cell_type": "code",
   "execution_count": 3,
   "id": "ad6a1efa",
   "metadata": {
    "id": "ad6a1efa"
   },
   "outputs": [
    {
     "name": "stdout",
     "output_type": "stream",
     "text": [
      "<class 'pandas.core.frame.DataFrame'>\n",
      "RangeIndex: 478967 entries, 0 to 478966\n",
      "Data columns (total 6 columns):\n",
      " #   Column                  Non-Null Count   Dtype  \n",
      "---  ------                  --------------   -----  \n",
      " 0   order_id                478967 non-null  int64  \n",
      " 1   user_id                 478967 non-null  int64  \n",
      " 2   order_number            478967 non-null  int64  \n",
      " 3   order_dow               478967 non-null  int64  \n",
      " 4   order_hour_of_day       478967 non-null  int64  \n",
      " 5   days_since_prior_order  450148 non-null  float64\n",
      "dtypes: float64(1), int64(5)\n",
      "memory usage: 21.9 MB\n"
     ]
    }
   ],
   "source": [
    "# mostrar información del DataFrame\n",
    "instacart.info()\n"
   ]
  },
  {
   "cell_type": "code",
   "execution_count": 4,
   "id": "5130e05e",
   "metadata": {
    "id": "5130e05e"
   },
   "outputs": [
    {
     "name": "stdout",
     "output_type": "stream",
     "text": [
      "<class 'pandas.core.frame.DataFrame'>\n",
      "RangeIndex: 49694 entries, 0 to 49693\n",
      "Data columns (total 4 columns):\n",
      " #   Column         Non-Null Count  Dtype \n",
      "---  ------         --------------  ----- \n",
      " 0   product_id     49694 non-null  int64 \n",
      " 1   product_name   48436 non-null  object\n",
      " 2   aisle_id       49694 non-null  int64 \n",
      " 3   department_id  49694 non-null  int64 \n",
      "dtypes: int64(3), object(1)\n",
      "memory usage: 1.5+ MB\n"
     ]
    }
   ],
   "source": [
    "# mostrar información del DataFrame\n",
    "products.info()"
   ]
  },
  {
   "cell_type": "code",
   "execution_count": 5,
   "id": "d8370c05",
   "metadata": {
    "id": "d8370c05"
   },
   "outputs": [
    {
     "name": "stdout",
     "output_type": "stream",
     "text": [
      "<class 'pandas.core.frame.DataFrame'>\n",
      "RangeIndex: 134 entries, 0 to 133\n",
      "Data columns (total 2 columns):\n",
      " #   Column    Non-Null Count  Dtype \n",
      "---  ------    --------------  ----- \n",
      " 0   aisle_id  134 non-null    int64 \n",
      " 1   aisle     134 non-null    object\n",
      "dtypes: int64(1), object(1)\n",
      "memory usage: 2.2+ KB\n"
     ]
    }
   ],
   "source": [
    "# mostrar información del DataFrame\n",
    "aisles.info()"
   ]
  },
  {
   "cell_type": "code",
   "execution_count": 6,
   "id": "59e2090f",
   "metadata": {
    "id": "59e2090f"
   },
   "outputs": [
    {
     "name": "stdout",
     "output_type": "stream",
     "text": [
      "<class 'pandas.core.frame.DataFrame'>\n",
      "RangeIndex: 21 entries, 0 to 20\n",
      "Data columns (total 2 columns):\n",
      " #   Column         Non-Null Count  Dtype \n",
      "---  ------         --------------  ----- \n",
      " 0   department_id  21 non-null     int64 \n",
      " 1   department     21 non-null     object\n",
      "dtypes: int64(1), object(1)\n",
      "memory usage: 464.0+ bytes\n"
     ]
    }
   ],
   "source": [
    "# mostrar información del DataFrame\n",
    "departments.info()"
   ]
  },
  {
   "cell_type": "code",
   "execution_count": 7,
   "id": "6fc81694",
   "metadata": {
    "id": "6fc81694"
   },
   "outputs": [
    {
     "name": "stdout",
     "output_type": "stream",
     "text": [
      "<class 'pandas.core.frame.DataFrame'>\n",
      "RangeIndex: 4545007 entries, 0 to 4545006\n",
      "Data columns (total 4 columns):\n",
      " #   Column             Non-Null Count    Dtype  \n",
      "---  ------             --------------    -----  \n",
      " 0   order_id           4545007 non-null  int64  \n",
      " 1   product_id         4545007 non-null  int64  \n",
      " 2   add_to_cart_order  4544171 non-null  float64\n",
      " 3   reordered          4545007 non-null  int64  \n",
      "dtypes: float64(1), int64(3)\n",
      "memory usage: 138.7 MB\n"
     ]
    }
   ],
   "source": [
    "# mostrar información del DataFrame\n",
    "order.info(show_counts=True)"
   ]
  },
  {
   "cell_type": "markdown",
   "id": "t75BD19oaR5f",
   "metadata": {
    "id": "t75BD19oaR5f"
   },
   "source": [
    "# Conclusiones para la descripción de datos\n",
    "\n",
    "Para llevar los archivos a un formto estandar, hubo que incluir el argumento decimal = \";\" a cada dataframe. Esto permitió dar lectura a cada archivo y conocer el tipo de datos de cada columna. Notamos que hay columnas que se repiten en diferentes tablas, por lo que durante el desarrollo del proyecto será necesario asociarlas para su posterior análisis.\n"
   ]
  },
  {
   "cell_type": "markdown",
   "id": "8RJHqxVmaVsF",
   "metadata": {
    "id": "8RJHqxVmaVsF"
   },
   "source": [
    "# Paso 2: Preprocesamiento de los datos\n",
    "\n",
    "Preprocesa los datos de la siguiente manera:\n",
    "\n",
    "- Verifica y corrige los tipos de datos (por ejemplo, asegúrate de que las columnas de ID sean números enteros).\n",
    "- Identifica y completa los valores ausentes.\n",
    "- Identifica y elimina los valores duplicados.\n",
    "\n",
    "Asegúrate de explicar qué tipos de valores ausentes y duplicados encontraste, cómo los completaste o eliminaste y por qué usaste esos métodos. ¿Por qué crees que estos valores ausentes y duplicados pueden haber estado presentes en el conjunto de datos?"
   ]
  },
  {
   "cell_type": "markdown",
   "id": "07357848-dc64-4156-9cc3-01ff4365226d",
   "metadata": {
    "id": "07357848-dc64-4156-9cc3-01ff4365226d"
   },
   "source": [
    "# Encuentra y elimina los valores duplicados (y describe cómo tomaste tus decisiones)."
   ]
  },
  {
   "cell_type": "markdown",
   "id": "f179f0a9",
   "metadata": {
    "id": "f179f0a9"
   },
   "source": [
    "**Data frame: `orders`**"
   ]
  },
  {
   "cell_type": "code",
   "execution_count": 8,
   "id": "b99297a5-405a-463d-8535-9adc3da4ad74",
   "metadata": {
    "id": "b99297a5-405a-463d-8535-9adc3da4ad74"
   },
   "outputs": [
    {
     "name": "stdout",
     "output_type": "stream",
     "text": [
      "número de duplicados:  15\n",
      "\n"
     ]
    },
    {
     "data": {
      "text/html": [
       "<div>\n",
       "<style scoped>\n",
       "    .dataframe tbody tr th:only-of-type {\n",
       "        vertical-align: middle;\n",
       "    }\n",
       "\n",
       "    .dataframe tbody tr th {\n",
       "        vertical-align: top;\n",
       "    }\n",
       "\n",
       "    .dataframe thead th {\n",
       "        text-align: right;\n",
       "    }\n",
       "</style>\n",
       "<table border=\"1\" class=\"dataframe\">\n",
       "  <thead>\n",
       "    <tr style=\"text-align: right;\">\n",
       "      <th></th>\n",
       "      <th>order_id</th>\n",
       "      <th>user_id</th>\n",
       "      <th>order_number</th>\n",
       "      <th>order_dow</th>\n",
       "      <th>order_hour_of_day</th>\n",
       "      <th>days_since_prior_order</th>\n",
       "    </tr>\n",
       "  </thead>\n",
       "  <tbody>\n",
       "    <tr>\n",
       "      <th>145574</th>\n",
       "      <td>794638</td>\n",
       "      <td>50898</td>\n",
       "      <td>24</td>\n",
       "      <td>3</td>\n",
       "      <td>2</td>\n",
       "      <td>2.0</td>\n",
       "    </tr>\n",
       "    <tr>\n",
       "      <th>223105</th>\n",
       "      <td>2160484</td>\n",
       "      <td>107525</td>\n",
       "      <td>16</td>\n",
       "      <td>3</td>\n",
       "      <td>2</td>\n",
       "      <td>30.0</td>\n",
       "    </tr>\n",
       "    <tr>\n",
       "      <th>230807</th>\n",
       "      <td>1918001</td>\n",
       "      <td>188546</td>\n",
       "      <td>14</td>\n",
       "      <td>3</td>\n",
       "      <td>2</td>\n",
       "      <td>16.0</td>\n",
       "    </tr>\n",
       "    <tr>\n",
       "      <th>266232</th>\n",
       "      <td>1782114</td>\n",
       "      <td>106752</td>\n",
       "      <td>1</td>\n",
       "      <td>3</td>\n",
       "      <td>2</td>\n",
       "      <td>NaN</td>\n",
       "    </tr>\n",
       "    <tr>\n",
       "      <th>273805</th>\n",
       "      <td>1112182</td>\n",
       "      <td>202304</td>\n",
       "      <td>84</td>\n",
       "      <td>3</td>\n",
       "      <td>2</td>\n",
       "      <td>6.0</td>\n",
       "    </tr>\n",
       "    <tr>\n",
       "      <th>284038</th>\n",
       "      <td>2845099</td>\n",
       "      <td>31189</td>\n",
       "      <td>11</td>\n",
       "      <td>3</td>\n",
       "      <td>2</td>\n",
       "      <td>7.0</td>\n",
       "    </tr>\n",
       "    <tr>\n",
       "      <th>311713</th>\n",
       "      <td>1021560</td>\n",
       "      <td>53767</td>\n",
       "      <td>3</td>\n",
       "      <td>3</td>\n",
       "      <td>2</td>\n",
       "      <td>9.0</td>\n",
       "    </tr>\n",
       "    <tr>\n",
       "      <th>321100</th>\n",
       "      <td>408114</td>\n",
       "      <td>68324</td>\n",
       "      <td>4</td>\n",
       "      <td>3</td>\n",
       "      <td>2</td>\n",
       "      <td>18.0</td>\n",
       "    </tr>\n",
       "    <tr>\n",
       "      <th>323900</th>\n",
       "      <td>1919531</td>\n",
       "      <td>191501</td>\n",
       "      <td>32</td>\n",
       "      <td>3</td>\n",
       "      <td>2</td>\n",
       "      <td>7.0</td>\n",
       "    </tr>\n",
       "    <tr>\n",
       "      <th>345917</th>\n",
       "      <td>2232988</td>\n",
       "      <td>82565</td>\n",
       "      <td>1</td>\n",
       "      <td>3</td>\n",
       "      <td>2</td>\n",
       "      <td>NaN</td>\n",
       "    </tr>\n",
       "    <tr>\n",
       "      <th>371905</th>\n",
       "      <td>391768</td>\n",
       "      <td>57671</td>\n",
       "      <td>19</td>\n",
       "      <td>3</td>\n",
       "      <td>2</td>\n",
       "      <td>10.0</td>\n",
       "    </tr>\n",
       "    <tr>\n",
       "      <th>394347</th>\n",
       "      <td>467134</td>\n",
       "      <td>63189</td>\n",
       "      <td>21</td>\n",
       "      <td>3</td>\n",
       "      <td>2</td>\n",
       "      <td>2.0</td>\n",
       "    </tr>\n",
       "    <tr>\n",
       "      <th>411408</th>\n",
       "      <td>1286742</td>\n",
       "      <td>183220</td>\n",
       "      <td>48</td>\n",
       "      <td>3</td>\n",
       "      <td>2</td>\n",
       "      <td>4.0</td>\n",
       "    </tr>\n",
       "    <tr>\n",
       "      <th>415163</th>\n",
       "      <td>2282673</td>\n",
       "      <td>86751</td>\n",
       "      <td>49</td>\n",
       "      <td>3</td>\n",
       "      <td>2</td>\n",
       "      <td>2.0</td>\n",
       "    </tr>\n",
       "    <tr>\n",
       "      <th>441599</th>\n",
       "      <td>2125197</td>\n",
       "      <td>14050</td>\n",
       "      <td>48</td>\n",
       "      <td>3</td>\n",
       "      <td>2</td>\n",
       "      <td>3.0</td>\n",
       "    </tr>\n",
       "  </tbody>\n",
       "</table>\n",
       "</div>"
      ],
      "text/plain": [
       "        order_id  user_id  order_number  order_dow  order_hour_of_day  \\\n",
       "145574    794638    50898            24          3                  2   \n",
       "223105   2160484   107525            16          3                  2   \n",
       "230807   1918001   188546            14          3                  2   \n",
       "266232   1782114   106752             1          3                  2   \n",
       "273805   1112182   202304            84          3                  2   \n",
       "284038   2845099    31189            11          3                  2   \n",
       "311713   1021560    53767             3          3                  2   \n",
       "321100    408114    68324             4          3                  2   \n",
       "323900   1919531   191501            32          3                  2   \n",
       "345917   2232988    82565             1          3                  2   \n",
       "371905    391768    57671            19          3                  2   \n",
       "394347    467134    63189            21          3                  2   \n",
       "411408   1286742   183220            48          3                  2   \n",
       "415163   2282673    86751            49          3                  2   \n",
       "441599   2125197    14050            48          3                  2   \n",
       "\n",
       "        days_since_prior_order  \n",
       "145574                     2.0  \n",
       "223105                    30.0  \n",
       "230807                    16.0  \n",
       "266232                     NaN  \n",
       "273805                     6.0  \n",
       "284038                     7.0  \n",
       "311713                     9.0  \n",
       "321100                    18.0  \n",
       "323900                     7.0  \n",
       "345917                     NaN  \n",
       "371905                    10.0  \n",
       "394347                     2.0  \n",
       "411408                     4.0  \n",
       "415163                     2.0  \n",
       "441599                     3.0  "
      ]
     },
     "metadata": {},
     "output_type": "display_data"
    }
   ],
   "source": [
    "# Revisa si hay pedidos duplicados\n",
    "print(\"número de duplicados: \", instacart.duplicated().sum())\n",
    "print()\n",
    "display(instacart[instacart.duplicated()]) \n"
   ]
  },
  {
   "cell_type": "markdown",
   "id": "PEkwUX_gvt5A",
   "metadata": {
    "id": "PEkwUX_gvt5A"
   },
   "source": [
    "\n",
    "\n",
    "Hay 15 filas con duplicados, en todos los casos es en el día 3 miercoles a las 2 am."
   ]
  },
  {
   "cell_type": "markdown",
   "id": "0140dd7a",
   "metadata": {},
   "source": [
    "**Basándote en tus hallazgos, verifica todos los pedidos que se hicieron el miércoles a las 2:00 a.m.**"
   ]
  },
  {
   "cell_type": "code",
   "execution_count": 9,
   "id": "0d44de5d",
   "metadata": {
    "id": "0d44de5d"
   },
   "outputs": [
    {
     "data": {
      "text/html": [
       "<div>\n",
       "<style scoped>\n",
       "    .dataframe tbody tr th:only-of-type {\n",
       "        vertical-align: middle;\n",
       "    }\n",
       "\n",
       "    .dataframe tbody tr th {\n",
       "        vertical-align: top;\n",
       "    }\n",
       "\n",
       "    .dataframe thead th {\n",
       "        text-align: right;\n",
       "    }\n",
       "</style>\n",
       "<table border=\"1\" class=\"dataframe\">\n",
       "  <thead>\n",
       "    <tr style=\"text-align: right;\">\n",
       "      <th></th>\n",
       "      <th>order_id</th>\n",
       "      <th>user_id</th>\n",
       "      <th>order_number</th>\n",
       "      <th>order_dow</th>\n",
       "      <th>order_hour_of_day</th>\n",
       "      <th>days_since_prior_order</th>\n",
       "    </tr>\n",
       "  </thead>\n",
       "  <tbody>\n",
       "    <tr>\n",
       "      <th>4838</th>\n",
       "      <td>2766110</td>\n",
       "      <td>162084</td>\n",
       "      <td>41</td>\n",
       "      <td>3</td>\n",
       "      <td>2</td>\n",
       "      <td>16.0</td>\n",
       "    </tr>\n",
       "    <tr>\n",
       "      <th>5156</th>\n",
       "      <td>2190225</td>\n",
       "      <td>138285</td>\n",
       "      <td>18</td>\n",
       "      <td>3</td>\n",
       "      <td>2</td>\n",
       "      <td>11.0</td>\n",
       "    </tr>\n",
       "    <tr>\n",
       "      <th>15506</th>\n",
       "      <td>553049</td>\n",
       "      <td>58599</td>\n",
       "      <td>13</td>\n",
       "      <td>3</td>\n",
       "      <td>2</td>\n",
       "      <td>7.0</td>\n",
       "    </tr>\n",
       "    <tr>\n",
       "      <th>18420</th>\n",
       "      <td>382357</td>\n",
       "      <td>120200</td>\n",
       "      <td>19</td>\n",
       "      <td>3</td>\n",
       "      <td>2</td>\n",
       "      <td>11.0</td>\n",
       "    </tr>\n",
       "    <tr>\n",
       "      <th>24691</th>\n",
       "      <td>690242</td>\n",
       "      <td>77357</td>\n",
       "      <td>2</td>\n",
       "      <td>3</td>\n",
       "      <td>2</td>\n",
       "      <td>9.0</td>\n",
       "    </tr>\n",
       "    <tr>\n",
       "      <th>...</th>\n",
       "      <td>...</td>\n",
       "      <td>...</td>\n",
       "      <td>...</td>\n",
       "      <td>...</td>\n",
       "      <td>...</td>\n",
       "      <td>...</td>\n",
       "    </tr>\n",
       "    <tr>\n",
       "      <th>457013</th>\n",
       "      <td>3384021</td>\n",
       "      <td>14881</td>\n",
       "      <td>6</td>\n",
       "      <td>3</td>\n",
       "      <td>2</td>\n",
       "      <td>30.0</td>\n",
       "    </tr>\n",
       "    <tr>\n",
       "      <th>458816</th>\n",
       "      <td>910166</td>\n",
       "      <td>164782</td>\n",
       "      <td>18</td>\n",
       "      <td>3</td>\n",
       "      <td>2</td>\n",
       "      <td>4.0</td>\n",
       "    </tr>\n",
       "    <tr>\n",
       "      <th>459635</th>\n",
       "      <td>1680532</td>\n",
       "      <td>106435</td>\n",
       "      <td>6</td>\n",
       "      <td>3</td>\n",
       "      <td>2</td>\n",
       "      <td>21.0</td>\n",
       "    </tr>\n",
       "    <tr>\n",
       "      <th>468324</th>\n",
       "      <td>222962</td>\n",
       "      <td>54979</td>\n",
       "      <td>59</td>\n",
       "      <td>3</td>\n",
       "      <td>2</td>\n",
       "      <td>3.0</td>\n",
       "    </tr>\n",
       "    <tr>\n",
       "      <th>477526</th>\n",
       "      <td>2592344</td>\n",
       "      <td>46860</td>\n",
       "      <td>38</td>\n",
       "      <td>3</td>\n",
       "      <td>2</td>\n",
       "      <td>3.0</td>\n",
       "    </tr>\n",
       "  </tbody>\n",
       "</table>\n",
       "<p>121 rows × 6 columns</p>\n",
       "</div>"
      ],
      "text/plain": [
       "        order_id  user_id  order_number  order_dow  order_hour_of_day  \\\n",
       "4838     2766110   162084            41          3                  2   \n",
       "5156     2190225   138285            18          3                  2   \n",
       "15506     553049    58599            13          3                  2   \n",
       "18420     382357   120200            19          3                  2   \n",
       "24691     690242    77357             2          3                  2   \n",
       "...          ...      ...           ...        ...                ...   \n",
       "457013   3384021    14881             6          3                  2   \n",
       "458816    910166   164782            18          3                  2   \n",
       "459635   1680532   106435             6          3                  2   \n",
       "468324    222962    54979            59          3                  2   \n",
       "477526   2592344    46860            38          3                  2   \n",
       "\n",
       "        days_since_prior_order  \n",
       "4838                      16.0  \n",
       "5156                      11.0  \n",
       "15506                      7.0  \n",
       "18420                     11.0  \n",
       "24691                      9.0  \n",
       "...                        ...  \n",
       "457013                    30.0  \n",
       "458816                     4.0  \n",
       "459635                    21.0  \n",
       "468324                     3.0  \n",
       "477526                     3.0  \n",
       "\n",
       "[121 rows x 6 columns]"
      ]
     },
     "metadata": {},
     "output_type": "display_data"
    }
   ],
   "source": [
    "display(instacart[(instacart['order_hour_of_day'] == 2) & (instacart['order_dow']==3)])\n"
   ]
  },
  {
   "cell_type": "markdown",
   "id": "vu2OWyoqwOx5",
   "metadata": {
    "id": "vu2OWyoqwOx5"
   },
   "source": [
    "El resultado sugiere que tenemos 106 filas en las que el día es miercoles y la hora es 2 am. En 15 de estos casos las filas contienen valores duplicados."
   ]
  },
  {
   "cell_type": "markdown",
   "id": "01365d7a",
   "metadata": {},
   "source": [
    "**data frame: `instacart`**"
   ]
  },
  {
   "cell_type": "code",
   "execution_count": 10,
   "id": "480563c7",
   "metadata": {
    "id": "480563c7"
   },
   "outputs": [],
   "source": [
    "# Elimina los pedidos duplicados\n",
    "instacart = instacart.drop_duplicates()\n"
   ]
  },
  {
   "cell_type": "code",
   "execution_count": 11,
   "id": "0b2396a2",
   "metadata": {
    "id": "0b2396a2"
   },
   "outputs": [
    {
     "name": "stdout",
     "output_type": "stream",
     "text": [
      "filas duplicadas:  0\n"
     ]
    }
   ],
   "source": [
    "# Vuelve a verificar si hay filas duplicadas\n",
    "print(\"filas duplicadas: \", instacart.duplicated().sum())\n"
   ]
  },
  {
   "cell_type": "code",
   "execution_count": 12,
   "id": "f6113ef1",
   "metadata": {
    "id": "f6113ef1"
   },
   "outputs": [
    {
     "name": "stdout",
     "output_type": "stream",
     "text": [
      "id duplicados de pedidos: 0\n"
     ]
    }
   ],
   "source": [
    "# Vuelve a verificar únicamente si hay IDs duplicados de pedidos\n",
    "#print(instacart['order_id'].value_counts()) \n",
    "print(\"id duplicados de pedidos:\" , instacart.duplicated(subset='order_id').sum())\n"
   ]
  },
  {
   "cell_type": "markdown",
   "id": "45e6bc46",
   "metadata": {
    "id": "45e6bc46"
   },
   "source": [
    "**data frame: `products`**"
   ]
  },
  {
   "cell_type": "code",
   "execution_count": 13,
   "id": "5f526b5b-8175-46fa-a0fd-441767d50e64",
   "metadata": {
    "id": "5f526b5b-8175-46fa-a0fd-441767d50e64"
   },
   "outputs": [
    {
     "name": "stdout",
     "output_type": "stream",
     "text": [
      "filas totalmente duplicadas:  0\n"
     ]
    }
   ],
   "source": [
    "# Verifica si hay filas totalmente duplicadas\n",
    "print(\"filas totalmente duplicadas: \",products.duplicated().sum())\n"
   ]
  },
  {
   "cell_type": "code",
   "execution_count": 14,
   "id": "88daa4f4",
   "metadata": {
    "id": "88daa4f4"
   },
   "outputs": [
    {
     "name": "stdout",
     "output_type": "stream",
     "text": [
      "id duplicados:  0\n"
     ]
    }
   ],
   "source": [
    "# Verifica únicamente si hay IDs duplicadas de productos\n",
    "print(\"id duplicados: \", products.duplicated(subset='product_id').sum())\n"
   ]
  },
  {
   "cell_type": "code",
   "execution_count": 15,
   "id": "c773f0bf",
   "metadata": {
    "id": "c773f0bf"
   },
   "outputs": [
    {
     "name": "stdout",
     "output_type": "stream",
     "text": [
      "nombres duplicados de productos:  1361\n"
     ]
    }
   ],
   "source": [
    "# Revisa únicamente si hay nombres duplicados de productos (convierte los nombres a letras mayúsculas para compararlos mejor)\n",
    "products['product_name'] = products['product_name'].str.upper()\n",
    "print(\"nombres duplicados de productos: \", products['product_name'].duplicated().sum())\n"
   ]
  },
  {
   "cell_type": "code",
   "execution_count": 16,
   "id": "01efd02e",
   "metadata": {
    "id": "01efd02e"
   },
   "outputs": [
    {
     "name": "stdout",
     "output_type": "stream",
     "text": [
      "nombres duplicados de productos no faltantes:  104\n"
     ]
    }
   ],
   "source": [
    "# Revisa si hay nombres duplicados de productos no faltantes\n",
    "print(\"nombres duplicados de productos no faltantes: \", products['product_name'].dropna().duplicated().sum())\n"
   ]
  },
  {
   "cell_type": "markdown",
   "id": "60f30db1",
   "metadata": {
    "id": "60f30db1"
   },
   "source": [
    "**Data frame: `departments`** "
   ]
  },
  {
   "cell_type": "code",
   "execution_count": 17,
   "id": "fb410ad4-0fbf-4b80-bb09-23fdea79afe3",
   "metadata": {
    "id": "fb410ad4-0fbf-4b80-bb09-23fdea79afe3"
   },
   "outputs": [
    {
     "name": "stdout",
     "output_type": "stream",
     "text": [
      "filas totalmente duplicadas:  0\n"
     ]
    }
   ],
   "source": [
    "# Revisa si hay filas totalmente duplicadas\n",
    "print(\"filas totalmente duplicadas: \", departments.duplicated().sum())"
   ]
  },
  {
   "cell_type": "code",
   "execution_count": 18,
   "id": "332b12bb",
   "metadata": {
    "id": "332b12bb"
   },
   "outputs": [
    {
     "name": "stdout",
     "output_type": "stream",
     "text": [
      "id duplicados de productos:  0\n"
     ]
    }
   ],
   "source": [
    "# Revisa únicamente si hay IDs duplicadas de productos\n",
    "print(\"id duplicados de productos: \", departments.duplicated(subset='department_id').sum())\n"
   ]
  },
  {
   "cell_type": "markdown",
   "id": "889349c1",
   "metadata": {
    "id": "889349c1"
   },
   "source": [
    "**Data frame:`aisles`**"
   ]
  },
  {
   "cell_type": "code",
   "execution_count": 19,
   "id": "9da89fb9-4679-40f5-ad0d-c34df753a3f8",
   "metadata": {
    "id": "9da89fb9-4679-40f5-ad0d-c34df753a3f8"
   },
   "outputs": [
    {
     "name": "stdout",
     "output_type": "stream",
     "text": [
      "filas totalmente duplicadas:  0\n"
     ]
    }
   ],
   "source": [
    "# Revisa si hay filas totalmente duplicadas\n",
    "print(\"filas totalmente duplicadas: \", aisles.duplicated().sum())"
   ]
  },
  {
   "cell_type": "code",
   "execution_count": 20,
   "id": "da7c2822",
   "metadata": {
    "id": "da7c2822"
   },
   "outputs": [
    {
     "name": "stdout",
     "output_type": "stream",
     "text": [
      "id duplicados de productos 0\n"
     ]
    }
   ],
   "source": [
    "# Revisa únicamente si hay IDs duplicadas de productos\n",
    "print(\"id duplicados de productos\", aisles.duplicated(subset='aisle_id').sum())\n"
   ]
  },
  {
   "cell_type": "markdown",
   "id": "274cd06a",
   "metadata": {
    "id": "274cd06a"
   },
   "source": [
    "**data frame: `order_products`**"
   ]
  },
  {
   "cell_type": "code",
   "execution_count": 21,
   "id": "52326689-84a8-4b8f-a881-7c68780f62c9",
   "metadata": {
    "id": "52326689-84a8-4b8f-a881-7c68780f62c9"
   },
   "outputs": [
    {
     "name": "stdout",
     "output_type": "stream",
     "text": [
      "filas totlamente duplicadas:  0\n"
     ]
    }
   ],
   "source": [
    "# Revisa si hay filas totalmente duplicadas\n",
    "print(\"filas totlamente duplicadas: \", order.duplicated().sum())\n"
   ]
  },
  {
   "cell_type": "code",
   "execution_count": 22,
   "id": "7b861391",
   "metadata": {
    "id": "7b861391"
   },
   "outputs": [
    {
     "name": "stdout",
     "output_type": "stream",
     "text": [
      "id duplicados:  4094961\n"
     ]
    }
   ],
   "source": [
    "# Vuelve a verificar si hay cualquier otro duplicado engañoso\n",
    "print(\"id duplicados: \", order['order_id'].duplicated().sum())\n"
   ]
  },
  {
   "cell_type": "markdown",
   "id": "1e46de76",
   "metadata": {
    "id": "1e46de76"
   },
   "source": [
    "# Encuentra y elimina los valores ausentes\n",
    "\n",
    "Al trabajar con valores duplicados, pudimos observar que también nos falta investigar valores ausentes:\n",
    "\n",
    "* La columna `'product_name'` de la tabla products.\n",
    "* La columna `'days_since_prior_order'` de la tabla orders.\n",
    "* La columna `'add_to_cart_order'` de la tabla order_productos."
   ]
  },
  {
   "cell_type": "markdown",
   "id": "c0aebd78",
   "metadata": {
    "id": "c0aebd78"
   },
   "source": [
    "**Data frame: `product`** "
   ]
  },
  {
   "cell_type": "code",
   "execution_count": 23,
   "id": "fe4a8b0f",
   "metadata": {
    "id": "fe4a8b0f"
   },
   "outputs": [
    {
     "name": "stdout",
     "output_type": "stream",
     "text": [
      "product_id          0\n",
      "product_name     1258\n",
      "aisle_id            0\n",
      "department_id       0\n",
      "dtype: int64\n",
      "columna 'product_name' de la tabla 'product'\n",
      "\n"
     ]
    },
    {
     "data": {
      "text/plain": [
       "NaN                                              1258\n",
       "GREEN TEA WITH GINSENG AND HONEY                    3\n",
       "HERRING IN WINE SAUCE                               2\n",
       "MEDITERRANEAN SEA SALT                              2\n",
       "MOUNTAIN BERRY BLAST SPORTS DRINK                   2\n",
       "                                                 ... \n",
       "ZESTY PIZZA SPROUTED FLAX SNAX                      1\n",
       "ORGANIC CALIFORNIA STYLE SPROUTED BREAD             1\n",
       "LEMON FRESH SCENT POWDER DISHWASHER DETERGENT       1\n",
       "VANILLA MINI SWIRLS CONES                           1\n",
       "CONCENTRATED LAVENDER SCENT BLEACH                  1\n",
       "Name: product_name, Length: 48333, dtype: int64"
      ]
     },
     "metadata": {},
     "output_type": "display_data"
    }
   ],
   "source": [
    "# Encuentra los valores ausentes en la columna 'product_name'\n",
    "\n",
    "print(products.isna().sum())\n",
    "print(\"columna 'product_name' de la tabla 'product'\")\n",
    "print()\n",
    "display(products['product_name'].value_counts(dropna=False))\n"
   ]
  },
  {
   "cell_type": "markdown",
   "id": "-A6x1AbJhjkp",
   "metadata": {
    "id": "-A6x1AbJhjkp"
   },
   "source": [
    "Tenemos 1258 valores ausentes en la columna \"product_name\""
   ]
  },
  {
   "cell_type": "markdown",
   "id": "a0995fe5",
   "metadata": {},
   "source": [
    "**¿Todos los nombres de productos ausentes están relacionados con el pasillo con ID 100?**"
   ]
  },
  {
   "cell_type": "code",
   "execution_count": 24,
   "id": "e96167bc",
   "metadata": {
    "id": "e96167bc"
   },
   "outputs": [
    {
     "data": {
      "text/html": [
       "<div>\n",
       "<style scoped>\n",
       "    .dataframe tbody tr th:only-of-type {\n",
       "        vertical-align: middle;\n",
       "    }\n",
       "\n",
       "    .dataframe tbody tr th {\n",
       "        vertical-align: top;\n",
       "    }\n",
       "\n",
       "    .dataframe thead th {\n",
       "        text-align: right;\n",
       "    }\n",
       "</style>\n",
       "<table border=\"1\" class=\"dataframe\">\n",
       "  <thead>\n",
       "    <tr style=\"text-align: right;\">\n",
       "      <th></th>\n",
       "      <th>product_id</th>\n",
       "      <th>product_name</th>\n",
       "      <th>aisle_id</th>\n",
       "      <th>department_id</th>\n",
       "    </tr>\n",
       "  </thead>\n",
       "  <tbody>\n",
       "    <tr>\n",
       "      <th>37</th>\n",
       "      <td>38</td>\n",
       "      <td>NaN</td>\n",
       "      <td>100</td>\n",
       "      <td>21</td>\n",
       "    </tr>\n",
       "    <tr>\n",
       "      <th>71</th>\n",
       "      <td>72</td>\n",
       "      <td>NaN</td>\n",
       "      <td>100</td>\n",
       "      <td>21</td>\n",
       "    </tr>\n",
       "    <tr>\n",
       "      <th>109</th>\n",
       "      <td>110</td>\n",
       "      <td>NaN</td>\n",
       "      <td>100</td>\n",
       "      <td>21</td>\n",
       "    </tr>\n",
       "    <tr>\n",
       "      <th>296</th>\n",
       "      <td>297</td>\n",
       "      <td>NaN</td>\n",
       "      <td>100</td>\n",
       "      <td>21</td>\n",
       "    </tr>\n",
       "    <tr>\n",
       "      <th>416</th>\n",
       "      <td>417</td>\n",
       "      <td>NaN</td>\n",
       "      <td>100</td>\n",
       "      <td>21</td>\n",
       "    </tr>\n",
       "    <tr>\n",
       "      <th>...</th>\n",
       "      <td>...</td>\n",
       "      <td>...</td>\n",
       "      <td>...</td>\n",
       "      <td>...</td>\n",
       "    </tr>\n",
       "    <tr>\n",
       "      <th>49552</th>\n",
       "      <td>49553</td>\n",
       "      <td>NaN</td>\n",
       "      <td>100</td>\n",
       "      <td>21</td>\n",
       "    </tr>\n",
       "    <tr>\n",
       "      <th>49574</th>\n",
       "      <td>49575</td>\n",
       "      <td>NaN</td>\n",
       "      <td>100</td>\n",
       "      <td>21</td>\n",
       "    </tr>\n",
       "    <tr>\n",
       "      <th>49640</th>\n",
       "      <td>49641</td>\n",
       "      <td>NaN</td>\n",
       "      <td>100</td>\n",
       "      <td>21</td>\n",
       "    </tr>\n",
       "    <tr>\n",
       "      <th>49663</th>\n",
       "      <td>49664</td>\n",
       "      <td>NaN</td>\n",
       "      <td>100</td>\n",
       "      <td>21</td>\n",
       "    </tr>\n",
       "    <tr>\n",
       "      <th>49668</th>\n",
       "      <td>49669</td>\n",
       "      <td>NaN</td>\n",
       "      <td>100</td>\n",
       "      <td>21</td>\n",
       "    </tr>\n",
       "  </tbody>\n",
       "</table>\n",
       "<p>1258 rows × 4 columns</p>\n",
       "</div>"
      ],
      "text/plain": [
       "       product_id product_name  aisle_id  department_id\n",
       "37             38          NaN       100             21\n",
       "71             72          NaN       100             21\n",
       "109           110          NaN       100             21\n",
       "296           297          NaN       100             21\n",
       "416           417          NaN       100             21\n",
       "...           ...          ...       ...            ...\n",
       "49552       49553          NaN       100             21\n",
       "49574       49575          NaN       100             21\n",
       "49640       49641          NaN       100             21\n",
       "49663       49664          NaN       100             21\n",
       "49668       49669          NaN       100             21\n",
       "\n",
       "[1258 rows x 4 columns]"
      ]
     },
     "metadata": {},
     "output_type": "display_data"
    },
    {
     "name": "stdout",
     "output_type": "stream",
     "text": [
      "\n",
      "[100]\n"
     ]
    }
   ],
   "source": [
    "display(products[products['product_name'].isna()])\n",
    "print()\n",
    "products_pasillo_100= products[products['product_name'].isna()]\n",
    "print(products_pasillo_100['aisle_id'].unique())\n"
   ]
  },
  {
   "cell_type": "markdown",
   "id": "WRpIfXRphpSL",
   "metadata": {
    "id": "WRpIfXRphpSL"
   },
   "source": [
    "Hemos verificado que todos los nombres de productos ausentes están relacionados con el pasillo con ID 100."
   ]
  },
  {
   "cell_type": "markdown",
   "id": "64b0f75e",
   "metadata": {},
   "source": [
    "**¿Todos los nombres de productos ausentes están relacionados con el departamento con ID 21?**"
   ]
  },
  {
   "cell_type": "code",
   "execution_count": 25,
   "id": "8fd0a541",
   "metadata": {
    "id": "8fd0a541"
   },
   "outputs": [
    {
     "name": "stdout",
     "output_type": "stream",
     "text": [
      "[21]\n"
     ]
    }
   ],
   "source": [
    "products_id_21= products[products['product_name'].isna()]\n",
    "print(products_id_21['department_id'].unique())\n"
   ]
  },
  {
   "cell_type": "markdown",
   "id": "qDpdYn1Fht_I",
   "metadata": {
    "id": "qDpdYn1Fht_I"
   },
   "source": [
    "Hemos verificado que todos los nombres de productos ausentes están relacionados con el departamento con ID 21."
   ]
  },
  {
   "cell_type": "markdown",
   "id": "420095c5",
   "metadata": {},
   "source": [
    "**Usa las tablas department y aisle para revisar los datos del pasillo con ID 100 y el departamento con ID 21.**"
   ]
  },
  {
   "cell_type": "code",
   "execution_count": 26,
   "id": "325c3464",
   "metadata": {
    "id": "325c3464"
   },
   "outputs": [
    {
     "data": {
      "text/html": [
       "<div>\n",
       "<style scoped>\n",
       "    .dataframe tbody tr th:only-of-type {\n",
       "        vertical-align: middle;\n",
       "    }\n",
       "\n",
       "    .dataframe tbody tr th {\n",
       "        vertical-align: top;\n",
       "    }\n",
       "\n",
       "    .dataframe thead th {\n",
       "        text-align: right;\n",
       "    }\n",
       "</style>\n",
       "<table border=\"1\" class=\"dataframe\">\n",
       "  <thead>\n",
       "    <tr style=\"text-align: right;\">\n",
       "      <th></th>\n",
       "      <th>department_id</th>\n",
       "      <th>department</th>\n",
       "    </tr>\n",
       "  </thead>\n",
       "  <tbody>\n",
       "    <tr>\n",
       "      <th>20</th>\n",
       "      <td>21</td>\n",
       "      <td>missing</td>\n",
       "    </tr>\n",
       "  </tbody>\n",
       "</table>\n",
       "</div>"
      ],
      "text/plain": [
       "    department_id department\n",
       "20             21    missing"
      ]
     },
     "metadata": {},
     "output_type": "display_data"
    },
    {
     "name": "stdout",
     "output_type": "stream",
     "text": [
      "\n"
     ]
    },
    {
     "data": {
      "text/html": [
       "<div>\n",
       "<style scoped>\n",
       "    .dataframe tbody tr th:only-of-type {\n",
       "        vertical-align: middle;\n",
       "    }\n",
       "\n",
       "    .dataframe tbody tr th {\n",
       "        vertical-align: top;\n",
       "    }\n",
       "\n",
       "    .dataframe thead th {\n",
       "        text-align: right;\n",
       "    }\n",
       "</style>\n",
       "<table border=\"1\" class=\"dataframe\">\n",
       "  <thead>\n",
       "    <tr style=\"text-align: right;\">\n",
       "      <th></th>\n",
       "      <th>aisle_id</th>\n",
       "      <th>aisle</th>\n",
       "    </tr>\n",
       "  </thead>\n",
       "  <tbody>\n",
       "    <tr>\n",
       "      <th>99</th>\n",
       "      <td>100</td>\n",
       "      <td>missing</td>\n",
       "    </tr>\n",
       "  </tbody>\n",
       "</table>\n",
       "</div>"
      ],
      "text/plain": [
       "    aisle_id    aisle\n",
       "99       100  missing"
      ]
     },
     "metadata": {},
     "output_type": "display_data"
    }
   ],
   "source": [
    "display(departments[departments['department_id'] == 21])\n",
    "print()\n",
    "display(aisles[aisles['aisle_id'] == 100])\n"
   ]
  },
  {
   "cell_type": "markdown",
   "id": "nqhSTUPhhvEJ",
   "metadata": {
    "id": "nqhSTUPhhvEJ"
   },
   "source": [
    "Tanto los datos del pasillo ID 100 y el departamento ID 21 tienen como nombre de departamento y aisle a \"missing\"."
   ]
  },
  {
   "cell_type": "markdown",
   "id": "58e89282",
   "metadata": {},
   "source": [
    "**Completa los nombres de productos ausentes con 'Unknown'**"
   ]
  },
  {
   "cell_type": "code",
   "execution_count": 27,
   "id": "6b295120",
   "metadata": {
    "id": "6b295120"
   },
   "outputs": [
    {
     "name": "stdout",
     "output_type": "stream",
     "text": [
      "product_id       0\n",
      "product_name     0\n",
      "aisle_id         0\n",
      "department_id    0\n",
      "dtype: int64\n"
     ]
    }
   ],
   "source": [
    "products['product_name'] = products['product_name'].fillna(value='Unknown')\n",
    "\n",
    "print(products.isna().sum())\n",
    "\n"
   ]
  },
  {
   "cell_type": "markdown",
   "id": "fc70e5ad",
   "metadata": {
    "id": "fc70e5ad"
   },
   "source": [
    "Hemos completado los valores ausentes mediante la función \"fillna\" y los reemplazmos por el string 'Unknown'. Luego verificamos la cantidad de duplicados en la columna \"product_name\", cuyo valor es 0."
   ]
  },
  {
   "cell_type": "markdown",
   "id": "7eb45c86",
   "metadata": {
    "id": "7eb45c86"
   },
   "source": [
    " **data frame: `orders`**"
   ]
  },
  {
   "cell_type": "markdown",
   "id": "b4e4326d",
   "metadata": {},
   "source": [
    "**¿Hay algún valor ausente que no sea el primer pedido del cliente?**"
   ]
  },
  {
   "cell_type": "code",
   "execution_count": 28,
   "id": "166e5a86",
   "metadata": {
    "id": "166e5a86"
   },
   "outputs": [
    {
     "data": {
      "text/html": [
       "<div>\n",
       "<style scoped>\n",
       "    .dataframe tbody tr th:only-of-type {\n",
       "        vertical-align: middle;\n",
       "    }\n",
       "\n",
       "    .dataframe tbody tr th {\n",
       "        vertical-align: top;\n",
       "    }\n",
       "\n",
       "    .dataframe thead th {\n",
       "        text-align: right;\n",
       "    }\n",
       "</style>\n",
       "<table border=\"1\" class=\"dataframe\">\n",
       "  <thead>\n",
       "    <tr style=\"text-align: right;\">\n",
       "      <th></th>\n",
       "      <th>order_id</th>\n",
       "      <th>user_id</th>\n",
       "      <th>order_number</th>\n",
       "      <th>order_dow</th>\n",
       "      <th>order_hour_of_day</th>\n",
       "      <th>days_since_prior_order</th>\n",
       "    </tr>\n",
       "  </thead>\n",
       "  <tbody>\n",
       "    <tr>\n",
       "      <th>28</th>\n",
       "      <td>133707</td>\n",
       "      <td>182261</td>\n",
       "      <td>1</td>\n",
       "      <td>3</td>\n",
       "      <td>10</td>\n",
       "      <td>NaN</td>\n",
       "    </tr>\n",
       "    <tr>\n",
       "      <th>96</th>\n",
       "      <td>787445</td>\n",
       "      <td>25685</td>\n",
       "      <td>1</td>\n",
       "      <td>6</td>\n",
       "      <td>18</td>\n",
       "      <td>NaN</td>\n",
       "    </tr>\n",
       "    <tr>\n",
       "      <th>100</th>\n",
       "      <td>294410</td>\n",
       "      <td>111449</td>\n",
       "      <td>1</td>\n",
       "      <td>0</td>\n",
       "      <td>19</td>\n",
       "      <td>NaN</td>\n",
       "    </tr>\n",
       "    <tr>\n",
       "      <th>103</th>\n",
       "      <td>2869915</td>\n",
       "      <td>123958</td>\n",
       "      <td>1</td>\n",
       "      <td>4</td>\n",
       "      <td>16</td>\n",
       "      <td>NaN</td>\n",
       "    </tr>\n",
       "    <tr>\n",
       "      <th>104</th>\n",
       "      <td>2521921</td>\n",
       "      <td>42286</td>\n",
       "      <td>1</td>\n",
       "      <td>3</td>\n",
       "      <td>18</td>\n",
       "      <td>NaN</td>\n",
       "    </tr>\n",
       "    <tr>\n",
       "      <th>...</th>\n",
       "      <td>...</td>\n",
       "      <td>...</td>\n",
       "      <td>...</td>\n",
       "      <td>...</td>\n",
       "      <td>...</td>\n",
       "      <td>...</td>\n",
       "    </tr>\n",
       "    <tr>\n",
       "      <th>478895</th>\n",
       "      <td>2589657</td>\n",
       "      <td>205028</td>\n",
       "      <td>1</td>\n",
       "      <td>0</td>\n",
       "      <td>16</td>\n",
       "      <td>NaN</td>\n",
       "    </tr>\n",
       "    <tr>\n",
       "      <th>478896</th>\n",
       "      <td>2222353</td>\n",
       "      <td>141211</td>\n",
       "      <td>1</td>\n",
       "      <td>2</td>\n",
       "      <td>13</td>\n",
       "      <td>NaN</td>\n",
       "    </tr>\n",
       "    <tr>\n",
       "      <th>478922</th>\n",
       "      <td>2272807</td>\n",
       "      <td>204154</td>\n",
       "      <td>1</td>\n",
       "      <td>1</td>\n",
       "      <td>15</td>\n",
       "      <td>NaN</td>\n",
       "    </tr>\n",
       "    <tr>\n",
       "      <th>478926</th>\n",
       "      <td>2499542</td>\n",
       "      <td>68810</td>\n",
       "      <td>1</td>\n",
       "      <td>4</td>\n",
       "      <td>19</td>\n",
       "      <td>NaN</td>\n",
       "    </tr>\n",
       "    <tr>\n",
       "      <th>478945</th>\n",
       "      <td>1387033</td>\n",
       "      <td>22496</td>\n",
       "      <td>1</td>\n",
       "      <td>5</td>\n",
       "      <td>14</td>\n",
       "      <td>NaN</td>\n",
       "    </tr>\n",
       "  </tbody>\n",
       "</table>\n",
       "<p>28817 rows × 6 columns</p>\n",
       "</div>"
      ],
      "text/plain": [
       "        order_id  user_id  order_number  order_dow  order_hour_of_day  \\\n",
       "28        133707   182261             1          3                 10   \n",
       "96        787445    25685             1          6                 18   \n",
       "100       294410   111449             1          0                 19   \n",
       "103      2869915   123958             1          4                 16   \n",
       "104      2521921    42286             1          3                 18   \n",
       "...          ...      ...           ...        ...                ...   \n",
       "478895   2589657   205028             1          0                 16   \n",
       "478896   2222353   141211             1          2                 13   \n",
       "478922   2272807   204154             1          1                 15   \n",
       "478926   2499542    68810             1          4                 19   \n",
       "478945   1387033    22496             1          5                 14   \n",
       "\n",
       "        days_since_prior_order  \n",
       "28                         NaN  \n",
       "96                         NaN  \n",
       "100                        NaN  \n",
       "103                        NaN  \n",
       "104                        NaN  \n",
       "...                        ...  \n",
       "478895                     NaN  \n",
       "478896                     NaN  \n",
       "478922                     NaN  \n",
       "478926                     NaN  \n",
       "478945                     NaN  \n",
       "\n",
       "[28817 rows x 6 columns]"
      ]
     },
     "metadata": {},
     "output_type": "display_data"
    },
    {
     "name": "stdout",
     "output_type": "stream",
     "text": [
      "[1]\n"
     ]
    }
   ],
   "source": [
    "display(instacart[instacart['days_since_prior_order'].isna()])\n",
    "primer_pedido = instacart[instacart['days_since_prior_order'].isna()]\n",
    "print(primer_pedido['order_number'].unique())\n"
   ]
  },
  {
   "cell_type": "markdown",
   "id": "4e23d089",
   "metadata": {
    "id": "4e23d089"
   },
   "source": [
    "Podemos ver que el único valor ausente es el primer pedido."
   ]
  },
  {
   "cell_type": "markdown",
   "id": "69dc9ca4",
   "metadata": {
    "id": "69dc9ca4"
   },
   "source": [
    "**Data frame: `order_products`**"
   ]
  },
  {
   "cell_type": "code",
   "execution_count": 29,
   "id": "b8240253",
   "metadata": {
    "id": "b8240253"
   },
   "outputs": [
    {
     "name": "stdout",
     "output_type": "stream",
     "text": [
      "order_id               0\n",
      "product_id             0\n",
      "add_to_cart_order    836\n",
      "reordered              0\n",
      "dtype: int64\n",
      "\n"
     ]
    }
   ],
   "source": [
    "# Encuentra los valores ausentes\n",
    "print(order.isna().sum())\n",
    "print()\n",
    "#print(order['add_to_cart_order'].value_counts(dropna=False))"
   ]
  },
  {
   "cell_type": "markdown",
   "id": "c36a1a17",
   "metadata": {},
   "source": [
    "**¿Cuáles son los valores mínimos y máximos en esta columna?**"
   ]
  },
  {
   "cell_type": "code",
   "execution_count": 30,
   "id": "9a78e5ee",
   "metadata": {
    "id": "9a78e5ee"
   },
   "outputs": [
    {
     "name": "stdout",
     "output_type": "stream",
     "text": [
      "Valor mínimo: 1.0\n",
      "Valor máximo: 64.0\n"
     ]
    }
   ],
   "source": [
    "min_order = order['add_to_cart_order'].min()\n",
    "print(\"Valor mínimo:\", min_order)\n",
    "max_order = order['add_to_cart_order'].max()\n",
    "print(\"Valor máximo:\", max_order)\n"
   ]
  },
  {
   "cell_type": "markdown",
   "id": "-Z2Ja215jW78",
   "metadata": {
    "id": "-Z2Ja215jW78"
   },
   "source": [
    "Podemos ver que existen 836 valores ausentes en la columna \"add_to_cart_order\". El valor mínimo de esta columna es 1, y el máximo es 64."
   ]
  },
  {
   "cell_type": "markdown",
   "id": "669ff0a4",
   "metadata": {},
   "source": [
    "**Guarda todas las IDs de pedidos que tengan un valor ausente en 'add_to_cart_order'**"
   ]
  },
  {
   "cell_type": "markdown",
   "id": "e9953266",
   "metadata": {},
   "source": [
    "**¿Todos los pedidos con valores ausentes tienen más de 64 productos?**"
   ]
  },
  {
   "cell_type": "code",
   "execution_count": 31,
   "id": "54c31695",
   "metadata": {
    "id": "54c31695"
   },
   "outputs": [
    {
     "ename": "NameError",
     "evalue": "name 'id_pedido' is not defined",
     "output_type": "error",
     "traceback": [
      "\u001b[0;31m---------------------------------------------------------------------------\u001b[0m",
      "\u001b[0;31mNameError\u001b[0m                                 Traceback (most recent call last)",
      "Cell \u001b[0;32mIn[31], line 1\u001b[0m\n\u001b[0;32m----> 1\u001b[0m display(\u001b[43mid_pedido\u001b[49m\u001b[38;5;241m.\u001b[39mvalue_counts())\n\u001b[1;32m      2\u001b[0m \u001b[38;5;28mprint\u001b[39m()\n\u001b[1;32m      3\u001b[0m \u001b[38;5;66;03m# Agrupa todos los pedidos con datos ausentes por su ID de pedido.\u001b[39;00m\n",
      "\u001b[0;31mNameError\u001b[0m: name 'id_pedido' is not defined"
     ]
    }
   ],
   "source": [
    "display(id_pedido.value_counts())\n",
    "print()\n",
    "# Agrupa todos los pedidos con datos ausentes por su ID de pedido.\n",
    "grupo = ausente_pedido.groupby('order_id')\n",
    "\n",
    "# Cuenta el número de 'product_id' en cada pedido y revisa el valor mínimo del conteo.\n",
    "\n",
    "print(\"Valor minimo del conteo: \", grupo['product_id'].count().min())\n"
   ]
  },
  {
   "cell_type": "markdown",
   "id": "p9V6pddtjglj",
   "metadata": {
    "id": "p9V6pddtjglj"
   },
   "source": [
    "Podemos ver que todos los pedidos con valores ausentes tienen menos de 64 productos, siendo su valor mínimo 1 y máximo 63"
   ]
  },
  {
   "cell_type": "code",
   "execution_count": null,
   "id": "7a987d08",
   "metadata": {
    "id": "7a987d08"
   },
   "outputs": [],
   "source": [
    "# Remplaza los valores ausentes en la columna 'add_to_cart? con 999 y convierte la columna al tipo entero.\n",
    "order['add_to_cart_order'] = order['add_to_cart_order'].fillna(value=999)\n",
    "order['add_to_cart_order'] = order['add_to_cart_order'].astype('int')\n",
    "order.info()"
   ]
  },
  {
   "cell_type": "markdown",
   "id": "fea4bcc7",
   "metadata": {
    "id": "fea4bcc7"
   },
   "source": [
    "Anteriormente, verificamos que la columna \"add_to_cart_order\" tiene 836 valores ausentes. Ahora reemplazamos ese valor por \"999\" y cambiamos el tiempo de dato de la columna a entero."
   ]
  },
  {
   "cell_type": "markdown",
   "id": "RnplPFY1gSrb",
   "metadata": {
    "id": "RnplPFY1gSrb"
   },
   "source": [
    "# Conclusiones sobre el paso 2\n",
    "\n",
    "Preprocesamos los datos de las 5 tablas que presenta el caso de estudio. Verificamos y corregimos los tipos de datos de cada columna y que estos tipos sean acorde a la naturzaleza de la columna. Vimos que la columna \"add_to_cart\" estaba definido como tipo de dato string, por lo cual la cambiamos a tipo de dato entero.\n",
    "\n",
    "Luego verificamos los valores ausentes y comprobamos que las columnas \"add_to_cart_order\", \"product_id\" y \"days_since_prior_order\" contenían valores nulos. Completamos los valores ausentes de la columna \"product_id\" con el string \"Unknow\" .Finalmente, identificamos y eliminamos los valores duplicados de nuestras tablas utilizando el metodo duplicated y drop.duplicated.\n"
   ]
  },
  {
   "cell_type": "markdown",
   "id": "UjrOIwTcz3ri",
   "metadata": {
    "id": "UjrOIwTcz3ri"
   },
   "source": [
    "# Paso 3. Análisis de los datos"
   ]
  },
  {
   "cell_type": "markdown",
   "id": "turkish-kidney",
   "metadata": {
    "id": "turkish-kidney"
   },
   "source": [
    "1. Verifica que los valores en las columnas `'order_hour_of_day'` y `'order_dow'` en la tabla orders sean razonables (es decir, `'order_hour_of_day'` oscile entre 0 y 23 y `'order_dow'` oscile entre 0 y 6).\n",
    "2. Crea un gráfico que muestre el número de personas que hacen pedidos dependiendo de la hora del día.\n",
    "3. Crea un gráfico que muestre qué día de la semana la gente hace sus compras.\n",
    "4. Crea un gráfico que muestre el tiempo que la gente espera hasta hacer su siguiente pedido, y comenta sobre los valores mínimos y máximos."
   ]
  },
  {
   "cell_type": "markdown",
   "id": "short-capability",
   "metadata": {
    "id": "short-capability"
   },
   "source": [
    "**Verifica que los valores sean sensibles**"
   ]
  },
  {
   "cell_type": "code",
   "execution_count": null,
   "id": "growing-fruit",
   "metadata": {
    "id": "growing-fruit"
   },
   "outputs": [],
   "source": [
    "print(instacart['order_hour_of_day'].unique())"
   ]
  },
  {
   "cell_type": "code",
   "execution_count": null,
   "id": "accessory-malaysia",
   "metadata": {
    "id": "accessory-malaysia"
   },
   "outputs": [],
   "source": [
    "print(instacart['order_dow'].unique())"
   ]
  },
  {
   "cell_type": "markdown",
   "id": "hmR2GNQ6lCsX",
   "metadata": {
    "id": "hmR2GNQ6lCsX"
   },
   "source": [
    "Al imprimir las columnas de 'order_hour_of_day' y 'order_dow' verificamos que se encuentran entre valores razonables."
   ]
  },
  {
   "cell_type": "markdown",
   "id": "a6743a70",
   "metadata": {
    "id": "a6743a70"
   },
   "source": [
    "**Para cada hora del día, ¿cuántas personas hacen órdenes?**"
   ]
  },
  {
   "cell_type": "code",
   "execution_count": null,
   "id": "a36cca27",
   "metadata": {
    "id": "a36cca27"
   },
   "outputs": [],
   "source": [
    "from matplotlib import pyplot as plt\n",
    "\n",
    "\n",
    "instacart['order_hour_of_day'].value_counts().plot(\n",
    "        kind='bar',\n",
    "        title='Número de ordenes para cada hora del día',\n",
    "        xlabel='Hora',\n",
    "        ylabel='n°personas')\n",
    "\n",
    "\n",
    "plt.show() \n",
    "\n"
   ]
  },
  {
   "cell_type": "markdown",
   "id": "11270eed",
   "metadata": {
    "id": "11270eed"
   },
   "source": [
    "Del grafico, vemos que la Hora donde se produce la mayor cantidad de ordenes es a las 10 am, mientras que el menor número de ordenes se encuentra a las 4 am."
   ]
  },
  {
   "cell_type": "markdown",
   "id": "documented-command",
   "metadata": {
    "id": "documented-command"
   },
   "source": [
    "**¿Qué día de la semana compran víveres las personas?**"
   ]
  },
  {
   "cell_type": "code",
   "execution_count": null,
   "id": "chief-digit",
   "metadata": {
    "id": "chief-digit"
   },
   "outputs": [],
   "source": [
    "instacart['order_dow'].value_counts().plot(\n",
    "        kind='bar',\n",
    "        title='Cantidad de personas que compran víveres para cada día',\n",
    "        xlabel='día de la semana',\n",
    "        ylabel='n°personas')\n",
    "\n",
    "\n",
    "plt.show() "
   ]
  },
  {
   "cell_type": "markdown",
   "id": "dominant-lightning",
   "metadata": {
    "id": "dominant-lightning"
   },
   "source": [
    "Del grafico observamos que el día domingo y lunes más personas compran víveres, mientras que el día jueves se presenta la menor cantidad de personas que compran."
   ]
  },
  {
   "cell_type": "markdown",
   "id": "cutting-concert",
   "metadata": {
    "id": "cutting-concert"
   },
   "source": [
    "**¿Cuánto tiempo esperan las personas hasta hacer otro pedido? Comenta sobre los valores mínimos y máximos.**"
   ]
  },
  {
   "cell_type": "code",
   "execution_count": null,
   "id": "c231f523",
   "metadata": {
    "id": "c231f523"
   },
   "outputs": [],
   "source": [
    "agg_dict_min = {'order_hour_of_day': 'min'}\n",
    "grp = instacart.groupby('user_id')\n",
    "#print(grp.agg(agg_dict_min)) \n",
    "print()\n",
    "agg_dict_max = {'order_hour_of_day': 'max'}\n",
    "grp = instacart.groupby('user_id')\n",
    "#print(grp.agg(agg_dict_max)) \n",
    "#print()\n",
    "print(grp.agg(agg_dict_max) - grp.agg(agg_dict_min))\n",
    "print()\n",
    "print(\"el valor de espera máximo es: \", (grp.agg(agg_dict_max) - grp.agg(agg_dict_min)).max())\n",
    "\n",
    "diferencia = grp.agg(agg_dict_max) - grp.agg(agg_dict_min)\n",
    "\n",
    "diferencia['order_hour_of_day'].value_counts().plot(\n",
    "        kind='bar',\n",
    "        title='Tiempo de espera de las personas',\n",
    "        xlabel='Hora',\n",
    "        ylabel='n°personas')\n",
    "\n",
    "\n",
    "plt.show() \n",
    "\n",
    "\n"
   ]
  },
  {
   "cell_type": "markdown",
   "id": "discrete-vertex",
   "metadata": {
    "id": "discrete-vertex"
   },
   "source": [
    "Del grafico se observa que la mayoría de las personas espera menos de 1 hora hasta hacer su proximo pedido."
   ]
  },
  {
   "cell_type": "markdown",
   "id": "tight-staff",
   "metadata": {
    "id": "tight-staff"
   },
   "source": [
    "1. ¿Existe alguna diferencia entre las distribuciones `'order_hour_of_day'` de los miércoles y los sábados? Traza gráficos de barra de `'order_hour_of_day'` para ambos días en la misma figura y describe las diferencias que observes.\n",
    "2. Grafica la distribución para el número de órdenes que hacen los clientes (es decir, cuántos clientes hicieron solo 1 pedido, cuántos hicieron 2, cuántos 3, y así sucesivamente...).\n",
    "3. ¿Cuáles son los 20 principales productos que se piden con más frecuencia (muestra su identificación y nombre)?"
   ]
  },
  {
   "cell_type": "markdown",
   "id": "packed-classic",
   "metadata": {
    "id": "packed-classic"
   },
   "source": [
    "**Diferencia entre miércoles y sábados para  `'order_hour_of_day'`. Traza gráficos de barra para los dos días y describe las diferencias que veas.**"
   ]
  },
  {
   "cell_type": "code",
   "execution_count": null,
   "id": "d89b8403",
   "metadata": {
    "id": "d89b8403"
   },
   "outputs": [],
   "source": [
    "instacart[instacart['order_dow'] == 3]['order_hour_of_day'].plot(kind='hist', bins=30,title =\"Distribución por hora de miercoles y sábados\",xlabel = \"día de la semana\")\n",
    "instacart[instacart['order_dow'] == 6]['order_hour_of_day'].plot(kind='hist', bins=30, alpha=0.5, xlabel = \"día de la semana\")\n",
    "plt.legend(['Miercoles', 'Sabado']) # leyenda, que sigue el mismo orden trazado anteriormente\n",
    "\n",
    "\n",
    "plt.show() \n",
    "\n"
   ]
  },
  {
   "cell_type": "markdown",
   "id": "e3891143",
   "metadata": {
    "id": "e3891143"
   },
   "source": [
    "**¿Cuál es la distribución para el número de pedidos por cliente?**"
   ]
  },
  {
   "cell_type": "code",
   "execution_count": null,
   "id": "d8c26c23",
   "metadata": {
    "id": "d8c26c23"
   },
   "outputs": [],
   "source": [
    "#print(instacart.groupby('user_id')['order_number'].count().head(20))\n",
    "instacart.groupby('user_id')['order_number'].count().plot(kind='hist', bins=20)\n",
    "\n",
    "plt.show() "
   ]
  },
  {
   "cell_type": "markdown",
   "id": "d2eff7d5",
   "metadata": {
    "id": "d2eff7d5"
   },
   "source": [
    "Del gráfico se observa que la mayoría de los clientes realizan entre 1 y 3 pedidos. La frecuencia de pedidos más baja corresponde alrededor de 25 pedidos."
   ]
  },
  {
   "cell_type": "markdown",
   "id": "54a0319c",
   "metadata": {
    "id": "54a0319c"
   },
   "source": [
    "**¿Cuáles son los 20 productos más populares (muestra su ID y nombre)?**"
   ]
  },
  {
   "cell_type": "code",
   "execution_count": null,
   "id": "exterior-arizona",
   "metadata": {
    "id": "exterior-arizona",
    "scrolled": true
   },
   "outputs": [],
   "source": [
    "agg_dict = {'order_id': 'count'}\n",
    "\n",
    "grp = order.groupby(['product_id'])\n",
    "ranking = grp.agg(agg_dict).sort_values(by='order_id', ascending=False)\n",
    "display(ranking.head(20))\n",
    "print()"
   ]
  },
  {
   "cell_type": "code",
   "execution_count": null,
   "id": "universal-facial",
   "metadata": {
    "id": "universal-facial"
   },
   "outputs": [],
   "source": [
    "handhelds = [24852, 13176,21137,21903,47209,47766,47626,16797,26209,27845,27966,22935,24964,45007,39275,49683,28204,5876,8277,40706]\n",
    "print(products[products['product_id'].isin(handhelds)][['product_id','product_name']])"
   ]
  },
  {
   "cell_type": "markdown",
   "id": "7df00f47",
   "metadata": {
    "id": "7df00f47"
   },
   "source": [
    "Anteriormente se detallaron los 20 productos más populares, destacando de entre ellos los productos orgánicos como \"ORGANIC AVOCADO\", \" ORGANIC GARLIC\", \"ORGANIC FUJI APPLE\" entre otros."
   ]
  },
  {
   "cell_type": "markdown",
   "id": "gross-theme",
   "metadata": {
    "id": "gross-theme"
   },
   "source": [
    "1. ¿Cuántos artículos suelen comprar las personas en un pedido? ¿Cómo es la distribución?\n",
    "2. ¿Cuáles son los 20 principales artículos que vuelven a pedirse con mayor frecuencia (muestra sus nombres e IDs de los productos)?\n",
    "3. Para cada producto, ¿cuál es la tasa de repetición del pedido (número de repeticiones de pedido/total de pedidos?\n",
    "4. Para cada cliente, ¿qué proporción de los productos que pidió ya los había pedido? Calcula la tasa de repetición de pedido para cada usuario en lugar de para cada producto.\n",
    "5. ¿Cuáles son los 20 principales artículos que la gente pone primero en sus carritos (muestra las IDs de los productos, sus nombres, y el número de veces en que fueron el primer artículo en añadirse al carrito)?"
   ]
  },
  {
   "cell_type": "markdown",
   "id": "romantic-deposit",
   "metadata": {
    "id": "romantic-deposit"
   },
   "source": [
    "**¿Cuántos artículos compran normalmente las personas en un pedido? ¿Cómo es la distribución?**"
   ]
  },
  {
   "cell_type": "code",
   "execution_count": null,
   "id": "virtual-punch",
   "metadata": {
    "id": "virtual-punch"
   },
   "outputs": [],
   "source": [
    "#print(order.groupby('order_id')['product_id'].count().head(20))\n",
    "order.groupby('order_id')['product_id'].count().plot(kind='hist', bins=20)\n",
    "\n",
    "plt.show() "
   ]
  },
  {
   "cell_type": "markdown",
   "id": "designed-mortality",
   "metadata": {
    "id": "designed-mortality"
   },
   "source": [
    "Del gráfico se observa que la cantidad de artículos que compran las personas mayoritariamente van entre 0 y 20 articulos."
   ]
  },
  {
   "cell_type": "markdown",
   "id": "5e6b5537",
   "metadata": {
    "id": "5e6b5537"
   },
   "source": [
    "**¿Cuáles son los 20 principales artículos que vuelven a pedirse con mayor frecuencia (muestra sus nombres e IDs de los productos)?**"
   ]
  },
  {
   "cell_type": "code",
   "execution_count": null,
   "id": "9374e55a",
   "metadata": {
    "id": "9374e55a"
   },
   "outputs": [],
   "source": [
    "agg_dict_2 = {'reordered': 'sum'}\n",
    "\n",
    "grp_2 = order.groupby(['product_id'])\n",
    "ranking_2 = grp_2.agg(agg_dict_2).sort_values(by='reordered', ascending=False)\n",
    "display(ranking_2.head(20))\n",
    "print()"
   ]
  },
  {
   "cell_type": "code",
   "execution_count": null,
   "id": "possible-change",
   "metadata": {
    "id": "possible-change",
    "scrolled": true
   },
   "outputs": [],
   "source": [
    "handhelds_2 = [24852, 13176,21137,21903,47209,47766,27845,47626,27966,16797,26209,22935,24964,45007,49683,28204,8277,39275,5876,49235]\n",
    "display(products[products['product_id'].isin(handhelds)][['product_id','product_name']])"
   ]
  },
  {
   "cell_type": "markdown",
   "id": "80e70c74",
   "metadata": {
    "id": "80e70c74"
   },
   "source": [
    "Anteriormente se detallaron los 20 productos que vuelven a pedirse con mayor frecuencia, destacando de entre ellos los productos orgánicos como \"ORGANIC AVOCADO\", \"  ORGANIC WHOLE MILK\", \"ORGANIC ZUCCHINI\" entre otros."
   ]
  },
  {
   "cell_type": "markdown",
   "id": "9d312b14",
   "metadata": {
    "id": "9d312b14"
   },
   "source": [
    "**Para cada producto, ¿cuál es la proporción de las veces que se pide y que se vuelve a pedir?**"
   ]
  },
  {
   "cell_type": "code",
   "execution_count": null,
   "id": "8ae9f4b1",
   "metadata": {
    "id": "8ae9f4b1"
   },
   "outputs": [],
   "source": [
    "#Cantidad total de productos por orden\n",
    "agg_dict = {'order_id': 'count'}\n",
    "\n",
    "grp_3 = order.groupby(['product_id'])\n",
    "prop_1 = grp_3.agg(agg_dict)\n",
    "display(prop_1)\n",
    "print()"
   ]
  },
  {
   "cell_type": "code",
   "execution_count": null,
   "id": "103e7fe1",
   "metadata": {
    "id": "103e7fe1"
   },
   "outputs": [],
   "source": [
    "#articulos que vuelvena pedirse\n",
    "agg_dict_2 = {'reordered': 'sum'}\n",
    "\n",
    "grp_4 = order.groupby(['product_id'])\n",
    "prop_2 = grp_4.agg(agg_dict_2)\n",
    "display(prop_2)\n",
    "print()"
   ]
  },
  {
   "cell_type": "code",
   "execution_count": null,
   "id": "social-individual",
   "metadata": {
    "id": "social-individual"
   },
   "outputs": [],
   "source": [
    "df_concat = pd.concat([prop_1, prop_2], axis='columns')\n",
    "df_concat['proporcion'] = df_concat['reordered']/df_concat['order_id']\n",
    "display(df_concat)\n",
    "\n"
   ]
  },
  {
   "cell_type": "markdown",
   "id": "subject-boxing",
   "metadata": {
    "id": "subject-boxing"
   },
   "source": [
    "**Para cada cliente, ¿qué proporción de sus productos ya los había pedido?**"
   ]
  },
  {
   "cell_type": "code",
   "execution_count": null,
   "id": "medical-couple",
   "metadata": {
    "id": "medical-couple",
    "scrolled": true
   },
   "outputs": [],
   "source": [
    "agg_dict_4 = {'order_id': 'count'}\n",
    "\n",
    "grp_4 = instacart.groupby(['user_id'])\n",
    "prop_3 = grp_4.agg(agg_dict_4)\n",
    "display(prop_3)\n",
    "print()"
   ]
  },
  {
   "cell_type": "markdown",
   "id": "92d35137",
   "metadata": {
    "id": "92d35137"
   },
   "source": [
    "**¿Cuáles son los 20 principales artículos que las personas ponen primero en sus carritos?**"
   ]
  },
  {
   "cell_type": "code",
   "execution_count": null,
   "id": "0ae57274",
   "metadata": {
    "id": "0ae57274",
    "scrolled": true
   },
   "outputs": [],
   "source": [
    "#En la columna 'add_to_cart_order' filtramos todos los valores 1\n",
    "carrito = order[order['add_to_cart_order'] == 1]\n",
    "display(carrito)\n",
    "\n"
   ]
  },
  {
   "cell_type": "code",
   "execution_count": null,
   "id": "forty-netherlands",
   "metadata": {
    "id": "forty-netherlands",
    "scrolled": true
   },
   "outputs": [],
   "source": [
    "agg_dict_5 = {'add_to_cart_order': 'sum'}\n",
    "secuencia = carrito.groupby('product_id').agg(agg_dict_5)\n",
    "display(secuencia.sort_values(by='add_to_cart_order', ascending=False).head(20))"
   ]
  },
  {
   "cell_type": "code",
   "execution_count": null,
   "id": "08e41ec2",
   "metadata": {
    "id": "08e41ec2"
   },
   "outputs": [],
   "source": [
    "handhelds_3 = [24852, 13176,27845,21137,47209,21903,47766,19660,16797,27966,44632,49235,47626,196,38689,26209,12341,5785,27086,43352]\n",
    "display(products[products['product_id'].isin(handhelds_3)][['product_id','product_name']])"
   ]
  },
  {
   "cell_type": "markdown",
   "id": "28ce9872",
   "metadata": {
    "id": "28ce9872"
   },
   "source": [
    "Escribe aquí tus conclusiones\n",
    "Los articlulos que las perosnas eligen en primer lugar se detallan en la tabla creada."
   ]
  },
  {
   "cell_type": "markdown",
   "id": "uITbFCEoDosC",
   "metadata": {
    "id": "uITbFCEoDosC"
   },
   "source": [
    "# Conclusion general del proyecto\n",
    "\n",
    "Preprocesamos los datos de las 5 tablas que presenta el caso de estudio. Verificamos y corregimos los tipos de datos de cada columna y que estos tipos sean acorde a la naturzaleza de la columna. Vimos que la columna \"add_to_cart\" estaba definido como tipo de dato string, por lo cual la cambiamos a tipo de dato a entero.\n",
    "\n",
    "Luego verificamos los valores ausentes y comprobamos que las columnas \"add_to_cart_order\", \"product_id\" y \"days_since_prior_order\" contenían valores nulos. Completamos los valores ausentes de la columna \"product_id\" con el string \"Unknow\" .Finalmente, identificamos y eliminamos los valores duplicados de nuestras tablas utilizando el metodo duplicated y drop.duplicated...\n"
   ]
  }
 ],
 "metadata": {
  "ExecuteTimeLog": [
   {
    "duration": 160,
    "start_time": "2024-12-10T22:53:55.345Z"
   },
   {
    "duration": 2136,
    "start_time": "2024-12-10T22:54:07.343Z"
   },
   {
    "duration": 1022,
    "start_time": "2024-12-10T22:54:09.482Z"
   },
   {
    "duration": 12,
    "start_time": "2024-12-10T22:54:10.505Z"
   },
   {
    "duration": 9,
    "start_time": "2024-12-10T22:54:10.519Z"
   },
   {
    "duration": 8,
    "start_time": "2024-12-10T22:54:10.529Z"
   },
   {
    "duration": 32,
    "start_time": "2024-12-10T22:54:10.539Z"
   },
   {
    "duration": 22,
    "start_time": "2024-12-10T22:54:10.574Z"
   },
   {
    "duration": 192,
    "start_time": "2024-12-10T22:54:10.598Z"
   },
   {
    "duration": 11,
    "start_time": "2024-12-10T22:54:10.792Z"
   },
   {
    "duration": 100,
    "start_time": "2024-12-10T22:54:10.805Z"
   },
   {
    "duration": 89,
    "start_time": "2024-12-10T22:54:10.906Z"
   },
   {
    "duration": 45,
    "start_time": "2024-12-10T22:54:10.997Z"
   },
   {
    "duration": 26,
    "start_time": "2024-12-10T22:54:11.044Z"
   },
   {
    "duration": 5,
    "start_time": "2024-12-10T22:54:11.071Z"
   },
   {
    "duration": 19,
    "start_time": "2024-12-10T22:54:11.077Z"
   },
   {
    "duration": 6,
    "start_time": "2024-12-10T22:54:11.098Z"
   },
   {
    "duration": 4,
    "start_time": "2024-12-10T22:54:11.106Z"
   },
   {
    "duration": 4,
    "start_time": "2024-12-10T22:54:11.111Z"
   },
   {
    "duration": 3,
    "start_time": "2024-12-10T22:54:11.117Z"
   },
   {
    "duration": 3,
    "start_time": "2024-12-10T22:54:11.122Z"
   },
   {
    "duration": 798,
    "start_time": "2024-12-10T22:54:11.169Z"
   },
   {
    "duration": 72,
    "start_time": "2024-12-10T22:54:11.968Z"
   },
   {
    "duration": 36,
    "start_time": "2024-12-10T22:54:12.041Z"
   },
   {
    "duration": 14,
    "start_time": "2024-12-10T22:54:12.078Z"
   },
   {
    "duration": 5,
    "start_time": "2024-12-10T22:54:12.093Z"
   },
   {
    "duration": 10,
    "start_time": "2024-12-10T22:54:12.100Z"
   },
   {
    "duration": 8,
    "start_time": "2024-12-10T22:54:12.111Z"
   },
   {
    "duration": 6,
    "start_time": "2024-12-10T22:54:12.123Z"
   },
   {
    "duration": 14,
    "start_time": "2024-12-10T22:54:12.170Z"
   },
   {
    "duration": 14,
    "start_time": "2024-12-10T22:54:12.186Z"
   },
   {
    "duration": 30,
    "start_time": "2024-12-10T22:54:12.202Z"
   },
   {
    "duration": 48,
    "start_time": "2024-12-10T22:54:12.233Z"
   },
   {
    "duration": 7,
    "start_time": "2024-12-10T22:54:12.282Z"
   },
   {
    "duration": 45,
    "start_time": "2024-12-10T22:54:12.291Z"
   },
   {
    "duration": 30,
    "start_time": "2024-12-10T22:54:12.340Z"
   },
   {
    "duration": 4,
    "start_time": "2024-12-10T22:54:12.374Z"
   },
   {
    "duration": 203,
    "start_time": "2024-12-10T22:54:12.380Z"
   },
   {
    "duration": 119,
    "start_time": "2024-12-10T22:54:12.585Z"
   },
   {
    "duration": 287,
    "start_time": "2024-12-10T22:54:12.706Z"
   },
   {
    "duration": 196,
    "start_time": "2024-12-10T22:54:12.994Z"
   },
   {
    "duration": 145,
    "start_time": "2024-12-10T22:54:13.191Z"
   },
   {
    "duration": 115,
    "start_time": "2024-12-10T22:54:13.338Z"
   },
   {
    "duration": 19,
    "start_time": "2024-12-10T22:54:13.455Z"
   },
   {
    "duration": 396,
    "start_time": "2024-12-10T22:54:13.475Z"
   },
   {
    "duration": 116,
    "start_time": "2024-12-10T22:54:13.873Z"
   },
   {
    "duration": 7,
    "start_time": "2024-12-10T22:54:13.991Z"
   },
   {
    "duration": 108,
    "start_time": "2024-12-10T22:54:13.999Z"
   },
   {
    "duration": 109,
    "start_time": "2024-12-10T22:54:14.109Z"
   },
   {
    "duration": 10,
    "start_time": "2024-12-10T22:54:14.220Z"
   },
   {
    "duration": 57,
    "start_time": "2024-12-10T22:54:14.231Z"
   },
   {
    "duration": 81,
    "start_time": "2024-12-10T22:54:14.290Z"
   },
   {
    "duration": 20,
    "start_time": "2024-12-10T22:54:14.373Z"
   },
   {
    "duration": 7,
    "start_time": "2024-12-10T22:54:14.395Z"
   },
   {
    "duration": 773,
    "start_time": "2024-12-10T22:58:01.112Z"
   },
   {
    "duration": 74,
    "start_time": "2024-12-10T22:58:02.178Z"
   },
   {
    "duration": 6,
    "start_time": "2024-12-10T23:03:02.685Z"
   },
   {
    "duration": 5,
    "start_time": "2024-12-10T23:03:21.542Z"
   },
   {
    "duration": 10,
    "start_time": "2024-12-10T23:03:59.285Z"
   },
   {
    "duration": 8,
    "start_time": "2024-12-10T23:04:28.444Z"
   },
   {
    "duration": 15,
    "start_time": "2024-12-10T23:05:51.742Z"
   },
   {
    "duration": 9,
    "start_time": "2024-12-10T23:07:03.298Z"
   },
   {
    "duration": 52,
    "start_time": "2024-12-10T23:08:41.461Z"
   },
   {
    "duration": 6,
    "start_time": "2024-12-10T23:10:24.445Z"
   },
   {
    "duration": 5,
    "start_time": "2024-12-10T23:10:25.333Z"
   },
   {
    "duration": 178,
    "start_time": "2024-12-10T23:10:36.926Z"
   },
   {
    "duration": 38,
    "start_time": "2024-12-10T23:15:33.030Z"
   },
   {
    "duration": 404,
    "start_time": "2024-12-10T23:16:43.645Z"
   },
   {
    "duration": 914,
    "start_time": "2024-12-10T23:16:44.051Z"
   },
   {
    "duration": 11,
    "start_time": "2024-12-10T23:16:44.966Z"
   },
   {
    "duration": 9,
    "start_time": "2024-12-10T23:16:44.980Z"
   },
   {
    "duration": 7,
    "start_time": "2024-12-10T23:16:44.991Z"
   },
   {
    "duration": 8,
    "start_time": "2024-12-10T23:16:44.999Z"
   },
   {
    "duration": 21,
    "start_time": "2024-12-10T23:16:45.009Z"
   },
   {
    "duration": 211,
    "start_time": "2024-12-10T23:16:45.032Z"
   },
   {
    "duration": 11,
    "start_time": "2024-12-10T23:16:45.245Z"
   },
   {
    "duration": 98,
    "start_time": "2024-12-10T23:16:45.272Z"
   },
   {
    "duration": 83,
    "start_time": "2024-12-10T23:16:45.371Z"
   },
   {
    "duration": 53,
    "start_time": "2024-12-10T23:16:45.455Z"
   },
   {
    "duration": 12,
    "start_time": "2024-12-10T23:16:45.510Z"
   },
   {
    "duration": 4,
    "start_time": "2024-12-10T23:16:45.524Z"
   },
   {
    "duration": 44,
    "start_time": "2024-12-10T23:16:45.530Z"
   },
   {
    "duration": 6,
    "start_time": "2024-12-10T23:16:45.577Z"
   },
   {
    "duration": 3,
    "start_time": "2024-12-10T23:16:45.585Z"
   },
   {
    "duration": 3,
    "start_time": "2024-12-10T23:16:45.590Z"
   },
   {
    "duration": 3,
    "start_time": "2024-12-10T23:16:45.595Z"
   },
   {
    "duration": 12,
    "start_time": "2024-12-10T23:16:45.601Z"
   },
   {
    "duration": 814,
    "start_time": "2024-12-10T23:16:45.615Z"
   },
   {
    "duration": 79,
    "start_time": "2024-12-10T23:16:46.431Z"
   },
   {
    "duration": 25,
    "start_time": "2024-12-10T23:16:46.511Z"
   },
   {
    "duration": 34,
    "start_time": "2024-12-10T23:16:46.538Z"
   },
   {
    "duration": 7,
    "start_time": "2024-12-10T23:16:46.575Z"
   },
   {
    "duration": 9,
    "start_time": "2024-12-10T23:16:46.583Z"
   },
   {
    "duration": 7,
    "start_time": "2024-12-10T23:16:46.594Z"
   },
   {
    "duration": 14,
    "start_time": "2024-12-10T23:16:46.606Z"
   },
   {
    "duration": 49,
    "start_time": "2024-12-10T23:16:46.621Z"
   },
   {
    "duration": 31,
    "start_time": "2024-12-10T23:16:46.672Z"
   },
   {
    "duration": 195,
    "start_time": "2024-12-10T23:16:46.704Z"
   },
   {
    "duration": 0,
    "start_time": "2024-12-10T23:16:46.901Z"
   },
   {
    "duration": 0,
    "start_time": "2024-12-10T23:16:46.902Z"
   },
   {
    "duration": 0,
    "start_time": "2024-12-10T23:16:46.903Z"
   },
   {
    "duration": 0,
    "start_time": "2024-12-10T23:16:46.904Z"
   },
   {
    "duration": 0,
    "start_time": "2024-12-10T23:16:46.905Z"
   },
   {
    "duration": 0,
    "start_time": "2024-12-10T23:16:46.906Z"
   },
   {
    "duration": 0,
    "start_time": "2024-12-10T23:16:46.908Z"
   },
   {
    "duration": 0,
    "start_time": "2024-12-10T23:16:46.909Z"
   },
   {
    "duration": 0,
    "start_time": "2024-12-10T23:16:46.911Z"
   },
   {
    "duration": 0,
    "start_time": "2024-12-10T23:16:46.913Z"
   },
   {
    "duration": 0,
    "start_time": "2024-12-10T23:16:46.914Z"
   },
   {
    "duration": 0,
    "start_time": "2024-12-10T23:16:46.915Z"
   },
   {
    "duration": 0,
    "start_time": "2024-12-10T23:16:46.917Z"
   },
   {
    "duration": 0,
    "start_time": "2024-12-10T23:16:46.918Z"
   },
   {
    "duration": 0,
    "start_time": "2024-12-10T23:16:46.919Z"
   },
   {
    "duration": 0,
    "start_time": "2024-12-10T23:16:46.921Z"
   },
   {
    "duration": 0,
    "start_time": "2024-12-10T23:16:46.922Z"
   },
   {
    "duration": 0,
    "start_time": "2024-12-10T23:16:46.924Z"
   },
   {
    "duration": 0,
    "start_time": "2024-12-10T23:16:46.925Z"
   },
   {
    "duration": 0,
    "start_time": "2024-12-10T23:16:46.970Z"
   }
  ],
  "colab": {
   "provenance": []
  },
  "kernelspec": {
   "display_name": "Python 3 (ipykernel)",
   "language": "python",
   "name": "python3"
  },
  "language_info": {
   "codemirror_mode": {
    "name": "ipython",
    "version": 3
   },
   "file_extension": ".py",
   "mimetype": "text/x-python",
   "name": "python",
   "nbconvert_exporter": "python",
   "pygments_lexer": "ipython3",
   "version": "3.9.19"
  },
  "toc": {
   "base_numbering": 1,
   "nav_menu": {},
   "number_sections": true,
   "sideBar": true,
   "skip_h1_title": true,
   "title_cell": "Table of Contents",
   "title_sidebar": "Contents",
   "toc_cell": false,
   "toc_position": {},
   "toc_section_display": true,
   "toc_window_display": false
  },
  "vscode": {
   "interpreter": {
    "hash": "01a7be9ec63e704a62cefc5fe7a4756944464ee731be31632bdf42a4cb4688cf"
   }
  }
 },
 "nbformat": 4,
 "nbformat_minor": 5
}
