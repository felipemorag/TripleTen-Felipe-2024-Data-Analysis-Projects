{
 "cells": [
  {
   "cell_type": "markdown",
   "metadata": {
    "tags": [
     "e5c1f0c2-db9f-43a0-99b9-4875c52427e8"
    ]
   },
   "source": [
    "# Descripción del proyecto \n",
    "\n",
    "Se trabaja para la tienda online Ice que vende videojuegos por todo el mundo. Las reseñas de usuarios y expertos, los géneros, las plataformas (por ejemplo, Xbox o PlayStation) y los datos históricos sobre las ventas de juegos están disponibles en fuentes abiertas. Se deben identificar patrones que determinen si un juego tiene éxito o no. Esto permitirá detectar proyectos prometedores y planificar campañas publicitarias.\n",
    "\n",
    "En el desarrollo de este proyecto hay datos que se remontan a 2016. Trabajaremos sobre la base que es diciembre de 2016 y se está planeando una campaña para 2017.\n",
    "\n",
    "El dataset contiene una columna \"rating\" que almacena la clasificación ESRB de cada juego. El Entertainment Software Rating Board (la Junta de clasificación de software de entretenimiento) evalúa el contenido de un juego y asigna una clasificación de edad como Adolescente o Adulto.\n",
    "\n",
    "El proyecto abordará 3 etapas principales:\n",
    "\n",
    "En la etapa 1, proporcionará una descripción general de los tipos de datos y tratamiento de los valores ausentes del archivo \"games.csv\". En la etapa 2 se analizarán las ventas de cada videojuego por plataforma, género y región. Finalmente, en la etapa 3,  se realizará un test de hipotesis siguiendo los pasos de programación necesarios para probar si las calificaciones promedio de los usuarios varían para ciertos géneros y plataformas."
   ]
  },
  {
   "cell_type": "markdown",
   "metadata": {},
   "source": [
    "## Desarrollo del proyecto"
   ]
  },
  {
   "cell_type": "markdown",
   "metadata": {},
   "source": [
    "### Inicialización"
   ]
  },
  {
   "cell_type": "code",
   "execution_count": 1,
   "metadata": {},
   "outputs": [],
   "source": [
    "#Cargar todas las librerías\n",
    "import pandas as pd\n",
    "from matplotlib import pyplot as plt\n",
    "from scipy import stats as st\n",
    "import numpy as np\n",
    "import seaborn as sns \n"
   ]
  },
  {
   "cell_type": "markdown",
   "metadata": {},
   "source": [
    "### Abrir el archivo y estudiar la información general"
   ]
  },
  {
   "cell_type": "code",
   "execution_count": 2,
   "metadata": {},
   "outputs": [],
   "source": [
    "games = pd.read_csv('/datasets/games.csv')"
   ]
  },
  {
   "cell_type": "markdown",
   "metadata": {},
   "source": [
    "### Preparar los datos"
   ]
  },
  {
   "cell_type": "markdown",
   "metadata": {},
   "source": [
    "#### Información general del dataframa en estudio"
   ]
  },
  {
   "cell_type": "code",
   "execution_count": 3,
   "metadata": {},
   "outputs": [
    {
     "name": "stdout",
     "output_type": "stream",
     "text": [
      "<class 'pandas.core.frame.DataFrame'>\n",
      "RangeIndex: 16715 entries, 0 to 16714\n",
      "Data columns (total 11 columns):\n",
      " #   Column           Non-Null Count  Dtype  \n",
      "---  ------           --------------  -----  \n",
      " 0   Name             16713 non-null  object \n",
      " 1   Platform         16715 non-null  object \n",
      " 2   Year_of_Release  16446 non-null  float64\n",
      " 3   Genre            16713 non-null  object \n",
      " 4   NA_sales         16715 non-null  float64\n",
      " 5   EU_sales         16715 non-null  float64\n",
      " 6   JP_sales         16715 non-null  float64\n",
      " 7   Other_sales      16715 non-null  float64\n",
      " 8   Critic_Score     8137 non-null   float64\n",
      " 9   User_Score       10014 non-null  object \n",
      " 10  Rating           9949 non-null   object \n",
      "dtypes: float64(6), object(5)\n",
      "memory usage: 1.4+ MB\n"
     ]
    }
   ],
   "source": [
    "#Información general de las llamadas\n",
    "games.info()"
   ]
  },
  {
   "cell_type": "code",
   "execution_count": 4,
   "metadata": {},
   "outputs": [
    {
     "data": {
      "text/html": [
       "<div>\n",
       "<style scoped>\n",
       "    .dataframe tbody tr th:only-of-type {\n",
       "        vertical-align: middle;\n",
       "    }\n",
       "\n",
       "    .dataframe tbody tr th {\n",
       "        vertical-align: top;\n",
       "    }\n",
       "\n",
       "    .dataframe thead th {\n",
       "        text-align: right;\n",
       "    }\n",
       "</style>\n",
       "<table border=\"1\" class=\"dataframe\">\n",
       "  <thead>\n",
       "    <tr style=\"text-align: right;\">\n",
       "      <th></th>\n",
       "      <th>Name</th>\n",
       "      <th>Platform</th>\n",
       "      <th>Year_of_Release</th>\n",
       "      <th>Genre</th>\n",
       "      <th>NA_sales</th>\n",
       "      <th>EU_sales</th>\n",
       "      <th>JP_sales</th>\n",
       "      <th>Other_sales</th>\n",
       "      <th>Critic_Score</th>\n",
       "      <th>User_Score</th>\n",
       "      <th>Rating</th>\n",
       "    </tr>\n",
       "  </thead>\n",
       "  <tbody>\n",
       "    <tr>\n",
       "      <th>0</th>\n",
       "      <td>Wii Sports</td>\n",
       "      <td>Wii</td>\n",
       "      <td>2006.0</td>\n",
       "      <td>Sports</td>\n",
       "      <td>41.36</td>\n",
       "      <td>28.96</td>\n",
       "      <td>3.77</td>\n",
       "      <td>8.45</td>\n",
       "      <td>76.0</td>\n",
       "      <td>8</td>\n",
       "      <td>E</td>\n",
       "    </tr>\n",
       "    <tr>\n",
       "      <th>1</th>\n",
       "      <td>Super Mario Bros.</td>\n",
       "      <td>NES</td>\n",
       "      <td>1985.0</td>\n",
       "      <td>Platform</td>\n",
       "      <td>29.08</td>\n",
       "      <td>3.58</td>\n",
       "      <td>6.81</td>\n",
       "      <td>0.77</td>\n",
       "      <td>NaN</td>\n",
       "      <td>NaN</td>\n",
       "      <td>NaN</td>\n",
       "    </tr>\n",
       "    <tr>\n",
       "      <th>2</th>\n",
       "      <td>Mario Kart Wii</td>\n",
       "      <td>Wii</td>\n",
       "      <td>2008.0</td>\n",
       "      <td>Racing</td>\n",
       "      <td>15.68</td>\n",
       "      <td>12.76</td>\n",
       "      <td>3.79</td>\n",
       "      <td>3.29</td>\n",
       "      <td>82.0</td>\n",
       "      <td>8.3</td>\n",
       "      <td>E</td>\n",
       "    </tr>\n",
       "    <tr>\n",
       "      <th>3</th>\n",
       "      <td>Wii Sports Resort</td>\n",
       "      <td>Wii</td>\n",
       "      <td>2009.0</td>\n",
       "      <td>Sports</td>\n",
       "      <td>15.61</td>\n",
       "      <td>10.93</td>\n",
       "      <td>3.28</td>\n",
       "      <td>2.95</td>\n",
       "      <td>80.0</td>\n",
       "      <td>8</td>\n",
       "      <td>E</td>\n",
       "    </tr>\n",
       "    <tr>\n",
       "      <th>4</th>\n",
       "      <td>Pokemon Red/Pokemon Blue</td>\n",
       "      <td>GB</td>\n",
       "      <td>1996.0</td>\n",
       "      <td>Role-Playing</td>\n",
       "      <td>11.27</td>\n",
       "      <td>8.89</td>\n",
       "      <td>10.22</td>\n",
       "      <td>1.00</td>\n",
       "      <td>NaN</td>\n",
       "      <td>NaN</td>\n",
       "      <td>NaN</td>\n",
       "    </tr>\n",
       "    <tr>\n",
       "      <th>5</th>\n",
       "      <td>Tetris</td>\n",
       "      <td>GB</td>\n",
       "      <td>1989.0</td>\n",
       "      <td>Puzzle</td>\n",
       "      <td>23.20</td>\n",
       "      <td>2.26</td>\n",
       "      <td>4.22</td>\n",
       "      <td>0.58</td>\n",
       "      <td>NaN</td>\n",
       "      <td>NaN</td>\n",
       "      <td>NaN</td>\n",
       "    </tr>\n",
       "    <tr>\n",
       "      <th>6</th>\n",
       "      <td>New Super Mario Bros.</td>\n",
       "      <td>DS</td>\n",
       "      <td>2006.0</td>\n",
       "      <td>Platform</td>\n",
       "      <td>11.28</td>\n",
       "      <td>9.14</td>\n",
       "      <td>6.50</td>\n",
       "      <td>2.88</td>\n",
       "      <td>89.0</td>\n",
       "      <td>8.5</td>\n",
       "      <td>E</td>\n",
       "    </tr>\n",
       "    <tr>\n",
       "      <th>7</th>\n",
       "      <td>Wii Play</td>\n",
       "      <td>Wii</td>\n",
       "      <td>2006.0</td>\n",
       "      <td>Misc</td>\n",
       "      <td>13.96</td>\n",
       "      <td>9.18</td>\n",
       "      <td>2.93</td>\n",
       "      <td>2.84</td>\n",
       "      <td>58.0</td>\n",
       "      <td>6.6</td>\n",
       "      <td>E</td>\n",
       "    </tr>\n",
       "    <tr>\n",
       "      <th>8</th>\n",
       "      <td>New Super Mario Bros. Wii</td>\n",
       "      <td>Wii</td>\n",
       "      <td>2009.0</td>\n",
       "      <td>Platform</td>\n",
       "      <td>14.44</td>\n",
       "      <td>6.94</td>\n",
       "      <td>4.70</td>\n",
       "      <td>2.24</td>\n",
       "      <td>87.0</td>\n",
       "      <td>8.4</td>\n",
       "      <td>E</td>\n",
       "    </tr>\n",
       "    <tr>\n",
       "      <th>9</th>\n",
       "      <td>Duck Hunt</td>\n",
       "      <td>NES</td>\n",
       "      <td>1984.0</td>\n",
       "      <td>Shooter</td>\n",
       "      <td>26.93</td>\n",
       "      <td>0.63</td>\n",
       "      <td>0.28</td>\n",
       "      <td>0.47</td>\n",
       "      <td>NaN</td>\n",
       "      <td>NaN</td>\n",
       "      <td>NaN</td>\n",
       "    </tr>\n",
       "    <tr>\n",
       "      <th>10</th>\n",
       "      <td>Nintendogs</td>\n",
       "      <td>DS</td>\n",
       "      <td>2005.0</td>\n",
       "      <td>Simulation</td>\n",
       "      <td>9.05</td>\n",
       "      <td>10.95</td>\n",
       "      <td>1.93</td>\n",
       "      <td>2.74</td>\n",
       "      <td>NaN</td>\n",
       "      <td>NaN</td>\n",
       "      <td>NaN</td>\n",
       "    </tr>\n",
       "    <tr>\n",
       "      <th>11</th>\n",
       "      <td>Mario Kart DS</td>\n",
       "      <td>DS</td>\n",
       "      <td>2005.0</td>\n",
       "      <td>Racing</td>\n",
       "      <td>9.71</td>\n",
       "      <td>7.47</td>\n",
       "      <td>4.13</td>\n",
       "      <td>1.90</td>\n",
       "      <td>91.0</td>\n",
       "      <td>8.6</td>\n",
       "      <td>E</td>\n",
       "    </tr>\n",
       "    <tr>\n",
       "      <th>12</th>\n",
       "      <td>Pokemon Gold/Pokemon Silver</td>\n",
       "      <td>GB</td>\n",
       "      <td>1999.0</td>\n",
       "      <td>Role-Playing</td>\n",
       "      <td>9.00</td>\n",
       "      <td>6.18</td>\n",
       "      <td>7.20</td>\n",
       "      <td>0.71</td>\n",
       "      <td>NaN</td>\n",
       "      <td>NaN</td>\n",
       "      <td>NaN</td>\n",
       "    </tr>\n",
       "    <tr>\n",
       "      <th>13</th>\n",
       "      <td>Wii Fit</td>\n",
       "      <td>Wii</td>\n",
       "      <td>2007.0</td>\n",
       "      <td>Sports</td>\n",
       "      <td>8.92</td>\n",
       "      <td>8.03</td>\n",
       "      <td>3.60</td>\n",
       "      <td>2.15</td>\n",
       "      <td>80.0</td>\n",
       "      <td>7.7</td>\n",
       "      <td>E</td>\n",
       "    </tr>\n",
       "    <tr>\n",
       "      <th>14</th>\n",
       "      <td>Kinect Adventures!</td>\n",
       "      <td>X360</td>\n",
       "      <td>2010.0</td>\n",
       "      <td>Misc</td>\n",
       "      <td>15.00</td>\n",
       "      <td>4.89</td>\n",
       "      <td>0.24</td>\n",
       "      <td>1.69</td>\n",
       "      <td>61.0</td>\n",
       "      <td>6.3</td>\n",
       "      <td>E</td>\n",
       "    </tr>\n",
       "    <tr>\n",
       "      <th>15</th>\n",
       "      <td>Wii Fit Plus</td>\n",
       "      <td>Wii</td>\n",
       "      <td>2009.0</td>\n",
       "      <td>Sports</td>\n",
       "      <td>9.01</td>\n",
       "      <td>8.49</td>\n",
       "      <td>2.53</td>\n",
       "      <td>1.77</td>\n",
       "      <td>80.0</td>\n",
       "      <td>7.4</td>\n",
       "      <td>E</td>\n",
       "    </tr>\n",
       "    <tr>\n",
       "      <th>16</th>\n",
       "      <td>Grand Theft Auto V</td>\n",
       "      <td>PS3</td>\n",
       "      <td>2013.0</td>\n",
       "      <td>Action</td>\n",
       "      <td>7.02</td>\n",
       "      <td>9.09</td>\n",
       "      <td>0.98</td>\n",
       "      <td>3.96</td>\n",
       "      <td>97.0</td>\n",
       "      <td>8.2</td>\n",
       "      <td>M</td>\n",
       "    </tr>\n",
       "    <tr>\n",
       "      <th>17</th>\n",
       "      <td>Grand Theft Auto: San Andreas</td>\n",
       "      <td>PS2</td>\n",
       "      <td>2004.0</td>\n",
       "      <td>Action</td>\n",
       "      <td>9.43</td>\n",
       "      <td>0.40</td>\n",
       "      <td>0.41</td>\n",
       "      <td>10.57</td>\n",
       "      <td>95.0</td>\n",
       "      <td>9</td>\n",
       "      <td>M</td>\n",
       "    </tr>\n",
       "    <tr>\n",
       "      <th>18</th>\n",
       "      <td>Super Mario World</td>\n",
       "      <td>SNES</td>\n",
       "      <td>1990.0</td>\n",
       "      <td>Platform</td>\n",
       "      <td>12.78</td>\n",
       "      <td>3.75</td>\n",
       "      <td>3.54</td>\n",
       "      <td>0.55</td>\n",
       "      <td>NaN</td>\n",
       "      <td>NaN</td>\n",
       "      <td>NaN</td>\n",
       "    </tr>\n",
       "    <tr>\n",
       "      <th>19</th>\n",
       "      <td>Brain Age: Train Your Brain in Minutes a Day</td>\n",
       "      <td>DS</td>\n",
       "      <td>2005.0</td>\n",
       "      <td>Misc</td>\n",
       "      <td>4.74</td>\n",
       "      <td>9.20</td>\n",
       "      <td>4.16</td>\n",
       "      <td>2.04</td>\n",
       "      <td>77.0</td>\n",
       "      <td>7.9</td>\n",
       "      <td>E</td>\n",
       "    </tr>\n",
       "  </tbody>\n",
       "</table>\n",
       "</div>"
      ],
      "text/plain": [
       "                                            Name Platform  Year_of_Release  \\\n",
       "0                                     Wii Sports      Wii           2006.0   \n",
       "1                              Super Mario Bros.      NES           1985.0   \n",
       "2                                 Mario Kart Wii      Wii           2008.0   \n",
       "3                              Wii Sports Resort      Wii           2009.0   \n",
       "4                       Pokemon Red/Pokemon Blue       GB           1996.0   \n",
       "5                                         Tetris       GB           1989.0   \n",
       "6                          New Super Mario Bros.       DS           2006.0   \n",
       "7                                       Wii Play      Wii           2006.0   \n",
       "8                      New Super Mario Bros. Wii      Wii           2009.0   \n",
       "9                                      Duck Hunt      NES           1984.0   \n",
       "10                                    Nintendogs       DS           2005.0   \n",
       "11                                 Mario Kart DS       DS           2005.0   \n",
       "12                   Pokemon Gold/Pokemon Silver       GB           1999.0   \n",
       "13                                       Wii Fit      Wii           2007.0   \n",
       "14                            Kinect Adventures!     X360           2010.0   \n",
       "15                                  Wii Fit Plus      Wii           2009.0   \n",
       "16                            Grand Theft Auto V      PS3           2013.0   \n",
       "17                 Grand Theft Auto: San Andreas      PS2           2004.0   \n",
       "18                             Super Mario World     SNES           1990.0   \n",
       "19  Brain Age: Train Your Brain in Minutes a Day       DS           2005.0   \n",
       "\n",
       "           Genre  NA_sales  EU_sales  JP_sales  Other_sales  Critic_Score  \\\n",
       "0         Sports     41.36     28.96      3.77         8.45          76.0   \n",
       "1       Platform     29.08      3.58      6.81         0.77           NaN   \n",
       "2         Racing     15.68     12.76      3.79         3.29          82.0   \n",
       "3         Sports     15.61     10.93      3.28         2.95          80.0   \n",
       "4   Role-Playing     11.27      8.89     10.22         1.00           NaN   \n",
       "5         Puzzle     23.20      2.26      4.22         0.58           NaN   \n",
       "6       Platform     11.28      9.14      6.50         2.88          89.0   \n",
       "7           Misc     13.96      9.18      2.93         2.84          58.0   \n",
       "8       Platform     14.44      6.94      4.70         2.24          87.0   \n",
       "9        Shooter     26.93      0.63      0.28         0.47           NaN   \n",
       "10    Simulation      9.05     10.95      1.93         2.74           NaN   \n",
       "11        Racing      9.71      7.47      4.13         1.90          91.0   \n",
       "12  Role-Playing      9.00      6.18      7.20         0.71           NaN   \n",
       "13        Sports      8.92      8.03      3.60         2.15          80.0   \n",
       "14          Misc     15.00      4.89      0.24         1.69          61.0   \n",
       "15        Sports      9.01      8.49      2.53         1.77          80.0   \n",
       "16        Action      7.02      9.09      0.98         3.96          97.0   \n",
       "17        Action      9.43      0.40      0.41        10.57          95.0   \n",
       "18      Platform     12.78      3.75      3.54         0.55           NaN   \n",
       "19          Misc      4.74      9.20      4.16         2.04          77.0   \n",
       "\n",
       "   User_Score Rating  \n",
       "0           8      E  \n",
       "1         NaN    NaN  \n",
       "2         8.3      E  \n",
       "3           8      E  \n",
       "4         NaN    NaN  \n",
       "5         NaN    NaN  \n",
       "6         8.5      E  \n",
       "7         6.6      E  \n",
       "8         8.4      E  \n",
       "9         NaN    NaN  \n",
       "10        NaN    NaN  \n",
       "11        8.6      E  \n",
       "12        NaN    NaN  \n",
       "13        7.7      E  \n",
       "14        6.3      E  \n",
       "15        7.4      E  \n",
       "16        8.2      M  \n",
       "17          9      M  \n",
       "18        NaN    NaN  \n",
       "19        7.9      E  "
      ]
     },
     "execution_count": 4,
     "metadata": {},
     "output_type": "execute_result"
    }
   ],
   "source": [
    "#Imprime una muestra de los juegos\n",
    "games.head(20)"
   ]
  },
  {
   "cell_type": "markdown",
   "metadata": {},
   "source": [
    "#### Reemplazar los nombres de las columnas por minúsculas"
   ]
  },
  {
   "cell_type": "code",
   "execution_count": 5,
   "metadata": {},
   "outputs": [
    {
     "data": {
      "text/html": [
       "<div>\n",
       "<style scoped>\n",
       "    .dataframe tbody tr th:only-of-type {\n",
       "        vertical-align: middle;\n",
       "    }\n",
       "\n",
       "    .dataframe tbody tr th {\n",
       "        vertical-align: top;\n",
       "    }\n",
       "\n",
       "    .dataframe thead th {\n",
       "        text-align: right;\n",
       "    }\n",
       "</style>\n",
       "<table border=\"1\" class=\"dataframe\">\n",
       "  <thead>\n",
       "    <tr style=\"text-align: right;\">\n",
       "      <th></th>\n",
       "      <th>name</th>\n",
       "      <th>platform</th>\n",
       "      <th>year_of_release</th>\n",
       "      <th>genre</th>\n",
       "      <th>na_sales</th>\n",
       "      <th>eu_sales</th>\n",
       "      <th>jp_sales</th>\n",
       "      <th>other_sales</th>\n",
       "      <th>critic_score</th>\n",
       "      <th>user_score</th>\n",
       "      <th>rating</th>\n",
       "    </tr>\n",
       "  </thead>\n",
       "  <tbody>\n",
       "    <tr>\n",
       "      <th>0</th>\n",
       "      <td>Wii Sports</td>\n",
       "      <td>Wii</td>\n",
       "      <td>2006.0</td>\n",
       "      <td>Sports</td>\n",
       "      <td>41.36</td>\n",
       "      <td>28.96</td>\n",
       "      <td>3.77</td>\n",
       "      <td>8.45</td>\n",
       "      <td>76.0</td>\n",
       "      <td>8</td>\n",
       "      <td>E</td>\n",
       "    </tr>\n",
       "    <tr>\n",
       "      <th>1</th>\n",
       "      <td>Super Mario Bros.</td>\n",
       "      <td>NES</td>\n",
       "      <td>1985.0</td>\n",
       "      <td>Platform</td>\n",
       "      <td>29.08</td>\n",
       "      <td>3.58</td>\n",
       "      <td>6.81</td>\n",
       "      <td>0.77</td>\n",
       "      <td>NaN</td>\n",
       "      <td>NaN</td>\n",
       "      <td>NaN</td>\n",
       "    </tr>\n",
       "    <tr>\n",
       "      <th>2</th>\n",
       "      <td>Mario Kart Wii</td>\n",
       "      <td>Wii</td>\n",
       "      <td>2008.0</td>\n",
       "      <td>Racing</td>\n",
       "      <td>15.68</td>\n",
       "      <td>12.76</td>\n",
       "      <td>3.79</td>\n",
       "      <td>3.29</td>\n",
       "      <td>82.0</td>\n",
       "      <td>8.3</td>\n",
       "      <td>E</td>\n",
       "    </tr>\n",
       "    <tr>\n",
       "      <th>3</th>\n",
       "      <td>Wii Sports Resort</td>\n",
       "      <td>Wii</td>\n",
       "      <td>2009.0</td>\n",
       "      <td>Sports</td>\n",
       "      <td>15.61</td>\n",
       "      <td>10.93</td>\n",
       "      <td>3.28</td>\n",
       "      <td>2.95</td>\n",
       "      <td>80.0</td>\n",
       "      <td>8</td>\n",
       "      <td>E</td>\n",
       "    </tr>\n",
       "    <tr>\n",
       "      <th>4</th>\n",
       "      <td>Pokemon Red/Pokemon Blue</td>\n",
       "      <td>GB</td>\n",
       "      <td>1996.0</td>\n",
       "      <td>Role-Playing</td>\n",
       "      <td>11.27</td>\n",
       "      <td>8.89</td>\n",
       "      <td>10.22</td>\n",
       "      <td>1.00</td>\n",
       "      <td>NaN</td>\n",
       "      <td>NaN</td>\n",
       "      <td>NaN</td>\n",
       "    </tr>\n",
       "  </tbody>\n",
       "</table>\n",
       "</div>"
      ],
      "text/plain": [
       "                       name platform  year_of_release         genre  na_sales  \\\n",
       "0                Wii Sports      Wii           2006.0        Sports     41.36   \n",
       "1         Super Mario Bros.      NES           1985.0      Platform     29.08   \n",
       "2            Mario Kart Wii      Wii           2008.0        Racing     15.68   \n",
       "3         Wii Sports Resort      Wii           2009.0        Sports     15.61   \n",
       "4  Pokemon Red/Pokemon Blue       GB           1996.0  Role-Playing     11.27   \n",
       "\n",
       "   eu_sales  jp_sales  other_sales  critic_score user_score rating  \n",
       "0     28.96      3.77         8.45          76.0          8      E  \n",
       "1      3.58      6.81         0.77           NaN        NaN    NaN  \n",
       "2     12.76      3.79         3.29          82.0        8.3      E  \n",
       "3     10.93      3.28         2.95          80.0          8      E  \n",
       "4      8.89     10.22         1.00           NaN        NaN    NaN  "
      ]
     },
     "execution_count": 5,
     "metadata": {},
     "output_type": "execute_result"
    }
   ],
   "source": [
    "#Reemplazar los nombres de las columnas por minúsculas\n",
    "\n",
    "games.columns = games.columns.str.lower()\n",
    "games.head()\n"
   ]
  },
  {
   "cell_type": "markdown",
   "metadata": {},
   "source": [
    "#### Convertir columnas al tipo de dato necesario"
   ]
  },
  {
   "cell_type": "markdown",
   "metadata": {},
   "source": [
    "Es necesario cambiar el tipo de dato de la columna \"user score\" a tipo float, sin embargo, dado que dicha columna contiene elementos de tipo string (tbd), primeramente se reemplazarán todas las filas que contengan el string tbd, por NaN. Descartar estos valores no es opción, ya que representa alrededor del 14% de los datos como se muestra a continuación:\n"
   ]
  },
  {
   "cell_type": "code",
   "execution_count": 6,
   "metadata": {
    "scrolled": true
   },
   "outputs": [
    {
     "data": {
      "text/html": [
       "<div>\n",
       "<style scoped>\n",
       "    .dataframe tbody tr th:only-of-type {\n",
       "        vertical-align: middle;\n",
       "    }\n",
       "\n",
       "    .dataframe tbody tr th {\n",
       "        vertical-align: top;\n",
       "    }\n",
       "\n",
       "    .dataframe thead th {\n",
       "        text-align: right;\n",
       "    }\n",
       "</style>\n",
       "<table border=\"1\" class=\"dataframe\">\n",
       "  <thead>\n",
       "    <tr style=\"text-align: right;\">\n",
       "      <th></th>\n",
       "      <th>name</th>\n",
       "      <th>platform</th>\n",
       "      <th>year_of_release</th>\n",
       "      <th>genre</th>\n",
       "      <th>na_sales</th>\n",
       "      <th>eu_sales</th>\n",
       "      <th>jp_sales</th>\n",
       "      <th>other_sales</th>\n",
       "      <th>critic_score</th>\n",
       "      <th>user_score</th>\n",
       "      <th>rating</th>\n",
       "    </tr>\n",
       "  </thead>\n",
       "  <tbody>\n",
       "    <tr>\n",
       "      <th>119</th>\n",
       "      <td>Zumba Fitness</td>\n",
       "      <td>Wii</td>\n",
       "      <td>2010.0</td>\n",
       "      <td>Sports</td>\n",
       "      <td>3.45</td>\n",
       "      <td>2.59</td>\n",
       "      <td>0.0</td>\n",
       "      <td>0.66</td>\n",
       "      <td>NaN</td>\n",
       "      <td>tbd</td>\n",
       "      <td>E</td>\n",
       "    </tr>\n",
       "    <tr>\n",
       "      <th>301</th>\n",
       "      <td>Namco Museum: 50th Anniversary</td>\n",
       "      <td>PS2</td>\n",
       "      <td>2005.0</td>\n",
       "      <td>Misc</td>\n",
       "      <td>2.08</td>\n",
       "      <td>1.35</td>\n",
       "      <td>0.0</td>\n",
       "      <td>0.54</td>\n",
       "      <td>61.0</td>\n",
       "      <td>tbd</td>\n",
       "      <td>E10+</td>\n",
       "    </tr>\n",
       "    <tr>\n",
       "      <th>520</th>\n",
       "      <td>Zumba Fitness 2</td>\n",
       "      <td>Wii</td>\n",
       "      <td>2011.0</td>\n",
       "      <td>Sports</td>\n",
       "      <td>1.51</td>\n",
       "      <td>1.03</td>\n",
       "      <td>0.0</td>\n",
       "      <td>0.27</td>\n",
       "      <td>NaN</td>\n",
       "      <td>tbd</td>\n",
       "      <td>T</td>\n",
       "    </tr>\n",
       "    <tr>\n",
       "      <th>645</th>\n",
       "      <td>uDraw Studio</td>\n",
       "      <td>Wii</td>\n",
       "      <td>2010.0</td>\n",
       "      <td>Misc</td>\n",
       "      <td>1.65</td>\n",
       "      <td>0.57</td>\n",
       "      <td>0.0</td>\n",
       "      <td>0.20</td>\n",
       "      <td>71.0</td>\n",
       "      <td>tbd</td>\n",
       "      <td>E</td>\n",
       "    </tr>\n",
       "    <tr>\n",
       "      <th>657</th>\n",
       "      <td>Frogger's Adventures: Temple of the Frog</td>\n",
       "      <td>GBA</td>\n",
       "      <td>NaN</td>\n",
       "      <td>Adventure</td>\n",
       "      <td>2.15</td>\n",
       "      <td>0.18</td>\n",
       "      <td>0.0</td>\n",
       "      <td>0.07</td>\n",
       "      <td>73.0</td>\n",
       "      <td>tbd</td>\n",
       "      <td>E</td>\n",
       "    </tr>\n",
       "    <tr>\n",
       "      <th>...</th>\n",
       "      <td>...</td>\n",
       "      <td>...</td>\n",
       "      <td>...</td>\n",
       "      <td>...</td>\n",
       "      <td>...</td>\n",
       "      <td>...</td>\n",
       "      <td>...</td>\n",
       "      <td>...</td>\n",
       "      <td>...</td>\n",
       "      <td>...</td>\n",
       "      <td>...</td>\n",
       "    </tr>\n",
       "    <tr>\n",
       "      <th>16695</th>\n",
       "      <td>Planet Monsters</td>\n",
       "      <td>GBA</td>\n",
       "      <td>2001.0</td>\n",
       "      <td>Action</td>\n",
       "      <td>0.01</td>\n",
       "      <td>0.00</td>\n",
       "      <td>0.0</td>\n",
       "      <td>0.00</td>\n",
       "      <td>67.0</td>\n",
       "      <td>tbd</td>\n",
       "      <td>E</td>\n",
       "    </tr>\n",
       "    <tr>\n",
       "      <th>16697</th>\n",
       "      <td>Bust-A-Move 3000</td>\n",
       "      <td>GC</td>\n",
       "      <td>2003.0</td>\n",
       "      <td>Puzzle</td>\n",
       "      <td>0.01</td>\n",
       "      <td>0.00</td>\n",
       "      <td>0.0</td>\n",
       "      <td>0.00</td>\n",
       "      <td>53.0</td>\n",
       "      <td>tbd</td>\n",
       "      <td>E</td>\n",
       "    </tr>\n",
       "    <tr>\n",
       "      <th>16698</th>\n",
       "      <td>Mega Brain Boost</td>\n",
       "      <td>DS</td>\n",
       "      <td>2008.0</td>\n",
       "      <td>Puzzle</td>\n",
       "      <td>0.01</td>\n",
       "      <td>0.00</td>\n",
       "      <td>0.0</td>\n",
       "      <td>0.00</td>\n",
       "      <td>48.0</td>\n",
       "      <td>tbd</td>\n",
       "      <td>E</td>\n",
       "    </tr>\n",
       "    <tr>\n",
       "      <th>16704</th>\n",
       "      <td>Plushees</td>\n",
       "      <td>DS</td>\n",
       "      <td>2008.0</td>\n",
       "      <td>Simulation</td>\n",
       "      <td>0.01</td>\n",
       "      <td>0.00</td>\n",
       "      <td>0.0</td>\n",
       "      <td>0.00</td>\n",
       "      <td>NaN</td>\n",
       "      <td>tbd</td>\n",
       "      <td>E</td>\n",
       "    </tr>\n",
       "    <tr>\n",
       "      <th>16706</th>\n",
       "      <td>Men in Black II: Alien Escape</td>\n",
       "      <td>GC</td>\n",
       "      <td>2003.0</td>\n",
       "      <td>Shooter</td>\n",
       "      <td>0.01</td>\n",
       "      <td>0.00</td>\n",
       "      <td>0.0</td>\n",
       "      <td>0.00</td>\n",
       "      <td>NaN</td>\n",
       "      <td>tbd</td>\n",
       "      <td>T</td>\n",
       "    </tr>\n",
       "  </tbody>\n",
       "</table>\n",
       "<p>2424 rows × 11 columns</p>\n",
       "</div>"
      ],
      "text/plain": [
       "                                           name platform  year_of_release  \\\n",
       "119                               Zumba Fitness      Wii           2010.0   \n",
       "301              Namco Museum: 50th Anniversary      PS2           2005.0   \n",
       "520                             Zumba Fitness 2      Wii           2011.0   \n",
       "645                                uDraw Studio      Wii           2010.0   \n",
       "657    Frogger's Adventures: Temple of the Frog      GBA              NaN   \n",
       "...                                         ...      ...              ...   \n",
       "16695                           Planet Monsters      GBA           2001.0   \n",
       "16697                          Bust-A-Move 3000       GC           2003.0   \n",
       "16698                          Mega Brain Boost       DS           2008.0   \n",
       "16704                                  Plushees       DS           2008.0   \n",
       "16706             Men in Black II: Alien Escape       GC           2003.0   \n",
       "\n",
       "            genre  na_sales  eu_sales  jp_sales  other_sales  critic_score  \\\n",
       "119        Sports      3.45      2.59       0.0         0.66           NaN   \n",
       "301          Misc      2.08      1.35       0.0         0.54          61.0   \n",
       "520        Sports      1.51      1.03       0.0         0.27           NaN   \n",
       "645          Misc      1.65      0.57       0.0         0.20          71.0   \n",
       "657     Adventure      2.15      0.18       0.0         0.07          73.0   \n",
       "...           ...       ...       ...       ...          ...           ...   \n",
       "16695      Action      0.01      0.00       0.0         0.00          67.0   \n",
       "16697      Puzzle      0.01      0.00       0.0         0.00          53.0   \n",
       "16698      Puzzle      0.01      0.00       0.0         0.00          48.0   \n",
       "16704  Simulation      0.01      0.00       0.0         0.00           NaN   \n",
       "16706     Shooter      0.01      0.00       0.0         0.00           NaN   \n",
       "\n",
       "      user_score rating  \n",
       "119          tbd      E  \n",
       "301          tbd   E10+  \n",
       "520          tbd      T  \n",
       "645          tbd      E  \n",
       "657          tbd      E  \n",
       "...          ...    ...  \n",
       "16695        tbd      E  \n",
       "16697        tbd      E  \n",
       "16698        tbd      E  \n",
       "16704        tbd      E  \n",
       "16706        tbd      T  \n",
       "\n",
       "[2424 rows x 11 columns]"
      ]
     },
     "execution_count": 6,
     "metadata": {},
     "output_type": "execute_result"
    }
   ],
   "source": [
    "#Calcular el porcentaje de elementos que contienen tbd entre el total de datos\n",
    "\n",
    "games[games[\"user_score\"]==\"tbd\"]\n"
   ]
  },
  {
   "cell_type": "code",
   "execution_count": 7,
   "metadata": {},
   "outputs": [
    {
     "name": "stdout",
     "output_type": "stream",
     "text": [
      "0.1450194436135208\n"
     ]
    }
   ],
   "source": [
    "print(2424/16715 )"
   ]
  },
  {
   "cell_type": "code",
   "execution_count": 8,
   "metadata": {},
   "outputs": [],
   "source": [
    "#Reemplazar los elementos tbd por NaN y luego cambiar datos de columna a tipo de dato float\n",
    "\n",
    "games[\"user_score\"] = games[\"user_score\"].replace(\"tbd\",np.nan).astype(float)"
   ]
  },
  {
   "cell_type": "code",
   "execution_count": 9,
   "metadata": {},
   "outputs": [
    {
     "name": "stdout",
     "output_type": "stream",
     "text": [
      "<class 'pandas.core.frame.DataFrame'>\n",
      "RangeIndex: 16715 entries, 0 to 16714\n",
      "Data columns (total 11 columns):\n",
      " #   Column           Non-Null Count  Dtype  \n",
      "---  ------           --------------  -----  \n",
      " 0   name             16713 non-null  object \n",
      " 1   platform         16715 non-null  object \n",
      " 2   year_of_release  16446 non-null  float64\n",
      " 3   genre            16713 non-null  object \n",
      " 4   na_sales         16715 non-null  float64\n",
      " 5   eu_sales         16715 non-null  float64\n",
      " 6   jp_sales         16715 non-null  float64\n",
      " 7   other_sales      16715 non-null  float64\n",
      " 8   critic_score     8137 non-null   float64\n",
      " 9   user_score       7590 non-null   float64\n",
      " 10  rating           9949 non-null   object \n",
      "dtypes: float64(7), object(4)\n",
      "memory usage: 1.4+ MB\n"
     ]
    }
   ],
   "source": [
    "games.info()"
   ]
  },
  {
   "cell_type": "markdown",
   "metadata": {},
   "source": [
    "#### Tratamiento de valores ausentes"
   ]
  },
  {
   "cell_type": "markdown",
   "metadata": {},
   "source": [
    "* Valores ausentes para \"rating\":\n",
    "Observamos que tenemos un 40% de valores ausentes para la columna \"rating\". En este caso conviene no imputar los valores nulos, dado su alto porcentaje de valores ausentes respecto a la data. Con esto buscamos no manipular la data por nuestra cuenta."
   ]
  },
  {
   "cell_type": "markdown",
   "metadata": {},
   "source": [
    "* Valores ausentes para \"rating\" \"critic_score\" , \"user_score\":\n",
    "Imputaremos los valores nulos de las columnas \"critic_score\" y \"user_score\" con la mediana de dichas columnas agrupadas por género."
   ]
  },
  {
   "cell_type": "code",
   "execution_count": 10,
   "metadata": {},
   "outputs": [
    {
     "data": {
      "text/plain": [
       "genre\n",
       "Action          68.0\n",
       "Adventure       66.0\n",
       "Fighting        72.0\n",
       "Misc            69.0\n",
       "Platform        69.0\n",
       "Puzzle          70.0\n",
       "Racing          69.0\n",
       "Role-Playing    74.0\n",
       "Shooter         73.0\n",
       "Simulation      70.0\n",
       "Sports          75.0\n",
       "Strategy        73.0\n",
       "Name: critic_score, dtype: float64"
      ]
     },
     "execution_count": 10,
     "metadata": {},
     "output_type": "execute_result"
    }
   ],
   "source": [
    "#Imputación de valores ausentes para critic_score\n",
    "imputación_critic_score = games.groupby(\"genre\")[\"critic_score\"].median()\n",
    "imputación_critic_score"
   ]
  },
  {
   "cell_type": "code",
   "execution_count": 11,
   "metadata": {},
   "outputs": [],
   "source": [
    "games[\"critic_score_corregido\"] = games.set_index(\"genre\")[\"critic_score\"].fillna(imputación_critic_score).reset_index(drop =True)"
   ]
  },
  {
   "cell_type": "code",
   "execution_count": 12,
   "metadata": {},
   "outputs": [
    {
     "data": {
      "text/plain": [
       "genre\n",
       "Action          7.4\n",
       "Adventure       7.6\n",
       "Fighting        7.6\n",
       "Misc            7.1\n",
       "Platform        7.7\n",
       "Puzzle          7.5\n",
       "Racing          7.4\n",
       "Role-Playing    7.8\n",
       "Shooter         7.4\n",
       "Simulation      7.5\n",
       "Sports          7.4\n",
       "Strategy        7.8\n",
       "Name: user_score, dtype: float64"
      ]
     },
     "execution_count": 12,
     "metadata": {},
     "output_type": "execute_result"
    }
   ],
   "source": [
    "#Imputación de valores ausentes para user_score\n",
    "imputación_user_score = games.groupby(\"genre\")[\"user_score\"].median()\n",
    "imputación_user_score"
   ]
  },
  {
   "cell_type": "code",
   "execution_count": 13,
   "metadata": {},
   "outputs": [],
   "source": [
    "games[\"user_score_corregido\"] = games.set_index(\"genre\")[\"user_score\"].fillna(imputación_user_score).reset_index(drop =True)"
   ]
  },
  {
   "cell_type": "code",
   "execution_count": 14,
   "metadata": {},
   "outputs": [
    {
     "name": "stdout",
     "output_type": "stream",
     "text": [
      "<class 'pandas.core.frame.DataFrame'>\n",
      "RangeIndex: 16715 entries, 0 to 16714\n",
      "Data columns (total 13 columns):\n",
      " #   Column                  Non-Null Count  Dtype  \n",
      "---  ------                  --------------  -----  \n",
      " 0   name                    16713 non-null  object \n",
      " 1   platform                16715 non-null  object \n",
      " 2   year_of_release         16446 non-null  float64\n",
      " 3   genre                   16713 non-null  object \n",
      " 4   na_sales                16715 non-null  float64\n",
      " 5   eu_sales                16715 non-null  float64\n",
      " 6   jp_sales                16715 non-null  float64\n",
      " 7   other_sales             16715 non-null  float64\n",
      " 8   critic_score            8137 non-null   float64\n",
      " 9   user_score              7590 non-null   float64\n",
      " 10  rating                  9949 non-null   object \n",
      " 11  critic_score_corregido  16713 non-null  float64\n",
      " 12  user_score_corregido    16713 non-null  float64\n",
      "dtypes: float64(9), object(4)\n",
      "memory usage: 1.7+ MB\n"
     ]
    }
   ],
   "source": [
    "games.info()"
   ]
  },
  {
   "cell_type": "markdown",
   "metadata": {},
   "source": [
    "* Valores ausentes para \"name y \"genre\": Se observa que en estas columna solo contamos con 2 valores ausentes. Como no hay posibilidad de imputar dichos valores con alguna métrica, además de que dichas filas no aportan datos respecto a puntuación de critica y de usuarios, se procederá a eliminar estas filas."
   ]
  },
  {
   "cell_type": "code",
   "execution_count": 15,
   "metadata": {},
   "outputs": [
    {
     "data": {
      "text/html": [
       "<div>\n",
       "<style scoped>\n",
       "    .dataframe tbody tr th:only-of-type {\n",
       "        vertical-align: middle;\n",
       "    }\n",
       "\n",
       "    .dataframe tbody tr th {\n",
       "        vertical-align: top;\n",
       "    }\n",
       "\n",
       "    .dataframe thead th {\n",
       "        text-align: right;\n",
       "    }\n",
       "</style>\n",
       "<table border=\"1\" class=\"dataframe\">\n",
       "  <thead>\n",
       "    <tr style=\"text-align: right;\">\n",
       "      <th></th>\n",
       "      <th>name</th>\n",
       "      <th>platform</th>\n",
       "      <th>year_of_release</th>\n",
       "      <th>genre</th>\n",
       "      <th>na_sales</th>\n",
       "      <th>eu_sales</th>\n",
       "      <th>jp_sales</th>\n",
       "      <th>other_sales</th>\n",
       "      <th>critic_score</th>\n",
       "      <th>user_score</th>\n",
       "      <th>rating</th>\n",
       "      <th>critic_score_corregido</th>\n",
       "      <th>user_score_corregido</th>\n",
       "    </tr>\n",
       "  </thead>\n",
       "  <tbody>\n",
       "    <tr>\n",
       "      <th>659</th>\n",
       "      <td>NaN</td>\n",
       "      <td>GEN</td>\n",
       "      <td>1993.0</td>\n",
       "      <td>NaN</td>\n",
       "      <td>1.78</td>\n",
       "      <td>0.53</td>\n",
       "      <td>0.00</td>\n",
       "      <td>0.08</td>\n",
       "      <td>NaN</td>\n",
       "      <td>NaN</td>\n",
       "      <td>NaN</td>\n",
       "      <td>NaN</td>\n",
       "      <td>NaN</td>\n",
       "    </tr>\n",
       "    <tr>\n",
       "      <th>14244</th>\n",
       "      <td>NaN</td>\n",
       "      <td>GEN</td>\n",
       "      <td>1993.0</td>\n",
       "      <td>NaN</td>\n",
       "      <td>0.00</td>\n",
       "      <td>0.00</td>\n",
       "      <td>0.03</td>\n",
       "      <td>0.00</td>\n",
       "      <td>NaN</td>\n",
       "      <td>NaN</td>\n",
       "      <td>NaN</td>\n",
       "      <td>NaN</td>\n",
       "      <td>NaN</td>\n",
       "    </tr>\n",
       "  </tbody>\n",
       "</table>\n",
       "</div>"
      ],
      "text/plain": [
       "      name platform  year_of_release genre  na_sales  eu_sales  jp_sales  \\\n",
       "659    NaN      GEN           1993.0   NaN      1.78      0.53      0.00   \n",
       "14244  NaN      GEN           1993.0   NaN      0.00      0.00      0.03   \n",
       "\n",
       "       other_sales  critic_score  user_score rating  critic_score_corregido  \\\n",
       "659           0.08           NaN         NaN    NaN                     NaN   \n",
       "14244         0.00           NaN         NaN    NaN                     NaN   \n",
       "\n",
       "       user_score_corregido  \n",
       "659                     NaN  \n",
       "14244                   NaN  "
      ]
     },
     "execution_count": 15,
     "metadata": {},
     "output_type": "execute_result"
    }
   ],
   "source": [
    "#Filtrar valores ausentes de la columna \"name\"\n",
    "\n",
    "games[games[\"name\"].isna()]"
   ]
  },
  {
   "cell_type": "code",
   "execution_count": 16,
   "metadata": {},
   "outputs": [
    {
     "name": "stdout",
     "output_type": "stream",
     "text": [
      "<class 'pandas.core.frame.DataFrame'>\n",
      "Int64Index: 16713 entries, 0 to 16714\n",
      "Data columns (total 13 columns):\n",
      " #   Column                  Non-Null Count  Dtype  \n",
      "---  ------                  --------------  -----  \n",
      " 0   name                    16713 non-null  object \n",
      " 1   platform                16713 non-null  object \n",
      " 2   year_of_release         16444 non-null  float64\n",
      " 3   genre                   16713 non-null  object \n",
      " 4   na_sales                16713 non-null  float64\n",
      " 5   eu_sales                16713 non-null  float64\n",
      " 6   jp_sales                16713 non-null  float64\n",
      " 7   other_sales             16713 non-null  float64\n",
      " 8   critic_score            8137 non-null   float64\n",
      " 9   user_score              7590 non-null   float64\n",
      " 10  rating                  9949 non-null   object \n",
      " 11  critic_score_corregido  16713 non-null  float64\n",
      " 12  user_score_corregido    16713 non-null  float64\n",
      "dtypes: float64(9), object(4)\n",
      "memory usage: 1.8+ MB\n"
     ]
    }
   ],
   "source": [
    "#Eliminar filas con valores ausentes de la columna \"name\" (las cuales son las mismas para la columna \"genre\")\n",
    "\n",
    "games = games.dropna(subset=['name'])\n",
    "games.info()"
   ]
  },
  {
   "cell_type": "markdown",
   "metadata": {},
   "source": [
    "* Valores ausentes para \"year_of_release\": Contamos con 269 filas que presentan valores ausentes para esta columna. En este caso nos apoyaremos del año de lanzamiento de otras plataformas para completar valores ausentes en las plataformas que los contengan."
   ]
  },
  {
   "cell_type": "code",
   "execution_count": 17,
   "metadata": {},
   "outputs": [
    {
     "data": {
      "text/plain": [
       "name\n",
       " Beyblade Burst                 2016.0\n",
       " Fire Emblem Fates              2015.0\n",
       " Frozen: Olaf's Quest           2013.0\n",
       " Haikyu!! Cross Team Match!     2016.0\n",
       " Tales of Xillia 2              2012.0\n",
       "                                 ...  \n",
       "thinkSMART: Chess for Kids      2011.0\n",
       "uDraw Studio                    2010.0\n",
       "uDraw Studio: Instant Artist    2011.0\n",
       "wwe Smackdown vs. Raw 2006         NaN\n",
       "¡Shin Chan Flipa en colores!    2007.0\n",
       "Name: year_of_release, Length: 11559, dtype: float64"
      ]
     },
     "execution_count": 17,
     "metadata": {},
     "output_type": "execute_result"
    }
   ],
   "source": [
    "columna_imputación = games.groupby(\"name\")[\"year_of_release\"].max()\n",
    "columna_imputación"
   ]
  },
  {
   "cell_type": "code",
   "execution_count": 18,
   "metadata": {
    "scrolled": true
   },
   "outputs": [
    {
     "data": {
      "text/plain": [
       "0        2006.0\n",
       "1        1985.0\n",
       "2        2008.0\n",
       "3        2009.0\n",
       "4        1996.0\n",
       "          ...  \n",
       "16708    2016.0\n",
       "16709    2006.0\n",
       "16710    2016.0\n",
       "16711    2003.0\n",
       "16712    2016.0\n",
       "Name: year_of_release, Length: 16713, dtype: float64"
      ]
     },
     "execution_count": 18,
     "metadata": {},
     "output_type": "execute_result"
    }
   ],
   "source": [
    "games.set_index(\"name\")[\"year_of_release\"].fillna(columna_imputación).reset_index(drop =True)"
   ]
  },
  {
   "cell_type": "code",
   "execution_count": 19,
   "metadata": {},
   "outputs": [],
   "source": [
    "games[\"year_of_release_corregido\"] = games.set_index(\"name\")[\"year_of_release\"].fillna(columna_imputación).reset_index(drop =True)"
   ]
  },
  {
   "cell_type": "markdown",
   "metadata": {},
   "source": [
    "A continuación se presenta una comparación entre la columna \"year_of_release\" con sus respectivos valores nulos versus la nueva columna \"year_of_release_corregido\"."
   ]
  },
  {
   "cell_type": "code",
   "execution_count": 20,
   "metadata": {},
   "outputs": [
    {
     "data": {
      "text/html": [
       "<div>\n",
       "<style scoped>\n",
       "    .dataframe tbody tr th:only-of-type {\n",
       "        vertical-align: middle;\n",
       "    }\n",
       "\n",
       "    .dataframe tbody tr th {\n",
       "        vertical-align: top;\n",
       "    }\n",
       "\n",
       "    .dataframe thead th {\n",
       "        text-align: right;\n",
       "    }\n",
       "</style>\n",
       "<table border=\"1\" class=\"dataframe\">\n",
       "  <thead>\n",
       "    <tr style=\"text-align: right;\">\n",
       "      <th></th>\n",
       "      <th>name</th>\n",
       "      <th>platform</th>\n",
       "      <th>year_of_release</th>\n",
       "      <th>genre</th>\n",
       "      <th>na_sales</th>\n",
       "      <th>eu_sales</th>\n",
       "      <th>jp_sales</th>\n",
       "      <th>other_sales</th>\n",
       "      <th>critic_score</th>\n",
       "      <th>user_score</th>\n",
       "      <th>rating</th>\n",
       "      <th>critic_score_corregido</th>\n",
       "      <th>user_score_corregido</th>\n",
       "      <th>year_of_release_corregido</th>\n",
       "    </tr>\n",
       "  </thead>\n",
       "  <tbody>\n",
       "    <tr>\n",
       "      <th>183</th>\n",
       "      <td>Madden NFL 2004</td>\n",
       "      <td>PS2</td>\n",
       "      <td>NaN</td>\n",
       "      <td>Sports</td>\n",
       "      <td>4.26</td>\n",
       "      <td>0.26</td>\n",
       "      <td>0.01</td>\n",
       "      <td>0.71</td>\n",
       "      <td>94.0</td>\n",
       "      <td>8.5</td>\n",
       "      <td>E</td>\n",
       "      <td>94.0</td>\n",
       "      <td>8.5</td>\n",
       "      <td>2003.0</td>\n",
       "    </tr>\n",
       "    <tr>\n",
       "      <th>377</th>\n",
       "      <td>FIFA Soccer 2004</td>\n",
       "      <td>PS2</td>\n",
       "      <td>NaN</td>\n",
       "      <td>Sports</td>\n",
       "      <td>0.59</td>\n",
       "      <td>2.36</td>\n",
       "      <td>0.04</td>\n",
       "      <td>0.51</td>\n",
       "      <td>84.0</td>\n",
       "      <td>6.4</td>\n",
       "      <td>E</td>\n",
       "      <td>84.0</td>\n",
       "      <td>6.4</td>\n",
       "      <td>2003.0</td>\n",
       "    </tr>\n",
       "    <tr>\n",
       "      <th>456</th>\n",
       "      <td>LEGO Batman: The Videogame</td>\n",
       "      <td>Wii</td>\n",
       "      <td>NaN</td>\n",
       "      <td>Action</td>\n",
       "      <td>1.80</td>\n",
       "      <td>0.97</td>\n",
       "      <td>0.00</td>\n",
       "      <td>0.29</td>\n",
       "      <td>74.0</td>\n",
       "      <td>7.9</td>\n",
       "      <td>E10+</td>\n",
       "      <td>74.0</td>\n",
       "      <td>7.9</td>\n",
       "      <td>2008.0</td>\n",
       "    </tr>\n",
       "    <tr>\n",
       "      <th>475</th>\n",
       "      <td>wwe Smackdown vs. Raw 2006</td>\n",
       "      <td>PS2</td>\n",
       "      <td>NaN</td>\n",
       "      <td>Fighting</td>\n",
       "      <td>1.57</td>\n",
       "      <td>1.02</td>\n",
       "      <td>0.00</td>\n",
       "      <td>0.41</td>\n",
       "      <td>NaN</td>\n",
       "      <td>NaN</td>\n",
       "      <td>NaN</td>\n",
       "      <td>72.0</td>\n",
       "      <td>7.6</td>\n",
       "      <td>NaN</td>\n",
       "    </tr>\n",
       "    <tr>\n",
       "      <th>609</th>\n",
       "      <td>Space Invaders</td>\n",
       "      <td>2600</td>\n",
       "      <td>NaN</td>\n",
       "      <td>Shooter</td>\n",
       "      <td>2.36</td>\n",
       "      <td>0.14</td>\n",
       "      <td>0.00</td>\n",
       "      <td>0.03</td>\n",
       "      <td>NaN</td>\n",
       "      <td>NaN</td>\n",
       "      <td>NaN</td>\n",
       "      <td>73.0</td>\n",
       "      <td>7.4</td>\n",
       "      <td>2002.0</td>\n",
       "    </tr>\n",
       "    <tr>\n",
       "      <th>...</th>\n",
       "      <td>...</td>\n",
       "      <td>...</td>\n",
       "      <td>...</td>\n",
       "      <td>...</td>\n",
       "      <td>...</td>\n",
       "      <td>...</td>\n",
       "      <td>...</td>\n",
       "      <td>...</td>\n",
       "      <td>...</td>\n",
       "      <td>...</td>\n",
       "      <td>...</td>\n",
       "      <td>...</td>\n",
       "      <td>...</td>\n",
       "      <td>...</td>\n",
       "    </tr>\n",
       "    <tr>\n",
       "      <th>16373</th>\n",
       "      <td>PDC World Championship Darts 2008</td>\n",
       "      <td>PSP</td>\n",
       "      <td>NaN</td>\n",
       "      <td>Sports</td>\n",
       "      <td>0.01</td>\n",
       "      <td>0.00</td>\n",
       "      <td>0.00</td>\n",
       "      <td>0.00</td>\n",
       "      <td>43.0</td>\n",
       "      <td>NaN</td>\n",
       "      <td>E10+</td>\n",
       "      <td>43.0</td>\n",
       "      <td>7.4</td>\n",
       "      <td>2011.0</td>\n",
       "    </tr>\n",
       "    <tr>\n",
       "      <th>16405</th>\n",
       "      <td>Freaky Flyers</td>\n",
       "      <td>GC</td>\n",
       "      <td>NaN</td>\n",
       "      <td>Racing</td>\n",
       "      <td>0.01</td>\n",
       "      <td>0.00</td>\n",
       "      <td>0.00</td>\n",
       "      <td>0.00</td>\n",
       "      <td>69.0</td>\n",
       "      <td>6.5</td>\n",
       "      <td>T</td>\n",
       "      <td>69.0</td>\n",
       "      <td>6.5</td>\n",
       "      <td>2008.0</td>\n",
       "    </tr>\n",
       "    <tr>\n",
       "      <th>16448</th>\n",
       "      <td>Inversion</td>\n",
       "      <td>PC</td>\n",
       "      <td>NaN</td>\n",
       "      <td>Shooter</td>\n",
       "      <td>0.01</td>\n",
       "      <td>0.00</td>\n",
       "      <td>0.00</td>\n",
       "      <td>0.00</td>\n",
       "      <td>59.0</td>\n",
       "      <td>6.7</td>\n",
       "      <td>M</td>\n",
       "      <td>59.0</td>\n",
       "      <td>6.7</td>\n",
       "      <td>2013.0</td>\n",
       "    </tr>\n",
       "    <tr>\n",
       "      <th>16458</th>\n",
       "      <td>Hakuouki: Shinsengumi Kitan</td>\n",
       "      <td>PS3</td>\n",
       "      <td>NaN</td>\n",
       "      <td>Adventure</td>\n",
       "      <td>0.01</td>\n",
       "      <td>0.00</td>\n",
       "      <td>0.00</td>\n",
       "      <td>0.00</td>\n",
       "      <td>NaN</td>\n",
       "      <td>NaN</td>\n",
       "      <td>NaN</td>\n",
       "      <td>66.0</td>\n",
       "      <td>7.6</td>\n",
       "      <td>2013.0</td>\n",
       "    </tr>\n",
       "    <tr>\n",
       "      <th>16522</th>\n",
       "      <td>Virtua Quest</td>\n",
       "      <td>GC</td>\n",
       "      <td>NaN</td>\n",
       "      <td>Role-Playing</td>\n",
       "      <td>0.01</td>\n",
       "      <td>0.00</td>\n",
       "      <td>0.00</td>\n",
       "      <td>0.00</td>\n",
       "      <td>55.0</td>\n",
       "      <td>5.5</td>\n",
       "      <td>T</td>\n",
       "      <td>55.0</td>\n",
       "      <td>5.5</td>\n",
       "      <td>2014.0</td>\n",
       "    </tr>\n",
       "  </tbody>\n",
       "</table>\n",
       "<p>269 rows × 14 columns</p>\n",
       "</div>"
      ],
      "text/plain": [
       "                                    name platform  year_of_release  \\\n",
       "183                      Madden NFL 2004      PS2              NaN   \n",
       "377                     FIFA Soccer 2004      PS2              NaN   \n",
       "456           LEGO Batman: The Videogame      Wii              NaN   \n",
       "475           wwe Smackdown vs. Raw 2006      PS2              NaN   \n",
       "609                       Space Invaders     2600              NaN   \n",
       "...                                  ...      ...              ...   \n",
       "16373  PDC World Championship Darts 2008      PSP              NaN   \n",
       "16405                      Freaky Flyers       GC              NaN   \n",
       "16448                          Inversion       PC              NaN   \n",
       "16458        Hakuouki: Shinsengumi Kitan      PS3              NaN   \n",
       "16522                       Virtua Quest       GC              NaN   \n",
       "\n",
       "              genre  na_sales  eu_sales  jp_sales  other_sales  critic_score  \\\n",
       "183          Sports      4.26      0.26      0.01         0.71          94.0   \n",
       "377          Sports      0.59      2.36      0.04         0.51          84.0   \n",
       "456          Action      1.80      0.97      0.00         0.29          74.0   \n",
       "475        Fighting      1.57      1.02      0.00         0.41           NaN   \n",
       "609         Shooter      2.36      0.14      0.00         0.03           NaN   \n",
       "...             ...       ...       ...       ...          ...           ...   \n",
       "16373        Sports      0.01      0.00      0.00         0.00          43.0   \n",
       "16405        Racing      0.01      0.00      0.00         0.00          69.0   \n",
       "16448       Shooter      0.01      0.00      0.00         0.00          59.0   \n",
       "16458     Adventure      0.01      0.00      0.00         0.00           NaN   \n",
       "16522  Role-Playing      0.01      0.00      0.00         0.00          55.0   \n",
       "\n",
       "       user_score rating  critic_score_corregido  user_score_corregido  \\\n",
       "183           8.5      E                    94.0                   8.5   \n",
       "377           6.4      E                    84.0                   6.4   \n",
       "456           7.9   E10+                    74.0                   7.9   \n",
       "475           NaN    NaN                    72.0                   7.6   \n",
       "609           NaN    NaN                    73.0                   7.4   \n",
       "...           ...    ...                     ...                   ...   \n",
       "16373         NaN   E10+                    43.0                   7.4   \n",
       "16405         6.5      T                    69.0                   6.5   \n",
       "16448         6.7      M                    59.0                   6.7   \n",
       "16458         NaN    NaN                    66.0                   7.6   \n",
       "16522         5.5      T                    55.0                   5.5   \n",
       "\n",
       "       year_of_release_corregido  \n",
       "183                       2003.0  \n",
       "377                       2003.0  \n",
       "456                       2008.0  \n",
       "475                          NaN  \n",
       "609                       2002.0  \n",
       "...                          ...  \n",
       "16373                     2011.0  \n",
       "16405                     2008.0  \n",
       "16448                     2013.0  \n",
       "16458                     2013.0  \n",
       "16522                     2014.0  \n",
       "\n",
       "[269 rows x 14 columns]"
      ]
     },
     "execution_count": 20,
     "metadata": {},
     "output_type": "execute_result"
    }
   ],
   "source": [
    "games[games[\"year_of_release\"].isna()]"
   ]
  },
  {
   "cell_type": "code",
   "execution_count": 21,
   "metadata": {},
   "outputs": [
    {
     "data": {
      "text/html": [
       "<div>\n",
       "<style scoped>\n",
       "    .dataframe tbody tr th:only-of-type {\n",
       "        vertical-align: middle;\n",
       "    }\n",
       "\n",
       "    .dataframe tbody tr th {\n",
       "        vertical-align: top;\n",
       "    }\n",
       "\n",
       "    .dataframe thead th {\n",
       "        text-align: right;\n",
       "    }\n",
       "</style>\n",
       "<table border=\"1\" class=\"dataframe\">\n",
       "  <thead>\n",
       "    <tr style=\"text-align: right;\">\n",
       "      <th></th>\n",
       "      <th>name</th>\n",
       "      <th>platform</th>\n",
       "      <th>year_of_release</th>\n",
       "      <th>genre</th>\n",
       "      <th>na_sales</th>\n",
       "      <th>eu_sales</th>\n",
       "      <th>jp_sales</th>\n",
       "      <th>other_sales</th>\n",
       "      <th>critic_score</th>\n",
       "      <th>user_score</th>\n",
       "      <th>rating</th>\n",
       "      <th>critic_score_corregido</th>\n",
       "      <th>user_score_corregido</th>\n",
       "      <th>year_of_release_corregido</th>\n",
       "    </tr>\n",
       "  </thead>\n",
       "  <tbody>\n",
       "    <tr>\n",
       "      <th>1</th>\n",
       "      <td>Super Mario Bros.</td>\n",
       "      <td>NES</td>\n",
       "      <td>1985.0</td>\n",
       "      <td>Platform</td>\n",
       "      <td>29.08</td>\n",
       "      <td>3.58</td>\n",
       "      <td>6.81</td>\n",
       "      <td>0.77</td>\n",
       "      <td>NaN</td>\n",
       "      <td>NaN</td>\n",
       "      <td>NaN</td>\n",
       "      <td>69.0</td>\n",
       "      <td>7.7</td>\n",
       "      <td>1985.0</td>\n",
       "    </tr>\n",
       "    <tr>\n",
       "      <th>4</th>\n",
       "      <td>Pokemon Red/Pokemon Blue</td>\n",
       "      <td>GB</td>\n",
       "      <td>1996.0</td>\n",
       "      <td>Role-Playing</td>\n",
       "      <td>11.27</td>\n",
       "      <td>8.89</td>\n",
       "      <td>10.22</td>\n",
       "      <td>1.00</td>\n",
       "      <td>NaN</td>\n",
       "      <td>NaN</td>\n",
       "      <td>NaN</td>\n",
       "      <td>74.0</td>\n",
       "      <td>7.8</td>\n",
       "      <td>1996.0</td>\n",
       "    </tr>\n",
       "    <tr>\n",
       "      <th>5</th>\n",
       "      <td>Tetris</td>\n",
       "      <td>GB</td>\n",
       "      <td>1989.0</td>\n",
       "      <td>Puzzle</td>\n",
       "      <td>23.20</td>\n",
       "      <td>2.26</td>\n",
       "      <td>4.22</td>\n",
       "      <td>0.58</td>\n",
       "      <td>NaN</td>\n",
       "      <td>NaN</td>\n",
       "      <td>NaN</td>\n",
       "      <td>70.0</td>\n",
       "      <td>7.5</td>\n",
       "      <td>1989.0</td>\n",
       "    </tr>\n",
       "    <tr>\n",
       "      <th>9</th>\n",
       "      <td>Duck Hunt</td>\n",
       "      <td>NES</td>\n",
       "      <td>1984.0</td>\n",
       "      <td>Shooter</td>\n",
       "      <td>26.93</td>\n",
       "      <td>0.63</td>\n",
       "      <td>0.28</td>\n",
       "      <td>0.47</td>\n",
       "      <td>NaN</td>\n",
       "      <td>NaN</td>\n",
       "      <td>NaN</td>\n",
       "      <td>73.0</td>\n",
       "      <td>7.4</td>\n",
       "      <td>1984.0</td>\n",
       "    </tr>\n",
       "    <tr>\n",
       "      <th>10</th>\n",
       "      <td>Nintendogs</td>\n",
       "      <td>DS</td>\n",
       "      <td>2005.0</td>\n",
       "      <td>Simulation</td>\n",
       "      <td>9.05</td>\n",
       "      <td>10.95</td>\n",
       "      <td>1.93</td>\n",
       "      <td>2.74</td>\n",
       "      <td>NaN</td>\n",
       "      <td>NaN</td>\n",
       "      <td>NaN</td>\n",
       "      <td>70.0</td>\n",
       "      <td>7.5</td>\n",
       "      <td>2005.0</td>\n",
       "    </tr>\n",
       "    <tr>\n",
       "      <th>...</th>\n",
       "      <td>...</td>\n",
       "      <td>...</td>\n",
       "      <td>...</td>\n",
       "      <td>...</td>\n",
       "      <td>...</td>\n",
       "      <td>...</td>\n",
       "      <td>...</td>\n",
       "      <td>...</td>\n",
       "      <td>...</td>\n",
       "      <td>...</td>\n",
       "      <td>...</td>\n",
       "      <td>...</td>\n",
       "      <td>...</td>\n",
       "      <td>...</td>\n",
       "    </tr>\n",
       "    <tr>\n",
       "      <th>16710</th>\n",
       "      <td>Samurai Warriors: Sanada Maru</td>\n",
       "      <td>PS3</td>\n",
       "      <td>2016.0</td>\n",
       "      <td>Action</td>\n",
       "      <td>0.00</td>\n",
       "      <td>0.00</td>\n",
       "      <td>0.01</td>\n",
       "      <td>0.00</td>\n",
       "      <td>NaN</td>\n",
       "      <td>NaN</td>\n",
       "      <td>NaN</td>\n",
       "      <td>68.0</td>\n",
       "      <td>7.4</td>\n",
       "      <td>2016.0</td>\n",
       "    </tr>\n",
       "    <tr>\n",
       "      <th>16711</th>\n",
       "      <td>LMA Manager 2007</td>\n",
       "      <td>X360</td>\n",
       "      <td>2006.0</td>\n",
       "      <td>Sports</td>\n",
       "      <td>0.00</td>\n",
       "      <td>0.01</td>\n",
       "      <td>0.00</td>\n",
       "      <td>0.00</td>\n",
       "      <td>NaN</td>\n",
       "      <td>NaN</td>\n",
       "      <td>NaN</td>\n",
       "      <td>75.0</td>\n",
       "      <td>7.4</td>\n",
       "      <td>2003.0</td>\n",
       "    </tr>\n",
       "    <tr>\n",
       "      <th>16712</th>\n",
       "      <td>Haitaka no Psychedelica</td>\n",
       "      <td>PSV</td>\n",
       "      <td>2016.0</td>\n",
       "      <td>Adventure</td>\n",
       "      <td>0.00</td>\n",
       "      <td>0.00</td>\n",
       "      <td>0.01</td>\n",
       "      <td>0.00</td>\n",
       "      <td>NaN</td>\n",
       "      <td>NaN</td>\n",
       "      <td>NaN</td>\n",
       "      <td>66.0</td>\n",
       "      <td>7.6</td>\n",
       "      <td>2016.0</td>\n",
       "    </tr>\n",
       "    <tr>\n",
       "      <th>16713</th>\n",
       "      <td>Spirits &amp; Spells</td>\n",
       "      <td>GBA</td>\n",
       "      <td>2003.0</td>\n",
       "      <td>Platform</td>\n",
       "      <td>0.01</td>\n",
       "      <td>0.00</td>\n",
       "      <td>0.00</td>\n",
       "      <td>0.00</td>\n",
       "      <td>NaN</td>\n",
       "      <td>NaN</td>\n",
       "      <td>NaN</td>\n",
       "      <td>69.0</td>\n",
       "      <td>7.7</td>\n",
       "      <td>NaN</td>\n",
       "    </tr>\n",
       "    <tr>\n",
       "      <th>16714</th>\n",
       "      <td>Winning Post 8 2016</td>\n",
       "      <td>PSV</td>\n",
       "      <td>2016.0</td>\n",
       "      <td>Simulation</td>\n",
       "      <td>0.00</td>\n",
       "      <td>0.00</td>\n",
       "      <td>0.01</td>\n",
       "      <td>0.00</td>\n",
       "      <td>NaN</td>\n",
       "      <td>NaN</td>\n",
       "      <td>NaN</td>\n",
       "      <td>70.0</td>\n",
       "      <td>7.5</td>\n",
       "      <td>NaN</td>\n",
       "    </tr>\n",
       "  </tbody>\n",
       "</table>\n",
       "<p>8576 rows × 14 columns</p>\n",
       "</div>"
      ],
      "text/plain": [
       "                                name platform  year_of_release         genre  \\\n",
       "1                  Super Mario Bros.      NES           1985.0      Platform   \n",
       "4           Pokemon Red/Pokemon Blue       GB           1996.0  Role-Playing   \n",
       "5                             Tetris       GB           1989.0        Puzzle   \n",
       "9                          Duck Hunt      NES           1984.0       Shooter   \n",
       "10                        Nintendogs       DS           2005.0    Simulation   \n",
       "...                              ...      ...              ...           ...   \n",
       "16710  Samurai Warriors: Sanada Maru      PS3           2016.0        Action   \n",
       "16711               LMA Manager 2007     X360           2006.0        Sports   \n",
       "16712        Haitaka no Psychedelica      PSV           2016.0     Adventure   \n",
       "16713               Spirits & Spells      GBA           2003.0      Platform   \n",
       "16714            Winning Post 8 2016      PSV           2016.0    Simulation   \n",
       "\n",
       "       na_sales  eu_sales  jp_sales  other_sales  critic_score  user_score  \\\n",
       "1         29.08      3.58      6.81         0.77           NaN         NaN   \n",
       "4         11.27      8.89     10.22         1.00           NaN         NaN   \n",
       "5         23.20      2.26      4.22         0.58           NaN         NaN   \n",
       "9         26.93      0.63      0.28         0.47           NaN         NaN   \n",
       "10         9.05     10.95      1.93         2.74           NaN         NaN   \n",
       "...         ...       ...       ...          ...           ...         ...   \n",
       "16710      0.00      0.00      0.01         0.00           NaN         NaN   \n",
       "16711      0.00      0.01      0.00         0.00           NaN         NaN   \n",
       "16712      0.00      0.00      0.01         0.00           NaN         NaN   \n",
       "16713      0.01      0.00      0.00         0.00           NaN         NaN   \n",
       "16714      0.00      0.00      0.01         0.00           NaN         NaN   \n",
       "\n",
       "      rating  critic_score_corregido  user_score_corregido  \\\n",
       "1        NaN                    69.0                   7.7   \n",
       "4        NaN                    74.0                   7.8   \n",
       "5        NaN                    70.0                   7.5   \n",
       "9        NaN                    73.0                   7.4   \n",
       "10       NaN                    70.0                   7.5   \n",
       "...      ...                     ...                   ...   \n",
       "16710    NaN                    68.0                   7.4   \n",
       "16711    NaN                    75.0                   7.4   \n",
       "16712    NaN                    66.0                   7.6   \n",
       "16713    NaN                    69.0                   7.7   \n",
       "16714    NaN                    70.0                   7.5   \n",
       "\n",
       "       year_of_release_corregido  \n",
       "1                         1985.0  \n",
       "4                         1996.0  \n",
       "5                         1989.0  \n",
       "9                         1984.0  \n",
       "10                        2005.0  \n",
       "...                          ...  \n",
       "16710                     2016.0  \n",
       "16711                     2003.0  \n",
       "16712                     2016.0  \n",
       "16713                        NaN  \n",
       "16714                        NaN  \n",
       "\n",
       "[8576 rows x 14 columns]"
      ]
     },
     "execution_count": 21,
     "metadata": {},
     "output_type": "execute_result"
    }
   ],
   "source": [
    "games[games[\"critic_score\"].isna()]"
   ]
  },
  {
   "cell_type": "markdown",
   "metadata": {},
   "source": [
    "Se observa que hemos reducido la cantidad de valores nulos de year_or_release en 121 filas."
   ]
  },
  {
   "cell_type": "code",
   "execution_count": 22,
   "metadata": {},
   "outputs": [
    {
     "name": "stdout",
     "output_type": "stream",
     "text": [
      "<class 'pandas.core.frame.DataFrame'>\n",
      "Int64Index: 16713 entries, 0 to 16714\n",
      "Data columns (total 14 columns):\n",
      " #   Column                     Non-Null Count  Dtype  \n",
      "---  ------                     --------------  -----  \n",
      " 0   name                       16713 non-null  object \n",
      " 1   platform                   16713 non-null  object \n",
      " 2   year_of_release            16444 non-null  float64\n",
      " 3   genre                      16713 non-null  object \n",
      " 4   na_sales                   16713 non-null  float64\n",
      " 5   eu_sales                   16713 non-null  float64\n",
      " 6   jp_sales                   16713 non-null  float64\n",
      " 7   other_sales                16713 non-null  float64\n",
      " 8   critic_score               8137 non-null   float64\n",
      " 9   user_score                 7590 non-null   float64\n",
      " 10  rating                     9949 non-null   object \n",
      " 11  critic_score_corregido     16713 non-null  float64\n",
      " 12  user_score_corregido       16713 non-null  float64\n",
      " 13  year_of_release_corregido  16565 non-null  float64\n",
      "dtypes: float64(10), object(4)\n",
      "memory usage: 1.9+ MB\n"
     ]
    }
   ],
   "source": [
    "games.info()"
   ]
  },
  {
   "cell_type": "code",
   "execution_count": 23,
   "metadata": {},
   "outputs": [],
   "source": [
    "#Modificación de columna \"year_of_release\" imputando parte de los valores ausentes\n",
    "games[\"year_of_release\"] = games.set_index(\"name\")[\"year_of_release\"].fillna(columna_imputación).reset_index(drop =True)"
   ]
  },
  {
   "cell_type": "code",
   "execution_count": 24,
   "metadata": {},
   "outputs": [
    {
     "name": "stdout",
     "output_type": "stream",
     "text": [
      "<class 'pandas.core.frame.DataFrame'>\n",
      "Int64Index: 16713 entries, 0 to 16714\n",
      "Data columns (total 14 columns):\n",
      " #   Column                     Non-Null Count  Dtype  \n",
      "---  ------                     --------------  -----  \n",
      " 0   name                       16713 non-null  object \n",
      " 1   platform                   16713 non-null  object \n",
      " 2   year_of_release            16565 non-null  float64\n",
      " 3   genre                      16713 non-null  object \n",
      " 4   na_sales                   16713 non-null  float64\n",
      " 5   eu_sales                   16713 non-null  float64\n",
      " 6   jp_sales                   16713 non-null  float64\n",
      " 7   other_sales                16713 non-null  float64\n",
      " 8   critic_score               8137 non-null   float64\n",
      " 9   user_score                 7590 non-null   float64\n",
      " 10  rating                     9949 non-null   object \n",
      " 11  critic_score_corregido     16713 non-null  float64\n",
      " 12  user_score_corregido       16713 non-null  float64\n",
      " 13  year_of_release_corregido  16565 non-null  float64\n",
      "dtypes: float64(10), object(4)\n",
      "memory usage: 1.9+ MB\n"
     ]
    }
   ],
   "source": [
    "games.info()"
   ]
  },
  {
   "cell_type": "markdown",
   "metadata": {},
   "source": [
    "Se observa que se reeplazaron 121 filas con valores que antes presentaban valores ausentes. Para las 148 filas restantes con valores ausentes, se decide no eliminarlas dado que podría aportar información para el análisis."
   ]
  },
  {
   "cell_type": "markdown",
   "metadata": {},
   "source": [
    "#### Calcular las ventas totales para cada juego"
   ]
  },
  {
   "cell_type": "code",
   "execution_count": 25,
   "metadata": {},
   "outputs": [],
   "source": [
    "games[\"ventas_totales\"] = games[\"na_sales\"] + games[\"eu_sales\"] + games[\"jp_sales\"] + games[\"other_sales\"]"
   ]
  },
  {
   "cell_type": "code",
   "execution_count": 26,
   "metadata": {},
   "outputs": [
    {
     "data": {
      "text/html": [
       "<div>\n",
       "<style scoped>\n",
       "    .dataframe tbody tr th:only-of-type {\n",
       "        vertical-align: middle;\n",
       "    }\n",
       "\n",
       "    .dataframe tbody tr th {\n",
       "        vertical-align: top;\n",
       "    }\n",
       "\n",
       "    .dataframe thead th {\n",
       "        text-align: right;\n",
       "    }\n",
       "</style>\n",
       "<table border=\"1\" class=\"dataframe\">\n",
       "  <thead>\n",
       "    <tr style=\"text-align: right;\">\n",
       "      <th></th>\n",
       "      <th>name</th>\n",
       "      <th>platform</th>\n",
       "      <th>year_of_release</th>\n",
       "      <th>genre</th>\n",
       "      <th>na_sales</th>\n",
       "      <th>eu_sales</th>\n",
       "      <th>jp_sales</th>\n",
       "      <th>other_sales</th>\n",
       "      <th>critic_score</th>\n",
       "      <th>user_score</th>\n",
       "      <th>rating</th>\n",
       "      <th>critic_score_corregido</th>\n",
       "      <th>user_score_corregido</th>\n",
       "      <th>year_of_release_corregido</th>\n",
       "      <th>ventas_totales</th>\n",
       "    </tr>\n",
       "  </thead>\n",
       "  <tbody>\n",
       "    <tr>\n",
       "      <th>0</th>\n",
       "      <td>Wii Sports</td>\n",
       "      <td>Wii</td>\n",
       "      <td>2006.0</td>\n",
       "      <td>Sports</td>\n",
       "      <td>41.36</td>\n",
       "      <td>28.96</td>\n",
       "      <td>3.77</td>\n",
       "      <td>8.45</td>\n",
       "      <td>76.0</td>\n",
       "      <td>8.0</td>\n",
       "      <td>E</td>\n",
       "      <td>76.0</td>\n",
       "      <td>8.0</td>\n",
       "      <td>2006.0</td>\n",
       "      <td>82.54</td>\n",
       "    </tr>\n",
       "    <tr>\n",
       "      <th>1</th>\n",
       "      <td>Super Mario Bros.</td>\n",
       "      <td>NES</td>\n",
       "      <td>1985.0</td>\n",
       "      <td>Platform</td>\n",
       "      <td>29.08</td>\n",
       "      <td>3.58</td>\n",
       "      <td>6.81</td>\n",
       "      <td>0.77</td>\n",
       "      <td>NaN</td>\n",
       "      <td>NaN</td>\n",
       "      <td>NaN</td>\n",
       "      <td>69.0</td>\n",
       "      <td>7.7</td>\n",
       "      <td>1985.0</td>\n",
       "      <td>40.24</td>\n",
       "    </tr>\n",
       "    <tr>\n",
       "      <th>2</th>\n",
       "      <td>Mario Kart Wii</td>\n",
       "      <td>Wii</td>\n",
       "      <td>2008.0</td>\n",
       "      <td>Racing</td>\n",
       "      <td>15.68</td>\n",
       "      <td>12.76</td>\n",
       "      <td>3.79</td>\n",
       "      <td>3.29</td>\n",
       "      <td>82.0</td>\n",
       "      <td>8.3</td>\n",
       "      <td>E</td>\n",
       "      <td>82.0</td>\n",
       "      <td>8.3</td>\n",
       "      <td>2008.0</td>\n",
       "      <td>35.52</td>\n",
       "    </tr>\n",
       "    <tr>\n",
       "      <th>3</th>\n",
       "      <td>Wii Sports Resort</td>\n",
       "      <td>Wii</td>\n",
       "      <td>2009.0</td>\n",
       "      <td>Sports</td>\n",
       "      <td>15.61</td>\n",
       "      <td>10.93</td>\n",
       "      <td>3.28</td>\n",
       "      <td>2.95</td>\n",
       "      <td>80.0</td>\n",
       "      <td>8.0</td>\n",
       "      <td>E</td>\n",
       "      <td>80.0</td>\n",
       "      <td>8.0</td>\n",
       "      <td>2009.0</td>\n",
       "      <td>32.77</td>\n",
       "    </tr>\n",
       "    <tr>\n",
       "      <th>4</th>\n",
       "      <td>Pokemon Red/Pokemon Blue</td>\n",
       "      <td>GB</td>\n",
       "      <td>1996.0</td>\n",
       "      <td>Role-Playing</td>\n",
       "      <td>11.27</td>\n",
       "      <td>8.89</td>\n",
       "      <td>10.22</td>\n",
       "      <td>1.00</td>\n",
       "      <td>NaN</td>\n",
       "      <td>NaN</td>\n",
       "      <td>NaN</td>\n",
       "      <td>74.0</td>\n",
       "      <td>7.8</td>\n",
       "      <td>1996.0</td>\n",
       "      <td>31.38</td>\n",
       "    </tr>\n",
       "    <tr>\n",
       "      <th>...</th>\n",
       "      <td>...</td>\n",
       "      <td>...</td>\n",
       "      <td>...</td>\n",
       "      <td>...</td>\n",
       "      <td>...</td>\n",
       "      <td>...</td>\n",
       "      <td>...</td>\n",
       "      <td>...</td>\n",
       "      <td>...</td>\n",
       "      <td>...</td>\n",
       "      <td>...</td>\n",
       "      <td>...</td>\n",
       "      <td>...</td>\n",
       "      <td>...</td>\n",
       "      <td>...</td>\n",
       "    </tr>\n",
       "    <tr>\n",
       "      <th>16710</th>\n",
       "      <td>Samurai Warriors: Sanada Maru</td>\n",
       "      <td>PS3</td>\n",
       "      <td>2016.0</td>\n",
       "      <td>Action</td>\n",
       "      <td>0.00</td>\n",
       "      <td>0.00</td>\n",
       "      <td>0.01</td>\n",
       "      <td>0.00</td>\n",
       "      <td>NaN</td>\n",
       "      <td>NaN</td>\n",
       "      <td>NaN</td>\n",
       "      <td>68.0</td>\n",
       "      <td>7.4</td>\n",
       "      <td>2016.0</td>\n",
       "      <td>0.01</td>\n",
       "    </tr>\n",
       "    <tr>\n",
       "      <th>16711</th>\n",
       "      <td>LMA Manager 2007</td>\n",
       "      <td>X360</td>\n",
       "      <td>2003.0</td>\n",
       "      <td>Sports</td>\n",
       "      <td>0.00</td>\n",
       "      <td>0.01</td>\n",
       "      <td>0.00</td>\n",
       "      <td>0.00</td>\n",
       "      <td>NaN</td>\n",
       "      <td>NaN</td>\n",
       "      <td>NaN</td>\n",
       "      <td>75.0</td>\n",
       "      <td>7.4</td>\n",
       "      <td>2003.0</td>\n",
       "      <td>0.01</td>\n",
       "    </tr>\n",
       "    <tr>\n",
       "      <th>16712</th>\n",
       "      <td>Haitaka no Psychedelica</td>\n",
       "      <td>PSV</td>\n",
       "      <td>2016.0</td>\n",
       "      <td>Adventure</td>\n",
       "      <td>0.00</td>\n",
       "      <td>0.00</td>\n",
       "      <td>0.01</td>\n",
       "      <td>0.00</td>\n",
       "      <td>NaN</td>\n",
       "      <td>NaN</td>\n",
       "      <td>NaN</td>\n",
       "      <td>66.0</td>\n",
       "      <td>7.6</td>\n",
       "      <td>2016.0</td>\n",
       "      <td>0.01</td>\n",
       "    </tr>\n",
       "    <tr>\n",
       "      <th>16713</th>\n",
       "      <td>Spirits &amp; Spells</td>\n",
       "      <td>GBA</td>\n",
       "      <td>NaN</td>\n",
       "      <td>Platform</td>\n",
       "      <td>0.01</td>\n",
       "      <td>0.00</td>\n",
       "      <td>0.00</td>\n",
       "      <td>0.00</td>\n",
       "      <td>NaN</td>\n",
       "      <td>NaN</td>\n",
       "      <td>NaN</td>\n",
       "      <td>69.0</td>\n",
       "      <td>7.7</td>\n",
       "      <td>NaN</td>\n",
       "      <td>0.01</td>\n",
       "    </tr>\n",
       "    <tr>\n",
       "      <th>16714</th>\n",
       "      <td>Winning Post 8 2016</td>\n",
       "      <td>PSV</td>\n",
       "      <td>NaN</td>\n",
       "      <td>Simulation</td>\n",
       "      <td>0.00</td>\n",
       "      <td>0.00</td>\n",
       "      <td>0.01</td>\n",
       "      <td>0.00</td>\n",
       "      <td>NaN</td>\n",
       "      <td>NaN</td>\n",
       "      <td>NaN</td>\n",
       "      <td>70.0</td>\n",
       "      <td>7.5</td>\n",
       "      <td>NaN</td>\n",
       "      <td>0.01</td>\n",
       "    </tr>\n",
       "  </tbody>\n",
       "</table>\n",
       "<p>16713 rows × 15 columns</p>\n",
       "</div>"
      ],
      "text/plain": [
       "                                name platform  year_of_release         genre  \\\n",
       "0                         Wii Sports      Wii           2006.0        Sports   \n",
       "1                  Super Mario Bros.      NES           1985.0      Platform   \n",
       "2                     Mario Kart Wii      Wii           2008.0        Racing   \n",
       "3                  Wii Sports Resort      Wii           2009.0        Sports   \n",
       "4           Pokemon Red/Pokemon Blue       GB           1996.0  Role-Playing   \n",
       "...                              ...      ...              ...           ...   \n",
       "16710  Samurai Warriors: Sanada Maru      PS3           2016.0        Action   \n",
       "16711               LMA Manager 2007     X360           2003.0        Sports   \n",
       "16712        Haitaka no Psychedelica      PSV           2016.0     Adventure   \n",
       "16713               Spirits & Spells      GBA              NaN      Platform   \n",
       "16714            Winning Post 8 2016      PSV              NaN    Simulation   \n",
       "\n",
       "       na_sales  eu_sales  jp_sales  other_sales  critic_score  user_score  \\\n",
       "0         41.36     28.96      3.77         8.45          76.0         8.0   \n",
       "1         29.08      3.58      6.81         0.77           NaN         NaN   \n",
       "2         15.68     12.76      3.79         3.29          82.0         8.3   \n",
       "3         15.61     10.93      3.28         2.95          80.0         8.0   \n",
       "4         11.27      8.89     10.22         1.00           NaN         NaN   \n",
       "...         ...       ...       ...          ...           ...         ...   \n",
       "16710      0.00      0.00      0.01         0.00           NaN         NaN   \n",
       "16711      0.00      0.01      0.00         0.00           NaN         NaN   \n",
       "16712      0.00      0.00      0.01         0.00           NaN         NaN   \n",
       "16713      0.01      0.00      0.00         0.00           NaN         NaN   \n",
       "16714      0.00      0.00      0.01         0.00           NaN         NaN   \n",
       "\n",
       "      rating  critic_score_corregido  user_score_corregido  \\\n",
       "0          E                    76.0                   8.0   \n",
       "1        NaN                    69.0                   7.7   \n",
       "2          E                    82.0                   8.3   \n",
       "3          E                    80.0                   8.0   \n",
       "4        NaN                    74.0                   7.8   \n",
       "...      ...                     ...                   ...   \n",
       "16710    NaN                    68.0                   7.4   \n",
       "16711    NaN                    75.0                   7.4   \n",
       "16712    NaN                    66.0                   7.6   \n",
       "16713    NaN                    69.0                   7.7   \n",
       "16714    NaN                    70.0                   7.5   \n",
       "\n",
       "       year_of_release_corregido  ventas_totales  \n",
       "0                         2006.0           82.54  \n",
       "1                         1985.0           40.24  \n",
       "2                         2008.0           35.52  \n",
       "3                         2009.0           32.77  \n",
       "4                         1996.0           31.38  \n",
       "...                          ...             ...  \n",
       "16710                     2016.0            0.01  \n",
       "16711                     2003.0            0.01  \n",
       "16712                     2016.0            0.01  \n",
       "16713                        NaN            0.01  \n",
       "16714                        NaN            0.01  \n",
       "\n",
       "[16713 rows x 15 columns]"
      ]
     },
     "execution_count": 26,
     "metadata": {},
     "output_type": "execute_result"
    }
   ],
   "source": [
    "games"
   ]
  },
  {
   "cell_type": "markdown",
   "metadata": {},
   "source": [
    "### Analisis los datos"
   ]
  },
  {
   "cell_type": "markdown",
   "metadata": {},
   "source": [
    "#### Cantidad de juegos lanzados en diferentes años"
   ]
  },
  {
   "cell_type": "code",
   "execution_count": 27,
   "metadata": {},
   "outputs": [
    {
     "name": "stdout",
     "output_type": "stream",
     "text": [
      "    year_of_release  name\n",
      "0            1980.0     9\n",
      "1            1981.0    46\n",
      "2            1982.0    36\n",
      "3            1983.0    17\n",
      "4            1984.0    14\n",
      "5            1985.0    14\n",
      "6            1986.0    21\n",
      "7            1987.0    16\n",
      "8            1988.0    15\n",
      "9            1989.0    17\n",
      "10           1990.0    16\n",
      "11           1991.0    41\n",
      "12           1992.0    43\n",
      "13           1993.0    60\n",
      "14           1994.0   121\n",
      "15           1995.0   219\n",
      "16           1996.0   263\n",
      "17           1997.0   289\n",
      "18           1998.0   379\n",
      "19           1999.0   339\n",
      "20           2000.0   350\n",
      "21           2001.0   484\n",
      "22           2002.0   845\n",
      "23           2003.0   785\n",
      "24           2004.0   765\n",
      "25           2005.0   946\n",
      "26           2006.0  1020\n",
      "27           2007.0  1202\n",
      "28           2008.0  1440\n",
      "29           2009.0  1431\n",
      "30           2010.0  1271\n",
      "31           2011.0  1152\n",
      "32           2012.0   662\n",
      "33           2013.0   547\n",
      "34           2014.0   582\n",
      "35           2015.0   606\n",
      "36           2016.0   502\n"
     ]
    },
    {
     "data": {
      "text/plain": [
       "<AxesSubplot:xlabel='year_of_release'>"
      ]
     },
     "execution_count": 27,
     "metadata": {},
     "output_type": "execute_result"
    },
    {
     "data": {
      "image/png": "[encoded data removed]",
      "text/plain": [
       "<Figure size 640x480 with 1 Axes>"
      ]
     },
     "metadata": {},
     "output_type": "display_data"
    }
   ],
   "source": [
    "cantidad_juegos = games.groupby(\"year_of_release\")[\"name\"].count().reset_index()\n",
    "print(cantidad_juegos)\n",
    "cantidad_juegos.plot(kind=\"line\", x=\"year_of_release\", y=\"name\")"
   ]
  },
  {
   "cell_type": "markdown",
   "metadata": {},
   "source": [
    "Desde el año 2000 hacia atrás el volumen de las ventas es bajo en compración a periodos posteriores. Por otro lado se observa que existen años con picos de venta, siendo el 2008 el año con mayor cantidad de lanzamientos. A partir de ese periodo la cantidad de lanzamientos comienza a decrecer hasta el año 2016."
   ]
  },
  {
   "cell_type": "markdown",
   "metadata": {},
   "source": [
    " #### Ventas por plataforma\n",
    " \n",
    " "
   ]
  },
  {
   "cell_type": "markdown",
   "metadata": {},
   "source": [
    "##### Plataformas con las mayores ventas totales y su distribución"
   ]
  },
  {
   "cell_type": "code",
   "execution_count": 28,
   "metadata": {},
   "outputs": [
    {
     "data": {
      "text/html": [
       "<div>\n",
       "<style scoped>\n",
       "    .dataframe tbody tr th:only-of-type {\n",
       "        vertical-align: middle;\n",
       "    }\n",
       "\n",
       "    .dataframe tbody tr th {\n",
       "        vertical-align: top;\n",
       "    }\n",
       "\n",
       "    .dataframe thead th {\n",
       "        text-align: right;\n",
       "    }\n",
       "</style>\n",
       "<table border=\"1\" class=\"dataframe\">\n",
       "  <thead>\n",
       "    <tr style=\"text-align: right;\">\n",
       "      <th></th>\n",
       "      <th>ventas_totales</th>\n",
       "    </tr>\n",
       "    <tr>\n",
       "      <th>platform</th>\n",
       "      <th></th>\n",
       "    </tr>\n",
       "  </thead>\n",
       "  <tbody>\n",
       "    <tr>\n",
       "      <th>PS2</th>\n",
       "      <td>1255.77</td>\n",
       "    </tr>\n",
       "    <tr>\n",
       "      <th>X360</th>\n",
       "      <td>971.42</td>\n",
       "    </tr>\n",
       "    <tr>\n",
       "      <th>PS3</th>\n",
       "      <td>939.65</td>\n",
       "    </tr>\n",
       "    <tr>\n",
       "      <th>Wii</th>\n",
       "      <td>907.51</td>\n",
       "    </tr>\n",
       "    <tr>\n",
       "      <th>DS</th>\n",
       "      <td>806.12</td>\n",
       "    </tr>\n",
       "  </tbody>\n",
       "</table>\n",
       "</div>"
      ],
      "text/plain": [
       "          ventas_totales\n",
       "platform                \n",
       "PS2              1255.77\n",
       "X360              971.42\n",
       "PS3               939.65\n",
       "Wii               907.51\n",
       "DS                806.12"
      ]
     },
     "execution_count": 28,
     "metadata": {},
     "output_type": "execute_result"
    }
   ],
   "source": [
    "ventas_por_plataforma = games.pivot_table(index = \"platform\", values = \"ventas_totales\", aggfunc = \"sum\")\n",
    "ventas_por_plataforma.sort_values(by = \"ventas_totales\" , ascending = False).head()"
   ]
  },
  {
   "cell_type": "code",
   "execution_count": 29,
   "metadata": {},
   "outputs": [
    {
     "data": {
      "text/html": [
       "<div>\n",
       "<style scoped>\n",
       "    .dataframe tbody tr th:only-of-type {\n",
       "        vertical-align: middle;\n",
       "    }\n",
       "\n",
       "    .dataframe tbody tr th {\n",
       "        vertical-align: top;\n",
       "    }\n",
       "\n",
       "    .dataframe thead th {\n",
       "        text-align: right;\n",
       "    }\n",
       "</style>\n",
       "<table border=\"1\" class=\"dataframe\">\n",
       "  <thead>\n",
       "    <tr style=\"text-align: right;\">\n",
       "      <th></th>\n",
       "      <th>name</th>\n",
       "      <th>platform</th>\n",
       "      <th>year_of_release</th>\n",
       "      <th>genre</th>\n",
       "      <th>na_sales</th>\n",
       "      <th>eu_sales</th>\n",
       "      <th>jp_sales</th>\n",
       "      <th>other_sales</th>\n",
       "      <th>critic_score</th>\n",
       "      <th>user_score</th>\n",
       "      <th>rating</th>\n",
       "      <th>critic_score_corregido</th>\n",
       "      <th>user_score_corregido</th>\n",
       "      <th>year_of_release_corregido</th>\n",
       "      <th>ventas_totales</th>\n",
       "    </tr>\n",
       "  </thead>\n",
       "  <tbody>\n",
       "    <tr>\n",
       "      <th>0</th>\n",
       "      <td>Wii Sports</td>\n",
       "      <td>Wii</td>\n",
       "      <td>2006.0</td>\n",
       "      <td>Sports</td>\n",
       "      <td>41.36</td>\n",
       "      <td>28.96</td>\n",
       "      <td>3.77</td>\n",
       "      <td>8.45</td>\n",
       "      <td>76.0</td>\n",
       "      <td>8.0</td>\n",
       "      <td>E</td>\n",
       "      <td>76.0</td>\n",
       "      <td>8.0</td>\n",
       "      <td>2006.0</td>\n",
       "      <td>82.54</td>\n",
       "    </tr>\n",
       "    <tr>\n",
       "      <th>2</th>\n",
       "      <td>Mario Kart Wii</td>\n",
       "      <td>Wii</td>\n",
       "      <td>2008.0</td>\n",
       "      <td>Racing</td>\n",
       "      <td>15.68</td>\n",
       "      <td>12.76</td>\n",
       "      <td>3.79</td>\n",
       "      <td>3.29</td>\n",
       "      <td>82.0</td>\n",
       "      <td>8.3</td>\n",
       "      <td>E</td>\n",
       "      <td>82.0</td>\n",
       "      <td>8.3</td>\n",
       "      <td>2008.0</td>\n",
       "      <td>35.52</td>\n",
       "    </tr>\n",
       "    <tr>\n",
       "      <th>3</th>\n",
       "      <td>Wii Sports Resort</td>\n",
       "      <td>Wii</td>\n",
       "      <td>2009.0</td>\n",
       "      <td>Sports</td>\n",
       "      <td>15.61</td>\n",
       "      <td>10.93</td>\n",
       "      <td>3.28</td>\n",
       "      <td>2.95</td>\n",
       "      <td>80.0</td>\n",
       "      <td>8.0</td>\n",
       "      <td>E</td>\n",
       "      <td>80.0</td>\n",
       "      <td>8.0</td>\n",
       "      <td>2009.0</td>\n",
       "      <td>32.77</td>\n",
       "    </tr>\n",
       "    <tr>\n",
       "      <th>6</th>\n",
       "      <td>New Super Mario Bros.</td>\n",
       "      <td>DS</td>\n",
       "      <td>2006.0</td>\n",
       "      <td>Platform</td>\n",
       "      <td>11.28</td>\n",
       "      <td>9.14</td>\n",
       "      <td>6.50</td>\n",
       "      <td>2.88</td>\n",
       "      <td>89.0</td>\n",
       "      <td>8.5</td>\n",
       "      <td>E</td>\n",
       "      <td>89.0</td>\n",
       "      <td>8.5</td>\n",
       "      <td>2006.0</td>\n",
       "      <td>29.80</td>\n",
       "    </tr>\n",
       "    <tr>\n",
       "      <th>7</th>\n",
       "      <td>Wii Play</td>\n",
       "      <td>Wii</td>\n",
       "      <td>2006.0</td>\n",
       "      <td>Misc</td>\n",
       "      <td>13.96</td>\n",
       "      <td>9.18</td>\n",
       "      <td>2.93</td>\n",
       "      <td>2.84</td>\n",
       "      <td>58.0</td>\n",
       "      <td>6.6</td>\n",
       "      <td>E</td>\n",
       "      <td>58.0</td>\n",
       "      <td>6.6</td>\n",
       "      <td>2006.0</td>\n",
       "      <td>28.91</td>\n",
       "    </tr>\n",
       "    <tr>\n",
       "      <th>...</th>\n",
       "      <td>...</td>\n",
       "      <td>...</td>\n",
       "      <td>...</td>\n",
       "      <td>...</td>\n",
       "      <td>...</td>\n",
       "      <td>...</td>\n",
       "      <td>...</td>\n",
       "      <td>...</td>\n",
       "      <td>...</td>\n",
       "      <td>...</td>\n",
       "      <td>...</td>\n",
       "      <td>...</td>\n",
       "      <td>...</td>\n",
       "      <td>...</td>\n",
       "      <td>...</td>\n",
       "    </tr>\n",
       "    <tr>\n",
       "      <th>16700</th>\n",
       "      <td>Mezase!! Tsuri Master DS</td>\n",
       "      <td>DS</td>\n",
       "      <td>2011.0</td>\n",
       "      <td>Sports</td>\n",
       "      <td>0.00</td>\n",
       "      <td>0.00</td>\n",
       "      <td>0.01</td>\n",
       "      <td>0.00</td>\n",
       "      <td>NaN</td>\n",
       "      <td>NaN</td>\n",
       "      <td>NaN</td>\n",
       "      <td>75.0</td>\n",
       "      <td>7.4</td>\n",
       "      <td>2011.0</td>\n",
       "      <td>0.01</td>\n",
       "    </tr>\n",
       "    <tr>\n",
       "      <th>16704</th>\n",
       "      <td>Plushees</td>\n",
       "      <td>DS</td>\n",
       "      <td>2003.0</td>\n",
       "      <td>Simulation</td>\n",
       "      <td>0.01</td>\n",
       "      <td>0.00</td>\n",
       "      <td>0.00</td>\n",
       "      <td>0.00</td>\n",
       "      <td>NaN</td>\n",
       "      <td>NaN</td>\n",
       "      <td>E</td>\n",
       "      <td>70.0</td>\n",
       "      <td>7.5</td>\n",
       "      <td>2003.0</td>\n",
       "      <td>0.01</td>\n",
       "    </tr>\n",
       "    <tr>\n",
       "      <th>16709</th>\n",
       "      <td>SCORE International Baja 1000: The Official Game</td>\n",
       "      <td>PS2</td>\n",
       "      <td>2006.0</td>\n",
       "      <td>Racing</td>\n",
       "      <td>0.00</td>\n",
       "      <td>0.00</td>\n",
       "      <td>0.00</td>\n",
       "      <td>0.00</td>\n",
       "      <td>NaN</td>\n",
       "      <td>NaN</td>\n",
       "      <td>NaN</td>\n",
       "      <td>69.0</td>\n",
       "      <td>7.4</td>\n",
       "      <td>2006.0</td>\n",
       "      <td>0.00</td>\n",
       "    </tr>\n",
       "    <tr>\n",
       "      <th>16710</th>\n",
       "      <td>Samurai Warriors: Sanada Maru</td>\n",
       "      <td>PS3</td>\n",
       "      <td>2016.0</td>\n",
       "      <td>Action</td>\n",
       "      <td>0.00</td>\n",
       "      <td>0.00</td>\n",
       "      <td>0.01</td>\n",
       "      <td>0.00</td>\n",
       "      <td>NaN</td>\n",
       "      <td>NaN</td>\n",
       "      <td>NaN</td>\n",
       "      <td>68.0</td>\n",
       "      <td>7.4</td>\n",
       "      <td>2016.0</td>\n",
       "      <td>0.01</td>\n",
       "    </tr>\n",
       "    <tr>\n",
       "      <th>16711</th>\n",
       "      <td>LMA Manager 2007</td>\n",
       "      <td>X360</td>\n",
       "      <td>2003.0</td>\n",
       "      <td>Sports</td>\n",
       "      <td>0.00</td>\n",
       "      <td>0.01</td>\n",
       "      <td>0.00</td>\n",
       "      <td>0.00</td>\n",
       "      <td>NaN</td>\n",
       "      <td>NaN</td>\n",
       "      <td>NaN</td>\n",
       "      <td>75.0</td>\n",
       "      <td>7.4</td>\n",
       "      <td>2003.0</td>\n",
       "      <td>0.01</td>\n",
       "    </tr>\n",
       "  </tbody>\n",
       "</table>\n",
       "<p>8225 rows × 15 columns</p>\n",
       "</div>"
      ],
      "text/plain": [
       "                                                   name platform  \\\n",
       "0                                            Wii Sports      Wii   \n",
       "2                                        Mario Kart Wii      Wii   \n",
       "3                                     Wii Sports Resort      Wii   \n",
       "6                                 New Super Mario Bros.       DS   \n",
       "7                                              Wii Play      Wii   \n",
       "...                                                 ...      ...   \n",
       "16700                          Mezase!! Tsuri Master DS       DS   \n",
       "16704                                          Plushees       DS   \n",
       "16709  SCORE International Baja 1000: The Official Game      PS2   \n",
       "16710                     Samurai Warriors: Sanada Maru      PS3   \n",
       "16711                                  LMA Manager 2007     X360   \n",
       "\n",
       "       year_of_release       genre  na_sales  eu_sales  jp_sales  other_sales  \\\n",
       "0               2006.0      Sports     41.36     28.96      3.77         8.45   \n",
       "2               2008.0      Racing     15.68     12.76      3.79         3.29   \n",
       "3               2009.0      Sports     15.61     10.93      3.28         2.95   \n",
       "6               2006.0    Platform     11.28      9.14      6.50         2.88   \n",
       "7               2006.0        Misc     13.96      9.18      2.93         2.84   \n",
       "...                ...         ...       ...       ...       ...          ...   \n",
       "16700           2011.0      Sports      0.00      0.00      0.01         0.00   \n",
       "16704           2003.0  Simulation      0.01      0.00      0.00         0.00   \n",
       "16709           2006.0      Racing      0.00      0.00      0.00         0.00   \n",
       "16710           2016.0      Action      0.00      0.00      0.01         0.00   \n",
       "16711           2003.0      Sports      0.00      0.01      0.00         0.00   \n",
       "\n",
       "       critic_score  user_score rating  critic_score_corregido  \\\n",
       "0              76.0         8.0      E                    76.0   \n",
       "2              82.0         8.3      E                    82.0   \n",
       "3              80.0         8.0      E                    80.0   \n",
       "6              89.0         8.5      E                    89.0   \n",
       "7              58.0         6.6      E                    58.0   \n",
       "...             ...         ...    ...                     ...   \n",
       "16700           NaN         NaN    NaN                    75.0   \n",
       "16704           NaN         NaN      E                    70.0   \n",
       "16709           NaN         NaN    NaN                    69.0   \n",
       "16710           NaN         NaN    NaN                    68.0   \n",
       "16711           NaN         NaN    NaN                    75.0   \n",
       "\n",
       "       user_score_corregido  year_of_release_corregido  ventas_totales  \n",
       "0                       8.0                     2006.0           82.54  \n",
       "2                       8.3                     2008.0           35.52  \n",
       "3                       8.0                     2009.0           32.77  \n",
       "6                       8.5                     2006.0           29.80  \n",
       "7                       6.6                     2006.0           28.91  \n",
       "...                     ...                        ...             ...  \n",
       "16700                   7.4                     2011.0            0.01  \n",
       "16704                   7.5                     2003.0            0.01  \n",
       "16709                   7.4                     2006.0            0.00  \n",
       "16710                   7.4                     2016.0            0.01  \n",
       "16711                   7.4                     2003.0            0.01  \n",
       "\n",
       "[8225 rows x 15 columns]"
      ]
     },
     "execution_count": 29,
     "metadata": {},
     "output_type": "execute_result"
    }
   ],
   "source": [
    "platform_list = (\"PS2\",\"X360\",\"PS3\",\"Wii\",\"DS\")\n",
    "games_filtrada = games[games[\"platform\"].isin(platform_list)]\n",
    "games_filtrada\n"
   ]
  },
  {
   "cell_type": "code",
   "execution_count": 30,
   "metadata": {},
   "outputs": [
    {
     "data": {
      "text/html": [
       "<div>\n",
       "<style scoped>\n",
       "    .dataframe tbody tr th:only-of-type {\n",
       "        vertical-align: middle;\n",
       "    }\n",
       "\n",
       "    .dataframe tbody tr th {\n",
       "        vertical-align: top;\n",
       "    }\n",
       "\n",
       "    .dataframe thead th {\n",
       "        text-align: right;\n",
       "    }\n",
       "</style>\n",
       "<table border=\"1\" class=\"dataframe\">\n",
       "  <thead>\n",
       "    <tr style=\"text-align: right;\">\n",
       "      <th></th>\n",
       "      <th>year_of_release</th>\n",
       "      <th>platform</th>\n",
       "      <th>ventas_totales</th>\n",
       "    </tr>\n",
       "  </thead>\n",
       "  <tbody>\n",
       "    <tr>\n",
       "      <th>0</th>\n",
       "      <td>1980.0</td>\n",
       "      <td>PS2</td>\n",
       "      <td>0.76</td>\n",
       "    </tr>\n",
       "    <tr>\n",
       "      <th>1</th>\n",
       "      <td>1980.0</td>\n",
       "      <td>Wii</td>\n",
       "      <td>0.50</td>\n",
       "    </tr>\n",
       "    <tr>\n",
       "      <th>2</th>\n",
       "      <td>1980.0</td>\n",
       "      <td>X360</td>\n",
       "      <td>0.57</td>\n",
       "    </tr>\n",
       "    <tr>\n",
       "      <th>3</th>\n",
       "      <td>1981.0</td>\n",
       "      <td>DS</td>\n",
       "      <td>1.44</td>\n",
       "    </tr>\n",
       "    <tr>\n",
       "      <th>4</th>\n",
       "      <td>1981.0</td>\n",
       "      <td>PS2</td>\n",
       "      <td>6.51</td>\n",
       "    </tr>\n",
       "    <tr>\n",
       "      <th>...</th>\n",
       "      <td>...</td>\n",
       "      <td>...</td>\n",
       "      <td>...</td>\n",
       "    </tr>\n",
       "    <tr>\n",
       "      <th>160</th>\n",
       "      <td>2016.0</td>\n",
       "      <td>DS</td>\n",
       "      <td>7.79</td>\n",
       "    </tr>\n",
       "    <tr>\n",
       "      <th>161</th>\n",
       "      <td>2016.0</td>\n",
       "      <td>PS2</td>\n",
       "      <td>17.23</td>\n",
       "    </tr>\n",
       "    <tr>\n",
       "      <th>162</th>\n",
       "      <td>2016.0</td>\n",
       "      <td>PS3</td>\n",
       "      <td>7.32</td>\n",
       "    </tr>\n",
       "    <tr>\n",
       "      <th>163</th>\n",
       "      <td>2016.0</td>\n",
       "      <td>Wii</td>\n",
       "      <td>7.39</td>\n",
       "    </tr>\n",
       "    <tr>\n",
       "      <th>164</th>\n",
       "      <td>2016.0</td>\n",
       "      <td>X360</td>\n",
       "      <td>5.62</td>\n",
       "    </tr>\n",
       "  </tbody>\n",
       "</table>\n",
       "<p>165 rows × 3 columns</p>\n",
       "</div>"
      ],
      "text/plain": [
       "     year_of_release platform  ventas_totales\n",
       "0             1980.0      PS2            0.76\n",
       "1             1980.0      Wii            0.50\n",
       "2             1980.0     X360            0.57\n",
       "3             1981.0       DS            1.44\n",
       "4             1981.0      PS2            6.51\n",
       "..               ...      ...             ...\n",
       "160           2016.0       DS            7.79\n",
       "161           2016.0      PS2           17.23\n",
       "162           2016.0      PS3            7.32\n",
       "163           2016.0      Wii            7.39\n",
       "164           2016.0     X360            5.62\n",
       "\n",
       "[165 rows x 3 columns]"
      ]
     },
     "execution_count": 30,
     "metadata": {},
     "output_type": "execute_result"
    }
   ],
   "source": [
    "distribucion_por_plataforma = games_filtrada.groupby([\"year_of_release\",\"platform\"])[\"ventas_totales\"].sum().reset_index()\n",
    "distribucion_por_plataforma"
   ]
  },
  {
   "cell_type": "code",
   "execution_count": 31,
   "metadata": {},
   "outputs": [
    {
     "data": {
      "text/plain": [
       "<AxesSubplot:xlabel='year_of_release', ylabel='ventas_totales'>"
      ]
     },
     "execution_count": 31,
     "metadata": {},
     "output_type": "execute_result"
    },
    {
     "data": {
      "image/png": "[encoded data removed]",
      "text/plain": [
       "<Figure size 640x480 with 1 Axes>"
      ]
     },
     "metadata": {},
     "output_type": "display_data"
    }
   ],
   "source": [
    "sns.lineplot(data=distribucion_por_plataforma, x = \"year_of_release\", y = \"ventas_totales\", hue = \"platform\")"
   ]
  },
  {
   "cell_type": "markdown",
   "metadata": {},
   "source": [
    "##### Plataformas que solían ser populares pero ya no lo son\n"
   ]
  },
  {
   "cell_type": "code",
   "execution_count": 32,
   "metadata": {},
   "outputs": [
    {
     "data": {
      "text/html": [
       "<div>\n",
       "<style scoped>\n",
       "    .dataframe tbody tr th:only-of-type {\n",
       "        vertical-align: middle;\n",
       "    }\n",
       "\n",
       "    .dataframe tbody tr th {\n",
       "        vertical-align: top;\n",
       "    }\n",
       "\n",
       "    .dataframe thead th {\n",
       "        text-align: right;\n",
       "    }\n",
       "</style>\n",
       "<table border=\"1\" class=\"dataframe\">\n",
       "  <thead>\n",
       "    <tr style=\"text-align: right;\">\n",
       "      <th></th>\n",
       "      <th>year_of_release</th>\n",
       "      <th>platform</th>\n",
       "      <th>ventas_totales</th>\n",
       "    </tr>\n",
       "  </thead>\n",
       "  <tbody>\n",
       "    <tr>\n",
       "      <th>0</th>\n",
       "      <td>1980.0</td>\n",
       "      <td>2600</td>\n",
       "      <td>7.34</td>\n",
       "    </tr>\n",
       "    <tr>\n",
       "      <th>1</th>\n",
       "      <td>1980.0</td>\n",
       "      <td>PC</td>\n",
       "      <td>1.16</td>\n",
       "    </tr>\n",
       "    <tr>\n",
       "      <th>2</th>\n",
       "      <td>1980.0</td>\n",
       "      <td>PS2</td>\n",
       "      <td>0.76</td>\n",
       "    </tr>\n",
       "    <tr>\n",
       "      <th>3</th>\n",
       "      <td>1980.0</td>\n",
       "      <td>PSP</td>\n",
       "      <td>1.05</td>\n",
       "    </tr>\n",
       "    <tr>\n",
       "      <th>4</th>\n",
       "      <td>1980.0</td>\n",
       "      <td>Wii</td>\n",
       "      <td>0.50</td>\n",
       "    </tr>\n",
       "    <tr>\n",
       "      <th>...</th>\n",
       "      <td>...</td>\n",
       "      <td>...</td>\n",
       "      <td>...</td>\n",
       "    </tr>\n",
       "    <tr>\n",
       "      <th>719</th>\n",
       "      <td>2016.0</td>\n",
       "      <td>Wii</td>\n",
       "      <td>7.39</td>\n",
       "    </tr>\n",
       "    <tr>\n",
       "      <th>720</th>\n",
       "      <td>2016.0</td>\n",
       "      <td>WiiU</td>\n",
       "      <td>1.56</td>\n",
       "    </tr>\n",
       "    <tr>\n",
       "      <th>721</th>\n",
       "      <td>2016.0</td>\n",
       "      <td>X360</td>\n",
       "      <td>5.62</td>\n",
       "    </tr>\n",
       "    <tr>\n",
       "      <th>722</th>\n",
       "      <td>2016.0</td>\n",
       "      <td>XB</td>\n",
       "      <td>4.09</td>\n",
       "    </tr>\n",
       "    <tr>\n",
       "      <th>723</th>\n",
       "      <td>2016.0</td>\n",
       "      <td>XOne</td>\n",
       "      <td>7.01</td>\n",
       "    </tr>\n",
       "  </tbody>\n",
       "</table>\n",
       "<p>724 rows × 3 columns</p>\n",
       "</div>"
      ],
      "text/plain": [
       "     year_of_release platform  ventas_totales\n",
       "0             1980.0     2600            7.34\n",
       "1             1980.0       PC            1.16\n",
       "2             1980.0      PS2            0.76\n",
       "3             1980.0      PSP            1.05\n",
       "4             1980.0      Wii            0.50\n",
       "..               ...      ...             ...\n",
       "719           2016.0      Wii            7.39\n",
       "720           2016.0     WiiU            1.56\n",
       "721           2016.0     X360            5.62\n",
       "722           2016.0       XB            4.09\n",
       "723           2016.0     XOne            7.01\n",
       "\n",
       "[724 rows x 3 columns]"
      ]
     },
     "execution_count": 32,
     "metadata": {},
     "output_type": "execute_result"
    }
   ],
   "source": [
    "distribucion_total_platafromas = games.groupby([\"year_of_release\",\"platform\"])[\"ventas_totales\"].sum().reset_index()\n",
    "distribucion_total_platafromas"
   ]
  },
  {
   "cell_type": "code",
   "execution_count": 33,
   "metadata": {},
   "outputs": [
    {
     "data": {
      "text/plain": [
       "<AxesSubplot:xlabel='year_of_release', ylabel='ventas_totales'>"
      ]
     },
     "execution_count": 33,
     "metadata": {},
     "output_type": "execute_result"
    },
    {
     "data": {
      "image/png": "[encoded data removed]",
      "text/plain": [
       "<Figure size 640x480 with 1 Axes>"
      ]
     },
     "metadata": {},
     "output_type": "display_data"
    }
   ],
   "source": [
    "sns.lineplot(data=distribucion_total_platafromas, x = \"year_of_release\", y = \"ventas_totales\", hue = \"platform\")"
   ]
  },
  {
   "cell_type": "markdown",
   "metadata": {},
   "source": [
    "Del gráfico de lineas, se observa un comportamiento similar en practicamente todas las platafomas, es decir, sus ventas aumentan  y luego decrecen sus ventas. El tiempo de vida por plataforma es de 5 años aproximadamente. Además hay plataformas que fueron populares desde 1995 hasta el 2000, como en el caso de \"PS\" Y \"NES\".\n",
    "\n",
    "Para graficar de mejor forma este comportamiento, tomaremos como referencia las plataformas de nintendo:"
   ]
  },
  {
   "cell_type": "code",
   "execution_count": 34,
   "metadata": {},
   "outputs": [
    {
     "data": {
      "text/plain": [
       "<AxesSubplot:xlabel='year_of_release'>"
      ]
     },
     "execution_count": 34,
     "metadata": {},
     "output_type": "execute_result"
    },
    {
     "data": {
      "image/png": "[encoded data removed]",
      "text/plain": [
       "<Figure size 640x480 with 1 Axes>"
      ]
     },
     "metadata": {},
     "output_type": "display_data"
    }
   ],
   "source": [
    "nintendo_platforms = [\"NES\", \"SNES\", \"N64\", \"GC\", \"Wii\", \"WiiU\"]\n",
    "games[games[\"platform\"].isin(nintendo_platforms)].pivot_table(index=\"year_of_release\",\n",
    "                                                              columns=\"platform\",\n",
    "                                                              values =\"ventas_totales\",aggfunc=\"sum\").plot(kind=\"line\")"
   ]
  },
  {
   "cell_type": "markdown",
   "metadata": {},
   "source": [
    "Se observa que las ventas por plataforma de nintendo tienen un comportamiento creciente en sus ventas para luego disminuirlas. El horizonte de tiempo en el cual una cosola se presenta en el mercado hasta que sus ventas disminuyen es de aproximadamente 5 años."
   ]
  },
  {
   "cell_type": "markdown",
   "metadata": {},
   "source": [
    "#### Determinar periodo de datos\n",
    "\n",
    "Se tomará un periodo de 5 años, desde el 2001 hasta el 2016."
   ]
  },
  {
   "cell_type": "code",
   "execution_count": 35,
   "metadata": {},
   "outputs": [],
   "source": [
    "games_filtrada_final = games.query(\"year_of_release >= 2011\")"
   ]
  },
  {
   "cell_type": "markdown",
   "metadata": {},
   "source": [
    "#### Crear un diagrama de caja para las ventas globales de todos los juegos, desglosados por plataforma"
   ]
  },
  {
   "cell_type": "code",
   "execution_count": 36,
   "metadata": {},
   "outputs": [
    {
     "data": {
      "text/plain": [
       "<AxesSubplot:xlabel='ventas_totales', ylabel='platform'>"
      ]
     },
     "execution_count": 36,
     "metadata": {},
     "output_type": "execute_result"
    },
    {
     "data": {
      "image/png": "[encoded data removed]",
      "text/plain": [
       "<Figure size 640x480 with 1 Axes>"
      ]
     },
     "metadata": {},
     "output_type": "display_data"
    }
   ],
   "source": [
    "sns.boxplot(data = games_filtrada_final, x = \"ventas_totales\", y= \"platform\", showfliers = False)\n"
   ]
  },
  {
   "cell_type": "markdown",
   "metadata": {},
   "source": [
    "Podemos ver que la distribución de la plataforma \"GB\" está fuertemente sesgada hacia la derecha, lo que indica que la media será mayor que la mediana. Esto también implica que los usuarios que prefieren esta platadorma que terminan gastando grandes cantidades de dinero; podríamos promocionar versiones mas actualizadas para atraer a estas personas a preferir esta consola.\n",
    "\n",
    "Tambien se observa que la plataforma \"NES\" es la que presenta mayor media, pero una variabilidad bastante alta y similar a la plataforma GB. Otras plataformas que presentan mayor homogeneidad en sus datos respecto a sus rivales serían \"X360\" y \"PS3\", lo cual tambien sería conveniente apuntar su estrategia comercial de cara al año 2017, dado que son consolas altamente preferidas por los usuarios."
   ]
  },
  {
   "cell_type": "code",
   "execution_count": 37,
   "metadata": {},
   "outputs": [
    {
     "data": {
      "text/plain": [
       "<AxesSubplot:xlabel='platform'>"
      ]
     },
     "execution_count": 37,
     "metadata": {},
     "output_type": "execute_result"
    },
    {
     "data": {
      "image/png": "[encoded data removed]",
      "text/plain": [
       "<Figure size 640x480 with 1 Axes>"
      ]
     },
     "metadata": {},
     "output_type": "display_data"
    }
   ],
   "source": [
    "games_filtrada_final.groupby(\"platform\")[\"ventas_totales\"].mean().sort_values(ascending=False).plot(kind=\"bar\")"
   ]
  },
  {
   "cell_type": "markdown",
   "metadata": {},
   "source": [
    "#### Mira cómo las reseñas de usuarios y profesionales afectan las ventas de una plataforma popular (tu elección). Crea un gráfico de dispersión y calcula la correlación entre las reseñas y las ventas. "
   ]
  },
  {
   "cell_type": "code",
   "execution_count": 38,
   "metadata": {},
   "outputs": [
    {
     "data": {
      "image/png": "[encoded data removed]",
      "text/plain": [
       "<Figure size 640x480 with 1 Axes>"
      ]
     },
     "metadata": {},
     "output_type": "display_data"
    }
   ],
   "source": [
    "#Relación entre puntuación de profesionales y las ventas totales\n",
    "games_filtrada_final[games_filtrada_final[\"platform\"]==\"X360\"].plot(x='critic_score_corregido', y='ventas_totales', kind='scatter')\n",
    "plt.show()"
   ]
  },
  {
   "cell_type": "code",
   "execution_count": 39,
   "metadata": {},
   "outputs": [
    {
     "data": {
      "text/html": [
       "<div>\n",
       "<style scoped>\n",
       "    .dataframe tbody tr th:only-of-type {\n",
       "        vertical-align: middle;\n",
       "    }\n",
       "\n",
       "    .dataframe tbody tr th {\n",
       "        vertical-align: top;\n",
       "    }\n",
       "\n",
       "    .dataframe thead th {\n",
       "        text-align: right;\n",
       "    }\n",
       "</style>\n",
       "<table border=\"1\" class=\"dataframe\">\n",
       "  <thead>\n",
       "    <tr style=\"text-align: right;\">\n",
       "      <th></th>\n",
       "      <th>ventas_totales</th>\n",
       "      <th>critic_score_corregido</th>\n",
       "    </tr>\n",
       "  </thead>\n",
       "  <tbody>\n",
       "    <tr>\n",
       "      <th>ventas_totales</th>\n",
       "      <td>1.00000</td>\n",
       "      <td>0.43385</td>\n",
       "    </tr>\n",
       "    <tr>\n",
       "      <th>critic_score_corregido</th>\n",
       "      <td>0.43385</td>\n",
       "      <td>1.00000</td>\n",
       "    </tr>\n",
       "  </tbody>\n",
       "</table>\n",
       "</div>"
      ],
      "text/plain": [
       "                        ventas_totales  critic_score_corregido\n",
       "ventas_totales                 1.00000                 0.43385\n",
       "critic_score_corregido         0.43385                 1.00000"
      ]
     },
     "execution_count": 39,
     "metadata": {},
     "output_type": "execute_result"
    }
   ],
   "source": [
    "games_filtrada_final.query(\"platform == 'X360'\")[[\"ventas_totales\",\"critic_score_corregido\"]].corr()"
   ]
  },
  {
   "cell_type": "markdown",
   "metadata": {},
   "source": [
    "Dado que nuestro coeficiente de correlación resultó 0.43, se determina que existe una correlación moderada entre la puntuación de la crítica y las ventas totales de la plataforma \"X360\""
   ]
  },
  {
   "cell_type": "code",
   "execution_count": 40,
   "metadata": {},
   "outputs": [
    {
     "data": {
      "image/png": "[encoded data removed]",
      "text/plain": [
       "<Figure size 640x480 with 1 Axes>"
      ]
     },
     "metadata": {},
     "output_type": "display_data"
    }
   ],
   "source": [
    "#Relación entre puntuación de usaurios y las ventas totales\n",
    "games_filtrada_final[games_filtrada_final[\"platform\"]==\"X360\"].plot(x='user_score_corregido', y='ventas_totales', kind='scatter')\n",
    "plt.show()"
   ]
  },
  {
   "cell_type": "code",
   "execution_count": 41,
   "metadata": {},
   "outputs": [
    {
     "data": {
      "text/html": [
       "<div>\n",
       "<style scoped>\n",
       "    .dataframe tbody tr th:only-of-type {\n",
       "        vertical-align: middle;\n",
       "    }\n",
       "\n",
       "    .dataframe tbody tr th {\n",
       "        vertical-align: top;\n",
       "    }\n",
       "\n",
       "    .dataframe thead th {\n",
       "        text-align: right;\n",
       "    }\n",
       "</style>\n",
       "<table border=\"1\" class=\"dataframe\">\n",
       "  <thead>\n",
       "    <tr style=\"text-align: right;\">\n",
       "      <th></th>\n",
       "      <th>ventas_totales</th>\n",
       "      <th>user_score_corregido</th>\n",
       "    </tr>\n",
       "  </thead>\n",
       "  <tbody>\n",
       "    <tr>\n",
       "      <th>ventas_totales</th>\n",
       "      <td>1.000000</td>\n",
       "      <td>-0.082493</td>\n",
       "    </tr>\n",
       "    <tr>\n",
       "      <th>user_score_corregido</th>\n",
       "      <td>-0.082493</td>\n",
       "      <td>1.000000</td>\n",
       "    </tr>\n",
       "  </tbody>\n",
       "</table>\n",
       "</div>"
      ],
      "text/plain": [
       "                      ventas_totales  user_score_corregido\n",
       "ventas_totales              1.000000             -0.082493\n",
       "user_score_corregido       -0.082493              1.000000"
      ]
     },
     "execution_count": 41,
     "metadata": {},
     "output_type": "execute_result"
    }
   ],
   "source": [
    "games_filtrada_final.query(\"platform == 'X360'\")[[\"ventas_totales\",\"user_score_corregido\"]].corr()"
   ]
  },
  {
   "cell_type": "markdown",
   "metadata": {},
   "source": [
    "Dado que nuestro coeficiente de correlación resultó 0.056, se determina que existe una correlación débil entre la puntuación de la crítica de usuarios y las ventas totales de la plataforma \"X360\""
   ]
  },
  {
   "cell_type": "markdown",
   "metadata": {},
   "source": [
    "#### compara las ventas de los mismos juegos en otras plataformas."
   ]
  },
  {
   "cell_type": "markdown",
   "metadata": {},
   "source": [
    "Tomaremos como referencia el juego vendido en mas plataformas: \"FIFA 14\""
   ]
  },
  {
   "cell_type": "code",
   "execution_count": 42,
   "metadata": {},
   "outputs": [
    {
     "data": {
      "text/plain": [
       "name\n",
       "Call of Duty: Ghosts                                               6\n",
       "Just Dance 2017                                                    6\n",
       "FIFA 16                                                            5\n",
       "Assassin's Creed III                                               4\n",
       "FIFA 15                                                            4\n",
       "                                                                  ..\n",
       "Hi! Hamtaro - Little Hamsters,big Adventures: Ham-Ham Challenge    1\n",
       "Hidden Mysteries: Buckingham Palace                                1\n",
       "High Heat Baseball 2002                                            1\n",
       "High School Musical 3: Senior Year DANCE!                          1\n",
       "¡Shin Chan Flipa en colores!                                       1\n",
       "Name: platform, Length: 3575, dtype: int64"
      ]
     },
     "execution_count": 42,
     "metadata": {},
     "output_type": "execute_result"
    }
   ],
   "source": [
    "games_filtrada_final.groupby(\"name\")[\"platform\"].nunique().sort_values(ascending=False)"
   ]
  },
  {
   "cell_type": "code",
   "execution_count": 43,
   "metadata": {},
   "outputs": [
    {
     "data": {
      "text/plain": [
       "platform\n",
       "PS3     6.46\n",
       "X360    4.22\n",
       "PS4     3.01\n",
       "PSP     0.19\n",
       "Name: ventas_totales, dtype: float64"
      ]
     },
     "execution_count": 43,
     "metadata": {},
     "output_type": "execute_result"
    }
   ],
   "source": [
    "games_fifa14 = games_filtrada_final[games_filtrada_final[\"name\"] == \"FIFA 14\"]\n",
    "games_fifa14.groupby(\"platform\")[\"ventas_totales\"].sum().sort_values(ascending=False)\n"
   ]
  },
  {
   "cell_type": "markdown",
   "metadata": {},
   "source": [
    "Se observa que las plataformas en las que se comercializa en mayor cantidad el juego FIFA 14 son \"PS3\", \"X360\" y \"PS4\". En cuanto los últimos 3 lugares la diferencia es significativa respecto a las otras plataformas."
   ]
  },
  {
   "cell_type": "markdown",
   "metadata": {},
   "source": [
    "#### Distribución general de los juegos por género"
   ]
  },
  {
   "cell_type": "code",
   "execution_count": 44,
   "metadata": {},
   "outputs": [
    {
     "data": {
      "text/plain": [
       "<AxesSubplot:xlabel='ventas_totales', ylabel='genre'>"
      ]
     },
     "execution_count": 44,
     "metadata": {},
     "output_type": "execute_result"
    },
    {
     "data": {
      "image/png": "[encoded data removed]",
      "text/plain": [
       "<Figure size 640x480 with 1 Axes>"
      ]
     },
     "metadata": {},
     "output_type": "display_data"
    }
   ],
   "source": [
    "sns.boxplot(data = games_filtrada_final, x = \"ventas_totales\", y= \"genre\", showfliers = False)\n",
    "\n"
   ]
  },
  {
   "cell_type": "markdown",
   "metadata": {},
   "source": [
    "De la distribución se observa que los juegos de  Plataforma, Rol y de Acción son los más preferidos por los usuarios, además sus ventas están sesgadas a la derecha, por lo que sus medias son mayores que la mediana. Por otro lado, los juegos de Aventura y Estrategia contituyen las preferencias más bajas."
   ]
  },
  {
   "cell_type": "markdown",
   "metadata": {},
   "source": [
    "### Crea un perfil de usuario para cada región"
   ]
  },
  {
   "cell_type": "markdown",
   "metadata": {},
   "source": [
    "#### Las cinco plataformas principales por región"
   ]
  },
  {
   "cell_type": "code",
   "execution_count": 45,
   "metadata": {},
   "outputs": [
    {
     "data": {
      "text/html": [
       "<div>\n",
       "<style scoped>\n",
       "    .dataframe tbody tr th:only-of-type {\n",
       "        vertical-align: middle;\n",
       "    }\n",
       "\n",
       "    .dataframe tbody tr th {\n",
       "        vertical-align: top;\n",
       "    }\n",
       "\n",
       "    .dataframe thead th {\n",
       "        text-align: right;\n",
       "    }\n",
       "</style>\n",
       "<table border=\"1\" class=\"dataframe\">\n",
       "  <thead>\n",
       "    <tr style=\"text-align: right;\">\n",
       "      <th></th>\n",
       "      <th>platform</th>\n",
       "      <th>jp_sales</th>\n",
       "    </tr>\n",
       "  </thead>\n",
       "  <tbody>\n",
       "    <tr>\n",
       "      <th>2</th>\n",
       "      <td>3DS</td>\n",
       "      <td>55.88</td>\n",
       "    </tr>\n",
       "    <tr>\n",
       "      <th>4</th>\n",
       "      <td>DS</td>\n",
       "      <td>24.82</td>\n",
       "    </tr>\n",
       "    <tr>\n",
       "      <th>14</th>\n",
       "      <td>PS2</td>\n",
       "      <td>22.13</td>\n",
       "    </tr>\n",
       "    <tr>\n",
       "      <th>15</th>\n",
       "      <td>PS3</td>\n",
       "      <td>21.54</td>\n",
       "    </tr>\n",
       "    <tr>\n",
       "      <th>13</th>\n",
       "      <td>PS</td>\n",
       "      <td>20.50</td>\n",
       "    </tr>\n",
       "  </tbody>\n",
       "</table>\n",
       "</div>"
      ],
      "text/plain": [
       "   platform  jp_sales\n",
       "2       3DS     55.88\n",
       "4        DS     24.82\n",
       "14      PS2     22.13\n",
       "15      PS3     21.54\n",
       "13       PS     20.50"
      ]
     },
     "execution_count": 45,
     "metadata": {},
     "output_type": "execute_result"
    }
   ],
   "source": [
    "#Mercado plataformas Japón\n",
    "\n",
    "market_jp = games_filtrada_final.groupby(\"platform\").agg({\"jp_sales\":\"sum\"}).reset_index()\n",
    "market_jp.sort_values(by = \"jp_sales\" , ascending = False).head(5)"
   ]
  },
  {
   "cell_type": "code",
   "execution_count": 46,
   "metadata": {},
   "outputs": [
    {
     "data": {
      "text/html": [
       "<div>\n",
       "<style scoped>\n",
       "    .dataframe tbody tr th:only-of-type {\n",
       "        vertical-align: middle;\n",
       "    }\n",
       "\n",
       "    .dataframe tbody tr th {\n",
       "        vertical-align: top;\n",
       "    }\n",
       "\n",
       "    .dataframe thead th {\n",
       "        text-align: right;\n",
       "    }\n",
       "</style>\n",
       "<table border=\"1\" class=\"dataframe\">\n",
       "  <thead>\n",
       "    <tr style=\"text-align: right;\">\n",
       "      <th></th>\n",
       "      <th>platform</th>\n",
       "      <th>eu_sales</th>\n",
       "    </tr>\n",
       "  </thead>\n",
       "  <tbody>\n",
       "    <tr>\n",
       "      <th>15</th>\n",
       "      <td>PS3</td>\n",
       "      <td>120.88</td>\n",
       "    </tr>\n",
       "    <tr>\n",
       "      <th>16</th>\n",
       "      <td>PS4</td>\n",
       "      <td>95.34</td>\n",
       "    </tr>\n",
       "    <tr>\n",
       "      <th>26</th>\n",
       "      <td>X360</td>\n",
       "      <td>79.69</td>\n",
       "    </tr>\n",
       "    <tr>\n",
       "      <th>14</th>\n",
       "      <td>PS2</td>\n",
       "      <td>54.18</td>\n",
       "    </tr>\n",
       "    <tr>\n",
       "      <th>2</th>\n",
       "      <td>3DS</td>\n",
       "      <td>39.40</td>\n",
       "    </tr>\n",
       "  </tbody>\n",
       "</table>\n",
       "</div>"
      ],
      "text/plain": [
       "   platform  eu_sales\n",
       "15      PS3    120.88\n",
       "16      PS4     95.34\n",
       "26     X360     79.69\n",
       "14      PS2     54.18\n",
       "2       3DS     39.40"
      ]
     },
     "execution_count": 46,
     "metadata": {},
     "output_type": "execute_result"
    }
   ],
   "source": [
    "#Mercado plataformas Unión europea\n",
    "market_eu = games_filtrada_final.groupby(\"platform\").agg({\"eu_sales\":\"sum\"}).reset_index()\n",
    "market_eu.sort_values(by = \"eu_sales\" , ascending = False).head(5)"
   ]
  },
  {
   "cell_type": "code",
   "execution_count": 47,
   "metadata": {},
   "outputs": [
    {
     "data": {
      "text/html": [
       "<div>\n",
       "<style scoped>\n",
       "    .dataframe tbody tr th:only-of-type {\n",
       "        vertical-align: middle;\n",
       "    }\n",
       "\n",
       "    .dataframe tbody tr th {\n",
       "        vertical-align: top;\n",
       "    }\n",
       "\n",
       "    .dataframe thead th {\n",
       "        text-align: right;\n",
       "    }\n",
       "</style>\n",
       "<table border=\"1\" class=\"dataframe\">\n",
       "  <thead>\n",
       "    <tr style=\"text-align: right;\">\n",
       "      <th></th>\n",
       "      <th>platform</th>\n",
       "      <th>na_sales</th>\n",
       "    </tr>\n",
       "  </thead>\n",
       "  <tbody>\n",
       "    <tr>\n",
       "      <th>26</th>\n",
       "      <td>X360</td>\n",
       "      <td>162.51</td>\n",
       "    </tr>\n",
       "    <tr>\n",
       "      <th>15</th>\n",
       "      <td>PS3</td>\n",
       "      <td>121.47</td>\n",
       "    </tr>\n",
       "    <tr>\n",
       "      <th>14</th>\n",
       "      <td>PS2</td>\n",
       "      <td>92.54</td>\n",
       "    </tr>\n",
       "    <tr>\n",
       "      <th>24</th>\n",
       "      <td>Wii</td>\n",
       "      <td>75.94</td>\n",
       "    </tr>\n",
       "    <tr>\n",
       "      <th>16</th>\n",
       "      <td>PS4</td>\n",
       "      <td>71.39</td>\n",
       "    </tr>\n",
       "  </tbody>\n",
       "</table>\n",
       "</div>"
      ],
      "text/plain": [
       "   platform  na_sales\n",
       "26     X360    162.51\n",
       "15      PS3    121.47\n",
       "14      PS2     92.54\n",
       "24      Wii     75.94\n",
       "16      PS4     71.39"
      ]
     },
     "execution_count": 47,
     "metadata": {},
     "output_type": "execute_result"
    }
   ],
   "source": [
    "#Mercado Norteamerica\n",
    "market_na = games_filtrada_final.groupby(\"platform\").agg({\"na_sales\":\"sum\"}).reset_index()\n",
    "market_na.sort_values(by = \"na_sales\" , ascending = False).head(5)"
   ]
  },
  {
   "cell_type": "markdown",
   "metadata": {},
   "source": [
    "De las tablas de oberva que las plataformas \"DS\", \"PS2\" y \"Wii\", están en el TOP 5 de las 3 regiones de análisis. La mayor cantidad de ventas de estas plataformas corresponde a la región de Norteamerica."
   ]
  },
  {
   "cell_type": "markdown",
   "metadata": {},
   "source": [
    "#### Los 5 generos principales por región"
   ]
  },
  {
   "cell_type": "code",
   "execution_count": 48,
   "metadata": {},
   "outputs": [
    {
     "data": {
      "text/html": [
       "<div>\n",
       "<style scoped>\n",
       "    .dataframe tbody tr th:only-of-type {\n",
       "        vertical-align: middle;\n",
       "    }\n",
       "\n",
       "    .dataframe tbody tr th {\n",
       "        vertical-align: top;\n",
       "    }\n",
       "\n",
       "    .dataframe thead th {\n",
       "        text-align: right;\n",
       "    }\n",
       "</style>\n",
       "<table border=\"1\" class=\"dataframe\">\n",
       "  <thead>\n",
       "    <tr style=\"text-align: right;\">\n",
       "      <th></th>\n",
       "      <th>genre</th>\n",
       "      <th>jp_sales</th>\n",
       "    </tr>\n",
       "  </thead>\n",
       "  <tbody>\n",
       "    <tr>\n",
       "      <th>7</th>\n",
       "      <td>Role-Playing</td>\n",
       "      <td>74.63</td>\n",
       "    </tr>\n",
       "    <tr>\n",
       "      <th>0</th>\n",
       "      <td>Action</td>\n",
       "      <td>35.35</td>\n",
       "    </tr>\n",
       "    <tr>\n",
       "      <th>10</th>\n",
       "      <td>Sports</td>\n",
       "      <td>21.85</td>\n",
       "    </tr>\n",
       "    <tr>\n",
       "      <th>2</th>\n",
       "      <td>Fighting</td>\n",
       "      <td>17.28</td>\n",
       "    </tr>\n",
       "    <tr>\n",
       "      <th>9</th>\n",
       "      <td>Simulation</td>\n",
       "      <td>14.78</td>\n",
       "    </tr>\n",
       "  </tbody>\n",
       "</table>\n",
       "</div>"
      ],
      "text/plain": [
       "           genre  jp_sales\n",
       "7   Role-Playing     74.63\n",
       "0         Action     35.35\n",
       "10        Sports     21.85\n",
       "2       Fighting     17.28\n",
       "9     Simulation     14.78"
      ]
     },
     "execution_count": 48,
     "metadata": {},
     "output_type": "execute_result"
    }
   ],
   "source": [
    "#Género Japon\n",
    "genre_jp = games_filtrada_final.groupby(\"genre\").agg({\"jp_sales\":\"sum\"}).reset_index()\n",
    "genre_jp.sort_values(by = \"jp_sales\" , ascending = False).head(5)"
   ]
  },
  {
   "cell_type": "code",
   "execution_count": 49,
   "metadata": {},
   "outputs": [
    {
     "data": {
      "text/html": [
       "<div>\n",
       "<style scoped>\n",
       "    .dataframe tbody tr th:only-of-type {\n",
       "        vertical-align: middle;\n",
       "    }\n",
       "\n",
       "    .dataframe tbody tr th {\n",
       "        vertical-align: top;\n",
       "    }\n",
       "\n",
       "    .dataframe thead th {\n",
       "        text-align: right;\n",
       "    }\n",
       "</style>\n",
       "<table border=\"1\" class=\"dataframe\">\n",
       "  <thead>\n",
       "    <tr style=\"text-align: right;\">\n",
       "      <th></th>\n",
       "      <th>genre</th>\n",
       "      <th>eu_sales</th>\n",
       "    </tr>\n",
       "  </thead>\n",
       "  <tbody>\n",
       "    <tr>\n",
       "      <th>0</th>\n",
       "      <td>Action</td>\n",
       "      <td>148.43</td>\n",
       "    </tr>\n",
       "    <tr>\n",
       "      <th>8</th>\n",
       "      <td>Shooter</td>\n",
       "      <td>127.68</td>\n",
       "    </tr>\n",
       "    <tr>\n",
       "      <th>10</th>\n",
       "      <td>Sports</td>\n",
       "      <td>97.26</td>\n",
       "    </tr>\n",
       "    <tr>\n",
       "      <th>7</th>\n",
       "      <td>Role-Playing</td>\n",
       "      <td>49.91</td>\n",
       "    </tr>\n",
       "    <tr>\n",
       "      <th>3</th>\n",
       "      <td>Misc</td>\n",
       "      <td>43.16</td>\n",
       "    </tr>\n",
       "  </tbody>\n",
       "</table>\n",
       "</div>"
      ],
      "text/plain": [
       "           genre  eu_sales\n",
       "0         Action    148.43\n",
       "8        Shooter    127.68\n",
       "10        Sports     97.26\n",
       "7   Role-Playing     49.91\n",
       "3           Misc     43.16"
      ]
     },
     "execution_count": 49,
     "metadata": {},
     "output_type": "execute_result"
    }
   ],
   "source": [
    "#Genero Union europea\n",
    "genre_eu = games_filtrada_final.groupby(\"genre\").agg({\"eu_sales\":\"sum\"}).reset_index()\n",
    "genre_eu.sort_values(by = \"eu_sales\" , ascending = False).head(5)"
   ]
  },
  {
   "cell_type": "code",
   "execution_count": 50,
   "metadata": {},
   "outputs": [
    {
     "data": {
      "text/html": [
       "<div>\n",
       "<style scoped>\n",
       "    .dataframe tbody tr th:only-of-type {\n",
       "        vertical-align: middle;\n",
       "    }\n",
       "\n",
       "    .dataframe tbody tr th {\n",
       "        vertical-align: top;\n",
       "    }\n",
       "\n",
       "    .dataframe thead th {\n",
       "        text-align: right;\n",
       "    }\n",
       "</style>\n",
       "<table border=\"1\" class=\"dataframe\">\n",
       "  <thead>\n",
       "    <tr style=\"text-align: right;\">\n",
       "      <th></th>\n",
       "      <th>genre</th>\n",
       "      <th>na_sales</th>\n",
       "    </tr>\n",
       "  </thead>\n",
       "  <tbody>\n",
       "    <tr>\n",
       "      <th>0</th>\n",
       "      <td>Action</td>\n",
       "      <td>201.66</td>\n",
       "    </tr>\n",
       "    <tr>\n",
       "      <th>8</th>\n",
       "      <td>Shooter</td>\n",
       "      <td>193.19</td>\n",
       "    </tr>\n",
       "    <tr>\n",
       "      <th>10</th>\n",
       "      <td>Sports</td>\n",
       "      <td>141.96</td>\n",
       "    </tr>\n",
       "    <tr>\n",
       "      <th>3</th>\n",
       "      <td>Misc</td>\n",
       "      <td>78.23</td>\n",
       "    </tr>\n",
       "    <tr>\n",
       "      <th>7</th>\n",
       "      <td>Role-Playing</td>\n",
       "      <td>76.24</td>\n",
       "    </tr>\n",
       "  </tbody>\n",
       "</table>\n",
       "</div>"
      ],
      "text/plain": [
       "           genre  na_sales\n",
       "0         Action    201.66\n",
       "8        Shooter    193.19\n",
       "10        Sports    141.96\n",
       "3           Misc     78.23\n",
       "7   Role-Playing     76.24"
      ]
     },
     "execution_count": 50,
     "metadata": {},
     "output_type": "execute_result"
    }
   ],
   "source": [
    "#Género Norteamerica\n",
    "genre_na = games_filtrada_final.groupby(\"genre\").agg({\"na_sales\":\"sum\"}).reset_index()\n",
    "genre_na.sort_values(by = \"na_sales\" , ascending = False).head(5)"
   ]
  },
  {
   "cell_type": "markdown",
   "metadata": {},
   "source": [
    "De las tablas de oberva que los géneros \"Action\", \"Sports\" y \"Misc\", están en el TOP 5 de las 3 regiones de análisis. La mayor cantidad de ventas de estos géneros corresponde a la región de Norteamerica. Se destaca la alta preferencia de los juegos de rol para la región de Japon, la cual toma el primer lugar de sus preferencias (tambien ocupa el quinto lugar para Norteamerica)"
   ]
  },
  {
   "cell_type": "markdown",
   "metadata": {},
   "source": [
    "#### Clasificación ESRB\n"
   ]
  },
  {
   "cell_type": "code",
   "execution_count": 51,
   "metadata": {},
   "outputs": [
    {
     "data": {
      "text/html": [
       "<div>\n",
       "<style scoped>\n",
       "    .dataframe tbody tr th:only-of-type {\n",
       "        vertical-align: middle;\n",
       "    }\n",
       "\n",
       "    .dataframe tbody tr th {\n",
       "        vertical-align: top;\n",
       "    }\n",
       "\n",
       "    .dataframe thead th {\n",
       "        text-align: right;\n",
       "    }\n",
       "</style>\n",
       "<table border=\"1\" class=\"dataframe\">\n",
       "  <thead>\n",
       "    <tr style=\"text-align: right;\">\n",
       "      <th></th>\n",
       "      <th>rating</th>\n",
       "      <th>jp_sales</th>\n",
       "    </tr>\n",
       "  </thead>\n",
       "  <tbody>\n",
       "    <tr>\n",
       "      <th>0</th>\n",
       "      <td>E</td>\n",
       "      <td>30.74</td>\n",
       "    </tr>\n",
       "    <tr>\n",
       "      <th>5</th>\n",
       "      <td>T</td>\n",
       "      <td>28.75</td>\n",
       "    </tr>\n",
       "    <tr>\n",
       "      <th>3</th>\n",
       "      <td>M</td>\n",
       "      <td>18.12</td>\n",
       "    </tr>\n",
       "    <tr>\n",
       "      <th>1</th>\n",
       "      <td>E10+</td>\n",
       "      <td>9.68</td>\n",
       "    </tr>\n",
       "    <tr>\n",
       "      <th>2</th>\n",
       "      <td>EC</td>\n",
       "      <td>0.00</td>\n",
       "    </tr>\n",
       "    <tr>\n",
       "      <th>4</th>\n",
       "      <td>RP</td>\n",
       "      <td>0.00</td>\n",
       "    </tr>\n",
       "  </tbody>\n",
       "</table>\n",
       "</div>"
      ],
      "text/plain": [
       "  rating  jp_sales\n",
       "0      E     30.74\n",
       "5      T     28.75\n",
       "3      M     18.12\n",
       "1   E10+      9.68\n",
       "2     EC      0.00\n",
       "4     RP      0.00"
      ]
     },
     "execution_count": 51,
     "metadata": {},
     "output_type": "execute_result"
    }
   ],
   "source": [
    "#Calificación de Japon\n",
    "calificacion_jp = games_filtrada_final.groupby([\"rating\"])[\"jp_sales\"].sum().reset_index()\n",
    "calificacion_jp.sort_values(by = \"jp_sales\" , ascending = False)\n",
    "\n"
   ]
  },
  {
   "cell_type": "code",
   "execution_count": 52,
   "metadata": {},
   "outputs": [
    {
     "data": {
      "text/html": [
       "<div>\n",
       "<style scoped>\n",
       "    .dataframe tbody tr th:only-of-type {\n",
       "        vertical-align: middle;\n",
       "    }\n",
       "\n",
       "    .dataframe tbody tr th {\n",
       "        vertical-align: top;\n",
       "    }\n",
       "\n",
       "    .dataframe thead th {\n",
       "        text-align: right;\n",
       "    }\n",
       "</style>\n",
       "<table border=\"1\" class=\"dataframe\">\n",
       "  <thead>\n",
       "    <tr style=\"text-align: right;\">\n",
       "      <th></th>\n",
       "      <th>rating</th>\n",
       "      <th>eu_sales</th>\n",
       "    </tr>\n",
       "  </thead>\n",
       "  <tbody>\n",
       "    <tr>\n",
       "      <th>3</th>\n",
       "      <td>M</td>\n",
       "      <td>194.91</td>\n",
       "    </tr>\n",
       "    <tr>\n",
       "      <th>0</th>\n",
       "      <td>E</td>\n",
       "      <td>148.59</td>\n",
       "    </tr>\n",
       "    <tr>\n",
       "      <th>5</th>\n",
       "      <td>T</td>\n",
       "      <td>79.77</td>\n",
       "    </tr>\n",
       "    <tr>\n",
       "      <th>1</th>\n",
       "      <td>E10+</td>\n",
       "      <td>40.07</td>\n",
       "    </tr>\n",
       "    <tr>\n",
       "      <th>4</th>\n",
       "      <td>RP</td>\n",
       "      <td>0.01</td>\n",
       "    </tr>\n",
       "    <tr>\n",
       "      <th>2</th>\n",
       "      <td>EC</td>\n",
       "      <td>0.00</td>\n",
       "    </tr>\n",
       "  </tbody>\n",
       "</table>\n",
       "</div>"
      ],
      "text/plain": [
       "  rating  eu_sales\n",
       "3      M    194.91\n",
       "0      E    148.59\n",
       "5      T     79.77\n",
       "1   E10+     40.07\n",
       "4     RP      0.01\n",
       "2     EC      0.00"
      ]
     },
     "execution_count": 52,
     "metadata": {},
     "output_type": "execute_result"
    }
   ],
   "source": [
    "#Calificación Unión europea\n",
    "calificacion_eu = games_filtrada_final.groupby([\"rating\"])[\"eu_sales\"].sum().reset_index()\n",
    "calificacion_eu.sort_values(by = \"eu_sales\" , ascending = False)"
   ]
  },
  {
   "cell_type": "code",
   "execution_count": 53,
   "metadata": {},
   "outputs": [
    {
     "data": {
      "text/html": [
       "<div>\n",
       "<style scoped>\n",
       "    .dataframe tbody tr th:only-of-type {\n",
       "        vertical-align: middle;\n",
       "    }\n",
       "\n",
       "    .dataframe tbody tr th {\n",
       "        vertical-align: top;\n",
       "    }\n",
       "\n",
       "    .dataframe thead th {\n",
       "        text-align: right;\n",
       "    }\n",
       "</style>\n",
       "<table border=\"1\" class=\"dataframe\">\n",
       "  <thead>\n",
       "    <tr style=\"text-align: right;\">\n",
       "      <th></th>\n",
       "      <th>rating</th>\n",
       "      <th>na_sales</th>\n",
       "    </tr>\n",
       "  </thead>\n",
       "  <tbody>\n",
       "    <tr>\n",
       "      <th>3</th>\n",
       "      <td>M</td>\n",
       "      <td>252.42</td>\n",
       "    </tr>\n",
       "    <tr>\n",
       "      <th>0</th>\n",
       "      <td>E</td>\n",
       "      <td>232.76</td>\n",
       "    </tr>\n",
       "    <tr>\n",
       "      <th>5</th>\n",
       "      <td>T</td>\n",
       "      <td>143.15</td>\n",
       "    </tr>\n",
       "    <tr>\n",
       "      <th>1</th>\n",
       "      <td>E10+</td>\n",
       "      <td>82.35</td>\n",
       "    </tr>\n",
       "    <tr>\n",
       "      <th>2</th>\n",
       "      <td>EC</td>\n",
       "      <td>0.32</td>\n",
       "    </tr>\n",
       "    <tr>\n",
       "      <th>4</th>\n",
       "      <td>RP</td>\n",
       "      <td>0.00</td>\n",
       "    </tr>\n",
       "  </tbody>\n",
       "</table>\n",
       "</div>"
      ],
      "text/plain": [
       "  rating  na_sales\n",
       "3      M    252.42\n",
       "0      E    232.76\n",
       "5      T    143.15\n",
       "1   E10+     82.35\n",
       "2     EC      0.32\n",
       "4     RP      0.00"
      ]
     },
     "execution_count": 53,
     "metadata": {},
     "output_type": "execute_result"
    }
   ],
   "source": [
    "#Calificación de Norteamerica\n",
    "calificacion_na = games_filtrada_final.groupby([\"rating\"])[\"na_sales\"].sum().reset_index()\n",
    "calificacion_na.sort_values(by = \"na_sales\" , ascending = False)"
   ]
  },
  {
   "cell_type": "markdown",
   "metadata": {},
   "source": [
    "Se observa que  para las 3 regiones de análisis, la clasificación \"E\" ocupa el primer lugar. Impulsar la venta de juegos de dicha clasificación podría traducirse en mayores ventas para el 2017. En tanto las clasificaciones \"K-A\", \"RP\", y \"EC\" parece no tener impacto en las ventas, dado que ocupan los últimos lugares."
   ]
  },
  {
   "cell_type": "markdown",
   "metadata": {},
   "source": [
    "### Pruebas de hipótesis"
   ]
  },
  {
   "cell_type": "markdown",
   "metadata": {},
   "source": [
    "Hipotesis 1:\n",
    "\n",
    "1. Formular la hipotesis nula y alternativa:\n",
    "* HO: Las calificaciones promedio de los usuarios de Xbox One y PC son las mismas.\n",
    "* H1: las calificaciones promedio .... son distintas.\n",
    "2. Obtener la informacion que deseamos\n",
    "* Necesitamos tener los datos en dos series separadas y SIN valores ausentes"
   ]
  },
  {
   "cell_type": "code",
   "execution_count": 54,
   "metadata": {},
   "outputs": [],
   "source": [
    "score_xone = games_filtrada_final[games_filtrada_final['platform'] == 'XOne']['user_score_corregido'].dropna()\n",
    "score_pc = games_filtrada_final[games_filtrada_final['platform'] == 'PC']['user_score_corregido'].dropna()"
   ]
  },
  {
   "cell_type": "markdown",
   "metadata": {},
   "source": [
    "* Necesitamos realizar una prueba de Levene para verificar si varianzas son iguales o no."
   ]
  },
  {
   "cell_type": "code",
   "execution_count": 55,
   "metadata": {},
   "outputs": [
    {
     "name": "stdout",
     "output_type": "stream",
     "text": [
      "Estadístico de Levene: 0.2701255394508093\n",
      "P-valor: 0.603575176425442\n",
      "No se rechaza la hipótesis nula. Las varianzas son iguales.\n"
     ]
    }
   ],
   "source": [
    "from scipy.stats import levene\n",
    "\n",
    "\n",
    "# Realizar la prueba de Levene\n",
    "estadistico, p_valor = levene(score_xone, score_pc)\n",
    "\n",
    "# Mostrar los resultados\n",
    "print(\"Estadístico de Levene:\", estadistico)\n",
    "print(\"P-valor:\", p_valor)\n",
    "\n",
    "if p_valor > 0.05:\n",
    "    print(\"No se rechaza la hipótesis nula. Las varianzas son iguales.\")\n",
    "else:\n",
    "    print(\"Se rechaza la hipótesis nula. Las varianzas son diferentes.\")\n"
   ]
  },
  {
   "cell_type": "markdown",
   "metadata": {},
   "source": [
    "3. definir el test y el nivel de significancia.\n",
    "- Usamos el nivel de significancia estandar de $\\alpha$ de 0.5\n",
    "- Comparar dos categorias (XOne y PC) con respecto a una variable numerica (User Score), en donde desconoces las\n",
    "desviaciones standar por lo que podemos usar el t-test."
   ]
  },
  {
   "cell_type": "code",
   "execution_count": 56,
   "metadata": {},
   "outputs": [],
   "source": [
    "from scipy.stats import ttest_ind"
   ]
  },
  {
   "cell_type": "code",
   "execution_count": 57,
   "metadata": {},
   "outputs": [
    {
     "name": "stdout",
     "output_type": "stream",
     "text": [
      "\n",
      "    La clasificación promedio de profesionales para la Xbox es: 6.83846153846154\n",
      "    La clasificación promedio de profesionales para la PC es: 7.198545454545454\n",
      "    \n",
      "    t-statistic: -2.1705531898912094\n",
      "    p-value: 0.03063486483292931\n",
      "\n",
      "Rechazamos nuestra hipótesis nula\n"
     ]
    }
   ],
   "source": [
    "alpha = 0.05\n",
    "stat, p_value = ttest_ind(\n",
    "score_xone,\n",
    "score_pc\n",
    ")\n",
    "print(f\"\"\"\n",
    "    La clasificación promedio de profesionales para la Xbox es: {score_xone.mean()}\n",
    "    La clasificación promedio de profesionales para la PC es: {score_pc.mean()}\n",
    "    \n",
    "    t-statistic: {stat}\n",
    "    p-value: {p_value}\n",
    "\"\"\")\n",
    "    \n",
    "if p_value < alpha:\n",
    "    print('Rechazamos nuestra hipótesis nula')\n",
    "else:\n",
    "    print('No rechazamos nuestra hipótesis nula')"
   ]
  },
  {
   "cell_type": "markdown",
   "metadata": {},
   "source": [
    "Hipotesis 2:\n",
    "\n",
    "1. Formular la hipotesis nula y alternativa:\n",
    "* HO: Las calificaciones promedio de los usuarios para los generos acción y deporte son las mismas.\n",
    "* H1: las calificaciones promedio .... son distintas.\n",
    "2. Obtener la informacion que deseamos\n",
    "* Necesitamos tener los datos en dos series separadas y SIN valores ausentes"
   ]
  },
  {
   "cell_type": "code",
   "execution_count": 58,
   "metadata": {},
   "outputs": [],
   "source": [
    "score_action = games_filtrada_final[games_filtrada_final['genre'] == 'Action']['user_score_corregido'].dropna()\n",
    "score_sports = games_filtrada_final[games_filtrada_final['genre'] == 'Sports']['user_score_corregido'].dropna()"
   ]
  },
  {
   "cell_type": "markdown",
   "metadata": {},
   "source": [
    "* Necesitamos realizar una prueba de Levene para verificar si varianzas son iguales o no."
   ]
  },
  {
   "cell_type": "code",
   "execution_count": 59,
   "metadata": {},
   "outputs": [
    {
     "name": "stdout",
     "output_type": "stream",
     "text": [
      "Estadístico de Levene: 0.3068008203775381\n",
      "P-valor: 0.5797387682522979\n",
      "No se rechaza la hipótesis nula. Las varianzas son iguales.\n"
     ]
    }
   ],
   "source": [
    "# Realizar la prueba de Levene\n",
    "estadistico, p_valor = levene(score_action, score_sports)\n",
    "\n",
    "# Mostrar los resultados\n",
    "print(\"Estadístico de Levene:\", estadistico)\n",
    "print(\"P-valor:\", p_valor)\n",
    "\n",
    "if p_valor > 0.05:\n",
    "    print(\"No se rechaza la hipótesis nula. Las varianzas son iguales.\")\n",
    "else:\n",
    "    print(\"Se rechaza la hipótesis nula. Las varianzas son diferentes.\")"
   ]
  },
  {
   "cell_type": "markdown",
   "metadata": {},
   "source": [
    "3. definir el test y el nivel de significancia.\n",
    "- Usamos el nivel de significancia estandar de $\\alpha$ de 0.5\n",
    "- Comparar dos categorias (Action y Sports) con respecto a una variable numerica (User Score), en donde desconoces las\n",
    "desviaciones standar por lo que podemos usar el t-test."
   ]
  },
  {
   "cell_type": "code",
   "execution_count": 60,
   "metadata": {},
   "outputs": [
    {
     "name": "stdout",
     "output_type": "stream",
     "text": [
      "\n",
      "    La clasificación promedio de profesionales para la Xbox es: 7.214893617021278\n",
      "    La clasificación promedio de profesionales para la PC es: 7.2508166969147005\n",
      "    \n",
      "    t-statistic: -0.6339651608518411\n",
      "    p-value: 0.5262074941329847\n",
      "\n",
      "No rechazamos nuestra hipótesis nula\n"
     ]
    }
   ],
   "source": [
    "alpha = 0.05\n",
    "stat, p_value = ttest_ind(\n",
    "score_action,\n",
    "score_sports,\n",
    ")\n",
    "print(f\"\"\"\n",
    "    La clasificación promedio de profesionales para la Xbox es: {score_action.mean()}\n",
    "    La clasificación promedio de profesionales para la PC es: {score_sports.mean()}\n",
    "    \n",
    "    t-statistic: {stat}\n",
    "    p-value: {p_value}\n",
    "\"\"\")\n",
    "    \n",
    "if p_value < alpha:\n",
    "    print('Rechazamos nuestra hipótesis nula')\n",
    "else:\n",
    "    print('No rechazamos nuestra hipótesis nula')"
   ]
  },
  {
   "cell_type": "markdown",
   "metadata": {},
   "source": [
    "### Conclusiones"
   ]
  },
  {
   "cell_type": "markdown",
   "metadata": {},
   "source": [
    "Luego de analizar los datos históricos referente a juegos, se observó que del año 2000 hacia atrás el volumen de las ventas es bajo, por lo que la mayor parte del análisis se hace posterior a este periodo . Por otro lado se observa que existen años con picos de venta, llegando a este nivel luego de 2 a 3 años después del lanzamiento de alguna plataforma al mercado. A partir de ese periodo la cantidad de lanzamientos por plataforma comienza a decrecer hasta desaparecer en la mayor parte de los casos. Solo hay algunos casos donde hay fidelidad de parte los usuarios por seguir utilizando ciertas plataformas a pesar del inicio de su lanzamiento, como en el caso de la plataforma \"PC\", donde la cantidad de compras de los usuarios se mantiene con cierta estabilidad con el pasar de los años. Esto nos indica que a pesar de que no sea una plataforma que lidere en ventas, si puede ser aceptable la idea de invertir recursos para impulsar sus ventas.\n",
    "\n",
    "Tambien el estudio ha arrojado que las plataformas líderes en ventas son \"PS2\",\"X360\",\"PS3\",\"Wii\"y \"DS\" mientras que los géneros preferidos por los usuarios Plataforma, Rol y de Acción.\n",
    "\n",
    "Podemos ver que la distribución de la plataforma \"GB\" está sesgada hacia la derecha, lo que indica que la media será mayor que la mediana. Esto también implica que los usuarios que prefieren esta platadorma terminan gastando grandes cantidades de dinero; podríamos promocionar versiones mas actualizadas para atraer a estas personas a preferir esta consola.\n",
    "\n",
    "Tambien se observa que la plataforma \"NES\" es la que presenta mayor media, pero una variabilidad bastante alta y similar a la plataforma GB. Otras plataformas que presentan mayor homogeneidad en sus datos respecto a sus rivales serían \"X360\" y \"PS3\", lo cual tambien sería conveniente apuntar su estrategia comercial de cara al año 2017, dado que son consolas altamente preferidas por los susuarios.\n",
    "\n",
    "Por último los géneros \"Action\", \"Sports\" y \"Misc\", están en el TOP 5 de las 3 regiones de análisis. La mayor cantidad de ventas de estos géneros corresponde a la región de Norteamerica. Se destaca la alta preferencia de los juegos de rol para la región de Japon, la cual toma el primer lugar de sus preferencias (tambien ocupa el quinto lugar para Norteamerica)"
   ]
  }
 ],
 "metadata": {
  "ExecuteTimeLog": [
   {
    "duration": 4905,
    "start_time": "2024-05-25T16:52:20.828Z"
   },
   {
    "duration": 146,
    "start_time": "2024-05-25T16:54:21.784Z"
   },
   {
    "duration": 54,
    "start_time": "2024-05-25T16:54:57.839Z"
   },
   {
    "duration": 19,
    "start_time": "2024-05-25T16:55:42.763Z"
   },
   {
    "duration": 32,
    "start_time": "2024-05-25T17:05:30.689Z"
   },
   {
    "duration": 27,
    "start_time": "2024-05-25T17:07:36.637Z"
   },
   {
    "duration": 311,
    "start_time": "2024-05-25T18:23:46.506Z"
   },
   {
    "duration": 5013,
    "start_time": "2024-05-25T18:24:12.229Z"
   },
   {
    "duration": 56,
    "start_time": "2024-05-25T18:24:17.246Z"
   },
   {
    "duration": 21,
    "start_time": "2024-05-25T18:24:17.305Z"
   },
   {
    "duration": 32,
    "start_time": "2024-05-25T18:24:17.332Z"
   },
   {
    "duration": 220,
    "start_time": "2024-05-25T18:24:17.366Z"
   },
   {
    "duration": 32,
    "start_time": "2024-05-25T18:24:41.383Z"
   },
   {
    "duration": 281,
    "start_time": "2024-05-25T18:31:07.811Z"
   },
   {
    "duration": 26,
    "start_time": "2024-05-25T18:31:23.389Z"
   },
   {
    "duration": 18,
    "start_time": "2024-05-25T18:37:50.216Z"
   },
   {
    "duration": 1258,
    "start_time": "2024-05-25T18:38:06.534Z"
   },
   {
    "duration": 47,
    "start_time": "2024-05-25T18:38:07.796Z"
   },
   {
    "duration": 19,
    "start_time": "2024-05-25T18:38:07.846Z"
   },
   {
    "duration": 33,
    "start_time": "2024-05-25T18:38:07.869Z"
   },
   {
    "duration": 44,
    "start_time": "2024-05-25T18:38:07.905Z"
   },
   {
    "duration": 1233,
    "start_time": "2024-05-25T18:39:00.060Z"
   },
   {
    "duration": 46,
    "start_time": "2024-05-25T18:39:01.296Z"
   },
   {
    "duration": 19,
    "start_time": "2024-05-25T18:39:01.344Z"
   },
   {
    "duration": 34,
    "start_time": "2024-05-25T18:39:01.367Z"
   },
   {
    "duration": 1180,
    "start_time": "2024-05-25T18:39:01.432Z"
   },
   {
    "duration": 1249,
    "start_time": "2024-05-25T18:40:12.449Z"
   },
   {
    "duration": 45,
    "start_time": "2024-05-25T18:40:13.702Z"
   },
   {
    "duration": 18,
    "start_time": "2024-05-25T18:40:13.750Z"
   },
   {
    "duration": 31,
    "start_time": "2024-05-25T18:40:13.771Z"
   },
   {
    "duration": 42,
    "start_time": "2024-05-25T18:40:13.805Z"
   },
   {
    "duration": 2141,
    "start_time": "2024-05-25T19:08:26.238Z"
   },
   {
    "duration": 1410,
    "start_time": "2024-05-25T19:09:10.527Z"
   },
   {
    "duration": 41,
    "start_time": "2024-05-25T19:09:11.941Z"
   },
   {
    "duration": 46,
    "start_time": "2024-05-25T19:09:11.986Z"
   },
   {
    "duration": 45,
    "start_time": "2024-05-25T19:09:12.036Z"
   },
   {
    "duration": 49,
    "start_time": "2024-05-25T19:09:12.085Z"
   },
   {
    "duration": 1782,
    "start_time": "2024-05-25T19:09:12.137Z"
   },
   {
    "duration": 39,
    "start_time": "2024-05-25T19:10:52.307Z"
   },
   {
    "duration": 158,
    "start_time": "2024-05-25T19:11:16.609Z"
   },
   {
    "duration": 27,
    "start_time": "2024-05-25T19:11:30.042Z"
   },
   {
    "duration": 145,
    "start_time": "2024-05-25T19:12:19.993Z"
   },
   {
    "duration": 5345,
    "start_time": "2024-05-26T14:27:40.047Z"
   },
   {
    "duration": 65,
    "start_time": "2024-05-26T14:27:45.396Z"
   },
   {
    "duration": 19,
    "start_time": "2024-05-26T14:27:45.464Z"
   },
   {
    "duration": 71,
    "start_time": "2024-05-26T14:27:45.486Z"
   },
   {
    "duration": 19,
    "start_time": "2024-05-26T14:27:45.561Z"
   },
   {
    "duration": 1704,
    "start_time": "2024-05-26T14:27:45.584Z"
   },
   {
    "duration": 29,
    "start_time": "2024-05-26T14:44:07.155Z"
   },
   {
    "duration": 25,
    "start_time": "2024-05-26T14:47:20.827Z"
   },
   {
    "duration": 9,
    "start_time": "2024-05-26T14:47:44.347Z"
   },
   {
    "duration": 7,
    "start_time": "2024-05-26T14:47:52.473Z"
   },
   {
    "duration": 20,
    "start_time": "2024-05-26T14:48:02.453Z"
   },
   {
    "duration": 23,
    "start_time": "2024-05-26T14:48:15.998Z"
   },
   {
    "duration": 30,
    "start_time": "2024-05-26T14:48:26.455Z"
   },
   {
    "duration": 4,
    "start_time": "2024-05-26T14:48:37.899Z"
   },
   {
    "duration": 130,
    "start_time": "2024-05-26T14:59:45.479Z"
   },
   {
    "duration": 8,
    "start_time": "2024-05-26T14:59:56.859Z"
   },
   {
    "duration": 17,
    "start_time": "2024-05-26T15:01:36.986Z"
   },
   {
    "duration": 23,
    "start_time": "2024-05-26T16:58:50.848Z"
   },
   {
    "duration": 31,
    "start_time": "2024-05-26T17:31:52.261Z"
   },
   {
    "duration": 5425,
    "start_time": "2024-05-27T02:19:08.117Z"
   },
   {
    "duration": 58,
    "start_time": "2024-05-27T02:19:13.545Z"
   },
   {
    "duration": 20,
    "start_time": "2024-05-27T02:19:13.606Z"
   },
   {
    "duration": 31,
    "start_time": "2024-05-27T02:19:13.633Z"
   },
   {
    "duration": 19,
    "start_time": "2024-05-27T02:19:13.667Z"
   },
   {
    "duration": 59,
    "start_time": "2024-05-27T02:19:13.689Z"
   },
   {
    "duration": 11,
    "start_time": "2024-05-27T02:19:13.751Z"
   },
   {
    "duration": 9,
    "start_time": "2024-05-27T02:19:13.767Z"
   },
   {
    "duration": 20,
    "start_time": "2024-05-27T02:19:13.778Z"
   },
   {
    "duration": 47,
    "start_time": "2024-05-27T02:19:13.803Z"
   },
   {
    "duration": 23,
    "start_time": "2024-05-27T02:19:13.853Z"
   },
   {
    "duration": 55,
    "start_time": "2024-05-27T02:19:13.879Z"
   },
   {
    "duration": 19,
    "start_time": "2024-05-27T02:20:44.454Z"
   },
   {
    "duration": 44,
    "start_time": "2024-05-27T02:21:48.232Z"
   },
   {
    "duration": 12,
    "start_time": "2024-05-27T02:22:34.271Z"
   },
   {
    "duration": 21,
    "start_time": "2024-05-27T02:25:02.692Z"
   },
   {
    "duration": 15,
    "start_time": "2024-05-27T02:25:39.190Z"
   },
   {
    "duration": 19,
    "start_time": "2024-05-27T02:25:59.139Z"
   },
   {
    "duration": 13,
    "start_time": "2024-05-27T02:26:39.493Z"
   },
   {
    "duration": 29,
    "start_time": "2024-05-27T02:29:22.141Z"
   },
   {
    "duration": 11,
    "start_time": "2024-05-27T02:30:11.205Z"
   },
   {
    "duration": 32,
    "start_time": "2024-05-27T02:30:12.837Z"
   },
   {
    "duration": 33,
    "start_time": "2024-05-27T02:31:40.360Z"
   },
   {
    "duration": 18,
    "start_time": "2024-05-27T02:33:07.384Z"
   },
   {
    "duration": 396,
    "start_time": "2024-05-27T02:40:33.394Z"
   },
   {
    "duration": 313,
    "start_time": "2024-05-27T02:41:01.354Z"
   },
   {
    "duration": 67,
    "start_time": "2024-05-27T02:42:09.880Z"
   },
   {
    "duration": 40,
    "start_time": "2024-05-27T02:43:01.917Z"
   },
   {
    "duration": 30,
    "start_time": "2024-05-27T02:43:52.626Z"
   },
   {
    "duration": 36,
    "start_time": "2024-05-27T02:43:57.287Z"
   },
   {
    "duration": 59,
    "start_time": "2024-05-27T02:56:14.661Z"
   },
   {
    "duration": 59,
    "start_time": "2024-05-27T02:56:32.514Z"
   },
   {
    "duration": 1296,
    "start_time": "2024-05-27T02:56:52.918Z"
   },
   {
    "duration": 43,
    "start_time": "2024-05-27T02:56:54.217Z"
   },
   {
    "duration": 20,
    "start_time": "2024-05-27T02:56:54.263Z"
   },
   {
    "duration": 53,
    "start_time": "2024-05-27T02:56:54.287Z"
   },
   {
    "duration": 19,
    "start_time": "2024-05-27T02:56:54.343Z"
   },
   {
    "duration": 30,
    "start_time": "2024-05-27T02:56:54.366Z"
   },
   {
    "duration": 33,
    "start_time": "2024-05-27T02:56:54.400Z"
   },
   {
    "duration": 9,
    "start_time": "2024-05-27T02:56:54.436Z"
   },
   {
    "duration": 20,
    "start_time": "2024-05-27T02:56:54.449Z"
   },
   {
    "duration": 19,
    "start_time": "2024-05-27T02:56:54.474Z"
   },
   {
    "duration": 22,
    "start_time": "2024-05-27T02:56:54.533Z"
   },
   {
    "duration": 18,
    "start_time": "2024-05-27T02:56:54.558Z"
   },
   {
    "duration": 14,
    "start_time": "2024-05-27T02:56:54.579Z"
   },
   {
    "duration": 46,
    "start_time": "2024-05-27T02:56:54.596Z"
   },
   {
    "duration": 32,
    "start_time": "2024-05-27T02:56:54.645Z"
   },
   {
    "duration": 18,
    "start_time": "2024-05-27T02:56:54.680Z"
   },
   {
    "duration": 85,
    "start_time": "2024-05-27T02:56:54.701Z"
   },
   {
    "duration": 58,
    "start_time": "2024-05-27T02:56:54.789Z"
   },
   {
    "duration": 5201,
    "start_time": "2024-05-28T23:54:36.557Z"
   },
   {
    "duration": 52,
    "start_time": "2024-05-28T23:54:41.762Z"
   },
   {
    "duration": 19,
    "start_time": "2024-05-28T23:54:41.817Z"
   },
   {
    "duration": 33,
    "start_time": "2024-05-28T23:54:41.839Z"
   },
   {
    "duration": 47,
    "start_time": "2024-05-28T23:54:41.877Z"
   },
   {
    "duration": 32,
    "start_time": "2024-05-28T23:54:41.926Z"
   },
   {
    "duration": 6,
    "start_time": "2024-05-28T23:54:41.961Z"
   },
   {
    "duration": 9,
    "start_time": "2024-05-28T23:54:41.970Z"
   },
   {
    "duration": 55,
    "start_time": "2024-05-28T23:54:41.982Z"
   },
   {
    "duration": 19,
    "start_time": "2024-05-28T23:54:42.040Z"
   },
   {
    "duration": 23,
    "start_time": "2024-05-28T23:54:42.063Z"
   },
   {
    "duration": 50,
    "start_time": "2024-05-28T23:54:42.089Z"
   },
   {
    "duration": 16,
    "start_time": "2024-05-28T23:54:42.142Z"
   },
   {
    "duration": 11,
    "start_time": "2024-05-28T23:54:42.163Z"
   },
   {
    "duration": 72,
    "start_time": "2024-05-28T23:54:42.177Z"
   },
   {
    "duration": 17,
    "start_time": "2024-05-28T23:54:42.252Z"
   },
   {
    "duration": 51,
    "start_time": "2024-05-28T23:54:42.274Z"
   },
   {
    "duration": 12,
    "start_time": "2024-05-29T00:06:23.570Z"
   },
   {
    "duration": 34,
    "start_time": "2024-05-29T00:06:51.060Z"
   },
   {
    "duration": 1318,
    "start_time": "2024-05-29T00:16:00.569Z"
   },
   {
    "duration": 44,
    "start_time": "2024-05-29T00:16:01.890Z"
   },
   {
    "duration": 18,
    "start_time": "2024-05-29T00:16:01.937Z"
   },
   {
    "duration": 33,
    "start_time": "2024-05-29T00:16:01.959Z"
   },
   {
    "duration": 21,
    "start_time": "2024-05-29T00:16:02.022Z"
   },
   {
    "duration": 79,
    "start_time": "2024-05-29T00:16:02.046Z"
   },
   {
    "duration": 5,
    "start_time": "2024-05-29T00:16:02.128Z"
   },
   {
    "duration": 9,
    "start_time": "2024-05-29T00:16:02.136Z"
   },
   {
    "duration": 18,
    "start_time": "2024-05-29T00:16:02.148Z"
   },
   {
    "duration": 62,
    "start_time": "2024-05-29T00:16:02.172Z"
   },
   {
    "duration": 26,
    "start_time": "2024-05-29T00:16:02.238Z"
   },
   {
    "duration": 21,
    "start_time": "2024-05-29T00:16:02.267Z"
   },
   {
    "duration": 45,
    "start_time": "2024-05-29T00:16:02.290Z"
   },
   {
    "duration": 11,
    "start_time": "2024-05-29T00:16:02.338Z"
   },
   {
    "duration": 32,
    "start_time": "2024-05-29T00:16:02.352Z"
   },
   {
    "duration": 51,
    "start_time": "2024-05-29T00:16:02.388Z"
   },
   {
    "duration": 12,
    "start_time": "2024-05-29T00:16:02.442Z"
   },
   {
    "duration": 31,
    "start_time": "2024-05-29T00:16:02.457Z"
   },
   {
    "duration": 6,
    "start_time": "2024-05-29T00:16:02.524Z"
   },
   {
    "duration": 33,
    "start_time": "2024-05-29T00:16:02.534Z"
   },
   {
    "duration": 3,
    "start_time": "2024-05-29T00:19:15.130Z"
   },
   {
    "duration": 457,
    "start_time": "2024-05-29T00:46:14.894Z"
   },
   {
    "duration": 1334,
    "start_time": "2024-05-29T00:47:03.333Z"
   },
   {
    "duration": 40,
    "start_time": "2024-05-29T00:47:04.671Z"
   },
   {
    "duration": 20,
    "start_time": "2024-05-29T00:47:04.723Z"
   },
   {
    "duration": 32,
    "start_time": "2024-05-29T00:47:04.748Z"
   },
   {
    "duration": 48,
    "start_time": "2024-05-29T00:47:04.783Z"
   },
   {
    "duration": 31,
    "start_time": "2024-05-29T00:47:04.835Z"
   },
   {
    "duration": 5,
    "start_time": "2024-05-29T00:47:04.868Z"
   },
   {
    "duration": 48,
    "start_time": "2024-05-29T00:47:04.877Z"
   },
   {
    "duration": 21,
    "start_time": "2024-05-29T00:47:04.931Z"
   },
   {
    "duration": 22,
    "start_time": "2024-05-29T00:47:04.957Z"
   },
   {
    "duration": 56,
    "start_time": "2024-05-29T00:47:04.983Z"
   },
   {
    "duration": 19,
    "start_time": "2024-05-29T00:47:05.042Z"
   },
   {
    "duration": 20,
    "start_time": "2024-05-29T00:47:05.063Z"
   },
   {
    "duration": 12,
    "start_time": "2024-05-29T00:47:05.122Z"
   },
   {
    "duration": 33,
    "start_time": "2024-05-29T00:47:05.136Z"
   },
   {
    "duration": 18,
    "start_time": "2024-05-29T00:47:05.172Z"
   },
   {
    "duration": 11,
    "start_time": "2024-05-29T00:47:05.224Z"
   },
   {
    "duration": 31,
    "start_time": "2024-05-29T00:47:05.237Z"
   },
   {
    "duration": 7,
    "start_time": "2024-05-29T00:47:05.272Z"
   },
   {
    "duration": 74,
    "start_time": "2024-05-29T00:47:05.282Z"
   },
   {
    "duration": 495,
    "start_time": "2024-05-29T00:47:05.360Z"
   },
   {
    "duration": 262,
    "start_time": "2024-05-29T00:47:32.327Z"
   },
   {
    "duration": 17,
    "start_time": "2024-05-29T01:04:26.364Z"
   },
   {
    "duration": 276,
    "start_time": "2024-05-29T01:05:25.959Z"
   },
   {
    "duration": 1258,
    "start_time": "2024-05-29T01:05:51.790Z"
   },
   {
    "duration": 43,
    "start_time": "2024-05-29T01:05:53.051Z"
   },
   {
    "duration": 33,
    "start_time": "2024-05-29T01:05:53.097Z"
   },
   {
    "duration": 36,
    "start_time": "2024-05-29T01:05:53.139Z"
   },
   {
    "duration": 31,
    "start_time": "2024-05-29T01:05:53.178Z"
   },
   {
    "duration": 43,
    "start_time": "2024-05-29T01:05:53.212Z"
   },
   {
    "duration": 7,
    "start_time": "2024-05-29T01:05:53.260Z"
   },
   {
    "duration": 11,
    "start_time": "2024-05-29T01:05:53.271Z"
   },
   {
    "duration": 60,
    "start_time": "2024-05-29T01:05:53.286Z"
   },
   {
    "duration": 20,
    "start_time": "2024-05-29T01:05:53.352Z"
   },
   {
    "duration": 24,
    "start_time": "2024-05-29T01:05:53.376Z"
   },
   {
    "duration": 25,
    "start_time": "2024-05-29T01:05:53.425Z"
   },
   {
    "duration": 17,
    "start_time": "2024-05-29T01:05:53.452Z"
   },
   {
    "duration": 14,
    "start_time": "2024-05-29T01:05:53.471Z"
   },
   {
    "duration": 53,
    "start_time": "2024-05-29T01:05:53.488Z"
   },
   {
    "duration": 18,
    "start_time": "2024-05-29T01:05:53.554Z"
   },
   {
    "duration": 288,
    "start_time": "2024-05-29T01:05:53.575Z"
   },
   {
    "duration": 11,
    "start_time": "2024-05-29T01:05:53.867Z"
   },
   {
    "duration": 59,
    "start_time": "2024-05-29T01:05:53.881Z"
   },
   {
    "duration": 23,
    "start_time": "2024-05-29T01:05:53.943Z"
   },
   {
    "duration": 7,
    "start_time": "2024-05-29T01:05:53.969Z"
   },
   {
    "duration": 72,
    "start_time": "2024-05-29T01:05:53.979Z"
   },
   {
    "duration": 227,
    "start_time": "2024-05-29T01:05:54.054Z"
   },
   {
    "duration": 301,
    "start_time": "2024-05-29T01:11:11.924Z"
   },
   {
    "duration": 254,
    "start_time": "2024-05-29T01:11:39.824Z"
   },
   {
    "duration": 312,
    "start_time": "2024-05-29T02:52:38.679Z"
   },
   {
    "duration": 4919,
    "start_time": "2024-05-29T02:52:46.936Z"
   },
   {
    "duration": 57,
    "start_time": "2024-05-29T02:52:51.858Z"
   },
   {
    "duration": 20,
    "start_time": "2024-05-29T02:52:51.917Z"
   },
   {
    "duration": 34,
    "start_time": "2024-05-29T02:52:51.941Z"
   },
   {
    "duration": 19,
    "start_time": "2024-05-29T02:52:52.008Z"
   },
   {
    "duration": 31,
    "start_time": "2024-05-29T02:52:52.031Z"
   },
   {
    "duration": 5,
    "start_time": "2024-05-29T02:52:52.066Z"
   },
   {
    "duration": 8,
    "start_time": "2024-05-29T02:52:52.109Z"
   },
   {
    "duration": 17,
    "start_time": "2024-05-29T02:52:52.120Z"
   },
   {
    "duration": 22,
    "start_time": "2024-05-29T02:52:52.140Z"
   },
   {
    "duration": 57,
    "start_time": "2024-05-29T02:52:52.165Z"
   },
   {
    "duration": 18,
    "start_time": "2024-05-29T02:52:52.225Z"
   },
   {
    "duration": 16,
    "start_time": "2024-05-29T02:52:52.246Z"
   },
   {
    "duration": 43,
    "start_time": "2024-05-29T02:52:52.268Z"
   },
   {
    "duration": 33,
    "start_time": "2024-05-29T02:52:52.313Z"
   },
   {
    "duration": 21,
    "start_time": "2024-05-29T02:52:52.348Z"
   },
   {
    "duration": 287,
    "start_time": "2024-05-29T02:52:52.373Z"
   },
   {
    "duration": 13,
    "start_time": "2024-05-29T02:52:52.663Z"
   },
   {
    "duration": 57,
    "start_time": "2024-05-29T02:52:52.680Z"
   },
   {
    "duration": 21,
    "start_time": "2024-05-29T02:52:52.740Z"
   },
   {
    "duration": 8,
    "start_time": "2024-05-29T02:52:52.765Z"
   },
   {
    "duration": 85,
    "start_time": "2024-05-29T02:52:52.777Z"
   },
   {
    "duration": 315,
    "start_time": "2024-05-29T02:52:52.865Z"
   },
   {
    "duration": 1014,
    "start_time": "2024-05-29T02:52:53.184Z"
   },
   {
    "duration": 1301,
    "start_time": "2024-05-29T02:54:19.401Z"
   },
   {
    "duration": 38,
    "start_time": "2024-05-29T02:54:20.705Z"
   },
   {
    "duration": 20,
    "start_time": "2024-05-29T02:54:20.746Z"
   },
   {
    "duration": 58,
    "start_time": "2024-05-29T02:54:20.770Z"
   },
   {
    "duration": 19,
    "start_time": "2024-05-29T02:54:20.831Z"
   },
   {
    "duration": 66,
    "start_time": "2024-05-29T02:54:20.853Z"
   },
   {
    "duration": 9,
    "start_time": "2024-05-29T02:54:20.922Z"
   },
   {
    "duration": 10,
    "start_time": "2024-05-29T02:54:20.934Z"
   },
   {
    "duration": 21,
    "start_time": "2024-05-29T02:54:20.949Z"
   },
   {
    "duration": 46,
    "start_time": "2024-05-29T02:54:20.977Z"
   },
   {
    "duration": 22,
    "start_time": "2024-05-29T02:54:21.026Z"
   },
   {
    "duration": 18,
    "start_time": "2024-05-29T02:54:21.051Z"
   },
   {
    "duration": 49,
    "start_time": "2024-05-29T02:54:21.072Z"
   },
   {
    "duration": 11,
    "start_time": "2024-05-29T02:54:21.124Z"
   },
   {
    "duration": 70,
    "start_time": "2024-05-29T02:54:21.138Z"
   },
   {
    "duration": 17,
    "start_time": "2024-05-29T02:54:21.211Z"
   },
   {
    "duration": 267,
    "start_time": "2024-05-29T02:54:21.231Z"
   },
   {
    "duration": 10,
    "start_time": "2024-05-29T02:54:21.508Z"
   },
   {
    "duration": 29,
    "start_time": "2024-05-29T02:54:21.521Z"
   },
   {
    "duration": 18,
    "start_time": "2024-05-29T02:54:21.553Z"
   },
   {
    "duration": 38,
    "start_time": "2024-05-29T02:54:21.575Z"
   },
   {
    "duration": 32,
    "start_time": "2024-05-29T02:54:21.616Z"
   },
   {
    "duration": 260,
    "start_time": "2024-05-29T02:54:21.651Z"
   },
   {
    "duration": 21,
    "start_time": "2024-05-29T02:54:21.914Z"
   },
   {
    "duration": 18,
    "start_time": "2024-05-29T02:56:29.372Z"
   },
   {
    "duration": 258,
    "start_time": "2024-05-29T03:18:09.259Z"
   },
   {
    "duration": 588,
    "start_time": "2024-05-29T03:18:27.494Z"
   },
   {
    "duration": 49,
    "start_time": "2024-05-29T03:20:51.775Z"
   },
   {
    "duration": 53,
    "start_time": "2024-05-29T03:21:14.418Z"
   },
   {
    "duration": 62,
    "start_time": "2024-05-29T03:21:26.207Z"
   },
   {
    "duration": 1294,
    "start_time": "2024-05-29T03:23:47.104Z"
   },
   {
    "duration": 42,
    "start_time": "2024-05-29T03:23:48.401Z"
   },
   {
    "duration": 19,
    "start_time": "2024-05-29T03:23:48.447Z"
   },
   {
    "duration": 56,
    "start_time": "2024-05-29T03:23:48.469Z"
   },
   {
    "duration": 22,
    "start_time": "2024-05-29T03:23:48.528Z"
   },
   {
    "duration": 56,
    "start_time": "2024-05-29T03:23:48.553Z"
   },
   {
    "duration": 4,
    "start_time": "2024-05-29T03:23:48.612Z"
   },
   {
    "duration": 9,
    "start_time": "2024-05-29T03:23:48.619Z"
   },
   {
    "duration": 18,
    "start_time": "2024-05-29T03:23:48.631Z"
   },
   {
    "duration": 61,
    "start_time": "2024-05-29T03:23:48.654Z"
   },
   {
    "duration": 25,
    "start_time": "2024-05-29T03:23:48.718Z"
   },
   {
    "duration": 22,
    "start_time": "2024-05-29T03:23:48.747Z"
   },
   {
    "duration": 47,
    "start_time": "2024-05-29T03:23:48.774Z"
   },
   {
    "duration": 12,
    "start_time": "2024-05-29T03:23:48.825Z"
   },
   {
    "duration": 33,
    "start_time": "2024-05-29T03:23:48.840Z"
   },
   {
    "duration": 46,
    "start_time": "2024-05-29T03:23:48.876Z"
   },
   {
    "duration": 269,
    "start_time": "2024-05-29T03:23:48.924Z"
   },
   {
    "duration": 18,
    "start_time": "2024-05-29T03:23:49.197Z"
   },
   {
    "duration": 31,
    "start_time": "2024-05-29T03:23:49.218Z"
   },
   {
    "duration": 18,
    "start_time": "2024-05-29T03:23:49.252Z"
   },
   {
    "duration": 38,
    "start_time": "2024-05-29T03:23:49.273Z"
   },
   {
    "duration": 32,
    "start_time": "2024-05-29T03:23:49.315Z"
   },
   {
    "duration": 253,
    "start_time": "2024-05-29T03:23:49.349Z"
   },
   {
    "duration": 20,
    "start_time": "2024-05-29T03:23:49.610Z"
   },
   {
    "duration": 821,
    "start_time": "2024-05-29T03:23:49.634Z"
   },
   {
    "duration": 34,
    "start_time": "2024-05-29T03:24:44.137Z"
   },
   {
    "duration": 27,
    "start_time": "2024-05-29T03:33:18.614Z"
   },
   {
    "duration": 24,
    "start_time": "2024-05-29T03:38:31.242Z"
   },
   {
    "duration": 10,
    "start_time": "2024-05-29T03:38:43.340Z"
   },
   {
    "duration": 384,
    "start_time": "2024-05-29T03:38:44.041Z"
   },
   {
    "duration": 5092,
    "start_time": "2024-05-31T02:07:18.286Z"
   },
   {
    "duration": 71,
    "start_time": "2024-05-31T02:07:23.385Z"
   },
   {
    "duration": 26,
    "start_time": "2024-05-31T02:07:23.459Z"
   },
   {
    "duration": 51,
    "start_time": "2024-05-31T02:07:23.492Z"
   },
   {
    "duration": 20,
    "start_time": "2024-05-31T02:07:23.546Z"
   },
   {
    "duration": 62,
    "start_time": "2024-05-31T02:07:23.569Z"
   },
   {
    "duration": 5,
    "start_time": "2024-05-31T02:07:23.635Z"
   },
   {
    "duration": 9,
    "start_time": "2024-05-31T02:07:23.644Z"
   },
   {
    "duration": 19,
    "start_time": "2024-05-31T02:07:23.656Z"
   },
   {
    "duration": 19,
    "start_time": "2024-05-31T02:07:23.725Z"
   },
   {
    "duration": 26,
    "start_time": "2024-05-31T02:07:23.748Z"
   },
   {
    "duration": 53,
    "start_time": "2024-05-31T02:07:23.777Z"
   },
   {
    "duration": 16,
    "start_time": "2024-05-31T02:07:23.833Z"
   },
   {
    "duration": 13,
    "start_time": "2024-05-31T02:07:23.852Z"
   },
   {
    "duration": 74,
    "start_time": "2024-05-31T02:07:23.868Z"
   },
   {
    "duration": 19,
    "start_time": "2024-05-31T02:07:23.944Z"
   },
   {
    "duration": 279,
    "start_time": "2024-05-31T02:07:23.965Z"
   },
   {
    "duration": 14,
    "start_time": "2024-05-31T02:07:24.249Z"
   },
   {
    "duration": 59,
    "start_time": "2024-05-31T02:07:24.267Z"
   },
   {
    "duration": 23,
    "start_time": "2024-05-31T02:07:24.329Z"
   },
   {
    "duration": 8,
    "start_time": "2024-05-31T02:07:24.355Z"
   },
   {
    "duration": 75,
    "start_time": "2024-05-31T02:07:24.366Z"
   },
   {
    "duration": 263,
    "start_time": "2024-05-31T02:07:24.444Z"
   },
   {
    "duration": 29,
    "start_time": "2024-05-31T02:07:24.710Z"
   },
   {
    "duration": 40,
    "start_time": "2024-05-31T02:07:24.743Z"
   },
   {
    "duration": 40,
    "start_time": "2024-05-31T02:07:24.785Z"
   },
   {
    "duration": 423,
    "start_time": "2024-05-31T02:07:24.828Z"
   },
   {
    "duration": 244,
    "start_time": "2024-05-31T02:08:55.874Z"
   },
   {
    "duration": 259,
    "start_time": "2024-05-31T02:09:03.828Z"
   },
   {
    "duration": 327,
    "start_time": "2024-05-31T02:09:14.111Z"
   },
   {
    "duration": 1350,
    "start_time": "2024-05-31T02:13:53.716Z"
   },
   {
    "duration": 56,
    "start_time": "2024-05-31T02:13:55.070Z"
   },
   {
    "duration": 24,
    "start_time": "2024-05-31T02:13:55.130Z"
   },
   {
    "duration": 65,
    "start_time": "2024-05-31T02:13:55.159Z"
   },
   {
    "duration": 19,
    "start_time": "2024-05-31T02:13:55.227Z"
   },
   {
    "duration": 33,
    "start_time": "2024-05-31T02:13:55.250Z"
   },
   {
    "duration": 36,
    "start_time": "2024-05-31T02:13:55.286Z"
   },
   {
    "duration": 8,
    "start_time": "2024-05-31T02:13:55.326Z"
   },
   {
    "duration": 21,
    "start_time": "2024-05-31T02:13:55.337Z"
   },
   {
    "duration": 20,
    "start_time": "2024-05-31T02:13:55.363Z"
   },
   {
    "duration": 24,
    "start_time": "2024-05-31T02:13:55.423Z"
   },
   {
    "duration": 643,
    "start_time": "2024-05-31T02:13:55.449Z"
   },
   {
    "duration": 0,
    "start_time": "2024-05-31T02:13:56.095Z"
   },
   {
    "duration": 0,
    "start_time": "2024-05-31T02:13:56.097Z"
   },
   {
    "duration": 0,
    "start_time": "2024-05-31T02:13:56.099Z"
   },
   {
    "duration": 0,
    "start_time": "2024-05-31T02:13:56.101Z"
   },
   {
    "duration": 0,
    "start_time": "2024-05-31T02:13:56.103Z"
   },
   {
    "duration": 0,
    "start_time": "2024-05-31T02:13:56.123Z"
   },
   {
    "duration": 0,
    "start_time": "2024-05-31T02:13:56.126Z"
   },
   {
    "duration": 0,
    "start_time": "2024-05-31T02:13:56.128Z"
   },
   {
    "duration": 0,
    "start_time": "2024-05-31T02:13:56.131Z"
   },
   {
    "duration": 0,
    "start_time": "2024-05-31T02:13:56.132Z"
   },
   {
    "duration": 0,
    "start_time": "2024-05-31T02:13:56.135Z"
   },
   {
    "duration": 0,
    "start_time": "2024-05-31T02:13:56.137Z"
   },
   {
    "duration": 0,
    "start_time": "2024-05-31T02:13:56.139Z"
   },
   {
    "duration": 0,
    "start_time": "2024-05-31T02:13:56.141Z"
   },
   {
    "duration": 0,
    "start_time": "2024-05-31T02:13:56.142Z"
   },
   {
    "duration": 1300,
    "start_time": "2024-05-31T02:14:13.798Z"
   },
   {
    "duration": 48,
    "start_time": "2024-05-31T02:14:15.102Z"
   },
   {
    "duration": 23,
    "start_time": "2024-05-31T02:14:15.154Z"
   },
   {
    "duration": 66,
    "start_time": "2024-05-31T02:14:15.182Z"
   },
   {
    "duration": 20,
    "start_time": "2024-05-31T02:14:15.251Z"
   },
   {
    "duration": 56,
    "start_time": "2024-05-31T02:14:15.276Z"
   },
   {
    "duration": 4,
    "start_time": "2024-05-31T02:14:15.336Z"
   },
   {
    "duration": 9,
    "start_time": "2024-05-31T02:14:15.343Z"
   },
   {
    "duration": 18,
    "start_time": "2024-05-31T02:14:15.356Z"
   },
   {
    "duration": 19,
    "start_time": "2024-05-31T02:14:15.422Z"
   },
   {
    "duration": 24,
    "start_time": "2024-05-31T02:14:15.444Z"
   },
   {
    "duration": 658,
    "start_time": "2024-05-31T02:14:15.471Z"
   },
   {
    "duration": 0,
    "start_time": "2024-05-31T02:14:16.133Z"
   },
   {
    "duration": 0,
    "start_time": "2024-05-31T02:14:16.134Z"
   },
   {
    "duration": 0,
    "start_time": "2024-05-31T02:14:16.136Z"
   },
   {
    "duration": 0,
    "start_time": "2024-05-31T02:14:16.139Z"
   },
   {
    "duration": 0,
    "start_time": "2024-05-31T02:14:16.141Z"
   },
   {
    "duration": 0,
    "start_time": "2024-05-31T02:14:16.144Z"
   },
   {
    "duration": 0,
    "start_time": "2024-05-31T02:14:16.146Z"
   },
   {
    "duration": 0,
    "start_time": "2024-05-31T02:14:16.150Z"
   },
   {
    "duration": 0,
    "start_time": "2024-05-31T02:14:16.152Z"
   },
   {
    "duration": 1,
    "start_time": "2024-05-31T02:14:16.154Z"
   },
   {
    "duration": 0,
    "start_time": "2024-05-31T02:14:16.158Z"
   },
   {
    "duration": 0,
    "start_time": "2024-05-31T02:14:16.161Z"
   },
   {
    "duration": 0,
    "start_time": "2024-05-31T02:14:16.164Z"
   },
   {
    "duration": 0,
    "start_time": "2024-05-31T02:14:16.166Z"
   },
   {
    "duration": 0,
    "start_time": "2024-05-31T02:14:16.222Z"
   },
   {
    "duration": 22,
    "start_time": "2024-05-31T02:18:52.185Z"
   },
   {
    "duration": 1398,
    "start_time": "2024-05-31T02:19:00.411Z"
   },
   {
    "duration": 41,
    "start_time": "2024-05-31T02:19:01.813Z"
   },
   {
    "duration": 25,
    "start_time": "2024-05-31T02:19:01.859Z"
   },
   {
    "duration": 63,
    "start_time": "2024-05-31T02:19:01.889Z"
   },
   {
    "duration": 20,
    "start_time": "2024-05-31T02:19:01.956Z"
   },
   {
    "duration": 63,
    "start_time": "2024-05-31T02:19:01.979Z"
   },
   {
    "duration": 5,
    "start_time": "2024-05-31T02:19:02.046Z"
   },
   {
    "duration": 10,
    "start_time": "2024-05-31T02:19:02.055Z"
   },
   {
    "duration": 62,
    "start_time": "2024-05-31T02:19:02.068Z"
   },
   {
    "duration": 21,
    "start_time": "2024-05-31T02:19:02.138Z"
   },
   {
    "duration": 25,
    "start_time": "2024-05-31T02:19:02.162Z"
   },
   {
    "duration": 49,
    "start_time": "2024-05-31T02:19:02.190Z"
   },
   {
    "duration": 17,
    "start_time": "2024-05-31T02:19:02.242Z"
   },
   {
    "duration": 12,
    "start_time": "2024-05-31T02:19:02.262Z"
   },
   {
    "duration": 74,
    "start_time": "2024-05-31T02:19:02.279Z"
   },
   {
    "duration": 19,
    "start_time": "2024-05-31T02:19:02.355Z"
   },
   {
    "duration": 287,
    "start_time": "2024-05-31T02:19:02.378Z"
   },
   {
    "duration": 14,
    "start_time": "2024-05-31T02:19:02.670Z"
   },
   {
    "duration": 51,
    "start_time": "2024-05-31T02:19:02.687Z"
   },
   {
    "duration": 19,
    "start_time": "2024-05-31T02:19:02.741Z"
   },
   {
    "duration": 7,
    "start_time": "2024-05-31T02:19:02.763Z"
   },
   {
    "duration": 73,
    "start_time": "2024-05-31T02:19:02.773Z"
   },
   {
    "duration": 299,
    "start_time": "2024-05-31T02:19:02.849Z"
   },
   {
    "duration": 23,
    "start_time": "2024-05-31T02:19:03.151Z"
   },
   {
    "duration": 61,
    "start_time": "2024-05-31T02:19:03.177Z"
   },
   {
    "duration": 11,
    "start_time": "2024-05-31T02:19:03.242Z"
   },
   {
    "duration": 492,
    "start_time": "2024-05-31T02:19:03.256Z"
   },
   {
    "duration": 580,
    "start_time": "2024-05-31T02:21:19.124Z"
   },
   {
    "duration": 20,
    "start_time": "2024-05-31T02:21:31.251Z"
   },
   {
    "duration": 998,
    "start_time": "2024-05-31T02:36:08.110Z"
   },
   {
    "duration": 19,
    "start_time": "2024-05-31T02:37:59.105Z"
   },
   {
    "duration": 280,
    "start_time": "2024-05-31T02:51:32.683Z"
   },
   {
    "duration": 1372,
    "start_time": "2024-05-31T02:59:33.822Z"
   },
   {
    "duration": 48,
    "start_time": "2024-05-31T02:59:35.198Z"
   },
   {
    "duration": 22,
    "start_time": "2024-05-31T02:59:35.249Z"
   },
   {
    "duration": 59,
    "start_time": "2024-05-31T02:59:35.274Z"
   },
   {
    "duration": 20,
    "start_time": "2024-05-31T02:59:35.338Z"
   },
   {
    "duration": 61,
    "start_time": "2024-05-31T02:59:35.362Z"
   },
   {
    "duration": 5,
    "start_time": "2024-05-31T02:59:35.426Z"
   },
   {
    "duration": 12,
    "start_time": "2024-05-31T02:59:35.434Z"
   },
   {
    "duration": 27,
    "start_time": "2024-05-31T02:59:35.450Z"
   },
   {
    "duration": 68,
    "start_time": "2024-05-31T02:59:35.480Z"
   },
   {
    "duration": 25,
    "start_time": "2024-05-31T02:59:35.551Z"
   },
   {
    "duration": 1744,
    "start_time": "2024-05-31T02:59:35.580Z"
   },
   {
    "duration": 0,
    "start_time": "2024-05-31T02:59:37.329Z"
   },
   {
    "duration": 0,
    "start_time": "2024-05-31T02:59:37.332Z"
   },
   {
    "duration": 0,
    "start_time": "2024-05-31T02:59:37.336Z"
   },
   {
    "duration": 0,
    "start_time": "2024-05-31T02:59:37.338Z"
   },
   {
    "duration": 0,
    "start_time": "2024-05-31T02:59:37.340Z"
   },
   {
    "duration": 0,
    "start_time": "2024-05-31T02:59:37.343Z"
   },
   {
    "duration": 0,
    "start_time": "2024-05-31T02:59:37.349Z"
   },
   {
    "duration": 0,
    "start_time": "2024-05-31T02:59:37.351Z"
   },
   {
    "duration": 0,
    "start_time": "2024-05-31T02:59:37.354Z"
   },
   {
    "duration": 0,
    "start_time": "2024-05-31T02:59:37.357Z"
   },
   {
    "duration": 0,
    "start_time": "2024-05-31T02:59:37.358Z"
   },
   {
    "duration": 0,
    "start_time": "2024-05-31T02:59:37.360Z"
   },
   {
    "duration": 0,
    "start_time": "2024-05-31T02:59:37.362Z"
   },
   {
    "duration": 0,
    "start_time": "2024-05-31T02:59:37.365Z"
   },
   {
    "duration": 0,
    "start_time": "2024-05-31T02:59:37.367Z"
   },
   {
    "duration": 260,
    "start_time": "2024-05-31T03:07:17.914Z"
   },
   {
    "duration": 262,
    "start_time": "2024-05-31T03:07:24.664Z"
   },
   {
    "duration": 264,
    "start_time": "2024-05-31T03:07:29.020Z"
   },
   {
    "duration": 308,
    "start_time": "2024-05-31T03:07:35.170Z"
   },
   {
    "duration": 2106,
    "start_time": "2024-05-31T03:07:49.998Z"
   },
   {
    "duration": 18,
    "start_time": "2024-05-31T03:08:02.898Z"
   },
   {
    "duration": 16,
    "start_time": "2024-05-31T03:08:10.430Z"
   },
   {
    "duration": 33,
    "start_time": "2024-05-31T03:08:13.022Z"
   },
   {
    "duration": 269,
    "start_time": "2024-05-31T03:13:30.570Z"
   },
   {
    "duration": 24,
    "start_time": "2024-05-31T03:15:48.134Z"
   },
   {
    "duration": 16,
    "start_time": "2024-05-31T03:16:02.793Z"
   },
   {
    "duration": 12,
    "start_time": "2024-05-31T03:16:13.306Z"
   },
   {
    "duration": 35,
    "start_time": "2024-05-31T03:16:14.527Z"
   },
   {
    "duration": 1330,
    "start_time": "2024-05-31T03:16:27.962Z"
   },
   {
    "duration": 54,
    "start_time": "2024-05-31T03:16:29.296Z"
   },
   {
    "duration": 24,
    "start_time": "2024-05-31T03:16:29.353Z"
   },
   {
    "duration": 73,
    "start_time": "2024-05-31T03:16:29.382Z"
   },
   {
    "duration": 23,
    "start_time": "2024-05-31T03:16:29.462Z"
   },
   {
    "duration": 61,
    "start_time": "2024-05-31T03:16:29.489Z"
   },
   {
    "duration": 5,
    "start_time": "2024-05-31T03:16:29.554Z"
   },
   {
    "duration": 9,
    "start_time": "2024-05-31T03:16:29.563Z"
   },
   {
    "duration": 60,
    "start_time": "2024-05-31T03:16:29.577Z"
   },
   {
    "duration": 30,
    "start_time": "2024-05-31T03:16:29.640Z"
   },
   {
    "duration": 59,
    "start_time": "2024-05-31T03:16:29.673Z"
   },
   {
    "duration": 24,
    "start_time": "2024-05-31T03:16:29.737Z"
   },
   {
    "duration": 19,
    "start_time": "2024-05-31T03:16:29.765Z"
   },
   {
    "duration": 17,
    "start_time": "2024-05-31T03:16:29.823Z"
   },
   {
    "duration": 37,
    "start_time": "2024-05-31T03:16:29.844Z"
   },
   {
    "duration": 56,
    "start_time": "2024-05-31T03:16:29.885Z"
   },
   {
    "duration": 304,
    "start_time": "2024-05-31T03:16:29.945Z"
   },
   {
    "duration": 14,
    "start_time": "2024-05-31T03:16:30.252Z"
   },
   {
    "duration": 63,
    "start_time": "2024-05-31T03:16:30.269Z"
   },
   {
    "duration": 21,
    "start_time": "2024-05-31T03:16:30.336Z"
   },
   {
    "duration": 8,
    "start_time": "2024-05-31T03:16:30.360Z"
   },
   {
    "duration": 84,
    "start_time": "2024-05-31T03:16:30.372Z"
   },
   {
    "duration": 285,
    "start_time": "2024-05-31T03:16:30.465Z"
   },
   {
    "duration": 23,
    "start_time": "2024-05-31T03:16:30.754Z"
   },
   {
    "duration": 69,
    "start_time": "2024-05-31T03:16:30.780Z"
   },
   {
    "duration": 10,
    "start_time": "2024-05-31T03:16:30.855Z"
   },
   {
    "duration": 520,
    "start_time": "2024-05-31T03:16:30.868Z"
   },
   {
    "duration": 21,
    "start_time": "2024-05-31T03:19:18.188Z"
   },
   {
    "duration": 16,
    "start_time": "2024-05-31T03:19:18.558Z"
   },
   {
    "duration": 11,
    "start_time": "2024-05-31T03:19:18.756Z"
   },
   {
    "duration": 34,
    "start_time": "2024-05-31T03:19:18.923Z"
   },
   {
    "duration": 20,
    "start_time": "2024-05-31T03:19:19.087Z"
   },
   {
    "duration": 264,
    "start_time": "2024-05-31T03:19:19.269Z"
   },
   {
    "duration": 13,
    "start_time": "2024-05-31T03:19:19.537Z"
   },
   {
    "duration": 36,
    "start_time": "2024-05-31T03:19:19.600Z"
   },
   {
    "duration": 21,
    "start_time": "2024-05-31T03:19:19.768Z"
   },
   {
    "duration": 7,
    "start_time": "2024-05-31T03:19:20.322Z"
   },
   {
    "duration": 35,
    "start_time": "2024-05-31T03:19:20.802Z"
   },
   {
    "duration": 250,
    "start_time": "2024-05-31T03:19:23.553Z"
   },
   {
    "duration": 22,
    "start_time": "2024-05-31T03:19:24.474Z"
   },
   {
    "duration": 1321,
    "start_time": "2024-05-31T03:21:27.371Z"
   },
   {
    "duration": 43,
    "start_time": "2024-05-31T03:21:28.695Z"
   },
   {
    "duration": 20,
    "start_time": "2024-05-31T03:21:28.741Z"
   },
   {
    "duration": 33,
    "start_time": "2024-05-31T03:21:28.765Z"
   },
   {
    "duration": 22,
    "start_time": "2024-05-31T03:21:28.825Z"
   },
   {
    "duration": 39,
    "start_time": "2024-05-31T03:21:28.850Z"
   },
   {
    "duration": 32,
    "start_time": "2024-05-31T03:21:28.892Z"
   },
   {
    "duration": 12,
    "start_time": "2024-05-31T03:21:28.928Z"
   },
   {
    "duration": 19,
    "start_time": "2024-05-31T03:21:28.943Z"
   },
   {
    "duration": 66,
    "start_time": "2024-05-31T03:21:28.969Z"
   },
   {
    "duration": 23,
    "start_time": "2024-05-31T03:21:29.038Z"
   },
   {
    "duration": 21,
    "start_time": "2024-05-31T03:21:29.065Z"
   },
   {
    "duration": 45,
    "start_time": "2024-05-31T03:21:29.090Z"
   },
   {
    "duration": 12,
    "start_time": "2024-05-31T03:21:29.137Z"
   },
   {
    "duration": 33,
    "start_time": "2024-05-31T03:21:29.152Z"
   },
   {
    "duration": 50,
    "start_time": "2024-05-31T03:21:29.188Z"
   },
   {
    "duration": 294,
    "start_time": "2024-05-31T03:21:29.241Z"
   },
   {
    "duration": 12,
    "start_time": "2024-05-31T03:21:29.539Z"
   },
   {
    "duration": 34,
    "start_time": "2024-05-31T03:21:29.554Z"
   },
   {
    "duration": 47,
    "start_time": "2024-05-31T03:21:29.591Z"
   },
   {
    "duration": 7,
    "start_time": "2024-05-31T03:21:29.642Z"
   },
   {
    "duration": 77,
    "start_time": "2024-05-31T03:21:29.653Z"
   },
   {
    "duration": 288,
    "start_time": "2024-05-31T03:21:29.734Z"
   },
   {
    "duration": 22,
    "start_time": "2024-05-31T03:21:30.026Z"
   },
   {
    "duration": 41,
    "start_time": "2024-05-31T03:21:30.052Z"
   },
   {
    "duration": 11,
    "start_time": "2024-05-31T03:21:30.123Z"
   },
   {
    "duration": 490,
    "start_time": "2024-05-31T03:21:30.137Z"
   },
   {
    "duration": 1445,
    "start_time": "2024-05-31T03:22:24.626Z"
   },
   {
    "duration": 57,
    "start_time": "2024-05-31T03:22:26.076Z"
   },
   {
    "duration": 26,
    "start_time": "2024-05-31T03:22:26.140Z"
   },
   {
    "duration": 59,
    "start_time": "2024-05-31T03:22:26.170Z"
   },
   {
    "duration": 21,
    "start_time": "2024-05-31T03:22:26.233Z"
   },
   {
    "duration": 66,
    "start_time": "2024-05-31T03:22:26.258Z"
   },
   {
    "duration": 5,
    "start_time": "2024-05-31T03:22:26.328Z"
   },
   {
    "duration": 10,
    "start_time": "2024-05-31T03:22:26.338Z"
   },
   {
    "duration": 19,
    "start_time": "2024-05-31T03:22:26.351Z"
   },
   {
    "duration": 22,
    "start_time": "2024-05-31T03:22:26.422Z"
   },
   {
    "duration": 27,
    "start_time": "2024-05-31T03:22:26.447Z"
   },
   {
    "duration": 55,
    "start_time": "2024-05-31T03:22:26.478Z"
   },
   {
    "duration": 19,
    "start_time": "2024-05-31T03:22:26.536Z"
   },
   {
    "duration": 13,
    "start_time": "2024-05-31T03:22:26.558Z"
   },
   {
    "duration": 74,
    "start_time": "2024-05-31T03:22:26.574Z"
   },
   {
    "duration": 18,
    "start_time": "2024-05-31T03:22:26.652Z"
   },
   {
    "duration": 289,
    "start_time": "2024-05-31T03:22:26.673Z"
   },
   {
    "duration": 14,
    "start_time": "2024-05-31T03:22:26.966Z"
   },
   {
    "duration": 60,
    "start_time": "2024-05-31T03:22:26.983Z"
   },
   {
    "duration": 21,
    "start_time": "2024-05-31T03:22:27.046Z"
   },
   {
    "duration": 8,
    "start_time": "2024-05-31T03:22:27.071Z"
   },
   {
    "duration": 40,
    "start_time": "2024-05-31T03:22:27.123Z"
   },
   {
    "duration": 316,
    "start_time": "2024-05-31T03:22:27.167Z"
   },
   {
    "duration": 40,
    "start_time": "2024-05-31T03:22:27.487Z"
   },
   {
    "duration": 40,
    "start_time": "2024-05-31T03:22:27.530Z"
   },
   {
    "duration": 12,
    "start_time": "2024-05-31T03:22:27.573Z"
   },
   {
    "duration": 540,
    "start_time": "2024-05-31T03:22:27.588Z"
   },
   {
    "duration": 4984,
    "start_time": "2024-06-01T15:54:28.866Z"
   },
   {
    "duration": 60,
    "start_time": "2024-06-01T15:54:33.853Z"
   },
   {
    "duration": 18,
    "start_time": "2024-06-01T15:54:33.916Z"
   },
   {
    "duration": 32,
    "start_time": "2024-06-01T15:54:33.938Z"
   },
   {
    "duration": 20,
    "start_time": "2024-06-01T15:54:33.973Z"
   },
   {
    "duration": 53,
    "start_time": "2024-06-01T15:54:33.997Z"
   },
   {
    "duration": 5,
    "start_time": "2024-06-01T15:54:34.053Z"
   },
   {
    "duration": 8,
    "start_time": "2024-06-01T15:54:34.062Z"
   },
   {
    "duration": 59,
    "start_time": "2024-06-01T15:54:34.073Z"
   },
   {
    "duration": 19,
    "start_time": "2024-06-01T15:54:34.138Z"
   },
   {
    "duration": 21,
    "start_time": "2024-06-01T15:54:34.160Z"
   },
   {
    "duration": 50,
    "start_time": "2024-06-01T15:54:34.185Z"
   },
   {
    "duration": 16,
    "start_time": "2024-06-01T15:54:34.238Z"
   },
   {
    "duration": 11,
    "start_time": "2024-06-01T15:54:34.256Z"
   },
   {
    "duration": 63,
    "start_time": "2024-06-01T15:54:34.270Z"
   },
   {
    "duration": 17,
    "start_time": "2024-06-01T15:54:34.336Z"
   },
   {
    "duration": 274,
    "start_time": "2024-06-01T15:54:34.356Z"
   },
   {
    "duration": 11,
    "start_time": "2024-06-01T15:54:34.632Z"
   },
   {
    "duration": 32,
    "start_time": "2024-06-01T15:54:34.646Z"
   },
   {
    "duration": 51,
    "start_time": "2024-06-01T15:54:34.680Z"
   },
   {
    "duration": 6,
    "start_time": "2024-06-01T15:54:34.734Z"
   },
   {
    "duration": 33,
    "start_time": "2024-06-01T15:54:34.743Z"
   },
   {
    "duration": 287,
    "start_time": "2024-06-01T15:54:34.779Z"
   },
   {
    "duration": 20,
    "start_time": "2024-06-01T15:54:35.069Z"
   },
   {
    "duration": 59,
    "start_time": "2024-06-01T15:54:35.092Z"
   },
   {
    "duration": 9,
    "start_time": "2024-06-01T15:54:35.154Z"
   },
   {
    "duration": 393,
    "start_time": "2024-06-01T15:54:35.166Z"
   },
   {
    "duration": 15,
    "start_time": "2024-06-01T16:04:38.535Z"
   },
   {
    "duration": 26,
    "start_time": "2024-06-01T16:14:54.892Z"
   },
   {
    "duration": 27,
    "start_time": "2024-06-01T16:15:09.538Z"
   },
   {
    "duration": 21,
    "start_time": "2024-06-01T16:15:20.437Z"
   },
   {
    "duration": 21,
    "start_time": "2024-06-01T16:15:26.976Z"
   },
   {
    "duration": 26,
    "start_time": "2024-06-01T16:15:33.670Z"
   },
   {
    "duration": 23,
    "start_time": "2024-06-01T16:15:40.732Z"
   },
   {
    "duration": 26,
    "start_time": "2024-06-01T16:15:46.840Z"
   },
   {
    "duration": 30,
    "start_time": "2024-06-01T16:15:54.905Z"
   },
   {
    "duration": 29,
    "start_time": "2024-06-01T16:16:16.065Z"
   },
   {
    "duration": 26,
    "start_time": "2024-06-01T16:17:03.095Z"
   },
   {
    "duration": 21,
    "start_time": "2024-06-01T16:17:13.744Z"
   },
   {
    "duration": 21,
    "start_time": "2024-06-01T16:17:19.195Z"
   },
   {
    "duration": 22,
    "start_time": "2024-06-01T16:17:24.514Z"
   },
   {
    "duration": 28,
    "start_time": "2024-06-01T16:17:29.865Z"
   },
   {
    "duration": 21,
    "start_time": "2024-06-01T16:33:46.456Z"
   },
   {
    "duration": 1478,
    "start_time": "2024-06-01T17:57:16.732Z"
   },
   {
    "duration": 37,
    "start_time": "2024-06-01T18:00:33.603Z"
   },
   {
    "duration": 33,
    "start_time": "2024-06-01T18:01:30.596Z"
   },
   {
    "duration": 36,
    "start_time": "2024-06-01T18:02:09.509Z"
   },
   {
    "duration": 37,
    "start_time": "2024-06-01T18:02:38.356Z"
   },
   {
    "duration": 22,
    "start_time": "2024-06-01T19:18:10.275Z"
   },
   {
    "duration": 24,
    "start_time": "2024-06-01T19:28:18.186Z"
   },
   {
    "duration": 1223,
    "start_time": "2024-06-01T19:28:50.656Z"
   },
   {
    "duration": 5561,
    "start_time": "2024-06-02T22:24:19.930Z"
   },
   {
    "duration": 88,
    "start_time": "2024-06-02T22:24:25.499Z"
   },
   {
    "duration": 27,
    "start_time": "2024-06-02T22:24:25.596Z"
   },
   {
    "duration": 47,
    "start_time": "2024-06-02T22:24:25.630Z"
   },
   {
    "duration": 44,
    "start_time": "2024-06-02T22:24:25.682Z"
   },
   {
    "duration": 44,
    "start_time": "2024-06-02T22:24:25.731Z"
   },
   {
    "duration": 5,
    "start_time": "2024-06-02T22:24:25.779Z"
   },
   {
    "duration": 35,
    "start_time": "2024-06-02T22:24:25.791Z"
   },
   {
    "duration": 23,
    "start_time": "2024-06-02T22:24:25.830Z"
   },
   {
    "duration": 25,
    "start_time": "2024-06-02T22:24:25.860Z"
   },
   {
    "duration": 65,
    "start_time": "2024-06-02T22:24:25.890Z"
   },
   {
    "duration": 31,
    "start_time": "2024-06-02T22:24:25.958Z"
   },
   {
    "duration": 36,
    "start_time": "2024-06-02T22:24:25.997Z"
   },
   {
    "duration": 12,
    "start_time": "2024-06-02T22:24:26.037Z"
   },
   {
    "duration": 39,
    "start_time": "2024-06-02T22:24:26.053Z"
   },
   {
    "duration": 24,
    "start_time": "2024-06-02T22:24:26.127Z"
   },
   {
    "duration": 394,
    "start_time": "2024-06-02T22:24:26.155Z"
   },
   {
    "duration": 16,
    "start_time": "2024-06-02T22:24:26.553Z"
   },
   {
    "duration": 71,
    "start_time": "2024-06-02T22:24:26.573Z"
   },
   {
    "duration": 25,
    "start_time": "2024-06-02T22:24:26.650Z"
   },
   {
    "duration": 7,
    "start_time": "2024-06-02T22:24:26.679Z"
   },
   {
    "duration": 82,
    "start_time": "2024-06-02T22:24:26.690Z"
   },
   {
    "duration": 274,
    "start_time": "2024-06-02T22:24:26.775Z"
   },
   {
    "duration": 24,
    "start_time": "2024-06-02T22:24:27.053Z"
   },
   {
    "duration": 86,
    "start_time": "2024-06-02T22:24:27.082Z"
   },
   {
    "duration": 33,
    "start_time": "2024-06-02T22:24:27.177Z"
   },
   {
    "duration": 575,
    "start_time": "2024-06-02T22:24:27.228Z"
   },
   {
    "duration": 35,
    "start_time": "2024-06-02T22:24:27.813Z"
   },
   {
    "duration": 1711,
    "start_time": "2024-06-02T22:24:27.851Z"
   },
   {
    "duration": 8,
    "start_time": "2024-06-02T22:24:29.566Z"
   },
   {
    "duration": 7,
    "start_time": "2024-06-02T22:24:42.255Z"
   },
   {
    "duration": 8,
    "start_time": "2024-06-02T22:24:55.815Z"
   },
   {
    "duration": 463,
    "start_time": "2024-06-02T22:27:01.397Z"
   },
   {
    "duration": 5329,
    "start_time": "2024-06-03T03:04:28.032Z"
   },
   {
    "duration": 64,
    "start_time": "2024-06-03T03:04:33.365Z"
   },
   {
    "duration": 18,
    "start_time": "2024-06-03T03:04:33.433Z"
   },
   {
    "duration": 32,
    "start_time": "2024-06-03T03:04:33.456Z"
   },
   {
    "duration": 52,
    "start_time": "2024-06-03T03:04:33.491Z"
   },
   {
    "duration": 33,
    "start_time": "2024-06-03T03:04:33.546Z"
   },
   {
    "duration": 4,
    "start_time": "2024-06-03T03:04:33.582Z"
   },
   {
    "duration": 44,
    "start_time": "2024-06-03T03:04:33.589Z"
   },
   {
    "duration": 18,
    "start_time": "2024-06-03T03:04:33.636Z"
   },
   {
    "duration": 18,
    "start_time": "2024-06-03T03:04:33.660Z"
   },
   {
    "duration": 59,
    "start_time": "2024-06-03T03:04:33.680Z"
   },
   {
    "duration": 18,
    "start_time": "2024-06-03T03:04:33.743Z"
   },
   {
    "duration": 16,
    "start_time": "2024-06-03T03:04:33.764Z"
   },
   {
    "duration": 11,
    "start_time": "2024-06-03T03:04:33.782Z"
   },
   {
    "duration": 66,
    "start_time": "2024-06-03T03:04:33.796Z"
   },
   {
    "duration": 18,
    "start_time": "2024-06-03T03:04:33.865Z"
   },
   {
    "duration": 280,
    "start_time": "2024-06-03T03:04:33.886Z"
   },
   {
    "duration": 11,
    "start_time": "2024-06-03T03:04:34.169Z"
   },
   {
    "duration": 51,
    "start_time": "2024-06-03T03:04:34.183Z"
   },
   {
    "duration": 18,
    "start_time": "2024-06-03T03:04:34.237Z"
   },
   {
    "duration": 6,
    "start_time": "2024-06-03T03:04:34.258Z"
   },
   {
    "duration": 67,
    "start_time": "2024-06-03T03:04:34.267Z"
   },
   {
    "duration": 248,
    "start_time": "2024-06-03T03:04:34.337Z"
   },
   {
    "duration": 24,
    "start_time": "2024-06-03T03:04:34.589Z"
   },
   {
    "duration": 40,
    "start_time": "2024-06-03T03:04:34.633Z"
   },
   {
    "duration": 24,
    "start_time": "2024-06-03T03:04:34.676Z"
   },
   {
    "duration": 392,
    "start_time": "2024-06-03T03:04:34.733Z"
   },
   {
    "duration": 22,
    "start_time": "2024-06-03T03:04:35.133Z"
   },
   {
    "duration": 1185,
    "start_time": "2024-06-03T03:04:35.158Z"
   },
   {
    "duration": 321,
    "start_time": "2024-06-03T03:04:36.347Z"
   },
   {
    "duration": 316,
    "start_time": "2024-06-03T03:04:36.671Z"
   },
   {
    "duration": 4916,
    "start_time": "2024-06-03T04:35:12.438Z"
   },
   {
    "duration": 57,
    "start_time": "2024-06-03T04:35:17.358Z"
   },
   {
    "duration": 23,
    "start_time": "2024-06-03T04:35:17.418Z"
   },
   {
    "duration": 37,
    "start_time": "2024-06-03T04:35:17.445Z"
   },
   {
    "duration": 20,
    "start_time": "2024-06-03T04:35:17.486Z"
   },
   {
    "duration": 39,
    "start_time": "2024-06-03T04:35:17.534Z"
   },
   {
    "duration": 5,
    "start_time": "2024-06-03T04:35:17.578Z"
   },
   {
    "duration": 8,
    "start_time": "2024-06-03T04:35:17.586Z"
   },
   {
    "duration": 53,
    "start_time": "2024-06-03T04:35:17.598Z"
   },
   {
    "duration": 19,
    "start_time": "2024-06-03T04:35:17.659Z"
   },
   {
    "duration": 53,
    "start_time": "2024-06-03T04:35:17.680Z"
   },
   {
    "duration": 18,
    "start_time": "2024-06-03T04:35:17.738Z"
   },
   {
    "duration": 15,
    "start_time": "2024-06-03T04:35:17.759Z"
   },
   {
    "duration": 12,
    "start_time": "2024-06-03T04:35:17.776Z"
   },
   {
    "duration": 65,
    "start_time": "2024-06-03T04:35:17.790Z"
   },
   {
    "duration": 17,
    "start_time": "2024-06-03T04:35:17.858Z"
   },
   {
    "duration": 268,
    "start_time": "2024-06-03T04:35:17.878Z"
   },
   {
    "duration": 10,
    "start_time": "2024-06-03T04:35:18.149Z"
   },
   {
    "duration": 30,
    "start_time": "2024-06-03T04:35:18.163Z"
   },
   {
    "duration": 47,
    "start_time": "2024-06-03T04:35:18.196Z"
   },
   {
    "duration": 6,
    "start_time": "2024-06-03T04:35:18.246Z"
   },
   {
    "duration": 31,
    "start_time": "2024-06-03T04:35:18.256Z"
   },
   {
    "duration": 276,
    "start_time": "2024-06-03T04:35:18.290Z"
   },
   {
    "duration": 20,
    "start_time": "2024-06-03T04:35:18.569Z"
   },
   {
    "duration": 63,
    "start_time": "2024-06-03T04:35:18.595Z"
   },
   {
    "duration": 24,
    "start_time": "2024-06-03T04:35:18.661Z"
   },
   {
    "duration": 425,
    "start_time": "2024-06-03T04:35:18.688Z"
   },
   {
    "duration": 22,
    "start_time": "2024-06-03T04:35:19.121Z"
   },
   {
    "duration": 1263,
    "start_time": "2024-06-03T04:35:19.146Z"
   },
   {
    "duration": 320,
    "start_time": "2024-06-03T04:35:20.412Z"
   },
   {
    "duration": 243,
    "start_time": "2024-06-03T04:35:20.735Z"
   },
   {
    "duration": 407,
    "start_time": "2024-06-03T04:41:56.342Z"
   },
   {
    "duration": 18,
    "start_time": "2024-06-03T04:42:07.097Z"
   },
   {
    "duration": 4873,
    "start_time": "2024-06-04T00:45:34.680Z"
   },
   {
    "duration": 57,
    "start_time": "2024-06-04T00:45:39.558Z"
   },
   {
    "duration": 20,
    "start_time": "2024-06-04T00:45:39.618Z"
   },
   {
    "duration": 34,
    "start_time": "2024-06-04T00:45:39.641Z"
   },
   {
    "duration": 19,
    "start_time": "2024-06-04T00:45:39.712Z"
   },
   {
    "duration": 33,
    "start_time": "2024-06-04T00:45:39.734Z"
   },
   {
    "duration": 4,
    "start_time": "2024-06-04T00:45:39.770Z"
   },
   {
    "duration": 41,
    "start_time": "2024-06-04T00:45:39.778Z"
   },
   {
    "duration": 19,
    "start_time": "2024-06-04T00:45:39.822Z"
   },
   {
    "duration": 19,
    "start_time": "2024-06-04T00:45:39.844Z"
   },
   {
    "duration": 58,
    "start_time": "2024-06-04T00:45:39.866Z"
   },
   {
    "duration": 18,
    "start_time": "2024-06-04T00:45:39.928Z"
   },
   {
    "duration": 17,
    "start_time": "2024-06-04T00:45:39.949Z"
   },
   {
    "duration": 44,
    "start_time": "2024-06-04T00:45:39.971Z"
   },
   {
    "duration": 32,
    "start_time": "2024-06-04T00:45:40.018Z"
   },
   {
    "duration": 16,
    "start_time": "2024-06-04T00:45:40.053Z"
   },
   {
    "duration": 292,
    "start_time": "2024-06-04T00:45:40.072Z"
   },
   {
    "duration": 13,
    "start_time": "2024-06-04T00:45:40.368Z"
   },
   {
    "duration": 55,
    "start_time": "2024-06-04T00:45:40.384Z"
   },
   {
    "duration": 17,
    "start_time": "2024-06-04T00:45:40.442Z"
   },
   {
    "duration": 6,
    "start_time": "2024-06-04T00:45:40.463Z"
   },
   {
    "duration": 64,
    "start_time": "2024-06-04T00:45:40.475Z"
   },
   {
    "duration": 255,
    "start_time": "2024-06-04T00:45:40.542Z"
   },
   {
    "duration": 27,
    "start_time": "2024-06-04T00:45:40.800Z"
   },
   {
    "duration": 40,
    "start_time": "2024-06-04T00:45:40.830Z"
   },
   {
    "duration": 50,
    "start_time": "2024-06-04T00:45:40.873Z"
   },
   {
    "duration": 404,
    "start_time": "2024-06-04T00:45:40.929Z"
   },
   {
    "duration": 25,
    "start_time": "2024-06-04T00:45:41.337Z"
   },
   {
    "duration": 1222,
    "start_time": "2024-06-04T00:45:41.365Z"
   },
   {
    "duration": 343,
    "start_time": "2024-06-04T00:45:42.590Z"
   },
   {
    "duration": 14,
    "start_time": "2024-06-04T00:45:42.936Z"
   },
   {
    "duration": 277,
    "start_time": "2024-06-04T00:45:42.953Z"
   },
   {
    "duration": 46,
    "start_time": "2024-06-04T00:46:27.150Z"
   },
   {
    "duration": 406,
    "start_time": "2024-06-04T00:46:48.070Z"
   },
   {
    "duration": 422,
    "start_time": "2024-06-04T01:04:13.115Z"
   },
   {
    "duration": 191,
    "start_time": "2024-06-04T01:04:33.454Z"
   },
   {
    "duration": 320,
    "start_time": "2024-06-04T02:13:37.009Z"
   },
   {
    "duration": 4973,
    "start_time": "2024-06-04T02:14:01.342Z"
   },
   {
    "duration": 60,
    "start_time": "2024-06-04T02:14:06.320Z"
   },
   {
    "duration": 28,
    "start_time": "2024-06-04T02:14:06.383Z"
   },
   {
    "duration": 35,
    "start_time": "2024-06-04T02:14:06.415Z"
   },
   {
    "duration": 20,
    "start_time": "2024-06-04T02:14:06.454Z"
   },
   {
    "duration": 31,
    "start_time": "2024-06-04T02:14:06.507Z"
   },
   {
    "duration": 5,
    "start_time": "2024-06-04T02:14:06.541Z"
   },
   {
    "duration": 9,
    "start_time": "2024-06-04T02:14:06.549Z"
   },
   {
    "duration": 52,
    "start_time": "2024-06-04T02:14:06.561Z"
   },
   {
    "duration": 19,
    "start_time": "2024-06-04T02:14:06.618Z"
   },
   {
    "duration": 22,
    "start_time": "2024-06-04T02:14:06.640Z"
   },
   {
    "duration": 19,
    "start_time": "2024-06-04T02:14:06.706Z"
   },
   {
    "duration": 17,
    "start_time": "2024-06-04T02:14:06.727Z"
   },
   {
    "duration": 11,
    "start_time": "2024-06-04T02:14:06.747Z"
   },
   {
    "duration": 64,
    "start_time": "2024-06-04T02:14:06.761Z"
   },
   {
    "duration": 17,
    "start_time": "2024-06-04T02:14:06.828Z"
   },
   {
    "duration": 281,
    "start_time": "2024-06-04T02:14:06.848Z"
   },
   {
    "duration": 11,
    "start_time": "2024-06-04T02:14:07.132Z"
   },
   {
    "duration": 31,
    "start_time": "2024-06-04T02:14:07.146Z"
   },
   {
    "duration": 17,
    "start_time": "2024-06-04T02:14:07.208Z"
   },
   {
    "duration": 6,
    "start_time": "2024-06-04T02:14:07.228Z"
   },
   {
    "duration": 32,
    "start_time": "2024-06-04T02:14:07.237Z"
   },
   {
    "duration": 307,
    "start_time": "2024-06-04T02:14:07.273Z"
   },
   {
    "duration": 36,
    "start_time": "2024-06-04T02:14:07.583Z"
   },
   {
    "duration": 35,
    "start_time": "2024-06-04T02:14:07.621Z"
   },
   {
    "duration": 48,
    "start_time": "2024-06-04T02:14:07.659Z"
   },
   {
    "duration": 401,
    "start_time": "2024-06-04T02:14:07.710Z"
   },
   {
    "duration": 24,
    "start_time": "2024-06-04T02:14:08.120Z"
   },
   {
    "duration": 1268,
    "start_time": "2024-06-04T02:14:08.147Z"
   },
   {
    "duration": 325,
    "start_time": "2024-06-04T02:14:09.418Z"
   },
   {
    "duration": 14,
    "start_time": "2024-06-04T02:14:09.746Z"
   },
   {
    "duration": 337,
    "start_time": "2024-06-04T02:14:09.763Z"
   },
   {
    "duration": 195,
    "start_time": "2024-06-04T02:14:10.106Z"
   },
   {
    "duration": 1283,
    "start_time": "2024-06-04T02:14:10.307Z"
   },
   {
    "duration": 35,
    "start_time": "2024-06-04T02:17:08.521Z"
   },
   {
    "duration": 176,
    "start_time": "2024-06-04T02:23:13.864Z"
   },
   {
    "duration": 204,
    "start_time": "2024-06-04T02:24:40.228Z"
   },
   {
    "duration": 201,
    "start_time": "2024-06-04T02:25:10.031Z"
   },
   {
    "duration": 197,
    "start_time": "2024-06-04T02:25:44.956Z"
   },
   {
    "duration": 201,
    "start_time": "2024-06-04T02:26:13.453Z"
   },
   {
    "duration": 210,
    "start_time": "2024-06-04T02:26:25.189Z"
   },
   {
    "duration": 183,
    "start_time": "2024-06-04T02:26:39.503Z"
   },
   {
    "duration": 209,
    "start_time": "2024-06-04T02:27:04.197Z"
   },
   {
    "duration": 4986,
    "start_time": "2024-06-05T00:11:30.063Z"
   },
   {
    "duration": 54,
    "start_time": "2024-06-05T00:11:35.053Z"
   },
   {
    "duration": 20,
    "start_time": "2024-06-05T00:11:35.110Z"
   },
   {
    "duration": 32,
    "start_time": "2024-06-05T00:11:35.134Z"
   },
   {
    "duration": 40,
    "start_time": "2024-06-05T00:11:35.169Z"
   },
   {
    "duration": 30,
    "start_time": "2024-06-05T00:11:35.212Z"
   },
   {
    "duration": 4,
    "start_time": "2024-06-05T00:11:35.246Z"
   },
   {
    "duration": 42,
    "start_time": "2024-06-05T00:11:35.254Z"
   },
   {
    "duration": 18,
    "start_time": "2024-06-05T00:11:35.299Z"
   },
   {
    "duration": 18,
    "start_time": "2024-06-05T00:11:35.323Z"
   },
   {
    "duration": 64,
    "start_time": "2024-06-05T00:11:35.344Z"
   },
   {
    "duration": 19,
    "start_time": "2024-06-05T00:11:35.411Z"
   },
   {
    "duration": 15,
    "start_time": "2024-06-05T00:11:35.433Z"
   },
   {
    "duration": 44,
    "start_time": "2024-06-05T00:11:35.451Z"
   },
   {
    "duration": 32,
    "start_time": "2024-06-05T00:11:35.497Z"
   },
   {
    "duration": 17,
    "start_time": "2024-06-05T00:11:35.532Z"
   },
   {
    "duration": 300,
    "start_time": "2024-06-05T00:11:35.552Z"
   },
   {
    "duration": 11,
    "start_time": "2024-06-05T00:11:35.855Z"
   },
   {
    "duration": 50,
    "start_time": "2024-06-05T00:11:35.868Z"
   },
   {
    "duration": 17,
    "start_time": "2024-06-05T00:11:35.921Z"
   },
   {
    "duration": 7,
    "start_time": "2024-06-05T00:11:35.941Z"
   },
   {
    "duration": 68,
    "start_time": "2024-06-05T00:11:35.951Z"
   },
   {
    "duration": 249,
    "start_time": "2024-06-05T00:11:36.021Z"
   },
   {
    "duration": 32,
    "start_time": "2024-06-05T00:11:36.273Z"
   },
   {
    "duration": 35,
    "start_time": "2024-06-05T00:11:36.308Z"
   },
   {
    "duration": 53,
    "start_time": "2024-06-05T00:11:36.346Z"
   },
   {
    "duration": 417,
    "start_time": "2024-06-05T00:11:36.402Z"
   },
   {
    "duration": 22,
    "start_time": "2024-06-05T00:11:36.827Z"
   },
   {
    "duration": 1267,
    "start_time": "2024-06-05T00:11:36.852Z"
   },
   {
    "duration": 323,
    "start_time": "2024-06-05T00:11:38.122Z"
   },
   {
    "duration": 14,
    "start_time": "2024-06-05T00:11:38.449Z"
   },
   {
    "duration": 30,
    "start_time": "2024-06-05T00:11:38.467Z"
   },
   {
    "duration": 255,
    "start_time": "2024-06-05T00:11:38.500Z"
   },
   {
    "duration": 205,
    "start_time": "2024-06-05T00:11:38.758Z"
   },
   {
    "duration": 219,
    "start_time": "2024-06-05T00:11:38.967Z"
   },
   {
    "duration": 18,
    "start_time": "2024-06-05T00:18:52.683Z"
   },
   {
    "duration": 443,
    "start_time": "2024-06-05T00:32:20.099Z"
   },
   {
    "duration": 17,
    "start_time": "2024-06-05T00:33:23.102Z"
   },
   {
    "duration": 393,
    "start_time": "2024-06-05T00:54:58.243Z"
   },
   {
    "duration": 466,
    "start_time": "2024-06-05T01:01:01.905Z"
   },
   {
    "duration": 681,
    "start_time": "2024-06-05T01:40:54.813Z"
   },
   {
    "duration": 1336,
    "start_time": "2024-06-05T01:43:46.746Z"
   },
   {
    "duration": 47,
    "start_time": "2024-06-05T01:43:48.090Z"
   },
   {
    "duration": 21,
    "start_time": "2024-06-05T01:43:48.140Z"
   },
   {
    "duration": 54,
    "start_time": "2024-06-05T01:43:48.165Z"
   },
   {
    "duration": 22,
    "start_time": "2024-06-05T01:43:48.222Z"
   },
   {
    "duration": 60,
    "start_time": "2024-06-05T01:43:48.248Z"
   },
   {
    "duration": 5,
    "start_time": "2024-06-05T01:43:48.311Z"
   },
   {
    "duration": 9,
    "start_time": "2024-06-05T01:43:48.319Z"
   },
   {
    "duration": 18,
    "start_time": "2024-06-05T01:43:48.332Z"
   },
   {
    "duration": 21,
    "start_time": "2024-06-05T01:43:48.397Z"
   },
   {
    "duration": 24,
    "start_time": "2024-06-05T01:43:48.422Z"
   },
   {
    "duration": 51,
    "start_time": "2024-06-05T01:43:48.449Z"
   },
   {
    "duration": 16,
    "start_time": "2024-06-05T01:43:48.503Z"
   },
   {
    "duration": 12,
    "start_time": "2024-06-05T01:43:48.522Z"
   },
   {
    "duration": 69,
    "start_time": "2024-06-05T01:43:48.536Z"
   },
   {
    "duration": 17,
    "start_time": "2024-06-05T01:43:48.609Z"
   },
   {
    "duration": 282,
    "start_time": "2024-06-05T01:43:48.629Z"
   },
   {
    "duration": 10,
    "start_time": "2024-06-05T01:43:48.915Z"
   },
   {
    "duration": 32,
    "start_time": "2024-06-05T01:43:48.928Z"
   },
   {
    "duration": 41,
    "start_time": "2024-06-05T01:43:48.963Z"
   },
   {
    "duration": 6,
    "start_time": "2024-06-05T01:43:49.007Z"
   },
   {
    "duration": 32,
    "start_time": "2024-06-05T01:43:49.018Z"
   },
   {
    "duration": 267,
    "start_time": "2024-06-05T01:43:49.053Z"
   },
   {
    "duration": 21,
    "start_time": "2024-06-05T01:43:49.324Z"
   },
   {
    "duration": 68,
    "start_time": "2024-06-05T01:43:49.348Z"
   },
   {
    "duration": 25,
    "start_time": "2024-06-05T01:43:49.419Z"
   },
   {
    "duration": 479,
    "start_time": "2024-06-05T01:43:49.448Z"
   },
   {
    "duration": 26,
    "start_time": "2024-06-05T01:43:49.937Z"
   },
   {
    "duration": 1202,
    "start_time": "2024-06-05T01:43:49.966Z"
   },
   {
    "duration": 335,
    "start_time": "2024-06-05T01:43:51.171Z"
   },
   {
    "duration": 13,
    "start_time": "2024-06-05T01:43:51.510Z"
   },
   {
    "duration": 10,
    "start_time": "2024-06-05T01:43:51.527Z"
   },
   {
    "duration": 730,
    "start_time": "2024-06-05T01:43:51.542Z"
   },
   {
    "duration": 402,
    "start_time": "2024-06-05T01:43:52.275Z"
   },
   {
    "duration": 232,
    "start_time": "2024-06-05T01:43:52.680Z"
   },
   {
    "duration": 17,
    "start_time": "2024-06-05T01:43:52.915Z"
   },
   {
    "duration": 23,
    "start_time": "2024-06-05T01:43:52.938Z"
   },
   {
    "duration": 520,
    "start_time": "2024-06-05T01:43:52.992Z"
   },
   {
    "duration": 317,
    "start_time": "2024-06-05T03:21:19.934Z"
   },
   {
    "duration": 5012,
    "start_time": "2024-06-05T03:21:33.818Z"
   },
   {
    "duration": 58,
    "start_time": "2024-06-05T03:21:38.834Z"
   },
   {
    "duration": 21,
    "start_time": "2024-06-05T03:21:38.894Z"
   },
   {
    "duration": 33,
    "start_time": "2024-06-05T03:21:38.930Z"
   },
   {
    "duration": 26,
    "start_time": "2024-06-05T03:21:38.966Z"
   },
   {
    "duration": 63,
    "start_time": "2024-06-05T03:21:38.996Z"
   },
   {
    "duration": 10,
    "start_time": "2024-06-05T03:21:39.062Z"
   },
   {
    "duration": 9,
    "start_time": "2024-06-05T03:21:39.075Z"
   },
   {
    "duration": 49,
    "start_time": "2024-06-05T03:21:39.087Z"
   },
   {
    "duration": 19,
    "start_time": "2024-06-05T03:21:39.143Z"
   },
   {
    "duration": 22,
    "start_time": "2024-06-05T03:21:39.165Z"
   },
   {
    "duration": 51,
    "start_time": "2024-06-05T03:21:39.191Z"
   },
   {
    "duration": 16,
    "start_time": "2024-06-05T03:21:39.244Z"
   },
   {
    "duration": 11,
    "start_time": "2024-06-05T03:21:39.263Z"
   },
   {
    "duration": 68,
    "start_time": "2024-06-05T03:21:39.277Z"
   },
   {
    "duration": 17,
    "start_time": "2024-06-05T03:21:39.350Z"
   },
   {
    "duration": 269,
    "start_time": "2024-06-05T03:21:39.370Z"
   },
   {
    "duration": 12,
    "start_time": "2024-06-05T03:21:39.642Z"
   },
   {
    "duration": 32,
    "start_time": "2024-06-05T03:21:39.657Z"
   },
   {
    "duration": 46,
    "start_time": "2024-06-05T03:21:39.694Z"
   },
   {
    "duration": 6,
    "start_time": "2024-06-05T03:21:39.743Z"
   },
   {
    "duration": 32,
    "start_time": "2024-06-05T03:21:39.752Z"
   },
   {
    "duration": 276,
    "start_time": "2024-06-05T03:21:39.787Z"
   },
   {
    "duration": 25,
    "start_time": "2024-06-05T03:21:40.066Z"
   },
   {
    "duration": 64,
    "start_time": "2024-06-05T03:21:40.095Z"
   },
   {
    "duration": 37,
    "start_time": "2024-06-05T03:21:40.162Z"
   },
   {
    "duration": 397,
    "start_time": "2024-06-05T03:21:40.202Z"
   },
   {
    "duration": 25,
    "start_time": "2024-06-05T03:21:40.607Z"
   },
   {
    "duration": 1218,
    "start_time": "2024-06-05T03:21:40.635Z"
   },
   {
    "duration": 407,
    "start_time": "2024-06-05T03:21:41.857Z"
   },
   {
    "duration": 13,
    "start_time": "2024-06-05T03:21:42.268Z"
   },
   {
    "duration": 8,
    "start_time": "2024-06-05T03:21:42.286Z"
   },
   {
    "duration": 725,
    "start_time": "2024-06-05T03:21:42.298Z"
   },
   {
    "duration": 372,
    "start_time": "2024-06-05T03:21:43.030Z"
   },
   {
    "duration": 231,
    "start_time": "2024-06-05T03:21:43.405Z"
   },
   {
    "duration": 16,
    "start_time": "2024-06-05T03:21:43.638Z"
   },
   {
    "duration": 22,
    "start_time": "2024-06-05T03:21:43.658Z"
   },
   {
    "duration": 423,
    "start_time": "2024-06-05T03:21:43.683Z"
   },
   {
    "duration": 38,
    "start_time": "2024-06-05T03:21:44.109Z"
   },
   {
    "duration": 7,
    "start_time": "2024-06-05T03:34:43.522Z"
   },
   {
    "duration": 20,
    "start_time": "2024-06-05T03:34:57.887Z"
   },
   {
    "duration": 856,
    "start_time": "2024-06-05T03:37:00.685Z"
   },
   {
    "duration": 81,
    "start_time": "2024-06-05T03:39:24.731Z"
   },
   {
    "duration": 4829,
    "start_time": "2024-06-05T04:29:55.912Z"
   },
   {
    "duration": 58,
    "start_time": "2024-06-05T04:30:00.744Z"
   },
   {
    "duration": 19,
    "start_time": "2024-06-05T04:30:00.807Z"
   },
   {
    "duration": 32,
    "start_time": "2024-06-05T04:30:00.829Z"
   },
   {
    "duration": 19,
    "start_time": "2024-06-05T04:30:00.864Z"
   },
   {
    "duration": 65,
    "start_time": "2024-06-05T04:30:00.886Z"
   },
   {
    "duration": 5,
    "start_time": "2024-06-05T04:30:00.954Z"
   },
   {
    "duration": 9,
    "start_time": "2024-06-05T04:30:00.963Z"
   },
   {
    "duration": 57,
    "start_time": "2024-06-05T04:30:00.976Z"
   },
   {
    "duration": 18,
    "start_time": "2024-06-05T04:30:01.038Z"
   },
   {
    "duration": 22,
    "start_time": "2024-06-05T04:30:01.059Z"
   },
   {
    "duration": 52,
    "start_time": "2024-06-05T04:30:01.084Z"
   },
   {
    "duration": 14,
    "start_time": "2024-06-05T04:30:01.139Z"
   },
   {
    "duration": 12,
    "start_time": "2024-06-05T04:30:01.156Z"
   },
   {
    "duration": 64,
    "start_time": "2024-06-05T04:30:01.170Z"
   },
   {
    "duration": 17,
    "start_time": "2024-06-05T04:30:01.237Z"
   },
   {
    "duration": 283,
    "start_time": "2024-06-05T04:30:01.257Z"
   },
   {
    "duration": 10,
    "start_time": "2024-06-05T04:30:01.543Z"
   },
   {
    "duration": 31,
    "start_time": "2024-06-05T04:30:01.556Z"
   },
   {
    "duration": 56,
    "start_time": "2024-06-05T04:30:01.590Z"
   },
   {
    "duration": 7,
    "start_time": "2024-06-05T04:30:01.649Z"
   },
   {
    "duration": 32,
    "start_time": "2024-06-05T04:30:01.659Z"
   },
   {
    "duration": 263,
    "start_time": "2024-06-05T04:30:01.694Z"
   },
   {
    "duration": 20,
    "start_time": "2024-06-05T04:30:01.960Z"
   },
   {
    "duration": 64,
    "start_time": "2024-06-05T04:30:01.982Z"
   },
   {
    "duration": 27,
    "start_time": "2024-06-05T04:30:02.049Z"
   },
   {
    "duration": 406,
    "start_time": "2024-06-05T04:30:02.079Z"
   },
   {
    "duration": 24,
    "start_time": "2024-06-05T04:30:02.493Z"
   },
   {
    "duration": 1182,
    "start_time": "2024-06-05T04:30:02.520Z"
   },
   {
    "duration": 320,
    "start_time": "2024-06-05T04:30:03.705Z"
   },
   {
    "duration": 18,
    "start_time": "2024-06-05T04:30:04.027Z"
   },
   {
    "duration": 8,
    "start_time": "2024-06-05T04:30:04.048Z"
   },
   {
    "duration": 747,
    "start_time": "2024-06-05T04:30:04.059Z"
   },
   {
    "duration": 374,
    "start_time": "2024-06-05T04:30:04.809Z"
   },
   {
    "duration": 209,
    "start_time": "2024-06-05T04:30:05.186Z"
   },
   {
    "duration": 34,
    "start_time": "2024-06-05T04:30:05.398Z"
   },
   {
    "duration": 23,
    "start_time": "2024-06-05T04:30:05.436Z"
   },
   {
    "duration": 396,
    "start_time": "2024-06-05T04:30:05.462Z"
   },
   {
    "duration": 23,
    "start_time": "2024-06-05T04:30:05.861Z"
   },
   {
    "duration": 48,
    "start_time": "2024-06-05T04:30:05.887Z"
   },
   {
    "duration": 6,
    "start_time": "2024-06-05T04:30:05.938Z"
   },
   {
    "duration": 7,
    "start_time": "2024-06-05T04:34:52.169Z"
   },
   {
    "duration": 7,
    "start_time": "2024-06-05T04:35:01.625Z"
   },
   {
    "duration": 1237,
    "start_time": "2024-06-05T04:35:09.982Z"
   },
   {
    "duration": 10,
    "start_time": "2024-06-05T04:35:41.812Z"
   },
   {
    "duration": 6,
    "start_time": "2024-06-05T04:39:30.803Z"
   },
   {
    "duration": 3,
    "start_time": "2024-06-05T04:39:36.825Z"
   },
   {
    "duration": 7,
    "start_time": "2024-06-05T04:43:24.872Z"
   },
   {
    "duration": 5,
    "start_time": "2024-06-05T04:43:31.242Z"
   },
   {
    "duration": 7,
    "start_time": "2024-06-05T04:43:53.563Z"
   },
   {
    "duration": 8,
    "start_time": "2024-06-05T04:44:51.826Z"
   },
   {
    "duration": 8,
    "start_time": "2024-06-05T04:45:17.757Z"
   },
   {
    "duration": 4784,
    "start_time": "2024-06-06T01:38:17.483Z"
   },
   {
    "duration": 53,
    "start_time": "2024-06-06T01:38:22.272Z"
   },
   {
    "duration": 20,
    "start_time": "2024-06-06T01:38:22.328Z"
   },
   {
    "duration": 33,
    "start_time": "2024-06-06T01:38:22.351Z"
   },
   {
    "duration": 20,
    "start_time": "2024-06-06T01:38:22.408Z"
   },
   {
    "duration": 31,
    "start_time": "2024-06-06T01:38:22.431Z"
   },
   {
    "duration": 5,
    "start_time": "2024-06-06T01:38:22.464Z"
   },
   {
    "duration": 41,
    "start_time": "2024-06-06T01:38:22.472Z"
   },
   {
    "duration": 19,
    "start_time": "2024-06-06T01:38:22.516Z"
   },
   {
    "duration": 19,
    "start_time": "2024-06-06T01:38:22.538Z"
   },
   {
    "duration": 66,
    "start_time": "2024-06-06T01:38:22.560Z"
   },
   {
    "duration": 19,
    "start_time": "2024-06-06T01:38:22.629Z"
   },
   {
    "duration": 15,
    "start_time": "2024-06-06T01:38:22.651Z"
   },
   {
    "duration": 43,
    "start_time": "2024-06-06T01:38:22.672Z"
   },
   {
    "duration": 32,
    "start_time": "2024-06-06T01:38:22.719Z"
   },
   {
    "duration": 18,
    "start_time": "2024-06-06T01:38:22.754Z"
   },
   {
    "duration": 255,
    "start_time": "2024-06-06T01:38:22.810Z"
   },
   {
    "duration": 14,
    "start_time": "2024-06-06T01:38:23.068Z"
   },
   {
    "duration": 59,
    "start_time": "2024-06-06T01:38:23.085Z"
   },
   {
    "duration": 18,
    "start_time": "2024-06-06T01:38:23.149Z"
   },
   {
    "duration": 7,
    "start_time": "2024-06-06T01:38:23.170Z"
   },
   {
    "duration": 58,
    "start_time": "2024-06-06T01:38:23.180Z"
   },
   {
    "duration": 258,
    "start_time": "2024-06-06T01:38:23.241Z"
   },
   {
    "duration": 25,
    "start_time": "2024-06-06T01:38:23.502Z"
   },
   {
    "duration": 37,
    "start_time": "2024-06-06T01:38:23.530Z"
   },
   {
    "duration": 55,
    "start_time": "2024-06-06T01:38:23.570Z"
   },
   {
    "duration": 389,
    "start_time": "2024-06-06T01:38:23.628Z"
   },
   {
    "duration": 23,
    "start_time": "2024-06-06T01:38:24.020Z"
   },
   {
    "duration": 1315,
    "start_time": "2024-06-06T01:38:24.047Z"
   },
   {
    "duration": 328,
    "start_time": "2024-06-06T01:38:25.365Z"
   },
   {
    "duration": 23,
    "start_time": "2024-06-06T01:38:25.696Z"
   },
   {
    "duration": 9,
    "start_time": "2024-06-06T01:38:25.723Z"
   },
   {
    "duration": 721,
    "start_time": "2024-06-06T01:38:25.735Z"
   },
   {
    "duration": 381,
    "start_time": "2024-06-06T01:38:26.459Z"
   },
   {
    "duration": 214,
    "start_time": "2024-06-06T01:38:26.844Z"
   },
   {
    "duration": 15,
    "start_time": "2024-06-06T01:38:27.061Z"
   },
   {
    "duration": 42,
    "start_time": "2024-06-06T01:38:27.079Z"
   },
   {
    "duration": 426,
    "start_time": "2024-06-06T01:38:27.124Z"
   },
   {
    "duration": 16,
    "start_time": "2024-06-06T01:38:27.553Z"
   },
   {
    "duration": 41,
    "start_time": "2024-06-06T01:38:27.572Z"
   },
   {
    "duration": 16,
    "start_time": "2024-06-06T01:38:27.621Z"
   },
   {
    "duration": 16,
    "start_time": "2024-06-06T01:38:27.640Z"
   },
   {
    "duration": 48,
    "start_time": "2024-06-06T01:38:27.659Z"
   },
   {
    "duration": 4,
    "start_time": "2024-06-06T01:38:27.710Z"
   },
   {
    "duration": 8,
    "start_time": "2024-06-06T01:38:27.717Z"
   },
   {
    "duration": 10,
    "start_time": "2024-06-06T01:38:27.728Z"
   },
   {
    "duration": 8,
    "start_time": "2024-06-06T01:38:27.741Z"
   },
   {
    "duration": 16,
    "start_time": "2024-06-06T01:39:28.283Z"
   },
   {
    "duration": 17,
    "start_time": "2024-06-06T01:40:30.811Z"
   },
   {
    "duration": 1271,
    "start_time": "2024-06-06T01:43:18.986Z"
   },
   {
    "duration": 37,
    "start_time": "2024-06-06T01:43:20.260Z"
   },
   {
    "duration": 19,
    "start_time": "2024-06-06T01:43:20.308Z"
   },
   {
    "duration": 33,
    "start_time": "2024-06-06T01:43:20.332Z"
   },
   {
    "duration": 48,
    "start_time": "2024-06-06T01:43:20.368Z"
   },
   {
    "duration": 32,
    "start_time": "2024-06-06T01:43:20.419Z"
   },
   {
    "duration": 5,
    "start_time": "2024-06-06T01:43:20.453Z"
   },
   {
    "duration": 8,
    "start_time": "2024-06-06T01:43:20.462Z"
   },
   {
    "duration": 19,
    "start_time": "2024-06-06T01:43:20.509Z"
   },
   {
    "duration": 19,
    "start_time": "2024-06-06T01:43:20.533Z"
   },
   {
    "duration": 58,
    "start_time": "2024-06-06T01:43:20.557Z"
   },
   {
    "duration": 19,
    "start_time": "2024-06-06T01:43:20.617Z"
   },
   {
    "duration": 15,
    "start_time": "2024-06-06T01:43:20.639Z"
   },
   {
    "duration": 12,
    "start_time": "2024-06-06T01:43:20.657Z"
   },
   {
    "duration": 67,
    "start_time": "2024-06-06T01:43:20.672Z"
   },
   {
    "duration": 21,
    "start_time": "2024-06-06T01:43:20.742Z"
   },
   {
    "duration": 283,
    "start_time": "2024-06-06T01:43:20.766Z"
   },
   {
    "duration": 10,
    "start_time": "2024-06-06T01:43:21.052Z"
   },
   {
    "duration": 49,
    "start_time": "2024-06-06T01:43:21.065Z"
   },
   {
    "duration": 17,
    "start_time": "2024-06-06T01:43:21.118Z"
   },
   {
    "duration": 7,
    "start_time": "2024-06-06T01:43:21.138Z"
   },
   {
    "duration": 65,
    "start_time": "2024-06-06T01:43:21.147Z"
   },
   {
    "duration": 244,
    "start_time": "2024-06-06T01:43:21.216Z"
   },
   {
    "duration": 19,
    "start_time": "2024-06-06T01:43:21.463Z"
   },
   {
    "duration": 50,
    "start_time": "2024-06-06T01:43:21.485Z"
   },
   {
    "duration": 22,
    "start_time": "2024-06-06T01:43:21.538Z"
   },
   {
    "duration": 469,
    "start_time": "2024-06-06T01:43:21.564Z"
   },
   {
    "duration": 23,
    "start_time": "2024-06-06T01:43:22.042Z"
   },
   {
    "duration": 1199,
    "start_time": "2024-06-06T01:43:22.068Z"
   },
   {
    "duration": 315,
    "start_time": "2024-06-06T01:43:23.270Z"
   },
   {
    "duration": 25,
    "start_time": "2024-06-06T01:43:23.588Z"
   },
   {
    "duration": 9,
    "start_time": "2024-06-06T01:43:23.616Z"
   },
   {
    "duration": 663,
    "start_time": "2024-06-06T01:43:23.627Z"
   },
   {
    "duration": 380,
    "start_time": "2024-06-06T01:43:24.294Z"
   },
   {
    "duration": 214,
    "start_time": "2024-06-06T01:43:24.677Z"
   },
   {
    "duration": 26,
    "start_time": "2024-06-06T01:43:24.894Z"
   },
   {
    "duration": 23,
    "start_time": "2024-06-06T01:43:24.923Z"
   },
   {
    "duration": 494,
    "start_time": "2024-06-06T01:43:24.949Z"
   },
   {
    "duration": 15,
    "start_time": "2024-06-06T01:43:25.449Z"
   },
   {
    "duration": 42,
    "start_time": "2024-06-06T01:43:25.466Z"
   },
   {
    "duration": 18,
    "start_time": "2024-06-06T01:43:25.511Z"
   },
   {
    "duration": 17,
    "start_time": "2024-06-06T01:43:25.532Z"
   },
   {
    "duration": 17,
    "start_time": "2024-06-06T01:43:25.552Z"
   },
   {
    "duration": 50,
    "start_time": "2024-06-06T01:43:25.571Z"
   },
   {
    "duration": 14,
    "start_time": "2024-06-06T01:43:25.624Z"
   },
   {
    "duration": 8,
    "start_time": "2024-06-06T01:43:25.641Z"
   },
   {
    "duration": 7,
    "start_time": "2024-06-06T01:43:25.652Z"
   },
   {
    "duration": 50,
    "start_time": "2024-06-06T01:43:25.662Z"
   },
   {
    "duration": 8,
    "start_time": "2024-06-06T01:43:25.715Z"
   },
   {
    "duration": 14,
    "start_time": "2024-06-06T01:59:46.614Z"
   },
   {
    "duration": 400,
    "start_time": "2024-06-06T02:00:20.978Z"
   },
   {
    "duration": 9,
    "start_time": "2024-06-06T02:01:17.092Z"
   },
   {
    "duration": 6,
    "start_time": "2024-06-06T02:02:36.978Z"
   },
   {
    "duration": 6,
    "start_time": "2024-06-06T02:02:58.595Z"
   },
   {
    "duration": 14,
    "start_time": "2024-06-06T02:03:07.648Z"
   },
   {
    "duration": 16,
    "start_time": "2024-06-06T02:03:19.054Z"
   },
   {
    "duration": 21,
    "start_time": "2024-06-06T02:04:06.497Z"
   },
   {
    "duration": 17,
    "start_time": "2024-06-06T02:05:31.039Z"
   },
   {
    "duration": 12,
    "start_time": "2024-06-06T02:42:34.914Z"
   },
   {
    "duration": 18,
    "start_time": "2024-06-06T02:44:37.368Z"
   },
   {
    "duration": 16,
    "start_time": "2024-06-06T02:44:52.679Z"
   },
   {
    "duration": 13,
    "start_time": "2024-06-06T02:45:21.509Z"
   },
   {
    "duration": 5701,
    "start_time": "2024-06-06T04:28:23.206Z"
   },
   {
    "duration": 135,
    "start_time": "2024-06-06T04:28:28.912Z"
   },
   {
    "duration": 20,
    "start_time": "2024-06-06T04:28:29.050Z"
   },
   {
    "duration": 67,
    "start_time": "2024-06-06T04:28:29.073Z"
   },
   {
    "duration": 36,
    "start_time": "2024-06-06T04:28:29.153Z"
   },
   {
    "duration": 63,
    "start_time": "2024-06-06T04:28:29.193Z"
   },
   {
    "duration": 4,
    "start_time": "2024-06-06T04:28:29.260Z"
   },
   {
    "duration": 14,
    "start_time": "2024-06-06T04:28:29.267Z"
   },
   {
    "duration": 20,
    "start_time": "2024-06-06T04:28:29.284Z"
   },
   {
    "duration": 66,
    "start_time": "2024-06-06T04:28:29.327Z"
   },
   {
    "duration": 38,
    "start_time": "2024-06-06T04:28:29.397Z"
   },
   {
    "duration": 26,
    "start_time": "2024-06-06T04:28:29.438Z"
   },
   {
    "duration": 17,
    "start_time": "2024-06-06T04:28:29.467Z"
   },
   {
    "duration": 13,
    "start_time": "2024-06-06T04:28:29.488Z"
   },
   {
    "duration": 60,
    "start_time": "2024-06-06T04:28:29.504Z"
   },
   {
    "duration": 22,
    "start_time": "2024-06-06T04:28:29.567Z"
   },
   {
    "duration": 13,
    "start_time": "2024-06-06T04:28:29.593Z"
   },
   {
    "duration": 44,
    "start_time": "2024-06-06T04:28:29.609Z"
   },
   {
    "duration": 13,
    "start_time": "2024-06-06T04:28:29.657Z"
   },
   {
    "duration": 92,
    "start_time": "2024-06-06T04:28:29.673Z"
   },
   {
    "duration": 311,
    "start_time": "2024-06-06T04:28:29.776Z"
   },
   {
    "duration": 25,
    "start_time": "2024-06-06T04:28:30.090Z"
   },
   {
    "duration": 65,
    "start_time": "2024-06-06T04:28:30.118Z"
   },
   {
    "duration": 45,
    "start_time": "2024-06-06T04:28:30.186Z"
   },
   {
    "duration": 588,
    "start_time": "2024-06-06T04:28:30.235Z"
   },
   {
    "duration": 41,
    "start_time": "2024-06-06T04:28:30.827Z"
   },
   {
    "duration": 1566,
    "start_time": "2024-06-06T04:28:30.872Z"
   },
   {
    "duration": 540,
    "start_time": "2024-06-06T04:28:32.456Z"
   },
   {
    "duration": 13,
    "start_time": "2024-06-06T04:28:32.999Z"
   },
   {
    "duration": 16,
    "start_time": "2024-06-06T04:28:33.015Z"
   },
   {
    "duration": 855,
    "start_time": "2024-06-06T04:28:33.036Z"
   },
   {
    "duration": 449,
    "start_time": "2024-06-06T04:28:33.900Z"
   },
   {
    "duration": 243,
    "start_time": "2024-06-06T04:28:34.358Z"
   },
   {
    "duration": 21,
    "start_time": "2024-06-06T04:28:34.612Z"
   },
   {
    "duration": 40,
    "start_time": "2024-06-06T04:28:34.641Z"
   },
   {
    "duration": 450,
    "start_time": "2024-06-06T04:28:34.692Z"
   },
   {
    "duration": 22,
    "start_time": "2024-06-06T04:28:35.152Z"
   },
   {
    "duration": 21,
    "start_time": "2024-06-06T04:28:35.184Z"
   },
   {
    "duration": 37,
    "start_time": "2024-06-06T04:28:35.215Z"
   },
   {
    "duration": 39,
    "start_time": "2024-06-06T04:28:35.255Z"
   },
   {
    "duration": 35,
    "start_time": "2024-06-06T04:28:35.306Z"
   },
   {
    "duration": 46,
    "start_time": "2024-06-06T04:28:35.348Z"
   },
   {
    "duration": 30,
    "start_time": "2024-06-06T04:28:35.399Z"
   },
   {
    "duration": 35,
    "start_time": "2024-06-06T04:28:35.432Z"
   },
   {
    "duration": 61,
    "start_time": "2024-06-06T04:28:35.475Z"
   },
   {
    "duration": 15,
    "start_time": "2024-06-06T04:28:35.544Z"
   },
   {
    "duration": 8,
    "start_time": "2024-06-06T04:28:35.565Z"
   },
   {
    "duration": 15,
    "start_time": "2024-06-06T04:28:35.581Z"
   },
   {
    "duration": 20,
    "start_time": "2024-06-06T04:28:35.601Z"
   },
   {
    "duration": 15,
    "start_time": "2024-06-06T04:28:35.624Z"
   },
   {
    "duration": 1389,
    "start_time": "2024-06-06T04:30:41.221Z"
   },
   {
    "duration": 53,
    "start_time": "2024-06-06T04:30:42.613Z"
   },
   {
    "duration": 20,
    "start_time": "2024-06-06T04:30:42.669Z"
   },
   {
    "duration": 52,
    "start_time": "2024-06-06T04:30:42.694Z"
   },
   {
    "duration": 32,
    "start_time": "2024-06-06T04:30:42.748Z"
   },
   {
    "duration": 51,
    "start_time": "2024-06-06T04:30:42.783Z"
   },
   {
    "duration": 6,
    "start_time": "2024-06-06T04:30:42.839Z"
   },
   {
    "duration": 12,
    "start_time": "2024-06-06T04:30:42.849Z"
   },
   {
    "duration": 27,
    "start_time": "2024-06-06T04:30:42.865Z"
   },
   {
    "duration": 49,
    "start_time": "2024-06-06T04:30:42.899Z"
   },
   {
    "duration": 25,
    "start_time": "2024-06-06T04:30:42.950Z"
   },
   {
    "duration": 22,
    "start_time": "2024-06-06T04:30:42.978Z"
   },
   {
    "duration": 35,
    "start_time": "2024-06-06T04:30:43.003Z"
   },
   {
    "duration": 12,
    "start_time": "2024-06-06T04:30:43.041Z"
   },
   {
    "duration": 38,
    "start_time": "2024-06-06T04:30:43.056Z"
   },
   {
    "duration": 62,
    "start_time": "2024-06-06T04:30:43.097Z"
   },
   {
    "duration": 16,
    "start_time": "2024-06-06T04:30:43.168Z"
   },
   {
    "duration": 16,
    "start_time": "2024-06-06T04:30:43.189Z"
   },
   {
    "duration": 7,
    "start_time": "2024-06-06T04:30:43.209Z"
   },
   {
    "duration": 54,
    "start_time": "2024-06-06T04:30:43.218Z"
   },
   {
    "duration": 284,
    "start_time": "2024-06-06T04:30:43.281Z"
   },
   {
    "duration": 23,
    "start_time": "2024-06-06T04:30:43.567Z"
   },
   {
    "duration": 33,
    "start_time": "2024-06-06T04:30:43.593Z"
   },
   {
    "duration": 25,
    "start_time": "2024-06-06T04:30:43.631Z"
   },
   {
    "duration": 433,
    "start_time": "2024-06-06T04:30:43.659Z"
   },
   {
    "duration": 30,
    "start_time": "2024-06-06T04:30:44.096Z"
   },
   {
    "duration": 1342,
    "start_time": "2024-06-06T04:30:44.130Z"
   },
   {
    "duration": 330,
    "start_time": "2024-06-06T04:30:45.480Z"
   },
   {
    "duration": 32,
    "start_time": "2024-06-06T04:30:45.813Z"
   },
   {
    "duration": 13,
    "start_time": "2024-06-06T04:30:45.854Z"
   },
   {
    "duration": 678,
    "start_time": "2024-06-06T04:30:45.869Z"
   },
   {
    "duration": 415,
    "start_time": "2024-06-06T04:30:46.554Z"
   },
   {
    "duration": 209,
    "start_time": "2024-06-06T04:30:46.976Z"
   },
   {
    "duration": 29,
    "start_time": "2024-06-06T04:30:47.188Z"
   },
   {
    "duration": 38,
    "start_time": "2024-06-06T04:30:47.220Z"
   },
   {
    "duration": 417,
    "start_time": "2024-06-06T04:30:47.261Z"
   },
   {
    "duration": 18,
    "start_time": "2024-06-06T04:30:47.681Z"
   },
   {
    "duration": 36,
    "start_time": "2024-06-06T04:30:47.705Z"
   },
   {
    "duration": 20,
    "start_time": "2024-06-06T04:30:47.749Z"
   },
   {
    "duration": 15,
    "start_time": "2024-06-06T04:30:47.778Z"
   },
   {
    "duration": 19,
    "start_time": "2024-06-06T04:30:47.796Z"
   },
   {
    "duration": 113,
    "start_time": "2024-06-06T04:30:47.834Z"
   },
   {
    "duration": 18,
    "start_time": "2024-06-06T04:30:47.955Z"
   },
   {
    "duration": 17,
    "start_time": "2024-06-06T04:30:47.976Z"
   },
   {
    "duration": 46,
    "start_time": "2024-06-06T04:30:47.997Z"
   },
   {
    "duration": 14,
    "start_time": "2024-06-06T04:30:48.055Z"
   },
   {
    "duration": 5,
    "start_time": "2024-06-06T04:30:48.072Z"
   },
   {
    "duration": 10,
    "start_time": "2024-06-06T04:30:48.080Z"
   },
   {
    "duration": 11,
    "start_time": "2024-06-06T04:30:48.093Z"
   },
   {
    "duration": 9,
    "start_time": "2024-06-06T04:30:48.106Z"
   },
   {
    "duration": 310,
    "start_time": "2024-06-06T13:50:16.719Z"
   },
   {
    "duration": 4934,
    "start_time": "2024-06-06T13:50:26.299Z"
   },
   {
    "duration": 51,
    "start_time": "2024-06-06T13:50:31.236Z"
   },
   {
    "duration": 23,
    "start_time": "2024-06-06T13:50:31.289Z"
   },
   {
    "duration": 51,
    "start_time": "2024-06-06T13:50:31.315Z"
   },
   {
    "duration": 22,
    "start_time": "2024-06-06T13:50:31.372Z"
   },
   {
    "duration": 63,
    "start_time": "2024-06-06T13:50:31.397Z"
   },
   {
    "duration": 5,
    "start_time": "2024-06-06T13:50:31.462Z"
   },
   {
    "duration": 9,
    "start_time": "2024-06-06T13:50:31.470Z"
   },
   {
    "duration": 21,
    "start_time": "2024-06-06T13:50:31.482Z"
   },
   {
    "duration": 24,
    "start_time": "2024-06-06T13:50:31.535Z"
   },
   {
    "duration": 24,
    "start_time": "2024-06-06T13:50:31.562Z"
   },
   {
    "duration": 47,
    "start_time": "2024-06-06T13:50:31.590Z"
   },
   {
    "duration": 18,
    "start_time": "2024-06-06T13:50:31.640Z"
   },
   {
    "duration": 13,
    "start_time": "2024-06-06T13:50:31.665Z"
   },
   {
    "duration": 57,
    "start_time": "2024-06-06T13:50:31.681Z"
   },
   {
    "duration": 20,
    "start_time": "2024-06-06T13:50:31.741Z"
   },
   {
    "duration": 10,
    "start_time": "2024-06-06T13:50:31.764Z"
   },
   {
    "duration": 18,
    "start_time": "2024-06-06T13:50:31.777Z"
   },
   {
    "duration": 38,
    "start_time": "2024-06-06T13:50:31.800Z"
   },
   {
    "duration": 33,
    "start_time": "2024-06-06T13:50:31.844Z"
   },
   {
    "duration": 309,
    "start_time": "2024-06-06T13:50:31.880Z"
   },
   {
    "duration": 20,
    "start_time": "2024-06-06T13:50:32.192Z"
   },
   {
    "duration": 41,
    "start_time": "2024-06-06T13:50:32.232Z"
   },
   {
    "duration": 25,
    "start_time": "2024-06-06T13:50:32.276Z"
   },
   {
    "duration": 437,
    "start_time": "2024-06-06T13:50:32.304Z"
   },
   {
    "duration": 24,
    "start_time": "2024-06-06T13:50:32.745Z"
   },
   {
    "duration": 1217,
    "start_time": "2024-06-06T13:50:32.772Z"
   },
   {
    "duration": 362,
    "start_time": "2024-06-06T13:50:33.993Z"
   },
   {
    "duration": 13,
    "start_time": "2024-06-06T13:50:34.359Z"
   },
   {
    "duration": 11,
    "start_time": "2024-06-06T13:50:34.375Z"
   },
   {
    "duration": 769,
    "start_time": "2024-06-06T13:50:34.389Z"
   },
   {
    "duration": 415,
    "start_time": "2024-06-06T13:50:35.161Z"
   },
   {
    "duration": 210,
    "start_time": "2024-06-06T13:50:35.580Z"
   },
   {
    "duration": 20,
    "start_time": "2024-06-06T13:50:35.793Z"
   },
   {
    "duration": 22,
    "start_time": "2024-06-06T13:50:35.833Z"
   },
   {
    "duration": 8,
    "start_time": "2024-06-06T13:50:35.859Z"
   },
   {
    "duration": 414,
    "start_time": "2024-06-06T13:50:35.871Z"
   },
   {
    "duration": 17,
    "start_time": "2024-06-06T13:50:36.288Z"
   },
   {
    "duration": 16,
    "start_time": "2024-06-06T13:50:36.332Z"
   },
   {
    "duration": 17,
    "start_time": "2024-06-06T13:50:36.353Z"
   },
   {
    "duration": 19,
    "start_time": "2024-06-06T13:50:36.379Z"
   },
   {
    "duration": 19,
    "start_time": "2024-06-06T13:50:36.432Z"
   },
   {
    "duration": 20,
    "start_time": "2024-06-06T13:50:36.455Z"
   },
   {
    "duration": 17,
    "start_time": "2024-06-06T13:50:36.478Z"
   },
   {
    "duration": 49,
    "start_time": "2024-06-06T13:50:36.499Z"
   },
   {
    "duration": 16,
    "start_time": "2024-06-06T13:50:36.550Z"
   },
   {
    "duration": 10,
    "start_time": "2024-06-06T13:50:36.572Z"
   },
   {
    "duration": 4,
    "start_time": "2024-06-06T13:50:36.585Z"
   },
   {
    "duration": 41,
    "start_time": "2024-06-06T13:50:36.594Z"
   },
   {
    "duration": 11,
    "start_time": "2024-06-06T13:50:36.639Z"
   },
   {
    "duration": 8,
    "start_time": "2024-06-06T13:50:36.653Z"
   },
   {
    "duration": 1417,
    "start_time": "2024-06-06T13:52:22.217Z"
   },
   {
    "duration": 27,
    "start_time": "2024-06-06T13:55:02.519Z"
   },
   {
    "duration": 30,
    "start_time": "2024-06-06T13:55:13.880Z"
   },
   {
    "duration": 13,
    "start_time": "2024-06-06T13:59:45.533Z"
   },
   {
    "duration": 1274,
    "start_time": "2024-06-06T15:08:07.222Z"
   },
   {
    "duration": 60,
    "start_time": "2024-06-06T15:08:08.500Z"
   },
   {
    "duration": 19,
    "start_time": "2024-06-06T15:08:08.563Z"
   },
   {
    "duration": 35,
    "start_time": "2024-06-06T15:08:08.585Z"
   },
   {
    "duration": 25,
    "start_time": "2024-06-06T15:08:08.633Z"
   },
   {
    "duration": 34,
    "start_time": "2024-06-06T15:08:08.660Z"
   },
   {
    "duration": 4,
    "start_time": "2024-06-06T15:08:08.697Z"
   },
   {
    "duration": 10,
    "start_time": "2024-06-06T15:08:08.735Z"
   },
   {
    "duration": 17,
    "start_time": "2024-06-06T15:08:08.747Z"
   },
   {
    "duration": 19,
    "start_time": "2024-06-06T15:08:08.770Z"
   },
   {
    "duration": 68,
    "start_time": "2024-06-06T15:08:08.792Z"
   },
   {
    "duration": 18,
    "start_time": "2024-06-06T15:08:08.867Z"
   },
   {
    "duration": 17,
    "start_time": "2024-06-06T15:08:08.887Z"
   },
   {
    "duration": 36,
    "start_time": "2024-06-06T15:08:08.907Z"
   },
   {
    "duration": 32,
    "start_time": "2024-06-06T15:08:08.945Z"
   },
   {
    "duration": 17,
    "start_time": "2024-06-06T15:08:08.980Z"
   },
   {
    "duration": 44,
    "start_time": "2024-06-06T15:08:09.000Z"
   },
   {
    "duration": 18,
    "start_time": "2024-06-06T15:08:09.062Z"
   },
   {
    "duration": 6,
    "start_time": "2024-06-06T15:08:09.083Z"
   },
   {
    "duration": 48,
    "start_time": "2024-06-06T15:08:09.091Z"
   },
   {
    "duration": 257,
    "start_time": "2024-06-06T15:08:09.157Z"
   },
   {
    "duration": 37,
    "start_time": "2024-06-06T15:08:09.417Z"
   },
   {
    "duration": 34,
    "start_time": "2024-06-06T15:08:09.458Z"
   },
   {
    "duration": 39,
    "start_time": "2024-06-06T15:08:09.495Z"
   },
   {
    "duration": 407,
    "start_time": "2024-06-06T15:08:09.536Z"
   },
   {
    "duration": 31,
    "start_time": "2024-06-06T15:08:09.946Z"
   },
   {
    "duration": 1291,
    "start_time": "2024-06-06T15:08:09.984Z"
   },
   {
    "duration": 339,
    "start_time": "2024-06-06T15:08:11.284Z"
   },
   {
    "duration": 18,
    "start_time": "2024-06-06T15:08:11.642Z"
   },
   {
    "duration": 10,
    "start_time": "2024-06-06T15:08:11.663Z"
   },
   {
    "duration": 715,
    "start_time": "2024-06-06T15:08:11.677Z"
   },
   {
    "duration": 392,
    "start_time": "2024-06-06T15:08:12.395Z"
   },
   {
    "duration": 222,
    "start_time": "2024-06-06T15:08:12.791Z"
   },
   {
    "duration": 39,
    "start_time": "2024-06-06T15:08:13.016Z"
   },
   {
    "duration": 23,
    "start_time": "2024-06-06T15:08:13.062Z"
   },
   {
    "duration": 12,
    "start_time": "2024-06-06T15:08:13.088Z"
   },
   {
    "duration": 457,
    "start_time": "2024-06-06T15:08:13.103Z"
   },
   {
    "duration": 15,
    "start_time": "2024-06-06T15:08:13.563Z"
   },
   {
    "duration": 16,
    "start_time": "2024-06-06T15:08:13.581Z"
   },
   {
    "duration": 17,
    "start_time": "2024-06-06T15:08:13.600Z"
   },
   {
    "duration": 16,
    "start_time": "2024-06-06T15:08:13.631Z"
   },
   {
    "duration": 21,
    "start_time": "2024-06-06T15:08:13.649Z"
   },
   {
    "duration": 113,
    "start_time": "2024-06-06T15:08:13.673Z"
   },
   {
    "duration": 14,
    "start_time": "2024-06-06T15:08:13.789Z"
   },
   {
    "duration": 45,
    "start_time": "2024-06-06T15:08:13.806Z"
   },
   {
    "duration": 16,
    "start_time": "2024-06-06T15:08:13.853Z"
   },
   {
    "duration": 9,
    "start_time": "2024-06-06T15:08:13.871Z"
   },
   {
    "duration": 4,
    "start_time": "2024-06-06T15:08:13.883Z"
   },
   {
    "duration": 7,
    "start_time": "2024-06-06T15:08:13.891Z"
   },
   {
    "duration": 11,
    "start_time": "2024-06-06T15:08:13.936Z"
   },
   {
    "duration": 11,
    "start_time": "2024-06-06T15:08:13.950Z"
   },
   {
    "duration": 4961,
    "start_time": "2024-06-09T23:51:49.755Z"
   },
   {
    "duration": 63,
    "start_time": "2024-06-09T23:51:54.720Z"
   },
   {
    "duration": 20,
    "start_time": "2024-06-09T23:51:54.786Z"
   },
   {
    "duration": 35,
    "start_time": "2024-06-09T23:51:54.809Z"
   },
   {
    "duration": 22,
    "start_time": "2024-06-09T23:51:54.847Z"
   },
   {
    "duration": 56,
    "start_time": "2024-06-09T23:51:54.872Z"
   },
   {
    "duration": 6,
    "start_time": "2024-06-09T23:51:54.930Z"
   },
   {
    "duration": 9,
    "start_time": "2024-06-09T23:51:54.939Z"
   },
   {
    "duration": 58,
    "start_time": "2024-06-09T23:51:54.952Z"
   },
   {
    "duration": 19,
    "start_time": "2024-06-09T23:51:55.017Z"
   },
   {
    "duration": 25,
    "start_time": "2024-06-09T23:51:55.039Z"
   },
   {
    "duration": 48,
    "start_time": "2024-06-09T23:51:55.067Z"
   },
   {
    "duration": 16,
    "start_time": "2024-06-09T23:51:55.117Z"
   },
   {
    "duration": 11,
    "start_time": "2024-06-09T23:51:55.136Z"
   },
   {
    "duration": 72,
    "start_time": "2024-06-09T23:51:55.151Z"
   },
   {
    "duration": 19,
    "start_time": "2024-06-09T23:51:55.226Z"
   },
   {
    "duration": 12,
    "start_time": "2024-06-09T23:51:55.249Z"
   },
   {
    "duration": 47,
    "start_time": "2024-06-09T23:51:55.265Z"
   },
   {
    "duration": 6,
    "start_time": "2024-06-09T23:51:55.315Z"
   },
   {
    "duration": 34,
    "start_time": "2024-06-09T23:51:55.323Z"
   },
   {
    "duration": 306,
    "start_time": "2024-06-09T23:51:55.360Z"
   },
   {
    "duration": 34,
    "start_time": "2024-06-09T23:51:55.669Z"
   },
   {
    "duration": 37,
    "start_time": "2024-06-09T23:51:55.707Z"
   },
   {
    "duration": 22,
    "start_time": "2024-06-09T23:51:55.747Z"
   },
   {
    "duration": 435,
    "start_time": "2024-06-09T23:51:55.772Z"
   },
   {
    "duration": 23,
    "start_time": "2024-06-09T23:51:56.210Z"
   },
   {
    "duration": 1283,
    "start_time": "2024-06-09T23:51:56.236Z"
   },
   {
    "duration": 341,
    "start_time": "2024-06-09T23:51:57.529Z"
   },
   {
    "duration": 9,
    "start_time": "2024-06-09T23:51:57.873Z"
   },
   {
    "duration": 745,
    "start_time": "2024-06-09T23:51:57.901Z"
   },
   {
    "duration": 389,
    "start_time": "2024-06-09T23:51:58.650Z"
   },
   {
    "duration": 230,
    "start_time": "2024-06-09T23:51:59.041Z"
   },
   {
    "duration": 26,
    "start_time": "2024-06-09T23:51:59.282Z"
   },
   {
    "duration": 24,
    "start_time": "2024-06-09T23:51:59.311Z"
   },
   {
    "duration": 12,
    "start_time": "2024-06-09T23:51:59.338Z"
   },
   {
    "duration": 440,
    "start_time": "2024-06-09T23:51:59.353Z"
   },
   {
    "duration": 17,
    "start_time": "2024-06-09T23:51:59.796Z"
   },
   {
    "duration": 16,
    "start_time": "2024-06-09T23:51:59.816Z"
   },
   {
    "duration": 17,
    "start_time": "2024-06-09T23:51:59.836Z"
   },
   {
    "duration": 55,
    "start_time": "2024-06-09T23:51:59.857Z"
   },
   {
    "duration": 17,
    "start_time": "2024-06-09T23:51:59.916Z"
   },
   {
    "duration": 24,
    "start_time": "2024-06-09T23:51:59.937Z"
   },
   {
    "duration": 49,
    "start_time": "2024-06-09T23:51:59.965Z"
   },
   {
    "duration": 16,
    "start_time": "2024-06-09T23:52:00.017Z"
   },
   {
    "duration": 16,
    "start_time": "2024-06-09T23:52:00.036Z"
   },
   {
    "duration": 51,
    "start_time": "2024-06-09T23:52:00.056Z"
   },
   {
    "duration": 4,
    "start_time": "2024-06-09T23:52:00.109Z"
   },
   {
    "duration": 9,
    "start_time": "2024-06-09T23:52:00.115Z"
   },
   {
    "duration": 11,
    "start_time": "2024-06-09T23:52:00.127Z"
   },
   {
    "duration": 8,
    "start_time": "2024-06-09T23:52:00.141Z"
   },
   {
    "duration": 8,
    "start_time": "2024-06-09T23:53:51.349Z"
   },
   {
    "duration": 414,
    "start_time": "2024-06-09T23:54:44.621Z"
   },
   {
    "duration": 7,
    "start_time": "2024-06-09T23:54:52.709Z"
   },
   {
    "duration": 10,
    "start_time": "2024-06-10T00:00:25.145Z"
   },
   {
    "duration": 7,
    "start_time": "2024-06-10T00:00:26.070Z"
   },
   {
    "duration": 8,
    "start_time": "2024-06-10T00:00:36.704Z"
   },
   {
    "duration": 7,
    "start_time": "2024-06-10T00:03:32.288Z"
   },
   {
    "duration": 7,
    "start_time": "2024-06-10T00:13:05.498Z"
   },
   {
    "duration": 18,
    "start_time": "2024-06-10T00:31:08.609Z"
   },
   {
    "duration": 22,
    "start_time": "2024-06-10T00:31:19.091Z"
   },
   {
    "duration": 33,
    "start_time": "2024-06-10T00:40:02.730Z"
   },
   {
    "duration": 7,
    "start_time": "2024-06-10T01:06:42.364Z"
   },
   {
    "duration": 12,
    "start_time": "2024-06-10T01:06:57.805Z"
   },
   {
    "duration": 10,
    "start_time": "2024-06-10T01:10:03.203Z"
   },
   {
    "duration": 44,
    "start_time": "2024-06-10T01:10:46.477Z"
   },
   {
    "duration": 11,
    "start_time": "2024-06-10T01:13:03.235Z"
   },
   {
    "duration": 10,
    "start_time": "2024-06-10T01:14:50.269Z"
   },
   {
    "duration": 18,
    "start_time": "2024-06-10T01:15:47.523Z"
   },
   {
    "duration": 21,
    "start_time": "2024-06-10T01:16:55.179Z"
   },
   {
    "duration": 1325,
    "start_time": "2024-06-10T01:19:08.042Z"
   },
   {
    "duration": 55,
    "start_time": "2024-06-10T01:19:09.371Z"
   },
   {
    "duration": 24,
    "start_time": "2024-06-10T01:19:09.429Z"
   },
   {
    "duration": 58,
    "start_time": "2024-06-10T01:19:09.457Z"
   },
   {
    "duration": 20,
    "start_time": "2024-06-10T01:19:09.521Z"
   },
   {
    "duration": 58,
    "start_time": "2024-06-10T01:19:09.544Z"
   },
   {
    "duration": 5,
    "start_time": "2024-06-10T01:19:09.608Z"
   },
   {
    "duration": 10,
    "start_time": "2024-06-10T01:19:09.617Z"
   },
   {
    "duration": 20,
    "start_time": "2024-06-10T01:19:09.630Z"
   },
   {
    "duration": 49,
    "start_time": "2024-06-10T01:19:09.656Z"
   },
   {
    "duration": 11,
    "start_time": "2024-06-10T01:19:09.708Z"
   },
   {
    "duration": 14,
    "start_time": "2024-06-10T01:19:09.722Z"
   },
   {
    "duration": 11,
    "start_time": "2024-06-10T01:19:09.739Z"
   },
   {
    "duration": 57,
    "start_time": "2024-06-10T01:19:09.753Z"
   },
   {
    "duration": 23,
    "start_time": "2024-06-10T01:19:09.812Z"
   },
   {
    "duration": 24,
    "start_time": "2024-06-10T01:19:09.839Z"
   },
   {
    "duration": 59,
    "start_time": "2024-06-10T01:19:09.866Z"
   },
   {
    "duration": 17,
    "start_time": "2024-06-10T01:19:09.928Z"
   },
   {
    "duration": 12,
    "start_time": "2024-06-10T01:19:09.950Z"
   },
   {
    "duration": 68,
    "start_time": "2024-06-10T01:19:09.965Z"
   },
   {
    "duration": 36,
    "start_time": "2024-06-10T01:19:10.036Z"
   },
   {
    "duration": 45,
    "start_time": "2024-06-10T01:19:10.075Z"
   },
   {
    "duration": 12,
    "start_time": "2024-06-10T01:19:10.123Z"
   },
   {
    "duration": 19,
    "start_time": "2024-06-10T01:19:10.138Z"
   },
   {
    "duration": 43,
    "start_time": "2024-06-10T01:19:10.160Z"
   },
   {
    "duration": 41,
    "start_time": "2024-06-10T01:19:10.206Z"
   },
   {
    "duration": 312,
    "start_time": "2024-06-10T01:19:10.251Z"
   },
   {
    "duration": 30,
    "start_time": "2024-06-10T01:19:10.577Z"
   },
   {
    "duration": 41,
    "start_time": "2024-06-10T01:19:10.610Z"
   },
   {
    "duration": 52,
    "start_time": "2024-06-10T01:19:10.655Z"
   },
   {
    "duration": 400,
    "start_time": "2024-06-10T01:19:10.710Z"
   },
   {
    "duration": 29,
    "start_time": "2024-06-10T01:19:11.113Z"
   },
   {
    "duration": 1312,
    "start_time": "2024-06-10T01:19:11.148Z"
   },
   {
    "duration": 366,
    "start_time": "2024-06-10T01:19:12.463Z"
   },
   {
    "duration": 12,
    "start_time": "2024-06-10T01:19:12.833Z"
   },
   {
    "duration": 708,
    "start_time": "2024-06-10T01:19:12.849Z"
   },
   {
    "duration": 396,
    "start_time": "2024-06-10T01:19:13.560Z"
   },
   {
    "duration": 208,
    "start_time": "2024-06-10T01:19:13.962Z"
   },
   {
    "duration": 31,
    "start_time": "2024-06-10T01:19:14.173Z"
   },
   {
    "duration": 25,
    "start_time": "2024-06-10T01:19:14.209Z"
   },
   {
    "duration": 13,
    "start_time": "2024-06-10T01:19:14.238Z"
   },
   {
    "duration": 418,
    "start_time": "2024-06-10T01:19:14.254Z"
   },
   {
    "duration": 29,
    "start_time": "2024-06-10T01:19:14.677Z"
   },
   {
    "duration": 17,
    "start_time": "2024-06-10T01:19:14.709Z"
   },
   {
    "duration": 18,
    "start_time": "2024-06-10T01:19:14.729Z"
   },
   {
    "duration": 55,
    "start_time": "2024-06-10T01:19:14.751Z"
   },
   {
    "duration": 17,
    "start_time": "2024-06-10T01:19:14.810Z"
   },
   {
    "duration": 127,
    "start_time": "2024-06-10T01:19:14.830Z"
   },
   {
    "duration": 18,
    "start_time": "2024-06-10T01:19:14.960Z"
   },
   {
    "duration": 35,
    "start_time": "2024-06-10T01:19:14.981Z"
   },
   {
    "duration": 22,
    "start_time": "2024-06-10T01:19:15.019Z"
   },
   {
    "duration": 16,
    "start_time": "2024-06-10T01:19:15.045Z"
   },
   {
    "duration": 40,
    "start_time": "2024-06-10T01:19:15.064Z"
   },
   {
    "duration": 4,
    "start_time": "2024-06-10T01:19:15.107Z"
   },
   {
    "duration": 8,
    "start_time": "2024-06-10T01:19:15.114Z"
   },
   {
    "duration": 11,
    "start_time": "2024-06-10T01:19:15.128Z"
   },
   {
    "duration": 9,
    "start_time": "2024-06-10T01:19:15.141Z"
   },
   {
    "duration": 48,
    "start_time": "2024-06-10T01:19:15.154Z"
   },
   {
    "duration": 210,
    "start_time": "2024-06-10T01:20:04.252Z"
   },
   {
    "duration": 16,
    "start_time": "2024-06-10T01:20:13.244Z"
   },
   {
    "duration": 214,
    "start_time": "2024-06-10T01:24:36.694Z"
   },
   {
    "duration": 16,
    "start_time": "2024-06-10T01:24:43.949Z"
   },
   {
    "duration": 1280,
    "start_time": "2024-06-10T01:27:20.659Z"
   },
   {
    "duration": 42,
    "start_time": "2024-06-10T01:27:21.942Z"
   },
   {
    "duration": 28,
    "start_time": "2024-06-10T01:27:21.987Z"
   },
   {
    "duration": 34,
    "start_time": "2024-06-10T01:27:22.019Z"
   },
   {
    "duration": 48,
    "start_time": "2024-06-10T01:27:22.057Z"
   },
   {
    "duration": 34,
    "start_time": "2024-06-10T01:27:22.110Z"
   },
   {
    "duration": 5,
    "start_time": "2024-06-10T01:27:22.147Z"
   },
   {
    "duration": 46,
    "start_time": "2024-06-10T01:27:22.156Z"
   },
   {
    "duration": 26,
    "start_time": "2024-06-10T01:27:22.205Z"
   },
   {
    "duration": 10,
    "start_time": "2024-06-10T01:27:22.239Z"
   },
   {
    "duration": 14,
    "start_time": "2024-06-10T01:27:22.252Z"
   },
   {
    "duration": 40,
    "start_time": "2024-06-10T01:27:22.269Z"
   },
   {
    "duration": 11,
    "start_time": "2024-06-10T01:27:22.312Z"
   },
   {
    "duration": 23,
    "start_time": "2024-06-10T01:27:22.328Z"
   },
   {
    "duration": 60,
    "start_time": "2024-06-10T01:27:22.354Z"
   },
   {
    "duration": 31,
    "start_time": "2024-06-10T01:27:22.418Z"
   },
   {
    "duration": 48,
    "start_time": "2024-06-10T01:27:22.454Z"
   },
   {
    "duration": 16,
    "start_time": "2024-06-10T01:27:22.504Z"
   },
   {
    "duration": 12,
    "start_time": "2024-06-10T01:27:22.522Z"
   },
   {
    "duration": 67,
    "start_time": "2024-06-10T01:27:22.537Z"
   },
   {
    "duration": 34,
    "start_time": "2024-06-10T01:27:22.607Z"
   },
   {
    "duration": 19,
    "start_time": "2024-06-10T01:27:22.645Z"
   },
   {
    "duration": 45,
    "start_time": "2024-06-10T01:27:22.667Z"
   },
   {
    "duration": 18,
    "start_time": "2024-06-10T01:27:22.714Z"
   },
   {
    "duration": 7,
    "start_time": "2024-06-10T01:27:22.735Z"
   },
   {
    "duration": 71,
    "start_time": "2024-06-10T01:27:22.746Z"
   },
   {
    "duration": 281,
    "start_time": "2024-06-10T01:27:22.820Z"
   },
   {
    "duration": 22,
    "start_time": "2024-06-10T01:27:23.112Z"
   },
   {
    "duration": 68,
    "start_time": "2024-06-10T01:27:23.137Z"
   },
   {
    "duration": 23,
    "start_time": "2024-06-10T01:27:23.208Z"
   },
   {
    "duration": 431,
    "start_time": "2024-06-10T01:27:23.235Z"
   },
   {
    "duration": 26,
    "start_time": "2024-06-10T01:27:23.670Z"
   },
   {
    "duration": 1274,
    "start_time": "2024-06-10T01:27:23.703Z"
   },
   {
    "duration": 321,
    "start_time": "2024-06-10T01:27:24.981Z"
   },
   {
    "duration": 9,
    "start_time": "2024-06-10T01:27:25.305Z"
   },
   {
    "duration": 739,
    "start_time": "2024-06-10T01:27:25.318Z"
   },
   {
    "duration": 448,
    "start_time": "2024-06-10T01:27:26.060Z"
   },
   {
    "duration": 252,
    "start_time": "2024-06-10T01:27:26.511Z"
   },
   {
    "duration": 21,
    "start_time": "2024-06-10T01:27:26.766Z"
   },
   {
    "duration": 228,
    "start_time": "2024-06-10T01:27:26.803Z"
   },
   {
    "duration": 17,
    "start_time": "2024-06-10T01:27:27.034Z"
   },
   {
    "duration": 49,
    "start_time": "2024-06-10T01:27:27.054Z"
   },
   {
    "duration": 14,
    "start_time": "2024-06-10T01:27:27.106Z"
   },
   {
    "duration": 494,
    "start_time": "2024-06-10T01:27:27.123Z"
   },
   {
    "duration": 17,
    "start_time": "2024-06-10T01:27:27.620Z"
   },
   {
    "duration": 17,
    "start_time": "2024-06-10T01:27:27.641Z"
   },
   {
    "duration": 53,
    "start_time": "2024-06-10T01:27:27.661Z"
   },
   {
    "duration": 17,
    "start_time": "2024-06-10T01:27:27.718Z"
   },
   {
    "duration": 18,
    "start_time": "2024-06-10T01:27:27.739Z"
   },
   {
    "duration": 49,
    "start_time": "2024-06-10T01:27:27.760Z"
   },
   {
    "duration": 18,
    "start_time": "2024-06-10T01:27:27.812Z"
   },
   {
    "duration": 17,
    "start_time": "2024-06-10T01:27:27.833Z"
   },
   {
    "duration": 57,
    "start_time": "2024-06-10T01:27:27.853Z"
   },
   {
    "duration": 10,
    "start_time": "2024-06-10T01:27:27.914Z"
   },
   {
    "duration": 12,
    "start_time": "2024-06-10T01:27:27.930Z"
   },
   {
    "duration": 3,
    "start_time": "2024-06-10T01:27:27.947Z"
   },
   {
    "duration": 9,
    "start_time": "2024-06-10T01:27:27.954Z"
   },
   {
    "duration": 45,
    "start_time": "2024-06-10T01:27:27.967Z"
   },
   {
    "duration": 8,
    "start_time": "2024-06-10T01:27:28.018Z"
   },
   {
    "duration": 9,
    "start_time": "2024-06-10T01:27:28.028Z"
   },
   {
    "duration": 1316,
    "start_time": "2024-06-10T01:29:58.226Z"
   },
   {
    "duration": 55,
    "start_time": "2024-06-10T01:29:59.546Z"
   },
   {
    "duration": 18,
    "start_time": "2024-06-10T01:29:59.605Z"
   },
   {
    "duration": 35,
    "start_time": "2024-06-10T01:29:59.627Z"
   },
   {
    "duration": 45,
    "start_time": "2024-06-10T01:29:59.669Z"
   },
   {
    "duration": 34,
    "start_time": "2024-06-10T01:29:59.717Z"
   },
   {
    "duration": 4,
    "start_time": "2024-06-10T01:29:59.755Z"
   },
   {
    "duration": 41,
    "start_time": "2024-06-10T01:29:59.763Z"
   },
   {
    "duration": 22,
    "start_time": "2024-06-10T01:29:59.807Z"
   },
   {
    "duration": 15,
    "start_time": "2024-06-10T01:29:59.834Z"
   },
   {
    "duration": 12,
    "start_time": "2024-06-10T01:29:59.852Z"
   },
   {
    "duration": 44,
    "start_time": "2024-06-10T01:29:59.867Z"
   },
   {
    "duration": 10,
    "start_time": "2024-06-10T01:29:59.915Z"
   },
   {
    "duration": 19,
    "start_time": "2024-06-10T01:29:59.934Z"
   },
   {
    "duration": 63,
    "start_time": "2024-06-10T01:29:59.957Z"
   },
   {
    "duration": 23,
    "start_time": "2024-06-10T01:30:00.023Z"
   },
   {
    "duration": 52,
    "start_time": "2024-06-10T01:30:00.050Z"
   },
   {
    "duration": 17,
    "start_time": "2024-06-10T01:30:00.104Z"
   },
   {
    "duration": 13,
    "start_time": "2024-06-10T01:30:00.124Z"
   },
   {
    "duration": 76,
    "start_time": "2024-06-10T01:30:00.139Z"
   },
   {
    "duration": 48,
    "start_time": "2024-06-10T01:30:00.219Z"
   },
   {
    "duration": 34,
    "start_time": "2024-06-10T01:30:00.274Z"
   },
   {
    "duration": 12,
    "start_time": "2024-06-10T01:30:00.311Z"
   },
   {
    "duration": 23,
    "start_time": "2024-06-10T01:30:00.325Z"
   },
   {
    "duration": 7,
    "start_time": "2024-06-10T01:30:00.352Z"
   },
   {
    "duration": 74,
    "start_time": "2024-06-10T01:30:00.362Z"
   },
   {
    "duration": 287,
    "start_time": "2024-06-10T01:30:00.439Z"
   },
   {
    "duration": 25,
    "start_time": "2024-06-10T01:30:00.729Z"
   },
   {
    "duration": 59,
    "start_time": "2024-06-10T01:30:00.757Z"
   },
   {
    "duration": 24,
    "start_time": "2024-06-10T01:30:00.819Z"
   },
   {
    "duration": 416,
    "start_time": "2024-06-10T01:30:00.846Z"
   },
   {
    "duration": 24,
    "start_time": "2024-06-10T01:30:01.265Z"
   },
   {
    "duration": 1305,
    "start_time": "2024-06-10T01:30:01.292Z"
   },
   {
    "duration": 323,
    "start_time": "2024-06-10T01:30:02.602Z"
   },
   {
    "duration": 12,
    "start_time": "2024-06-10T01:30:02.927Z"
   },
   {
    "duration": 689,
    "start_time": "2024-06-10T01:30:02.948Z"
   },
   {
    "duration": 387,
    "start_time": "2024-06-10T01:30:03.640Z"
   },
   {
    "duration": 212,
    "start_time": "2024-06-10T01:30:04.030Z"
   },
   {
    "duration": 18,
    "start_time": "2024-06-10T01:30:04.245Z"
   },
   {
    "duration": 214,
    "start_time": "2024-06-10T01:30:04.266Z"
   },
   {
    "duration": 23,
    "start_time": "2024-06-10T01:30:04.490Z"
   },
   {
    "duration": 23,
    "start_time": "2024-06-10T01:30:04.516Z"
   },
   {
    "duration": 12,
    "start_time": "2024-06-10T01:30:04.541Z"
   },
   {
    "duration": 525,
    "start_time": "2024-06-10T01:30:04.557Z"
   },
   {
    "duration": 29,
    "start_time": "2024-06-10T01:30:05.085Z"
   },
   {
    "duration": 19,
    "start_time": "2024-06-10T01:30:05.118Z"
   },
   {
    "duration": 16,
    "start_time": "2024-06-10T01:30:05.139Z"
   },
   {
    "duration": 47,
    "start_time": "2024-06-10T01:30:05.161Z"
   },
   {
    "duration": 18,
    "start_time": "2024-06-10T01:30:05.211Z"
   },
   {
    "duration": 19,
    "start_time": "2024-06-10T01:30:05.232Z"
   },
   {
    "duration": 53,
    "start_time": "2024-06-10T01:30:05.253Z"
   },
   {
    "duration": 18,
    "start_time": "2024-06-10T01:30:05.309Z"
   },
   {
    "duration": 16,
    "start_time": "2024-06-10T01:30:05.330Z"
   },
   {
    "duration": 10,
    "start_time": "2024-06-10T01:30:05.348Z"
   },
   {
    "duration": 43,
    "start_time": "2024-06-10T01:30:05.361Z"
   },
   {
    "duration": 4,
    "start_time": "2024-06-10T01:30:05.407Z"
   },
   {
    "duration": 8,
    "start_time": "2024-06-10T01:30:05.415Z"
   },
   {
    "duration": 11,
    "start_time": "2024-06-10T01:30:05.426Z"
   },
   {
    "duration": 8,
    "start_time": "2024-06-10T01:30:05.439Z"
   },
   {
    "duration": 54,
    "start_time": "2024-06-10T01:30:05.450Z"
   },
   {
    "duration": 5005,
    "start_time": "2024-06-11T02:32:05.636Z"
   },
   {
    "duration": 56,
    "start_time": "2024-06-11T02:32:10.644Z"
   },
   {
    "duration": 19,
    "start_time": "2024-06-11T02:32:10.703Z"
   },
   {
    "duration": 37,
    "start_time": "2024-06-11T02:32:10.726Z"
   },
   {
    "duration": 19,
    "start_time": "2024-06-11T02:32:10.766Z"
   },
   {
    "duration": 60,
    "start_time": "2024-06-11T02:32:10.789Z"
   },
   {
    "duration": 5,
    "start_time": "2024-06-11T02:32:10.852Z"
   },
   {
    "duration": 9,
    "start_time": "2024-06-11T02:32:10.860Z"
   },
   {
    "duration": 18,
    "start_time": "2024-06-11T02:32:10.872Z"
   },
   {
    "duration": 10,
    "start_time": "2024-06-11T02:32:10.938Z"
   },
   {
    "duration": 10,
    "start_time": "2024-06-11T02:32:10.951Z"
   },
   {
    "duration": 11,
    "start_time": "2024-06-11T02:32:10.964Z"
   },
   {
    "duration": 11,
    "start_time": "2024-06-11T02:32:10.978Z"
   },
   {
    "duration": 17,
    "start_time": "2024-06-11T02:32:11.035Z"
   },
   {
    "duration": 20,
    "start_time": "2024-06-11T02:32:11.055Z"
   },
   {
    "duration": 56,
    "start_time": "2024-06-11T02:32:11.078Z"
   },
   {
    "duration": 24,
    "start_time": "2024-06-11T02:32:11.137Z"
   },
   {
    "duration": 14,
    "start_time": "2024-06-11T02:32:11.164Z"
   },
   {
    "duration": 16,
    "start_time": "2024-06-11T02:32:11.182Z"
   },
   {
    "duration": 33,
    "start_time": "2024-06-11T02:32:11.235Z"
   },
   {
    "duration": 34,
    "start_time": "2024-06-11T02:32:11.271Z"
   },
   {
    "duration": 41,
    "start_time": "2024-06-11T02:32:11.308Z"
   },
   {
    "duration": 11,
    "start_time": "2024-06-11T02:32:11.351Z"
   },
   {
    "duration": 16,
    "start_time": "2024-06-11T02:32:11.365Z"
   },
   {
    "duration": 52,
    "start_time": "2024-06-11T02:32:11.383Z"
   },
   {
    "duration": 34,
    "start_time": "2024-06-11T02:32:11.437Z"
   },
   {
    "duration": 285,
    "start_time": "2024-06-11T02:32:11.475Z"
   },
   {
    "duration": 19,
    "start_time": "2024-06-11T02:32:11.769Z"
   },
   {
    "duration": 62,
    "start_time": "2024-06-11T02:32:11.791Z"
   },
   {
    "duration": 23,
    "start_time": "2024-06-11T02:32:11.856Z"
   },
   {
    "duration": 397,
    "start_time": "2024-06-11T02:32:11.882Z"
   },
   {
    "duration": 23,
    "start_time": "2024-06-11T02:32:12.282Z"
   },
   {
    "duration": 1225,
    "start_time": "2024-06-11T02:32:12.308Z"
   },
   {
    "duration": 314,
    "start_time": "2024-06-11T02:32:13.536Z"
   },
   {
    "duration": 9,
    "start_time": "2024-06-11T02:32:13.853Z"
   },
   {
    "duration": 730,
    "start_time": "2024-06-11T02:32:13.864Z"
   },
   {
    "duration": 382,
    "start_time": "2024-06-11T02:32:14.597Z"
   },
   {
    "duration": 215,
    "start_time": "2024-06-11T02:32:14.983Z"
   },
   {
    "duration": 15,
    "start_time": "2024-06-11T02:32:15.201Z"
   },
   {
    "duration": 183,
    "start_time": "2024-06-11T02:32:15.236Z"
   },
   {
    "duration": 23,
    "start_time": "2024-06-11T02:32:15.423Z"
   },
   {
    "duration": 22,
    "start_time": "2024-06-11T02:32:15.449Z"
   },
   {
    "duration": 11,
    "start_time": "2024-06-11T02:32:15.474Z"
   },
   {
    "duration": 418,
    "start_time": "2024-06-11T02:32:15.488Z"
   },
   {
    "duration": 27,
    "start_time": "2024-06-11T02:32:15.909Z"
   },
   {
    "duration": 26,
    "start_time": "2024-06-11T02:32:15.939Z"
   },
   {
    "duration": 24,
    "start_time": "2024-06-11T02:32:15.972Z"
   },
   {
    "duration": 51,
    "start_time": "2024-06-11T02:32:16.000Z"
   },
   {
    "duration": 19,
    "start_time": "2024-06-11T02:32:16.055Z"
   },
   {
    "duration": 19,
    "start_time": "2024-06-11T02:32:16.077Z"
   },
   {
    "duration": 55,
    "start_time": "2024-06-11T02:32:16.099Z"
   },
   {
    "duration": 15,
    "start_time": "2024-06-11T02:32:16.157Z"
   },
   {
    "duration": 15,
    "start_time": "2024-06-11T02:32:16.178Z"
   },
   {
    "duration": 43,
    "start_time": "2024-06-11T02:32:16.196Z"
   },
   {
    "duration": 8,
    "start_time": "2024-06-11T02:32:16.242Z"
   },
   {
    "duration": 3,
    "start_time": "2024-06-11T02:32:16.254Z"
   },
   {
    "duration": 8,
    "start_time": "2024-06-11T02:32:16.261Z"
   },
   {
    "duration": 62,
    "start_time": "2024-06-11T02:32:16.272Z"
   },
   {
    "duration": 13,
    "start_time": "2024-06-11T02:32:16.337Z"
   },
   {
    "duration": 10,
    "start_time": "2024-06-11T02:32:16.353Z"
   },
   {
    "duration": 392,
    "start_time": "2024-06-11T02:33:33.651Z"
   },
   {
    "duration": 458,
    "start_time": "2024-06-11T02:35:09.145Z"
   },
   {
    "duration": 353,
    "start_time": "2024-06-11T02:35:40.759Z"
   },
   {
    "duration": 1305,
    "start_time": "2024-06-11T02:39:15.986Z"
   },
   {
    "duration": 47,
    "start_time": "2024-06-11T02:39:17.295Z"
   },
   {
    "duration": 19,
    "start_time": "2024-06-11T02:39:17.344Z"
   },
   {
    "duration": 31,
    "start_time": "2024-06-11T02:39:17.368Z"
   },
   {
    "duration": 48,
    "start_time": "2024-06-11T02:39:17.402Z"
   },
   {
    "duration": 31,
    "start_time": "2024-06-11T02:39:17.454Z"
   },
   {
    "duration": 4,
    "start_time": "2024-06-11T02:39:17.489Z"
   },
   {
    "duration": 41,
    "start_time": "2024-06-11T02:39:17.497Z"
   },
   {
    "duration": 18,
    "start_time": "2024-06-11T02:39:17.541Z"
   },
   {
    "duration": 10,
    "start_time": "2024-06-11T02:39:17.565Z"
   },
   {
    "duration": 9,
    "start_time": "2024-06-11T02:39:17.578Z"
   },
   {
    "duration": 52,
    "start_time": "2024-06-11T02:39:17.590Z"
   },
   {
    "duration": 10,
    "start_time": "2024-06-11T02:39:17.644Z"
   },
   {
    "duration": 17,
    "start_time": "2024-06-11T02:39:17.657Z"
   },
   {
    "duration": 61,
    "start_time": "2024-06-11T02:39:17.677Z"
   },
   {
    "duration": 24,
    "start_time": "2024-06-11T02:39:17.740Z"
   },
   {
    "duration": 25,
    "start_time": "2024-06-11T02:39:17.768Z"
   },
   {
    "duration": 49,
    "start_time": "2024-06-11T02:39:17.797Z"
   },
   {
    "duration": 13,
    "start_time": "2024-06-11T02:39:17.850Z"
   },
   {
    "duration": 35,
    "start_time": "2024-06-11T02:39:17.866Z"
   },
   {
    "duration": 33,
    "start_time": "2024-06-11T02:39:17.935Z"
   },
   {
    "duration": 16,
    "start_time": "2024-06-11T02:39:17.971Z"
   },
   {
    "duration": 44,
    "start_time": "2024-06-11T02:39:17.990Z"
   },
   {
    "duration": 18,
    "start_time": "2024-06-11T02:39:18.036Z"
   },
   {
    "duration": 6,
    "start_time": "2024-06-11T02:39:18.068Z"
   },
   {
    "duration": 35,
    "start_time": "2024-06-11T02:39:18.078Z"
   },
   {
    "duration": 261,
    "start_time": "2024-06-11T02:39:18.136Z"
   },
   {
    "duration": 31,
    "start_time": "2024-06-11T02:39:18.406Z"
   },
   {
    "duration": 38,
    "start_time": "2024-06-11T02:39:18.440Z"
   },
   {
    "duration": 21,
    "start_time": "2024-06-11T02:39:18.481Z"
   },
   {
    "duration": 390,
    "start_time": "2024-06-11T02:39:18.533Z"
   },
   {
    "duration": 24,
    "start_time": "2024-06-11T02:39:18.926Z"
   },
   {
    "duration": 1251,
    "start_time": "2024-06-11T02:39:18.954Z"
   },
   {
    "duration": 316,
    "start_time": "2024-06-11T02:39:20.208Z"
   },
   {
    "duration": 8,
    "start_time": "2024-06-11T02:39:20.535Z"
   },
   {
    "duration": 636,
    "start_time": "2024-06-11T02:39:20.546Z"
   },
   {
    "duration": 367,
    "start_time": "2024-06-11T02:39:21.185Z"
   },
   {
    "duration": 229,
    "start_time": "2024-06-11T02:39:21.555Z"
   },
   {
    "duration": 14,
    "start_time": "2024-06-11T02:39:21.788Z"
   },
   {
    "duration": 242,
    "start_time": "2024-06-11T02:39:21.806Z"
   },
   {
    "duration": 14,
    "start_time": "2024-06-11T02:39:22.052Z"
   },
   {
    "duration": 14,
    "start_time": "2024-06-11T02:39:22.070Z"
   },
   {
    "duration": 47,
    "start_time": "2024-06-11T02:39:22.087Z"
   },
   {
    "duration": 492,
    "start_time": "2024-06-11T02:39:22.137Z"
   },
   {
    "duration": 17,
    "start_time": "2024-06-11T02:39:22.635Z"
   },
   {
    "duration": 17,
    "start_time": "2024-06-11T02:39:22.654Z"
   },
   {
    "duration": 17,
    "start_time": "2024-06-11T02:39:22.674Z"
   },
   {
    "duration": 15,
    "start_time": "2024-06-11T02:39:22.734Z"
   },
   {
    "duration": 17,
    "start_time": "2024-06-11T02:39:22.752Z"
   },
   {
    "duration": 123,
    "start_time": "2024-06-11T02:39:22.772Z"
   },
   {
    "duration": 16,
    "start_time": "2024-06-11T02:39:22.897Z"
   },
   {
    "duration": 16,
    "start_time": "2024-06-11T02:39:22.935Z"
   },
   {
    "duration": 16,
    "start_time": "2024-06-11T02:39:22.954Z"
   },
   {
    "duration": 7,
    "start_time": "2024-06-11T02:39:22.974Z"
   },
   {
    "duration": 51,
    "start_time": "2024-06-11T02:39:22.984Z"
   },
   {
    "duration": 3,
    "start_time": "2024-06-11T02:39:23.038Z"
   },
   {
    "duration": 8,
    "start_time": "2024-06-11T02:39:23.044Z"
   },
   {
    "duration": 8,
    "start_time": "2024-06-11T02:39:23.056Z"
   },
   {
    "duration": 8,
    "start_time": "2024-06-11T02:39:23.067Z"
   },
   {
    "duration": 8,
    "start_time": "2024-06-11T02:39:23.078Z"
   },
   {
    "duration": 1360,
    "start_time": "2024-06-11T02:45:02.518Z"
   },
   {
    "duration": 38,
    "start_time": "2024-06-11T02:45:03.882Z"
   },
   {
    "duration": 19,
    "start_time": "2024-06-11T02:45:03.934Z"
   },
   {
    "duration": 33,
    "start_time": "2024-06-11T02:45:03.957Z"
   },
   {
    "duration": 44,
    "start_time": "2024-06-11T02:45:03.993Z"
   },
   {
    "duration": 31,
    "start_time": "2024-06-11T02:45:04.040Z"
   },
   {
    "duration": 5,
    "start_time": "2024-06-11T02:45:04.074Z"
   },
   {
    "duration": 51,
    "start_time": "2024-06-11T02:45:04.083Z"
   },
   {
    "duration": 17,
    "start_time": "2024-06-11T02:45:04.137Z"
   },
   {
    "duration": 12,
    "start_time": "2024-06-11T02:45:04.159Z"
   },
   {
    "duration": 10,
    "start_time": "2024-06-11T02:45:04.174Z"
   },
   {
    "duration": 52,
    "start_time": "2024-06-11T02:45:04.187Z"
   },
   {
    "duration": 10,
    "start_time": "2024-06-11T02:45:04.242Z"
   },
   {
    "duration": 19,
    "start_time": "2024-06-11T02:45:04.255Z"
   },
   {
    "duration": 21,
    "start_time": "2024-06-11T02:45:04.276Z"
   },
   {
    "duration": 24,
    "start_time": "2024-06-11T02:45:04.336Z"
   },
   {
    "duration": 27,
    "start_time": "2024-06-11T02:45:04.365Z"
   },
   {
    "duration": 47,
    "start_time": "2024-06-11T02:45:04.395Z"
   },
   {
    "duration": 12,
    "start_time": "2024-06-11T02:45:04.446Z"
   },
   {
    "duration": 36,
    "start_time": "2024-06-11T02:45:04.460Z"
   },
   {
    "duration": 67,
    "start_time": "2024-06-11T02:45:04.499Z"
   },
   {
    "duration": 18,
    "start_time": "2024-06-11T02:45:04.568Z"
   },
   {
    "duration": 11,
    "start_time": "2024-06-11T02:45:04.589Z"
   },
   {
    "duration": 18,
    "start_time": "2024-06-11T02:45:04.635Z"
   },
   {
    "duration": 6,
    "start_time": "2024-06-11T02:45:04.656Z"
   },
   {
    "duration": 70,
    "start_time": "2024-06-11T02:45:04.666Z"
   },
   {
    "duration": 268,
    "start_time": "2024-06-11T02:45:04.739Z"
   },
   {
    "duration": 29,
    "start_time": "2024-06-11T02:45:05.017Z"
   },
   {
    "duration": 38,
    "start_time": "2024-06-11T02:45:05.051Z"
   },
   {
    "duration": 52,
    "start_time": "2024-06-11T02:45:05.092Z"
   },
   {
    "duration": 412,
    "start_time": "2024-06-11T02:45:05.147Z"
   },
   {
    "duration": 23,
    "start_time": "2024-06-11T02:45:05.562Z"
   },
   {
    "duration": 1278,
    "start_time": "2024-06-11T02:45:05.588Z"
   },
   {
    "duration": 327,
    "start_time": "2024-06-11T02:45:06.869Z"
   },
   {
    "duration": 9,
    "start_time": "2024-06-11T02:45:07.199Z"
   },
   {
    "duration": 653,
    "start_time": "2024-06-11T02:45:07.211Z"
   },
   {
    "duration": 373,
    "start_time": "2024-06-11T02:45:07.867Z"
   },
   {
    "duration": 227,
    "start_time": "2024-06-11T02:45:08.243Z"
   },
   {
    "duration": 14,
    "start_time": "2024-06-11T02:45:08.473Z"
   },
   {
    "duration": 237,
    "start_time": "2024-06-11T02:45:08.491Z"
   },
   {
    "duration": 14,
    "start_time": "2024-06-11T02:45:08.736Z"
   },
   {
    "duration": 17,
    "start_time": "2024-06-11T02:45:08.754Z"
   },
   {
    "duration": 12,
    "start_time": "2024-06-11T02:45:08.774Z"
   },
   {
    "duration": 431,
    "start_time": "2024-06-11T02:45:08.791Z"
   },
   {
    "duration": 16,
    "start_time": "2024-06-11T02:45:09.234Z"
   },
   {
    "duration": 16,
    "start_time": "2024-06-11T02:45:09.253Z"
   },
   {
    "duration": 16,
    "start_time": "2024-06-11T02:45:09.271Z"
   },
   {
    "duration": 64,
    "start_time": "2024-06-11T02:45:09.291Z"
   },
   {
    "duration": 16,
    "start_time": "2024-06-11T02:45:09.358Z"
   },
   {
    "duration": 106,
    "start_time": "2024-06-11T02:45:09.377Z"
   },
   {
    "duration": 15,
    "start_time": "2024-06-11T02:45:09.485Z"
   },
   {
    "duration": 40,
    "start_time": "2024-06-11T02:45:09.504Z"
   },
   {
    "duration": 28,
    "start_time": "2024-06-11T02:45:09.547Z"
   },
   {
    "duration": 12,
    "start_time": "2024-06-11T02:45:09.578Z"
   },
   {
    "duration": 9,
    "start_time": "2024-06-11T02:45:09.593Z"
   },
   {
    "duration": 29,
    "start_time": "2024-06-11T02:45:09.605Z"
   },
   {
    "duration": 8,
    "start_time": "2024-06-11T02:45:09.637Z"
   },
   {
    "duration": 10,
    "start_time": "2024-06-11T02:45:09.648Z"
   },
   {
    "duration": 7,
    "start_time": "2024-06-11T02:45:09.661Z"
   },
   {
    "duration": 8,
    "start_time": "2024-06-11T02:45:09.671Z"
   }
  ],
  "kernelspec": {
   "display_name": "Python 3 (ipykernel)",
   "language": "python",
   "name": "python3"
  },
  "language_info": {
   "codemirror_mode": {
    "name": "ipython",
    "version": 3
   },
   "file_extension": ".py",
   "mimetype": "text/x-python",
   "name": "python",
   "nbconvert_exporter": "python",
   "pygments_lexer": "ipython3",
   "version": "3.9.19"
  },
  "toc": {
   "base_numbering": 1,
   "nav_menu": {},
   "number_sections": true,
   "sideBar": true,
   "skip_h1_title": true,
   "title_cell": "Table of Contents",
   "title_sidebar": "Contents",
   "toc_cell": false,
   "toc_position": {},
   "toc_section_display": true,
   "toc_window_display": false
  }
 },
 "nbformat": 4,
 "nbformat_minor": 2
}
