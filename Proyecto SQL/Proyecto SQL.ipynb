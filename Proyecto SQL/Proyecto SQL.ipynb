{
 "cells": [
  {
   "cell_type": "markdown",
   "metadata": {},
   "source": [
    "# Proyecto SQL\n",
    "\n",
    "El coronavirus tomó al mundo entero por sorpresa, cambiando la rutina diaria de todos y todas. Los habitantes de las ciudades ya no pasaban su tiempo libre fuera, yendo a cafés y centros comerciales; sino que más gente se quedaba en casa, leyendo libros. Eso atrajo la atención de las startups (empresas emergentes) que se apresuraron a desarrollar nuevas aplicaciones para los amantes de los libros.\n",
    "\n",
    "Te han dado una base de datos de uno de los servicios que compiten en este mercado. Contiene datos sobre libros, editoriales, autores y calificaciones de clientes y reseñas de libros. Esta información se utilizará para generar una propuesta de valor para un nuevo producto."
   ]
  },
  {
   "cell_type": "markdown",
   "metadata": {},
   "source": [
    "# Descripción de los datos\n",
    "\n",
    "**books:**\n",
    "\n",
    "Contiene datos sobre libros:\n",
    "\n",
    "- book_id — identificación del libro\n",
    "- author_id — identificación del autor o autora\n",
    "- title — título\n",
    "- num_pages — número de páginas\n",
    "- publication_date — fecha de la publicación\n",
    "- publisher_id — identificación de la editorial\n",
    "\n",
    "**authors:**\n",
    "\n",
    "Contiene datos sobre autores:\n",
    "\n",
    "- author_id — identificación del autor o autora\n",
    "- author — el autor o la autora\n",
    "\n",
    "**publishers:**\n",
    "\n",
    "Contiene datos sobre editoriales:\n",
    "\n",
    "- publisher_id — identificación de la editorial\n",
    "- publisher — la editorial\n",
    "\n",
    "**ratings:**\n",
    "\n",
    "Contiene datos sobre las calificaciones de usuarios:\n",
    "\n",
    "- rating_id — identificación de la calificación\n",
    "- book_id — identificación del libro\n",
    "- username — el nombre del usuario que revisó el libro\n",
    "- rating — calificación\n",
    "\n",
    "**reviews:**\n",
    "\n",
    "Contiene datos sobre las reseñas de los y las clientes:\n",
    "\n",
    "- review_id — identificación de la reseña\n",
    "- book_id — identificación del libro\n",
    "- username — el nombre del usuario que revisó el libro\n",
    "- text — el texto de la reseña"
   ]
  },
  {
   "cell_type": "markdown",
   "metadata": {},
   "source": [
    "# Ejercicio\n",
    "\n",
    "- Encuentra el número de libros publicados después del 1 de enero de 2000.\n",
    "- Encuentra el número de reseñas de usuarios y la calificación promedio para cada libro.\n",
    "- Identifica la editorial que ha publicado el mayor número de libros con más de 50 páginas (esto te ayudará a excluir folletos y publicaciones similares de tu análisis).\n",
    "- Identifica al autor que tiene la más alta calificación promedio del libro: mira solo los libros con al menos 50 calificaciones.\n",
    "- Encuentra el número promedio de reseñas de texto entre los usuarios que calificaron más de 50 libros."
   ]
  },
  {
   "cell_type": "markdown",
   "metadata": {},
   "source": [
    "# Instrucciones para completar la tarea\n",
    "\n",
    "- Describe los objetivos del estudio.\n",
    "- Estudia las tablas (imprime las primeras filas).\n",
    "- Realiza una consulta SQL para cada una de las tareas.\n",
    "- Genera los resultados de cada consulta en el Notebook.\n",
    "- Describe tus conclusiones para cada una de las tareas."
   ]
  },
  {
   "cell_type": "markdown",
   "metadata": {},
   "source": [
    "## Objetivos del estudio\n",
    "\n",
    "El objetivo es analizar los datos de una plataforma de libros en línea para obtener información relevante sobre:\n",
    "\n",
    "- Los libros publicados después de una fecha específica.\n",
    "- Las reseñas y calificaciones de los libros.\n",
    "- Las editoriales que publican libros más largos.\n",
    "- El autor con la mejor calificación promedio en libros con suficientes reseñas.\n",
    "- El comportamiento de los usuarios que califican muchos libros."
   ]
  },
  {
   "cell_type": "markdown",
   "metadata": {},
   "source": [
    "## Conectarse a la base de datos"
   ]
  },
  {
   "cell_type": "code",
   "execution_count": 1,
   "metadata": {},
   "outputs": [],
   "source": [
    "# importar librerías\n",
    "import pandas as pd\n",
    "from sqlalchemy import create_engine\n",
    "\n",
    "\n",
    "db_config = {'user': 'practicum_student',         # nombre de usuario\n",
    "             'pwd': 's65BlTKV3faNIGhmvJVzOqhs', # contraseña\n",
    "             'host': 'rc1b-wcoijxj3yxfsf3fs.mdb.yandexcloud.net',\n",
    "             'port': 6432,              # puerto de conexión\n",
    "             'db': 'data-analyst-final-project-db'}          # nombre de la base de datos\n",
    "\n",
    "connection_string = 'postgresql://{}:{}@{}:{}/{}'.format(db_config['user'],\n",
    "                                                                     db_config['pwd'],\n",
    "                                                                       db_config['host'],\n",
    "                                                                       db_config['port'],\n",
    "                                                                       db_config['db'])\n",
    "\n",
    "engine = create_engine(connection_string, connect_args={'sslmode':'require'})"
   ]
  },
  {
   "cell_type": "markdown",
   "metadata": {},
   "source": [
    "## Estudiar las tablas (imprimir primeras filas)"
   ]
  },
  {
   "cell_type": "markdown",
   "metadata": {},
   "source": [
    "**Imprimir primeras filas de la tabla books**"
   ]
  },
  {
   "cell_type": "code",
   "execution_count": 2,
   "metadata": {},
   "outputs": [
    {
     "data": {
      "text/html": [
       "<div>\n",
       "<style scoped>\n",
       "    .dataframe tbody tr th:only-of-type {\n",
       "        vertical-align: middle;\n",
       "    }\n",
       "\n",
       "    .dataframe tbody tr th {\n",
       "        vertical-align: top;\n",
       "    }\n",
       "\n",
       "    .dataframe thead th {\n",
       "        text-align: right;\n",
       "    }\n",
       "</style>\n",
       "<table border=\"1\" class=\"dataframe\">\n",
       "  <thead>\n",
       "    <tr style=\"text-align: right;\">\n",
       "      <th></th>\n",
       "      <th>book_id</th>\n",
       "      <th>author_id</th>\n",
       "      <th>title</th>\n",
       "      <th>num_pages</th>\n",
       "      <th>publication_date</th>\n",
       "      <th>publisher_id</th>\n",
       "    </tr>\n",
       "  </thead>\n",
       "  <tbody>\n",
       "    <tr>\n",
       "      <th>0</th>\n",
       "      <td>1</td>\n",
       "      <td>546</td>\n",
       "      <td>'Salem's Lot</td>\n",
       "      <td>594</td>\n",
       "      <td>2005-11-01</td>\n",
       "      <td>93</td>\n",
       "    </tr>\n",
       "    <tr>\n",
       "      <th>1</th>\n",
       "      <td>2</td>\n",
       "      <td>465</td>\n",
       "      <td>1 000 Places to See Before You Die</td>\n",
       "      <td>992</td>\n",
       "      <td>2003-05-22</td>\n",
       "      <td>336</td>\n",
       "    </tr>\n",
       "    <tr>\n",
       "      <th>2</th>\n",
       "      <td>3</td>\n",
       "      <td>407</td>\n",
       "      <td>13 Little Blue Envelopes (Little Blue Envelope...</td>\n",
       "      <td>322</td>\n",
       "      <td>2010-12-21</td>\n",
       "      <td>135</td>\n",
       "    </tr>\n",
       "    <tr>\n",
       "      <th>3</th>\n",
       "      <td>4</td>\n",
       "      <td>82</td>\n",
       "      <td>1491: New Revelations of the Americas Before C...</td>\n",
       "      <td>541</td>\n",
       "      <td>2006-10-10</td>\n",
       "      <td>309</td>\n",
       "    </tr>\n",
       "    <tr>\n",
       "      <th>4</th>\n",
       "      <td>5</td>\n",
       "      <td>125</td>\n",
       "      <td>1776</td>\n",
       "      <td>386</td>\n",
       "      <td>2006-07-04</td>\n",
       "      <td>268</td>\n",
       "    </tr>\n",
       "  </tbody>\n",
       "</table>\n",
       "</div>"
      ],
      "text/plain": [
       "   book_id  author_id                                              title  \\\n",
       "0        1        546                                       'Salem's Lot   \n",
       "1        2        465                 1 000 Places to See Before You Die   \n",
       "2        3        407  13 Little Blue Envelopes (Little Blue Envelope...   \n",
       "3        4         82  1491: New Revelations of the Americas Before C...   \n",
       "4        5        125                                               1776   \n",
       "\n",
       "   num_pages publication_date  publisher_id  \n",
       "0        594       2005-11-01            93  \n",
       "1        992       2003-05-22           336  \n",
       "2        322       2010-12-21           135  \n",
       "3        541       2006-10-10           309  \n",
       "4        386       2006-07-04           268  "
      ]
     },
     "execution_count": 2,
     "metadata": {},
     "output_type": "execute_result"
    }
   ],
   "source": [
    "# Consultar las primeras filas de la tabla books\n",
    "books_query = \"SELECT * FROM books LIMIT 5;\"\n",
    "books_df = pd.io.sql.read_sql(books_query, con=engine)\n",
    "books_df\n"
   ]
  },
  {
   "cell_type": "markdown",
   "metadata": {},
   "source": [
    "**Imprimir primeras filas de la tabla authors**"
   ]
  },
  {
   "cell_type": "code",
   "execution_count": 3,
   "metadata": {},
   "outputs": [
    {
     "data": {
      "text/html": [
       "<div>\n",
       "<style scoped>\n",
       "    .dataframe tbody tr th:only-of-type {\n",
       "        vertical-align: middle;\n",
       "    }\n",
       "\n",
       "    .dataframe tbody tr th {\n",
       "        vertical-align: top;\n",
       "    }\n",
       "\n",
       "    .dataframe thead th {\n",
       "        text-align: right;\n",
       "    }\n",
       "</style>\n",
       "<table border=\"1\" class=\"dataframe\">\n",
       "  <thead>\n",
       "    <tr style=\"text-align: right;\">\n",
       "      <th></th>\n",
       "      <th>author_id</th>\n",
       "      <th>author</th>\n",
       "    </tr>\n",
       "  </thead>\n",
       "  <tbody>\n",
       "    <tr>\n",
       "      <th>0</th>\n",
       "      <td>1</td>\n",
       "      <td>A.S. Byatt</td>\n",
       "    </tr>\n",
       "    <tr>\n",
       "      <th>1</th>\n",
       "      <td>2</td>\n",
       "      <td>Aesop/Laura Harris/Laura Gibbs</td>\n",
       "    </tr>\n",
       "    <tr>\n",
       "      <th>2</th>\n",
       "      <td>3</td>\n",
       "      <td>Agatha Christie</td>\n",
       "    </tr>\n",
       "    <tr>\n",
       "      <th>3</th>\n",
       "      <td>4</td>\n",
       "      <td>Alan Brennert</td>\n",
       "    </tr>\n",
       "    <tr>\n",
       "      <th>4</th>\n",
       "      <td>5</td>\n",
       "      <td>Alan Moore/David   Lloyd</td>\n",
       "    </tr>\n",
       "  </tbody>\n",
       "</table>\n",
       "</div>"
      ],
      "text/plain": [
       "   author_id                          author\n",
       "0          1                      A.S. Byatt\n",
       "1          2  Aesop/Laura Harris/Laura Gibbs\n",
       "2          3                 Agatha Christie\n",
       "3          4                   Alan Brennert\n",
       "4          5        Alan Moore/David   Lloyd"
      ]
     },
     "execution_count": 3,
     "metadata": {},
     "output_type": "execute_result"
    }
   ],
   "source": [
    "# Consultar las primeras filas de la tabla authors\n",
    "authors_query = \"SELECT * FROM authors LIMIT 5;\"\n",
    "authors_df = pd.io.sql.read_sql(authors_query, con=engine)\n",
    "authors_df\n"
   ]
  },
  {
   "cell_type": "markdown",
   "metadata": {},
   "source": [
    "**Imprimir primeras filas de la tabla publishers**"
   ]
  },
  {
   "cell_type": "code",
   "execution_count": 4,
   "metadata": {},
   "outputs": [
    {
     "data": {
      "text/html": [
       "<div>\n",
       "<style scoped>\n",
       "    .dataframe tbody tr th:only-of-type {\n",
       "        vertical-align: middle;\n",
       "    }\n",
       "\n",
       "    .dataframe tbody tr th {\n",
       "        vertical-align: top;\n",
       "    }\n",
       "\n",
       "    .dataframe thead th {\n",
       "        text-align: right;\n",
       "    }\n",
       "</style>\n",
       "<table border=\"1\" class=\"dataframe\">\n",
       "  <thead>\n",
       "    <tr style=\"text-align: right;\">\n",
       "      <th></th>\n",
       "      <th>publisher_id</th>\n",
       "      <th>publisher</th>\n",
       "    </tr>\n",
       "  </thead>\n",
       "  <tbody>\n",
       "    <tr>\n",
       "      <th>0</th>\n",
       "      <td>1</td>\n",
       "      <td>Ace</td>\n",
       "    </tr>\n",
       "    <tr>\n",
       "      <th>1</th>\n",
       "      <td>2</td>\n",
       "      <td>Ace Book</td>\n",
       "    </tr>\n",
       "    <tr>\n",
       "      <th>2</th>\n",
       "      <td>3</td>\n",
       "      <td>Ace Books</td>\n",
       "    </tr>\n",
       "    <tr>\n",
       "      <th>3</th>\n",
       "      <td>4</td>\n",
       "      <td>Ace Hardcover</td>\n",
       "    </tr>\n",
       "    <tr>\n",
       "      <th>4</th>\n",
       "      <td>5</td>\n",
       "      <td>Addison Wesley Publishing Company</td>\n",
       "    </tr>\n",
       "  </tbody>\n",
       "</table>\n",
       "</div>"
      ],
      "text/plain": [
       "   publisher_id                          publisher\n",
       "0             1                                Ace\n",
       "1             2                           Ace Book\n",
       "2             3                          Ace Books\n",
       "3             4                      Ace Hardcover\n",
       "4             5  Addison Wesley Publishing Company"
      ]
     },
     "execution_count": 4,
     "metadata": {},
     "output_type": "execute_result"
    }
   ],
   "source": [
    "# Consultar las primeras filas de la tabla publishers\n",
    "publishers_query = \"SELECT * FROM publishers LIMIT 5;\"\n",
    "publishers_df = pd.io.sql.read_sql(publishers_query, con=engine)\n",
    "publishers_df\n"
   ]
  },
  {
   "cell_type": "markdown",
   "metadata": {},
   "source": [
    "**Imprimir primeras filas de la tabla ratings**"
   ]
  },
  {
   "cell_type": "code",
   "execution_count": 5,
   "metadata": {},
   "outputs": [
    {
     "data": {
      "text/html": [
       "<div>\n",
       "<style scoped>\n",
       "    .dataframe tbody tr th:only-of-type {\n",
       "        vertical-align: middle;\n",
       "    }\n",
       "\n",
       "    .dataframe tbody tr th {\n",
       "        vertical-align: top;\n",
       "    }\n",
       "\n",
       "    .dataframe thead th {\n",
       "        text-align: right;\n",
       "    }\n",
       "</style>\n",
       "<table border=\"1\" class=\"dataframe\">\n",
       "  <thead>\n",
       "    <tr style=\"text-align: right;\">\n",
       "      <th></th>\n",
       "      <th>rating_id</th>\n",
       "      <th>book_id</th>\n",
       "      <th>username</th>\n",
       "      <th>rating</th>\n",
       "    </tr>\n",
       "  </thead>\n",
       "  <tbody>\n",
       "    <tr>\n",
       "      <th>0</th>\n",
       "      <td>1</td>\n",
       "      <td>1</td>\n",
       "      <td>ryanfranco</td>\n",
       "      <td>4</td>\n",
       "    </tr>\n",
       "    <tr>\n",
       "      <th>1</th>\n",
       "      <td>2</td>\n",
       "      <td>1</td>\n",
       "      <td>grantpatricia</td>\n",
       "      <td>2</td>\n",
       "    </tr>\n",
       "    <tr>\n",
       "      <th>2</th>\n",
       "      <td>3</td>\n",
       "      <td>1</td>\n",
       "      <td>brandtandrea</td>\n",
       "      <td>5</td>\n",
       "    </tr>\n",
       "    <tr>\n",
       "      <th>3</th>\n",
       "      <td>4</td>\n",
       "      <td>2</td>\n",
       "      <td>lorichen</td>\n",
       "      <td>3</td>\n",
       "    </tr>\n",
       "    <tr>\n",
       "      <th>4</th>\n",
       "      <td>5</td>\n",
       "      <td>2</td>\n",
       "      <td>mariokeller</td>\n",
       "      <td>2</td>\n",
       "    </tr>\n",
       "  </tbody>\n",
       "</table>\n",
       "</div>"
      ],
      "text/plain": [
       "   rating_id  book_id       username  rating\n",
       "0          1        1     ryanfranco       4\n",
       "1          2        1  grantpatricia       2\n",
       "2          3        1   brandtandrea       5\n",
       "3          4        2       lorichen       3\n",
       "4          5        2    mariokeller       2"
      ]
     },
     "execution_count": 5,
     "metadata": {},
     "output_type": "execute_result"
    }
   ],
   "source": [
    "# Consultar las primeras filas de la tabla ratings\n",
    "ratings_query = \"SELECT * FROM ratings LIMIT 5;\"\n",
    "ratings_df = pd.io.sql.read_sql(ratings_query, con=engine)\n",
    "ratings_df\n"
   ]
  },
  {
   "cell_type": "markdown",
   "metadata": {},
   "source": [
    "**Imprimir primeras filas de la tabla reviews**"
   ]
  },
  {
   "cell_type": "code",
   "execution_count": 6,
   "metadata": {},
   "outputs": [
    {
     "data": {
      "text/html": [
       "<div>\n",
       "<style scoped>\n",
       "    .dataframe tbody tr th:only-of-type {\n",
       "        vertical-align: middle;\n",
       "    }\n",
       "\n",
       "    .dataframe tbody tr th {\n",
       "        vertical-align: top;\n",
       "    }\n",
       "\n",
       "    .dataframe thead th {\n",
       "        text-align: right;\n",
       "    }\n",
       "</style>\n",
       "<table border=\"1\" class=\"dataframe\">\n",
       "  <thead>\n",
       "    <tr style=\"text-align: right;\">\n",
       "      <th></th>\n",
       "      <th>review_id</th>\n",
       "      <th>book_id</th>\n",
       "      <th>username</th>\n",
       "      <th>text</th>\n",
       "    </tr>\n",
       "  </thead>\n",
       "  <tbody>\n",
       "    <tr>\n",
       "      <th>0</th>\n",
       "      <td>1</td>\n",
       "      <td>1</td>\n",
       "      <td>brandtandrea</td>\n",
       "      <td>Mention society tell send professor analysis. ...</td>\n",
       "    </tr>\n",
       "    <tr>\n",
       "      <th>1</th>\n",
       "      <td>2</td>\n",
       "      <td>1</td>\n",
       "      <td>ryanfranco</td>\n",
       "      <td>Foot glass pretty audience hit themselves. Amo...</td>\n",
       "    </tr>\n",
       "    <tr>\n",
       "      <th>2</th>\n",
       "      <td>3</td>\n",
       "      <td>2</td>\n",
       "      <td>lorichen</td>\n",
       "      <td>Listen treat keep worry. Miss husband tax but ...</td>\n",
       "    </tr>\n",
       "    <tr>\n",
       "      <th>3</th>\n",
       "      <td>4</td>\n",
       "      <td>3</td>\n",
       "      <td>johnsonamanda</td>\n",
       "      <td>Finally month interesting blue could nature cu...</td>\n",
       "    </tr>\n",
       "    <tr>\n",
       "      <th>4</th>\n",
       "      <td>5</td>\n",
       "      <td>3</td>\n",
       "      <td>scotttamara</td>\n",
       "      <td>Nation purpose heavy give wait song will. List...</td>\n",
       "    </tr>\n",
       "  </tbody>\n",
       "</table>\n",
       "</div>"
      ],
      "text/plain": [
       "   review_id  book_id       username  \\\n",
       "0          1        1   brandtandrea   \n",
       "1          2        1     ryanfranco   \n",
       "2          3        2       lorichen   \n",
       "3          4        3  johnsonamanda   \n",
       "4          5        3    scotttamara   \n",
       "\n",
       "                                                text  \n",
       "0  Mention society tell send professor analysis. ...  \n",
       "1  Foot glass pretty audience hit themselves. Amo...  \n",
       "2  Listen treat keep worry. Miss husband tax but ...  \n",
       "3  Finally month interesting blue could nature cu...  \n",
       "4  Nation purpose heavy give wait song will. List...  "
      ]
     },
     "execution_count": 6,
     "metadata": {},
     "output_type": "execute_result"
    }
   ],
   "source": [
    "# Consultar las primeras filas de la tabla reviews\n",
    "reviews_query = \"SELECT * FROM reviews LIMIT 5;\"\n",
    "reviews_df = pd.io.sql.read_sql(reviews_query, con=engine)\n",
    "reviews_df\n"
   ]
  },
  {
   "cell_type": "markdown",
   "metadata": {},
   "source": [
    "## Realiza una consulta SQL para cada una de las tareas"
   ]
  },
  {
   "cell_type": "markdown",
   "metadata": {},
   "source": [
    "**1. Encuentra el número de libros publicados después del 1 de enero de 2000**"
   ]
  },
  {
   "cell_type": "code",
   "execution_count": 7,
   "metadata": {},
   "outputs": [
    {
     "data": {
      "text/html": [
       "<div>\n",
       "<style scoped>\n",
       "    .dataframe tbody tr th:only-of-type {\n",
       "        vertical-align: middle;\n",
       "    }\n",
       "\n",
       "    .dataframe tbody tr th {\n",
       "        vertical-align: top;\n",
       "    }\n",
       "\n",
       "    .dataframe thead th {\n",
       "        text-align: right;\n",
       "    }\n",
       "</style>\n",
       "<table border=\"1\" class=\"dataframe\">\n",
       "  <thead>\n",
       "    <tr style=\"text-align: right;\">\n",
       "      <th></th>\n",
       "      <th>books_after_2000</th>\n",
       "    </tr>\n",
       "  </thead>\n",
       "  <tbody>\n",
       "    <tr>\n",
       "      <th>0</th>\n",
       "      <td>819</td>\n",
       "    </tr>\n",
       "  </tbody>\n",
       "</table>\n",
       "</div>"
      ],
      "text/plain": [
       "   books_after_2000\n",
       "0               819"
      ]
     },
     "execution_count": 7,
     "metadata": {},
     "output_type": "execute_result"
    }
   ],
   "source": [
    "libros_publicados = \"\"\"\n",
    "SELECT COUNT(*) AS books_after_2000\n",
    "FROM books\n",
    "WHERE publication_date > '2000-01-01';\n",
    "\"\"\"\n",
    "pd.io.sql.read_sql(libros_publicados, con = engine)"
   ]
  },
  {
   "cell_type": "markdown",
   "metadata": {},
   "source": [
    "El número de libros cuya fecha de publicación es posterior al 1 de enero de 2000 es 819."
   ]
  },
  {
   "cell_type": "markdown",
   "metadata": {},
   "source": [
    "**2. Encuentra el número de reseñas de usuarios y la calificación promedio para cada libro**\n",
    "\n",
    "Queremos saber cuántas reseñas tiene cada libro y cuál es la calificación promedio. Para eso, necesitamos juntar las tablas ratings y reviews, agrupando por el book_id."
   ]
  },
  {
   "cell_type": "code",
   "execution_count": 8,
   "metadata": {
    "scrolled": true
   },
   "outputs": [
    {
     "data": {
      "text/html": [
       "<div>\n",
       "<style scoped>\n",
       "    .dataframe tbody tr th:only-of-type {\n",
       "        vertical-align: middle;\n",
       "    }\n",
       "\n",
       "    .dataframe tbody tr th {\n",
       "        vertical-align: top;\n",
       "    }\n",
       "\n",
       "    .dataframe thead th {\n",
       "        text-align: right;\n",
       "    }\n",
       "</style>\n",
       "<table border=\"1\" class=\"dataframe\">\n",
       "  <thead>\n",
       "    <tr style=\"text-align: right;\">\n",
       "      <th></th>\n",
       "      <th>book_id</th>\n",
       "      <th>title</th>\n",
       "      <th>num_reviews</th>\n",
       "      <th>avg_rating</th>\n",
       "    </tr>\n",
       "  </thead>\n",
       "  <tbody>\n",
       "    <tr>\n",
       "      <th>0</th>\n",
       "      <td>652</td>\n",
       "      <td>The Body in the Library (Miss Marple  #3)</td>\n",
       "      <td>4</td>\n",
       "      <td>4.500000</td>\n",
       "    </tr>\n",
       "    <tr>\n",
       "      <th>1</th>\n",
       "      <td>273</td>\n",
       "      <td>Galápagos</td>\n",
       "      <td>4</td>\n",
       "      <td>4.500000</td>\n",
       "    </tr>\n",
       "    <tr>\n",
       "      <th>2</th>\n",
       "      <td>51</td>\n",
       "      <td>A Tree Grows in Brooklyn</td>\n",
       "      <td>60</td>\n",
       "      <td>4.250000</td>\n",
       "    </tr>\n",
       "    <tr>\n",
       "      <th>3</th>\n",
       "      <td>951</td>\n",
       "      <td>Undaunted Courage: The Pioneering First Missio...</td>\n",
       "      <td>4</td>\n",
       "      <td>4.000000</td>\n",
       "    </tr>\n",
       "    <tr>\n",
       "      <th>4</th>\n",
       "      <td>839</td>\n",
       "      <td>The Prophet</td>\n",
       "      <td>28</td>\n",
       "      <td>4.285714</td>\n",
       "    </tr>\n",
       "    <tr>\n",
       "      <th>...</th>\n",
       "      <td>...</td>\n",
       "      <td>...</td>\n",
       "      <td>...</td>\n",
       "      <td>...</td>\n",
       "    </tr>\n",
       "    <tr>\n",
       "      <th>995</th>\n",
       "      <td>64</td>\n",
       "      <td>Alice in Wonderland</td>\n",
       "      <td>52</td>\n",
       "      <td>4.230769</td>\n",
       "    </tr>\n",
       "    <tr>\n",
       "      <th>996</th>\n",
       "      <td>55</td>\n",
       "      <td>A Woman of Substance (Emma Harte Saga #1)</td>\n",
       "      <td>4</td>\n",
       "      <td>5.000000</td>\n",
       "    </tr>\n",
       "    <tr>\n",
       "      <th>997</th>\n",
       "      <td>148</td>\n",
       "      <td>Christine</td>\n",
       "      <td>21</td>\n",
       "      <td>3.428571</td>\n",
       "    </tr>\n",
       "    <tr>\n",
       "      <th>998</th>\n",
       "      <td>790</td>\n",
       "      <td>The Magicians' Guild (Black Magician Trilogy  #1)</td>\n",
       "      <td>4</td>\n",
       "      <td>3.500000</td>\n",
       "    </tr>\n",
       "    <tr>\n",
       "      <th>999</th>\n",
       "      <td>828</td>\n",
       "      <td>The Plot Against America</td>\n",
       "      <td>4</td>\n",
       "      <td>3.000000</td>\n",
       "    </tr>\n",
       "  </tbody>\n",
       "</table>\n",
       "<p>1000 rows × 4 columns</p>\n",
       "</div>"
      ],
      "text/plain": [
       "     book_id                                              title  num_reviews  \\\n",
       "0        652          The Body in the Library (Miss Marple  #3)            4   \n",
       "1        273                                          Galápagos            4   \n",
       "2         51                           A Tree Grows in Brooklyn           60   \n",
       "3        951  Undaunted Courage: The Pioneering First Missio...            4   \n",
       "4        839                                        The Prophet           28   \n",
       "..       ...                                                ...          ...   \n",
       "995       64                                Alice in Wonderland           52   \n",
       "996       55          A Woman of Substance (Emma Harte Saga #1)            4   \n",
       "997      148                                          Christine           21   \n",
       "998      790  The Magicians' Guild (Black Magician Trilogy  #1)            4   \n",
       "999      828                           The Plot Against America            4   \n",
       "\n",
       "     avg_rating  \n",
       "0      4.500000  \n",
       "1      4.500000  \n",
       "2      4.250000  \n",
       "3      4.000000  \n",
       "4      4.285714  \n",
       "..          ...  \n",
       "995    4.230769  \n",
       "996    5.000000  \n",
       "997    3.428571  \n",
       "998    3.500000  \n",
       "999    3.000000  \n",
       "\n",
       "[1000 rows x 4 columns]"
      ]
     },
     "execution_count": 8,
     "metadata": {},
     "output_type": "execute_result"
    }
   ],
   "source": [
    "reseñas_usuarios = \"\"\"\n",
    "SELECT b.book_id, b.title, \n",
    "       COUNT(r.review_id) AS num_reviews, \n",
    "       AVG(rat.rating) AS avg_rating\n",
    "FROM books b\n",
    "LEFT JOIN reviews r ON b.book_id = r.book_id\n",
    "LEFT JOIN ratings rat ON b.book_id = rat.book_id\n",
    "GROUP BY b.book_id;\n",
    "\"\"\"\n",
    "\n",
    "pd.io.sql.read_sql(reseñas_usuarios, con = engine)"
   ]
  },
  {
   "cell_type": "markdown",
   "metadata": {},
   "source": [
    "Esta consulta proporciona el número total de reseñas y la calificación promedio de cada libro, incluyendo aquellos que no tienen reseñas, gracias al uso de un LEFT JOIN."
   ]
  },
  {
   "cell_type": "markdown",
   "metadata": {},
   "source": [
    "**3. Identifica la editorial que ha publicado el mayor número de libros con más de 50 páginas**\n",
    "\n",
    "Queremos encontrar cuál editorial ha publicado el mayor número de libros con más de 50 páginas. Para esto, debemos filtrar los libros que tienen más de 50 páginas y agruparlos por publisher_id."
   ]
  },
  {
   "cell_type": "code",
   "execution_count": 9,
   "metadata": {},
   "outputs": [
    {
     "data": {
      "text/html": [
       "<div>\n",
       "<style scoped>\n",
       "    .dataframe tbody tr th:only-of-type {\n",
       "        vertical-align: middle;\n",
       "    }\n",
       "\n",
       "    .dataframe tbody tr th {\n",
       "        vertical-align: top;\n",
       "    }\n",
       "\n",
       "    .dataframe thead th {\n",
       "        text-align: right;\n",
       "    }\n",
       "</style>\n",
       "<table border=\"1\" class=\"dataframe\">\n",
       "  <thead>\n",
       "    <tr style=\"text-align: right;\">\n",
       "      <th></th>\n",
       "      <th>publisher</th>\n",
       "      <th>books_count</th>\n",
       "    </tr>\n",
       "  </thead>\n",
       "  <tbody>\n",
       "    <tr>\n",
       "      <th>0</th>\n",
       "      <td>Penguin Books</td>\n",
       "      <td>42</td>\n",
       "    </tr>\n",
       "  </tbody>\n",
       "</table>\n",
       "</div>"
      ],
      "text/plain": [
       "       publisher  books_count\n",
       "0  Penguin Books           42"
      ]
     },
     "execution_count": 9,
     "metadata": {},
     "output_type": "execute_result"
    }
   ],
   "source": [
    "editorial_max_books = \"\"\"\n",
    "SELECT p.publisher, COUNT(b.book_id) AS books_count\n",
    "FROM books b\n",
    "JOIN publishers p ON b.publisher_id = p.publisher_id\n",
    "WHERE b.num_pages > 50\n",
    "GROUP BY p.publisher_id\n",
    "ORDER BY books_count DESC\n",
    "LIMIT 1;\n",
    "\"\"\"\n",
    "pd.io.sql.read_sql(editorial_max_books, con = engine)\n"
   ]
  },
  {
   "cell_type": "markdown",
   "metadata": {},
   "source": [
    " La consulta devuelve la editorial Penguin Books, la cual  ha publicado más libros de más de 50 páginas, excluyendo libros más pequeños como folletos."
   ]
  },
  {
   "cell_type": "markdown",
   "metadata": {},
   "source": [
    "**4. Identifica al autor que tiene la más alta calificación promedio del libro: mira solo los libros con al menos 50 calificaciones.**\n",
    "\n",
    "Queremos encontrar al autor cuyo libro tiene la calificación promedio más alta, pero solo considerando los libros con al menos 50 calificaciones."
   ]
  },
  {
   "cell_type": "code",
   "execution_count": 10,
   "metadata": {},
   "outputs": [
    {
     "data": {
      "text/html": [
       "<div>\n",
       "<style scoped>\n",
       "    .dataframe tbody tr th:only-of-type {\n",
       "        vertical-align: middle;\n",
       "    }\n",
       "\n",
       "    .dataframe tbody tr th {\n",
       "        vertical-align: top;\n",
       "    }\n",
       "\n",
       "    .dataframe thead th {\n",
       "        text-align: right;\n",
       "    }\n",
       "</style>\n",
       "<table border=\"1\" class=\"dataframe\">\n",
       "  <thead>\n",
       "    <tr style=\"text-align: right;\">\n",
       "      <th></th>\n",
       "      <th>author</th>\n",
       "      <th>avg_rating</th>\n",
       "    </tr>\n",
       "  </thead>\n",
       "  <tbody>\n",
       "    <tr>\n",
       "      <th>0</th>\n",
       "      <td>J.K. Rowling/Mary GrandPré</td>\n",
       "      <td>4.287097</td>\n",
       "    </tr>\n",
       "  </tbody>\n",
       "</table>\n",
       "</div>"
      ],
      "text/plain": [
       "                       author  avg_rating\n",
       "0  J.K. Rowling/Mary GrandPré    4.287097"
      ]
     },
     "execution_count": 10,
     "metadata": {},
     "output_type": "execute_result"
    }
   ],
   "source": [
    "author_max_avg = \"\"\"\n",
    "SELECT a.author, AVG(rat.rating) AS avg_rating\n",
    "FROM authors a\n",
    "JOIN books b ON a.author_id = b.author_id\n",
    "JOIN (\n",
    "    SELECT book_id\n",
    "    FROM ratings\n",
    "    GROUP BY book_id\n",
    "    HAVING COUNT(rating) >= 50\n",
    ") AS filtered_books ON b.book_id = filtered_books.book_id\n",
    "JOIN ratings rat ON b.book_id = rat.book_id\n",
    "GROUP BY a.author_id\n",
    "ORDER BY avg_rating DESC\n",
    "LIMIT 1;\n",
    "\"\"\"\n",
    "pd.io.sql.read_sql(author_max_avg, con = engine)\n"
   ]
  },
  {
   "cell_type": "markdown",
   "metadata": {},
   "source": [
    "J.K. Rowling/Mary GrandPré es el nombre del autor con la calificación promedio más alta, solo considerando los libros que tienen al menos 50 calificaciones."
   ]
  },
  {
   "cell_type": "markdown",
   "metadata": {},
   "source": [
    "**5. Encuentra el número promedio de reseñas de texto entre los usuarios que calificaron más de 50 libros.**\n",
    "\n",
    "Queremos saber cuántas reseñas de texto, en promedio, dejan los usuarios que han calificado más de 50 libros. Para esto, necesitamos contar cuántas reseñas de texto tiene cada usuario, pero solo para aquellos que han calificado más de 50 libros."
   ]
  },
  {
   "cell_type": "code",
   "execution_count": 11,
   "metadata": {},
   "outputs": [
    {
     "data": {
      "text/html": [
       "<div>\n",
       "<style scoped>\n",
       "    .dataframe tbody tr th:only-of-type {\n",
       "        vertical-align: middle;\n",
       "    }\n",
       "\n",
       "    .dataframe tbody tr th {\n",
       "        vertical-align: top;\n",
       "    }\n",
       "\n",
       "    .dataframe thead th {\n",
       "        text-align: right;\n",
       "    }\n",
       "</style>\n",
       "<table border=\"1\" class=\"dataframe\">\n",
       "  <thead>\n",
       "    <tr style=\"text-align: right;\">\n",
       "      <th></th>\n",
       "      <th>avg_reviews_per_user</th>\n",
       "    </tr>\n",
       "  </thead>\n",
       "  <tbody>\n",
       "    <tr>\n",
       "      <th>0</th>\n",
       "      <td>166.679487</td>\n",
       "    </tr>\n",
       "  </tbody>\n",
       "</table>\n",
       "</div>"
      ],
      "text/plain": [
       "   avg_reviews_per_user\n",
       "0            166.679487"
      ]
     },
     "execution_count": 11,
     "metadata": {},
     "output_type": "execute_result"
    }
   ],
   "source": [
    "reseñas_avg = \"\"\"\n",
    "SELECT AVG(user_reviews.num_reviews) AS avg_reviews_per_user\n",
    "FROM (\n",
    "    SELECT r.username, COUNT(r.review_id) AS num_reviews\n",
    "    FROM reviews r\n",
    "    JOIN ratings rat ON r.book_id = rat.book_id\n",
    "    GROUP BY r.username\n",
    "    HAVING COUNT(rat.book_id) > 50\n",
    ") AS user_reviews;\n",
    "\"\"\"\n",
    "pd.io.sql.read_sql(reseñas_avg, con = engine)\n"
   ]
  },
  {
   "cell_type": "raw",
   "metadata": {},
   "source": [
    "El número promedio de reseñas de texto dejadas por los usuarios que han calificado más de 50 libros es de 166.67 unidades."
   ]
  }
 ],
 "metadata": {
  "ExecuteTimeLog": [
   {
    "duration": 9,
    "start_time": "2024-11-05T02:52:31.540Z"
   },
   {
    "duration": 5,
    "start_time": "2024-11-05T02:53:43.899Z"
   },
   {
    "duration": 324,
    "start_time": "2024-11-05T02:57:28.886Z"
   },
   {
    "duration": 3,
    "start_time": "2024-11-05T02:57:35.145Z"
   },
   {
    "duration": 3,
    "start_time": "2024-11-05T02:58:01.774Z"
   },
   {
    "duration": 24,
    "start_time": "2024-11-05T02:58:37.117Z"
   },
   {
    "duration": 2,
    "start_time": "2024-11-05T02:58:52.844Z"
   },
   {
    "duration": 3,
    "start_time": "2024-11-05T02:59:07.255Z"
   },
   {
    "duration": 182,
    "start_time": "2024-11-05T02:59:23.366Z"
   },
   {
    "duration": 4,
    "start_time": "2024-11-05T02:59:53.409Z"
   },
   {
    "duration": 12,
    "start_time": "2024-11-05T02:59:55.329Z"
   },
   {
    "duration": 366,
    "start_time": "2024-11-05T03:05:34.949Z"
   },
   {
    "duration": 2824,
    "start_time": "2024-11-05T03:10:04.357Z"
   },
   {
    "duration": 381,
    "start_time": "2024-11-05T23:03:58.785Z"
   },
   {
    "duration": 3195,
    "start_time": "2024-11-05T23:03:59.168Z"
   },
   {
    "duration": 5,
    "start_time": "2024-11-05T23:04:02.365Z"
   },
   {
    "duration": 1115,
    "start_time": "2024-11-05T23:05:08.838Z"
   },
   {
    "duration": 5,
    "start_time": "2024-11-05T23:11:47.340Z"
   },
   {
    "duration": 831,
    "start_time": "2024-11-05T23:12:12.121Z"
   },
   {
    "duration": 1119,
    "start_time": "2024-11-05T23:17:03.201Z"
   },
   {
    "duration": 831,
    "start_time": "2024-11-05T23:21:43.671Z"
   },
   {
    "duration": 834,
    "start_time": "2024-11-05T23:25:08.179Z"
   },
   {
    "duration": 839,
    "start_time": "2024-11-05T23:28:23.317Z"
   },
   {
    "duration": 833,
    "start_time": "2024-11-05T23:49:07.648Z"
   },
   {
    "duration": 830,
    "start_time": "2024-11-05T23:50:10.743Z"
   },
   {
    "duration": 831,
    "start_time": "2024-11-05T23:50:45.878Z"
   },
   {
    "duration": 831,
    "start_time": "2024-11-05T23:51:15.097Z"
   },
   {
    "duration": 833,
    "start_time": "2024-11-05T23:51:45.210Z"
   },
   {
    "duration": 375,
    "start_time": "2024-11-05T23:52:48.217Z"
   },
   {
    "duration": 2827,
    "start_time": "2024-11-05T23:52:48.594Z"
   },
   {
    "duration": 808,
    "start_time": "2024-11-05T23:52:51.422Z"
   },
   {
    "duration": 808,
    "start_time": "2024-11-05T23:52:52.233Z"
   },
   {
    "duration": 809,
    "start_time": "2024-11-05T23:52:53.043Z"
   },
   {
    "duration": 810,
    "start_time": "2024-11-05T23:52:53.854Z"
   },
   {
    "duration": 808,
    "start_time": "2024-11-05T23:52:54.666Z"
   },
   {
    "duration": 1089,
    "start_time": "2024-11-05T23:52:55.476Z"
   },
   {
    "duration": 810,
    "start_time": "2024-11-05T23:52:56.566Z"
   },
   {
    "duration": 812,
    "start_time": "2024-11-05T23:52:57.380Z"
   },
   {
    "duration": 816,
    "start_time": "2024-11-05T23:52:58.194Z"
   },
   {
    "duration": 482,
    "start_time": "2024-11-06T02:49:06.482Z"
   },
   {
    "duration": 2618,
    "start_time": "2024-11-06T02:49:06.967Z"
   },
   {
    "duration": 746,
    "start_time": "2024-11-06T02:49:09.587Z"
   },
   {
    "duration": 745,
    "start_time": "2024-11-06T02:49:10.335Z"
   },
   {
    "duration": 745,
    "start_time": "2024-11-06T02:49:11.083Z"
   },
   {
    "duration": 746,
    "start_time": "2024-11-06T02:49:11.831Z"
   },
   {
    "duration": 744,
    "start_time": "2024-11-06T02:49:12.579Z"
   },
   {
    "duration": 1004,
    "start_time": "2024-11-06T02:49:13.325Z"
   },
   {
    "duration": 746,
    "start_time": "2024-11-06T02:49:14.331Z"
   },
   {
    "duration": 748,
    "start_time": "2024-11-06T02:49:15.079Z"
   },
   {
    "duration": 752,
    "start_time": "2024-11-06T02:49:15.829Z"
   },
   {
    "duration": 389,
    "start_time": "2024-11-06T03:11:58.343Z"
   },
   {
    "duration": 2645,
    "start_time": "2024-11-06T03:11:58.734Z"
   },
   {
    "duration": 753,
    "start_time": "2024-11-06T03:12:01.381Z"
   },
   {
    "duration": 752,
    "start_time": "2024-11-06T03:12:02.136Z"
   },
   {
    "duration": 754,
    "start_time": "2024-11-06T03:12:02.890Z"
   },
   {
    "duration": 755,
    "start_time": "2024-11-06T03:12:03.645Z"
   },
   {
    "duration": 753,
    "start_time": "2024-11-06T03:12:04.401Z"
   },
   {
    "duration": 1016,
    "start_time": "2024-11-06T03:12:05.156Z"
   },
   {
    "duration": 755,
    "start_time": "2024-11-06T03:12:06.174Z"
   },
   {
    "duration": 756,
    "start_time": "2024-11-06T03:12:06.931Z"
   },
   {
    "duration": 761,
    "start_time": "2024-11-06T03:12:07.689Z"
   },
   {
    "duration": 757,
    "start_time": "2024-11-06T03:15:11.587Z"
   },
   {
    "duration": 4,
    "start_time": "2024-11-06T03:16:39.046Z"
   },
   {
    "duration": 2691,
    "start_time": "2024-11-06T03:16:39.052Z"
   },
   {
    "duration": 769,
    "start_time": "2024-11-06T03:16:41.744Z"
   },
   {
    "duration": 769,
    "start_time": "2024-11-06T03:16:42.515Z"
   },
   {
    "duration": 768,
    "start_time": "2024-11-06T03:16:43.286Z"
   },
   {
    "duration": 768,
    "start_time": "2024-11-06T03:16:44.056Z"
   },
   {
    "duration": 767,
    "start_time": "2024-11-06T03:16:44.826Z"
   },
   {
    "duration": 1034,
    "start_time": "2024-11-06T03:16:45.595Z"
   },
   {
    "duration": 768,
    "start_time": "2024-11-06T03:16:46.631Z"
   },
   {
    "duration": 772,
    "start_time": "2024-11-06T03:16:47.402Z"
   },
   {
    "duration": 777,
    "start_time": "2024-11-06T03:16:48.175Z"
   },
   {
    "duration": 374,
    "start_time": "2024-12-11T14:15:12.265Z"
   },
   {
    "duration": 2680,
    "start_time": "2024-12-11T14:15:12.641Z"
   },
   {
    "duration": 760,
    "start_time": "2024-12-11T14:15:15.323Z"
   },
   {
    "duration": 760,
    "start_time": "2024-12-11T14:15:16.085Z"
   },
   {
    "duration": 762,
    "start_time": "2024-12-11T14:15:16.846Z"
   },
   {
    "duration": 761,
    "start_time": "2024-12-11T14:15:17.609Z"
   },
   {
    "duration": 761,
    "start_time": "2024-12-11T14:15:18.373Z"
   },
   {
    "duration": 1024,
    "start_time": "2024-12-11T14:15:19.136Z"
   },
   {
    "duration": 763,
    "start_time": "2024-12-11T14:15:20.164Z"
   },
   {
    "duration": 764,
    "start_time": "2024-12-11T14:15:20.929Z"
   },
   {
    "duration": 770,
    "start_time": "2024-12-11T14:15:21.695Z"
   }
  ],
  "kernelspec": {
   "display_name": "Python 3 (ipykernel)",
   "language": "python",
   "name": "python3"
  },
  "language_info": {
   "codemirror_mode": {
    "name": "ipython",
    "version": 3
   },
   "file_extension": ".py",
   "mimetype": "text/x-python",
   "name": "python",
   "nbconvert_exporter": "python",
   "pygments_lexer": "ipython3",
   "version": "3.9.19"
  },
  "toc": {
   "base_numbering": 1,
   "nav_menu": {},
   "number_sections": true,
   "sideBar": true,
   "skip_h1_title": true,
   "title_cell": "Table of Contents",
   "title_sidebar": "Contents",
   "toc_cell": false,
   "toc_position": {},
   "toc_section_display": true,
   "toc_window_display": false
  }
 },
 "nbformat": 4,
 "nbformat_minor": 2
}
